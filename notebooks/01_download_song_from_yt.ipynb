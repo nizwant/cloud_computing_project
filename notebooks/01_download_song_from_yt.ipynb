{
 "cells": [
  {
   "cell_type": "markdown",
   "metadata": {},
   "source": [
    "# Installing package and FFMPEG"
   ]
  },
  {
   "cell_type": "markdown",
   "metadata": {},
   "source": [
    "After research I came to the conclusion that yt-dlp is the best tool to download videos from YouTube. What we are interested is just audio, and the package supports it. The following code tries to download the audio from the video and saves it as a .mp3 file."
   ]
  },
  {
   "cell_type": "code",
   "execution_count": 1,
   "metadata": {},
   "outputs": [],
   "source": [
    "!python3 -m venv ../venv_cloud"
   ]
  },
  {
   "cell_type": "code",
   "execution_count": 2,
   "metadata": {},
   "outputs": [],
   "source": [
    "!source ../venv_cloud/bin/activate"
   ]
  },
  {
   "cell_type": "code",
   "execution_count": null,
   "metadata": {},
   "outputs": [
    {
     "name": "stderr",
     "output_type": "stream",
     "text": [
      "nie znaleziono Python; uruchom bez argument�w, aby zainstalowa\n"
     ]
    }
   ],
   "source": [
    "# !python3 -m pip install -U \"yt-dlp[default]\""
   ]
  },
  {
   "cell_type": "code",
   "execution_count": 2,
   "metadata": {},
   "outputs": [
    {
     "name": "stdout",
     "output_type": "stream",
     "text": [
      "Collecting yt-dlp[default]\n",
      "  Downloading yt_dlp-2025.3.31-py3-none-any.whl (3.2 MB)\n",
      "     ---------------------------------------- 0.0/3.2 MB ? eta -:--:--\n",
      "     - -------------------------------------- 0.1/3.2 MB 3.0 MB/s eta 0:00:02\n",
      "     ------ --------------------------------- 0.5/3.2 MB 6.4 MB/s eta 0:00:01\n",
      "     ------------- -------------------------- 1.1/3.2 MB 8.9 MB/s eta 0:00:01\n",
      "     -------------------------------- ------- 2.6/3.2 MB 15.1 MB/s eta 0:00:01\n",
      "     ---------------------------------------- 3.2/3.2 MB 15.8 MB/s eta 0:00:00\n",
      "Collecting requests<3,>=2.32.2\n",
      "  Downloading requests-2.32.3-py3-none-any.whl (64 kB)\n",
      "     ---------------------------------------- 0.0/64.9 kB ? eta -:--:--\n",
      "     ---------------------------------------- 64.9/64.9 kB ? eta 0:00:00\n",
      "Collecting pycryptodomex\n",
      "  Downloading pycryptodomex-3.22.0-cp37-abi3-win_amd64.whl (1.8 MB)\n",
      "     ---------------------------------------- 0.0/1.8 MB ? eta -:--:--\n",
      "     -------------------------------- ------- 1.4/1.8 MB 30.5 MB/s eta 0:00:01\n",
      "     ---------------------------------------- 1.8/1.8 MB 28.4 MB/s eta 0:00:00\n",
      "Collecting websockets>=13.0\n",
      "  Downloading websockets-15.0.1-cp39-cp39-win_amd64.whl (176 kB)\n",
      "     ---------------------------------------- 0.0/176.8 kB ? eta -:--:--\n",
      "     ------------------------------------- 176.8/176.8 kB 11.1 MB/s eta 0:00:00\n",
      "Collecting urllib3<3,>=1.26.17\n",
      "  Downloading urllib3-2.4.0-py3-none-any.whl (128 kB)\n",
      "     ---------------------------------------- 0.0/128.7 kB ? eta -:--:--\n",
      "     -------------------------------------- 128.7/128.7 kB 7.4 MB/s eta 0:00:00\n",
      "Requirement already satisfied: certifi in c:\\anaconda\\lib\\site-packages (from yt-dlp[default]) (2023.7.22)\n",
      "Collecting mutagen\n",
      "  Downloading mutagen-1.47.0-py3-none-any.whl (194 kB)\n",
      "     ---------------------------------------- 0.0/194.4 kB ? eta -:--:--\n",
      "     ---------------------------------------- 194.4/194.4 kB ? eta 0:00:00\n",
      "Collecting brotli\n",
      "  Downloading Brotli-1.1.0-cp39-cp39-win_amd64.whl (357 kB)\n",
      "     ---------------------------------------- 0.0/357.3 kB ? eta -:--:--\n",
      "     ------------------------------------- 357.3/357.3 kB 21.7 MB/s eta 0:00:00\n",
      "Requirement already satisfied: idna<4,>=2.5 in c:\\anaconda\\lib\\site-packages (from requests<3,>=2.32.2->yt-dlp[default]) (3.4)\n",
      "Requirement already satisfied: charset-normalizer<4,>=2 in c:\\anaconda\\lib\\site-packages (from requests<3,>=2.32.2->yt-dlp[default]) (2.0.4)\n",
      "Installing collected packages: brotli, yt-dlp, websockets, urllib3, pycryptodomex, mutagen, requests\n",
      "  Attempting uninstall: websockets\n",
      "    Found existing installation: websockets 12.0\n",
      "    Uninstalling websockets-12.0:\n",
      "      Successfully uninstalled websockets-12.0\n",
      "  Attempting uninstall: urllib3\n",
      "    Found existing installation: urllib3 1.26.14\n",
      "    Uninstalling urllib3-1.26.14:\n",
      "      Successfully uninstalled urllib3-1.26.14\n",
      "  Attempting uninstall: requests\n",
      "    Found existing installation: requests 2.28.1\n",
      "    Uninstalling requests-2.28.1:\n",
      "      Successfully uninstalled requests-2.28.1\n",
      "Successfully installed brotli-1.1.0 mutagen-1.47.0 pycryptodomex-3.22.0 requests-2.32.3 urllib3-2.4.0 websockets-15.0.1 yt-dlp-2025.3.31\n"
     ]
    },
    {
     "name": "stderr",
     "output_type": "stream",
     "text": [
      "ERROR: pip's dependency resolver does not currently take into account all the packages that are installed. This behaviour is the source of the following dependency conflicts.\n",
      "ydata-profiling 4.1.0 requires pydantic<1.11,>=1.8.1, but you have pydantic 2.4.2 which is incompatible.\n",
      "ydata-profiling 4.1.0 requires requests<2.29,>=2.24.0, but you have requests 2.32.3 which is incompatible.\n",
      "ydata-profiling 4.1.0 requires tqdm<4.65,>=4.48.2, but you have tqdm 4.66.1 which is incompatible.\n",
      "botocore 1.27.59 requires urllib3<1.27,>=1.25.4, but you have urllib3 2.4.0 which is incompatible.\n"
     ]
    }
   ],
   "source": [
    "!pip install yt-dlp[default]"
   ]
  },
  {
   "cell_type": "code",
   "execution_count": null,
   "metadata": {},
   "outputs": [],
   "source": [
    "# !brew install ffmpeg # macOS\n",
    "# !sudo apt update && sudo apt install ffmpeg # Ubuntu\n",
    "# Windows users can download ffmpeg from https://ffmpeg.org/download.html and add it to PATH)"
   ]
  },
  {
   "cell_type": "markdown",
   "metadata": {},
   "source": [
    "# Downloading"
   ]
  },
  {
   "cell_type": "code",
   "execution_count": 1,
   "metadata": {},
   "outputs": [],
   "source": [
    "import pandas as pd\n",
    "import yt_dlp"
   ]
  },
  {
   "cell_type": "code",
   "execution_count": null,
   "metadata": {},
   "outputs": [],
   "source": [
    "ydl_opts = {\n",
    "    \"format\": \"m4a/bestaudio/best\",\n",
    "    \"outtmpl\": \"../songs/%(title)s.%(ext)s\",\n",
    "    \"postprocessors\": [\n",
    "        {  # Extract audio using ffmpeg\n",
    "            \"key\": \"FFmpegExtractAudio\",\n",
    "            \"preferredcodec\": \"wav\",\n",
    "        }\n",
    "    ],\n",
    "}\n",
    "\n",
    "with yt_dlp.YoutubeDL(ydl_opts) as ydl:\n",
    "    error_code = ydl.download(URLS)"
   ]
  },
  {
   "cell_type": "markdown",
   "metadata": {},
   "source": [
    "It's working\n",
    "\n",
    "Now I will manually specify selected songs and download them"
   ]
  },
  {
   "cell_type": "code",
   "execution_count": 6,
   "metadata": {},
   "outputs": [],
   "source": [
    "songs_dict = {\n",
    "    \"Delicate\": \"https://www.youtube.com/watch?v=tCXGJQYZ9JA\",\n",
    "    \"Mirrorball\": \"https://www.youtube.com/watch?v=KaM1bCuG4xo\",\n",
    "    \"I did something bad\": \"https://www.youtube.com/watch?v=xYLxUJ9v6KU\",\n",
    "    \"Karma\": \"https://www.youtube.com/watch?v=pzVYSfzNQ5Y\",\n",
    "    \"Gangnam Style\": \"https://www.youtube.com/watch?v=9bZkp7q19f0\",\n",
    "}"
   ]
  },
  {
   "cell_type": "code",
   "execution_count": 7,
   "metadata": {},
   "outputs": [
    {
     "data": {
      "text/plain": [
       "['https://www.youtube.com/watch?v=tCXGJQYZ9JA',\n",
       " 'https://www.youtube.com/watch?v=KaM1bCuG4xo',\n",
       " 'https://www.youtube.com/watch?v=xYLxUJ9v6KU',\n",
       " 'https://www.youtube.com/watch?v=pzVYSfzNQ5Y',\n",
       " 'https://www.youtube.com/watch?v=9bZkp7q19f0']"
      ]
     },
     "execution_count": 7,
     "metadata": {},
     "output_type": "execute_result"
    }
   ],
   "source": [
    "list(songs_dict.values())"
   ]
  },
  {
   "cell_type": "code",
   "execution_count": 8,
   "metadata": {},
   "outputs": [
    {
     "name": "stdout",
     "output_type": "stream",
     "text": [
      "[youtube] Extracting URL: https://www.youtube.com/watch?v=tCXGJQYZ9JA\n",
      "[youtube] tCXGJQYZ9JA: Downloading webpage\n",
      "[youtube] tCXGJQYZ9JA: Downloading tv client config\n",
      "[youtube] tCXGJQYZ9JA: Downloading player 6b3caec8\n",
      "[youtube] tCXGJQYZ9JA: Downloading tv player API JSON\n",
      "[youtube] tCXGJQYZ9JA: Downloading ios player API JSON\n",
      "[youtube] tCXGJQYZ9JA: Downloading m3u8 information\n",
      "[info] tCXGJQYZ9JA: Downloading 1 format(s): 140\n",
      "[download] Destination: ../songs/Taylor Swift - Delicate.m4a\n",
      "[download] 100% of    3.63MiB in 00:00:00 at 9.94MiB/s   \n",
      "[FixupM4a] Correcting container of \"../songs/Taylor Swift - Delicate.m4a\"\n",
      "[ExtractAudio] Destination: ../songs/Taylor Swift - Delicate.wav\n",
      "Deleting original file ../songs/Taylor Swift - Delicate.m4a (pass -k to keep)\n",
      "[youtube] Extracting URL: https://www.youtube.com/watch?v=KaM1bCuG4xo\n",
      "[youtube] KaM1bCuG4xo: Downloading webpage\n",
      "[youtube] KaM1bCuG4xo: Downloading tv client config\n",
      "[youtube] KaM1bCuG4xo: Downloading tv player API JSON\n",
      "[youtube] KaM1bCuG4xo: Downloading ios player API JSON\n",
      "[youtube] KaM1bCuG4xo: Downloading m3u8 information\n",
      "[info] KaM1bCuG4xo: Downloading 1 format(s): 140\n",
      "[download] Destination: ../songs/Taylor Swift – mirrorball (Official Lyric Video).m4a\n",
      "[download] 100% of    3.24MiB in 00:00:00 at 9.32MiB/s     \n",
      "[FixupM4a] Correcting container of \"../songs/Taylor Swift – mirrorball (Official Lyric Video).m4a\"\n",
      "[ExtractAudio] Destination: ../songs/Taylor Swift – mirrorball (Official Lyric Video).wav\n",
      "Deleting original file ../songs/Taylor Swift – mirrorball (Official Lyric Video).m4a (pass -k to keep)\n",
      "[youtube] Extracting URL: https://www.youtube.com/watch?v=xYLxUJ9v6KU\n",
      "[youtube] xYLxUJ9v6KU: Downloading webpage\n",
      "[youtube] xYLxUJ9v6KU: Downloading tv client config\n",
      "[youtube] xYLxUJ9v6KU: Downloading tv player API JSON\n",
      "[youtube] xYLxUJ9v6KU: Downloading ios player API JSON\n",
      "[youtube] xYLxUJ9v6KU: Downloading m3u8 information\n",
      "[info] xYLxUJ9v6KU: Downloading 1 format(s): 140\n",
      "[download] Destination: ../songs/I Did Something Bad.m4a\n",
      "[download] 100% of    3.68MiB in 00:00:00 at 22.37MiB/s  \n",
      "[FixupM4a] Correcting container of \"../songs/I Did Something Bad.m4a\"\n",
      "[ExtractAudio] Destination: ../songs/I Did Something Bad.wav\n",
      "Deleting original file ../songs/I Did Something Bad.m4a (pass -k to keep)\n",
      "[youtube] Extracting URL: https://www.youtube.com/watch?v=pzVYSfzNQ5Y\n",
      "[youtube] pzVYSfzNQ5Y: Downloading webpage\n",
      "[youtube] pzVYSfzNQ5Y: Downloading tv client config\n",
      "[youtube] pzVYSfzNQ5Y: Downloading tv player API JSON\n",
      "[youtube] pzVYSfzNQ5Y: Downloading ios player API JSON\n",
      "[youtube] pzVYSfzNQ5Y: Downloading m3u8 information\n",
      "[info] pzVYSfzNQ5Y: Downloading 1 format(s): 140\n",
      "[download] Destination: ../songs/Karma.m4a\n",
      "[download] 100% of    3.16MiB in 00:00:00 at 16.02MiB/s    \n",
      "[FixupM4a] Correcting container of \"../songs/Karma.m4a\"\n",
      "[ExtractAudio] Destination: ../songs/Karma.wav\n",
      "Deleting original file ../songs/Karma.m4a (pass -k to keep)\n",
      "[youtube] Extracting URL: https://www.youtube.com/watch?v=9bZkp7q19f0\n",
      "[youtube] 9bZkp7q19f0: Downloading webpage\n",
      "[youtube] 9bZkp7q19f0: Downloading tv client config\n",
      "[youtube] 9bZkp7q19f0: Downloading tv player API JSON\n",
      "[youtube] 9bZkp7q19f0: Downloading ios player API JSON\n",
      "[youtube] 9bZkp7q19f0: Downloading m3u8 information\n",
      "[info] 9bZkp7q19f0: Downloading 1 format(s): 140\n",
      "[download] Destination: ../songs/PSY - GANGNAM STYLE(강남스타일) M⧸V.m4a\n",
      "[download] 100% of    3.89MiB in 00:00:00 at 13.62MiB/s  \n",
      "[FixupM4a] Correcting container of \"../songs/PSY - GANGNAM STYLE(강남스타일) M⧸V.m4a\"\n",
      "[ExtractAudio] Destination: ../songs/PSY - GANGNAM STYLE(강남스타일) M⧸V.wav\n",
      "Deleting original file ../songs/PSY - GANGNAM STYLE(강남스타일) M⧸V.m4a (pass -k to keep)\n"
     ]
    }
   ],
   "source": [
    "with yt_dlp.YoutubeDL(ydl_opts) as ydl:\n",
    "    error_code = ydl.download(list(songs_dict.values()))"
   ]
  },
  {
   "cell_type": "markdown",
   "metadata": {},
   "source": [
    "Transforming to wav doesn't make any sense since files are in m4a format anyway, and we are not chasing highest quality, we will reduce quality anyway, also **quiet** flag can be used in yt_dlp. "
   ]
  },
  {
   "cell_type": "code",
   "execution_count": 9,
   "metadata": {},
   "outputs": [],
   "source": [
    "ydl_opts = {\n",
    "    \"format\": \"m4a/bestaudio/best\",\n",
    "    \"outtmpl\": \"../songs/%(title)s.%(ext)s\",\n",
    "    \"quiet\": True,\n",
    "    \"postprocessors\": [\n",
    "        {  # Extract audio using ffmpeg\n",
    "            \"key\": \"FFmpegExtractAudio\",\n",
    "            \"preferredcodec\": \"m4a\",\n",
    "        }\n",
    "    ],\n",
    "}"
   ]
  },
  {
   "cell_type": "code",
   "execution_count": 10,
   "metadata": {},
   "outputs": [
    {
     "name": "stdout",
     "output_type": "stream",
     "text": [
      "                                                           \r"
     ]
    }
   ],
   "source": [
    "with yt_dlp.YoutubeDL(ydl_opts) as ydl:\n",
    "    error_code = ydl.download(list(songs_dict.values()))"
   ]
  },
  {
   "cell_type": "markdown",
   "metadata": {},
   "source": [
    "Difference in file size is quite massive 201MB vs 18MB so over 10x decrease. I guess we will stick for now with m4a"
   ]
  },
  {
   "cell_type": "markdown",
   "metadata": {},
   "source": [
    "This way we will download songs and process them, there is just problem of getting links and metadata."
   ]
  },
  {
   "cell_type": "markdown",
   "metadata": {},
   "source": [
    "## Testing download with given CSV"
   ]
  },
  {
   "cell_type": "code",
   "execution_count": 2,
   "metadata": {},
   "outputs": [
    {
     "data": {
      "text/html": [
       "<div>\n",
       "<style scoped>\n",
       "    .dataframe tbody tr th:only-of-type {\n",
       "        vertical-align: middle;\n",
       "    }\n",
       "\n",
       "    .dataframe tbody tr th {\n",
       "        vertical-align: top;\n",
       "    }\n",
       "\n",
       "    .dataframe thead th {\n",
       "        text-align: right;\n",
       "    }\n",
       "</style>\n",
       "<table border=\"1\" class=\"dataframe\">\n",
       "  <thead>\n",
       "    <tr style=\"text-align: right;\">\n",
       "      <th></th>\n",
       "      <th>Unnamed: 0</th>\n",
       "      <th>title</th>\n",
       "      <th>artist</th>\n",
       "      <th>youtube_title</th>\n",
       "      <th>youtube_url</th>\n",
       "    </tr>\n",
       "  </thead>\n",
       "  <tbody>\n",
       "    <tr>\n",
       "      <th>0</th>\n",
       "      <td>Bohemian Rhapsody - Queen</td>\n",
       "      <td>Bohemian Rhapsody</td>\n",
       "      <td>Queen</td>\n",
       "      <td>Queen – Bohemian Rhapsody (Official Video Rema...</td>\n",
       "      <td>https://www.youtube.com/watch?v=fJ9rUzIMcZQ</td>\n",
       "    </tr>\n",
       "    <tr>\n",
       "      <th>1</th>\n",
       "      <td>Billie Jean - Michael Jackson</td>\n",
       "      <td>Billie Jean</td>\n",
       "      <td>Michael Jackson</td>\n",
       "      <td>Michael Jackson - Billie Jean (Official Video)</td>\n",
       "      <td>https://www.youtube.com/watch?v=Zi_XLOBDo_Y</td>\n",
       "    </tr>\n",
       "    <tr>\n",
       "      <th>2</th>\n",
       "      <td>Hotel California - Eagles</td>\n",
       "      <td>Hotel California</td>\n",
       "      <td>Eagles</td>\n",
       "      <td>Eagles - Hotel California (Live 1977) (Officia...</td>\n",
       "      <td>https://www.youtube.com/watch?v=09839DpTctU</td>\n",
       "    </tr>\n",
       "  </tbody>\n",
       "</table>\n",
       "</div>"
      ],
      "text/plain": [
       "                      Unnamed: 0              title           artist  \\\n",
       "0      Bohemian Rhapsody - Queen  Bohemian Rhapsody            Queen   \n",
       "1  Billie Jean - Michael Jackson        Billie Jean  Michael Jackson   \n",
       "2      Hotel California - Eagles   Hotel California           Eagles   \n",
       "\n",
       "                                       youtube_title  \\\n",
       "0  Queen – Bohemian Rhapsody (Official Video Rema...   \n",
       "1     Michael Jackson - Billie Jean (Official Video)   \n",
       "2  Eagles - Hotel California (Live 1977) (Officia...   \n",
       "\n",
       "                                   youtube_url  \n",
       "0  https://www.youtube.com/watch?v=fJ9rUzIMcZQ  \n",
       "1  https://www.youtube.com/watch?v=Zi_XLOBDo_Y  \n",
       "2  https://www.youtube.com/watch?v=09839DpTctU  "
      ]
     },
     "metadata": {},
     "output_type": "display_data"
    },
    {
     "name": "stdout",
     "output_type": "stream",
     "text": [
      "['https://www.youtube.com/watch?v=fJ9rUzIMcZQ', 'https://www.youtube.com/watch?v=Zi_XLOBDo_Y', 'https://www.youtube.com/watch?v=09839DpTctU']\n"
     ]
    }
   ],
   "source": [
    "# URLS = [\"https://www.youtube.com/watch?v=4B7KuoiMhzs\"]\n",
    "\n",
    "df_urls = pd.read_csv(\"new_songs_youtube_urls.csv\")\n",
    "display(df_urls)\n",
    "URLS = df_urls[\"youtube_url\"].tolist()\n",
    "print(URLS)"
   ]
  },
  {
   "cell_type": "code",
   "execution_count": 3,
   "metadata": {},
   "outputs": [
    {
     "name": "stdout",
     "output_type": "stream",
     "text": [
      "                                                           \r"
     ]
    }
   ],
   "source": [
    "ydl_opts = {\n",
    "    \"format\": \"m4a/bestaudio/best\",\n",
    "    \"outtmpl\": \"../songs/%(title)s.%(ext)s\",\n",
    "    \"quiet\": True,\n",
    "    \"postprocessors\": [\n",
    "        {  # Extract audio using ffmpeg\n",
    "            \"key\": \"FFmpegExtractAudio\",\n",
    "            \"preferredcodec\": \"m4a\",\n",
    "        }\n",
    "    ],\n",
    "}\n",
    "\n",
    "with yt_dlp.YoutubeDL(ydl_opts) as ydl:\n",
    "    error_code = ydl.download(URLS)"
   ]
  }
 ],
 "metadata": {
  "kernelspec": {
   "display_name": "base",
   "language": "python",
   "name": "python3"
  },
  "language_info": {
   "codemirror_mode": {
    "name": "ipython",
    "version": 3
   },
   "file_extension": ".py",
   "mimetype": "text/x-python",
   "name": "python",
   "nbconvert_exporter": "python",
   "pygments_lexer": "ipython3",
   "version": "3.9.15"
  }
 },
 "nbformat": 4,
 "nbformat_minor": 2
}
