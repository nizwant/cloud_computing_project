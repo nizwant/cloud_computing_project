{
 "cells": [
  {
   "cell_type": "code",
   "execution_count": null,
   "id": "3c547566",
   "metadata": {},
   "outputs": [],
   "source": [
    "import pandas as pd\n",
    "\n",
    "import sys\n",
    "\n",
    "sys.path.append(\"./..\")\n",
    "from src.utils.get_youtube_url_official import find_urls_for_songs"
   ]
  },
  {
   "cell_type": "code",
   "execution_count": null,
   "id": "7287f92d",
   "metadata": {},
   "outputs": [],
   "source": [
    "def get_uri_for_curated(number_of_songs=4):\n",
    "    df = pd.read_csv(\"../data/top_songs_curated.csv\")\n",
    "    df_missing = df[df[\"youtube_title\"].isna()]\n",
    "\n",
    "    df_missing_n = df_missing.head(number_of_songs)\n",
    "\n",
    "    songs = (\n",
    "        df_missing_n[[\"Track Name\", \"Artist Name(s)\"]]\n",
    "        .rename(columns={\"Track Name\": \"title\", \"Artist Name(s)\": \"artist\"})\n",
    "        .to_dict(orient=\"records\")\n",
    "    )\n",
    "\n",
    "    results = find_urls_for_songs(songs)\n",
    "    results = pd.DataFrame.from_dict(results, orient=\"index\")\n",
    "    results = results[results[\"youtube_title\"] != \"Not found\"]\n",
    "\n",
    "    merged_df = df.merge(\n",
    "        results,\n",
    "        how=\"left\",\n",
    "        left_on=[\"Track Name\", \"Artist Name(s)\"],\n",
    "        right_on=[\"title\", \"artist\"],\n",
    "        suffixes=(\"\", \"_drop\"),\n",
    "    )\n",
    "\n",
    "    merged_df[\"youtube_title\"] = merged_df[\"youtube_title\"].combine_first(\n",
    "        merged_df[\"youtube_title_drop\"]\n",
    "    )\n",
    "    merged_df[\"youtube_url\"] = merged_df[\"youtube_url\"].combine_first(\n",
    "        merged_df[\"youtube_url_drop\"]\n",
    "    )\n",
    "    merged_df = merged_df.drop(\n",
    "        columns=[\"title\", \"artist\", \"youtube_title_drop\", \"youtube_url_drop\"]\n",
    "    )\n",
    "\n",
    "    merged_df = merged_df.sort_values([\"Artist Name(s)\", \"Track Name\"])\n",
    "    merged_df.to_csv(\"../data/top_songs_curated.csv\", index=False)"
   ]
  },
  {
   "cell_type": "code",
   "execution_count": null,
   "id": "b58f9a47",
   "metadata": {},
   "outputs": [],
   "source": [
    "get_uri_for_curated(number_of_songs=99)"
   ]
  }
 ],
 "metadata": {
  "language_info": {
   "name": "python"
  }
 },
 "nbformat": 4,
 "nbformat_minor": 5
}
