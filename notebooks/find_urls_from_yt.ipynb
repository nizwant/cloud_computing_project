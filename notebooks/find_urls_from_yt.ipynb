{
    "cells": [
        {
            "cell_type": "markdown",
            "metadata": {},
            "source": [
                "# YouTube Song URL Finder\n",
                "\n",
                "This notebook uses the YouTube Data API to find video URLs for songs when given the title and artist name."
            ]
        },
        {
            "cell_type": "code",
            "execution_count": 2,
            "metadata": {},
            "outputs": [
                {
                    "name": "stdout",
                    "output_type": "stream",
                    "text": [
                        "Requirement already satisfied: google-api-python-client in c:\\anaconda\\lib\\site-packages (2.168.0)\n",
                        "Requirement already satisfied: python-dotenv in c:\\anaconda\\lib\\site-packages (1.0.0)\n",
                        "Requirement already satisfied: uritemplate<5,>=3.0.1 in c:\\anaconda\\lib\\site-packages (from google-api-python-client) (4.1.1)\n",
                        "Requirement already satisfied: google-api-core!=2.0.*,!=2.1.*,!=2.2.*,!=2.3.0,<3.0.0,>=1.31.5 in c:\\anaconda\\lib\\site-packages (from google-api-python-client) (2.24.2)\n",
                        "Requirement already satisfied: google-auth-httplib2<1.0.0,>=0.2.0 in c:\\anaconda\\lib\\site-packages (from google-api-python-client) (0.2.0)\n",
                        "Requirement already satisfied: httplib2<1.0.0,>=0.19.0 in c:\\anaconda\\lib\\site-packages (from google-api-python-client) (0.22.0)\n",
                        "Requirement already satisfied: google-auth!=2.24.0,!=2.25.0,<3.0.0,>=1.32.0 in c:\\anaconda\\lib\\site-packages (from google-api-python-client) (2.39.0)\n",
                        "Requirement already satisfied: proto-plus<2.0.0,>=1.22.3 in c:\\anaconda\\lib\\site-packages (from google-api-core!=2.0.*,!=2.1.*,!=2.2.*,!=2.3.0,<3.0.0,>=1.31.5->google-api-python-client) (1.26.1)\n",
                        "Requirement already satisfied: requests<3.0.0,>=2.18.0 in c:\\anaconda\\lib\\site-packages (from google-api-core!=2.0.*,!=2.1.*,!=2.2.*,!=2.3.0,<3.0.0,>=1.31.5->google-api-python-client) (2.32.3)\n",
                        "Requirement already satisfied: protobuf!=3.20.0,!=3.20.1,!=4.21.0,!=4.21.1,!=4.21.2,!=4.21.3,!=4.21.4,!=4.21.5,<7.0.0,>=3.19.5 in c:\\anaconda\\lib\\site-packages (from google-api-core!=2.0.*,!=2.1.*,!=2.2.*,!=2.3.0,<3.0.0,>=1.31.5->google-api-python-client) (3.20.3)\n",
                        "Requirement already satisfied: googleapis-common-protos<2.0.0,>=1.56.2 in c:\\anaconda\\lib\\site-packages (from google-api-core!=2.0.*,!=2.1.*,!=2.2.*,!=2.3.0,<3.0.0,>=1.31.5->google-api-python-client) (1.70.0)\n",
                        "Requirement already satisfied: pyasn1-modules>=0.2.1 in c:\\anaconda\\lib\\site-packages (from google-auth!=2.24.0,!=2.25.0,<3.0.0,>=1.32.0->google-api-python-client) (0.2.8)\n",
                        "Requirement already satisfied: rsa<5,>=3.1.4 in c:\\anaconda\\lib\\site-packages (from google-auth!=2.24.0,!=2.25.0,<3.0.0,>=1.32.0->google-api-python-client) (4.9.1)\n",
                        "Requirement already satisfied: cachetools<6.0,>=2.0.0 in c:\\anaconda\\lib\\site-packages (from google-auth!=2.24.0,!=2.25.0,<3.0.0,>=1.32.0->google-api-python-client) (5.2.0)\n",
                        "Requirement already satisfied: pyparsing!=3.0.0,!=3.0.1,!=3.0.2,!=3.0.3,<4,>=2.4.2 in c:\\anaconda\\lib\\site-packages (from httplib2<1.0.0,>=0.19.0->google-api-python-client) (3.0.9)\n",
                        "Requirement already satisfied: pyasn1<0.5.0,>=0.4.6 in c:\\anaconda\\lib\\site-packages (from pyasn1-modules>=0.2.1->google-auth!=2.24.0,!=2.25.0,<3.0.0,>=1.32.0->google-api-python-client) (0.4.8)\n",
                        "Requirement already satisfied: charset-normalizer<4,>=2 in c:\\anaconda\\lib\\site-packages (from requests<3.0.0,>=2.18.0->google-api-core!=2.0.*,!=2.1.*,!=2.2.*,!=2.3.0,<3.0.0,>=1.31.5->google-api-python-client) (2.0.4)\n",
                        "Requirement already satisfied: idna<4,>=2.5 in c:\\anaconda\\lib\\site-packages (from requests<3.0.0,>=2.18.0->google-api-core!=2.0.*,!=2.1.*,!=2.2.*,!=2.3.0,<3.0.0,>=1.31.5->google-api-python-client) (3.4)\n",
                        "Requirement already satisfied: certifi>=2017.4.17 in c:\\anaconda\\lib\\site-packages (from requests<3.0.0,>=2.18.0->google-api-core!=2.0.*,!=2.1.*,!=2.2.*,!=2.3.0,<3.0.0,>=1.31.5->google-api-python-client) (2023.7.22)\n",
                        "Requirement already satisfied: urllib3<3,>=1.21.1 in c:\\anaconda\\lib\\site-packages (from requests<3.0.0,>=2.18.0->google-api-core!=2.0.*,!=2.1.*,!=2.2.*,!=2.3.0,<3.0.0,>=1.31.5->google-api-python-client) (2.4.0)\n"
                    ]
                }
            ],
            "source": [
                "# Install required packages\n",
                "!pip install google-api-python-client python-dotenv"
            ]
        },
        {
            "cell_type": "code",
            "execution_count": 1,
            "metadata": {},
            "outputs": [],
            "source": [
                "import os\n",
                "from dotenv import load_dotenv\n",
                "from googleapiclient.discovery import build\n",
                "from googleapiclient.errors import HttpError"
            ]
        },
        {
            "cell_type": "code",
            "execution_count": 2,
            "metadata": {},
            "outputs": [
                {
                    "name": "stdout",
                    "output_type": "stream",
                    "text": [
                        "API key loaded successfully!\n"
                    ]
                }
            ],
            "source": [
                "# Load environment variables from .env file\n",
                "load_dotenv()\n",
                "\n",
                "# Get API key from environment variables\n",
                "API_KEY = os.getenv(\"YOUTUBE_API_KEY\")\n",
                "\n",
                "# Verify API key is loaded\n",
                "if not API_KEY:\n",
                "    print(\"WARNING: API_KEY not found in environment variables!\")\n",
                "    print(\"Please create a .env file with your YOUTUBE_API_KEY=your_key_here\")\n",
                "else:\n",
                "    print(\"API key loaded successfully!\")\n",
                "\n",
                "# Create YouTube API client\n",
                "youtube = build('youtube', 'v3', developerKey=API_KEY)"
            ]
        },
        {
            "cell_type": "code",
            "execution_count": 4,
            "metadata": {},
            "outputs": [],
            "source": [
                "def find_song_url(title, artist, max_results=5):\n",
                "    \"\"\"\n",
                "    Search for a song on YouTube and return the top video URLs.\n",
                "    \n",
                "    Args:\n",
                "        title (str): The song title\n",
                "        artist (str): The artist name\n",
                "        max_results (int): Maximum number of results to return\n",
                "        \n",
                "    Returns:\n",
                "        list: List of dictionaries containing video titles and URLs\n",
                "    \"\"\"\n",
                "    try:\n",
                "        # Create the search query\n",
                "        query = f\"{title} {artist} official\"\n",
                "        \n",
                "        # Call the search.list method to retrieve results\n",
                "        search_response = youtube.search().list(\n",
                "            q=query,\n",
                "            part=\"id,snippet\",\n",
                "            maxResults=max_results,\n",
                "            type=\"video\"\n",
                "        ).execute()\n",
                "        \n",
                "        # Collect the results\n",
                "        videos = []\n",
                "        for search_result in search_response.get(\"items\", []):\n",
                "            if search_result[\"id\"][\"kind\"] == \"youtube#video\":\n",
                "                video_id = search_result[\"id\"][\"videoId\"]\n",
                "                video_title = search_result[\"snippet\"][\"title\"]\n",
                "                video_url = f\"https://www.youtube.com/watch?v={video_id}\"\n",
                "                \n",
                "                videos.append({\n",
                "                    \"title\": video_title,\n",
                "                    \"url\": video_url\n",
                "                })\n",
                "        \n",
                "        return videos\n",
                "    \n",
                "    except HttpError as e:\n",
                "        print(f\"An HTTP error {e.resp.status} occurred:\\n{e.content}\")\n",
                "        return []\n",
                "    except Exception as e:\n",
                "        print(f\"An error occurred: {e}\")\n",
                "        return []"
            ]
        },
        {
            "cell_type": "code",
            "execution_count": 5,
            "metadata": {},
            "outputs": [
                {
                    "name": "stdout",
                    "output_type": "stream",
                    "text": [
                        "Results for 'Bohemian Rhapsody' by Queen:\n",
                        "\n",
                        "1. Queen – Bohemian Rhapsody (Official Video Remastered)\n",
                        "   URL: https://www.youtube.com/watch?v=fJ9rUzIMcZQ\n",
                        "\n",
                        "2. Queen - Bohemian Rhapsody (Official Lyric Video)\n",
                        "   URL: https://www.youtube.com/watch?v=jFKBR1ggTMY\n",
                        "\n",
                        "3. Queen – Bohemian Rhapsody (Lyrics)\n",
                        "   URL: https://www.youtube.com/watch?v=yk3prd8GER4\n",
                        "\n",
                        "4. Queen - Bohemian Rhapsody [Chief Mouse Restoration]\n",
                        "   URL: https://www.youtube.com/watch?v=p1oPAupjFtk\n",
                        "\n",
                        "5. Bohemian Rhapsody (Live Aid)\n",
                        "   URL: https://www.youtube.com/watch?v=yvQYV520tS8\n",
                        "\n"
                    ]
                }
            ],
            "source": [
                "# Example usage\n",
                "song_title = \"Bohemian Rhapsody\"\n",
                "artist_name = \"Queen\"\n",
                "\n",
                "results = find_song_url(song_title, artist_name)\n",
                "\n",
                "print(f\"Results for '{song_title}' by {artist_name}:\\n\")\n",
                "for i, video in enumerate(results, 1):\n",
                "    print(f\"{i}. {video['title']}\")\n",
                "    print(f\"   URL: {video['url']}\\n\")"
            ]
        },
        {
            "cell_type": "markdown",
            "metadata": {},
            "source": [
                "## Create a function to search for multiple songs"
            ]
        },
        {
            "cell_type": "code",
            "execution_count": 6,
            "metadata": {},
            "outputs": [],
            "source": [
                "def find_urls_for_songs(songs_list):\n",
                "    \"\"\"\n",
                "    Find YouTube URLs for a list of songs.\n",
                "    \n",
                "    Args:\n",
                "        songs_list (list): List of dictionaries with 'title' and 'artist' keys\n",
                "        \n",
                "    Returns:\n",
                "        dict: Dictionary with song info and top YouTube URL\n",
                "    \"\"\"\n",
                "    results = {}\n",
                "    \n",
                "    for song in songs_list:\n",
                "        title = song['title']\n",
                "        artist = song['artist']\n",
                "        \n",
                "        print(f\"Searching for '{title}' by {artist}...\")\n",
                "        videos = find_song_url(title, artist, max_results=1)\n",
                "        \n",
                "        key = f\"{title} - {artist}\"\n",
                "        if videos:\n",
                "            results[key] = {\n",
                "                'title': title,\n",
                "                'artist': artist,\n",
                "                'youtube_title': videos[0]['title'],\n",
                "                'youtube_url': videos[0]['url']\n",
                "            }\n",
                "        else:\n",
                "            results[key] = {\n",
                "                'title': title,\n",
                "                'artist': artist,\n",
                "                'youtube_title': 'Not found',\n",
                "                'youtube_url': 'Not found'\n",
                "            }\n",
                "    \n",
                "    return results"
            ]
        },
        {
            "cell_type": "code",
            "execution_count": 7,
            "metadata": {},
            "outputs": [
                {
                    "name": "stdout",
                    "output_type": "stream",
                    "text": [
                        "Searching for 'Bohemian Rhapsody' by Queen...\n",
                        "Searching for 'Billie Jean' by Michael Jackson...\n",
                        "Searching for 'Hotel California' by Eagles...\n"
                    ]
                },
                {
                    "data": {
                        "text/html": [
                            "<div>\n",
                            "<style scoped>\n",
                            "    .dataframe tbody tr th:only-of-type {\n",
                            "        vertical-align: middle;\n",
                            "    }\n",
                            "\n",
                            "    .dataframe tbody tr th {\n",
                            "        vertical-align: top;\n",
                            "    }\n",
                            "\n",
                            "    .dataframe thead th {\n",
                            "        text-align: right;\n",
                            "    }\n",
                            "</style>\n",
                            "<table border=\"1\" class=\"dataframe\">\n",
                            "  <thead>\n",
                            "    <tr style=\"text-align: right;\">\n",
                            "      <th></th>\n",
                            "      <th>title</th>\n",
                            "      <th>artist</th>\n",
                            "      <th>youtube_title</th>\n",
                            "      <th>youtube_url</th>\n",
                            "    </tr>\n",
                            "  </thead>\n",
                            "  <tbody>\n",
                            "    <tr>\n",
                            "      <th>Bohemian Rhapsody - Queen</th>\n",
                            "      <td>Bohemian Rhapsody</td>\n",
                            "      <td>Queen</td>\n",
                            "      <td>Queen – Bohemian Rhapsody (Official Video Rema...</td>\n",
                            "      <td>https://www.youtube.com/watch?v=fJ9rUzIMcZQ</td>\n",
                            "    </tr>\n",
                            "    <tr>\n",
                            "      <th>Billie Jean - Michael Jackson</th>\n",
                            "      <td>Billie Jean</td>\n",
                            "      <td>Michael Jackson</td>\n",
                            "      <td>Michael Jackson - Billie Jean (Official Video)</td>\n",
                            "      <td>https://www.youtube.com/watch?v=Zi_XLOBDo_Y</td>\n",
                            "    </tr>\n",
                            "    <tr>\n",
                            "      <th>Hotel California - Eagles</th>\n",
                            "      <td>Hotel California</td>\n",
                            "      <td>Eagles</td>\n",
                            "      <td>Eagles - Hotel California (Live 1977) (Officia...</td>\n",
                            "      <td>https://www.youtube.com/watch?v=09839DpTctU</td>\n",
                            "    </tr>\n",
                            "  </tbody>\n",
                            "</table>\n",
                            "</div>"
                        ],
                        "text/plain": [
                            "                                           title           artist  \\\n",
                            "Bohemian Rhapsody - Queen      Bohemian Rhapsody            Queen   \n",
                            "Billie Jean - Michael Jackson        Billie Jean  Michael Jackson   \n",
                            "Hotel California - Eagles       Hotel California           Eagles   \n",
                            "\n",
                            "                                                                   youtube_title  \\\n",
                            "Bohemian Rhapsody - Queen      Queen – Bohemian Rhapsody (Official Video Rema...   \n",
                            "Billie Jean - Michael Jackson     Michael Jackson - Billie Jean (Official Video)   \n",
                            "Hotel California - Eagles      Eagles - Hotel California (Live 1977) (Officia...   \n",
                            "\n",
                            "                                                               youtube_url  \n",
                            "Bohemian Rhapsody - Queen      https://www.youtube.com/watch?v=fJ9rUzIMcZQ  \n",
                            "Billie Jean - Michael Jackson  https://www.youtube.com/watch?v=Zi_XLOBDo_Y  \n",
                            "Hotel California - Eagles      https://www.youtube.com/watch?v=09839DpTctU  "
                        ]
                    },
                    "execution_count": 7,
                    "metadata": {},
                    "output_type": "execute_result"
                }
            ],
            "source": [
                "# Example with multiple songs\n",
                "songs = [\n",
                "    {'title': 'Bohemian Rhapsody', 'artist': 'Queen'},\n",
                "    {'title': 'Billie Jean', 'artist': 'Michael Jackson'},\n",
                "    {'title': 'Hotel California', 'artist': 'Eagles'}\n",
                "]\n",
                "\n",
                "all_results = find_urls_for_songs(songs)\n",
                "\n",
                "# Display results in a more structured way\n",
                "import pandas as pd\n",
                "\n",
                "df = pd.DataFrame.from_dict(all_results, orient='index')\n",
                "df"
            ]
        },
        {
            "cell_type": "markdown",
            "metadata": {},
            "source": [
                "## Save results to a file"
            ]
        },
        {
            "cell_type": "code",
            "execution_count": 10,
            "metadata": {},
            "outputs": [
                {
                    "name": "stdout",
                    "output_type": "stream",
                    "text": [
                        "Results saved to 'song_youtube_urls.csv'\n"
                    ]
                }
            ],
            "source": [
                "# Save results to CSV\n",
                "df.to_csv('new_songs_youtube_urls.csv')\n",
                "print(\"Results saved to 'song_youtube_urls.csv'\")"
            ]
        }
    ],
    "metadata": {
        "kernelspec": {
            "display_name": "base",
            "language": "python",
            "name": "python3"
        },
        "language_info": {
            "codemirror_mode": {
                "name": "ipython",
                "version": 3
            },
            "file_extension": ".py",
            "mimetype": "text/x-python",
            "name": "python",
            "nbconvert_exporter": "python",
            "pygments_lexer": "ipython3",
            "version": "3.9.15"
        }
    },
    "nbformat": 4,
    "nbformat_minor": 4
}
