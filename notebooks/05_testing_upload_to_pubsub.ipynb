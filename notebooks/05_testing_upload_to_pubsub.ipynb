{
 "cells": [
  {
   "cell_type": "code",
   "execution_count": 6,
   "id": "de2a8250",
   "metadata": {},
   "outputs": [],
   "source": [
    "# ! pip install google-cloud-pubsub"
   ]
  },
  {
   "cell_type": "code",
   "execution_count": 9,
   "id": "f22f128a",
   "metadata": {},
   "outputs": [
    {
     "name": "stdout",
     "output_type": "stream",
     "text": [
      "Published message to projects/cloud-computing-project-458205/topics/queen-songs-to-process\n"
     ]
    }
   ],
   "source": [
    "from google.cloud import pubsub_v1\n",
    "import os\n",
    "\n",
    "\n",
    "def publish_message(topic_name=\"queen-songs-to-process\", message=\"Hello, Pub/Sub!\"):\n",
    "    \"\"\"Publishes a message to a Pub/Sub topic.\"\"\"\n",
    "    # topic_name = \"your-topic-name\"\n",
    "    # message = \"Your message to publish\"\n",
    "\n",
    "    project_id = \"cloud-computing-project-458205\"\n",
    "    publisher = pubsub_v1.PublisherClient()\n",
    "    topic_path = publisher.topic_path(project_id, topic_name)\n",
    "\n",
    "    # Data must be a bytestring\n",
    "    data = message.encode(\"utf-8\")\n",
    "    future = publisher.publish(topic_path, data=data)\n",
    "    print(f\"Published message to {topic_path}\")\n",
    "    # Block until the publish finishes.\n",
    "    future.result()\n",
    "\n",
    "\n",
    "if __name__ == \"__main__\":\n",
    "    publish_message()"
   ]
  },
  {
   "cell_type": "code",
   "execution_count": null,
   "id": "cee258cb",
   "metadata": {},
   "outputs": [
    {
     "name": "stdout",
     "output_type": "stream",
     "text": [
      "Published message to projects/cloud-computing-project-458205/topics/queen-songs-to-process\n"
     ]
    }
   ],
   "source": [
    "publish_message()"
   ]
  },
  {
   "cell_type": "code",
   "execution_count": 11,
   "id": "1acba988",
   "metadata": {},
   "outputs": [
    {
     "name": "stdout",
     "output_type": "stream",
     "text": [
      "Published message to projects/cloud-computing-project-458205/topics/queen-songs-to-process\n"
     ]
    }
   ],
   "source": [
    "publish_message(message=\"test1\")"
   ]
  },
  {
   "cell_type": "code",
   "execution_count": 12,
   "id": "50ffe433",
   "metadata": {},
   "outputs": [
    {
     "name": "stdout",
     "output_type": "stream",
     "text": [
      "Published message to projects/cloud-computing-project-458205/topics/queen-songs-to-process\n",
      "Published message to projects/cloud-computing-project-458205/topics/queen-songs-to-process\n"
     ]
    }
   ],
   "source": [
    "publish_message(message=\"test2\")\n",
    "publish_message(message=\"test3\")"
   ]
  },
  {
   "cell_type": "code",
   "execution_count": null,
   "id": "6accf0a1",
   "metadata": {},
   "outputs": [],
   "source": []
  }
 ],
 "metadata": {
  "kernelspec": {
   "display_name": "asseco",
   "language": "python",
   "name": "python3"
  },
  "language_info": {
   "codemirror_mode": {
    "name": "ipython",
    "version": 3
   },
   "file_extension": ".py",
   "mimetype": "text/x-python",
   "name": "python",
   "nbconvert_exporter": "python",
   "pygments_lexer": "ipython3",
   "version": "3.10.14"
  }
 },
 "nbformat": 4,
 "nbformat_minor": 5
}
