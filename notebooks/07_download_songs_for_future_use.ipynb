{
 "cells": [
  {
   "cell_type": "markdown",
   "id": "07e5af46",
   "metadata": {},
   "source": [
    "In this notebook I will create code that I will run daily in order to have in db as much songs as possible before the final submission of project"
   ]
  },
  {
   "cell_type": "markdown",
   "id": "ac25f691",
   "metadata": {},
   "source": []
  }
 ],
 "metadata": {
  "language_info": {
   "name": "python"
  }
 },
 "nbformat": 4,
 "nbformat_minor": 5
}
