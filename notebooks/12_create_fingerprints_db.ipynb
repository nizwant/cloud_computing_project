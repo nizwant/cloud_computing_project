{
 "cells": [
  {
   "cell_type": "code",
   "id": "initial_id",
   "metadata": {
    "collapsed": true,
    "ExecuteTime": {
     "end_time": "2025-05-27T01:53:37.260125Z",
     "start_time": "2025-05-27T01:53:37.246277Z"
    }
   },
   "source": [
    "import csv\n",
    "import psycopg2\n",
    "from psycopg2 import sql\n",
    "from datetime import datetime\n",
    "import logging\n",
    "import os\n",
    "from dotenv import load_dotenv"
   ],
   "outputs": [],
   "execution_count": 1
  },
  {
   "metadata": {
    "ExecuteTime": {
     "end_time": "2025-05-27T01:53:37.768360Z",
     "start_time": "2025-05-27T01:53:37.598672Z"
    }
   },
   "cell_type": "code",
   "source": [
    "from google.cloud import secretmanager\n",
    "def get_secret(secret_id, project_id):\n",
    "    client = secretmanager.SecretManagerServiceClient()\n",
    "    name = f\"projects/{project_id}/secrets/{secret_id}/versions/latest\"\n",
    "    response = client.access_secret_version(request={\"name\": name})\n",
    "    return response.payload.data.decode(\"utf-8\")"
   ],
   "id": "136acadb1517d759",
   "outputs": [],
   "execution_count": 2
  },
  {
   "metadata": {
    "ExecuteTime": {
     "end_time": "2025-05-27T01:53:41.669082Z",
     "start_time": "2025-05-27T01:53:38.220105Z"
    }
   },
   "cell_type": "code",
   "source": [
    "PROJECT_ID = \"cloud-computing-project-458205\"\n",
    "load_dotenv()\n",
    "DB_NAME = os.getenv(\"DB_NAME\", \"database-instance\")\n",
    "DB_USER = get_secret(\"DB_USER\", PROJECT_ID).replace(\"\\n\", \"\")\n",
    "DB_PASSWORD = get_secret(\"DB_PASSWORD\", PROJECT_ID).replace(\"\\n\", \"\")\n",
    "DB_HOST = get_secret(\"DB_HOST\", PROJECT_ID).replace(\"\\n\", \"\")\n",
    "DB_PORT = os.getenv(\"DB_PORT\", \"5432\")"
   ],
   "id": "11a07abeb5e8e83d",
   "outputs": [],
   "execution_count": 3
  },
  {
   "metadata": {
    "ExecuteTime": {
     "end_time": "2025-05-27T01:53:42.308705Z",
     "start_time": "2025-05-27T01:53:41.670143Z"
    }
   },
   "cell_type": "code",
   "source": [
    "from psycopg2.extras import DictCursor\n",
    "conn = psycopg2.connect(\n",
    "            dbname=DB_NAME,\n",
    "            user=DB_USER,\n",
    "            password=DB_PASSWORD,\n",
    "            host=DB_HOST,\n",
    "            port=DB_PORT,\n",
    "            cursor_factory=DictCursor,  # Use DictCursor to access columns by name\n",
    "        )\n",
    "conn"
   ],
   "id": "25c059314e1b0204",
   "outputs": [
    {
     "data": {
      "text/plain": [
       "<connection object at 0x7a0029f2efc0; dsn: 'user=app-engine-user password=xxx dbname=database-instance host=34.140.62.43 port=5432', closed: 0>"
      ]
     },
     "execution_count": 4,
     "metadata": {},
     "output_type": "execute_result"
    }
   ],
   "execution_count": 4
  },
  {
   "metadata": {
    "ExecuteTime": {
     "end_time": "2025-05-26T22:59:51.556226Z",
     "start_time": "2025-05-26T22:59:51.553924Z"
    }
   },
   "cell_type": "code",
   "source": [
    "create_table_query = \"\"\"\n",
    "    DROP TABLE IF EXISTS fingerprints;\n",
    "    CREATE TABLE fingerprints (\n",
    "        fingerprint_id SERIAL PRIMARY KEY,\n",
    "        song_id INTEGER NOT NULL REFERENCES tracks(track_id) ON DELETE CASCADE,\n",
    "        hash TEXT NOT NULL,\n",
    "        timestamp FLOAT NOT NULL,\n",
    "        created_at TIMESTAMP WITH TIME ZONE DEFAULT CURRENT_TIMESTAMP,\n",
    "        UNIQUE (song_id, hash, timestamp)\n",
    "    );\n",
    "    CREATE INDEX idx_fingerprints_hash ON fingerprints(hash);\n",
    "    \"\"\""
   ],
   "id": "4a682f9969a51bd4",
   "outputs": [],
   "execution_count": 27
  },
  {
   "metadata": {
    "ExecuteTime": {
     "end_time": "2025-05-26T23:00:25.616290Z",
     "start_time": "2025-05-26T23:00:25.357297Z"
    }
   },
   "cell_type": "code",
   "source": [
    "with conn.cursor() as cursor:\n",
    "    cursor.execute(create_table_query)\n",
    "    conn.commit()\n",
    "    print(\"Fingerprints table created successfully.\")"
   ],
   "id": "424670067047ab58",
   "outputs": [
    {
     "name": "stdout",
     "output_type": "stream",
     "text": [
      "Fingerprints table created successfully.\n"
     ]
    }
   ],
   "execution_count": 28
  },
  {
   "metadata": {
    "ExecuteTime": {
     "end_time": "2025-05-27T01:53:48.787849Z",
     "start_time": "2025-05-27T01:53:42.309606Z"
    }
   },
   "cell_type": "code",
   "source": [
    "from src.abracadabra.GCPFingerprintDB import GCPFingerprintDB\n",
    "\n",
    "db = GCPFingerprintDB()\n",
    "db.show_table()"
   ],
   "id": "3bafb94404f81c28",
   "outputs": [
    {
     "name": "stdout",
     "output_type": "stream",
     "text": [
      "(1, 'In Da Club')\n",
      "(2, 'In Da Club - Single Version / Edit')\n",
      "(3, 'Just A Lil Bit')\n",
      "(4, 'P.I.M.P.')\n",
      "(5, 'Window Shopper')\n",
      "(6, 'Back In Black')\n",
      "(7, 'Dirty Deeds Done Dirt Cheap')\n",
      "(8, 'Heatseeker')\n",
      "(9, 'High Voltage')\n",
      "(10, 'Highway to Hell')\n",
      "(11, \"It's a Long Way to the Top (If You Wanna Rock 'N' Roll)\")\n",
      "(12, 'Jailbreak')\n",
      "(13, \"Rock and Roll Ain't Noise Pollution\")\n",
      "(14, 'Shoot to Thrill')\n",
      "(15, 'T.N.T.')\n",
      "(16, 'Thunderstruck')\n",
      "(17, 'Who Made Who')\n",
      "(18, 'You Shook Me All Night Long')\n",
      "(19, 'Chasing Pavements')\n",
      "(20, \"Don't You Remember\")\n",
      "(21, 'Easy On Me')\n",
      "(22, \"He Won't Go\")\n",
      "(23, 'Hello')\n",
      "(24, 'Love In The Dark')\n",
      "(25, 'Make You Feel My Love')\n",
      "(26, 'Million Years Ago')\n",
      "(27, 'One and Only')\n",
      "(28, 'Remedy')\n",
      "(29, 'Rolling in the Deep')\n",
      "(30, 'Rumour Has It')\n",
      "(31, 'Send My Love (To Your New Lover)')\n",
      "(32, 'Set Fire to the Rain')\n",
      "(33, 'Skyfall')\n",
      "(34, 'Someone Like You')\n",
      "(35, 'Sweetest Devotion')\n",
      "(36, 'Take It All')\n",
      "(37, 'Turning Tables')\n",
      "(38, 'Water Under The Bridge')\n",
      "(39, 'When We Were Young')\n",
      "(40, 'Alone')\n",
      "(41, 'Faded')\n",
      "(42, 'Brand New Me')\n",
      "(43, \"Doesn't Mean Anything\")\n",
      "(44, 'Empire State of Mind (Part II) Broken Down')\n",
      "(45, \"Fallin'\")\n",
      "(46, 'Girl On Fire')\n",
      "(47, 'Hallelujah')\n",
      "(48, 'Holy War')\n",
      "(49, \"If I Ain't Got You\")\n",
      "(50, 'More Than We Know')\n",
      "(51, 'No One')\n",
      "(52, 'One Thing')\n",
      "(53, 'Superwoman')\n",
      "(54, 'Tears Always Win')\n",
      "(55, 'Work On It')\n",
      "(56, 'No More \"I Love You\\'s\"')\n",
      "(57, 'Arabella')\n",
      "(58, 'Do I Wanna Know?')\n",
      "(59, 'I Bet You Look Good On The Dancefloor')\n",
      "(60, \"Why'd You Only Call Me When You're High?\")\n",
      "(61, 'Addicted To You')\n",
      "(62, 'Broken Arrows')\n",
      "(63, 'Fade Into Darkness - Vocal Radio Mix')\n",
      "(64, 'For A Better Day')\n",
      "(65, 'Heaven')\n",
      "(66, 'Hey Brother')\n",
      "(67, 'Levels - Radio Edit')\n",
      "(68, 'Silhouettes - Original Radio Edit')\n",
      "(69, 'The Nights')\n",
      "(70, 'Waiting For Love')\n",
      "(71, 'Wake Me Up')\n",
      "(72, 'Wake Me Up - Radio Edit')\n",
      "(73, 'You Make Me')\n",
      "(74, 'Butter')\n",
      "(75, 'Dynamite')\n",
      "(76, 'BREAK MY SOUL')\n",
      "(77, 'Best Thing I Never Had')\n",
      "(78, 'Broken-Hearted Girl')\n",
      "(79, 'Halo')\n",
      "(80, 'Hold Up')\n",
      "(81, 'If I Were a Boy')\n",
      "(82, 'Irreplaceable')\n",
      "(83, 'Love On Top')\n",
      "(84, 'Naughty Girl')\n",
      "(85, 'Run the World (Girls)')\n",
      "(86, 'Single Ladies (Put a Ring on It)')\n",
      "(87, 'Sweet Dreams')\n",
      "(88, 'XO')\n",
      "(89, 'Lost Cause')\n",
      "(90, 'NDA')\n",
      "(91, 'Therefore I Am')\n",
      "(92, 'Your Power')\n",
      "(93, 'all the good girls go to hell')\n"
     ]
    }
   ],
   "execution_count": 5
  },
  {
   "metadata": {
    "ExecuteTime": {
     "end_time": "2025-05-27T01:53:30.782117Z",
     "start_time": "2025-05-27T01:37:16.351295Z"
    }
   },
   "cell_type": "code",
   "source": [
    "from src.abracadabra.recognize import index_all_songs\n",
    "index_all_songs(db_type=\"gcp\")"
   ],
   "id": "7b181fa0e8ee55b7",
   "outputs": [
    {
     "name": "stdout",
     "output_type": "stream",
     "text": [
      "Downloading audio from https://www.youtube.com/watch?v=Urdlvw0SSEc...\n",
      "                                                      \r  Indexed Fallin' (45/1026)\n",
      "Downloading audio from https://www.youtube.com/watch?v=J91ti_MpdHA...\n",
      "                                                      \r  Indexed Girl On Fire (46/1026)\n",
      "Downloading audio from https://www.youtube.com/watch?v=pCiYoBoyUYU...\n",
      "Indexed Hallelujah (47/1026)                            \n",
      "Downloading audio from https://www.youtube.com/watch?v=3NwLTltmkoo...\n",
      "                                                      \r  Indexed Holy War (48/1026)\n",
      "Downloading audio from https://www.youtube.com/watch?v=Ju8Hr50Ckwk...\n",
      "                                                      \r  Indexed If I Ain't Got You (49/1026)\n",
      "Downloading audio from https://www.youtube.com/watch?v=MGSNOzUHVQk...\n",
      "                                                      \r  Indexed More Than We Know (50/1026)\n",
      "Downloading audio from https://www.youtube.com/watch?v=rywUS-ohqeE...\n",
      "                                                      \r  Indexed No One (51/1026)\n",
      "Downloading audio from https://www.youtube.com/watch?v=rywUS-ohqeE...\n"
     ]
    },
    {
     "name": "stderr",
     "output_type": "stream",
     "text": [
      "WARNING: [youtube] rywUS-ohqeE: Some tv client https formats have been skipped as they are DRM protected. The current session may have an experiment that applies DRM to all videos on the tv client. See  https://github.com/yt-dlp/yt-dlp/issues/12563  for more details.\n"
     ]
    },
    {
     "name": "stdout",
     "output_type": "stream",
     "text": [
      "                                                      \r  Indexed One Thing (52/1026)\n",
      "Downloading audio from https://www.youtube.com/watch?v=-AphKUK8twg...\n",
      "                                                      \r  Indexed Superwoman (53/1026)\n",
      "Downloading audio from https://www.youtube.com/watch?v=qI7k0wQZlBA...\n",
      "                                                      \r  Indexed Tears Always Win (54/1026)\n",
      "Downloading audio from https://www.youtube.com/watch?v=Ju8Hr50Ckwk...\n",
      "                                                      \r  Indexed Work On It (55/1026)\n",
      "Downloading audio from https://www.youtube.com/watch?v=NSkboTTTmpg...\n",
      "                                                      \r  Indexed No More \"I Love You's\" (56/1026)\n",
      "Downloading audio from https://www.youtube.com/watch?v=Jn6-TItCazo...\n",
      "                                                      \r  Indexed Arabella (57/1026)\n",
      "Downloading audio from https://www.youtube.com/watch?v=bpOSxM0rNPM...\n",
      "                                                      \r  Indexed Do I Wanna Know? (58/1026)\n",
      "Downloading audio from https://www.youtube.com/watch?v=pK7egZaT3hs...\n",
      "                                                      \r  Indexed I Bet You Look Good On The Dancefloor (59/1026)\n",
      "Downloading audio from https://www.youtube.com/watch?v=6366dxFf-Os...\n",
      "                                                      \r  Indexed Why'd You Only Call Me When You're High? (60/1026)\n",
      "Downloading audio from https://www.youtube.com/watch?v=Qc9c12q3mrc...\n",
      "                                                      \r  Indexed Addicted To You (61/1026)\n",
      "Downloading audio from https://www.youtube.com/watch?v=V6iKSUoUN48...\n",
      "                                                      \r  Indexed Broken Arrows (62/1026)\n",
      "Downloading audio from https://www.youtube.com/watch?v=jPABGSc-81k...\n",
      "                                                      \r  Indexed Fade Into Darkness - Vocal Radio Mix (63/1026)\n",
      "Downloading audio from https://www.youtube.com/watch?v=Xq-knHXSKYY...\n",
      "                                                      \r  Indexed For A Better Day (64/1026)\n",
      "Downloading audio from https://www.youtube.com/watch?v=EY72Qqj7G6M...\n",
      "                                                      \r  Indexed Heaven (65/1026)\n",
      "Downloading audio from https://www.youtube.com/watch?v=6Cp6mKbRTQY...\n",
      "                                                      \r  Indexed Hey Brother (66/1026)\n",
      "Downloading audio from https://www.youtube.com/watch?v=NNC3iNivkEw...\n",
      "                                                      \r  Indexed Levels - Radio Edit (67/1026)\n",
      "Downloading audio from https://www.youtube.com/watch?v=6VJBBUqr1wM...\n",
      "                                                      \r  Indexed Silhouettes - Original Radio Edit (68/1026)\n",
      "Downloading audio from https://www.youtube.com/watch?v=UtF6Jej8yb4...\n",
      "                                                      \r  Indexed The Nights (69/1026)\n",
      "Downloading audio from https://www.youtube.com/watch?v=cHHLHGNpCSA...\n",
      "                                                      \r  Indexed Waiting For Love (70/1026)\n",
      "Downloading audio from https://www.youtube.com/watch?v=IcrbM1l_BoI...\n",
      "                                                      \r  Indexed Wake Me Up (71/1026)\n",
      "Downloading audio from https://www.youtube.com/watch?v=5y_KJAg8bHI...\n",
      "                                                      \r  Indexed Wake Me Up - Radio Edit (72/1026)\n",
      "Downloading audio from https://www.youtube.com/watch?v=2GADx4Hy-Gg...\n",
      "                                                      \r  Indexed You Make Me (73/1026)\n",
      "Downloading audio from https://www.youtube.com/watch?v=WMweEpGlu_U...\n",
      "                                                      \r  Indexed Butter (74/1026)\n",
      "Downloading audio from https://www.youtube.com/watch?v=gdZLi9oWNZg...\n",
      "                                                      \r  Indexed Dynamite (75/1026)\n",
      "Downloading audio from https://www.youtube.com/watch?v=yjki-9Pthh0...\n",
      "                                                      \r  Indexed BREAK MY SOUL (76/1026)\n",
      "Downloading audio from https://www.youtube.com/watch?v=FHp2KgyQUFk...\n",
      "                                                      \r  Indexed Best Thing I Never Had (77/1026)\n",
      "Downloading audio from https://www.youtube.com/watch?v=JXmUYdOVJtc...\n",
      "                                                       \r Indexed Broken-Hearted Girl (78/1026)\n",
      "Downloading audio from https://www.youtube.com/watch?v=bnVUHWCynig...\n",
      "                                                      \r  Indexed Halo (79/1026)\n",
      "Downloading audio from https://www.youtube.com/watch?v=PeonBmeFR8o...\n",
      "                                                      \r  Indexed Hold Up (80/1026)\n",
      "Downloading audio from https://www.youtube.com/watch?v=AWpsOqh8q0M...\n",
      "                                                      \r  Indexed If I Were a Boy (81/1026)\n",
      "Downloading audio from https://www.youtube.com/watch?v=2EwViQxSJJQ...\n",
      "                                                      \r  Indexed Irreplaceable (82/1026)\n",
      "Downloading audio from https://www.youtube.com/watch?v=Ob7vObnFUJc...\n",
      "                                                      \r  Indexed Love On Top (83/1026)\n",
      "Downloading audio from https://www.youtube.com/watch?v=RZuJ_OHBN78...\n",
      "                                                      \r  Indexed Naughty Girl (84/1026)\n",
      "Downloading audio from https://www.youtube.com/watch?v=VBmMU_iwe6U...\n",
      "                                                      \r  Indexed Run the World (Girls) (85/1026)\n",
      "Downloading audio from https://www.youtube.com/watch?v=4m1EFMoRFvY...\n",
      "                                                      \r  Indexed Single Ladies (Put a Ring on It) (86/1026)\n",
      "Downloading audio from https://www.youtube.com/watch?v=JlxByc0-V40...\n",
      "                                                      \r  Indexed Sweet Dreams (87/1026)\n",
      "Downloading audio from https://www.youtube.com/watch?v=3xUfCUFPL-8...\n",
      "                                                      \r  Indexed XO (88/1026)\n",
      "Downloading audio from https://www.youtube.com/watch?v=S2dRcipMCpw...\n",
      "                                                      \r  Indexed Lost Cause (89/1026)\n",
      "Downloading audio from https://www.youtube.com/watch?v=OORBa32WFcM...\n",
      "                                                      \r  Indexed NDA (90/1026)\n",
      "Downloading audio from https://www.youtube.com/watch?v=RUQl6YcMalg...\n",
      "                                                      \r  Indexed Therefore I Am (91/1026)\n",
      "Downloading audio from https://www.youtube.com/watch?v=fzeWc3zh01g...\n",
      "                                                      \r  Indexed Your Power (92/1026)\n",
      "Downloading audio from https://www.youtube.com/watch?v=-PZsSWwc9xA...\n",
      "                                                      \r  Indexed all the good girls go to hell (93/1026)\n",
      "Downloading audio from https://www.youtube.com/watch?v=DyDfgMOUjCI...\n"
     ]
    },
    {
     "ename": "KeyboardInterrupt",
     "evalue": "",
     "output_type": "error",
     "traceback": [
      "\u001B[0;31m---------------------------------------------------------------------------\u001B[0m",
      "\u001B[0;31mKeyboardInterrupt\u001B[0m                         Traceback (most recent call last)",
      "Cell \u001B[0;32mIn[6], line 2\u001B[0m\n\u001B[1;32m      1\u001B[0m \u001B[38;5;28;01mfrom\u001B[39;00m\u001B[38;5;250m \u001B[39m\u001B[38;5;21;01msrc\u001B[39;00m\u001B[38;5;21;01m.\u001B[39;00m\u001B[38;5;21;01mabracadabra\u001B[39;00m\u001B[38;5;21;01m.\u001B[39;00m\u001B[38;5;21;01mrecognize\u001B[39;00m\u001B[38;5;250m \u001B[39m\u001B[38;5;28;01mimport\u001B[39;00m index_all_songs\n\u001B[0;32m----> 2\u001B[0m \u001B[43mindex_all_songs\u001B[49m\u001B[43m(\u001B[49m\u001B[43mdb_type\u001B[49m\u001B[38;5;241;43m=\u001B[39;49m\u001B[38;5;124;43m\"\u001B[39;49m\u001B[38;5;124;43mgcp\u001B[39;49m\u001B[38;5;124;43m\"\u001B[39;49m\u001B[43m)\u001B[49m\n",
      "File \u001B[0;32m/media/marta/Dane/Sem8/cloud_computing_project/src/abracadabra/recognize.py:28\u001B[0m, in \u001B[0;36mindex_all_songs\u001B[0;34m(db_type, song_dir)\u001B[0m\n\u001B[1;32m     26\u001B[0m     n_tracks \u001B[38;5;241m=\u001B[39m \u001B[38;5;28mlen\u001B[39m(tracks)\n\u001B[1;32m     27\u001B[0m     \u001B[38;5;28;01mfor\u001B[39;00m song_id, song_name, youtube_url \u001B[38;5;129;01min\u001B[39;00m tracks:\n\u001B[0;32m---> 28\u001B[0m         \u001B[43mindex_song_file\u001B[49m\u001B[43m(\u001B[49m\u001B[43mdb\u001B[49m\u001B[43m,\u001B[49m\u001B[43m \u001B[49m\u001B[43msong_id\u001B[49m\u001B[43m,\u001B[49m\u001B[43m \u001B[49m\u001B[43myoutube_url\u001B[49m\u001B[43m,\u001B[49m\u001B[43m \u001B[49m\u001B[43msong_name\u001B[49m\u001B[43m)\u001B[49m\n\u001B[1;32m     29\u001B[0m         \u001B[38;5;28mprint\u001B[39m(\u001B[38;5;124mf\u001B[39m\u001B[38;5;124m\"\u001B[39m\u001B[38;5;124mIndexed \u001B[39m\u001B[38;5;132;01m{\u001B[39;00msong_name\u001B[38;5;132;01m}\u001B[39;00m\u001B[38;5;124m (\u001B[39m\u001B[38;5;132;01m{\u001B[39;00msong_id\u001B[38;5;132;01m}\u001B[39;00m\u001B[38;5;124m/\u001B[39m\u001B[38;5;132;01m{\u001B[39;00mn_tracks\u001B[38;5;132;01m}\u001B[39;00m\u001B[38;5;124m)\u001B[39m\u001B[38;5;124m\"\u001B[39m)\n\u001B[1;32m     30\u001B[0m \u001B[38;5;28;01mreturn\u001B[39;00m db\n",
      "File \u001B[0;32m/media/marta/Dane/Sem8/cloud_computing_project/src/abracadabra/recognize.py:12\u001B[0m, in \u001B[0;36mindex_song_file\u001B[0;34m(db, song_id, path, title)\u001B[0m\n\u001B[1;32m     11\u001B[0m \u001B[38;5;28;01mdef\u001B[39;00m\u001B[38;5;250m \u001B[39m\u001B[38;5;21mindex_song_file\u001B[39m(db: AbstractFingerprintDB, song_id: \u001B[38;5;28mint\u001B[39m, path: \u001B[38;5;28mstr\u001B[39m, title: \u001B[38;5;28mstr\u001B[39m) \u001B[38;5;241m-\u001B[39m\u001B[38;5;241m>\u001B[39m \u001B[38;5;28;01mNone\u001B[39;00m:\n\u001B[0;32m---> 12\u001B[0m     audio, sr \u001B[38;5;241m=\u001B[39m \u001B[43mdb\u001B[49m\u001B[38;5;241;43m.\u001B[39;49m\u001B[43mload_audio\u001B[49m\u001B[43m(\u001B[49m\u001B[43mpath\u001B[49m\u001B[43m)\u001B[49m\n\u001B[1;32m     13\u001B[0m     peaks \u001B[38;5;241m=\u001B[39m get_peaks(audio)\n\u001B[1;32m     14\u001B[0m     fingerprints \u001B[38;5;241m=\u001B[39m generate_fingerprints(peaks)\n",
      "File \u001B[0;32m/media/marta/Dane/Sem8/cloud_computing_project/src/abracadabra/GCPFingerprintDB.py:52\u001B[0m, in \u001B[0;36mload_audio\u001B[0;34m(youtube_url, download_dir, sr)\u001B[0m\n\u001B[1;32m     50\u001B[0m \u001B[38;5;28;01mwith\u001B[39;00m yt_dlp\u001B[38;5;241m.\u001B[39mYoutubeDL({\u001B[38;5;124m\"\u001B[39m\u001B[38;5;124mquiet\u001B[39m\u001B[38;5;124m\"\u001B[39m: \u001B[38;5;28;01mTrue\u001B[39;00m}) \u001B[38;5;28;01mas\u001B[39;00m ydl:\n\u001B[1;32m     51\u001B[0m     info \u001B[38;5;241m=\u001B[39m ydl\u001B[38;5;241m.\u001B[39mextract_info(youtube_url, download\u001B[38;5;241m=\u001B[39m\u001B[38;5;28;01mFalse\u001B[39;00m)\n\u001B[0;32m---> 52\u001B[0m     title \u001B[38;5;241m=\u001B[39m info\u001B[38;5;241m.\u001B[39mget(\u001B[38;5;124m\"\u001B[39m\u001B[38;5;124mtitle\u001B[39m\u001B[38;5;124m\"\u001B[39m, \u001B[38;5;124m\"\u001B[39m\u001B[38;5;124munknown\u001B[39m\u001B[38;5;124m\"\u001B[39m)\n\u001B[1;32m     53\u001B[0m     safe_title \u001B[38;5;241m=\u001B[39m sanitize_filename(title)\n\u001B[1;32m     55\u001B[0m output_path \u001B[38;5;241m=\u001B[39m os\u001B[38;5;241m.\u001B[39mpath\u001B[38;5;241m.\u001B[39mjoin(download_dir, \u001B[38;5;124mf\u001B[39m\u001B[38;5;124m\"\u001B[39m\u001B[38;5;132;01m{\u001B[39;00msafe_title\u001B[38;5;132;01m}\u001B[39;00m\u001B[38;5;124m.m4a\u001B[39m\u001B[38;5;124m\"\u001B[39m)\n",
      "File \u001B[0;32m~/.local/lib/python3.10/site-packages/yt_dlp/YoutubeDL.py:1651\u001B[0m, in \u001B[0;36mYoutubeDL.extract_info\u001B[0;34m(self, url, download, ie_key, extra_info, process, force_generic_extractor)\u001B[0m\n\u001B[1;32m   1649\u001B[0m             \u001B[38;5;28;01mraise\u001B[39;00m ExistingVideoReached\n\u001B[1;32m   1650\u001B[0m         \u001B[38;5;28;01mbreak\u001B[39;00m\n\u001B[0;32m-> 1651\u001B[0m     \u001B[38;5;28;01mreturn\u001B[39;00m \u001B[38;5;28;43mself\u001B[39;49m\u001B[38;5;241;43m.\u001B[39;49m\u001B[43m__extract_info\u001B[49m\u001B[43m(\u001B[49m\u001B[43murl\u001B[49m\u001B[43m,\u001B[49m\u001B[43m \u001B[49m\u001B[38;5;28;43mself\u001B[39;49m\u001B[38;5;241;43m.\u001B[39;49m\u001B[43mget_info_extractor\u001B[49m\u001B[43m(\u001B[49m\u001B[43mkey\u001B[49m\u001B[43m)\u001B[49m\u001B[43m,\u001B[49m\u001B[43m \u001B[49m\u001B[43mdownload\u001B[49m\u001B[43m,\u001B[49m\u001B[43m \u001B[49m\u001B[43mextra_info\u001B[49m\u001B[43m,\u001B[49m\u001B[43m \u001B[49m\u001B[43mprocess\u001B[49m\u001B[43m)\u001B[49m\n\u001B[1;32m   1652\u001B[0m \u001B[38;5;28;01melse\u001B[39;00m:\n\u001B[1;32m   1653\u001B[0m     extractors_restricted \u001B[38;5;241m=\u001B[39m \u001B[38;5;28mself\u001B[39m\u001B[38;5;241m.\u001B[39mparams\u001B[38;5;241m.\u001B[39mget(\u001B[38;5;124m'\u001B[39m\u001B[38;5;124mallowed_extractors\u001B[39m\u001B[38;5;124m'\u001B[39m) \u001B[38;5;129;01mnot\u001B[39;00m \u001B[38;5;129;01min\u001B[39;00m (\u001B[38;5;28;01mNone\u001B[39;00m, [\u001B[38;5;124m'\u001B[39m\u001B[38;5;124mdefault\u001B[39m\u001B[38;5;124m'\u001B[39m])\n",
      "File \u001B[0;32m~/.local/lib/python3.10/site-packages/yt_dlp/YoutubeDL.py:1662\u001B[0m, in \u001B[0;36mYoutubeDL._handle_extraction_exceptions.<locals>.wrapper\u001B[0;34m(self, *args, **kwargs)\u001B[0m\n\u001B[1;32m   1660\u001B[0m \u001B[38;5;28;01mwhile\u001B[39;00m \u001B[38;5;28;01mTrue\u001B[39;00m:\n\u001B[1;32m   1661\u001B[0m     \u001B[38;5;28;01mtry\u001B[39;00m:\n\u001B[0;32m-> 1662\u001B[0m         \u001B[38;5;28;01mreturn\u001B[39;00m \u001B[43mfunc\u001B[49m\u001B[43m(\u001B[49m\u001B[38;5;28;43mself\u001B[39;49m\u001B[43m,\u001B[49m\u001B[43m \u001B[49m\u001B[38;5;241;43m*\u001B[39;49m\u001B[43margs\u001B[49m\u001B[43m,\u001B[49m\u001B[43m \u001B[49m\u001B[38;5;241;43m*\u001B[39;49m\u001B[38;5;241;43m*\u001B[39;49m\u001B[43mkwargs\u001B[49m\u001B[43m)\u001B[49m\n\u001B[1;32m   1663\u001B[0m     \u001B[38;5;28;01mexcept\u001B[39;00m (CookieLoadError, DownloadCancelled, LazyList\u001B[38;5;241m.\u001B[39mIndexError, PagedList\u001B[38;5;241m.\u001B[39mIndexError):\n\u001B[1;32m   1664\u001B[0m         \u001B[38;5;28;01mraise\u001B[39;00m\n",
      "File \u001B[0;32m~/.local/lib/python3.10/site-packages/yt_dlp/YoutubeDL.py:1797\u001B[0m, in \u001B[0;36mYoutubeDL.__extract_info\u001B[0;34m(self, url, ie, download, extra_info, process)\u001B[0m\n\u001B[1;32m   1794\u001B[0m \u001B[38;5;28mself\u001B[39m\u001B[38;5;241m.\u001B[39m_apply_header_cookies(url)\n\u001B[1;32m   1796\u001B[0m \u001B[38;5;28;01mtry\u001B[39;00m:\n\u001B[0;32m-> 1797\u001B[0m     ie_result \u001B[38;5;241m=\u001B[39m \u001B[43mie\u001B[49m\u001B[38;5;241;43m.\u001B[39;49m\u001B[43mextract\u001B[49m\u001B[43m(\u001B[49m\u001B[43murl\u001B[49m\u001B[43m)\u001B[49m\n\u001B[1;32m   1798\u001B[0m \u001B[38;5;28;01mexcept\u001B[39;00m UserNotLive \u001B[38;5;28;01mas\u001B[39;00m e:\n\u001B[1;32m   1799\u001B[0m     \u001B[38;5;28;01mif\u001B[39;00m process:\n",
      "File \u001B[0;32m~/.local/lib/python3.10/site-packages/yt_dlp/extractor/common.py:748\u001B[0m, in \u001B[0;36mInfoExtractor.extract\u001B[0;34m(self, url)\u001B[0m\n\u001B[1;32m    745\u001B[0m \u001B[38;5;28mself\u001B[39m\u001B[38;5;241m.\u001B[39minitialize()\n\u001B[1;32m    746\u001B[0m \u001B[38;5;28mself\u001B[39m\u001B[38;5;241m.\u001B[39mto_screen(\u001B[38;5;124m'\u001B[39m\u001B[38;5;124mExtracting URL: \u001B[39m\u001B[38;5;132;01m%s\u001B[39;00m\u001B[38;5;124m'\u001B[39m \u001B[38;5;241m%\u001B[39m (\n\u001B[1;32m    747\u001B[0m     url \u001B[38;5;28;01mif\u001B[39;00m \u001B[38;5;28mself\u001B[39m\u001B[38;5;241m.\u001B[39mget_param(\u001B[38;5;124m'\u001B[39m\u001B[38;5;124mverbose\u001B[39m\u001B[38;5;124m'\u001B[39m) \u001B[38;5;28;01melse\u001B[39;00m truncate_string(url, \u001B[38;5;241m100\u001B[39m, \u001B[38;5;241m20\u001B[39m)))\n\u001B[0;32m--> 748\u001B[0m ie_result \u001B[38;5;241m=\u001B[39m \u001B[38;5;28;43mself\u001B[39;49m\u001B[38;5;241;43m.\u001B[39;49m\u001B[43m_real_extract\u001B[49m\u001B[43m(\u001B[49m\u001B[43murl\u001B[49m\u001B[43m)\u001B[49m\n\u001B[1;32m    749\u001B[0m \u001B[38;5;28;01mif\u001B[39;00m ie_result \u001B[38;5;129;01mis\u001B[39;00m \u001B[38;5;28;01mNone\u001B[39;00m:\n\u001B[1;32m    750\u001B[0m     \u001B[38;5;28;01mreturn\u001B[39;00m \u001B[38;5;28;01mNone\u001B[39;00m\n",
      "File \u001B[0;32m~/.local/lib/python3.10/site-packages/yt_dlp/extractor/youtube/_video.py:3788\u001B[0m, in \u001B[0;36mYoutubeIE._real_extract\u001B[0;34m(self, url)\u001B[0m\n\u001B[1;32m   3780\u001B[0m         \u001B[38;5;28;01mreturn\u001B[39;00m \u001B[38;5;28mself\u001B[39m\u001B[38;5;241m.\u001B[39mplaylist_result(\n\u001B[1;32m   3781\u001B[0m             entries, video_id, video_title, video_description)\n\u001B[1;32m   3783\u001B[0m duration \u001B[38;5;241m=\u001B[39m (int_or_none(get_first(video_details, \u001B[38;5;124m'\u001B[39m\u001B[38;5;124mlengthSeconds\u001B[39m\u001B[38;5;124m'\u001B[39m))\n\u001B[1;32m   3784\u001B[0m             \u001B[38;5;129;01mor\u001B[39;00m int_or_none(get_first(microformats, \u001B[38;5;124m'\u001B[39m\u001B[38;5;124mlengthSeconds\u001B[39m\u001B[38;5;124m'\u001B[39m))\n\u001B[1;32m   3785\u001B[0m             \u001B[38;5;129;01mor\u001B[39;00m parse_duration(search_meta(\u001B[38;5;124m'\u001B[39m\u001B[38;5;124mduration\u001B[39m\u001B[38;5;124m'\u001B[39m)) \u001B[38;5;129;01mor\u001B[39;00m \u001B[38;5;28;01mNone\u001B[39;00m)\n\u001B[1;32m   3787\u001B[0m live_broadcast_details, live_status, streaming_data, formats, automatic_captions \u001B[38;5;241m=\u001B[39m \\\n\u001B[0;32m-> 3788\u001B[0m     \u001B[38;5;28;43mself\u001B[39;49m\u001B[38;5;241;43m.\u001B[39;49m\u001B[43m_list_formats\u001B[49m\u001B[43m(\u001B[49m\u001B[43mvideo_id\u001B[49m\u001B[43m,\u001B[49m\u001B[43m \u001B[49m\u001B[43mmicroformats\u001B[49m\u001B[43m,\u001B[49m\u001B[43m \u001B[49m\u001B[43mvideo_details\u001B[49m\u001B[43m,\u001B[49m\u001B[43m \u001B[49m\u001B[43mplayer_responses\u001B[49m\u001B[43m,\u001B[49m\u001B[43m \u001B[49m\u001B[43mplayer_url\u001B[49m\u001B[43m,\u001B[49m\u001B[43m \u001B[49m\u001B[43mduration\u001B[49m\u001B[43m)\u001B[49m\n\u001B[1;32m   3789\u001B[0m \u001B[38;5;28;01mif\u001B[39;00m live_status \u001B[38;5;241m==\u001B[39m \u001B[38;5;124m'\u001B[39m\u001B[38;5;124mpost_live\u001B[39m\u001B[38;5;124m'\u001B[39m:\n\u001B[1;32m   3790\u001B[0m     \u001B[38;5;28mself\u001B[39m\u001B[38;5;241m.\u001B[39mwrite_debug(\u001B[38;5;124mf\u001B[39m\u001B[38;5;124m'\u001B[39m\u001B[38;5;132;01m{\u001B[39;00mvideo_id\u001B[38;5;132;01m}\u001B[39;00m\u001B[38;5;124m: Video is in Post-Live Manifestless mode\u001B[39m\u001B[38;5;124m'\u001B[39m)\n",
      "File \u001B[0;32m~/.local/lib/python3.10/site-packages/yt_dlp/extractor/youtube/_video.py:3691\u001B[0m, in \u001B[0;36mYoutubeIE._list_formats\u001B[0;34m(self, video_id, microformats, video_details, player_responses, player_url, duration)\u001B[0m\n\u001B[1;32m   3684\u001B[0m live_status \u001B[38;5;241m=\u001B[39m (\u001B[38;5;124m'\u001B[39m\u001B[38;5;124mpost_live\u001B[39m\u001B[38;5;124m'\u001B[39m \u001B[38;5;28;01mif\u001B[39;00m post_live\n\u001B[1;32m   3685\u001B[0m                \u001B[38;5;28;01melse\u001B[39;00m \u001B[38;5;124m'\u001B[39m\u001B[38;5;124mis_live\u001B[39m\u001B[38;5;124m'\u001B[39m \u001B[38;5;28;01mif\u001B[39;00m is_live\n\u001B[1;32m   3686\u001B[0m                \u001B[38;5;28;01melse\u001B[39;00m \u001B[38;5;124m'\u001B[39m\u001B[38;5;124mis_upcoming\u001B[39m\u001B[38;5;124m'\u001B[39m \u001B[38;5;28;01mif\u001B[39;00m is_upcoming\n\u001B[1;32m   3687\u001B[0m                \u001B[38;5;28;01melse\u001B[39;00m \u001B[38;5;124m'\u001B[39m\u001B[38;5;124mwas_live\u001B[39m\u001B[38;5;124m'\u001B[39m \u001B[38;5;28;01mif\u001B[39;00m live_content\n\u001B[1;32m   3688\u001B[0m                \u001B[38;5;28;01melse\u001B[39;00m \u001B[38;5;124m'\u001B[39m\u001B[38;5;124mnot_live\u001B[39m\u001B[38;5;124m'\u001B[39m \u001B[38;5;28;01mif\u001B[39;00m \u001B[38;5;28;01mFalse\u001B[39;00m \u001B[38;5;129;01min\u001B[39;00m (is_live, live_content)\n\u001B[1;32m   3689\u001B[0m                \u001B[38;5;28;01melse\u001B[39;00m \u001B[38;5;28;01mNone\u001B[39;00m)\n\u001B[1;32m   3690\u001B[0m streaming_data \u001B[38;5;241m=\u001B[39m traverse_obj(player_responses, (\u001B[38;5;241m.\u001B[39m\u001B[38;5;241m.\u001B[39m\u001B[38;5;241m.\u001B[39m, \u001B[38;5;124m'\u001B[39m\u001B[38;5;124mstreamingData\u001B[39m\u001B[38;5;124m'\u001B[39m))\n\u001B[0;32m-> 3691\u001B[0m \u001B[38;5;241m*\u001B[39mformats, subtitles \u001B[38;5;241m=\u001B[39m \u001B[38;5;28mself\u001B[39m\u001B[38;5;241m.\u001B[39m_extract_formats_and_subtitles(streaming_data, video_id, player_url, live_status, duration)\n\u001B[1;32m   3692\u001B[0m \u001B[38;5;28;01mif\u001B[39;00m \u001B[38;5;28mall\u001B[39m(f\u001B[38;5;241m.\u001B[39mget(\u001B[38;5;124m'\u001B[39m\u001B[38;5;124mhas_drm\u001B[39m\u001B[38;5;124m'\u001B[39m) \u001B[38;5;28;01mfor\u001B[39;00m f \u001B[38;5;129;01min\u001B[39;00m formats):\n\u001B[1;32m   3693\u001B[0m     \u001B[38;5;66;03m# If there are no formats that definitely don't have DRM, all have DRM\u001B[39;00m\n\u001B[1;32m   3694\u001B[0m     \u001B[38;5;28;01mfor\u001B[39;00m f \u001B[38;5;129;01min\u001B[39;00m formats:\n",
      "File \u001B[0;32m~/.local/lib/python3.10/site-packages/yt_dlp/extractor/youtube/_video.py:3415\u001B[0m, in \u001B[0;36mYoutubeIE._extract_formats_and_subtitles\u001B[0;34m(self, streaming_data, video_id, player_url, live_status, duration)\u001B[0m\n\u001B[1;32m   3412\u001B[0m \u001B[38;5;28;01mtry\u001B[39;00m:\n\u001B[1;32m   3413\u001B[0m     decrypt_nsig \u001B[38;5;241m=\u001B[39m \u001B[38;5;28mself\u001B[39m\u001B[38;5;241m.\u001B[39m_cached(\u001B[38;5;28mself\u001B[39m\u001B[38;5;241m.\u001B[39m_decrypt_nsig, \u001B[38;5;124m'\u001B[39m\u001B[38;5;124mnsig\u001B[39m\u001B[38;5;124m'\u001B[39m, query[\u001B[38;5;124m'\u001B[39m\u001B[38;5;124mn\u001B[39m\u001B[38;5;124m'\u001B[39m][\u001B[38;5;241m0\u001B[39m])\n\u001B[1;32m   3414\u001B[0m     fmt_url \u001B[38;5;241m=\u001B[39m update_url_query(fmt_url, {\n\u001B[0;32m-> 3415\u001B[0m         \u001B[38;5;124m'\u001B[39m\u001B[38;5;124mn\u001B[39m\u001B[38;5;124m'\u001B[39m: \u001B[43mdecrypt_nsig\u001B[49m\u001B[43m(\u001B[49m\u001B[43mquery\u001B[49m\u001B[43m[\u001B[49m\u001B[38;5;124;43m'\u001B[39;49m\u001B[38;5;124;43mn\u001B[39;49m\u001B[38;5;124;43m'\u001B[39;49m\u001B[43m]\u001B[49m\u001B[43m[\u001B[49m\u001B[38;5;241;43m0\u001B[39;49m\u001B[43m]\u001B[49m\u001B[43m,\u001B[49m\u001B[43m \u001B[49m\u001B[43mvideo_id\u001B[49m\u001B[43m,\u001B[49m\u001B[43m \u001B[49m\u001B[43mplayer_url\u001B[49m\u001B[43m)\u001B[49m,\n\u001B[1;32m   3416\u001B[0m     })\n\u001B[1;32m   3417\u001B[0m \u001B[38;5;28;01mexcept\u001B[39;00m ExtractorError \u001B[38;5;28;01mas\u001B[39;00m e:\n\u001B[1;32m   3418\u001B[0m     \u001B[38;5;28;01mif\u001B[39;00m player_url:\n",
      "File \u001B[0;32m~/.local/lib/python3.10/site-packages/yt_dlp/extractor/youtube/_video.py:2155\u001B[0m, in \u001B[0;36mYoutubeIE._cached.<locals>.inner\u001B[0;34m(*args, **kwargs)\u001B[0m\n\u001B[1;32m   2153\u001B[0m \u001B[38;5;28;01mif\u001B[39;00m cache_id \u001B[38;5;129;01mnot\u001B[39;00m \u001B[38;5;129;01min\u001B[39;00m \u001B[38;5;28mself\u001B[39m\u001B[38;5;241m.\u001B[39m_player_cache:\n\u001B[1;32m   2154\u001B[0m     \u001B[38;5;28;01mtry\u001B[39;00m:\n\u001B[0;32m-> 2155\u001B[0m         \u001B[38;5;28mself\u001B[39m\u001B[38;5;241m.\u001B[39m_player_cache[cache_id] \u001B[38;5;241m=\u001B[39m \u001B[43mfunc\u001B[49m\u001B[43m(\u001B[49m\u001B[38;5;241;43m*\u001B[39;49m\u001B[43margs\u001B[49m\u001B[43m,\u001B[49m\u001B[43m \u001B[49m\u001B[38;5;241;43m*\u001B[39;49m\u001B[38;5;241;43m*\u001B[39;49m\u001B[43mkwargs\u001B[49m\u001B[43m)\u001B[49m\n\u001B[1;32m   2156\u001B[0m     \u001B[38;5;28;01mexcept\u001B[39;00m ExtractorError \u001B[38;5;28;01mas\u001B[39;00m e:\n\u001B[1;32m   2157\u001B[0m         \u001B[38;5;28mself\u001B[39m\u001B[38;5;241m.\u001B[39m_player_cache[cache_id] \u001B[38;5;241m=\u001B[39m e\n",
      "File \u001B[0;32m~/.local/lib/python3.10/site-packages/yt_dlp/extractor/youtube/_video.py:2208\u001B[0m, in \u001B[0;36mYoutubeIE._decrypt_nsig\u001B[0;34m(self, s, video_id, player_url)\u001B[0m\n\u001B[1;32m   2206\u001B[0m \u001B[38;5;28;01mtry\u001B[39;00m:\n\u001B[1;32m   2207\u001B[0m     extract_nsig \u001B[38;5;241m=\u001B[39m \u001B[38;5;28mself\u001B[39m\u001B[38;5;241m.\u001B[39m_cached(\u001B[38;5;28mself\u001B[39m\u001B[38;5;241m.\u001B[39m_extract_n_function_from_code, \u001B[38;5;124m'\u001B[39m\u001B[38;5;124mnsig func\u001B[39m\u001B[38;5;124m'\u001B[39m, player_url)\n\u001B[0;32m-> 2208\u001B[0m     ret \u001B[38;5;241m=\u001B[39m \u001B[43mextract_nsig\u001B[49m\u001B[43m(\u001B[49m\u001B[43mjsi\u001B[49m\u001B[43m,\u001B[49m\u001B[43m \u001B[49m\u001B[43mfunc_code\u001B[49m\u001B[43m)\u001B[49m\u001B[43m(\u001B[49m\u001B[43ms\u001B[49m\u001B[43m)\u001B[49m\n\u001B[1;32m   2209\u001B[0m \u001B[38;5;28;01mexcept\u001B[39;00m JSInterpreter\u001B[38;5;241m.\u001B[39mException \u001B[38;5;28;01mas\u001B[39;00m e:\n\u001B[1;32m   2210\u001B[0m     \u001B[38;5;28;01mtry\u001B[39;00m:\n",
      "File \u001B[0;32m~/.local/lib/python3.10/site-packages/yt_dlp/extractor/youtube/_video.py:2364\u001B[0m, in \u001B[0;36mYoutubeIE._extract_n_function_from_code.<locals>.extract_nsig\u001B[0;34m(s)\u001B[0m\n\u001B[1;32m   2362\u001B[0m \u001B[38;5;28;01mdef\u001B[39;00m\u001B[38;5;250m \u001B[39m\u001B[38;5;21mextract_nsig\u001B[39m(s):\n\u001B[1;32m   2363\u001B[0m     \u001B[38;5;28;01mtry\u001B[39;00m:\n\u001B[0;32m-> 2364\u001B[0m         ret \u001B[38;5;241m=\u001B[39m \u001B[43mfunc\u001B[49m\u001B[43m(\u001B[49m\u001B[43m[\u001B[49m\u001B[43ms\u001B[49m\u001B[43m]\u001B[49m\u001B[43m)\u001B[49m\n\u001B[1;32m   2365\u001B[0m     \u001B[38;5;28;01mexcept\u001B[39;00m JSInterpreter\u001B[38;5;241m.\u001B[39mException:\n\u001B[1;32m   2366\u001B[0m         \u001B[38;5;28;01mraise\u001B[39;00m\n",
      "File \u001B[0;32m~/.local/lib/python3.10/site-packages/yt_dlp/jsinterp.py:929\u001B[0m, in \u001B[0;36mJSInterpreter.build_function.<locals>.resf\u001B[0;34m(args, kwargs, allow_recursion)\u001B[0m\n\u001B[1;32m    927\u001B[0m global_stack[\u001B[38;5;241m0\u001B[39m]\u001B[38;5;241m.\u001B[39mupdate(kwargs)\n\u001B[1;32m    928\u001B[0m var_stack \u001B[38;5;241m=\u001B[39m LocalNameSpace(\u001B[38;5;241m*\u001B[39mglobal_stack)\n\u001B[0;32m--> 929\u001B[0m ret, should_abort \u001B[38;5;241m=\u001B[39m \u001B[38;5;28;43mself\u001B[39;49m\u001B[38;5;241;43m.\u001B[39;49m\u001B[43minterpret_statement\u001B[49m\u001B[43m(\u001B[49m\u001B[43mcode\u001B[49m\u001B[38;5;241;43m.\u001B[39;49m\u001B[43mreplace\u001B[49m\u001B[43m(\u001B[49m\u001B[38;5;124;43m'\u001B[39;49m\u001B[38;5;130;43;01m\\n\u001B[39;49;00m\u001B[38;5;124;43m'\u001B[39;49m\u001B[43m,\u001B[49m\u001B[43m \u001B[49m\u001B[38;5;124;43m'\u001B[39;49m\u001B[38;5;124;43m \u001B[39;49m\u001B[38;5;124;43m'\u001B[39;49m\u001B[43m)\u001B[49m\u001B[43m,\u001B[49m\u001B[43m \u001B[49m\u001B[43mvar_stack\u001B[49m\u001B[43m,\u001B[49m\u001B[43m \u001B[49m\u001B[43mallow_recursion\u001B[49m\u001B[43m \u001B[49m\u001B[38;5;241;43m-\u001B[39;49m\u001B[43m \u001B[49m\u001B[38;5;241;43m1\u001B[39;49m\u001B[43m)\u001B[49m\n\u001B[1;32m    930\u001B[0m \u001B[38;5;28;01mif\u001B[39;00m should_abort:\n\u001B[1;32m    931\u001B[0m     \u001B[38;5;28;01mreturn\u001B[39;00m ret\n",
      "File \u001B[0;32m~/.local/lib/python3.10/site-packages/yt_dlp/jsinterp.py:241\u001B[0m, in \u001B[0;36mDebugger.wrap_interpreter.<locals>.interpret_statement\u001B[0;34m(self, stmt, local_vars, allow_recursion, *args, **kwargs)\u001B[0m\n\u001B[1;32m    239\u001B[0m     \u001B[38;5;28mcls\u001B[39m\u001B[38;5;241m.\u001B[39mwrite(stmt, level\u001B[38;5;241m=\u001B[39mallow_recursion)\n\u001B[1;32m    240\u001B[0m \u001B[38;5;28;01mtry\u001B[39;00m:\n\u001B[0;32m--> 241\u001B[0m     ret, should_ret \u001B[38;5;241m=\u001B[39m \u001B[43mf\u001B[49m\u001B[43m(\u001B[49m\u001B[38;5;28;43mself\u001B[39;49m\u001B[43m,\u001B[49m\u001B[43m \u001B[49m\u001B[43mstmt\u001B[49m\u001B[43m,\u001B[49m\u001B[43m \u001B[49m\u001B[43mlocal_vars\u001B[49m\u001B[43m,\u001B[49m\u001B[43m \u001B[49m\u001B[43mallow_recursion\u001B[49m\u001B[43m,\u001B[49m\u001B[43m \u001B[49m\u001B[38;5;241;43m*\u001B[39;49m\u001B[43margs\u001B[49m\u001B[43m,\u001B[49m\u001B[43m \u001B[49m\u001B[38;5;241;43m*\u001B[39;49m\u001B[38;5;241;43m*\u001B[39;49m\u001B[43mkwargs\u001B[49m\u001B[43m)\u001B[49m\n\u001B[1;32m    242\u001B[0m \u001B[38;5;28;01mexcept\u001B[39;00m \u001B[38;5;167;01mException\u001B[39;00m \u001B[38;5;28;01mas\u001B[39;00m e:\n\u001B[1;32m    243\u001B[0m     \u001B[38;5;28;01mif\u001B[39;00m \u001B[38;5;28mcls\u001B[39m\u001B[38;5;241m.\u001B[39mENABLED:\n",
      "File \u001B[0;32m~/.local/lib/python3.10/site-packages/yt_dlp/jsinterp.py:496\u001B[0m, in \u001B[0;36mJSInterpreter.interpret_statement\u001B[0;34m(self, stmt, local_vars, allow_recursion)\u001B[0m\n\u001B[1;32m    494\u001B[0m err \u001B[38;5;241m=\u001B[39m \u001B[38;5;28;01mNone\u001B[39;00m\n\u001B[1;32m    495\u001B[0m \u001B[38;5;28;01mtry\u001B[39;00m:\n\u001B[0;32m--> 496\u001B[0m     ret, should_abort \u001B[38;5;241m=\u001B[39m \u001B[38;5;28;43mself\u001B[39;49m\u001B[38;5;241;43m.\u001B[39;49m\u001B[43minterpret_statement\u001B[49m\u001B[43m(\u001B[49m\u001B[43mtry_expr\u001B[49m\u001B[43m,\u001B[49m\u001B[43m \u001B[49m\u001B[43mlocal_vars\u001B[49m\u001B[43m,\u001B[49m\u001B[43m \u001B[49m\u001B[43mallow_recursion\u001B[49m\u001B[43m)\u001B[49m\n\u001B[1;32m    497\u001B[0m     \u001B[38;5;28;01mif\u001B[39;00m should_abort:\n\u001B[1;32m    498\u001B[0m         \u001B[38;5;28;01mreturn\u001B[39;00m ret, \u001B[38;5;28;01mTrue\u001B[39;00m\n",
      "File \u001B[0;32m~/.local/lib/python3.10/site-packages/yt_dlp/jsinterp.py:241\u001B[0m, in \u001B[0;36mDebugger.wrap_interpreter.<locals>.interpret_statement\u001B[0;34m(self, stmt, local_vars, allow_recursion, *args, **kwargs)\u001B[0m\n\u001B[1;32m    239\u001B[0m     \u001B[38;5;28mcls\u001B[39m\u001B[38;5;241m.\u001B[39mwrite(stmt, level\u001B[38;5;241m=\u001B[39mallow_recursion)\n\u001B[1;32m    240\u001B[0m \u001B[38;5;28;01mtry\u001B[39;00m:\n\u001B[0;32m--> 241\u001B[0m     ret, should_ret \u001B[38;5;241m=\u001B[39m \u001B[43mf\u001B[49m\u001B[43m(\u001B[49m\u001B[38;5;28;43mself\u001B[39;49m\u001B[43m,\u001B[49m\u001B[43m \u001B[49m\u001B[43mstmt\u001B[49m\u001B[43m,\u001B[49m\u001B[43m \u001B[49m\u001B[43mlocal_vars\u001B[49m\u001B[43m,\u001B[49m\u001B[43m \u001B[49m\u001B[43mallow_recursion\u001B[49m\u001B[43m,\u001B[49m\u001B[43m \u001B[49m\u001B[38;5;241;43m*\u001B[39;49m\u001B[43margs\u001B[49m\u001B[43m,\u001B[49m\u001B[43m \u001B[49m\u001B[38;5;241;43m*\u001B[39;49m\u001B[38;5;241;43m*\u001B[39;49m\u001B[43mkwargs\u001B[49m\u001B[43m)\u001B[49m\n\u001B[1;32m    242\u001B[0m \u001B[38;5;28;01mexcept\u001B[39;00m \u001B[38;5;167;01mException\u001B[39;00m \u001B[38;5;28;01mas\u001B[39;00m e:\n\u001B[1;32m    243\u001B[0m     \u001B[38;5;28;01mif\u001B[39;00m \u001B[38;5;28mcls\u001B[39m\u001B[38;5;241m.\u001B[39mENABLED:\n",
      "File \u001B[0;32m~/.local/lib/python3.10/site-packages/yt_dlp/jsinterp.py:517\u001B[0m, in \u001B[0;36mJSInterpreter.interpret_statement\u001B[0;34m(self, stmt, local_vars, allow_recursion)\u001B[0m\n\u001B[1;32m    515\u001B[0m \u001B[38;5;28;01mif\u001B[39;00m m:\n\u001B[1;32m    516\u001B[0m     sub_expr, expr \u001B[38;5;241m=\u001B[39m \u001B[38;5;28mself\u001B[39m\u001B[38;5;241m.\u001B[39m_separate_at_paren(expr[m\u001B[38;5;241m.\u001B[39mend() \u001B[38;5;241m-\u001B[39m \u001B[38;5;241m1\u001B[39m:])\n\u001B[0;32m--> 517\u001B[0m     ret, should_abort \u001B[38;5;241m=\u001B[39m \u001B[38;5;28;43mself\u001B[39;49m\u001B[38;5;241;43m.\u001B[39;49m\u001B[43minterpret_statement\u001B[49m\u001B[43m(\u001B[49m\u001B[43msub_expr\u001B[49m\u001B[43m,\u001B[49m\u001B[43m \u001B[49m\u001B[43mlocal_vars\u001B[49m\u001B[43m,\u001B[49m\u001B[43m \u001B[49m\u001B[43mallow_recursion\u001B[49m\u001B[43m)\u001B[49m\n\u001B[1;32m    518\u001B[0m     \u001B[38;5;28;01mif\u001B[39;00m should_abort:\n\u001B[1;32m    519\u001B[0m         \u001B[38;5;28;01mreturn\u001B[39;00m ret, \u001B[38;5;28;01mTrue\u001B[39;00m\n",
      "File \u001B[0;32m~/.local/lib/python3.10/site-packages/yt_dlp/jsinterp.py:241\u001B[0m, in \u001B[0;36mDebugger.wrap_interpreter.<locals>.interpret_statement\u001B[0;34m(self, stmt, local_vars, allow_recursion, *args, **kwargs)\u001B[0m\n\u001B[1;32m    239\u001B[0m     \u001B[38;5;28mcls\u001B[39m\u001B[38;5;241m.\u001B[39mwrite(stmt, level\u001B[38;5;241m=\u001B[39mallow_recursion)\n\u001B[1;32m    240\u001B[0m \u001B[38;5;28;01mtry\u001B[39;00m:\n\u001B[0;32m--> 241\u001B[0m     ret, should_ret \u001B[38;5;241m=\u001B[39m \u001B[43mf\u001B[49m\u001B[43m(\u001B[49m\u001B[38;5;28;43mself\u001B[39;49m\u001B[43m,\u001B[49m\u001B[43m \u001B[49m\u001B[43mstmt\u001B[49m\u001B[43m,\u001B[49m\u001B[43m \u001B[49m\u001B[43mlocal_vars\u001B[49m\u001B[43m,\u001B[49m\u001B[43m \u001B[49m\u001B[43mallow_recursion\u001B[49m\u001B[43m,\u001B[49m\u001B[43m \u001B[49m\u001B[38;5;241;43m*\u001B[39;49m\u001B[43margs\u001B[49m\u001B[43m,\u001B[49m\u001B[43m \u001B[49m\u001B[38;5;241;43m*\u001B[39;49m\u001B[38;5;241;43m*\u001B[39;49m\u001B[43mkwargs\u001B[49m\u001B[43m)\u001B[49m\n\u001B[1;32m    242\u001B[0m \u001B[38;5;28;01mexcept\u001B[39;00m \u001B[38;5;167;01mException\u001B[39;00m \u001B[38;5;28;01mas\u001B[39;00m e:\n\u001B[1;32m    243\u001B[0m     \u001B[38;5;28;01mif\u001B[39;00m \u001B[38;5;28mcls\u001B[39m\u001B[38;5;241m.\u001B[39mENABLED:\n",
      "File \u001B[0;32m~/.local/lib/python3.10/site-packages/yt_dlp/jsinterp.py:588\u001B[0m, in \u001B[0;36mJSInterpreter.interpret_statement\u001B[0;34m(self, stmt, local_vars, allow_recursion)\u001B[0m\n\u001B[1;32m    586\u001B[0m \u001B[38;5;28;01mif\u001B[39;00m \u001B[38;5;28mlen\u001B[39m(sub_expressions) \u001B[38;5;241m>\u001B[39m \u001B[38;5;241m1\u001B[39m:\n\u001B[1;32m    587\u001B[0m     \u001B[38;5;28;01mfor\u001B[39;00m sub_expr \u001B[38;5;129;01min\u001B[39;00m sub_expressions:\n\u001B[0;32m--> 588\u001B[0m         ret, should_abort \u001B[38;5;241m=\u001B[39m \u001B[38;5;28;43mself\u001B[39;49m\u001B[38;5;241;43m.\u001B[39;49m\u001B[43minterpret_statement\u001B[49m\u001B[43m(\u001B[49m\u001B[43msub_expr\u001B[49m\u001B[43m,\u001B[49m\u001B[43m \u001B[49m\u001B[43mlocal_vars\u001B[49m\u001B[43m,\u001B[49m\u001B[43m \u001B[49m\u001B[43mallow_recursion\u001B[49m\u001B[43m)\u001B[49m\n\u001B[1;32m    589\u001B[0m         \u001B[38;5;28;01mif\u001B[39;00m should_abort:\n\u001B[1;32m    590\u001B[0m             \u001B[38;5;28;01mreturn\u001B[39;00m ret, \u001B[38;5;28;01mTrue\u001B[39;00m\n",
      "File \u001B[0;32m~/.local/lib/python3.10/site-packages/yt_dlp/jsinterp.py:241\u001B[0m, in \u001B[0;36mDebugger.wrap_interpreter.<locals>.interpret_statement\u001B[0;34m(self, stmt, local_vars, allow_recursion, *args, **kwargs)\u001B[0m\n\u001B[1;32m    239\u001B[0m     \u001B[38;5;28mcls\u001B[39m\u001B[38;5;241m.\u001B[39mwrite(stmt, level\u001B[38;5;241m=\u001B[39mallow_recursion)\n\u001B[1;32m    240\u001B[0m \u001B[38;5;28;01mtry\u001B[39;00m:\n\u001B[0;32m--> 241\u001B[0m     ret, should_ret \u001B[38;5;241m=\u001B[39m \u001B[43mf\u001B[49m\u001B[43m(\u001B[49m\u001B[38;5;28;43mself\u001B[39;49m\u001B[43m,\u001B[49m\u001B[43m \u001B[49m\u001B[43mstmt\u001B[49m\u001B[43m,\u001B[49m\u001B[43m \u001B[49m\u001B[43mlocal_vars\u001B[49m\u001B[43m,\u001B[49m\u001B[43m \u001B[49m\u001B[43mallow_recursion\u001B[49m\u001B[43m,\u001B[49m\u001B[43m \u001B[49m\u001B[38;5;241;43m*\u001B[39;49m\u001B[43margs\u001B[49m\u001B[43m,\u001B[49m\u001B[43m \u001B[49m\u001B[38;5;241;43m*\u001B[39;49m\u001B[38;5;241;43m*\u001B[39;49m\u001B[43mkwargs\u001B[49m\u001B[43m)\u001B[49m\n\u001B[1;32m    242\u001B[0m \u001B[38;5;28;01mexcept\u001B[39;00m \u001B[38;5;167;01mException\u001B[39;00m \u001B[38;5;28;01mas\u001B[39;00m e:\n\u001B[1;32m    243\u001B[0m     \u001B[38;5;28;01mif\u001B[39;00m \u001B[38;5;28mcls\u001B[39m\u001B[38;5;241m.\u001B[39mENABLED:\n",
      "File \u001B[0;32m~/.local/lib/python3.10/site-packages/yt_dlp/jsinterp.py:681\u001B[0m, in \u001B[0;36mJSInterpreter.interpret_statement\u001B[0;34m(self, stmt, local_vars, allow_recursion)\u001B[0m\n\u001B[1;32m    679\u001B[0m         \u001B[38;5;28;01mcontinue\u001B[39;00m\n\u001B[1;32m    680\u001B[0m     left_val \u001B[38;5;241m=\u001B[39m \u001B[38;5;28mself\u001B[39m\u001B[38;5;241m.\u001B[39minterpret_expression(op\u001B[38;5;241m.\u001B[39mjoin(separated), local_vars, allow_recursion)\n\u001B[0;32m--> 681\u001B[0m     \u001B[38;5;28;01mreturn\u001B[39;00m \u001B[38;5;28;43mself\u001B[39;49m\u001B[38;5;241;43m.\u001B[39;49m\u001B[43m_operator\u001B[49m\u001B[43m(\u001B[49m\u001B[43mop\u001B[49m\u001B[43m,\u001B[49m\u001B[43m \u001B[49m\u001B[43mleft_val\u001B[49m\u001B[43m,\u001B[49m\u001B[43m \u001B[49m\u001B[43mright_expr\u001B[49m\u001B[43m,\u001B[49m\u001B[43m \u001B[49m\u001B[43mexpr\u001B[49m\u001B[43m,\u001B[49m\u001B[43m \u001B[49m\u001B[43mlocal_vars\u001B[49m\u001B[43m,\u001B[49m\u001B[43m \u001B[49m\u001B[43mallow_recursion\u001B[49m\u001B[43m)\u001B[49m, should_return\n\u001B[1;32m    683\u001B[0m \u001B[38;5;28;01mif\u001B[39;00m m \u001B[38;5;129;01mand\u001B[39;00m m\u001B[38;5;241m.\u001B[39mgroup(\u001B[38;5;124m'\u001B[39m\u001B[38;5;124mattribute\u001B[39m\u001B[38;5;124m'\u001B[39m):\n\u001B[1;32m    684\u001B[0m     variable, member, nullish \u001B[38;5;241m=\u001B[39m m\u001B[38;5;241m.\u001B[39mgroup(\u001B[38;5;124m'\u001B[39m\u001B[38;5;124mvar\u001B[39m\u001B[38;5;124m'\u001B[39m, \u001B[38;5;124m'\u001B[39m\u001B[38;5;124mmember\u001B[39m\u001B[38;5;124m'\u001B[39m, \u001B[38;5;124m'\u001B[39m\u001B[38;5;124mnullish\u001B[39m\u001B[38;5;124m'\u001B[39m)\n",
      "File \u001B[0;32m~/.local/lib/python3.10/site-packages/yt_dlp/jsinterp.py:358\u001B[0m, in \u001B[0;36mJSInterpreter._operator\u001B[0;34m(self, op, left_val, right_expr, expr, local_vars, allow_recursion)\u001B[0m\n\u001B[1;32m    355\u001B[0m \u001B[38;5;28;01melif\u001B[39;00m op \u001B[38;5;241m==\u001B[39m \u001B[38;5;124m'\u001B[39m\u001B[38;5;124m?\u001B[39m\u001B[38;5;124m'\u001B[39m:\n\u001B[1;32m    356\u001B[0m     right_expr \u001B[38;5;241m=\u001B[39m _js_ternary(left_val, \u001B[38;5;241m*\u001B[39m\u001B[38;5;28mself\u001B[39m\u001B[38;5;241m.\u001B[39m_separate(right_expr, \u001B[38;5;124m'\u001B[39m\u001B[38;5;124m:\u001B[39m\u001B[38;5;124m'\u001B[39m, \u001B[38;5;241m1\u001B[39m))\n\u001B[0;32m--> 358\u001B[0m right_val \u001B[38;5;241m=\u001B[39m \u001B[38;5;28;43mself\u001B[39;49m\u001B[38;5;241;43m.\u001B[39;49m\u001B[43minterpret_expression\u001B[49m\u001B[43m(\u001B[49m\u001B[43mright_expr\u001B[49m\u001B[43m,\u001B[49m\u001B[43m \u001B[49m\u001B[43mlocal_vars\u001B[49m\u001B[43m,\u001B[49m\u001B[43m \u001B[49m\u001B[43mallow_recursion\u001B[49m\u001B[43m)\u001B[49m\n\u001B[1;32m    359\u001B[0m \u001B[38;5;28;01mif\u001B[39;00m \u001B[38;5;129;01mnot\u001B[39;00m _OPERATORS\u001B[38;5;241m.\u001B[39mget(op):\n\u001B[1;32m    360\u001B[0m     \u001B[38;5;28;01mreturn\u001B[39;00m right_val\n",
      "File \u001B[0;32m~/.local/lib/python3.10/site-packages/yt_dlp/jsinterp.py:850\u001B[0m, in \u001B[0;36mJSInterpreter.interpret_expression\u001B[0;34m(self, expr, local_vars, allow_recursion)\u001B[0m\n\u001B[1;32m    849\u001B[0m \u001B[38;5;28;01mdef\u001B[39;00m\u001B[38;5;250m \u001B[39m\u001B[38;5;21minterpret_expression\u001B[39m(\u001B[38;5;28mself\u001B[39m, expr, local_vars, allow_recursion):\n\u001B[0;32m--> 850\u001B[0m     ret, should_return \u001B[38;5;241m=\u001B[39m \u001B[38;5;28;43mself\u001B[39;49m\u001B[38;5;241;43m.\u001B[39;49m\u001B[43minterpret_statement\u001B[49m\u001B[43m(\u001B[49m\u001B[43mexpr\u001B[49m\u001B[43m,\u001B[49m\u001B[43m \u001B[49m\u001B[43mlocal_vars\u001B[49m\u001B[43m,\u001B[49m\u001B[43m \u001B[49m\u001B[43mallow_recursion\u001B[49m\u001B[43m)\u001B[49m\n\u001B[1;32m    851\u001B[0m     \u001B[38;5;28;01mif\u001B[39;00m should_return:\n\u001B[1;32m    852\u001B[0m         \u001B[38;5;28;01mraise\u001B[39;00m \u001B[38;5;28mself\u001B[39m\u001B[38;5;241m.\u001B[39mException(\u001B[38;5;124m'\u001B[39m\u001B[38;5;124mCannot return from an expression\u001B[39m\u001B[38;5;124m'\u001B[39m, expr)\n",
      "File \u001B[0;32m~/.local/lib/python3.10/site-packages/yt_dlp/jsinterp.py:241\u001B[0m, in \u001B[0;36mDebugger.wrap_interpreter.<locals>.interpret_statement\u001B[0;34m(self, stmt, local_vars, allow_recursion, *args, **kwargs)\u001B[0m\n\u001B[1;32m    239\u001B[0m     \u001B[38;5;28mcls\u001B[39m\u001B[38;5;241m.\u001B[39mwrite(stmt, level\u001B[38;5;241m=\u001B[39mallow_recursion)\n\u001B[1;32m    240\u001B[0m \u001B[38;5;28;01mtry\u001B[39;00m:\n\u001B[0;32m--> 241\u001B[0m     ret, should_ret \u001B[38;5;241m=\u001B[39m \u001B[43mf\u001B[49m\u001B[43m(\u001B[49m\u001B[38;5;28;43mself\u001B[39;49m\u001B[43m,\u001B[49m\u001B[43m \u001B[49m\u001B[43mstmt\u001B[49m\u001B[43m,\u001B[49m\u001B[43m \u001B[49m\u001B[43mlocal_vars\u001B[49m\u001B[43m,\u001B[49m\u001B[43m \u001B[49m\u001B[43mallow_recursion\u001B[49m\u001B[43m,\u001B[49m\u001B[43m \u001B[49m\u001B[38;5;241;43m*\u001B[39;49m\u001B[43margs\u001B[49m\u001B[43m,\u001B[49m\u001B[43m \u001B[49m\u001B[38;5;241;43m*\u001B[39;49m\u001B[38;5;241;43m*\u001B[39;49m\u001B[43mkwargs\u001B[49m\u001B[43m)\u001B[49m\n\u001B[1;32m    242\u001B[0m \u001B[38;5;28;01mexcept\u001B[39;00m \u001B[38;5;167;01mException\u001B[39;00m \u001B[38;5;28;01mas\u001B[39;00m e:\n\u001B[1;32m    243\u001B[0m     \u001B[38;5;28;01mif\u001B[39;00m \u001B[38;5;28mcls\u001B[39m\u001B[38;5;241m.\u001B[39mENABLED:\n",
      "File \u001B[0;32m~/.local/lib/python3.10/site-packages/yt_dlp/jsinterp.py:841\u001B[0m, in \u001B[0;36mJSInterpreter.interpret_statement\u001B[0;34m(self, stmt, local_vars, allow_recursion)\u001B[0m\n\u001B[1;32m    838\u001B[0m argvals \u001B[38;5;241m=\u001B[39m [\u001B[38;5;28mself\u001B[39m\u001B[38;5;241m.\u001B[39minterpret_expression(v, local_vars, allow_recursion)\n\u001B[1;32m    839\u001B[0m            \u001B[38;5;28;01mfor\u001B[39;00m v \u001B[38;5;129;01min\u001B[39;00m \u001B[38;5;28mself\u001B[39m\u001B[38;5;241m.\u001B[39m_separate(m\u001B[38;5;241m.\u001B[39mgroup(\u001B[38;5;124m'\u001B[39m\u001B[38;5;124margs\u001B[39m\u001B[38;5;124m'\u001B[39m))]\n\u001B[1;32m    840\u001B[0m \u001B[38;5;28;01mif\u001B[39;00m fname \u001B[38;5;129;01min\u001B[39;00m local_vars:\n\u001B[0;32m--> 841\u001B[0m     \u001B[38;5;28;01mreturn\u001B[39;00m \u001B[43mlocal_vars\u001B[49m\u001B[43m[\u001B[49m\u001B[43mfname\u001B[49m\u001B[43m]\u001B[49m\u001B[43m(\u001B[49m\u001B[43margvals\u001B[49m\u001B[43m,\u001B[49m\u001B[43m \u001B[49m\u001B[43mallow_recursion\u001B[49m\u001B[38;5;241;43m=\u001B[39;49m\u001B[43mallow_recursion\u001B[49m\u001B[43m)\u001B[49m, should_return\n\u001B[1;32m    842\u001B[0m \u001B[38;5;28;01melif\u001B[39;00m fname \u001B[38;5;129;01mnot\u001B[39;00m \u001B[38;5;129;01min\u001B[39;00m \u001B[38;5;28mself\u001B[39m\u001B[38;5;241m.\u001B[39m_functions:\n\u001B[1;32m    843\u001B[0m     \u001B[38;5;28mself\u001B[39m\u001B[38;5;241m.\u001B[39m_functions[fname] \u001B[38;5;241m=\u001B[39m \u001B[38;5;28mself\u001B[39m\u001B[38;5;241m.\u001B[39mextract_function(fname)\n",
      "File \u001B[0;32m~/.local/lib/python3.10/site-packages/yt_dlp/utils/_utils.py:5046\u001B[0m, in \u001B[0;36mfunction_with_repr.__call__\u001B[0;34m(self, *args, **kwargs)\u001B[0m\n\u001B[1;32m   5045\u001B[0m \u001B[38;5;28;01mdef\u001B[39;00m\u001B[38;5;250m \u001B[39m\u001B[38;5;21m__call__\u001B[39m(\u001B[38;5;28mself\u001B[39m, \u001B[38;5;241m*\u001B[39margs, \u001B[38;5;241m*\u001B[39m\u001B[38;5;241m*\u001B[39mkwargs):\n\u001B[0;32m-> 5046\u001B[0m     \u001B[38;5;28;01mreturn\u001B[39;00m \u001B[38;5;28;43mself\u001B[39;49m\u001B[38;5;241;43m.\u001B[39;49m\u001B[43mfunc\u001B[49m\u001B[43m(\u001B[49m\u001B[38;5;241;43m*\u001B[39;49m\u001B[43margs\u001B[49m\u001B[43m,\u001B[49m\u001B[43m \u001B[49m\u001B[38;5;241;43m*\u001B[39;49m\u001B[38;5;241;43m*\u001B[39;49m\u001B[43mkwargs\u001B[49m\u001B[43m)\u001B[49m\n",
      "File \u001B[0;32m~/.local/lib/python3.10/site-packages/yt_dlp/jsinterp.py:929\u001B[0m, in \u001B[0;36mJSInterpreter.build_function.<locals>.resf\u001B[0;34m(args, kwargs, allow_recursion)\u001B[0m\n\u001B[1;32m    927\u001B[0m global_stack[\u001B[38;5;241m0\u001B[39m]\u001B[38;5;241m.\u001B[39mupdate(kwargs)\n\u001B[1;32m    928\u001B[0m var_stack \u001B[38;5;241m=\u001B[39m LocalNameSpace(\u001B[38;5;241m*\u001B[39mglobal_stack)\n\u001B[0;32m--> 929\u001B[0m ret, should_abort \u001B[38;5;241m=\u001B[39m \u001B[38;5;28;43mself\u001B[39;49m\u001B[38;5;241;43m.\u001B[39;49m\u001B[43minterpret_statement\u001B[49m\u001B[43m(\u001B[49m\u001B[43mcode\u001B[49m\u001B[38;5;241;43m.\u001B[39;49m\u001B[43mreplace\u001B[49m\u001B[43m(\u001B[49m\u001B[38;5;124;43m'\u001B[39;49m\u001B[38;5;130;43;01m\\n\u001B[39;49;00m\u001B[38;5;124;43m'\u001B[39;49m\u001B[43m,\u001B[49m\u001B[43m \u001B[49m\u001B[38;5;124;43m'\u001B[39;49m\u001B[38;5;124;43m \u001B[39;49m\u001B[38;5;124;43m'\u001B[39;49m\u001B[43m)\u001B[49m\u001B[43m,\u001B[49m\u001B[43m \u001B[49m\u001B[43mvar_stack\u001B[49m\u001B[43m,\u001B[49m\u001B[43m \u001B[49m\u001B[43mallow_recursion\u001B[49m\u001B[43m \u001B[49m\u001B[38;5;241;43m-\u001B[39;49m\u001B[43m \u001B[49m\u001B[38;5;241;43m1\u001B[39;49m\u001B[43m)\u001B[49m\n\u001B[1;32m    930\u001B[0m \u001B[38;5;28;01mif\u001B[39;00m should_abort:\n\u001B[1;32m    931\u001B[0m     \u001B[38;5;28;01mreturn\u001B[39;00m ret\n",
      "File \u001B[0;32m~/.local/lib/python3.10/site-packages/yt_dlp/jsinterp.py:241\u001B[0m, in \u001B[0;36mDebugger.wrap_interpreter.<locals>.interpret_statement\u001B[0;34m(self, stmt, local_vars, allow_recursion, *args, **kwargs)\u001B[0m\n\u001B[1;32m    239\u001B[0m     \u001B[38;5;28mcls\u001B[39m\u001B[38;5;241m.\u001B[39mwrite(stmt, level\u001B[38;5;241m=\u001B[39mallow_recursion)\n\u001B[1;32m    240\u001B[0m \u001B[38;5;28;01mtry\u001B[39;00m:\n\u001B[0;32m--> 241\u001B[0m     ret, should_ret \u001B[38;5;241m=\u001B[39m \u001B[43mf\u001B[49m\u001B[43m(\u001B[49m\u001B[38;5;28;43mself\u001B[39;49m\u001B[43m,\u001B[49m\u001B[43m \u001B[49m\u001B[43mstmt\u001B[49m\u001B[43m,\u001B[49m\u001B[43m \u001B[49m\u001B[43mlocal_vars\u001B[49m\u001B[43m,\u001B[49m\u001B[43m \u001B[49m\u001B[43mallow_recursion\u001B[49m\u001B[43m,\u001B[49m\u001B[43m \u001B[49m\u001B[38;5;241;43m*\u001B[39;49m\u001B[43margs\u001B[49m\u001B[43m,\u001B[49m\u001B[43m \u001B[49m\u001B[38;5;241;43m*\u001B[39;49m\u001B[38;5;241;43m*\u001B[39;49m\u001B[43mkwargs\u001B[49m\u001B[43m)\u001B[49m\n\u001B[1;32m    242\u001B[0m \u001B[38;5;28;01mexcept\u001B[39;00m \u001B[38;5;167;01mException\u001B[39;00m \u001B[38;5;28;01mas\u001B[39;00m e:\n\u001B[1;32m    243\u001B[0m     \u001B[38;5;28;01mif\u001B[39;00m \u001B[38;5;28mcls\u001B[39m\u001B[38;5;241m.\u001B[39mENABLED:\n",
      "File \u001B[0;32m~/.local/lib/python3.10/site-packages/yt_dlp/jsinterp.py:841\u001B[0m, in \u001B[0;36mJSInterpreter.interpret_statement\u001B[0;34m(self, stmt, local_vars, allow_recursion)\u001B[0m\n\u001B[1;32m    838\u001B[0m argvals \u001B[38;5;241m=\u001B[39m [\u001B[38;5;28mself\u001B[39m\u001B[38;5;241m.\u001B[39minterpret_expression(v, local_vars, allow_recursion)\n\u001B[1;32m    839\u001B[0m            \u001B[38;5;28;01mfor\u001B[39;00m v \u001B[38;5;129;01min\u001B[39;00m \u001B[38;5;28mself\u001B[39m\u001B[38;5;241m.\u001B[39m_separate(m\u001B[38;5;241m.\u001B[39mgroup(\u001B[38;5;124m'\u001B[39m\u001B[38;5;124margs\u001B[39m\u001B[38;5;124m'\u001B[39m))]\n\u001B[1;32m    840\u001B[0m \u001B[38;5;28;01mif\u001B[39;00m fname \u001B[38;5;129;01min\u001B[39;00m local_vars:\n\u001B[0;32m--> 841\u001B[0m     \u001B[38;5;28;01mreturn\u001B[39;00m \u001B[43mlocal_vars\u001B[49m\u001B[43m[\u001B[49m\u001B[43mfname\u001B[49m\u001B[43m]\u001B[49m\u001B[43m(\u001B[49m\u001B[43margvals\u001B[49m\u001B[43m,\u001B[49m\u001B[43m \u001B[49m\u001B[43mallow_recursion\u001B[49m\u001B[38;5;241;43m=\u001B[39;49m\u001B[43mallow_recursion\u001B[49m\u001B[43m)\u001B[49m, should_return\n\u001B[1;32m    842\u001B[0m \u001B[38;5;28;01melif\u001B[39;00m fname \u001B[38;5;129;01mnot\u001B[39;00m \u001B[38;5;129;01min\u001B[39;00m \u001B[38;5;28mself\u001B[39m\u001B[38;5;241m.\u001B[39m_functions:\n\u001B[1;32m    843\u001B[0m     \u001B[38;5;28mself\u001B[39m\u001B[38;5;241m.\u001B[39m_functions[fname] \u001B[38;5;241m=\u001B[39m \u001B[38;5;28mself\u001B[39m\u001B[38;5;241m.\u001B[39mextract_function(fname)\n",
      "File \u001B[0;32m~/.local/lib/python3.10/site-packages/yt_dlp/utils/_utils.py:5046\u001B[0m, in \u001B[0;36mfunction_with_repr.__call__\u001B[0;34m(self, *args, **kwargs)\u001B[0m\n\u001B[1;32m   5045\u001B[0m \u001B[38;5;28;01mdef\u001B[39;00m\u001B[38;5;250m \u001B[39m\u001B[38;5;21m__call__\u001B[39m(\u001B[38;5;28mself\u001B[39m, \u001B[38;5;241m*\u001B[39margs, \u001B[38;5;241m*\u001B[39m\u001B[38;5;241m*\u001B[39mkwargs):\n\u001B[0;32m-> 5046\u001B[0m     \u001B[38;5;28;01mreturn\u001B[39;00m \u001B[38;5;28;43mself\u001B[39;49m\u001B[38;5;241;43m.\u001B[39;49m\u001B[43mfunc\u001B[49m\u001B[43m(\u001B[49m\u001B[38;5;241;43m*\u001B[39;49m\u001B[43margs\u001B[49m\u001B[43m,\u001B[49m\u001B[43m \u001B[49m\u001B[38;5;241;43m*\u001B[39;49m\u001B[38;5;241;43m*\u001B[39;49m\u001B[43mkwargs\u001B[49m\u001B[43m)\u001B[49m\n",
      "File \u001B[0;32m~/.local/lib/python3.10/site-packages/yt_dlp/jsinterp.py:929\u001B[0m, in \u001B[0;36mJSInterpreter.build_function.<locals>.resf\u001B[0;34m(args, kwargs, allow_recursion)\u001B[0m\n\u001B[1;32m    927\u001B[0m global_stack[\u001B[38;5;241m0\u001B[39m]\u001B[38;5;241m.\u001B[39mupdate(kwargs)\n\u001B[1;32m    928\u001B[0m var_stack \u001B[38;5;241m=\u001B[39m LocalNameSpace(\u001B[38;5;241m*\u001B[39mglobal_stack)\n\u001B[0;32m--> 929\u001B[0m ret, should_abort \u001B[38;5;241m=\u001B[39m \u001B[38;5;28;43mself\u001B[39;49m\u001B[38;5;241;43m.\u001B[39;49m\u001B[43minterpret_statement\u001B[49m\u001B[43m(\u001B[49m\u001B[43mcode\u001B[49m\u001B[38;5;241;43m.\u001B[39;49m\u001B[43mreplace\u001B[49m\u001B[43m(\u001B[49m\u001B[38;5;124;43m'\u001B[39;49m\u001B[38;5;130;43;01m\\n\u001B[39;49;00m\u001B[38;5;124;43m'\u001B[39;49m\u001B[43m,\u001B[49m\u001B[43m \u001B[49m\u001B[38;5;124;43m'\u001B[39;49m\u001B[38;5;124;43m \u001B[39;49m\u001B[38;5;124;43m'\u001B[39;49m\u001B[43m)\u001B[49m\u001B[43m,\u001B[49m\u001B[43m \u001B[49m\u001B[43mvar_stack\u001B[49m\u001B[43m,\u001B[49m\u001B[43m \u001B[49m\u001B[43mallow_recursion\u001B[49m\u001B[43m \u001B[49m\u001B[38;5;241;43m-\u001B[39;49m\u001B[43m \u001B[49m\u001B[38;5;241;43m1\u001B[39;49m\u001B[43m)\u001B[49m\n\u001B[1;32m    930\u001B[0m \u001B[38;5;28;01mif\u001B[39;00m should_abort:\n\u001B[1;32m    931\u001B[0m     \u001B[38;5;28;01mreturn\u001B[39;00m ret\n",
      "File \u001B[0;32m~/.local/lib/python3.10/site-packages/yt_dlp/jsinterp.py:241\u001B[0m, in \u001B[0;36mDebugger.wrap_interpreter.<locals>.interpret_statement\u001B[0;34m(self, stmt, local_vars, allow_recursion, *args, **kwargs)\u001B[0m\n\u001B[1;32m    239\u001B[0m     \u001B[38;5;28mcls\u001B[39m\u001B[38;5;241m.\u001B[39mwrite(stmt, level\u001B[38;5;241m=\u001B[39mallow_recursion)\n\u001B[1;32m    240\u001B[0m \u001B[38;5;28;01mtry\u001B[39;00m:\n\u001B[0;32m--> 241\u001B[0m     ret, should_ret \u001B[38;5;241m=\u001B[39m \u001B[43mf\u001B[49m\u001B[43m(\u001B[49m\u001B[38;5;28;43mself\u001B[39;49m\u001B[43m,\u001B[49m\u001B[43m \u001B[49m\u001B[43mstmt\u001B[49m\u001B[43m,\u001B[49m\u001B[43m \u001B[49m\u001B[43mlocal_vars\u001B[49m\u001B[43m,\u001B[49m\u001B[43m \u001B[49m\u001B[43mallow_recursion\u001B[49m\u001B[43m,\u001B[49m\u001B[43m \u001B[49m\u001B[38;5;241;43m*\u001B[39;49m\u001B[43margs\u001B[49m\u001B[43m,\u001B[49m\u001B[43m \u001B[49m\u001B[38;5;241;43m*\u001B[39;49m\u001B[38;5;241;43m*\u001B[39;49m\u001B[43mkwargs\u001B[49m\u001B[43m)\u001B[49m\n\u001B[1;32m    242\u001B[0m \u001B[38;5;28;01mexcept\u001B[39;00m \u001B[38;5;167;01mException\u001B[39;00m \u001B[38;5;28;01mas\u001B[39;00m e:\n\u001B[1;32m    243\u001B[0m     \u001B[38;5;28;01mif\u001B[39;00m \u001B[38;5;28mcls\u001B[39m\u001B[38;5;241m.\u001B[39mENABLED:\n",
      "File \u001B[0;32m~/.local/lib/python3.10/site-packages/yt_dlp/jsinterp.py:841\u001B[0m, in \u001B[0;36mJSInterpreter.interpret_statement\u001B[0;34m(self, stmt, local_vars, allow_recursion)\u001B[0m\n\u001B[1;32m    838\u001B[0m argvals \u001B[38;5;241m=\u001B[39m [\u001B[38;5;28mself\u001B[39m\u001B[38;5;241m.\u001B[39minterpret_expression(v, local_vars, allow_recursion)\n\u001B[1;32m    839\u001B[0m            \u001B[38;5;28;01mfor\u001B[39;00m v \u001B[38;5;129;01min\u001B[39;00m \u001B[38;5;28mself\u001B[39m\u001B[38;5;241m.\u001B[39m_separate(m\u001B[38;5;241m.\u001B[39mgroup(\u001B[38;5;124m'\u001B[39m\u001B[38;5;124margs\u001B[39m\u001B[38;5;124m'\u001B[39m))]\n\u001B[1;32m    840\u001B[0m \u001B[38;5;28;01mif\u001B[39;00m fname \u001B[38;5;129;01min\u001B[39;00m local_vars:\n\u001B[0;32m--> 841\u001B[0m     \u001B[38;5;28;01mreturn\u001B[39;00m \u001B[43mlocal_vars\u001B[49m\u001B[43m[\u001B[49m\u001B[43mfname\u001B[49m\u001B[43m]\u001B[49m\u001B[43m(\u001B[49m\u001B[43margvals\u001B[49m\u001B[43m,\u001B[49m\u001B[43m \u001B[49m\u001B[43mallow_recursion\u001B[49m\u001B[38;5;241;43m=\u001B[39;49m\u001B[43mallow_recursion\u001B[49m\u001B[43m)\u001B[49m, should_return\n\u001B[1;32m    842\u001B[0m \u001B[38;5;28;01melif\u001B[39;00m fname \u001B[38;5;129;01mnot\u001B[39;00m \u001B[38;5;129;01min\u001B[39;00m \u001B[38;5;28mself\u001B[39m\u001B[38;5;241m.\u001B[39m_functions:\n\u001B[1;32m    843\u001B[0m     \u001B[38;5;28mself\u001B[39m\u001B[38;5;241m.\u001B[39m_functions[fname] \u001B[38;5;241m=\u001B[39m \u001B[38;5;28mself\u001B[39m\u001B[38;5;241m.\u001B[39mextract_function(fname)\n",
      "File \u001B[0;32m~/.local/lib/python3.10/site-packages/yt_dlp/utils/_utils.py:5046\u001B[0m, in \u001B[0;36mfunction_with_repr.__call__\u001B[0;34m(self, *args, **kwargs)\u001B[0m\n\u001B[1;32m   5045\u001B[0m \u001B[38;5;28;01mdef\u001B[39;00m\u001B[38;5;250m \u001B[39m\u001B[38;5;21m__call__\u001B[39m(\u001B[38;5;28mself\u001B[39m, \u001B[38;5;241m*\u001B[39margs, \u001B[38;5;241m*\u001B[39m\u001B[38;5;241m*\u001B[39mkwargs):\n\u001B[0;32m-> 5046\u001B[0m     \u001B[38;5;28;01mreturn\u001B[39;00m \u001B[38;5;28;43mself\u001B[39;49m\u001B[38;5;241;43m.\u001B[39;49m\u001B[43mfunc\u001B[49m\u001B[43m(\u001B[49m\u001B[38;5;241;43m*\u001B[39;49m\u001B[43margs\u001B[49m\u001B[43m,\u001B[49m\u001B[43m \u001B[49m\u001B[38;5;241;43m*\u001B[39;49m\u001B[38;5;241;43m*\u001B[39;49m\u001B[43mkwargs\u001B[49m\u001B[43m)\u001B[49m\n",
      "File \u001B[0;32m~/.local/lib/python3.10/site-packages/yt_dlp/jsinterp.py:929\u001B[0m, in \u001B[0;36mJSInterpreter.build_function.<locals>.resf\u001B[0;34m(args, kwargs, allow_recursion)\u001B[0m\n\u001B[1;32m    927\u001B[0m global_stack[\u001B[38;5;241m0\u001B[39m]\u001B[38;5;241m.\u001B[39mupdate(kwargs)\n\u001B[1;32m    928\u001B[0m var_stack \u001B[38;5;241m=\u001B[39m LocalNameSpace(\u001B[38;5;241m*\u001B[39mglobal_stack)\n\u001B[0;32m--> 929\u001B[0m ret, should_abort \u001B[38;5;241m=\u001B[39m \u001B[38;5;28;43mself\u001B[39;49m\u001B[38;5;241;43m.\u001B[39;49m\u001B[43minterpret_statement\u001B[49m\u001B[43m(\u001B[49m\u001B[43mcode\u001B[49m\u001B[38;5;241;43m.\u001B[39;49m\u001B[43mreplace\u001B[49m\u001B[43m(\u001B[49m\u001B[38;5;124;43m'\u001B[39;49m\u001B[38;5;130;43;01m\\n\u001B[39;49;00m\u001B[38;5;124;43m'\u001B[39;49m\u001B[43m,\u001B[49m\u001B[43m \u001B[49m\u001B[38;5;124;43m'\u001B[39;49m\u001B[38;5;124;43m \u001B[39;49m\u001B[38;5;124;43m'\u001B[39;49m\u001B[43m)\u001B[49m\u001B[43m,\u001B[49m\u001B[43m \u001B[49m\u001B[43mvar_stack\u001B[49m\u001B[43m,\u001B[49m\u001B[43m \u001B[49m\u001B[43mallow_recursion\u001B[49m\u001B[43m \u001B[49m\u001B[38;5;241;43m-\u001B[39;49m\u001B[43m \u001B[49m\u001B[38;5;241;43m1\u001B[39;49m\u001B[43m)\u001B[49m\n\u001B[1;32m    930\u001B[0m \u001B[38;5;28;01mif\u001B[39;00m should_abort:\n\u001B[1;32m    931\u001B[0m     \u001B[38;5;28;01mreturn\u001B[39;00m ret\n",
      "File \u001B[0;32m~/.local/lib/python3.10/site-packages/yt_dlp/jsinterp.py:241\u001B[0m, in \u001B[0;36mDebugger.wrap_interpreter.<locals>.interpret_statement\u001B[0;34m(self, stmt, local_vars, allow_recursion, *args, **kwargs)\u001B[0m\n\u001B[1;32m    239\u001B[0m     \u001B[38;5;28mcls\u001B[39m\u001B[38;5;241m.\u001B[39mwrite(stmt, level\u001B[38;5;241m=\u001B[39mallow_recursion)\n\u001B[1;32m    240\u001B[0m \u001B[38;5;28;01mtry\u001B[39;00m:\n\u001B[0;32m--> 241\u001B[0m     ret, should_ret \u001B[38;5;241m=\u001B[39m \u001B[43mf\u001B[49m\u001B[43m(\u001B[49m\u001B[38;5;28;43mself\u001B[39;49m\u001B[43m,\u001B[49m\u001B[43m \u001B[49m\u001B[43mstmt\u001B[49m\u001B[43m,\u001B[49m\u001B[43m \u001B[49m\u001B[43mlocal_vars\u001B[49m\u001B[43m,\u001B[49m\u001B[43m \u001B[49m\u001B[43mallow_recursion\u001B[49m\u001B[43m,\u001B[49m\u001B[43m \u001B[49m\u001B[38;5;241;43m*\u001B[39;49m\u001B[43margs\u001B[49m\u001B[43m,\u001B[49m\u001B[43m \u001B[49m\u001B[38;5;241;43m*\u001B[39;49m\u001B[38;5;241;43m*\u001B[39;49m\u001B[43mkwargs\u001B[49m\u001B[43m)\u001B[49m\n\u001B[1;32m    242\u001B[0m \u001B[38;5;28;01mexcept\u001B[39;00m \u001B[38;5;167;01mException\u001B[39;00m \u001B[38;5;28;01mas\u001B[39;00m e:\n\u001B[1;32m    243\u001B[0m     \u001B[38;5;28;01mif\u001B[39;00m \u001B[38;5;28mcls\u001B[39m\u001B[38;5;241m.\u001B[39mENABLED:\n",
      "File \u001B[0;32m~/.local/lib/python3.10/site-packages/yt_dlp/jsinterp.py:546\u001B[0m, in \u001B[0;36mJSInterpreter.interpret_statement\u001B[0;34m(self, stmt, local_vars, allow_recursion)\u001B[0m\n\u001B[1;32m    544\u001B[0m     \u001B[38;5;28;01mbreak\u001B[39;00m\n\u001B[1;32m    545\u001B[0m \u001B[38;5;28;01mtry\u001B[39;00m:\n\u001B[0;32m--> 546\u001B[0m     ret, should_abort \u001B[38;5;241m=\u001B[39m \u001B[38;5;28;43mself\u001B[39;49m\u001B[38;5;241;43m.\u001B[39;49m\u001B[43minterpret_statement\u001B[49m\u001B[43m(\u001B[49m\u001B[43mbody\u001B[49m\u001B[43m,\u001B[49m\u001B[43m \u001B[49m\u001B[43mlocal_vars\u001B[49m\u001B[43m,\u001B[49m\u001B[43m \u001B[49m\u001B[43mallow_recursion\u001B[49m\u001B[43m)\u001B[49m\n\u001B[1;32m    547\u001B[0m     \u001B[38;5;28;01mif\u001B[39;00m should_abort:\n\u001B[1;32m    548\u001B[0m         \u001B[38;5;28;01mreturn\u001B[39;00m ret, \u001B[38;5;28;01mTrue\u001B[39;00m\n",
      "File \u001B[0;32m~/.local/lib/python3.10/site-packages/yt_dlp/jsinterp.py:241\u001B[0m, in \u001B[0;36mDebugger.wrap_interpreter.<locals>.interpret_statement\u001B[0;34m(self, stmt, local_vars, allow_recursion, *args, **kwargs)\u001B[0m\n\u001B[1;32m    239\u001B[0m     \u001B[38;5;28mcls\u001B[39m\u001B[38;5;241m.\u001B[39mwrite(stmt, level\u001B[38;5;241m=\u001B[39mallow_recursion)\n\u001B[1;32m    240\u001B[0m \u001B[38;5;28;01mtry\u001B[39;00m:\n\u001B[0;32m--> 241\u001B[0m     ret, should_ret \u001B[38;5;241m=\u001B[39m \u001B[43mf\u001B[49m\u001B[43m(\u001B[49m\u001B[38;5;28;43mself\u001B[39;49m\u001B[43m,\u001B[49m\u001B[43m \u001B[49m\u001B[43mstmt\u001B[49m\u001B[43m,\u001B[49m\u001B[43m \u001B[49m\u001B[43mlocal_vars\u001B[49m\u001B[43m,\u001B[49m\u001B[43m \u001B[49m\u001B[43mallow_recursion\u001B[49m\u001B[43m,\u001B[49m\u001B[43m \u001B[49m\u001B[38;5;241;43m*\u001B[39;49m\u001B[43margs\u001B[49m\u001B[43m,\u001B[49m\u001B[43m \u001B[49m\u001B[38;5;241;43m*\u001B[39;49m\u001B[38;5;241;43m*\u001B[39;49m\u001B[43mkwargs\u001B[49m\u001B[43m)\u001B[49m\n\u001B[1;32m    242\u001B[0m \u001B[38;5;28;01mexcept\u001B[39;00m \u001B[38;5;167;01mException\u001B[39;00m \u001B[38;5;28;01mas\u001B[39;00m e:\n\u001B[1;32m    243\u001B[0m     \u001B[38;5;28;01mif\u001B[39;00m \u001B[38;5;28mcls\u001B[39m\u001B[38;5;241m.\u001B[39mENABLED:\n",
      "File \u001B[0;32m~/.local/lib/python3.10/site-packages/yt_dlp/jsinterp.py:834\u001B[0m, in \u001B[0;36mJSInterpreter.interpret_statement\u001B[0;34m(self, stmt, local_vars, allow_recursion)\u001B[0m\n\u001B[1;32m    832\u001B[0m         \u001B[38;5;28;01mreturn\u001B[39;00m ret, should_return \u001B[38;5;129;01mor\u001B[39;00m should_abort\n\u001B[1;32m    833\u001B[0m     \u001B[38;5;28;01melse\u001B[39;00m:\n\u001B[0;32m--> 834\u001B[0m         \u001B[38;5;28;01mreturn\u001B[39;00m \u001B[43meval_method\u001B[49m\u001B[43m(\u001B[49m\u001B[43m)\u001B[49m, should_return\n\u001B[1;32m    836\u001B[0m \u001B[38;5;28;01melif\u001B[39;00m m \u001B[38;5;129;01mand\u001B[39;00m m\u001B[38;5;241m.\u001B[39mgroup(\u001B[38;5;124m'\u001B[39m\u001B[38;5;124mfunction\u001B[39m\u001B[38;5;124m'\u001B[39m):\n\u001B[1;32m    837\u001B[0m     fname \u001B[38;5;241m=\u001B[39m m\u001B[38;5;241m.\u001B[39mgroup(\u001B[38;5;124m'\u001B[39m\u001B[38;5;124mfname\u001B[39m\u001B[38;5;124m'\u001B[39m)\n",
      "File \u001B[0;32m~/.local/lib/python3.10/site-packages/yt_dlp/jsinterp.py:729\u001B[0m, in \u001B[0;36mJSInterpreter.interpret_statement.<locals>.eval_method\u001B[0;34m()\u001B[0m\n\u001B[1;32m    726\u001B[0m     \u001B[38;5;28;01mreturn\u001B[39;00m \u001B[38;5;28mself\u001B[39m\u001B[38;5;241m.\u001B[39m_index(obj, member, nullish)\n\u001B[1;32m    728\u001B[0m \u001B[38;5;66;03m# Function call\u001B[39;00m\n\u001B[0;32m--> 729\u001B[0m argvals \u001B[38;5;241m=\u001B[39m [\n\u001B[1;32m    730\u001B[0m     \u001B[38;5;28mself\u001B[39m\u001B[38;5;241m.\u001B[39minterpret_expression(v, local_vars, allow_recursion)\n\u001B[1;32m    731\u001B[0m     \u001B[38;5;28;01mfor\u001B[39;00m v \u001B[38;5;129;01min\u001B[39;00m \u001B[38;5;28mself\u001B[39m\u001B[38;5;241m.\u001B[39m_separate(arg_str)]\n\u001B[1;32m    733\u001B[0m \u001B[38;5;66;03m# Fixup prototype call\u001B[39;00m\n\u001B[1;32m    734\u001B[0m \u001B[38;5;28;01mif\u001B[39;00m \u001B[38;5;28misinstance\u001B[39m(obj, \u001B[38;5;28mtype\u001B[39m) \u001B[38;5;129;01mand\u001B[39;00m member\u001B[38;5;241m.\u001B[39mstartswith(\u001B[38;5;124m'\u001B[39m\u001B[38;5;124mprototype.\u001B[39m\u001B[38;5;124m'\u001B[39m):\n",
      "File \u001B[0;32m~/.local/lib/python3.10/site-packages/yt_dlp/jsinterp.py:730\u001B[0m, in \u001B[0;36m<listcomp>\u001B[0;34m(.0)\u001B[0m\n\u001B[1;32m    726\u001B[0m     \u001B[38;5;28;01mreturn\u001B[39;00m \u001B[38;5;28mself\u001B[39m\u001B[38;5;241m.\u001B[39m_index(obj, member, nullish)\n\u001B[1;32m    728\u001B[0m \u001B[38;5;66;03m# Function call\u001B[39;00m\n\u001B[1;32m    729\u001B[0m argvals \u001B[38;5;241m=\u001B[39m [\n\u001B[0;32m--> 730\u001B[0m     \u001B[38;5;28;43mself\u001B[39;49m\u001B[38;5;241;43m.\u001B[39;49m\u001B[43minterpret_expression\u001B[49m\u001B[43m(\u001B[49m\u001B[43mv\u001B[49m\u001B[43m,\u001B[49m\u001B[43m \u001B[49m\u001B[43mlocal_vars\u001B[49m\u001B[43m,\u001B[49m\u001B[43m \u001B[49m\u001B[43mallow_recursion\u001B[49m\u001B[43m)\u001B[49m\n\u001B[1;32m    731\u001B[0m     \u001B[38;5;28;01mfor\u001B[39;00m v \u001B[38;5;129;01min\u001B[39;00m \u001B[38;5;28mself\u001B[39m\u001B[38;5;241m.\u001B[39m_separate(arg_str)]\n\u001B[1;32m    733\u001B[0m \u001B[38;5;66;03m# Fixup prototype call\u001B[39;00m\n\u001B[1;32m    734\u001B[0m \u001B[38;5;28;01mif\u001B[39;00m \u001B[38;5;28misinstance\u001B[39m(obj, \u001B[38;5;28mtype\u001B[39m) \u001B[38;5;129;01mand\u001B[39;00m member\u001B[38;5;241m.\u001B[39mstartswith(\u001B[38;5;124m'\u001B[39m\u001B[38;5;124mprototype.\u001B[39m\u001B[38;5;124m'\u001B[39m):\n",
      "File \u001B[0;32m~/.local/lib/python3.10/site-packages/yt_dlp/jsinterp.py:850\u001B[0m, in \u001B[0;36mJSInterpreter.interpret_expression\u001B[0;34m(self, expr, local_vars, allow_recursion)\u001B[0m\n\u001B[1;32m    849\u001B[0m \u001B[38;5;28;01mdef\u001B[39;00m\u001B[38;5;250m \u001B[39m\u001B[38;5;21minterpret_expression\u001B[39m(\u001B[38;5;28mself\u001B[39m, expr, local_vars, allow_recursion):\n\u001B[0;32m--> 850\u001B[0m     ret, should_return \u001B[38;5;241m=\u001B[39m \u001B[38;5;28;43mself\u001B[39;49m\u001B[38;5;241;43m.\u001B[39;49m\u001B[43minterpret_statement\u001B[49m\u001B[43m(\u001B[49m\u001B[43mexpr\u001B[49m\u001B[43m,\u001B[49m\u001B[43m \u001B[49m\u001B[43mlocal_vars\u001B[49m\u001B[43m,\u001B[49m\u001B[43m \u001B[49m\u001B[43mallow_recursion\u001B[49m\u001B[43m)\u001B[49m\n\u001B[1;32m    851\u001B[0m     \u001B[38;5;28;01mif\u001B[39;00m should_return:\n\u001B[1;32m    852\u001B[0m         \u001B[38;5;28;01mraise\u001B[39;00m \u001B[38;5;28mself\u001B[39m\u001B[38;5;241m.\u001B[39mException(\u001B[38;5;124m'\u001B[39m\u001B[38;5;124mCannot return from an expression\u001B[39m\u001B[38;5;124m'\u001B[39m, expr)\n",
      "File \u001B[0;32m~/.local/lib/python3.10/site-packages/yt_dlp/jsinterp.py:241\u001B[0m, in \u001B[0;36mDebugger.wrap_interpreter.<locals>.interpret_statement\u001B[0;34m(self, stmt, local_vars, allow_recursion, *args, **kwargs)\u001B[0m\n\u001B[1;32m    239\u001B[0m     \u001B[38;5;28mcls\u001B[39m\u001B[38;5;241m.\u001B[39mwrite(stmt, level\u001B[38;5;241m=\u001B[39mallow_recursion)\n\u001B[1;32m    240\u001B[0m \u001B[38;5;28;01mtry\u001B[39;00m:\n\u001B[0;32m--> 241\u001B[0m     ret, should_ret \u001B[38;5;241m=\u001B[39m \u001B[43mf\u001B[49m\u001B[43m(\u001B[49m\u001B[38;5;28;43mself\u001B[39;49m\u001B[43m,\u001B[49m\u001B[43m \u001B[49m\u001B[43mstmt\u001B[49m\u001B[43m,\u001B[49m\u001B[43m \u001B[49m\u001B[43mlocal_vars\u001B[49m\u001B[43m,\u001B[49m\u001B[43m \u001B[49m\u001B[43mallow_recursion\u001B[49m\u001B[43m,\u001B[49m\u001B[43m \u001B[49m\u001B[38;5;241;43m*\u001B[39;49m\u001B[43margs\u001B[49m\u001B[43m,\u001B[49m\u001B[43m \u001B[49m\u001B[38;5;241;43m*\u001B[39;49m\u001B[38;5;241;43m*\u001B[39;49m\u001B[43mkwargs\u001B[49m\u001B[43m)\u001B[49m\n\u001B[1;32m    242\u001B[0m \u001B[38;5;28;01mexcept\u001B[39;00m \u001B[38;5;167;01mException\u001B[39;00m \u001B[38;5;28;01mas\u001B[39;00m e:\n\u001B[1;32m    243\u001B[0m     \u001B[38;5;28;01mif\u001B[39;00m \u001B[38;5;28mcls\u001B[39m\u001B[38;5;241m.\u001B[39mENABLED:\n",
      "File \u001B[0;32m~/.local/lib/python3.10/site-packages/yt_dlp/jsinterp.py:829\u001B[0m, in \u001B[0;36mJSInterpreter.interpret_statement\u001B[0;34m(self, stmt, local_vars, allow_recursion)\u001B[0m\n\u001B[1;32m    826\u001B[0m     \u001B[38;5;28;01mreturn\u001B[39;00m obj[idx](argvals, allow_recursion\u001B[38;5;241m=\u001B[39mallow_recursion)\n\u001B[1;32m    828\u001B[0m \u001B[38;5;28;01mif\u001B[39;00m remaining:\n\u001B[0;32m--> 829\u001B[0m     ret, should_abort \u001B[38;5;241m=\u001B[39m \u001B[38;5;28;43mself\u001B[39;49m\u001B[38;5;241;43m.\u001B[39;49m\u001B[43minterpret_statement\u001B[49m\u001B[43m(\u001B[49m\n\u001B[1;32m    830\u001B[0m \u001B[43m        \u001B[49m\u001B[38;5;28;43mself\u001B[39;49m\u001B[38;5;241;43m.\u001B[39;49m\u001B[43m_named_object\u001B[49m\u001B[43m(\u001B[49m\u001B[43mlocal_vars\u001B[49m\u001B[43m,\u001B[49m\u001B[43m \u001B[49m\u001B[43meval_method\u001B[49m\u001B[43m(\u001B[49m\u001B[43m)\u001B[49m\u001B[43m)\u001B[49m\u001B[43m \u001B[49m\u001B[38;5;241;43m+\u001B[39;49m\u001B[43m \u001B[49m\u001B[43mremaining\u001B[49m\u001B[43m,\u001B[49m\n\u001B[1;32m    831\u001B[0m \u001B[43m        \u001B[49m\u001B[43mlocal_vars\u001B[49m\u001B[43m,\u001B[49m\u001B[43m \u001B[49m\u001B[43mallow_recursion\u001B[49m\u001B[43m)\u001B[49m\n\u001B[1;32m    832\u001B[0m     \u001B[38;5;28;01mreturn\u001B[39;00m ret, should_return \u001B[38;5;129;01mor\u001B[39;00m should_abort\n\u001B[1;32m    833\u001B[0m \u001B[38;5;28;01melse\u001B[39;00m:\n",
      "File \u001B[0;32m~/.local/lib/python3.10/site-packages/yt_dlp/jsinterp.py:241\u001B[0m, in \u001B[0;36mDebugger.wrap_interpreter.<locals>.interpret_statement\u001B[0;34m(self, stmt, local_vars, allow_recursion, *args, **kwargs)\u001B[0m\n\u001B[1;32m    239\u001B[0m     \u001B[38;5;28mcls\u001B[39m\u001B[38;5;241m.\u001B[39mwrite(stmt, level\u001B[38;5;241m=\u001B[39mallow_recursion)\n\u001B[1;32m    240\u001B[0m \u001B[38;5;28;01mtry\u001B[39;00m:\n\u001B[0;32m--> 241\u001B[0m     ret, should_ret \u001B[38;5;241m=\u001B[39m \u001B[43mf\u001B[49m\u001B[43m(\u001B[49m\u001B[38;5;28;43mself\u001B[39;49m\u001B[43m,\u001B[49m\u001B[43m \u001B[49m\u001B[43mstmt\u001B[49m\u001B[43m,\u001B[49m\u001B[43m \u001B[49m\u001B[43mlocal_vars\u001B[49m\u001B[43m,\u001B[49m\u001B[43m \u001B[49m\u001B[43mallow_recursion\u001B[49m\u001B[43m,\u001B[49m\u001B[43m \u001B[49m\u001B[38;5;241;43m*\u001B[39;49m\u001B[43margs\u001B[49m\u001B[43m,\u001B[49m\u001B[43m \u001B[49m\u001B[38;5;241;43m*\u001B[39;49m\u001B[38;5;241;43m*\u001B[39;49m\u001B[43mkwargs\u001B[49m\u001B[43m)\u001B[49m\n\u001B[1;32m    242\u001B[0m \u001B[38;5;28;01mexcept\u001B[39;00m \u001B[38;5;167;01mException\u001B[39;00m \u001B[38;5;28;01mas\u001B[39;00m e:\n\u001B[1;32m    243\u001B[0m     \u001B[38;5;28;01mif\u001B[39;00m \u001B[38;5;28mcls\u001B[39m\u001B[38;5;241m.\u001B[39mENABLED:\n",
      "File \u001B[0;32m~/.local/lib/python3.10/site-packages/yt_dlp/jsinterp.py:668\u001B[0m, in \u001B[0;36mJSInterpreter.interpret_statement\u001B[0;34m(self, stmt, local_vars, allow_recursion)\u001B[0m\n\u001B[1;32m    665\u001B[0m     \u001B[38;5;28;01mreturn\u001B[39;00m \u001B[38;5;28mself\u001B[39m\u001B[38;5;241m.\u001B[39m_index(val, idx), should_return\n\u001B[1;32m    667\u001B[0m \u001B[38;5;28;01mfor\u001B[39;00m op \u001B[38;5;129;01min\u001B[39;00m _OPERATORS:\n\u001B[0;32m--> 668\u001B[0m     separated \u001B[38;5;241m=\u001B[39m \u001B[38;5;28;43mlist\u001B[39;49m\u001B[43m(\u001B[49m\u001B[38;5;28;43mself\u001B[39;49m\u001B[38;5;241;43m.\u001B[39;49m\u001B[43m_separate\u001B[49m\u001B[43m(\u001B[49m\u001B[43mexpr\u001B[49m\u001B[43m,\u001B[49m\u001B[43m \u001B[49m\u001B[43mop\u001B[49m\u001B[43m)\u001B[49m\u001B[43m)\u001B[49m\n\u001B[1;32m    669\u001B[0m     right_expr \u001B[38;5;241m=\u001B[39m separated\u001B[38;5;241m.\u001B[39mpop()\n\u001B[1;32m    670\u001B[0m     \u001B[38;5;28;01mwhile\u001B[39;00m \u001B[38;5;28;01mTrue\u001B[39;00m:\n",
      "File \u001B[0;32m~/.local/lib/python3.10/site-packages/yt_dlp/jsinterp.py:326\u001B[0m, in \u001B[0;36mJSInterpreter._separate\u001B[0;34m(expr, delim, max_split)\u001B[0m\n\u001B[1;32m    322\u001B[0m in_unary_op \u001B[38;5;241m=\u001B[39m (\u001B[38;5;129;01mnot\u001B[39;00m in_quote \u001B[38;5;129;01mand\u001B[39;00m \u001B[38;5;129;01mnot\u001B[39;00m in_regex_char_group\n\u001B[1;32m    323\u001B[0m                \u001B[38;5;129;01mand\u001B[39;00m after_op \u001B[38;5;129;01mnot\u001B[39;00m \u001B[38;5;129;01min\u001B[39;00m (\u001B[38;5;28;01mTrue\u001B[39;00m, \u001B[38;5;28;01mFalse\u001B[39;00m) \u001B[38;5;129;01mand\u001B[39;00m char \u001B[38;5;129;01min\u001B[39;00m \u001B[38;5;124m'\u001B[39m\u001B[38;5;124m-+\u001B[39m\u001B[38;5;124m'\u001B[39m)\n\u001B[1;32m    324\u001B[0m after_op \u001B[38;5;241m=\u001B[39m char \u001B[38;5;28;01mif\u001B[39;00m (\u001B[38;5;129;01mnot\u001B[39;00m in_quote \u001B[38;5;129;01mand\u001B[39;00m char \u001B[38;5;129;01min\u001B[39;00m OP_CHARS) \u001B[38;5;28;01melse\u001B[39;00m (char\u001B[38;5;241m.\u001B[39misspace() \u001B[38;5;129;01mand\u001B[39;00m after_op)\n\u001B[0;32m--> 326\u001B[0m \u001B[38;5;28;01mif\u001B[39;00m char \u001B[38;5;241m!=\u001B[39m delim[pos] \u001B[38;5;129;01mor\u001B[39;00m \u001B[38;5;28many\u001B[39m(counters\u001B[38;5;241m.\u001B[39mvalues()) \u001B[38;5;129;01mor\u001B[39;00m in_quote \u001B[38;5;129;01mor\u001B[39;00m in_unary_op:\n\u001B[1;32m    327\u001B[0m     pos \u001B[38;5;241m=\u001B[39m \u001B[38;5;241m0\u001B[39m\n\u001B[1;32m    328\u001B[0m     \u001B[38;5;28;01mcontinue\u001B[39;00m\n",
      "\u001B[0;31mKeyboardInterrupt\u001B[0m: "
     ]
    }
   ],
   "execution_count": 6
  },
  {
   "metadata": {
    "ExecuteTime": {
     "end_time": "2025-05-27T01:16:05.062162Z",
     "start_time": "2025-05-27T01:16:01.750018Z"
    }
   },
   "cell_type": "code",
   "source": [
    "from src.abracadabra.recognize import index_all_songs\n",
    "index_all_songs(db_type=\"gcp\")"
   ],
   "id": "bf1011357e95b599",
   "outputs": [
    {
     "data": {
      "text/plain": [
       "<src.abracadabra.GCPFingerprintDB.GCPFingerprintDB at 0x78ee24ddaad0>"
      ]
     },
     "execution_count": 1,
     "metadata": {},
     "output_type": "execute_result"
    }
   ],
   "execution_count": 1
  },
  {
   "metadata": {
    "ExecuteTime": {
     "end_time": "2025-05-27T01:22:29.414003Z",
     "start_time": "2025-05-27T01:22:29.374732Z"
    }
   },
   "cell_type": "code",
   "source": [
    "with conn.cursor() as cur:\n",
    "    cur.execute(\"SELECT * FROM tracks where artist_names LIKE 'PSY';\")\n",
    "    rows = cur.fetchall()\n",
    "    for row in rows:\n",
    "        print(row)"
   ],
   "id": "5def5bd0e7e3a4bb",
   "outputs": [],
   "execution_count": 11
  },
  {
   "metadata": {
    "ExecuteTime": {
     "end_time": "2025-05-27T01:55:41.968525Z",
     "start_time": "2025-05-27T01:55:33.208592Z"
    }
   },
   "cell_type": "code",
   "source": [
    "from src.abracadabra.recognize import recognize_song\n",
    "match = recognize_song(\"../songs/Adele - Someone Like You (Official Music Video).m4a\", db)\n",
    "\n",
    "if match:\n",
    "    print(f\"Matched: {match[0]} (score: {match[1]})\")\n",
    "    # track_name, artist_names, album_name, youtube_url = db.check_song_info(match[0])\n",
    "    track_name, youtube_url = db.check_song_info(match[0])\n",
    "    print(f\"Track Name: {track_name}\")\n",
    "    print(f\"Artist Names: {artist_names}\")\n",
    "    print(f\"Album Name: {album_name}\")\n",
    "    print(f\"YouTube URL: {youtube_url}\")\n",
    "else:\n",
    "    print(\"No match found.\")"
   ],
   "id": "ba656877025fa63f",
   "outputs": [
    {
     "name": "stdout",
     "output_type": "stream",
     "text": [
      "Matched: 34 (score: 25)\n",
      "Track Name: Someone Like You\n"
     ]
    },
    {
     "ename": "NameError",
     "evalue": "name 'artist_names' is not defined",
     "output_type": "error",
     "traceback": [
      "\u001B[0;31m---------------------------------------------------------------------------\u001B[0m",
      "\u001B[0;31mNameError\u001B[0m                                 Traceback (most recent call last)",
      "Cell \u001B[0;32mIn[8], line 9\u001B[0m\n\u001B[1;32m      7\u001B[0m track_name, youtube_url \u001B[38;5;241m=\u001B[39m db\u001B[38;5;241m.\u001B[39mcheck_song_info(match[\u001B[38;5;241m0\u001B[39m])\n\u001B[1;32m      8\u001B[0m \u001B[38;5;28mprint\u001B[39m(\u001B[38;5;124mf\u001B[39m\u001B[38;5;124m\"\u001B[39m\u001B[38;5;124mTrack Name: \u001B[39m\u001B[38;5;132;01m{\u001B[39;00mtrack_name\u001B[38;5;132;01m}\u001B[39;00m\u001B[38;5;124m\"\u001B[39m)\n\u001B[0;32m----> 9\u001B[0m \u001B[38;5;28mprint\u001B[39m(\u001B[38;5;124mf\u001B[39m\u001B[38;5;124m\"\u001B[39m\u001B[38;5;124mArtist Names: \u001B[39m\u001B[38;5;132;01m{\u001B[39;00m\u001B[43martist_names\u001B[49m\u001B[38;5;132;01m}\u001B[39;00m\u001B[38;5;124m\"\u001B[39m)\n\u001B[1;32m     10\u001B[0m \u001B[38;5;28mprint\u001B[39m(\u001B[38;5;124mf\u001B[39m\u001B[38;5;124m\"\u001B[39m\u001B[38;5;124mAlbum Name: \u001B[39m\u001B[38;5;132;01m{\u001B[39;00malbum_name\u001B[38;5;132;01m}\u001B[39;00m\u001B[38;5;124m\"\u001B[39m)\n\u001B[1;32m     11\u001B[0m \u001B[38;5;28mprint\u001B[39m(\u001B[38;5;124mf\u001B[39m\u001B[38;5;124m\"\u001B[39m\u001B[38;5;124mYouTube URL: \u001B[39m\u001B[38;5;132;01m{\u001B[39;00myoutube_url\u001B[38;5;132;01m}\u001B[39;00m\u001B[38;5;124m\"\u001B[39m)\n",
      "\u001B[0;31mNameError\u001B[0m: name 'artist_names' is not defined"
     ]
    }
   ],
   "execution_count": 8
  },
  {
   "metadata": {},
   "cell_type": "code",
   "outputs": [],
   "execution_count": null,
   "source": "",
   "id": "973936f07893d9f4"
  }
 ],
 "metadata": {
  "kernelspec": {
   "display_name": "Python 3",
   "language": "python",
   "name": "python3"
  },
  "language_info": {
   "codemirror_mode": {
    "name": "ipython",
    "version": 2
   },
   "file_extension": ".py",
   "mimetype": "text/x-python",
   "name": "python",
   "nbconvert_exporter": "python",
   "pygments_lexer": "ipython2",
   "version": "2.7.6"
  }
 },
 "nbformat": 4,
 "nbformat_minor": 5
}
