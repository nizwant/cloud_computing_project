{
 "cells": [
  {
   "cell_type": "code",
   "id": "initial_id",
   "metadata": {
    "collapsed": true,
    "ExecuteTime": {
     "end_time": "2025-06-03T21:43:21.021333Z",
     "start_time": "2025-06-03T21:43:21.008840Z"
    }
   },
   "source": [
    "import csv\n",
    "import psycopg2\n",
    "from psycopg2 import sql\n",
    "from datetime import datetime\n",
    "import logging\n",
    "import os\n",
    "from dotenv import load_dotenv"
   ],
   "outputs": [],
   "execution_count": 1
  },
  {
   "metadata": {
    "ExecuteTime": {
     "end_time": "2025-06-03T21:43:21.618878Z",
     "start_time": "2025-06-03T21:43:21.450604Z"
    }
   },
   "cell_type": "code",
   "source": [
    "from google.cloud import secretmanager\n",
    "def get_secret(secret_id, project_id):\n",
    "    client = secretmanager.SecretManagerServiceClient()\n",
    "    name = f\"projects/{project_id}/secrets/{secret_id}/versions/latest\"\n",
    "    response = client.access_secret_version(request={\"name\": name})\n",
    "    return response.payload.data.decode(\"utf-8\")"
   ],
   "id": "136acadb1517d759",
   "outputs": [],
   "execution_count": 2
  },
  {
   "metadata": {
    "ExecuteTime": {
     "end_time": "2025-06-03T21:43:25.559166Z",
     "start_time": "2025-06-03T21:43:22.003478Z"
    }
   },
   "cell_type": "code",
   "source": [
    "PROJECT_ID = \"cloud-computing-project-458205\"\n",
    "load_dotenv()\n",
    "DB_NAME = os.getenv(\"DB_NAME\", \"database-instance\")\n",
    "DB_USER = get_secret(\"DB_USER\", PROJECT_ID).replace(\"\\n\", \"\")\n",
    "DB_PASSWORD = get_secret(\"DB_PASSWORD\", PROJECT_ID).replace(\"\\n\", \"\")\n",
    "DB_HOST = get_secret(\"DB_HOST\", PROJECT_ID).replace(\"\\n\", \"\")\n",
    "DB_PORT = os.getenv(\"DB_PORT\", \"5432\")"
   ],
   "id": "11a07abeb5e8e83d",
   "outputs": [],
   "execution_count": 3
  },
  {
   "metadata": {
    "ExecuteTime": {
     "end_time": "2025-06-03T21:43:25.848364Z",
     "start_time": "2025-06-03T21:43:25.560365Z"
    }
   },
   "cell_type": "code",
   "source": [
    "from psycopg2.extras import DictCursor\n",
    "conn = psycopg2.connect(\n",
    "            dbname=DB_NAME,\n",
    "            user=DB_USER,\n",
    "            password=DB_PASSWORD,\n",
    "            host=DB_HOST,\n",
    "            port=DB_PORT,\n",
    "            cursor_factory=DictCursor,  # Use DictCursor to access columns by name\n",
    "        )\n",
    "conn"
   ],
   "id": "25c059314e1b0204",
   "outputs": [
    {
     "data": {
      "text/plain": [
       "<connection object at 0x798a2c15afc0; dsn: 'user=app-engine-user password=xxx dbname=database-instance host=34.140.62.43 port=5432', closed: 0>"
      ]
     },
     "execution_count": 4,
     "metadata": {},
     "output_type": "execute_result"
    }
   ],
   "execution_count": 4
  },
  {
   "metadata": {
    "ExecuteTime": {
     "end_time": "2025-06-03T21:39:21.158450Z",
     "start_time": "2025-06-03T21:39:21.155928Z"
    }
   },
   "cell_type": "code",
   "source": [
    "create_table_query = \"\"\"\n",
    "    DROP TABLE IF EXISTS fingerprints;\n",
    "    CREATE TABLE fingerprints (\n",
    "        fingerprint_id SERIAL PRIMARY KEY,\n",
    "        song_id INTEGER NOT NULL REFERENCES tracks(track_id) ON DELETE CASCADE,\n",
    "        hash TEXT NOT NULL,\n",
    "        timestamp FLOAT NOT NULL,\n",
    "        created_at TIMESTAMP WITH TIME ZONE DEFAULT CURRENT_TIMESTAMP,\n",
    "        UNIQUE (song_id, hash, timestamp)\n",
    "    );\n",
    "    CREATE INDEX idx_fingerprints_hash ON fingerprints(hash);\n",
    "    \"\"\""
   ],
   "id": "4a682f9969a51bd4",
   "outputs": [],
   "execution_count": 6
  },
  {
   "metadata": {
    "ExecuteTime": {
     "end_time": "2025-05-26T23:00:25.616290Z",
     "start_time": "2025-05-26T23:00:25.357297Z"
    }
   },
   "cell_type": "code",
   "source": [
    "with conn.cursor() as cursor:\n",
    "    cursor.execute(create_table_query)\n",
    "    conn.commit()\n",
    "    print(\"Fingerprints table created successfully.\")"
   ],
   "id": "424670067047ab58",
   "outputs": [
    {
     "name": "stdout",
     "output_type": "stream",
     "text": [
      "Fingerprints table created successfully.\n"
     ]
    }
   ],
   "execution_count": 28
  },
  {
   "metadata": {
    "ExecuteTime": {
     "end_time": "2025-06-03T18:48:06.906991Z",
     "start_time": "2025-06-03T18:47:59.752303Z"
    }
   },
   "cell_type": "code",
   "source": [
    "from src.abracadabra.GCPFingerprintDB import GCPFingerprintDB\n",
    "\n",
    "db = GCPFingerprintDB()\n",
    "db.show_table()"
   ],
   "id": "3bafb94404f81c28",
   "outputs": [
    {
     "name": "stdout",
     "output_type": "stream",
     "text": [
      "(1, 'In Da Club')\n",
      "(2, 'In Da Club - Single Version / Edit')\n",
      "(3, 'Just A Lil Bit')\n",
      "(4, 'P.I.M.P.')\n",
      "(5, 'Window Shopper')\n",
      "(6, 'Back In Black')\n",
      "(7, 'Dirty Deeds Done Dirt Cheap')\n",
      "(8, 'Heatseeker')\n",
      "(9, 'High Voltage')\n",
      "(10, 'Highway to Hell')\n",
      "(11, \"It's a Long Way to the Top (If You Wanna Rock 'N' Roll)\")\n",
      "(12, 'Jailbreak')\n",
      "(13, \"Rock and Roll Ain't Noise Pollution\")\n",
      "(14, 'Shoot to Thrill')\n",
      "(15, 'T.N.T.')\n",
      "(16, 'Thunderstruck')\n",
      "(17, 'Who Made Who')\n",
      "(18, 'You Shook Me All Night Long')\n",
      "(19, 'Chasing Pavements')\n",
      "(20, \"Don't You Remember\")\n",
      "(21, 'Easy On Me')\n",
      "(22, \"He Won't Go\")\n",
      "(23, 'Hello')\n",
      "(24, 'Love In The Dark')\n",
      "(25, 'Make You Feel My Love')\n",
      "(26, 'Million Years Ago')\n",
      "(27, 'One and Only')\n",
      "(28, 'Remedy')\n",
      "(29, 'Rolling in the Deep')\n",
      "(30, 'Rumour Has It')\n",
      "(31, 'Send My Love (To Your New Lover)')\n",
      "(32, 'Set Fire to the Rain')\n",
      "(33, 'Skyfall')\n",
      "(34, 'Someone Like You')\n",
      "(35, 'Sweetest Devotion')\n",
      "(36, 'Take It All')\n",
      "(37, 'Turning Tables')\n",
      "(38, 'Water Under The Bridge')\n",
      "(39, 'When We Were Young')\n",
      "(40, 'Alone')\n",
      "(41, 'Faded')\n",
      "(42, 'Brand New Me')\n",
      "(43, \"Doesn't Mean Anything\")\n",
      "(44, 'Empire State of Mind (Part II) Broken Down')\n",
      "(45, \"Fallin'\")\n",
      "(46, 'Girl On Fire')\n",
      "(47, 'Hallelujah')\n",
      "(48, 'Holy War')\n",
      "(49, \"If I Ain't Got You\")\n",
      "(50, 'More Than We Know')\n",
      "(51, 'No One')\n",
      "(52, 'One Thing')\n",
      "(53, 'Superwoman')\n",
      "(54, 'Tears Always Win')\n",
      "(55, 'Work On It')\n",
      "(56, 'No More \"I Love You\\'s\"')\n",
      "(57, 'Arabella')\n",
      "(58, 'Do I Wanna Know?')\n",
      "(59, 'I Bet You Look Good On The Dancefloor')\n",
      "(60, \"Why'd You Only Call Me When You're High?\")\n",
      "(61, 'Addicted To You')\n",
      "(62, 'Broken Arrows')\n",
      "(63, 'Fade Into Darkness - Vocal Radio Mix')\n",
      "(64, 'For A Better Day')\n",
      "(65, 'Heaven')\n",
      "(66, 'Hey Brother')\n",
      "(67, 'Levels - Radio Edit')\n",
      "(68, 'Silhouettes - Original Radio Edit')\n",
      "(69, 'The Nights')\n",
      "(70, 'Waiting For Love')\n",
      "(71, 'Wake Me Up')\n",
      "(72, 'Wake Me Up - Radio Edit')\n",
      "(73, 'You Make Me')\n",
      "(74, 'Butter')\n",
      "(75, 'Dynamite')\n",
      "(76, 'BREAK MY SOUL')\n",
      "(77, 'Best Thing I Never Had')\n",
      "(78, 'Broken-Hearted Girl')\n",
      "(79, 'Halo')\n",
      "(80, 'Hold Up')\n",
      "(81, 'If I Were a Boy')\n",
      "(82, 'Irreplaceable')\n",
      "(83, 'Love On Top')\n",
      "(84, 'Naughty Girl')\n",
      "(85, 'Run the World (Girls)')\n",
      "(86, 'Single Ladies (Put a Ring on It)')\n",
      "(87, 'Sweet Dreams')\n",
      "(88, 'XO')\n",
      "(89, 'Lost Cause')\n",
      "(90, 'NDA')\n",
      "(91, 'Therefore I Am')\n",
      "(92, 'Your Power')\n",
      "(93, 'all the good girls go to hell')\n",
      "(94, 'bad guy')\n",
      "(95, 'bury a friend')\n",
      "(96, 'everything i wanted')\n",
      "(97, \"when the party's over\")\n",
      "(98, 'wish you were gay')\n",
      "(99, 'BIG LOVE')\n",
      "(100, 'Boom Boom Pow')\n",
      "(101, \"Don't Lie\")\n",
      "(102, \"Don't Phunk With My Heart\")\n",
      "(103, 'Don’t Stop The Party')\n",
      "(104, 'Hey Mama')\n",
      "(105, 'I Gotta Feeling')\n",
      "(106, 'Imma Be')\n",
      "(107, 'Just Can’t Get Enough')\n",
      "(108, \"Let's Get It Started\")\n",
      "(109, \"Let's Get It Started - Spike Mix\")\n",
      "(110, 'Meet Me Halfway')\n",
      "(111, 'My Humps')\n",
      "(112, 'Pump It')\n",
      "(113, 'Rock That Body')\n",
      "(114, 'Shut Up')\n",
      "(115, 'The Time (Dirty Bit)')\n",
      "(116, 'Where Is The Love?')\n",
      "(117, \"Blowin' in the Wind\")\n",
      "(118, 'Forever Young - Fast Version')\n",
      "(119, 'Hurricane')\n",
      "(120, \"Knockin' On Heaven's Door\")\n",
      "(121, 'Like a Rolling Stone')\n",
      "(122, 'Mr. Tambourine Man')\n",
      "(123, \"The Times They Are A-Changin'\")\n",
      "(124, 'Always')\n",
      "(125, 'Bad Medicine')\n",
      "(126, 'Bed Of Roses')\n",
      "(127, 'Have A Nice Day')\n",
      "(128, \"I'll Be There For You\")\n",
      "(129, 'In These Arms')\n",
      "(130, \"It's My Life\")\n",
      "(131, 'Keep The Faith')\n",
      "(258, 'In My Feelings')\n"
     ]
    }
   ],
   "execution_count": 1
  },
  {
   "metadata": {
    "ExecuteTime": {
     "end_time": "2025-06-03T18:48:08.483129Z",
     "start_time": "2025-06-03T18:48:08.263305Z"
    }
   },
   "cell_type": "code",
   "source": "print(db.load_tracks_from_db())",
   "id": "13b2b13ed0f3caa6",
   "outputs": [
    {
     "name": "stdout",
     "output_type": "stream",
     "text": [
      "[(94, 'bad guy', 'https://www.youtube.com/watch?v=DyDfgMOUjCI'), (95, 'bury a friend', 'https://www.youtube.com/watch?v=HUHC9tYz8ik'), (96, 'everything i wanted', 'https://www.youtube.com/watch?v=EgBJmlPo8Xw'), (97, \"when the party's over\", 'https://www.youtube.com/watch?v=pbMwTqkKSps'), (98, 'wish you were gay', 'https://www.youtube.com/watch?v=yaJx0Gj_LCY'), (99, 'BIG LOVE', 'https://www.youtube.com/watch?v=rPmcLzgnlo8'), (100, 'Boom Boom Pow', 'https://www.youtube.com/watch?v=4m48GqaOz90'), (101, \"Don't Lie\", 'https://www.youtube.com/watch?v=WbJNkH-pDd8'), (102, \"Don't Phunk With My Heart\", 'https://www.youtube.com/watch?v=P4Bda6_usuc'), (103, 'Don’t Stop The Party', 'https://www.youtube.com/watch?v=u9LH_y159sg'), (104, 'Hey Mama', 'https://www.youtube.com/watch?v=rtczBseiAac'), (105, 'I Gotta Feeling', 'https://www.youtube.com/watch?v=uSD4vsh1zDA'), (106, 'Imma Be', 'https://www.youtube.com/watch?v=kdAj-dBNCi4'), (107, 'Just Can’t Get Enough', 'https://www.youtube.com/watch?v=OrTyD7rjBpw'), (258, 'In My Feelings', 'https://www.youtube.com/watch?v=DRS_PpOrUZ4'), (108, \"Let's Get It Started\", 'https://www.youtube.com/watch?v=IKqV7DB8Iwg'), (109, \"Let's Get It Started - Spike Mix\", 'https://www.youtube.com/watch?v=IKqV7DB8Iwg'), (110, 'Meet Me Halfway', 'https://www.youtube.com/watch?v=I7HahVwYpwo'), (111, 'My Humps', 'https://www.youtube.com/watch?v=iEe_eraFWWs'), (112, 'Pump It', 'https://www.youtube.com/watch?v=ZaI2IlHwmgQ'), (113, 'Rock That Body', 'https://www.youtube.com/watch?v=nmnjL26OBcY'), (114, 'Shut Up', 'https://www.youtube.com/watch?v=KRzMtlZjXpU'), (115, 'The Time (Dirty Bit)', 'https://www.youtube.com/watch?v=JwQZQygg3Lk'), (116, 'Where Is The Love?', 'https://www.youtube.com/watch?v=WpYeekQkAdc'), (117, \"Blowin' in the Wind\", 'https://www.youtube.com/watch?v=MMFj8uDubsE'), (118, 'Forever Young - Fast Version', 'https://www.youtube.com/watch?v=5wBp_DBNE2I'), (119, 'Hurricane', 'https://www.youtube.com/watch?v=bpZvg_FjL3Q'), (120, \"Knockin' On Heaven's Door\", 'https://www.youtube.com/watch?v=rm9coqlk8fY'), (121, 'Like a Rolling Stone', 'https://www.youtube.com/watch?v=IwOfCgkyEj0'), (122, 'Mr. Tambourine Man', 'https://www.youtube.com/watch?v=oecX_1pqxk0'), (123, \"The Times They Are A-Changin'\", 'https://www.youtube.com/watch?v=90WD_ats6eE'), (124, 'Always', 'https://www.youtube.com/watch?v=9BMwcO6_hyA'), (125, 'Bad Medicine', 'https://www.youtube.com/watch?v=eOUtsybozjg'), (126, 'Bed Of Roses', 'https://www.youtube.com/watch?v=NvR60Wg9R7Q'), (127, 'Have A Nice Day', 'https://www.youtube.com/watch?v=uCg2BoKiuOM'), (128, \"I'll Be There For You\", 'https://www.youtube.com/watch?v=mh8MIp2FOhc'), (129, 'In These Arms', 'https://www.youtube.com/watch?v=59NoqP02ZYM'), (130, \"It's My Life\", 'https://www.youtube.com/watch?v=vx2u5uUu3DE'), (131, 'Keep The Faith', 'https://www.youtube.com/watch?v=eZQyVUTcpM4'), (132, \"Livin' On A Prayer\", 'https://www.youtube.com/watch?v=lDK9QqIzhwk'), (133, \"Say It Isn't So\", 'https://www.youtube.com/watch?v=GRSB-QZHpXM'), (134, 'Shot Through The Heart', 'https://www.youtube.com/watch?v=9CUm15MA62Q'), (135, \"This Ain't A Love Song\", 'https://www.youtube.com/watch?v=-nlDy6h-v9c'), (136, 'Wanted Dead Or Alive', 'https://www.youtube.com/watch?v=SRvCvsRp5ho'), (137, 'You Give Love A Bad Name', 'https://www.youtube.com/watch?v=KrZHPOeOxQQ'), (138, '(You Drive Me) Crazy', 'https://www.youtube.com/watch?v=Q4VK9_CfOLQ'), (139, '...Baby One More Time', 'https://www.youtube.com/watch?v=C-u5WLJ9Yk4'), (140, '3', 'https://www.youtube.com/watch?v=oTs6oQx1WJY'), (141, 'Circus', 'https://www.youtube.com/watch?v=lVhJ_A8XUgc'), (142, 'Circus - Remastered', 'https://www.youtube.com/watch?v=lVhJ_A8XUgc'), (143, \"Do Somethin'\", 'https://www.youtube.com/watch?v=Bb1ad7r5oN8'), (144, 'Everytime', 'https://www.youtube.com/watch?v=8YzabSdk7ZA'), (145, 'From the Bottom of My Broken Heart', 'https://www.youtube.com/watch?v=fHPnGqXXUmI'), (146, 'Gimme More', 'https://www.youtube.com/watch?v=elueA2rofoo'), (147, 'Hold It Against Me', 'https://www.youtube.com/watch?v=-Edv8Onsrgg'), (148, \"I Love Rock 'N' Roll\", 'https://www.youtube.com/watch?v=ITuOddPeYoc'), (149, \"I'm Not a Girl, Not Yet a Woman\", 'https://www.youtube.com/watch?v=IlV7RhT6zHs'), (150, \"I'm a Slave 4 U\", 'https://www.youtube.com/watch?v=Mzybwwf2HoQ'), (151, 'If U Seek Amy', 'https://www.youtube.com/watch?v=0aEnnH6t8Ts'), (152, 'Lucky', 'https://www.youtube.com/watch?v=4vvBAONkYwI'), (153, 'My Prerogative - Remastered', 'https://www.youtube.com/watch?v=fV0uCYp6zAg'), (154, 'Oops!...I Did It Again', 'https://www.youtube.com/watch?v=CduA0TULnow'), (155, 'Piece of Me', 'https://www.youtube.com/watch?v=u4FF6MpcsRw'), (156, 'Sometimes', 'https://www.youtube.com/watch?v=t0bPrt69rag'), (157, 'Stronger', 'https://www.youtube.com/watch?v=AJWtLf4-WWs'), (158, 'Till the World Ends', 'https://www.youtube.com/watch?v=qzU9OrZlKb8'), (159, 'Toxic', 'https://www.youtube.com/watch?v=LOZuxwVk7TU'), (160, 'Womanizer', 'https://www.youtube.com/watch?v=rMqayQ-U74s'), (161, '24K Magic', 'https://www.youtube.com/watch?v=UqyT8IEBkvY'), (162, 'Chunky', 'https://www.youtube.com/watch?v=oacaq_1TkMU'), (163, 'Count on Me', 'https://www.youtube.com/watch?v=6k8cpUkKK4c'), (164, 'Grenade', 'https://www.youtube.com/watch?v=SR6iYWJxHqs'), (165, 'Grenade - Acoustic', 'https://www.youtube.com/watch?v=NPRmJwSOsLY'), (166, 'If I Knew', 'https://www.youtube.com/watch?v=9YZpng2PL34'), (167, 'It Will Rain', 'https://www.youtube.com/watch?v=W-w3WfgpcGg'), (168, 'Just the Way You Are', 'https://www.youtube.com/watch?v=LjhCEhWiKXk'), (169, 'Locked out of Heaven', 'https://www.youtube.com/watch?v=e-fA-gBCkj0'), (170, 'Marry You', 'https://www.youtube.com/watch?v=dElRVQFqj-k'), (171, 'Talking to the Moon', 'https://www.youtube.com/watch?v=P-FrQnI3slU'), (172, \"That's What I Like\", 'https://www.youtube.com/watch?v=PMivT7MJ41M'), (173, 'The Lazy Song', 'https://www.youtube.com/watch?v=fLexgOxsZu0'), (174, 'Treasure', 'https://www.youtube.com/watch?v=nPvuNsRccVw'), (175, 'Versace on the Floor', 'https://www.youtube.com/watch?v=-FyjEnoIgTM'), (176, 'When I Was Your Man', 'https://www.youtube.com/watch?v=ekzHIouo8Q4'), (177, '(Everything I Do) I Do It For You', 'https://www.youtube.com/watch?v=Y0pdQU87dc8'), (178, \"Can't Stop This Thing We Started\", 'https://www.youtube.com/watch?v=lP4Nnek6DCo'), (179, 'Have You Ever Really Loved A Woman?', 'https://www.youtube.com/watch?v=diKIYv8tMC8'), (180, 'Heaven', 'https://www.youtube.com/watch?v=s6TtwR2Dbjg'), (181, \"Let's Make A Night To Remember\", 'https://www.youtube.com/watch?v=Xm9GlSbxy78'), (182, 'Please Forgive Me', 'https://www.youtube.com/watch?v=9EHAo6rEuas'), (183, 'Run To You', 'https://www.youtube.com/watch?v=nCBASt507WA'), (184, \"Summer Of '69\", 'https://www.youtube.com/watch?v=eFjjO_lhf9c'), (185, 'The Only Thing That Looks Good On Me Is You', 'https://www.youtube.com/watch?v=onn8x-qDrtg'), (186, \"Thought I'd Died And Gone To Heaven\", 'https://www.youtube.com/watch?v=CTfIr_euGTs'), (187, \"Acceptable in the 80's\", 'https://www.youtube.com/watch?v=dOV5WXISM24'), (188, 'Feel So Close - Radio Edit', 'https://www.youtube.com/watch?v=R8egmh5dWzo'), (189, 'Flashback', 'https://www.youtube.com/watch?v=D2_qw8O5lf0'), (190, \"I'm Not Alone - Radio Edit\", 'https://www.youtube.com/watch?v=wkczQYC_8TQ'), (191, 'My Way', 'https://www.youtube.com/watch?v=b4Bj7Zb-YD4'), (192, 'Ready for the Weekend', 'https://www.youtube.com/watch?v=XO4msvIA7cw'), (193, 'Summer', 'https://www.youtube.com/watch?v=ebXbLfLACGM'), (194, 'The Girls - Radio Edit', 'https://www.youtube.com/watch?v=qLpaHAxBe3A'), (195, 'You Used to Hold Me', 'https://www.youtube.com/watch?v=mf58RAPR8Ws'), (196, \"Don't Go Yet\", 'https://www.youtube.com/watch?v=0Kx3sobEBFE'), (197, 'Never Be the Same', 'https://www.youtube.com/watch?v=Ph54wQG8ynk'), (198, 'Shameless', 'https://www.youtube.com/watch?v=Fp_P_e1cPOE'), (199, 'Up', 'https://www.youtube.com/watch?v=rCiBgLOcuKU'), (200, \"Ain't No Other Man\", 'https://www.youtube.com/watch?v=8x7Ta89QLo4'), (201, 'Beautiful', 'https://www.youtube.com/watch?v=eAfyFTzZDMM'), (202, 'Candyman', 'https://www.youtube.com/watch?v=-ScjucUV8v0'), (203, 'Come on over Baby (All I Want Is You) - Radio Version', 'https://www.youtube.com/watch?v=0RQDIJ2CvbA'), (204, 'Fighter', 'https://www.youtube.com/watch?v=PstrAfoMKlc'), (205, 'Genie In a Bottle', 'https://www.youtube.com/watch?v=kIDWgqDBNXA'), (206, 'Genie in a Bottle', 'https://www.youtube.com/watch?v=kIDWgqDBNXA'), (207, 'Hurt', 'https://www.youtube.com/watch?v=wwCykGDEp7M'), (208, 'Impossible', 'https://www.youtube.com/watch?v=XZSVNm0t3OM'), (209, \"Keeps Gettin' Better\", 'https://www.youtube.com/watch?v=gkPxgUshpec'), (210, 'What a Girl Wants', 'https://www.youtube.com/watch?v=hpspGHeLOPE'), (211, 'A Sky Full of Stars', 'https://www.youtube.com/watch?v=VPRjCeoBqrI'), (212, 'Adventure of a Lifetime', 'https://www.youtube.com/watch?v=QtXby3twMmI'), (213, 'Charlie Brown', 'https://www.youtube.com/watch?v=zTFBJgnNgU4'), (214, 'Clocks', 'https://www.youtube.com/watch?v=d020hcWA_Wg'), (215, 'Every Teardrop Is a Waterfall', 'https://www.youtube.com/watch?v=fyMhvkC3A84'), (216, 'Fix You', 'https://www.youtube.com/watch?v=k4V3Mo61fJM'), (217, 'God Put a Smile upon Your Face', 'https://www.youtube.com/watch?v=qhIVgSoJVRc'), (218, 'Higher Power', 'https://www.youtube.com/watch?v=3lfnR7OhZY8'), (219, 'Hymn for the Weekend', 'https://www.youtube.com/watch?v=YykjpeuMNEk'), (220, 'In My Place', 'https://www.youtube.com/watch?v=gnIZ7RMuLpU'), (221, 'Life in Technicolor ii', 'https://www.youtube.com/watch?v=fXSovfzyx28'), (222, 'Lost!', 'https://www.youtube.com/watch?v=Pkgeai985rA'), (223, 'Lovers in Japan', 'https://www.youtube.com/watch?v=OTFFQkdhw6Q'), (224, 'Magic', 'https://www.youtube.com/watch?v=Qtb11P1FWnc'), (225, 'Paradise', 'https://www.youtube.com/watch?v=1G4isv_Fylg'), (226, 'Speed of Sound', 'https://www.youtube.com/watch?v=0k_1kvDh2UA'), (227, 'The Scientist', 'https://www.youtube.com/watch?v=RB-RcX5DS5A'), (228, 'Violet Hill', 'https://www.youtube.com/watch?v=IakDItZ7f7Q'), (229, 'Viva La Vida', 'https://www.youtube.com/watch?v=dvgZkm1xWPE'), (230, 'Yellow', 'https://www.youtube.com/watch?v=yKNxeF4KMsY'), (231, 'Gasolina', 'https://www.youtube.com/watch?v=CCF1_jI8Prk'), (232, 'Around the World', 'https://www.youtube.com/watch?v=K0HSD_i2DvA'), (233, 'Around the World - Radio Edit [Radio Edit]', 'https://www.youtube.com/watch?v=ARfJ55bUAw0'), (234, 'Da Funk - Radio Edit', 'https://www.youtube.com/watch?v=tqzDYO4N5rg'), (235, 'One More Time', 'https://www.youtube.com/watch?v=FGBhQbmPwH8'), (236, 'One More Time - Radio Edit [Short Radio Edit]', 'https://www.youtube.com/watch?v=WYhv-hR6Q2U'), (237, 'Absolute Beginners - 2002 Remaster', 'https://www.youtube.com/watch?v=iCJLOXqnT2I'), (238, 'Ashes to Ashes - 2017 Remaster', 'https://www.youtube.com/watch?v=wBDD37Xv6A0'), (239, 'Cat People (Putting Out Fire) - 2018 Remaster', 'https://www.youtube.com/watch?v=m0ODoeBc04g'), (240, 'Heroes - 2017 Remaster', 'https://www.youtube.com/watch?v=44FId4BpMx0'), (241, \"Let's Dance - Single Version, 2014 Remaster\", 'https://www.youtube.com/watch?v=Ye9WohDqHEc'), (242, 'Modern Love - 1999 Remaster', 'https://www.youtube.com/watch?v=cHzVjGBxOJs'), (243, 'Rebel Rebel - 2016 Remaster', 'https://www.youtube.com/watch?v=DJxCsVcZL2I'), (244, 'Sorrow - 2015 Remaster', 'https://www.youtube.com/watch?v=RmQ2OJgzkMg'), (245, 'Space Oddity - 2009 Remastered Version', 'https://www.youtube.com/watch?v=tRNpjt29n6Y'), (246, 'Space Oddity - 2015 Remaster', 'https://www.youtube.com/watch?v=iYYRH4apXDo'), (247, 'Bang My Head (feat. Sia & Fetty Wap)', 'https://www.youtube.com/watch?v=qqjVwAg5fK4'), (248, 'Shot Me Down (feat. Skylar Grey) - Radio Edit', 'https://www.youtube.com/watch?v=ZL4VBzz5kH4'), (249, \"This One's for You (feat. Zara Larsson) (Official Song UEFA EURO 2016)\", 'https://www.youtube.com/watch?v=MoHnffhBwqs'), (250, 'What I Did for Love (feat. Emeli Sandé)', 'https://www.youtube.com/watch?v=Yt_myLDSdsY'), (251, 'Where Them Girls At (feat. Nicki Minaj & Flo Rida)', 'https://www.youtube.com/watch?v=p4kVWCSzfK4'), (252, 'Boss Bitch', 'https://www.youtube.com/watch?v=RsW66teC0BQ'), (253, 'Say So', 'https://www.youtube.com/watch?v=pok8H_KF1FA'), (254, 'Streets', 'https://www.youtube.com/watch?v=jJdlgKzVsnI'), (255, 'Controlla', 'https://www.youtube.com/watch?v=PsW85VbSau0'), (256, \"God's Plan\", 'https://www.youtube.com/watch?v=xpVfcZ0ZcFM'), (257, 'Hotline Bling', 'https://www.youtube.com/watch?v=uxpDa-c-4Mc'), (259, 'Toosie Slide', 'https://www.youtube.com/watch?v=xWggTb45brM'), (260, 'Be the One', 'https://www.youtube.com/watch?v=-rey3m8SWQI'), (261, 'Blow Your Mind (Mwah)', 'https://www.youtube.com/watch?v=1nydxbGhgv8'), (262, 'Break My Heart', 'https://www.youtube.com/watch?v=Nj2U6rhnucI'), (263, 'Dance The Night (From Barbie The Album)', 'https://www.youtube.com/watch?v=OiC1rgCPmUQ'), (264, \"Don't Start Now\", 'https://www.youtube.com/watch?v=oygrmJFKYZY'), (265, 'Hallucinate', 'https://www.youtube.com/watch?v=qcZ7e9EOQTY'), (266, 'Hotter Than Hell', 'https://www.youtube.com/watch?v=fEOyePhElr4'), (267, 'IDGAF', 'https://www.youtube.com/watch?v=Mgfe5tIwOj0'), (268, 'Levitating', 'https://www.youtube.com/watch?v=TUVcZfQe-Kw'), (269, 'Love Again', 'https://www.youtube.com/watch?v=BC19kwABFwc'), (270, 'New Rules', 'https://www.youtube.com/watch?v=k2qgadSvNyU'), (271, 'Physical', 'https://www.youtube.com/watch?v=9HDEHj2yzew'), (272, 'Swan Song - From the Motion Picture \"Alita: Battle Angel\"', 'https://www.youtube.com/watch?v=kO8fTk6oKQg'), (273, \"We're Good\", 'https://www.youtube.com/watch?v=jr47YisIsz8'), (274, 'Afire Love', 'https://www.youtube.com/watch?v=JznXx1Ns374'), (275, 'Afterglow', 'https://www.youtube.com/watch?v=_NGQfFCFUn4'), (276, 'All of the Stars', 'https://www.youtube.com/watch?v=nkqVm5aiC28'), (277, 'Bad Habits', 'https://www.youtube.com/watch?v=orJSJGHjBLI'), (278, 'Bloodstream', 'https://www.youtube.com/watch?v=XIJHg1XWR7o'), (279, 'Castle on the Hill', 'https://www.youtube.com/watch?v=K0ibBPhiaG0'), (280, 'Celestial', 'https://www.youtube.com/watch?v=23g5HBOg3Ic'), (281, 'Dive', 'https://www.youtube.com/watch?v=Wv2rLZmbPMA'), (282, \"Don't\", 'https://www.youtube.com/watch?v=3TqGEbROFd4'), (283, 'Drunk', 'https://www.youtube.com/watch?v=G2fOum_KWQU'), (284, 'Eyes Closed', 'https://www.youtube.com/watch?v=myZistq5lRM'), (285, 'Firefly', 'https://www.youtube.com/watch?v=JigjU373SKY'), (286, 'Galway Girl', 'https://www.youtube.com/watch?v=87gWaABqGYs'), (287, 'Happier', 'https://www.youtube.com/watch?v=iWZmdoY1aTE'), (288, 'How Would You Feel (Paean)', 'https://www.youtube.com/watch?v=ZZMZiBCRX4c'), (289, 'I See Fire - From \"The Hobbit - The Desolation Of Smaug\"', 'https://www.youtube.com/watch?v=LKCojXWLNEM'), (290, 'Kiss Me', 'https://www.youtube.com/watch?v=Q5k3uNlKtBw'), (291, 'Lego House', 'https://www.youtube.com/watch?v=c4BLVznuWnU'), (292, 'New York', 'https://www.youtube.com/watch?v=K3JU_VM-9xI'), (293, 'One', 'https://www.youtube.com/watch?v=Ix9NXVIbm2A'), (294, 'Overpass Graffiti', 'https://www.youtube.com/watch?v=k6ZoE4RrcDs'), (295, 'Perfect', 'https://www.youtube.com/watch?v=2Vv-BfVoq4g'), (296, 'Photograph', 'https://www.youtube.com/watch?v=KKQl-pIRQMY'), (297, 'Runaway', 'https://www.youtube.com/watch?v=cgMd5YGTSCM'), (298, 'Shape of You', 'https://www.youtube.com/watch?v=JGwWNGJdvx8'), (299, 'She', 'https://www.youtube.com/watch?v=2lPEWlZ3ZCg'), (300, 'Shivers', 'https://www.youtube.com/watch?v=Il0S8BoucSA'), (301, 'Sing', 'https://www.youtube.com/watch?v=tlYcUqEPN58'), (302, 'Small Bump', 'https://www.youtube.com/watch?v=A_af256mnTE'), (303, 'Tenerife Sea', 'https://www.youtube.com/watch?v=2tHes1FQfwU'), (304, 'The A Team', 'https://www.youtube.com/watch?v=UAWcs5H-qgQ'), (305, 'Thinking out Loud', 'https://www.youtube.com/watch?v=lp-EO5I60KA'), (306, 'Visiting Hours', 'https://www.youtube.com/watch?v=pVqX2u6YWqI'), (307, 'What Do I Know?', 'https://www.youtube.com/watch?v=6B9J3lEyffA'), (308, 'Blue Eyes - Remastered 2003', 'https://www.youtube.com/watch?v=4CiyKeSnSxk'), (309, 'Can You Feel The Love Tonight', 'https://www.youtube.com/watch?v=KjgWWjkNbhU'), (310, 'Can You Feel the Love Tonight - End Title/ From \"The Lion King\"/Soundtrack Version', 'https://www.youtube.com/watch?v=KjgWWjkNbhU'), (311, 'Candle In The Wind', 'https://www.youtube.com/watch?v=MYU3F8uUGiw'), (312, 'Candle In The Wind 1997', 'https://www.youtube.com/watch?v=sxb0GeS4gL8'), (313, 'Crocodile Rock', 'https://www.youtube.com/watch?v=75r0nQu-hMs'), (314, 'Daniel', 'https://www.youtube.com/watch?v=-9xib-hCm6c'), (315, 'Goodbye Yellow Brick Road - Remastered 2014', 'https://www.youtube.com/watch?v=wy709iNG6i8'), (316, 'Healing Hands', 'https://www.youtube.com/watch?v=ImP5gvqFrnA'), (317, 'Heartache All Over The World', 'https://www.youtube.com/watch?v=M2t245xfa3E'), (318, \"I Don't Wanna Go On With You Like That\", 'https://www.youtube.com/watch?v=kaJRvZZBnX8'), (319, \"I Guess That's Why They Call It The Blues\", 'https://www.youtube.com/watch?v=h6KYAVn8ons'), (320, \"I'm Still Standing\", 'https://www.youtube.com/watch?v=ZHwVBirqD2s'), (321, 'Kiss The Bride', 'https://www.youtube.com/watch?v=tkmwVDLMZNk'), (322, 'Little Jeannie', 'https://www.youtube.com/watch?v=n4q6bVQUSrc'), (323, 'Lucy In The Sky With Diamonds', 'https://www.youtube.com/watch?v=5EOFnnBQjp8'), (324, 'Nikita', 'https://www.youtube.com/watch?v=Tg-Q-Acv4qs'), (325, 'Part Time Love', 'https://www.youtube.com/watch?v=Xfz_nBGxukM'), (326, 'Passengers', 'https://www.youtube.com/watch?v=EB86UzewPdo'), (327, 'Philadelphia Freedom', 'https://www.youtube.com/watch?v=sOF6_kHBkyg'), (328, \"Rocket Man (I Think It's Going To Be A Long, Long Time)\", 'https://www.youtube.com/watch?v=DtVBCG6ThDk'), (329, 'Sacrifice', 'https://www.youtube.com/watch?v=NrLkTZrPZA4'), (330, 'Sad Songs (Say So Much)', 'https://www.youtube.com/watch?v=X23v5_K7cXk'), (331, 'Something About The Way You Look Tonight - Edit Version', 'https://www.youtube.com/watch?v=B93Tir6l5FA'), (332, 'Song For Guy', 'https://www.youtube.com/watch?v=yJ_H28GoaCs'), (333, 'Tiny Dancer', 'https://www.youtube.com/watch?v=yYcyacLRPNs'), (334, 'Your Song', 'https://www.youtube.com/watch?v=GlPlfCy1urI'), (335, 'Ass Like That', 'https://www.youtube.com/watch?v=um4-d7VzZiE'), (336, 'Berzerk', 'https://www.youtube.com/watch?v=ab9176Srb5Y'), (337, 'Business', 'https://www.youtube.com/watch?v=P05bTId-92A'), (338, \"Cleanin' Out My Closet\", 'https://www.youtube.com/watch?v=RQ9_TKayu9s'), (339, 'Just Lose It', 'https://www.youtube.com/watch?v=9dcVOmEQzKA'), (340, 'Like Toy Soldiers', 'https://www.youtube.com/watch?v=lexLAjh8fPA'), (341, 'Lose Yourself', 'https://www.youtube.com/watch?v=7YuAzR2XVAM'), (342, 'Lose Yourself - From \"8 Mile\" Soundtrack', 'https://www.youtube.com/watch?v=Wj7lL6eDOqc'), (343, 'Mockingbird', 'https://www.youtube.com/watch?v=S9bCLPwzSC0'), (344, 'My Name Is', 'https://www.youtube.com/watch?v=sNPnbI1arSE'), (345, 'Not Afraid', 'https://www.youtube.com/watch?v=j5-yKhDd64s'), (346, 'Sing For The Moment', 'https://www.youtube.com/watch?v=D4hAVemuQXY'), (347, 'The Real Slim Shady', 'https://www.youtube.com/watch?v=eJO5HU_7_1w'), (348, 'We Made You', 'https://www.youtube.com/watch?v=RSdKmX2BH7o'), (349, \"When I'm Gone\", 'https://www.youtube.com/watch?v=1wYNFfgrXTI'), (350, 'Without Me', 'https://www.youtube.com/watch?v=YVkUvmDQ3HY'), (351, 'Bailamos', 'https://www.youtube.com/watch?v=5sye_VxmNZA'), (352, \"Don't Turn Off The Lights\", 'https://www.youtube.com/watch?v=6T7bHq9Ebg0'), (353, 'Escape', 'https://www.youtube.com/watch?v=9mQJaXwGPlg'), (354, 'Hero', 'https://www.youtube.com/watch?v=koJlIGDImiU'), (355, 'Change the World - 2015 Remaster', 'https://www.youtube.com/watch?v=wuUTF5ZLofw'), (356, 'Cocaine', 'https://www.youtube.com/watch?v=O6yeLNNVa4A'), (357, 'I Shot The Sheriff', 'https://www.youtube.com/watch?v=APWhx97QvxE'), (358, 'Layla - Acoustic; Live at MTV Unplugged, Bray Film Studios, Windsor, England, UK, 1/16/1992; 2013 Remaster', 'https://www.youtube.com/watch?v=Mm7GWGppDgg'), (359, 'Tears In Heaven', 'https://www.youtube.com/watch?v=JxPj3GAYYZ0'), (360, 'Bring Me To Life', 'https://www.youtube.com/watch?v=3YxaaGgTQYM'), (361, \"Call Me When You're Sober\", 'https://www.youtube.com/watch?v=_RrA-R5VHQs'), (362, \"Everybody's Fool\", 'https://www.youtube.com/watch?v=jhC1pI76Rqo'), (363, 'Going Under', 'https://www.youtube.com/watch?v=CdhqVtpR2ts'), (364, 'Lithium', 'https://www.youtube.com/watch?v=PJGpsL_XYQI'), (365, 'My Immortal', 'https://www.youtube.com/watch?v=5anLPw0Efmo'), (366, '\"The Take Over, The Breaks Over\"', 'https://www.youtube.com/watch?v=aVbPvf2aYH4'), (367, 'Centuries', 'https://www.youtube.com/watch?v=LBr7kECsjcQ'), (368, \"I Don't Care\", 'https://www.youtube.com/watch?v=Alh6iIvVN9o'), (369, \"She's My Winona\", 'https://www.youtube.com/watch?v=V2b2PURkg40'), (370, \"Sugar, We're Goin Down\", 'https://www.youtube.com/watch?v=uhG-vLZrb-g'), (371, \"This Ain't A Scene, It's An Arms Race\", 'https://www.youtube.com/watch?v=GNm5drtAQXs'), (372, 'Thnks fr th Mmrs', 'https://www.youtube.com/watch?v=onzL0EM1pKY'), (373, 'Albatross', 'https://www.youtube.com/watch?v=fXeKi6ZkbOw'), (374, \"Don't Stop - 2004 Remaster\", 'https://www.youtube.com/watch?v=0hGhl7ki3HM'), (375, 'Dreams - 2004 Remaster', 'https://www.youtube.com/watch?v=5oWyMakvQew'), (376, 'Go Your Own Way', 'https://www.youtube.com/watch?v=oiosqtFLBBA'), (377, 'Go Your Own Way - 2004 Remaster', 'https://www.youtube.com/watch?v=DubafeFeJ7Y'), (378, 'Hold Me', 'https://www.youtube.com/watch?v=E0sha1XfHxw'), (379, 'Little Lies', 'https://www.youtube.com/watch?v=uCGD9dT12C0'), (380, 'Rhiannon', 'https://www.youtube.com/watch?v=jQAK6sVovUk'), (381, 'Sara', 'https://www.youtube.com/watch?v=9bWGy0K5VF0'), (382, 'Seven Wonders - 2017 Remaster', 'https://www.youtube.com/watch?v=4YnIs8ioHQs'), (383, 'The Chain - 2004 Remaster', 'https://www.youtube.com/watch?v=xwTPvcPYaOo'), (384, 'Tusk - 2015 Remaster', 'https://www.youtube.com/watch?v=EmuBOfurv3o'), (385, 'Best Of You', 'https://www.youtube.com/watch?v=h_L4Rixya64'), (386, 'Best of You', 'https://www.youtube.com/watch?v=h_L4Rixya64'), (387, 'Big Me', 'https://www.youtube.com/watch?v=pLdJQFTnZfA'), (388, 'Everlong', 'https://www.youtube.com/watch?v=eBG7P-K-r1Y'), (389, 'Generator', 'https://www.youtube.com/watch?v=yhERrxABD5o'), (390, 'Learn to Fly', 'https://www.youtube.com/watch?v=1VQ_3sBZEm0'), (391, 'Long Road To Ruin', 'https://www.youtube.com/watch?v=308KpFZ4cT8'), (392, 'Monkey Wrench', 'https://www.youtube.com/watch?v=I7rCNiiNPxA'), (393, 'My Hero', 'https://www.youtube.com/watch?v=EqWRaAF6_WY'), (394, 'Rope', 'https://www.youtube.com/watch?v=kbpqZT_56Ns'), (395, 'The Pretender', 'https://www.youtube.com/watch?v=SBjQ9tuuTJQ'), (396, 'These Days', 'https://www.youtube.com/watch?v=YDVAQI-4lto'), (397, 'This Is a Call', 'https://www.youtube.com/watch?v=h-Rnr3wTX9I'), (398, 'Times Like These', 'https://www.youtube.com/watch?v=rhzmNRtIp8k'), (399, 'Walk', 'https://www.youtube.com/watch?v=4PkcfQtibmU'), (400, 'Wheels', 'https://www.youtube.com/watch?v=T74CuSiZ63w'), (401, 'A Different Corner', 'https://www.youtube.com/watch?v=IPWHkK-_a_A'), (402, 'Amazing', 'https://www.youtube.com/watch?v=6YziZ1FlAWs'), (403, 'Careless Whisper', 'https://www.youtube.com/watch?v=izGwDsrQ1eQ'), (404, 'Careless Whisper - Remastered', 'https://www.youtube.com/watch?v=fyMbjVhCzw4'), (405, 'Faith - Remastered', 'https://www.youtube.com/watch?v=N61LHFFfiik'), (406, 'Fastlove, Pt. 1', 'https://www.youtube.com/watch?v=SHAQlFq6TFg'), (407, 'Father Figure - Remastered', 'https://www.youtube.com/watch?v=udtByWgt1Mk'), (408, \"Freedom! '90 - Remastered\", 'https://www.youtube.com/watch?v=diYAc7gB-0A'), (409, 'I Want Your Sex - Pts. 1 & 2 Remastered', 'https://www.youtube.com/watch?v=r3AP26ywQsQ'), (410, 'Jesus to a Child', 'https://www.youtube.com/watch?v=zNBj4EV_hAo'), (411, 'Kissing a Fool - Remastered', 'https://www.youtube.com/watch?v=omsBhh8vA7c'), (412, 'Miss Sarajevo', 'https://www.youtube.com/watch?v=CU7xwtIdyoI'), (413, 'One More Try - Live', 'https://www.youtube.com/watch?v=1bPxYmsv-Mc'), (414, 'One More Try - Remastered', 'https://www.youtube.com/watch?v=6r5Dhqaay4E'), (415, 'Outside', 'https://www.youtube.com/watch?v=gwZAYdHcDtU'), (416, 'Praying for Time - 2010 Remastered Version', 'https://www.youtube.com/watch?v=eT5_neXR3FI'), (417, 'The First Time Ever I Saw Your Face', 'https://www.youtube.com/watch?v=Na3bPzrZS-o'), (418, 'Too Funky - Remastered 2006', 'https://www.youtube.com/watch?v=AiXYgOmi2kI'), (419, 'Too Funky - Single Edit', 'https://www.youtube.com/watch?v=JAwk7yBQxDs'), (420, '19-2000', 'https://www.youtube.com/watch?v=WXR-bCF5dbM'), (421, 'Clint Eastwood', 'https://www.youtube.com/watch?v=1V_xRb0x9aw'), (422, 'DARE', 'https://www.youtube.com/watch?v=uAOR6ib95kQ'), (423, 'Feel Good Inc.', 'https://www.youtube.com/watch?v=HyHNuVaZJ-k'), (424, '21 Guns', 'https://www.youtube.com/watch?v=r00ikilDxW4'), (425, '21 Guns (feat. Rebecca Naomi Jones, Christina Sajous, Mary Faber, Stark Sands, John Gallagher Jr., Michael Esper, The American Idiot Broadway Company)', 'https://www.youtube.com/watch?v=tVJ5VvLAkw0'), (426, 'American Idiot', 'https://www.youtube.com/watch?v=Ee_uujKuJMI'), (427, 'Basket Case', 'https://www.youtube.com/watch?v=NUTGr5t3MoY'), (428, 'Boulevard of Broken Dreams', 'https://www.youtube.com/watch?v=Soa3gO7tL-c'), (429, 'Brain Stew', 'https://www.youtube.com/watch?v=UNq9gmY_Oz4'), (430, 'Good Riddance (Time of Your Life)', 'https://www.youtube.com/watch?v=CnQ8N1KacJc'), (431, \"Hitchin' a Ride\", 'https://www.youtube.com/watch?v=4Sc81yxo600'), (432, 'Holiday', 'https://www.youtube.com/watch?v=Ajxn0PKbv7I'), (433, 'Know Your Enemy', 'https://www.youtube.com/watch?v=9IclmVdWNbI'), (434, 'Longview', 'https://www.youtube.com/watch?v=42BBdzzgPNM'), (435, 'Minority', 'https://www.youtube.com/watch?v=cDBlqu6KF4k'), (436, 'The Forgotten', 'https://www.youtube.com/watch?v=5Rs2m3lhg-k'), (437, 'Wake Me up When September Ends', 'https://www.youtube.com/watch?v=NU9JoFKlaZ0'), (438, 'Warning', 'https://www.youtube.com/watch?v=eebfMFzJHNs'), (439, 'Welcome to Paradise', 'https://www.youtube.com/watch?v=1o-wiosXJB8'), (440, 'When I Come Around', 'https://www.youtube.com/watch?v=i8dh9gDzmz8'), (441, 'Bad At Love', 'https://www.youtube.com/watch?v=xdYFuCp3m9k'), (442, 'Graveyard', 'https://www.youtube.com/watch?v=rPgaYeq9NvI'), (443, 'New Americana', 'https://www.youtube.com/watch?v=b-eYbUVZedY'), (444, 'Now Or Never', 'https://www.youtube.com/watch?v=Q9jNSwmEQ3s'), (445, 'Without Me', 'https://www.youtube.com/watch?v=ZAfAud_M_mg'), (446, 'You should be sad', 'https://www.youtube.com/watch?v=8nBFqZppIF0'), (447, 'Adore You', 'https://www.youtube.com/watch?v=VF-r5TtlT9w'), (448, 'As It Was', 'https://www.youtube.com/watch?v=H5v3kku4y6Q'), (449, 'Falling', 'https://www.youtube.com/watch?v=olGSAVOkkTI'), (450, 'Golden', 'https://www.youtube.com/watch?v=P3cffdsEXXw'), (451, 'Kiwi', 'https://www.youtube.com/watch?v=9wg3v-01yKQ'), (452, 'Sign of the Times', 'https://www.youtube.com/watch?v=qN4ooNx77u0'), (453, 'Treat People With Kindness', 'https://www.youtube.com/watch?v=L0X03zR0rQk'), (454, 'Watermelon Sugar', 'https://www.youtube.com/watch?v=E07s5ZYygMg'), (455, 'Bad Liar', 'https://www.youtube.com/watch?v=I-QfPUz1es8'), (456, 'Believer', 'https://www.youtube.com/watch?v=7wtfhZwyrcc'), (457, 'Bones', 'https://www.youtube.com/watch?v=TO-_3tck2tg'), (458, 'Demons', 'https://www.youtube.com/watch?v=mWRsgZuwf_8'), (459, 'Follow You', 'https://www.youtube.com/watch?v=k3zimSRKqNw'), (460, \"It's Time\", 'https://www.youtube.com/watch?v=sENM2wA_FTg'), (461, 'Natural', 'https://www.youtube.com/watch?v=0I647GU3Jsc'), (462, 'On Top Of The World', 'https://www.youtube.com/watch?v=w5tWYmIOWGk'), (463, 'Radioactive', 'https://www.youtube.com/watch?v=ktvTqknDobU'), (464, 'Roots', 'https://www.youtube.com/watch?v=e4RMh7NLHPY'), (465, 'Thunder', 'https://www.youtube.com/watch?v=fKopy74weus'), (466, 'Whatever It Takes', 'https://www.youtube.com/watch?v=gOsM-DYAEhY'), (467, \"Ain't It Funny\", 'https://www.youtube.com/watch?v=GSLSwwkLRW0'), (468, 'Get Right', 'https://www.youtube.com/watch?v=1WIsnC-h1d0'), (469, \"I'm Real\", 'https://www.youtube.com/watch?v=zD2D6phvRRk'), (470, 'If You Had My Love', 'https://www.youtube.com/watch?v=lYfkl-HXfuU'), (471, \"Let's Get Loud\", 'https://www.youtube.com/watch?v=Q91hydQRGyM'), (472, \"Love Don't Cost a Thing\", 'https://www.youtube.com/watch?v=4kGvlESGvbs'), (473, 'Play', 'https://www.youtube.com/watch?v=tFuw-YZaTNo'), (474, 'Waiting for Tonight', 'https://www.youtube.com/watch?v=_66jPJVS4JE'), (475, \"I Think I'm in Love with You\", 'https://www.youtube.com/watch?v=U7uxf8kBBlg'), (476, 'I Wanna Love You Forever', 'https://www.youtube.com/watch?v=4bJ0F8KhhZ8'), (477, 'Take My Breath Away', 'https://www.youtube.com/watch?v=vzsz6SSS3wk'), (478, \"These Boots Are Made for Walkin'\", 'https://www.youtube.com/watch?v=DPtfsk4ETjM'), (479, 'With You', 'https://www.youtube.com/watch?v=VWl7WjAtBME'), (480, 'CAN\\'T STOP THE FEELING! (from DreamWorks Animation\\'s \"TROLLS\")', 'https://www.youtube.com/watch?v=ru0K8uYEZWw'), (481, 'Cry Me a River', 'https://www.youtube.com/watch?v=DksSPZTZES0'), (482, 'Filthy', 'https://www.youtube.com/watch?v=gA-NDZb29I4'), (483, 'FutureSex / LoveSound', 'https://www.youtube.com/watch?v=IthFGX3sKec'), (484, 'Like I Love You', 'https://www.youtube.com/watch?v=FQ3slUz7Jo8'), (485, 'LoveStoned / I Think She Knows - Radio Edit', 'https://www.youtube.com/watch?v=-_ED5aLbp4I'), (486, 'Mirrors', 'https://www.youtube.com/watch?v=uuZE_IRwLNI'), (487, 'Mirrors - Radio Edit', 'https://www.youtube.com/watch?v=I66vmchI_uU'), (488, 'Rock Your Body', 'https://www.youtube.com/watch?v=TSVHoHyErBQ'), (489, 'Señorita', 'https://www.youtube.com/watch?v=nJHYDkvRB2Y'), (490, 'SoulMate', 'https://www.youtube.com/watch?v=NxJ7O0CGzO8'), (491, 'Summer Love', 'https://www.youtube.com/watch?v=-rjhH3SMQ-0')]\n"
     ]
    }
   ],
   "execution_count": 2
  },
  {
   "metadata": {
    "ExecuteTime": {
     "start_time": "2025-06-03T19:02:32.177424Z"
    }
   },
   "cell_type": "code",
   "source": [
    "from src.abracadabra.recognize import index_all_songs\n",
    "index_all_songs(db_type=\"gcp\")"
   ],
   "id": "7b181fa0e8ee55b7",
   "outputs": [
    {
     "name": "stdout",
     "output_type": "stream",
     "text": [
      "Downloading audio from https://www.youtube.com/watch?v=DRS_PpOrUZ4...\n",
      "Downloading audio from https://www.youtube.com/watch?v=lDK9QqIzhwk...\n",
      "Downloading audio from https://www.youtube.com/watch?v=GRSB-QZHpXM...\n",
      "Downloading audio from https://www.youtube.com/watch?v=9CUm15MA62Q...\n",
      "Downloading audio from https://www.youtube.com/watch?v=-nlDy6h-v9c...\n",
      "Downloading audio from https://www.youtube.com/watch?v=SRvCvsRp5ho...\n",
      "Downloading audio from https://www.youtube.com/watch?v=KrZHPOeOxQQ...\n",
      "Downloading audio from https://www.youtube.com/watch?v=Q4VK9_CfOLQ...\n",
      "Downloading audio from https://www.youtube.com/watch?v=C-u5WLJ9Yk4...\n",
      "Downloading audio from https://www.youtube.com/watch?v=oTs6oQx1WJY...\n",
      "Downloading audio from https://www.youtube.com/watch?v=lVhJ_A8XUgc...\n",
      "Downloading audio from https://www.youtube.com/watch?v=lVhJ_A8XUgc...\n",
      "Downloading audio from https://www.youtube.com/watch?v=Bb1ad7r5oN8...\n",
      "Downloading audio from https://www.youtube.com/watch?v=8YzabSdk7ZA...\n",
      "Downloading audio from https://www.youtube.com/watch?v=fHPnGqXXUmI...\n",
      "Downloading audio from https://www.youtube.com/watch?v=elueA2rofoo...\n",
      "Downloading audio from https://www.youtube.com/watch?v=-Edv8Onsrgg...\n",
      "Downloading audio from https://www.youtube.com/watch?v=ITuOddPeYoc...\n",
      "Downloading audio from https://www.youtube.com/watch?v=IlV7RhT6zHs...\n",
      "Downloading audio from https://www.youtube.com/watch?v=Mzybwwf2HoQ...\n"
     ]
    },
    {
     "name": "stderr",
     "output_type": "stream",
     "text": [
      "  0%|          | 0/360 [00:00<?, ?it/s]WARNING: [youtube] ITuOddPeYoc: Some tv client https formats have been skipped as they are DRM protected. The current session may have an experiment that applies DRM to all videos on the tv client. See  https://github.com/yt-dlp/yt-dlp/issues/12563  for more details.\n",
      "WARNING: [youtube] lDK9QqIzhwk: Some tv client https formats have been skipped as they are DRM protected. The current session may have an experiment that applies DRM to all videos on the tv client. See  https://github.com/yt-dlp/yt-dlp/issues/12563  for more details.\n",
      "WARNING: [youtube] DRS_PpOrUZ4: Some tv client https formats have been skipped as they are DRM protected. The current session may have an experiment that applies DRM to all videos on the tv client. See  https://github.com/yt-dlp/yt-dlp/issues/12563  for more details.\n",
      "WARNING: [youtube] SRvCvsRp5ho: Some tv client https formats have been skipped as they are DRM protected. The current session may have an experiment that applies DRM to all videos on the tv client. See  https://github.com/yt-dlp/yt-dlp/issues/12563  for more details.\n",
      "WARNING: [youtube] elueA2rofoo: Some tv client https formats have been skipped as they are DRM protected. The current session may have an experiment that applies DRM to all videos on the tv client. See  https://github.com/yt-dlp/yt-dlp/issues/12563  for more details.\n",
      "WARNING: [youtube] DRS_PpOrUZ4: Some tv client https formats have been skipped as they are DRM protected. The current session may have an experiment that applies DRM to all videos on the tv client. See  https://github.com/yt-dlp/yt-dlp/issues/12563  for more details.\n"
     ]
    },
    {
     "name": "stdout",
     "output_type": "stream",
     "text": [
      "                                                      \r  "
     ]
    },
    {
     "name": "stderr",
     "output_type": "stream",
     "text": [
      "WARNING: [youtube] elueA2rofoo: Some web client https formats have been skipped as they are missing a url. YouTube is forcing SABR streaming for this client. See  https://github.com/yt-dlp/yt-dlp/issues/12482  for more details\n"
     ]
    },
    {
     "name": "stdout",
     "output_type": "stream",
     "text": [
      "[download]  48.9% of ~   7.01MiB at  627.04KiB/s ETA 00:13 (frag 44/92) "
     ]
    },
    {
     "name": "stderr",
     "output_type": "stream",
     "text": [
      "  0%|          | 1/360 [01:26<8:38:27, 86.65s/it]"
     ]
    },
    {
     "name": "stdout",
     "output_type": "stream",
     "text": [
      "Error indexing Wanted Dead Or Alive (ID 136): [Errno 2] No such file or directory: '../../songs/Bon Jovi - Wanted Dead Or Alive (Official Music Video).m4a'\n",
      "Downloading audio from https://www.youtube.com/watch?v=0aEnnH6t8Ts...\n",
      "[download]  56.8% of ~   7.15MiB at  750.90KiB/s ETA 00:08 (frag 53/92)Error indexing Gimme More (ID 146): [Errno 2] No such file or directory: '../../songs/Britney Spears - Gimme More (Official HD Video).m4a'\n",
      "Downloading audio from https://www.youtube.com/watch?v=4vvBAONkYwI...\n",
      "[download]  58.7% of ~   6.91MiB at  768.79KiB/s ETA 00:08 (frag 53/92)"
     ]
    },
    {
     "name": "stderr",
     "output_type": "stream",
     "text": [
      "  1%|          | 2/360 [01:27<3:34:55, 36.02s/it]"
     ]
    },
    {
     "name": "stdout",
     "output_type": "stream",
     "text": [
      "[download]  28.6% of    3.49MiB at    3.11MiB/s ETA 00:00              "
     ]
    },
    {
     "name": "stderr",
     "output_type": "stream",
     "text": [
      "  1%|          | 3/360 [01:35<2:19:48, 23.50s/it]"
     ]
    },
    {
     "name": "stdout",
     "output_type": "stream",
     "text": [
      "Error indexing In My Feelings (ID 258): [Errno 2] No such file or directory: '../../songs/Drake - In My Feelings.m4a'\n",
      "Downloading audio from https://www.youtube.com/watch?v=fV0uCYp6zAg...\n",
      "                                                      \r  "
     ]
    },
    {
     "name": "stderr",
     "output_type": "stream",
     "text": [
      "  1%|          | 4/360 [03:22<5:33:40, 56.24s/it]"
     ]
    },
    {
     "name": "stdout",
     "output_type": "stream",
     "text": [
      "Downloading audio from https://www.youtube.com/watch?v=CduA0TULnow...\n",
      "                                                      \r  "
     ]
    },
    {
     "name": "stderr",
     "output_type": "stream",
     "text": [
      "  1%|▏         | 5/360 [05:05<7:12:20, 73.07s/it]"
     ]
    },
    {
     "name": "stdout",
     "output_type": "stream",
     "text": [
      "Downloading audio from https://www.youtube.com/watch?v=u4FF6MpcsRw...\n"
     ]
    },
    {
     "name": "stderr",
     "output_type": "stream",
     "text": [
      "  2%|▏         | 6/360 [05:05<4:45:43, 48.43s/it]"
     ]
    },
    {
     "name": "stdout",
     "output_type": "stream",
     "text": [
      "Downloading audio from https://www.youtube.com/watch?v=t0bPrt69rag...\n",
      "                                                      \r  "
     ]
    },
    {
     "name": "stderr",
     "output_type": "stream",
     "text": [
      "  2%|▏         | 7/360 [05:22<3:43:01, 37.91s/it]"
     ]
    },
    {
     "name": "stdout",
     "output_type": "stream",
     "text": [
      "Downloading audio from https://www.youtube.com/watch?v=AJWtLf4-WWs...\n"
     ]
    },
    {
     "name": "stderr",
     "output_type": "stream",
     "text": [
      "  2%|▏         | 8/360 [05:22<2:32:20, 25.97s/it]"
     ]
    },
    {
     "name": "stdout",
     "output_type": "stream",
     "text": [
      "Downloading audio from https://www.youtube.com/watch?v=qzU9OrZlKb8...\n"
     ]
    },
    {
     "name": "stderr",
     "output_type": "stream",
     "text": [
      "  2%|▎         | 9/360 [05:28<1:55:39, 19.77s/it]"
     ]
    },
    {
     "name": "stdout",
     "output_type": "stream",
     "text": [
      "Downloading audio from https://www.youtube.com/watch?v=LOZuxwVk7TU...\n",
      "                                                      \r  "
     ]
    },
    {
     "name": "stderr",
     "output_type": "stream",
     "text": [
      "  3%|▎         | 10/360 [05:49<1:57:04, 20.07s/it]"
     ]
    },
    {
     "name": "stdout",
     "output_type": "stream",
     "text": [
      "Downloading audio from https://www.youtube.com/watch?v=rMqayQ-U74s...\n"
     ]
    },
    {
     "name": "stderr",
     "output_type": "stream",
     "text": [
      "WARNING: [youtube] rMqayQ-U74s: Some tv client https formats have been skipped as they are DRM protected. The current session may have an experiment that applies DRM to all videos on the tv client. See  https://github.com/yt-dlp/yt-dlp/issues/12563  for more details.\n",
      "  3%|▎         | 11/360 [05:53<1:29:01, 15.31s/it]"
     ]
    },
    {
     "name": "stdout",
     "output_type": "stream",
     "text": [
      "Downloading audio from https://www.youtube.com/watch?v=UqyT8IEBkvY...\n",
      "                                                      \r  "
     ]
    },
    {
     "name": "stderr",
     "output_type": "stream",
     "text": [
      "  3%|▎         | 12/360 [06:01<1:15:17, 12.98s/it]"
     ]
    },
    {
     "name": "stdout",
     "output_type": "stream",
     "text": [
      "Downloading audio from https://www.youtube.com/watch?v=oacaq_1TkMU...\n",
      "                                                      \r  "
     ]
    },
    {
     "name": "stderr",
     "output_type": "stream",
     "text": [
      "  4%|▎         | 13/360 [06:03<55:06,  9.53s/it]  "
     ]
    },
    {
     "name": "stdout",
     "output_type": "stream",
     "text": [
      "Downloading audio from https://www.youtube.com/watch?v=6k8cpUkKK4c...\n",
      "                                                      \r  "
     ]
    },
    {
     "name": "stderr",
     "output_type": "stream",
     "text": [
      "  4%|▍         | 14/360 [06:20<1:08:10, 11.82s/it]"
     ]
    },
    {
     "name": "stdout",
     "output_type": "stream",
     "text": [
      "Downloading audio from https://www.youtube.com/watch?v=SR6iYWJxHqs...\n"
     ]
    },
    {
     "name": "stderr",
     "output_type": "stream",
     "text": [
      "  4%|▍         | 15/360 [06:21<49:30,  8.61s/it]  "
     ]
    },
    {
     "name": "stdout",
     "output_type": "stream",
     "text": [
      "Downloading audio from https://www.youtube.com/watch?v=NPRmJwSOsLY...\n"
     ]
    },
    {
     "name": "stderr",
     "output_type": "stream",
     "text": [
      "  4%|▍         | 16/360 [06:23<39:00,  6.80s/it]"
     ]
    },
    {
     "name": "stdout",
     "output_type": "stream",
     "text": [
      "Downloading audio from https://www.youtube.com/watch?v=9YZpng2PL34...\n",
      "                                                      \r  "
     ]
    },
    {
     "name": "stderr",
     "output_type": "stream",
     "text": [
      "  5%|▍         | 17/360 [06:37<50:36,  8.85s/it]"
     ]
    },
    {
     "name": "stdout",
     "output_type": "stream",
     "text": [
      "Downloading audio from https://www.youtube.com/watch?v=W-w3WfgpcGg...\n"
     ]
    },
    {
     "name": "stderr",
     "output_type": "stream",
     "text": [
      "  5%|▌         | 18/360 [06:43<45:10,  7.93s/it]"
     ]
    },
    {
     "name": "stdout",
     "output_type": "stream",
     "text": [
      "Downloading audio from https://www.youtube.com/watch?v=LjhCEhWiKXk...\n",
      "                                                      \r  "
     ]
    },
    {
     "name": "stderr",
     "output_type": "stream",
     "text": [
      "WARNING: [youtube] LjhCEhWiKXk: Some tv client https formats have been skipped as they are DRM protected. The current session may have an experiment that applies DRM to all videos on the tv client. See  https://github.com/yt-dlp/yt-dlp/issues/12563  for more details.\n"
     ]
    },
    {
     "name": "stdout",
     "output_type": "stream",
     "text": [
      "                                                      \r                  "
     ]
    },
    {
     "name": "stderr",
     "output_type": "stream",
     "text": [
      "  5%|▌         | 19/360 [06:53<49:19,  8.68s/it]"
     ]
    },
    {
     "name": "stdout",
     "output_type": "stream",
     "text": [
      "Error indexing Just the Way You Are (ID 168): [Errno 2] No such file or directory: '../../songs/Bruno Mars - Just The Way You Are (Official Music Video).m4a'\n",
      "Downloading audio from https://www.youtube.com/watch?v=e-fA-gBCkj0...\n",
      "                                                      \r  "
     ]
    },
    {
     "name": "stderr",
     "output_type": "stream",
     "text": [
      "  6%|▌         | 20/360 [07:32<1:40:07, 17.67s/it]"
     ]
    },
    {
     "name": "stdout",
     "output_type": "stream",
     "text": [
      "Downloading audio from https://www.youtube.com/watch?v=dElRVQFqj-k...\n"
     ]
    },
    {
     "name": "stderr",
     "output_type": "stream",
     "text": [
      "  6%|▌         | 21/360 [07:36<1:17:29, 13.71s/it]"
     ]
    },
    {
     "name": "stdout",
     "output_type": "stream",
     "text": [
      "Downloading audio from https://www.youtube.com/watch?v=P-FrQnI3slU...\n",
      "[download]  30.2% of    3.31MiB at    2.20MiB/s ETA 00:01"
     ]
    },
    {
     "name": "stderr",
     "output_type": "stream",
     "text": [
      "  6%|▌         | 22/360 [07:45<1:07:59, 12.07s/it]"
     ]
    },
    {
     "name": "stdout",
     "output_type": "stream",
     "text": [
      "Downloading audio from https://www.youtube.com/watch?v=PMivT7MJ41M...\n",
      "                                                      \r  "
     ]
    },
    {
     "name": "stderr",
     "output_type": "stream",
     "text": [
      "  6%|▋         | 23/360 [07:49<55:02,  9.80s/it]  "
     ]
    },
    {
     "name": "stdout",
     "output_type": "stream",
     "text": [
      "Downloading audio from https://www.youtube.com/watch?v=fLexgOxsZu0...\n",
      "                                                      \r  "
     ]
    },
    {
     "name": "stderr",
     "output_type": "stream",
     "text": [
      "  7%|▋         | 24/360 [07:56<50:30,  9.02s/it]"
     ]
    },
    {
     "name": "stdout",
     "output_type": "stream",
     "text": [
      "Downloading audio from https://www.youtube.com/watch?v=nPvuNsRccVw...\n",
      "                                                      \r  "
     ]
    },
    {
     "name": "stderr",
     "output_type": "stream",
     "text": [
      "  7%|▋         | 25/360 [08:37<1:43:48, 18.59s/it]"
     ]
    },
    {
     "name": "stdout",
     "output_type": "stream",
     "text": [
      "Downloading audio from https://www.youtube.com/watch?v=-FyjEnoIgTM...\n",
      "                                                      \r  "
     ]
    },
    {
     "name": "stderr",
     "output_type": "stream",
     "text": [
      "  7%|▋         | 26/360 [08:49<1:31:19, 16.40s/it]"
     ]
    },
    {
     "name": "stdout",
     "output_type": "stream",
     "text": [
      "Downloading audio from https://www.youtube.com/watch?v=ekzHIouo8Q4...\n"
     ]
    },
    {
     "name": "stderr",
     "output_type": "stream",
     "text": [
      "  8%|▊         | 27/360 [08:50<1:05:58, 11.89s/it]"
     ]
    },
    {
     "name": "stdout",
     "output_type": "stream",
     "text": [
      "Downloading audio from https://www.youtube.com/watch?v=Y0pdQU87dc8...\n"
     ]
    },
    {
     "name": "stderr",
     "output_type": "stream",
     "text": [
      "  8%|▊         | 28/360 [08:53<52:00,  9.40s/it]  "
     ]
    },
    {
     "name": "stdout",
     "output_type": "stream",
     "text": [
      "Downloading audio from https://www.youtube.com/watch?v=lP4Nnek6DCo...\n"
     ]
    },
    {
     "name": "stderr",
     "output_type": "stream",
     "text": [
      "WARNING: [youtube] lP4Nnek6DCo: Some tv client https formats have been skipped as they are DRM protected. The current session may have an experiment that applies DRM to all videos on the tv client. See  https://github.com/yt-dlp/yt-dlp/issues/12563  for more details.\n"
     ]
    },
    {
     "name": "stdout",
     "output_type": "stream",
     "text": [
      "                                                      \r  "
     ]
    },
    {
     "name": "stderr",
     "output_type": "stream",
     "text": [
      "WARNING: [youtube] lP4Nnek6DCo: Some tv client https formats have been skipped as they are DRM protected. The current session may have an experiment that applies DRM to all videos on the tv client. See  https://github.com/yt-dlp/yt-dlp/issues/12563  for more details.\n"
     ]
    },
    {
     "name": "stdout",
     "output_type": "stream",
     "text": [
      "                                                      \r                  "
     ]
    },
    {
     "name": "stderr",
     "output_type": "stream",
     "text": [
      "  8%|▊         | 29/360 [09:08<1:00:39, 10.99s/it]"
     ]
    },
    {
     "name": "stdout",
     "output_type": "stream",
     "text": [
      "Error indexing Can't Stop This Thing We Started (ID 178): [Errno 2] No such file or directory: \"../../songs/Bryan Adams - Can't Stop This Thing We Started.m4a\"\n",
      "Downloading audio from https://www.youtube.com/watch?v=diKIYv8tMC8...\n",
      "[download]  22.4% of    4.45MiB at    4.79MiB/s ETA 00:00"
     ]
    },
    {
     "name": "stderr",
     "output_type": "stream",
     "text": [
      "  8%|▊         | 30/360 [09:15<53:53,  9.80s/it]  "
     ]
    },
    {
     "name": "stdout",
     "output_type": "stream",
     "text": [
      "Downloading audio from https://www.youtube.com/watch?v=s6TtwR2Dbjg...\n",
      "                                                      \r  "
     ]
    },
    {
     "name": "stderr",
     "output_type": "stream",
     "text": [
      "WARNING: [youtube] s6TtwR2Dbjg: Some tv client https formats have been skipped as they are DRM protected. The current session may have an experiment that applies DRM to all videos on the tv client. See  https://github.com/yt-dlp/yt-dlp/issues/12563  for more details.\n"
     ]
    },
    {
     "name": "stdout",
     "output_type": "stream",
     "text": [
      "                                                      \r                  "
     ]
    },
    {
     "name": "stderr",
     "output_type": "stream",
     "text": [
      "  9%|▊         | 31/360 [09:26<55:50, 10.18s/it]"
     ]
    },
    {
     "name": "stdout",
     "output_type": "stream",
     "text": [
      "Error indexing Heaven (ID 180): [Errno 2] No such file or directory: '../../songs/Bryan Adams - Heaven.m4a'\n",
      "Downloading audio from https://www.youtube.com/watch?v=Xm9GlSbxy78...\n"
     ]
    },
    {
     "name": "stderr",
     "output_type": "stream",
     "text": [
      "WARNING: [youtube] Xm9GlSbxy78: Some tv client https formats have been skipped as they are DRM protected. The current session may have an experiment that applies DRM to all videos on the tv client. See  https://github.com/yt-dlp/yt-dlp/issues/12563  for more details.\n",
      "  9%|▉         | 32/360 [09:27<40:51,  7.47s/it]"
     ]
    },
    {
     "name": "stdout",
     "output_type": "stream",
     "text": [
      "Downloading audio from https://www.youtube.com/watch?v=9EHAo6rEuas...\n"
     ]
    },
    {
     "name": "stderr",
     "output_type": "stream",
     "text": [
      "  9%|▉         | 33/360 [09:29<31:44,  5.82s/it]"
     ]
    },
    {
     "name": "stdout",
     "output_type": "stream",
     "text": [
      "Downloading audio from https://www.youtube.com/watch?v=nCBASt507WA...\n",
      "                                                      \r  "
     ]
    },
    {
     "name": "stderr",
     "output_type": "stream",
     "text": [
      "  9%|▉         | 34/360 [09:48<51:48,  9.54s/it]"
     ]
    },
    {
     "name": "stdout",
     "output_type": "stream",
     "text": [
      "Downloading audio from https://www.youtube.com/watch?v=eFjjO_lhf9c...\n",
      "[download]  30.4% of    3.28MiB at    4.51MiB/s ETA 00:00Downloading audio from https://www.youtube.com/watch?v=onn8x-qDrtg...\n"
     ]
    },
    {
     "name": "stderr",
     "output_type": "stream",
     "text": [
      " 10%|▉         | 35/360 [09:54<46:27,  8.58s/it]"
     ]
    },
    {
     "name": "stdout",
     "output_type": "stream",
     "text": [
      "                                                      \r  "
     ]
    },
    {
     "name": "stderr",
     "output_type": "stream",
     "text": [
      " 10%|█         | 36/360 [10:23<1:19:07, 14.65s/it]"
     ]
    },
    {
     "name": "stdout",
     "output_type": "stream",
     "text": [
      "Downloading audio from https://www.youtube.com/watch?v=CTfIr_euGTs...\n"
     ]
    },
    {
     "name": "stderr",
     "output_type": "stream",
     "text": [
      "WARNING: [youtube] CTfIr_euGTs: Some tv client https formats have been skipped as they are DRM protected. The current session may have an experiment that applies DRM to all videos on the tv client. See  https://github.com/yt-dlp/yt-dlp/issues/12563  for more details.\n"
     ]
    },
    {
     "name": "stdout",
     "output_type": "stream",
     "text": [
      "                                                      \r                  "
     ]
    },
    {
     "name": "stderr",
     "output_type": "stream",
     "text": [
      " 10%|█         | 37/360 [10:33<1:12:22, 13.45s/it]"
     ]
    },
    {
     "name": "stdout",
     "output_type": "stream",
     "text": [
      "Error indexing Thought I'd Died And Gone To Heaven (ID 186): [Errno 2] No such file or directory: \"../../songs/Bryan Adams - Thought I'd Died And Gone To Heaven.m4a\"\n",
      "Downloading audio from https://www.youtube.com/watch?v=dOV5WXISM24...\n"
     ]
    },
    {
     "name": "stderr",
     "output_type": "stream",
     "text": [
      " 11%|█         | 38/360 [10:37<55:33, 10.35s/it]  "
     ]
    },
    {
     "name": "stdout",
     "output_type": "stream",
     "text": [
      "Downloading audio from https://www.youtube.com/watch?v=R8egmh5dWzo...\n"
     ]
    },
    {
     "name": "stderr",
     "output_type": "stream",
     "text": [
      "WARNING: [youtube] R8egmh5dWzo: Some tv client https formats have been skipped as they are DRM protected. The current session may have an experiment that applies DRM to all videos on the tv client. See  https://github.com/yt-dlp/yt-dlp/issues/12563  for more details.\n"
     ]
    },
    {
     "name": "stdout",
     "output_type": "stream",
     "text": [
      "                                                      \r  "
     ]
    },
    {
     "name": "stderr",
     "output_type": "stream",
     "text": [
      " 11%|█         | 39/360 [10:45<51:41,  9.66s/it]"
     ]
    },
    {
     "name": "stdout",
     "output_type": "stream",
     "text": [
      "Downloading audio from https://www.youtube.com/watch?v=D2_qw8O5lf0...\n",
      "                                                      \r  "
     ]
    },
    {
     "name": "stderr",
     "output_type": "stream",
     "text": [
      " 11%|█         | 40/360 [10:50<44:21,  8.32s/it]"
     ]
    },
    {
     "name": "stdout",
     "output_type": "stream",
     "text": [
      "Downloading audio from https://www.youtube.com/watch?v=wkczQYC_8TQ...\n",
      "                                                      \r  "
     ]
    },
    {
     "name": "stderr",
     "output_type": "stream",
     "text": [
      " 11%|█▏        | 41/360 [11:09<1:02:09, 11.69s/it]"
     ]
    },
    {
     "name": "stdout",
     "output_type": "stream",
     "text": [
      "Downloading audio from https://www.youtube.com/watch?v=b4Bj7Zb-YD4...\n"
     ]
    },
    {
     "name": "stderr",
     "output_type": "stream",
     "text": [
      "WARNING: [youtube] b4Bj7Zb-YD4: Some tv client https formats have been skipped as they are DRM protected. The current session may have an experiment that applies DRM to all videos on the tv client. See  https://github.com/yt-dlp/yt-dlp/issues/12563  for more details.\n"
     ]
    },
    {
     "name": "stdout",
     "output_type": "stream",
     "text": [
      "                                                      \r                  "
     ]
    },
    {
     "name": "stderr",
     "output_type": "stream",
     "text": [
      " 12%|█▏        | 42/360 [11:19<58:11, 10.98s/it]  "
     ]
    },
    {
     "name": "stdout",
     "output_type": "stream",
     "text": [
      "Error indexing My Way (ID 191): [Errno 2] No such file or directory: '../../songs/Calvin Harris - My Way (Official Video).m4a'\n",
      "Downloading audio from https://www.youtube.com/watch?v=XO4msvIA7cw...\n"
     ]
    },
    {
     "name": "stderr",
     "output_type": "stream",
     "text": [
      " 12%|█▏        | 43/360 [11:23<46:51,  8.87s/it]"
     ]
    },
    {
     "name": "stdout",
     "output_type": "stream",
     "text": [
      "Downloading audio from https://www.youtube.com/watch?v=ebXbLfLACGM...\n",
      "                                                      \r  "
     ]
    },
    {
     "name": "stderr",
     "output_type": "stream",
     "text": [
      " 12%|█▏        | 44/360 [11:36<54:22, 10.33s/it]"
     ]
    },
    {
     "name": "stdout",
     "output_type": "stream",
     "text": [
      "Downloading audio from https://www.youtube.com/watch?v=qLpaHAxBe3A...\n"
     ]
    },
    {
     "name": "stderr",
     "output_type": "stream",
     "text": [
      "WARNING: [youtube] qLpaHAxBe3A: Some tv client https formats have been skipped as they are DRM protected. The current session may have an experiment that applies DRM to all videos on the tv client. See  https://github.com/yt-dlp/yt-dlp/issues/12563  for more details.\n"
     ]
    },
    {
     "name": "stdout",
     "output_type": "stream",
     "text": [
      "                                                      \r  "
     ]
    },
    {
     "name": "stderr",
     "output_type": "stream",
     "text": [
      " 12%|█▎        | 45/360 [11:54<1:05:34, 12.49s/it]"
     ]
    },
    {
     "name": "stdout",
     "output_type": "stream",
     "text": [
      "Downloading audio from https://www.youtube.com/watch?v=mf58RAPR8Ws...\n"
     ]
    },
    {
     "name": "stderr",
     "output_type": "stream",
     "text": [
      " 13%|█▎        | 46/360 [11:57<49:57,  9.55s/it]  "
     ]
    },
    {
     "name": "stdout",
     "output_type": "stream",
     "text": [
      "Downloading audio from https://www.youtube.com/watch?v=0Kx3sobEBFE...\n",
      "                                                      \r  "
     ]
    },
    {
     "name": "stderr",
     "output_type": "stream",
     "text": [
      " 13%|█▎        | 47/360 [12:08<52:05,  9.99s/it]"
     ]
    },
    {
     "name": "stdout",
     "output_type": "stream",
     "text": [
      "Downloading audio from https://www.youtube.com/watch?v=Ph54wQG8ynk...\n",
      "                                                      \r  "
     ]
    },
    {
     "name": "stderr",
     "output_type": "stream",
     "text": [
      " 13%|█▎        | 48/360 [12:36<1:20:25, 15.47s/it]"
     ]
    },
    {
     "name": "stdout",
     "output_type": "stream",
     "text": [
      "Downloading audio from https://www.youtube.com/watch?v=Fp_P_e1cPOE...\n"
     ]
    },
    {
     "name": "stderr",
     "output_type": "stream",
     "text": [
      "WARNING: [youtube] Fp_P_e1cPOE: Some tv client https formats have been skipped as they are DRM protected. The current session may have an experiment that applies DRM to all videos on the tv client. See  https://github.com/yt-dlp/yt-dlp/issues/12563  for more details.\n"
     ]
    },
    {
     "name": "stdout",
     "output_type": "stream",
     "text": [
      "                                                      \r  "
     ]
    },
    {
     "name": "stderr",
     "output_type": "stream",
     "text": [
      " 14%|█▎        | 49/360 [12:48<1:15:17, 14.53s/it]"
     ]
    },
    {
     "name": "stdout",
     "output_type": "stream",
     "text": [
      "Downloading audio from https://www.youtube.com/watch?v=rCiBgLOcuKU...\n",
      "                                                      \r  "
     ]
    },
    {
     "name": "stderr",
     "output_type": "stream",
     "text": [
      " 14%|█▍        | 50/360 [14:26<3:24:57, 39.67s/it]"
     ]
    },
    {
     "name": "stdout",
     "output_type": "stream",
     "text": [
      "Downloading audio from https://www.youtube.com/watch?v=8x7Ta89QLo4...\n",
      "                                                      \r  "
     ]
    },
    {
     "name": "stderr",
     "output_type": "stream",
     "text": [
      " 14%|█▍        | 51/360 [14:38<2:40:18, 31.13s/it]"
     ]
    },
    {
     "name": "stdout",
     "output_type": "stream",
     "text": [
      "Downloading audio from https://www.youtube.com/watch?v=eAfyFTzZDMM...\n"
     ]
    },
    {
     "name": "stderr",
     "output_type": "stream",
     "text": [
      "WARNING: [youtube] eAfyFTzZDMM: Some tv client https formats have been skipped as they are DRM protected. The current session may have an experiment that applies DRM to all videos on the tv client. See  https://github.com/yt-dlp/yt-dlp/issues/12563  for more details.\n"
     ]
    },
    {
     "name": "stdout",
     "output_type": "stream",
     "text": [
      "                                                      \r                  "
     ]
    },
    {
     "name": "stderr",
     "output_type": "stream",
     "text": [
      " 14%|█▍        | 52/360 [14:48<2:07:09, 24.77s/it]"
     ]
    },
    {
     "name": "stdout",
     "output_type": "stream",
     "text": [
      "Error indexing Beautiful (ID 201): [Errno 2] No such file or directory: '../../songs/Christina Aguilera - Beautiful (Official HD Video).m4a'\n",
      "Downloading audio from https://www.youtube.com/watch?v=-ScjucUV8v0...\n"
     ]
    },
    {
     "name": "stderr",
     "output_type": "stream",
     "text": [
      "WARNING: [youtube] -ScjucUV8v0: Some tv client https formats have been skipped as they are DRM protected. The current session may have an experiment that applies DRM to all videos on the tv client. See  https://github.com/yt-dlp/yt-dlp/issues/12563  for more details.\n",
      " 15%|█▍        | 53/360 [14:51<1:34:12, 18.41s/it]"
     ]
    },
    {
     "name": "stdout",
     "output_type": "stream",
     "text": [
      "Downloading audio from https://www.youtube.com/watch?v=0RQDIJ2CvbA...\n"
     ]
    },
    {
     "name": "stderr",
     "output_type": "stream",
     "text": [
      "WARNING: [youtube] -ScjucUV8v0: Some tv client https formats have been skipped as they are DRM protected. The current session may have an experiment that applies DRM to all videos on the tv client. See  https://github.com/yt-dlp/yt-dlp/issues/12563  for more details.\n"
     ]
    },
    {
     "name": "stdout",
     "output_type": "stream",
     "text": [
      "[download]  17.7% of ~   2.89MiB at  112.36KiB/s ETA 00:22 (frag 5/36)  "
     ]
    },
    {
     "name": "stderr",
     "output_type": "stream",
     "text": [
      " 15%|█▌        | 54/360 [15:03<1:23:24, 16.35s/it]"
     ]
    },
    {
     "name": "stdout",
     "output_type": "stream",
     "text": [
      "Downloading audio from https://www.youtube.com/watch?v=PstrAfoMKlc...\n",
      "[download]  31.6% of ~   3.04MiB at   72.98KiB/s ETA 00:27 (frag 10/36)"
     ]
    },
    {
     "name": "stderr",
     "output_type": "stream",
     "text": [
      " 15%|█▌        | 55/360 [15:09<1:07:03, 13.19s/it]"
     ]
    },
    {
     "name": "stdout",
     "output_type": "stream",
     "text": [
      "Downloading audio from https://www.youtube.com/watch?v=kIDWgqDBNXA...\n",
      "[download]  33.8% of ~   3.06MiB at   73.39KiB/s ETA 00:27 (frag 11/36)"
     ]
    },
    {
     "name": "stderr",
     "output_type": "stream",
     "text": [
      " 16%|█▌        | 56/360 [15:10<48:24,  9.55s/it]  "
     ]
    },
    {
     "name": "stdout",
     "output_type": "stream",
     "text": [
      "Downloading audio from https://www.youtube.com/watch?v=kIDWgqDBNXA...\n",
      "[download]  39.2% of ~   2.98MiB at   33.40KiB/s ETA 00:44 (frag 13/36)"
     ]
    },
    {
     "name": "stderr",
     "output_type": "stream",
     "text": [
      "WARNING: [youtube] kIDWgqDBNXA: Some tv client https formats have been skipped as they are DRM protected. The current session may have an experiment that applies DRM to all videos on the tv client. See  https://github.com/yt-dlp/yt-dlp/issues/12563  for more details.\n"
     ]
    },
    {
     "name": "stdout",
     "output_type": "stream",
     "text": [
      "[download]  37.3% of ~   3.06MiB at  400.93KiB/s ETA 00:06 (frag 15/43) "
     ]
    },
    {
     "name": "stderr",
     "output_type": "stream",
     "text": [
      "ERROR: Postprocessing: Conversion failed!\n",
      " 16%|█▌        | 57/360 [15:21<50:27,  9.99s/it]"
     ]
    },
    {
     "name": "stdout",
     "output_type": "stream",
     "text": [
      "Error loading audio from https://www.youtube.com/watch?v=kIDWgqDBNXA: ERROR: Postprocessing: Conversion failed!\n",
      "Error indexing Genie in a Bottle (ID 206): 'DownloadError' object has no attribute 'stdout'\n",
      "Downloading audio from https://www.youtube.com/watch?v=wwCykGDEp7M...\n",
      "[download]  98.3% of ~   3.42MiB at  458.64KiB/s ETA 00:01 (frag 43/43)"
     ]
    },
    {
     "name": "stderr",
     "output_type": "stream",
     "text": [
      "ERROR: The downloaded file is empty\n",
      " 16%|█▌        | 58/360 [15:25<41:04,  8.16s/it]"
     ]
    },
    {
     "name": "stdout",
     "output_type": "stream",
     "text": [
      "Error loading audio from https://www.youtube.com/watch?v=kIDWgqDBNXA: ERROR: The downloaded file is empty\n",
      "Error indexing Genie In a Bottle (ID 205): 'DownloadError' object has no attribute 'stdout'\n",
      "Downloading audio from https://www.youtube.com/watch?v=XZSVNm0t3OM...\n",
      "[download]  56.6% of ~   3.09MiB at   63.97KiB/s ETA 00:27 (frag 19/36)"
     ]
    },
    {
     "name": "stderr",
     "output_type": "stream",
     "text": [
      "WARNING: [youtube] XZSVNm0t3OM: Some tv client https formats have been skipped as they are DRM protected. The current session may have an experiment that applies DRM to all videos on the tv client. See  https://github.com/yt-dlp/yt-dlp/issues/12563  for more details.\n"
     ]
    },
    {
     "name": "stdout",
     "output_type": "stream",
     "text": [
      "[download]  67.4% of ~   3.18MiB at   54.82KiB/s ETA 00:23 (frag 25/36)"
     ]
    },
    {
     "name": "stderr",
     "output_type": "stream",
     "text": [
      " 16%|█▋        | 59/360 [15:36<46:03,  9.18s/it]"
     ]
    },
    {
     "name": "stdout",
     "output_type": "stream",
     "text": [
      "Downloading audio from https://www.youtube.com/watch?v=gkPxgUshpec...\n",
      "[download]  95.0% of ~   3.02MiB at   95.50KiB/s ETA 00:03 (frag 33/36)"
     ]
    },
    {
     "name": "stderr",
     "output_type": "stream",
     "text": [
      " 17%|█▋        | 60/360 [15:45<45:58,  9.19s/it]"
     ]
    },
    {
     "name": "stdout",
     "output_type": "stream",
     "text": [
      "Downloading audio from https://www.youtube.com/watch?v=hpspGHeLOPE...\n",
      "                                                       \r               "
     ]
    },
    {
     "name": "stderr",
     "output_type": "stream",
     "text": [
      " 17%|█▋        | 61/360 [15:47<34:30,  6.92s/it]"
     ]
    },
    {
     "name": "stdout",
     "output_type": "stream",
     "text": [
      "Error indexing Candyman (ID 202): [Errno 2] No such file or directory: '../../songs/Christina Aguilera - Candyman (Official Video).m4a'\n",
      "Downloading audio from https://www.youtube.com/watch?v=VPRjCeoBqrI...\n"
     ]
    },
    {
     "name": "stderr",
     "output_type": "stream",
     "text": [
      " 17%|█▋        | 62/360 [15:50<28:29,  5.73s/it]"
     ]
    },
    {
     "name": "stdout",
     "output_type": "stream",
     "text": [
      "Downloading audio from https://www.youtube.com/watch?v=QtXby3twMmI...\n"
     ]
    },
    {
     "name": "stderr",
     "output_type": "stream",
     "text": [
      "WARNING: [youtube] hpspGHeLOPE: Some tv client https formats have been skipped as they are DRM protected. The current session may have an experiment that applies DRM to all videos on the tv client. See  https://github.com/yt-dlp/yt-dlp/issues/12563  for more details.\n",
      "WARNING: [youtube] hpspGHeLOPE: Some web client https formats have been skipped as they are missing a url. YouTube is forcing SABR streaming for this client. See  https://github.com/yt-dlp/yt-dlp/issues/12482  for more details\n"
     ]
    },
    {
     "name": "stdout",
     "output_type": "stream",
     "text": [
      "[download]   1.6% of    3.92MiB at    1.31MiB/s ETA 00:027 (frag 10/45) "
     ]
    },
    {
     "name": "stderr",
     "output_type": "stream",
     "text": [
      "WARNING: [youtube] QtXby3twMmI: Some tv client https formats have been skipped as they are DRM protected. The current session may have an experiment that applies DRM to all videos on the tv client. See  https://github.com/yt-dlp/yt-dlp/issues/12563  for more details.\n"
     ]
    },
    {
     "name": "stdout",
     "output_type": "stream",
     "text": [
      "[download]  44.9% of ~   5.07MiB at 1011.33KiB/s ETA 00:02 (frag 29/62)  "
     ]
    },
    {
     "name": "stderr",
     "output_type": "stream",
     "text": [
      " 18%|█▊        | 63/360 [16:01<36:27,  7.37s/it]"
     ]
    },
    {
     "name": "stdout",
     "output_type": "stream",
     "text": [
      "Error indexing What a Girl Wants (ID 210): [Errno 2] No such file or directory: '../../songs/Christina Aguilera - What A Girl Wants (Official Video).m4a'\n",
      "Downloading audio from https://www.youtube.com/watch?v=zTFBJgnNgU4...\n",
      "                                                        \r              "
     ]
    },
    {
     "name": "stderr",
     "output_type": "stream",
     "text": [
      " 18%|█▊        | 64/360 [16:05<30:47,  6.24s/it]"
     ]
    },
    {
     "name": "stdout",
     "output_type": "stream",
     "text": [
      "Error indexing Adventure of a Lifetime (ID 212): [Errno 2] No such file or directory: '../../songs/Coldplay - Adventure Of A Lifetime (Official Video).m4a'\n",
      "Downloading audio from https://www.youtube.com/watch?v=d020hcWA_Wg...\n"
     ]
    },
    {
     "name": "stderr",
     "output_type": "stream",
     "text": [
      " 18%|█▊        | 65/360 [16:05<21:49,  4.44s/it]"
     ]
    },
    {
     "name": "stdout",
     "output_type": "stream",
     "text": [
      "Downloading audio from https://www.youtube.com/watch?v=fyMhvkC3A84...\n",
      "                                                      \r  "
     ]
    },
    {
     "name": "stderr",
     "output_type": "stream",
     "text": [
      "WARNING: [youtube] fyMhvkC3A84: Some tv client https formats have been skipped as they are DRM protected. The current session may have an experiment that applies DRM to all videos on the tv client. See  https://github.com/yt-dlp/yt-dlp/issues/12563  for more details.\n"
     ]
    },
    {
     "name": "stdout",
     "output_type": "stream",
     "text": [
      "                                                        \r               "
     ]
    },
    {
     "name": "stderr",
     "output_type": "stream",
     "text": [
      " 18%|█▊        | 66/360 [16:21<38:24,  7.84s/it]"
     ]
    },
    {
     "name": "stdout",
     "output_type": "stream",
     "text": [
      "Error indexing Every Teardrop Is a Waterfall (ID 215): [Errno 2] No such file or directory: '../../songs/Coldplay - Every Teardrop Is a Waterfall (Official Video).m4a'\n",
      "Downloading audio from https://www.youtube.com/watch?v=k4V3Mo61fJM...\n",
      "                                                      \r  "
     ]
    },
    {
     "name": "stderr",
     "output_type": "stream",
     "text": [
      " 19%|█▊        | 67/360 [16:44<1:01:05, 12.51s/it]"
     ]
    },
    {
     "name": "stdout",
     "output_type": "stream",
     "text": [
      "Downloading audio from https://www.youtube.com/watch?v=qhIVgSoJVRc...\n",
      "                                                      \r  "
     ]
    },
    {
     "name": "stderr",
     "output_type": "stream",
     "text": [
      " 19%|█▉        | 68/360 [17:08<1:18:07, 16.05s/it]"
     ]
    },
    {
     "name": "stdout",
     "output_type": "stream",
     "text": [
      "Downloading audio from https://www.youtube.com/watch?v=3lfnR7OhZY8...\n"
     ]
    },
    {
     "name": "stderr",
     "output_type": "stream",
     "text": [
      " 19%|█▉        | 69/360 [17:14<1:02:04, 12.80s/it]"
     ]
    },
    {
     "name": "stdout",
     "output_type": "stream",
     "text": [
      "Downloading audio from https://www.youtube.com/watch?v=YykjpeuMNEk...\n",
      "                                                      \r  "
     ]
    },
    {
     "name": "stderr",
     "output_type": "stream",
     "text": [
      " 19%|█▉        | 70/360 [17:31<1:08:43, 14.22s/it]"
     ]
    },
    {
     "name": "stdout",
     "output_type": "stream",
     "text": [
      "Downloading audio from https://www.youtube.com/watch?v=gnIZ7RMuLpU...\n",
      "                                                      \r  "
     ]
    },
    {
     "name": "stderr",
     "output_type": "stream",
     "text": [
      " 20%|█▉        | 71/360 [18:52<2:44:08, 34.08s/it]"
     ]
    },
    {
     "name": "stdout",
     "output_type": "stream",
     "text": [
      "Downloading audio from https://www.youtube.com/watch?v=fXSovfzyx28...\n",
      "                                                         \r"
     ]
    },
    {
     "name": "stderr",
     "output_type": "stream",
     "text": [
      " 20%|██        | 72/360 [19:10<2:21:07, 29.40s/it]"
     ]
    },
    {
     "name": "stdout",
     "output_type": "stream",
     "text": [
      "Downloading audio from https://www.youtube.com/watch?v=Pkgeai985rA...\n",
      "                                                      \r  "
     ]
    },
    {
     "name": "stderr",
     "output_type": "stream",
     "text": [
      " 20%|██        | 73/360 [19:42<2:24:37, 30.24s/it]"
     ]
    },
    {
     "name": "stdout",
     "output_type": "stream",
     "text": [
      "Downloading audio from https://www.youtube.com/watch?v=OTFFQkdhw6Q...\n"
     ]
    },
    {
     "name": "stderr",
     "output_type": "stream",
     "text": [
      " 21%|██        | 74/360 [19:48<1:49:37, 23.00s/it]"
     ]
    },
    {
     "name": "stdout",
     "output_type": "stream",
     "text": [
      "Downloading audio from https://www.youtube.com/watch?v=Qtb11P1FWnc...\n",
      "                                                      \r  "
     ]
    },
    {
     "name": "stderr",
     "output_type": "stream",
     "text": [
      " 21%|██        | 75/360 [21:47<4:05:09, 51.61s/it]"
     ]
    },
    {
     "name": "stdout",
     "output_type": "stream",
     "text": [
      "Downloading audio from https://www.youtube.com/watch?v=1G4isv_Fylg...\n"
     ]
    },
    {
     "name": "stderr",
     "output_type": "stream",
     "text": [
      "WARNING: [youtube] 1G4isv_Fylg: Some tv client https formats have been skipped as they are DRM protected. The current session may have an experiment that applies DRM to all videos on the tv client. See  https://github.com/yt-dlp/yt-dlp/issues/12563  for more details.\n"
     ]
    },
    {
     "name": "stdout",
     "output_type": "stream",
     "text": [
      "                                                      \r  "
     ]
    },
    {
     "name": "stderr",
     "output_type": "stream",
     "text": [
      " 21%|██        | 76/360 [22:08<3:21:38, 42.60s/it]"
     ]
    },
    {
     "name": "stdout",
     "output_type": "stream",
     "text": [
      "Downloading audio from https://www.youtube.com/watch?v=0k_1kvDh2UA...\n"
     ]
    },
    {
     "name": "stderr",
     "output_type": "stream",
     "text": [
      " 21%|██▏       | 77/360 [22:15<2:30:20, 31.88s/it]"
     ]
    },
    {
     "name": "stdout",
     "output_type": "stream",
     "text": [
      "Downloading audio from https://www.youtube.com/watch?v=RB-RcX5DS5A...\n",
      "                                                      \r  "
     ]
    },
    {
     "name": "stderr",
     "output_type": "stream",
     "text": [
      " 22%|██▏       | 78/360 [23:31<3:31:51, 45.08s/it]"
     ]
    },
    {
     "name": "stdout",
     "output_type": "stream",
     "text": [
      "Downloading audio from https://www.youtube.com/watch?v=IakDItZ7f7Q...\n"
     ]
    },
    {
     "name": "stderr",
     "output_type": "stream",
     "text": [
      " 22%|██▏       | 79/360 [23:34<2:32:35, 32.58s/it]"
     ]
    },
    {
     "name": "stdout",
     "output_type": "stream",
     "text": [
      "Downloading audio from https://www.youtube.com/watch?v=dvgZkm1xWPE...\n",
      "                                                      \r    "
     ]
    },
    {
     "name": "stderr",
     "output_type": "stream",
     "text": [
      " 22%|██▏       | 80/360 [23:46<2:02:32, 26.26s/it]"
     ]
    },
    {
     "name": "stdout",
     "output_type": "stream",
     "text": [
      "Downloading audio from https://www.youtube.com/watch?v=yKNxeF4KMsY...\n",
      "                                                      \r  "
     ]
    },
    {
     "name": "stderr",
     "output_type": "stream",
     "text": [
      " 22%|██▎       | 81/360 [24:38<2:38:01, 33.98s/it]"
     ]
    },
    {
     "name": "stdout",
     "output_type": "stream",
     "text": [
      "Downloading audio from https://www.youtube.com/watch?v=CCF1_jI8Prk...\n",
      "                                                      \r  "
     ]
    },
    {
     "name": "stderr",
     "output_type": "stream",
     "text": [
      " 23%|██▎       | 82/360 [24:55<2:14:16, 28.98s/it]"
     ]
    },
    {
     "name": "stdout",
     "output_type": "stream",
     "text": [
      "Downloading audio from https://www.youtube.com/watch?v=K0HSD_i2DvA...\n"
     ]
    },
    {
     "name": "stderr",
     "output_type": "stream",
     "text": [
      "WARNING: [youtube] K0HSD_i2DvA: Some tv client https formats have been skipped as they are DRM protected. The current session may have an experiment that applies DRM to all videos on the tv client. See  https://github.com/yt-dlp/yt-dlp/issues/12563  for more details.\n"
     ]
    },
    {
     "name": "stdout",
     "output_type": "stream",
     "text": [
      "                                                      \r                  "
     ]
    },
    {
     "name": "stderr",
     "output_type": "stream",
     "text": [
      " 23%|██▎       | 83/360 [25:06<1:48:08, 23.42s/it]"
     ]
    },
    {
     "name": "stdout",
     "output_type": "stream",
     "text": [
      "Error indexing Around the World (ID 232): [Errno 2] No such file or directory: '../../songs/Daft Punk - Around The World (Official Music Video Remastered).m4a'\n",
      "Downloading audio from https://www.youtube.com/watch?v=ARfJ55bUAw0...\n"
     ]
    },
    {
     "name": "stderr",
     "output_type": "stream",
     "text": [
      "WARNING: [youtube] ARfJ55bUAw0: Some tv client https formats have been skipped as they are DRM protected. The current session may have an experiment that applies DRM to all videos on the tv client. See  https://github.com/yt-dlp/yt-dlp/issues/12563  for more details.\n"
     ]
    },
    {
     "name": "stdout",
     "output_type": "stream",
     "text": [
      "                                                      \r                  "
     ]
    },
    {
     "name": "stderr",
     "output_type": "stream",
     "text": [
      " 23%|██▎       | 84/360 [25:16<1:29:04, 19.37s/it]"
     ]
    },
    {
     "name": "stdout",
     "output_type": "stream",
     "text": [
      "Error indexing Around the World - Radio Edit [Radio Edit] (ID 233): [Errno 2] No such file or directory: '../../songs/Around the World (Radio Edit).m4a'\n",
      "Downloading audio from https://www.youtube.com/watch?v=tqzDYO4N5rg...\n",
      "                                                      \r  "
     ]
    },
    {
     "name": "stderr",
     "output_type": "stream",
     "text": [
      " 24%|██▎       | 85/360 [26:32<2:47:32, 36.55s/it]"
     ]
    },
    {
     "name": "stdout",
     "output_type": "stream",
     "text": [
      "Downloading audio from https://www.youtube.com/watch?v=FGBhQbmPwH8...\n",
      "                                                      \r  "
     ]
    },
    {
     "name": "stderr",
     "output_type": "stream",
     "text": [
      " 24%|██▍       | 86/360 [26:43<2:11:09, 28.72s/it]"
     ]
    },
    {
     "name": "stdout",
     "output_type": "stream",
     "text": [
      "Downloading audio from https://www.youtube.com/watch?v=WYhv-hR6Q2U...\n",
      "                                                      \r  "
     ]
    },
    {
     "name": "stderr",
     "output_type": "stream",
     "text": [
      " 24%|██▍       | 87/360 [27:17<2:18:31, 30.44s/it]"
     ]
    },
    {
     "name": "stdout",
     "output_type": "stream",
     "text": [
      "Downloading audio from https://www.youtube.com/watch?v=iCJLOXqnT2I...\n",
      "                                                      \r  "
     ]
    },
    {
     "name": "stderr",
     "output_type": "stream",
     "text": [
      " 24%|██▍       | 88/360 [29:32<4:40:32, 61.89s/it]"
     ]
    },
    {
     "name": "stdout",
     "output_type": "stream",
     "text": [
      "Downloading audio from https://www.youtube.com/watch?v=wBDD37Xv6A0...\n"
     ]
    },
    {
     "name": "stderr",
     "output_type": "stream",
     "text": [
      " 25%|██▍       | 89/360 [29:33<3:17:01, 43.62s/it]"
     ]
    },
    {
     "name": "stdout",
     "output_type": "stream",
     "text": [
      "Downloading audio from https://www.youtube.com/watch?v=m0ODoeBc04g...\n",
      "                                                      \r  "
     ]
    },
    {
     "name": "stderr",
     "output_type": "stream",
     "text": [
      " 25%|██▌       | 90/360 [30:53<4:05:17, 54.51s/it]"
     ]
    },
    {
     "name": "stdout",
     "output_type": "stream",
     "text": [
      "Downloading audio from https://www.youtube.com/watch?v=44FId4BpMx0...\n",
      "                                                      \r  "
     ]
    },
    {
     "name": "stderr",
     "output_type": "stream",
     "text": [
      " 25%|██▌       | 91/360 [32:14<4:39:56, 62.44s/it]"
     ]
    },
    {
     "name": "stdout",
     "output_type": "stream",
     "text": [
      "Downloading audio from https://www.youtube.com/watch?v=Ye9WohDqHEc...\n",
      "                                                      \r  "
     ]
    },
    {
     "name": "stderr",
     "output_type": "stream",
     "text": [
      " 26%|██▌       | 92/360 [32:39<3:48:55, 51.25s/it]"
     ]
    },
    {
     "name": "stdout",
     "output_type": "stream",
     "text": [
      "Downloading audio from https://www.youtube.com/watch?v=cHzVjGBxOJs...\n",
      "                                                      \r  "
     ]
    },
    {
     "name": "stderr",
     "output_type": "stream",
     "text": [
      " 26%|██▌       | 93/360 [33:36<3:55:22, 52.89s/it]"
     ]
    },
    {
     "name": "stdout",
     "output_type": "stream",
     "text": [
      "Downloading audio from https://www.youtube.com/watch?v=DJxCsVcZL2I...\n",
      "                                                      \r  "
     ]
    },
    {
     "name": "stderr",
     "output_type": "stream",
     "text": [
      " 26%|██▌       | 94/360 [34:08<3:26:21, 46.55s/it]"
     ]
    },
    {
     "name": "stdout",
     "output_type": "stream",
     "text": [
      "Downloading audio from https://www.youtube.com/watch?v=RmQ2OJgzkMg...\n"
     ]
    },
    {
     "name": "stderr",
     "output_type": "stream",
     "text": [
      " 26%|██▋       | 95/360 [34:11<2:28:05, 33.53s/it]"
     ]
    },
    {
     "name": "stdout",
     "output_type": "stream",
     "text": [
      "Downloading audio from https://www.youtube.com/watch?v=tRNpjt29n6Y...\n"
     ]
    },
    {
     "name": "stderr",
     "output_type": "stream",
     "text": [
      " 27%|██▋       | 96/360 [34:12<1:44:27, 23.74s/it]"
     ]
    },
    {
     "name": "stdout",
     "output_type": "stream",
     "text": [
      "Downloading audio from https://www.youtube.com/watch?v=iYYRH4apXDo...\n",
      "[download]  10.2% of    4.89MiB at  983.76KiB/s ETA 00:04"
     ]
    },
    {
     "name": "stderr",
     "output_type": "stream",
     "text": [
      " 27%|██▋       | 96/360 [34:21<1:34:28, 21.47s/it]"
     ]
    },
    {
     "name": "stdout",
     "output_type": "stream",
     "text": [
      "[download]  20.4% of    4.89MiB at    1.21MiB/s ETA 00:03"
     ]
    },
    {
     "name": "stderr",
     "output_type": "stream",
     "text": [
      "\n"
     ]
    },
    {
     "name": "stdout",
     "output_type": "stream",
     "text": [
      "                                                      \r  Downloading audio from https://www.youtube.com/watch?v=qqjVwAg5fK4...\n"
     ]
    }
   ],
   "execution_count": null
  },
  {
   "metadata": {
    "ExecuteTime": {
     "end_time": "2025-06-03T21:10:09.610667Z",
     "start_time": "2025-06-03T19:37:37.391184Z"
    }
   },
   "cell_type": "code",
   "source": [
    "from src.abracadabra.recognize import index_all_songs\n",
    "index_all_songs(db_type=\"gcp\", skip_duplicates=True)"
   ],
   "id": "bf1011357e95b599",
   "outputs": [
    {
     "name": "stdout",
     "output_type": "stream",
     "text": [
      "Skipping In Da Club (ID 1) — already indexed.\n",
      "Skipping In Da Club - Single Version / Edit (ID 2) — already indexed.\n",
      "Skipping Just A Lil Bit (ID 3) — already indexed.\n",
      "Skipping P.I.M.P. (ID 4) — already indexed.\n",
      "Skipping Window Shopper (ID 5) — already indexed.\n",
      "Skipping Back In Black (ID 6) — already indexed.\n",
      "Skipping Dirty Deeds Done Dirt Cheap (ID 7) — already indexed.\n",
      "Skipping Heatseeker (ID 8) — already indexed.\n",
      "Skipping High Voltage (ID 9) — already indexed.\n",
      "Skipping Highway to Hell (ID 10) — already indexed.\n",
      "Skipping It's a Long Way to the Top (If You Wanna Rock 'N' Roll) (ID 11) — already indexed.\n",
      "Skipping Jailbreak (ID 12) — already indexed.\n",
      "Skipping Rock and Roll Ain't Noise Pollution (ID 13) — already indexed.\n",
      "Skipping Shoot to Thrill (ID 14) — already indexed.\n",
      "Skipping T.N.T. (ID 15) — already indexed.\n",
      "Skipping Thunderstruck (ID 16) — already indexed.\n",
      "Skipping Who Made Who (ID 17) — already indexed.\n",
      "Skipping You Shook Me All Night Long (ID 18) — already indexed.\n",
      "Skipping Chasing Pavements (ID 19) — already indexed.\n",
      "Skipping Don't You Remember (ID 20) — already indexed.\n",
      "Skipping Easy On Me (ID 21) — already indexed.\n",
      "Skipping He Won't Go (ID 22) — already indexed.\n",
      "Skipping Hello (ID 23) — already indexed.\n",
      "Skipping Love In The Dark (ID 24) — already indexed.\n",
      "Skipping Make You Feel My Love (ID 25) — already indexed.\n",
      "Skipping Million Years Ago (ID 26) — already indexed.\n",
      "Skipping One and Only (ID 27) — already indexed.\n",
      "Skipping Remedy (ID 28) — already indexed.\n",
      "Skipping Rolling in the Deep (ID 29) — already indexed.\n",
      "Skipping Rumour Has It (ID 30) — already indexed.\n",
      "Skipping Send My Love (To Your New Lover) (ID 31) — already indexed.\n",
      "Skipping Set Fire to the Rain (ID 32) — already indexed.\n",
      "Skipping Skyfall (ID 33) — already indexed.\n",
      "Skipping Someone Like You (ID 34) — already indexed.\n",
      "Skipping Sweetest Devotion (ID 35) — already indexed.\n",
      "Skipping Take It All (ID 36) — already indexed.\n",
      "Skipping Turning Tables (ID 37) — already indexed.\n",
      "Skipping Water Under The Bridge (ID 38) — already indexed.\n",
      "Skipping When We Were Young (ID 39) — already indexed.\n",
      "Skipping Alone (ID 40) — already indexed.\n",
      "Skipping Faded (ID 41) — already indexed.\n",
      "Skipping Brand New Me (ID 42) — already indexed.\n",
      "Skipping Doesn't Mean Anything (ID 43) — already indexed.\n",
      "Skipping Empire State of Mind (Part II) Broken Down (ID 44) — already indexed.\n",
      "Skipping Fallin' (ID 45) — already indexed.\n",
      "Skipping Girl On Fire (ID 46) — already indexed.\n",
      "Skipping Hallelujah (ID 47) — already indexed.\n",
      "Skipping Holy War (ID 48) — already indexed.\n",
      "Skipping If I Ain't Got You (ID 49) — already indexed.\n",
      "Skipping More Than We Know (ID 50) — already indexed.\n",
      "Skipping No One (ID 51) — already indexed.\n",
      "Skipping One Thing (ID 52) — already indexed.\n",
      "Skipping Superwoman (ID 53) — already indexed.\n",
      "Skipping Tears Always Win (ID 54) — already indexed.\n",
      "Skipping Work On It (ID 55) — already indexed.\n",
      "Skipping No More \"I Love You's\" (ID 56) — already indexed.\n",
      "Skipping Arabella (ID 57) — already indexed.\n",
      "Skipping Do I Wanna Know? (ID 58) — already indexed.\n",
      "Skipping I Bet You Look Good On The Dancefloor (ID 59) — already indexed.\n",
      "Skipping Why'd You Only Call Me When You're High? (ID 60) — already indexed.\n",
      "Skipping Addicted To You (ID 61) — already indexed.\n",
      "Skipping Broken Arrows (ID 62) — already indexed.\n",
      "Skipping Fade Into Darkness - Vocal Radio Mix (ID 63) — already indexed.\n",
      "Skipping For A Better Day (ID 64) — already indexed.\n",
      "Skipping Heaven (ID 65) — already indexed.\n",
      "Skipping Hey Brother (ID 66) — already indexed.\n",
      "Skipping Levels - Radio Edit (ID 67) — already indexed.\n",
      "Skipping Silhouettes - Original Radio Edit (ID 68) — already indexed.\n",
      "Skipping The Nights (ID 69) — already indexed.\n",
      "Skipping Waiting For Love (ID 70) — already indexed.\n",
      "Skipping Wake Me Up (ID 71) — already indexed.\n",
      "Skipping Wake Me Up - Radio Edit (ID 72) — already indexed.\n",
      "Skipping You Make Me (ID 73) — already indexed.\n",
      "Skipping Butter (ID 74) — already indexed.\n",
      "Skipping Dynamite (ID 75) — already indexed.\n",
      "Skipping BREAK MY SOUL (ID 76) — already indexed.\n",
      "Skipping Best Thing I Never Had (ID 77) — already indexed.\n",
      "Skipping Broken-Hearted Girl (ID 78) — already indexed.\n",
      "Skipping Halo (ID 79) — already indexed.\n",
      "Skipping Hold Up (ID 80) — already indexed.\n",
      "Skipping If I Were a Boy (ID 81) — already indexed.\n",
      "Skipping Irreplaceable (ID 82) — already indexed.\n",
      "Skipping Love On Top (ID 83) — already indexed.\n",
      "Skipping Naughty Girl (ID 84) — already indexed.\n",
      "Skipping Run the World (Girls) (ID 85) — already indexed.\n",
      "Skipping Single Ladies (Put a Ring on It) (ID 86) — already indexed.\n",
      "Skipping Sweet Dreams (ID 87) — already indexed.\n",
      "Skipping XO (ID 88) — already indexed.\n",
      "Skipping Lost Cause (ID 89) — already indexed.\n",
      "Skipping NDA (ID 90) — already indexed.\n",
      "Skipping Therefore I Am (ID 91) — already indexed.\n",
      "Skipping Your Power (ID 92) — already indexed.\n",
      "Skipping all the good girls go to hell (ID 93) — already indexed.\n",
      "Skipping bad guy (ID 94) — already indexed.\n",
      "Skipping bury a friend (ID 95) — already indexed.\n",
      "Skipping everything i wanted (ID 96) — already indexed.\n",
      "Skipping when the party's over (ID 97) — already indexed.\n",
      "Skipping wish you were gay (ID 98) — already indexed.\n",
      "Skipping BIG LOVE (ID 99) — already indexed.\n",
      "Skipping Boom Boom Pow (ID 100) — already indexed.\n",
      "Skipping Don't Lie (ID 101) — already indexed.\n",
      "Skipping Don't Phunk With My Heart (ID 102) — already indexed.\n",
      "Skipping Don’t Stop The Party (ID 103) — already indexed.\n",
      "Skipping Hey Mama (ID 104) — already indexed.\n",
      "Skipping I Gotta Feeling (ID 105) — already indexed.\n",
      "Skipping Imma Be (ID 106) — already indexed.\n",
      "Skipping Just Can’t Get Enough (ID 107) — already indexed.\n",
      "Skipping In My Feelings (ID 258) — already indexed.\n",
      "Skipping Let's Get It Started (ID 108) — already indexed.\n",
      "Skipping Let's Get It Started - Spike Mix (ID 109) — already indexed.\n",
      "Skipping Meet Me Halfway (ID 110) — already indexed.\n",
      "Skipping My Humps (ID 111) — already indexed.\n",
      "Skipping Pump It (ID 112) — already indexed.\n",
      "Skipping Rock That Body (ID 113) — already indexed.\n",
      "Skipping Shut Up (ID 114) — already indexed.\n",
      "Skipping The Time (Dirty Bit) (ID 115) — already indexed.\n",
      "Skipping Where Is The Love? (ID 116) — already indexed.\n",
      "Skipping Blowin' in the Wind (ID 117) — already indexed.\n",
      "Skipping Forever Young - Fast Version (ID 118) — already indexed.\n",
      "Skipping Hurricane (ID 119) — already indexed.\n",
      "Skipping Knockin' On Heaven's Door (ID 120) — already indexed.\n",
      "Skipping Like a Rolling Stone (ID 121) — already indexed.\n",
      "Skipping Mr. Tambourine Man (ID 122) — already indexed.\n",
      "Skipping The Times They Are A-Changin' (ID 123) — already indexed.\n",
      "Skipping Always (ID 124) — already indexed.\n",
      "Skipping Bad Medicine (ID 125) — already indexed.\n",
      "Skipping Bed Of Roses (ID 126) — already indexed.\n",
      "Skipping Have A Nice Day (ID 127) — already indexed.\n",
      "Skipping I'll Be There For You (ID 128) — already indexed.\n",
      "Skipping In These Arms (ID 129) — already indexed.\n",
      "Skipping It's My Life (ID 130) — already indexed.\n",
      "Skipping Keep The Faith (ID 131) — already indexed.\n",
      "Skipping Livin' On A Prayer (ID 132) — already indexed.\n",
      "Skipping Say It Isn't So (ID 133) — already indexed.\n",
      "Skipping Shot Through The Heart (ID 134) — already indexed.\n",
      "Skipping This Ain't A Love Song (ID 135) — already indexed.\n",
      "Downloading audio from https://www.youtube.com/watch?v=SRvCvsRp5ho...\n",
      "Skipping You Give Love A Bad Name (ID 137) — already indexed.\n",
      "Skipping (You Drive Me) Crazy (ID 138) — already indexed.\n",
      "Skipping ...Baby One More Time (ID 139) — already indexed.\n",
      "Skipping 3 (ID 140) — already indexed.\n",
      "Skipping Circus (ID 141) — already indexed.\n",
      "Skipping Circus - Remastered (ID 142) — already indexed.\n",
      "Skipping Do Somethin' (ID 143) — already indexed.\n",
      "Skipping Everytime (ID 144) — already indexed.\n",
      "Skipping From the Bottom of My Broken Heart (ID 145) — already indexed.\n",
      "Downloading audio from https://www.youtube.com/watch?v=elueA2rofoo...\n",
      "Skipping Hold It Against Me (ID 147) — already indexed.\n",
      "Skipping I Love Rock 'N' Roll (ID 148) — already indexed.\n",
      "Skipping I'm Not a Girl, Not Yet a Woman (ID 149) — already indexed.\n",
      "Skipping I'm a Slave 4 U (ID 150) — already indexed.\n",
      "Skipping If U Seek Amy (ID 151) — already indexed.\n",
      "Skipping Lucky (ID 152) — already indexed.\n",
      "Skipping My Prerogative - Remastered (ID 153) — already indexed.\n",
      "Skipping Oops!...I Did It Again (ID 154) — already indexed.\n",
      "Skipping Piece of Me (ID 155) — already indexed.\n",
      "Skipping Sometimes (ID 156) — already indexed.\n",
      "Skipping Stronger (ID 157) — already indexed.\n",
      "Skipping Till the World Ends (ID 158) — already indexed.\n",
      "Skipping Toxic (ID 159) — already indexed.\n",
      "Skipping Womanizer (ID 160) — already indexed.\n",
      "Skipping 24K Magic (ID 161) — already indexed.\n",
      "Skipping Chunky (ID 162) — already indexed.\n",
      "Skipping Count on Me (ID 163) — already indexed.\n",
      "Skipping Grenade (ID 164) — already indexed.\n",
      "Skipping Grenade - Acoustic (ID 165) — already indexed.\n",
      "Skipping If I Knew (ID 166) — already indexed.\n",
      "Skipping It Will Rain (ID 167) — already indexed.\n",
      "Downloading audio from https://www.youtube.com/watch?v=LjhCEhWiKXk...\n",
      "Skipping Locked out of Heaven (ID 169) — already indexed.\n",
      "Skipping Marry You (ID 170) — already indexed.\n",
      "Skipping Talking to the Moon (ID 171) — already indexed.\n",
      "Skipping That's What I Like (ID 172) — already indexed.\n",
      "Skipping The Lazy Song (ID 173) — already indexed.\n",
      "Skipping Treasure (ID 174) — already indexed.\n",
      "Skipping Versace on the Floor (ID 175) — already indexed.\n",
      "Skipping When I Was Your Man (ID 176) — already indexed.\n",
      "Skipping (Everything I Do) I Do It For You (ID 177) — already indexed.\n",
      "Downloading audio from https://www.youtube.com/watch?v=lP4Nnek6DCo...\n",
      "Skipping Have You Ever Really Loved A Woman? (ID 179) — already indexed.\n",
      "Downloading audio from https://www.youtube.com/watch?v=s6TtwR2Dbjg...\n",
      "Skipping Let's Make A Night To Remember (ID 181) — already indexed.\n",
      "Skipping Please Forgive Me (ID 182) — already indexed.\n",
      "Skipping Run To You (ID 183) — already indexed.\n",
      "Skipping Summer Of '69 (ID 184) — already indexed.\n",
      "Skipping The Only Thing That Looks Good On Me Is You (ID 185) — already indexed.\n",
      "Downloading audio from https://www.youtube.com/watch?v=CTfIr_euGTs...\n",
      "Skipping Acceptable in the 80's (ID 187) — already indexed.\n",
      "Skipping Feel So Close - Radio Edit (ID 188) — already indexed.\n",
      "Skipping Flashback (ID 189) — already indexed.\n",
      "Skipping I'm Not Alone - Radio Edit (ID 190) — already indexed.\n",
      "Downloading audio from https://www.youtube.com/watch?v=b4Bj7Zb-YD4...\n",
      "Skipping Ready for the Weekend (ID 192) — already indexed.\n",
      "Skipping Summer (ID 193) — already indexed.\n",
      "Skipping The Girls - Radio Edit (ID 194) — already indexed.\n",
      "Skipping You Used to Hold Me (ID 195) — already indexed.\n",
      "Skipping Don't Go Yet (ID 196) — already indexed.\n",
      "Skipping Never Be the Same (ID 197) — already indexed.\n",
      "Skipping Shameless (ID 198) — already indexed.\n",
      "Skipping Up (ID 199) — already indexed.\n",
      "Skipping Ain't No Other Man (ID 200) — already indexed.\n",
      "Downloading audio from https://www.youtube.com/watch?v=eAfyFTzZDMM...\n",
      "Downloading audio from https://www.youtube.com/watch?v=-ScjucUV8v0...\n",
      "Skipping Come on over Baby (All I Want Is You) - Radio Version (ID 203) — already indexed.\n",
      "Skipping Fighter (ID 204) — already indexed.\n",
      "Downloading audio from https://www.youtube.com/watch?v=kIDWgqDBNXA...\n",
      "Downloading audio from https://www.youtube.com/watch?v=kIDWgqDBNXA...\n",
      "Skipping Hurt (ID 207) — already indexed.\n",
      "Skipping Impossible (ID 208) — already indexed.\n",
      "Skipping Keeps Gettin' Better (ID 209) — already indexed.\n",
      "Downloading audio from https://www.youtube.com/watch?v=hpspGHeLOPE...\n",
      "Skipping A Sky Full of Stars (ID 211) — already indexed.\n",
      "Downloading audio from https://www.youtube.com/watch?v=QtXby3twMmI...\n",
      "Skipping Charlie Brown (ID 213) — already indexed.\n",
      "Skipping Clocks (ID 214) — already indexed.\n",
      "Downloading audio from https://www.youtube.com/watch?v=fyMhvkC3A84...\n",
      "Skipping Fix You (ID 216) — already indexed.\n",
      "Skipping God Put a Smile upon Your Face (ID 217) — already indexed.\n",
      "Skipping Higher Power (ID 218) — already indexed.\n",
      "Skipping Hymn for the Weekend (ID 219) — already indexed.\n",
      "Skipping In My Place (ID 220) — already indexed.\n",
      "Skipping Life in Technicolor ii (ID 221) — already indexed.\n",
      "Skipping Lost! (ID 222) — already indexed.\n",
      "Skipping Lovers in Japan (ID 223) — already indexed.\n",
      "Skipping Magic (ID 224) — already indexed.\n",
      "Skipping Paradise (ID 225) — already indexed.\n",
      "Skipping Speed of Sound (ID 226) — already indexed.\n",
      "Skipping The Scientist (ID 227) — already indexed.\n",
      "Skipping Violet Hill (ID 228) — already indexed.\n",
      "Skipping Viva La Vida (ID 229) — already indexed.\n",
      "Skipping Yellow (ID 230) — already indexed.\n",
      "Skipping Gasolina (ID 231) — already indexed.\n",
      "Downloading audio from https://www.youtube.com/watch?v=K0HSD_i2DvA...\n",
      "Downloading audio from https://www.youtube.com/watch?v=ARfJ55bUAw0...\n",
      "Skipping Da Funk - Radio Edit (ID 234) — already indexed.\n",
      "Skipping One More Time (ID 235) — already indexed.\n",
      "Skipping One More Time - Radio Edit [Short Radio Edit] (ID 236) — already indexed.\n",
      "Skipping Absolute Beginners - 2002 Remaster (ID 237) — already indexed.\n",
      "Skipping Ashes to Ashes - 2017 Remaster (ID 238) — already indexed.\n",
      "Skipping Cat People (Putting Out Fire) - 2018 Remaster (ID 239) — already indexed.\n",
      "Skipping Heroes - 2017 Remaster (ID 240) — already indexed.\n",
      "Skipping Let's Dance - Single Version, 2014 Remaster (ID 241) — already indexed.\n",
      "Skipping Modern Love - 1999 Remaster (ID 242) — already indexed.\n",
      "Skipping Rebel Rebel - 2016 Remaster (ID 243) — already indexed.\n",
      "Skipping Sorrow - 2015 Remaster (ID 244) — already indexed.\n",
      "Skipping Space Oddity - 2009 Remastered Version (ID 245) — already indexed.\n",
      "Skipping Space Oddity - 2015 Remaster (ID 246) — already indexed.\n",
      "Downloading audio from https://www.youtube.com/watch?v=qqjVwAg5fK4...\n",
      "Downloading audio from https://www.youtube.com/watch?v=ZL4VBzz5kH4...\n",
      "Downloading audio from https://www.youtube.com/watch?v=MoHnffhBwqs...\n",
      "Downloading audio from https://www.youtube.com/watch?v=Yt_myLDSdsY...\n"
     ]
    },
    {
     "name": "stderr",
     "output_type": "stream",
     "text": [
      "  0%|          | 0/491 [00:00<?, ?it/s]"
     ]
    },
    {
     "name": "stdout",
     "output_type": "stream",
     "text": [
      "                                                        \r              "
     ]
    },
    {
     "name": "stderr",
     "output_type": "stream",
     "text": [
      " 47%|████▋     | 232/491 [00:51<00:57,  4.49it/s]"
     ]
    },
    {
     "name": "stdout",
     "output_type": "stream",
     "text": [
      "Error: The downloaded file for track 205 is missing or empty.\n",
      "Error indexing Genie In a Bottle (ID 205): cannot unpack non-iterable NoneType object\n",
      "Downloading audio from https://www.youtube.com/watch?v=p4kVWCSzfK4...\n",
      "                                                      \r  "
     ]
    },
    {
     "name": "stderr",
     "output_type": "stream",
     "text": [
      " 47%|████▋     | 233/491 [05:52<08:51,  2.06s/it]"
     ]
    },
    {
     "name": "stdout",
     "output_type": "stream",
     "text": [
      "Downloading audio from https://www.youtube.com/watch?v=RsW66teC0BQ...\n",
      "                                                      \r    "
     ]
    },
    {
     "name": "stderr",
     "output_type": "stream",
     "text": [
      " 48%|████▊     | 234/491 [06:02<09:07,  2.13s/it]"
     ]
    },
    {
     "name": "stdout",
     "output_type": "stream",
     "text": [
      "Downloading audio from https://www.youtube.com/watch?v=pok8H_KF1FA...\n",
      "                                                      \r  "
     ]
    },
    {
     "name": "stderr",
     "output_type": "stream",
     "text": [
      " 48%|████▊     | 235/491 [06:56<11:48,  2.77s/it]"
     ]
    },
    {
     "name": "stdout",
     "output_type": "stream",
     "text": [
      "Downloading audio from https://www.youtube.com/watch?v=jJdlgKzVsnI...\n",
      "                                                      \r  "
     ]
    },
    {
     "name": "stderr",
     "output_type": "stream",
     "text": [
      " 48%|████▊     | 236/491 [07:21<13:21,  3.14s/it]"
     ]
    },
    {
     "name": "stdout",
     "output_type": "stream",
     "text": [
      "Downloading audio from https://www.youtube.com/watch?v=PsW85VbSau0...\n",
      "                                                      \r  "
     ]
    },
    {
     "name": "stderr",
     "output_type": "stream",
     "text": [
      " 48%|████▊     | 237/491 [08:30<20:01,  4.73s/it]"
     ]
    },
    {
     "name": "stdout",
     "output_type": "stream",
     "text": [
      "Downloading audio from https://www.youtube.com/watch?v=xpVfcZ0ZcFM...\n"
     ]
    },
    {
     "name": "stderr",
     "output_type": "stream",
     "text": [
      " 48%|████▊     | 238/491 [08:33<19:44,  4.68s/it]"
     ]
    },
    {
     "name": "stdout",
     "output_type": "stream",
     "text": [
      "Downloading audio from https://www.youtube.com/watch?v=uxpDa-c-4Mc...\n",
      "                                                        \r                "
     ]
    },
    {
     "name": "stderr",
     "output_type": "stream",
     "text": [
      " 49%|████▊     | 239/491 [08:41<20:12,  4.81s/it]"
     ]
    },
    {
     "name": "stdout",
     "output_type": "stream",
     "text": [
      "Error: The downloaded file for track 256 is missing or empty.\n",
      "Error indexing God's Plan (ID 256): cannot unpack non-iterable NoneType object\n",
      "Downloading audio from https://www.youtube.com/watch?v=xWggTb45brM...\n",
      "                                                      \r  "
     ]
    },
    {
     "name": "stderr",
     "output_type": "stream",
     "text": [
      " 49%|████▉     | 240/491 [10:06<40:27,  9.67s/it]"
     ]
    },
    {
     "name": "stdout",
     "output_type": "stream",
     "text": [
      "Downloading audio from https://www.youtube.com/watch?v=-rey3m8SWQI...\n",
      "                                                      \r  "
     ]
    },
    {
     "name": "stderr",
     "output_type": "stream",
     "text": [
      " 49%|████▉     | 241/491 [10:40<48:21, 11.60s/it]"
     ]
    },
    {
     "name": "stdout",
     "output_type": "stream",
     "text": [
      "Downloading audio from https://www.youtube.com/watch?v=1nydxbGhgv8...\n",
      "                                                      \r  "
     ]
    },
    {
     "name": "stderr",
     "output_type": "stream",
     "text": [
      " 49%|████▉     | 242/491 [11:34<1:06:03, 15.92s/it]"
     ]
    },
    {
     "name": "stdout",
     "output_type": "stream",
     "text": [
      "Downloading audio from https://www.youtube.com/watch?v=Nj2U6rhnucI...\n",
      "                                                      \r  "
     ]
    },
    {
     "name": "stderr",
     "output_type": "stream",
     "text": [
      " 49%|████▉     | 243/491 [11:52<1:07:04, 16.23s/it]"
     ]
    },
    {
     "name": "stdout",
     "output_type": "stream",
     "text": [
      "Downloading audio from https://www.youtube.com/watch?v=OiC1rgCPmUQ...\n"
     ]
    },
    {
     "name": "stderr",
     "output_type": "stream",
     "text": [
      " 50%|████▉     | 244/491 [11:54<57:40, 14.01s/it]  "
     ]
    },
    {
     "name": "stdout",
     "output_type": "stream",
     "text": [
      "Downloading audio from https://www.youtube.com/watch?v=oygrmJFKYZY...\n",
      "                                                      \r  "
     ]
    },
    {
     "name": "stderr",
     "output_type": "stream",
     "text": [
      " 50%|████▉     | 245/491 [13:19<1:49:35, 26.73s/it]"
     ]
    },
    {
     "name": "stdout",
     "output_type": "stream",
     "text": [
      "Downloading audio from https://www.youtube.com/watch?v=qcZ7e9EOQTY...\n"
     ]
    },
    {
     "name": "stderr",
     "output_type": "stream",
     "text": [
      " 50%|█████     | 246/491 [13:20<1:27:38, 21.46s/it]"
     ]
    },
    {
     "name": "stdout",
     "output_type": "stream",
     "text": [
      "Downloading audio from https://www.youtube.com/watch?v=fEOyePhElr4...\n",
      "                                                      \r  "
     ]
    },
    {
     "name": "stderr",
     "output_type": "stream",
     "text": [
      " 50%|█████     | 247/491 [13:58<1:42:41, 25.25s/it]"
     ]
    },
    {
     "name": "stdout",
     "output_type": "stream",
     "text": [
      "Downloading audio from https://www.youtube.com/watch?v=Mgfe5tIwOj0...\n"
     ]
    },
    {
     "name": "stderr",
     "output_type": "stream",
     "text": [
      " 51%|█████     | 248/491 [14:01<1:20:33, 19.89s/it]"
     ]
    },
    {
     "name": "stdout",
     "output_type": "stream",
     "text": [
      "Downloading audio from https://www.youtube.com/watch?v=TUVcZfQe-Kw...\n",
      "                                                      \r  "
     ]
    },
    {
     "name": "stderr",
     "output_type": "stream",
     "text": [
      " 51%|█████     | 249/491 [14:30<1:30:11, 22.36s/it]"
     ]
    },
    {
     "name": "stdout",
     "output_type": "stream",
     "text": [
      "Downloading audio from https://www.youtube.com/watch?v=BC19kwABFwc...\n",
      "[download]  49.4% of    4.05MiB at    4.00MiB/s ETA 00:00"
     ]
    },
    {
     "name": "stderr",
     "output_type": "stream",
     "text": [
      " 51%|█████     | 250/491 [14:35<1:10:06, 17.45s/it]"
     ]
    },
    {
     "name": "stdout",
     "output_type": "stream",
     "text": [
      "Downloading audio from https://www.youtube.com/watch?v=k2qgadSvNyU...\n",
      "                                                      \r  "
     ]
    },
    {
     "name": "stderr",
     "output_type": "stream",
     "text": [
      " 51%|█████     | 251/491 [16:50<3:21:06, 50.28s/it]"
     ]
    },
    {
     "name": "stdout",
     "output_type": "stream",
     "text": [
      "Downloading audio from https://www.youtube.com/watch?v=9HDEHj2yzew...\n",
      "                                                      \r  "
     ]
    },
    {
     "name": "stderr",
     "output_type": "stream",
     "text": [
      " 51%|█████▏    | 252/491 [17:01<2:35:57, 39.15s/it]"
     ]
    },
    {
     "name": "stdout",
     "output_type": "stream",
     "text": [
      "Downloading audio from https://www.youtube.com/watch?v=kO8fTk6oKQg...\n",
      "                                                      \r  "
     ]
    },
    {
     "name": "stderr",
     "output_type": "stream",
     "text": [
      " 52%|█████▏    | 253/491 [17:43<2:38:28, 39.95s/it]"
     ]
    },
    {
     "name": "stdout",
     "output_type": "stream",
     "text": [
      "Downloading audio from https://www.youtube.com/watch?v=jr47YisIsz8...\n",
      "                                                      \r  "
     ]
    },
    {
     "name": "stderr",
     "output_type": "stream",
     "text": [
      " 52%|█████▏    | 254/491 [18:22<2:36:55, 39.73s/it]"
     ]
    },
    {
     "name": "stdout",
     "output_type": "stream",
     "text": [
      "Downloading audio from https://www.youtube.com/watch?v=JznXx1Ns374...\n"
     ]
    },
    {
     "name": "stderr",
     "output_type": "stream",
     "text": [
      " 52%|█████▏    | 255/491 [18:24<1:51:40, 28.39s/it]"
     ]
    },
    {
     "name": "stdout",
     "output_type": "stream",
     "text": [
      "Downloading audio from https://www.youtube.com/watch?v=_NGQfFCFUn4...\n",
      "                                                      \r  "
     ]
    },
    {
     "name": "stderr",
     "output_type": "stream",
     "text": [
      " 52%|█████▏    | 256/491 [19:32<2:37:25, 40.19s/it]"
     ]
    },
    {
     "name": "stdout",
     "output_type": "stream",
     "text": [
      "Downloading audio from https://www.youtube.com/watch?v=nkqVm5aiC28...\n",
      "                                                      \r  "
     ]
    },
    {
     "name": "stderr",
     "output_type": "stream",
     "text": [
      " 52%|█████▏    | 257/491 [21:16<3:51:05, 59.25s/it]"
     ]
    },
    {
     "name": "stdout",
     "output_type": "stream",
     "text": [
      "Downloading audio from https://www.youtube.com/watch?v=orJSJGHjBLI...\n",
      "                                                      \r  "
     ]
    },
    {
     "name": "stderr",
     "output_type": "stream",
     "text": [
      " 53%|█████▎    | 258/491 [21:23<2:49:46, 43.72s/it]"
     ]
    },
    {
     "name": "stdout",
     "output_type": "stream",
     "text": [
      "Downloading audio from https://www.youtube.com/watch?v=XIJHg1XWR7o...\n",
      "                                                      \r  "
     ]
    },
    {
     "name": "stderr",
     "output_type": "stream",
     "text": [
      " 53%|█████▎    | 259/491 [21:39<2:16:20, 35.26s/it]"
     ]
    },
    {
     "name": "stdout",
     "output_type": "stream",
     "text": [
      "Downloading audio from https://www.youtube.com/watch?v=K0ibBPhiaG0...\n",
      "                                                      \r  "
     ]
    },
    {
     "name": "stderr",
     "output_type": "stream",
     "text": [
      " 53%|█████▎    | 260/491 [22:36<2:41:15, 41.89s/it]"
     ]
    },
    {
     "name": "stdout",
     "output_type": "stream",
     "text": [
      "Downloading audio from https://www.youtube.com/watch?v=23g5HBOg3Ic...\n",
      "                                                      \r  "
     ]
    },
    {
     "name": "stderr",
     "output_type": "stream",
     "text": [
      " 53%|█████▎    | 261/491 [22:51<2:09:39, 33.82s/it]"
     ]
    },
    {
     "name": "stdout",
     "output_type": "stream",
     "text": [
      "Downloading audio from https://www.youtube.com/watch?v=Wv2rLZmbPMA...\n",
      "                                                      \r  "
     ]
    },
    {
     "name": "stderr",
     "output_type": "stream",
     "text": [
      " 53%|█████▎    | 262/491 [23:19<2:02:25, 32.08s/it]"
     ]
    },
    {
     "name": "stdout",
     "output_type": "stream",
     "text": [
      "Downloading audio from https://www.youtube.com/watch?v=3TqGEbROFd4...\n",
      "                                                      \r  "
     ]
    },
    {
     "name": "stderr",
     "output_type": "stream",
     "text": [
      " 54%|█████▎    | 263/491 [27:26<6:06:46, 96.52s/it]"
     ]
    },
    {
     "name": "stdout",
     "output_type": "stream",
     "text": [
      "Downloading audio from https://www.youtube.com/watch?v=G2fOum_KWQU...\n",
      "                                                      \r  "
     ]
    },
    {
     "name": "stderr",
     "output_type": "stream",
     "text": [
      " 54%|█████▍    | 264/491 [27:46<4:38:34, 73.63s/it]"
     ]
    },
    {
     "name": "stdout",
     "output_type": "stream",
     "text": [
      "Downloading audio from https://www.youtube.com/watch?v=myZistq5lRM...\n"
     ]
    },
    {
     "name": "stderr",
     "output_type": "stream",
     "text": [
      " 54%|█████▍    | 265/491 [27:49<3:17:34, 52.46s/it]"
     ]
    },
    {
     "name": "stdout",
     "output_type": "stream",
     "text": [
      "Downloading audio from https://www.youtube.com/watch?v=JigjU373SKY...\n",
      "                                                      \r  "
     ]
    },
    {
     "name": "stderr",
     "output_type": "stream",
     "text": [
      " 54%|█████▍    | 266/491 [27:57<2:26:26, 39.05s/it]"
     ]
    },
    {
     "name": "stdout",
     "output_type": "stream",
     "text": [
      "Downloading audio from https://www.youtube.com/watch?v=87gWaABqGYs...\n",
      "                                                        \r"
     ]
    },
    {
     "name": "stderr",
     "output_type": "stream",
     "text": [
      " 54%|█████▍    | 267/491 [28:19<2:07:00, 34.02s/it]"
     ]
    },
    {
     "name": "stdout",
     "output_type": "stream",
     "text": [
      "Downloading audio from https://www.youtube.com/watch?v=iWZmdoY1aTE...\n",
      "                                                      \r  "
     ]
    },
    {
     "name": "stderr",
     "output_type": "stream",
     "text": [
      " 55%|█████▍    | 268/491 [28:27<1:36:52, 26.06s/it]"
     ]
    },
    {
     "name": "stdout",
     "output_type": "stream",
     "text": [
      "Downloading audio from https://www.youtube.com/watch?v=ZZMZiBCRX4c...\n",
      "                                                      \r  "
     ]
    },
    {
     "name": "stderr",
     "output_type": "stream",
     "text": [
      " 55%|█████▍    | 269/491 [28:36<1:17:48, 21.03s/it]"
     ]
    },
    {
     "name": "stdout",
     "output_type": "stream",
     "text": [
      "Downloading audio from https://www.youtube.com/watch?v=LKCojXWLNEM...\n",
      "                                                      \r  "
     ]
    },
    {
     "name": "stderr",
     "output_type": "stream",
     "text": [
      " 55%|█████▍    | 270/491 [30:33<3:03:32, 49.83s/it]"
     ]
    },
    {
     "name": "stdout",
     "output_type": "stream",
     "text": [
      "Downloading audio from https://www.youtube.com/watch?v=Q5k3uNlKtBw...\n",
      "                                                      \r  "
     ]
    },
    {
     "name": "stderr",
     "output_type": "stream",
     "text": [
      " 55%|█████▌    | 271/491 [31:31<3:11:46, 52.30s/it]"
     ]
    },
    {
     "name": "stdout",
     "output_type": "stream",
     "text": [
      "Downloading audio from https://www.youtube.com/watch?v=c4BLVznuWnU...\n",
      "                                                      \r  "
     ]
    },
    {
     "name": "stderr",
     "output_type": "stream",
     "text": [
      " 55%|█████▌    | 272/491 [31:59<2:44:09, 44.98s/it]"
     ]
    },
    {
     "name": "stdout",
     "output_type": "stream",
     "text": [
      "Downloading audio from https://www.youtube.com/watch?v=K3JU_VM-9xI...\n",
      "                                                      \r  "
     ]
    },
    {
     "name": "stderr",
     "output_type": "stream",
     "text": [
      " 56%|█████▌    | 273/491 [32:18<2:15:20, 37.25s/it]"
     ]
    },
    {
     "name": "stdout",
     "output_type": "stream",
     "text": [
      "Downloading audio from https://www.youtube.com/watch?v=Ix9NXVIbm2A...\n",
      "                                                      \r  "
     ]
    },
    {
     "name": "stderr",
     "output_type": "stream",
     "text": [
      " 56%|█████▌    | 274/491 [32:31<1:48:11, 29.91s/it]"
     ]
    },
    {
     "name": "stdout",
     "output_type": "stream",
     "text": [
      "Downloading audio from https://www.youtube.com/watch?v=k6ZoE4RrcDs...\n",
      "                                                      \r  "
     ]
    },
    {
     "name": "stderr",
     "output_type": "stream",
     "text": [
      " 56%|█████▌    | 275/491 [32:58<1:44:01, 28.90s/it]"
     ]
    },
    {
     "name": "stdout",
     "output_type": "stream",
     "text": [
      "Downloading audio from https://www.youtube.com/watch?v=2Vv-BfVoq4g...\n",
      "                                                      \r  "
     ]
    },
    {
     "name": "stderr",
     "output_type": "stream",
     "text": [
      " 56%|█████▌    | 276/491 [33:22<1:38:53, 27.60s/it]"
     ]
    },
    {
     "name": "stdout",
     "output_type": "stream",
     "text": [
      "Downloading audio from https://www.youtube.com/watch?v=KKQl-pIRQMY...\n",
      "                                                      \r  "
     ]
    },
    {
     "name": "stderr",
     "output_type": "stream",
     "text": [
      " 56%|█████▋    | 277/491 [33:37<1:24:41, 23.75s/it]"
     ]
    },
    {
     "name": "stdout",
     "output_type": "stream",
     "text": [
      "Downloading audio from https://www.youtube.com/watch?v=cgMd5YGTSCM...\n",
      "                                                      \r  "
     ]
    },
    {
     "name": "stderr",
     "output_type": "stream",
     "text": [
      " 57%|█████▋    | 278/491 [34:21<1:45:47, 29.80s/it]"
     ]
    },
    {
     "name": "stdout",
     "output_type": "stream",
     "text": [
      "Downloading audio from https://www.youtube.com/watch?v=JGwWNGJdvx8...\n",
      "[download]  49.8% of    4.01MiB at    1.91MiB/s ETA 00:01"
     ]
    },
    {
     "name": "stderr",
     "output_type": "stream",
     "text": [
      " 57%|█████▋    | 279/491 [34:26<1:19:25, 22.48s/it]"
     ]
    },
    {
     "name": "stdout",
     "output_type": "stream",
     "text": [
      "Downloading audio from https://www.youtube.com/watch?v=2lPEWlZ3ZCg...\n",
      "                                                      \r  "
     ]
    },
    {
     "name": "stderr",
     "output_type": "stream",
     "text": [
      " 57%|█████▋    | 280/491 [34:37<1:06:45, 18.98s/it]"
     ]
    },
    {
     "name": "stdout",
     "output_type": "stream",
     "text": [
      "Downloading audio from https://www.youtube.com/watch?v=Il0S8BoucSA...\n",
      "                                                      \r  "
     ]
    },
    {
     "name": "stderr",
     "output_type": "stream",
     "text": [
      " 57%|█████▋    | 281/491 [34:57<1:07:46, 19.37s/it]"
     ]
    },
    {
     "name": "stdout",
     "output_type": "stream",
     "text": [
      "Downloading audio from https://www.youtube.com/watch?v=tlYcUqEPN58...\n",
      "                                                      \r  "
     ]
    },
    {
     "name": "stderr",
     "output_type": "stream",
     "text": [
      " 57%|█████▋    | 282/491 [35:18<1:08:42, 19.72s/it]"
     ]
    },
    {
     "name": "stdout",
     "output_type": "stream",
     "text": [
      "Downloading audio from https://www.youtube.com/watch?v=A_af256mnTE...\n",
      "                                                      \r  "
     ]
    },
    {
     "name": "stderr",
     "output_type": "stream",
     "text": [
      " 58%|█████▊    | 283/491 [35:59<1:30:34, 26.13s/it]"
     ]
    },
    {
     "name": "stdout",
     "output_type": "stream",
     "text": [
      "Downloading audio from https://www.youtube.com/watch?v=2tHes1FQfwU...\n",
      "                                                        \r"
     ]
    },
    {
     "name": "stderr",
     "output_type": "stream",
     "text": [
      " 58%|█████▊    | 284/491 [36:51<1:57:08, 33.95s/it]"
     ]
    },
    {
     "name": "stdout",
     "output_type": "stream",
     "text": [
      "Downloading audio from https://www.youtube.com/watch?v=UAWcs5H-qgQ...\n",
      "                                                      \r  "
     ]
    },
    {
     "name": "stderr",
     "output_type": "stream",
     "text": [
      " 58%|█████▊    | 285/491 [37:59<2:31:22, 44.09s/it]"
     ]
    },
    {
     "name": "stdout",
     "output_type": "stream",
     "text": [
      "Downloading audio from https://www.youtube.com/watch?v=lp-EO5I60KA...\n"
     ]
    },
    {
     "name": "stderr",
     "output_type": "stream",
     "text": [
      " 58%|█████▊    | 286/491 [38:00<1:46:42, 31.23s/it]"
     ]
    },
    {
     "name": "stdout",
     "output_type": "stream",
     "text": [
      "Downloading audio from https://www.youtube.com/watch?v=pVqX2u6YWqI...\n",
      "                                                      \r  "
     ]
    },
    {
     "name": "stderr",
     "output_type": "stream",
     "text": [
      " 58%|█████▊    | 287/491 [39:16<2:31:40, 44.61s/it]"
     ]
    },
    {
     "name": "stdout",
     "output_type": "stream",
     "text": [
      "Downloading audio from https://www.youtube.com/watch?v=6B9J3lEyffA...\n",
      "                                                      \r  "
     ]
    },
    {
     "name": "stderr",
     "output_type": "stream",
     "text": [
      " 59%|█████▊    | 288/491 [40:56<3:26:55, 61.16s/it]"
     ]
    },
    {
     "name": "stdout",
     "output_type": "stream",
     "text": [
      "Downloading audio from https://www.youtube.com/watch?v=4CiyKeSnSxk...\n"
     ]
    },
    {
     "name": "stderr",
     "output_type": "stream",
     "text": [
      " 59%|█████▉    | 289/491 [40:59<2:27:38, 43.85s/it]"
     ]
    },
    {
     "name": "stdout",
     "output_type": "stream",
     "text": [
      "Downloading audio from https://www.youtube.com/watch?v=KjgWWjkNbhU...\n",
      "                                                      \r  "
     ]
    },
    {
     "name": "stderr",
     "output_type": "stream",
     "text": [
      " 59%|█████▉    | 290/491 [41:00<1:43:46, 30.98s/it]"
     ]
    },
    {
     "name": "stdout",
     "output_type": "stream",
     "text": [
      "Downloading audio from https://www.youtube.com/watch?v=KjgWWjkNbhU...\n",
      "                                                      \r  "
     ]
    },
    {
     "name": "stderr",
     "output_type": "stream",
     "text": [
      " 59%|█████▉    | 291/491 [41:21<1:32:53, 27.87s/it]"
     ]
    },
    {
     "name": "stdout",
     "output_type": "stream",
     "text": [
      "Downloading audio from https://www.youtube.com/watch?v=MYU3F8uUGiw...\n",
      "[download]  28.3% of    3.54MiB at    1.27MiB/s ETA 00:02"
     ]
    },
    {
     "name": "stderr",
     "output_type": "stream",
     "text": [
      " 59%|█████▉    | 292/491 [41:26<1:10:15, 21.18s/it]"
     ]
    },
    {
     "name": "stdout",
     "output_type": "stream",
     "text": [
      "Downloading audio from https://www.youtube.com/watch?v=sxb0GeS4gL8...\n",
      "                                                      \r  "
     ]
    },
    {
     "name": "stderr",
     "output_type": "stream",
     "text": [
      " 60%|█████▉    | 293/491 [41:54<1:16:35, 23.21s/it]"
     ]
    },
    {
     "name": "stdout",
     "output_type": "stream",
     "text": [
      "Downloading audio from https://www.youtube.com/watch?v=75r0nQu-hMs...\n",
      "                                                      \r  "
     ]
    },
    {
     "name": "stderr",
     "output_type": "stream",
     "text": [
      " 60%|█████▉    | 294/491 [42:22<1:20:59, 24.67s/it]"
     ]
    },
    {
     "name": "stdout",
     "output_type": "stream",
     "text": [
      "Downloading audio from https://www.youtube.com/watch?v=-9xib-hCm6c...\n"
     ]
    },
    {
     "name": "stderr",
     "output_type": "stream",
     "text": [
      " 60%|██████    | 295/491 [42:24<58:11, 17.81s/it]  "
     ]
    },
    {
     "name": "stdout",
     "output_type": "stream",
     "text": [
      "Downloading audio from https://www.youtube.com/watch?v=wy709iNG6i8...\n",
      "                                                      \r  "
     ]
    },
    {
     "name": "stderr",
     "output_type": "stream",
     "text": [
      " 60%|██████    | 296/491 [42:56<1:11:21, 21.96s/it]"
     ]
    },
    {
     "name": "stdout",
     "output_type": "stream",
     "text": [
      "Downloading audio from https://www.youtube.com/watch?v=ImP5gvqFrnA...\n",
      "                                                      \r  "
     ]
    },
    {
     "name": "stderr",
     "output_type": "stream",
     "text": [
      " 60%|██████    | 297/491 [46:52<4:39:04, 86.31s/it]"
     ]
    },
    {
     "name": "stdout",
     "output_type": "stream",
     "text": [
      "Downloading audio from https://www.youtube.com/watch?v=M2t245xfa3E...\n",
      "                                                      \r  "
     ]
    },
    {
     "name": "stderr",
     "output_type": "stream",
     "text": [
      " 61%|██████    | 298/491 [47:18<3:39:31, 68.25s/it]"
     ]
    },
    {
     "name": "stdout",
     "output_type": "stream",
     "text": [
      "Downloading audio from https://www.youtube.com/watch?v=kaJRvZZBnX8...\n"
     ]
    },
    {
     "name": "stderr",
     "output_type": "stream",
     "text": [
      " 61%|██████    | 299/491 [47:21<2:34:52, 48.40s/it]"
     ]
    },
    {
     "name": "stdout",
     "output_type": "stream",
     "text": [
      "Downloading audio from https://www.youtube.com/watch?v=h6KYAVn8ons...\n",
      "[download]   4.8% of ~   1.69MiB at   35.17KiB/s ETA 00:35 (frag 1/52)  "
     ]
    },
    {
     "name": "stderr",
     "output_type": "stream",
     "text": [
      " 61%|██████    | 300/491 [47:24<1:51:16, 34.96s/it]"
     ]
    },
    {
     "name": "stdout",
     "output_type": "stream",
     "text": [
      "Downloading audio from https://www.youtube.com/watch?v=ZHwVBirqD2s...\n",
      "[download]   5.3% of ~   2.09MiB at   37.32KiB/s ETA 00:37 (frag 1/52)"
     ]
    },
    {
     "name": "stderr",
     "output_type": "stream",
     "text": [
      " 61%|██████▏   | 301/491 [47:25<1:18:09, 24.68s/it]"
     ]
    },
    {
     "name": "stdout",
     "output_type": "stream",
     "text": [
      "Downloading audio from https://www.youtube.com/watch?v=tkmwVDLMZNk...\n",
      "[download]  13.5% of ~   3.59MiB at   61.42KiB/s ETA 01:04 (frag 6/52)  "
     ]
    },
    {
     "name": "stderr",
     "output_type": "stream",
     "text": [
      " 62%|██████▏   | 302/491 [47:32<1:01:26, 19.50s/it]"
     ]
    },
    {
     "name": "stdout",
     "output_type": "stream",
     "text": [
      "Error: The downloaded file for track 319 is missing or empty.\n",
      "Error indexing I Guess That's Why They Call It The Blues (ID 319): cannot unpack non-iterable NoneType object\n",
      "Downloading audio from https://www.youtube.com/watch?v=n4q6bVQUSrc...\n",
      "[download]  17.7% of ~   3.61MiB at   71.73KiB/s ETA 00:47 (frag 8/52)"
     ]
    },
    {
     "name": "stderr",
     "output_type": "stream",
     "text": [
      " 62%|██████▏   | 303/491 [47:35<45:25, 14.50s/it]  "
     ]
    },
    {
     "name": "stdout",
     "output_type": "stream",
     "text": [
      "Downloading audio from https://www.youtube.com/watch?v=5EOFnnBQjp8...\n",
      "[download]  25.8% of ~   3.93MiB at   50.62KiB/s ETA 00:55 (frag 12/52)  "
     ]
    },
    {
     "name": "stderr",
     "output_type": "stream",
     "text": [
      " 62%|██████▏   | 304/491 [47:41<37:03, 11.89s/it]"
     ]
    },
    {
     "name": "stdout",
     "output_type": "stream",
     "text": [
      "Error: The downloaded file for track 322 is missing or empty.\n",
      "Error indexing Little Jeannie (ID 322): cannot unpack non-iterable NoneType object\n",
      "Downloading audio from https://www.youtube.com/watch?v=Tg-Q-Acv4qs...\n",
      "Downloading audio from https://www.youtube.com/watch?v=Xfz_nBGxukM...\n",
      "[download]  31.0% of ~   3.79MiB at   64.50KiB/s ETA 00:44 (frag 15/52)Downloading audio from https://www.youtube.com/watch?v=EB86UzewPdo...\n"
     ]
    },
    {
     "name": "stderr",
     "output_type": "stream",
     "text": [
      " 62%|██████▏   | 306/491 [47:44<22:03,  7.16s/it]"
     ]
    },
    {
     "name": "stdout",
     "output_type": "stream",
     "text": [
      "[download]  45.0% of ~   4.11MiB at  120.25KiB/s ETA 00:26 (frag 22/52) "
     ]
    },
    {
     "name": "stderr",
     "output_type": "stream",
     "text": [
      " 63%|██████▎   | 307/491 [47:54<23:45,  7.75s/it]"
     ]
    },
    {
     "name": "stdout",
     "output_type": "stream",
     "text": [
      "Downloading audio from https://www.youtube.com/watch?v=sOF6_kHBkyg...\n",
      "[download]  74.8% of ~   4.36MiB at  122.70KiB/s ETA 00:10 (frag 39/54)"
     ]
    },
    {
     "name": "stderr",
     "output_type": "stream",
     "text": [
      " 63%|██████▎   | 308/491 [48:16<35:16, 11.56s/it]"
     ]
    },
    {
     "name": "stdout",
     "output_type": "stream",
     "text": [
      "Error: The downloaded file for track 318 is missing or empty.\n",
      "Error indexing I Don't Wanna Go On With You Like That (ID 318): cannot unpack non-iterable NoneType object\n",
      "Downloading audio from https://www.youtube.com/watch?v=DtVBCG6ThDk...\n",
      "[download]  92.9% of ~   4.45MiB at  122.65KiB/s ETA 00:04 (frag 49/54)"
     ]
    },
    {
     "name": "stderr",
     "output_type": "stream",
     "text": [
      " 63%|██████▎   | 309/491 [48:27<34:16, 11.30s/it]"
     ]
    },
    {
     "name": "stdout",
     "output_type": "stream",
     "text": [
      "Downloading audio from https://www.youtube.com/watch?v=NrLkTZrPZA4...\n",
      "                                                        \r              "
     ]
    },
    {
     "name": "stderr",
     "output_type": "stream",
     "text": [
      " 63%|██████▎   | 310/491 [48:31<28:16,  9.37s/it]"
     ]
    },
    {
     "name": "stdout",
     "output_type": "stream",
     "text": [
      "Error: The downloaded file for track 324 is missing or empty.\n",
      "Error indexing Nikita (ID 324): cannot unpack non-iterable NoneType object\n",
      "Downloading audio from https://www.youtube.com/watch?v=X23v5_K7cXk...\n",
      "                                                      \r  "
     ]
    },
    {
     "name": "stderr",
     "output_type": "stream",
     "text": [
      " 63%|██████▎   | 311/491 [48:38<26:15,  8.75s/it]"
     ]
    },
    {
     "name": "stdout",
     "output_type": "stream",
     "text": [
      "Downloading audio from https://www.youtube.com/watch?v=B93Tir6l5FA...\n"
     ]
    },
    {
     "name": "stderr",
     "output_type": "stream",
     "text": [
      " 64%|██████▎   | 312/491 [48:39<19:01,  6.37s/it]"
     ]
    },
    {
     "name": "stdout",
     "output_type": "stream",
     "text": [
      "Downloading audio from https://www.youtube.com/watch?v=yJ_H28GoaCs...\n",
      "                                                      \r  "
     ]
    },
    {
     "name": "stderr",
     "output_type": "stream",
     "text": [
      " 64%|██████▎   | 313/491 [48:49<22:38,  7.63s/it]"
     ]
    },
    {
     "name": "stdout",
     "output_type": "stream",
     "text": [
      "Downloading audio from https://www.youtube.com/watch?v=yYcyacLRPNs...\n"
     ]
    },
    {
     "name": "stderr",
     "output_type": "stream",
     "text": [
      " 64%|██████▍   | 314/491 [48:50<16:39,  5.65s/it]"
     ]
    },
    {
     "name": "stdout",
     "output_type": "stream",
     "text": [
      "Downloading audio from https://www.youtube.com/watch?v=GlPlfCy1urI...\n",
      "                                                      \r  "
     ]
    },
    {
     "name": "stderr",
     "output_type": "stream",
     "text": [
      " 64%|██████▍   | 315/491 [49:18<35:27, 12.09s/it]"
     ]
    },
    {
     "name": "stdout",
     "output_type": "stream",
     "text": [
      "Downloading audio from https://www.youtube.com/watch?v=um4-d7VzZiE...\n"
     ]
    },
    {
     "name": "stderr",
     "output_type": "stream",
     "text": [
      " 64%|██████▍   | 316/491 [49:20<26:56,  9.24s/it]"
     ]
    },
    {
     "name": "stdout",
     "output_type": "stream",
     "text": [
      "Downloading audio from https://www.youtube.com/watch?v=ab9176Srb5Y...\n",
      "                                                      \r  "
     ]
    },
    {
     "name": "stderr",
     "output_type": "stream",
     "text": [
      " 65%|██████▍   | 317/491 [50:11<1:02:19, 21.49s/it]"
     ]
    },
    {
     "name": "stdout",
     "output_type": "stream",
     "text": [
      "Downloading audio from https://www.youtube.com/watch?v=P05bTId-92A...\n",
      "                                                      \r  "
     ]
    },
    {
     "name": "stderr",
     "output_type": "stream",
     "text": [
      " 65%|██████▍   | 318/491 [50:23<54:24, 18.87s/it]  "
     ]
    },
    {
     "name": "stdout",
     "output_type": "stream",
     "text": [
      "Downloading audio from https://www.youtube.com/watch?v=RQ9_TKayu9s...\n",
      "                                                      \r  "
     ]
    },
    {
     "name": "stderr",
     "output_type": "stream",
     "text": [
      " 65%|██████▍   | 319/491 [51:03<1:12:21, 25.24s/it]"
     ]
    },
    {
     "name": "stdout",
     "output_type": "stream",
     "text": [
      "Downloading audio from https://www.youtube.com/watch?v=9dcVOmEQzKA...\n"
     ]
    },
    {
     "name": "stderr",
     "output_type": "stream",
     "text": [
      " 65%|██████▌   | 320/491 [51:05<51:22, 18.03s/it]  "
     ]
    },
    {
     "name": "stdout",
     "output_type": "stream",
     "text": [
      "Downloading audio from https://www.youtube.com/watch?v=lexLAjh8fPA...\n",
      "                                                      \r  "
     ]
    },
    {
     "name": "stderr",
     "output_type": "stream",
     "text": [
      " 65%|██████▌   | 321/491 [52:07<1:28:46, 31.33s/it]"
     ]
    },
    {
     "name": "stdout",
     "output_type": "stream",
     "text": [
      "Downloading audio from https://www.youtube.com/watch?v=7YuAzR2XVAM...\n",
      "                                                      \r  "
     ]
    },
    {
     "name": "stderr",
     "output_type": "stream",
     "text": [
      " 66%|██████▌   | 322/491 [52:57<1:43:39, 36.80s/it]"
     ]
    },
    {
     "name": "stdout",
     "output_type": "stream",
     "text": [
      "Downloading audio from https://www.youtube.com/watch?v=Wj7lL6eDOqc...\n",
      "                                                      \r  "
     ]
    },
    {
     "name": "stderr",
     "output_type": "stream",
     "text": [
      " 66%|██████▌   | 323/491 [53:42<1:50:34, 39.49s/it]"
     ]
    },
    {
     "name": "stdout",
     "output_type": "stream",
     "text": [
      "Downloading audio from https://www.youtube.com/watch?v=S9bCLPwzSC0...\n",
      "                                                      \r  "
     ]
    },
    {
     "name": "stderr",
     "output_type": "stream",
     "text": [
      " 66%|██████▌   | 324/491 [54:33<1:59:09, 42.81s/it]"
     ]
    },
    {
     "name": "stdout",
     "output_type": "stream",
     "text": [
      "Downloading audio from https://www.youtube.com/watch?v=sNPnbI1arSE...\n",
      "                                                      \r  "
     ]
    },
    {
     "name": "stderr",
     "output_type": "stream",
     "text": [
      " 66%|██████▌   | 325/491 [55:17<1:59:07, 43.06s/it]"
     ]
    },
    {
     "name": "stdout",
     "output_type": "stream",
     "text": [
      "Downloading audio from https://www.youtube.com/watch?v=j5-yKhDd64s...\n",
      "                                                      \r  "
     ]
    },
    {
     "name": "stderr",
     "output_type": "stream",
     "text": [
      " 66%|██████▋   | 326/491 [55:39<1:41:47, 37.01s/it]"
     ]
    },
    {
     "name": "stdout",
     "output_type": "stream",
     "text": [
      "Downloading audio from https://www.youtube.com/watch?v=D4hAVemuQXY...\n",
      "                                                      \r                  "
     ]
    },
    {
     "name": "stderr",
     "output_type": "stream",
     "text": [
      " 67%|██████▋   | 327/491 [55:46<1:15:57, 27.79s/it]"
     ]
    },
    {
     "name": "stdout",
     "output_type": "stream",
     "text": [
      "Error: The downloaded file for track 346 is missing or empty.\n",
      "Error indexing Sing For The Moment (ID 346): cannot unpack non-iterable NoneType object\n",
      "Downloading audio from https://www.youtube.com/watch?v=eJO5HU_7_1w...\n",
      "[download]  68.1% of ~   4.11MiB at    1.81MiB/s ETA 00:01 (frag 32/49)  "
     ]
    },
    {
     "name": "stderr",
     "output_type": "stream",
     "text": [
      " 67%|██████▋   | 328/491 [55:51<57:28, 21.16s/it]  "
     ]
    },
    {
     "name": "stdout",
     "output_type": "stream",
     "text": [
      "Downloading audio from https://www.youtube.com/watch?v=RSdKmX2BH7o...\n",
      "                                                      \r                "
     ]
    },
    {
     "name": "stderr",
     "output_type": "stream",
     "text": [
      " 67%|██████▋   | 329/491 [55:52<40:48, 15.11s/it]"
     ]
    },
    {
     "name": "stdout",
     "output_type": "stream",
     "text": [
      "Error: The downloaded file for track 347 is missing or empty.\n",
      "Error indexing The Real Slim Shady (ID 347): cannot unpack non-iterable NoneType object\n",
      "Downloading audio from https://www.youtube.com/watch?v=1wYNFfgrXTI...\n",
      "                                                        \r"
     ]
    },
    {
     "name": "stderr",
     "output_type": "stream",
     "text": [
      " 67%|██████▋   | 330/491 [56:57<1:20:45, 30.10s/it]"
     ]
    },
    {
     "name": "stdout",
     "output_type": "stream",
     "text": [
      "Downloading audio from https://www.youtube.com/watch?v=YVkUvmDQ3HY...\n",
      "[download]  43.5% of    4.60MiB at    2.68MiB/s ETA 00:00"
     ]
    },
    {
     "name": "stderr",
     "output_type": "stream",
     "text": [
      " 67%|██████▋   | 331/491 [57:02<59:46, 22.42s/it]  "
     ]
    },
    {
     "name": "stdout",
     "output_type": "stream",
     "text": [
      "Downloading audio from https://www.youtube.com/watch?v=5sye_VxmNZA...\n",
      "                                                      \r  "
     ]
    },
    {
     "name": "stderr",
     "output_type": "stream",
     "text": [
      " 68%|██████▊   | 332/491 [57:34<1:06:47, 25.20s/it]"
     ]
    },
    {
     "name": "stdout",
     "output_type": "stream",
     "text": [
      "Downloading audio from https://www.youtube.com/watch?v=6T7bHq9Ebg0...\n",
      "                                                      \r  "
     ]
    },
    {
     "name": "stderr",
     "output_type": "stream",
     "text": [
      " 68%|██████▊   | 333/491 [59:33<2:20:47, 53.46s/it]"
     ]
    },
    {
     "name": "stdout",
     "output_type": "stream",
     "text": [
      "Downloading audio from https://www.youtube.com/watch?v=9mQJaXwGPlg...\n",
      "                                                      \r                  "
     ]
    },
    {
     "name": "stderr",
     "output_type": "stream",
     "text": [
      " 68%|██████▊   | 334/491 [59:41<1:43:47, 39.67s/it]"
     ]
    },
    {
     "name": "stdout",
     "output_type": "stream",
     "text": [
      "Error: The downloaded file for track 353 is missing or empty.\n",
      "Error indexing Escape (ID 353): cannot unpack non-iterable NoneType object\n",
      "Downloading audio from https://www.youtube.com/watch?v=koJlIGDImiU...\n",
      "                                                      \r  "
     ]
    },
    {
     "name": "stderr",
     "output_type": "stream",
     "text": [
      " 68%|██████▊   | 335/491 [59:50<1:19:42, 30.66s/it]"
     ]
    },
    {
     "name": "stdout",
     "output_type": "stream",
     "text": [
      "Downloading audio from https://www.youtube.com/watch?v=wuUTF5ZLofw...\n",
      "                                                      \r  "
     ]
    },
    {
     "name": "stderr",
     "output_type": "stream",
     "text": [
      " 68%|██████▊   | 336/491 [1:00:53<1:44:14, 40.35s/it]"
     ]
    },
    {
     "name": "stdout",
     "output_type": "stream",
     "text": [
      "Downloading audio from https://www.youtube.com/watch?v=O6yeLNNVa4A...\n",
      "                                                      \r  "
     ]
    },
    {
     "name": "stderr",
     "output_type": "stream",
     "text": [
      " 69%|██████▊   | 337/491 [1:01:56<2:00:47, 47.06s/it]"
     ]
    },
    {
     "name": "stdout",
     "output_type": "stream",
     "text": [
      "Downloading audio from https://www.youtube.com/watch?v=APWhx97QvxE...\n"
     ]
    },
    {
     "name": "stderr",
     "output_type": "stream",
     "text": [
      " 69%|██████▉   | 338/491 [1:01:57<1:24:46, 33.25s/it]"
     ]
    },
    {
     "name": "stdout",
     "output_type": "stream",
     "text": [
      "Downloading audio from https://www.youtube.com/watch?v=Mm7GWGppDgg...\n",
      "                                                      \r    "
     ]
    },
    {
     "name": "stderr",
     "output_type": "stream",
     "text": [
      " 69%|██████▉   | 339/491 [1:02:05<1:05:11, 25.73s/it]"
     ]
    },
    {
     "name": "stdout",
     "output_type": "stream",
     "text": [
      "Downloading audio from https://www.youtube.com/watch?v=JxPj3GAYYZ0...\n",
      "                                                      \r  "
     ]
    },
    {
     "name": "stderr",
     "output_type": "stream",
     "text": [
      " 69%|██████▉   | 340/491 [1:04:36<2:39:16, 63.29s/it]"
     ]
    },
    {
     "name": "stdout",
     "output_type": "stream",
     "text": [
      "Downloading audio from https://www.youtube.com/watch?v=3YxaaGgTQYM...\n",
      "                                                      \r  "
     ]
    },
    {
     "name": "stderr",
     "output_type": "stream",
     "text": [
      " 69%|██████▉   | 341/491 [1:05:25<2:27:40, 59.07s/it]"
     ]
    },
    {
     "name": "stdout",
     "output_type": "stream",
     "text": [
      "Downloading audio from https://www.youtube.com/watch?v=_RrA-R5VHQs...\n",
      "                                                      \r  "
     ]
    },
    {
     "name": "stderr",
     "output_type": "stream",
     "text": [
      " 70%|██████▉   | 342/491 [1:06:28<2:29:03, 60.03s/it]"
     ]
    },
    {
     "name": "stdout",
     "output_type": "stream",
     "text": [
      "Downloading audio from https://www.youtube.com/watch?v=jhC1pI76Rqo...\n",
      "                                                      \r  "
     ]
    },
    {
     "name": "stderr",
     "output_type": "stream",
     "text": [
      " 70%|██████▉   | 343/491 [1:06:48<1:58:31, 48.05s/it]"
     ]
    },
    {
     "name": "stdout",
     "output_type": "stream",
     "text": [
      "Downloading audio from https://www.youtube.com/watch?v=CdhqVtpR2ts...\n",
      "                                                      \r  "
     ]
    },
    {
     "name": "stderr",
     "output_type": "stream",
     "text": [
      " 70%|███████   | 344/491 [1:06:57<1:29:20, 36.47s/it]"
     ]
    },
    {
     "name": "stdout",
     "output_type": "stream",
     "text": [
      "Downloading audio from https://www.youtube.com/watch?v=PJGpsL_XYQI...\n",
      "                                                      \r  "
     ]
    },
    {
     "name": "stderr",
     "output_type": "stream",
     "text": [
      " 70%|███████   | 345/491 [1:08:36<2:14:39, 55.34s/it]"
     ]
    },
    {
     "name": "stdout",
     "output_type": "stream",
     "text": [
      "Downloading audio from https://www.youtube.com/watch?v=5anLPw0Efmo...\n",
      "                                                      \r  "
     ]
    },
    {
     "name": "stderr",
     "output_type": "stream",
     "text": [
      " 71%|███████   | 347/491 [1:09:00<1:17:06, 32.13s/it]"
     ]
    },
    {
     "name": "stdout",
     "output_type": "stream",
     "text": [
      "Downloading audio from https://www.youtube.com/watch?v=aVbPvf2aYH4...\n",
      "Downloading audio from https://www.youtube.com/watch?v=LBr7kECsjcQ...\n",
      "                                                        \r               "
     ]
    },
    {
     "name": "stderr",
     "output_type": "stream",
     "text": [
      " 71%|███████   | 348/491 [1:09:12<1:01:44, 25.91s/it]"
     ]
    },
    {
     "name": "stdout",
     "output_type": "stream",
     "text": [
      "Error: The downloaded file for track 367 is missing or empty.\n",
      "Error indexing Centuries (ID 367): cannot unpack non-iterable NoneType object\n",
      "Downloading audio from https://www.youtube.com/watch?v=Alh6iIvVN9o...\n",
      "                                                      \r  "
     ]
    },
    {
     "name": "stderr",
     "output_type": "stream",
     "text": [
      " 71%|███████   | 349/491 [1:10:55<1:56:07, 49.06s/it]"
     ]
    },
    {
     "name": "stdout",
     "output_type": "stream",
     "text": [
      "Downloading audio from https://www.youtube.com/watch?v=V2b2PURkg40...\n",
      "                                                      \r  "
     ]
    },
    {
     "name": "stderr",
     "output_type": "stream",
     "text": [
      " 71%|███████▏  | 350/491 [1:11:06<1:28:41, 37.74s/it]"
     ]
    },
    {
     "name": "stdout",
     "output_type": "stream",
     "text": [
      "Downloading audio from https://www.youtube.com/watch?v=uhG-vLZrb-g...\n",
      "                                                      \r  "
     ]
    },
    {
     "name": "stderr",
     "output_type": "stream",
     "text": [
      " 71%|███████▏  | 351/491 [1:11:12<1:05:30, 28.08s/it]"
     ]
    },
    {
     "name": "stdout",
     "output_type": "stream",
     "text": [
      "Downloading audio from https://www.youtube.com/watch?v=GNm5drtAQXs...\n",
      "                                                      \r  "
     ]
    },
    {
     "name": "stderr",
     "output_type": "stream",
     "text": [
      " 72%|███████▏  | 352/491 [1:11:47<1:10:13, 30.31s/it]"
     ]
    },
    {
     "name": "stdout",
     "output_type": "stream",
     "text": [
      "Downloading audio from https://www.youtube.com/watch?v=onzL0EM1pKY...\n",
      "                                                      \r  "
     ]
    },
    {
     "name": "stderr",
     "output_type": "stream",
     "text": [
      " 72%|███████▏  | 353/491 [1:12:32<1:19:36, 34.61s/it]"
     ]
    },
    {
     "name": "stdout",
     "output_type": "stream",
     "text": [
      "Downloading audio from https://www.youtube.com/watch?v=fXeKi6ZkbOw...\n",
      "                                                      \r  "
     ]
    },
    {
     "name": "stderr",
     "output_type": "stream",
     "text": [
      " 72%|███████▏  | 354/491 [1:13:36<1:39:01, 43.37s/it]"
     ]
    },
    {
     "name": "stdout",
     "output_type": "stream",
     "text": [
      "Downloading audio from https://www.youtube.com/watch?v=0hGhl7ki3HM...\n",
      "                                                      \r  "
     ]
    },
    {
     "name": "stderr",
     "output_type": "stream",
     "text": [
      " 72%|███████▏  | 355/491 [1:14:11<1:32:38, 40.87s/it]"
     ]
    },
    {
     "name": "stdout",
     "output_type": "stream",
     "text": [
      "Downloading audio from https://www.youtube.com/watch?v=5oWyMakvQew...\n",
      "                                                      \r  "
     ]
    },
    {
     "name": "stderr",
     "output_type": "stream",
     "text": [
      " 73%|███████▎  | 356/491 [1:14:56<1:35:10, 42.30s/it]"
     ]
    },
    {
     "name": "stdout",
     "output_type": "stream",
     "text": [
      "Downloading audio from https://www.youtube.com/watch?v=oiosqtFLBBA...\n",
      "                                                      \r                  "
     ]
    },
    {
     "name": "stderr",
     "output_type": "stream",
     "text": [
      " 73%|███████▎  | 357/491 [1:15:03<1:10:22, 31.51s/it]"
     ]
    },
    {
     "name": "stdout",
     "output_type": "stream",
     "text": [
      "Error: The downloaded file for track 376 is missing or empty.\n",
      "Error indexing Go Your Own Way (ID 376): cannot unpack non-iterable NoneType object\n",
      "Downloading audio from https://www.youtube.com/watch?v=DubafeFeJ7Y...\n",
      "                                                      \r  "
     ]
    },
    {
     "name": "stderr",
     "output_type": "stream",
     "text": [
      " 73%|███████▎  | 358/491 [1:16:01<1:27:27, 39.45s/it]"
     ]
    },
    {
     "name": "stdout",
     "output_type": "stream",
     "text": [
      "Downloading audio from https://www.youtube.com/watch?v=E0sha1XfHxw...\n",
      "                                                      \r  "
     ]
    },
    {
     "name": "stderr",
     "output_type": "stream",
     "text": [
      " 73%|███████▎  | 359/491 [1:18:56<2:56:15, 80.12s/it]"
     ]
    },
    {
     "name": "stdout",
     "output_type": "stream",
     "text": [
      "Downloading audio from https://www.youtube.com/watch?v=uCGD9dT12C0...\n",
      "[download]  14.8% of    3.38MiB at    5.33MiB/s ETA 00:00"
     ]
    },
    {
     "name": "stderr",
     "output_type": "stream",
     "text": [
      " 73%|███████▎  | 360/491 [1:18:59<2:04:46, 57.15s/it]"
     ]
    },
    {
     "name": "stdout",
     "output_type": "stream",
     "text": [
      "Downloading audio from https://www.youtube.com/watch?v=jQAK6sVovUk...\n",
      "                                                      \r  "
     ]
    },
    {
     "name": "stderr",
     "output_type": "stream",
     "text": [
      " 74%|███████▎  | 361/491 [1:19:38<1:51:47, 51.60s/it]"
     ]
    },
    {
     "name": "stdout",
     "output_type": "stream",
     "text": [
      "Downloading audio from https://www.youtube.com/watch?v=9bWGy0K5VF0...\n",
      "                                                      \r  "
     ]
    },
    {
     "name": "stderr",
     "output_type": "stream",
     "text": [
      " 74%|███████▎  | 362/491 [1:20:02<1:33:30, 43.49s/it]"
     ]
    },
    {
     "name": "stdout",
     "output_type": "stream",
     "text": [
      "Downloading audio from https://www.youtube.com/watch?v=4YnIs8ioHQs...\n",
      "                                                      \r  "
     ]
    },
    {
     "name": "stderr",
     "output_type": "stream",
     "text": [
      " 74%|███████▍  | 363/491 [1:20:17<1:14:14, 34.80s/it]"
     ]
    },
    {
     "name": "stdout",
     "output_type": "stream",
     "text": [
      "Downloading audio from https://www.youtube.com/watch?v=xwTPvcPYaOo...\n",
      "                                                      \r  "
     ]
    },
    {
     "name": "stderr",
     "output_type": "stream",
     "text": [
      " 74%|███████▍  | 364/491 [1:22:07<2:01:49, 57.55s/it]"
     ]
    },
    {
     "name": "stdout",
     "output_type": "stream",
     "text": [
      "Downloading audio from https://www.youtube.com/watch?v=EmuBOfurv3o...\n",
      "                                                      \r  "
     ]
    },
    {
     "name": "stderr",
     "output_type": "stream",
     "text": [
      " 74%|███████▍  | 365/491 [1:22:13<1:28:15, 42.03s/it]"
     ]
    },
    {
     "name": "stdout",
     "output_type": "stream",
     "text": [
      "Downloading audio from https://www.youtube.com/watch?v=h_L4Rixya64...\n",
      "                                                      \r                  "
     ]
    },
    {
     "name": "stderr",
     "output_type": "stream",
     "text": [
      " 75%|███████▍  | 366/491 [1:22:20<1:05:21, 31.37s/it]"
     ]
    },
    {
     "name": "stdout",
     "output_type": "stream",
     "text": [
      "Error: The downloaded file for track 385 is missing or empty.\n",
      "Error indexing Best Of You (ID 385): cannot unpack non-iterable NoneType object\n",
      "Downloading audio from https://www.youtube.com/watch?v=h_L4Rixya64...\n",
      "                                                      \r  "
     ]
    },
    {
     "name": "stderr",
     "output_type": "stream",
     "text": [
      " 75%|███████▍  | 367/491 [1:23:37<1:33:01, 45.01s/it]"
     ]
    },
    {
     "name": "stdout",
     "output_type": "stream",
     "text": [
      "Downloading audio from https://www.youtube.com/watch?v=pLdJQFTnZfA...\n",
      "                                                      \r  "
     ]
    },
    {
     "name": "stderr",
     "output_type": "stream",
     "text": [
      " 75%|███████▍  | 368/491 [1:23:45<1:09:33, 33.93s/it]"
     ]
    },
    {
     "name": "stdout",
     "output_type": "stream",
     "text": [
      "Downloading audio from https://www.youtube.com/watch?v=eBG7P-K-r1Y...\n",
      "                                                      \r  "
     ]
    },
    {
     "name": "stderr",
     "output_type": "stream",
     "text": [
      " 75%|███████▌  | 369/491 [1:25:40<1:58:34, 58.31s/it]"
     ]
    },
    {
     "name": "stdout",
     "output_type": "stream",
     "text": [
      "Downloading audio from https://www.youtube.com/watch?v=yhERrxABD5o...\n"
     ]
    },
    {
     "name": "stderr",
     "output_type": "stream",
     "text": [
      "ERROR: [youtube] yhERrxABD5o: Sign in to confirm you’re not a bot. Use --cookies-from-browser or --cookies for the authentication. See  https://github.com/yt-dlp/yt-dlp/wiki/FAQ#how-do-i-pass-cookies-to-yt-dlp  for how to manually pass cookies. Also see  https://github.com/yt-dlp/yt-dlp/wiki/Extractors#exporting-youtube-cookies  for tips on effectively exporting YouTube cookies\n"
     ]
    },
    {
     "name": "stdout",
     "output_type": "stream",
     "text": [
      "[Attempt 1] Download error: ERROR: [youtube] yhERrxABD5o: Sign in to confirm you’re not a bot. Use --cookies-from-browser or --cookies for the authentication. See  https://github.com/yt-dlp/yt-dlp/wiki/FAQ#how-do-i-pass-cookies-to-yt-dlp  for how to manually pass cookies. Also see  https://github.com/yt-dlp/yt-dlp/wiki/Extractors#exporting-youtube-cookies  for tips on effectively exporting YouTube cookies\n"
     ]
    },
    {
     "name": "stderr",
     "output_type": "stream",
     "text": [
      "ERROR: [youtube] yhERrxABD5o: Sign in to confirm you’re not a bot. Use --cookies-from-browser or --cookies for the authentication. See  https://github.com/yt-dlp/yt-dlp/wiki/FAQ#how-do-i-pass-cookies-to-yt-dlp  for how to manually pass cookies. Also see  https://github.com/yt-dlp/yt-dlp/wiki/Extractors#exporting-youtube-cookies  for tips on effectively exporting YouTube cookies\n",
      " 75%|███████▌  | 370/491 [1:25:42<1:23:41, 41.50s/it]"
     ]
    },
    {
     "name": "stdout",
     "output_type": "stream",
     "text": [
      "[Attempt 2] Download error: ERROR: [youtube] yhERrxABD5o: Sign in to confirm you’re not a bot. Use --cookies-from-browser or --cookies for the authentication. See  https://github.com/yt-dlp/yt-dlp/wiki/FAQ#how-do-i-pass-cookies-to-yt-dlp  for how to manually pass cookies. Also see  https://github.com/yt-dlp/yt-dlp/wiki/Extractors#exporting-youtube-cookies  for tips on effectively exporting YouTube cookies\n",
      "Error indexing Generator (ID 389): cannot unpack non-iterable NoneType object\n",
      "Downloading audio from https://www.youtube.com/watch?v=1VQ_3sBZEm0...\n"
     ]
    },
    {
     "name": "stderr",
     "output_type": "stream",
     "text": [
      "ERROR: [youtube] 1VQ_3sBZEm0: Sign in to confirm you’re not a bot. Use --cookies-from-browser or --cookies for the authentication. See  https://github.com/yt-dlp/yt-dlp/wiki/FAQ#how-do-i-pass-cookies-to-yt-dlp  for how to manually pass cookies. Also see  https://github.com/yt-dlp/yt-dlp/wiki/Extractors#exporting-youtube-cookies  for tips on effectively exporting YouTube cookies\n"
     ]
    },
    {
     "name": "stdout",
     "output_type": "stream",
     "text": [
      "[Attempt 1] Download error: ERROR: [youtube] 1VQ_3sBZEm0: Sign in to confirm you’re not a bot. Use --cookies-from-browser or --cookies for the authentication. See  https://github.com/yt-dlp/yt-dlp/wiki/FAQ#how-do-i-pass-cookies-to-yt-dlp  for how to manually pass cookies. Also see  https://github.com/yt-dlp/yt-dlp/wiki/Extractors#exporting-youtube-cookies  for tips on effectively exporting YouTube cookies\n"
     ]
    },
    {
     "name": "stderr",
     "output_type": "stream",
     "text": [
      "ERROR: [youtube] 1VQ_3sBZEm0: Sign in to confirm you’re not a bot. Use --cookies-from-browser or --cookies for the authentication. See  https://github.com/yt-dlp/yt-dlp/wiki/FAQ#how-do-i-pass-cookies-to-yt-dlp  for how to manually pass cookies. Also see  https://github.com/yt-dlp/yt-dlp/wiki/Extractors#exporting-youtube-cookies  for tips on effectively exporting YouTube cookies\n",
      " 76%|███████▌  | 371/491 [1:25:45<59:31, 29.76s/it]  "
     ]
    },
    {
     "name": "stdout",
     "output_type": "stream",
     "text": [
      "[Attempt 2] Download error: ERROR: [youtube] 1VQ_3sBZEm0: Sign in to confirm you’re not a bot. Use --cookies-from-browser or --cookies for the authentication. See  https://github.com/yt-dlp/yt-dlp/wiki/FAQ#how-do-i-pass-cookies-to-yt-dlp  for how to manually pass cookies. Also see  https://github.com/yt-dlp/yt-dlp/wiki/Extractors#exporting-youtube-cookies  for tips on effectively exporting YouTube cookies\n",
      "Error indexing Learn to Fly (ID 390): cannot unpack non-iterable NoneType object\n",
      "Downloading audio from https://www.youtube.com/watch?v=308KpFZ4cT8...\n"
     ]
    },
    {
     "name": "stderr",
     "output_type": "stream",
     "text": [
      "ERROR: [youtube] 308KpFZ4cT8: Sign in to confirm you’re not a bot. Use --cookies-from-browser or --cookies for the authentication. See  https://github.com/yt-dlp/yt-dlp/wiki/FAQ#how-do-i-pass-cookies-to-yt-dlp  for how to manually pass cookies. Also see  https://github.com/yt-dlp/yt-dlp/wiki/Extractors#exporting-youtube-cookies  for tips on effectively exporting YouTube cookies\n"
     ]
    },
    {
     "name": "stdout",
     "output_type": "stream",
     "text": [
      "[Attempt 1] Download error: ERROR: [youtube] 308KpFZ4cT8: Sign in to confirm you’re not a bot. Use --cookies-from-browser or --cookies for the authentication. See  https://github.com/yt-dlp/yt-dlp/wiki/FAQ#how-do-i-pass-cookies-to-yt-dlp  for how to manually pass cookies. Also see  https://github.com/yt-dlp/yt-dlp/wiki/Extractors#exporting-youtube-cookies  for tips on effectively exporting YouTube cookies\n"
     ]
    },
    {
     "name": "stderr",
     "output_type": "stream",
     "text": [
      "ERROR: [youtube] 308KpFZ4cT8: Sign in to confirm you’re not a bot. Use --cookies-from-browser or --cookies for the authentication. See  https://github.com/yt-dlp/yt-dlp/wiki/FAQ#how-do-i-pass-cookies-to-yt-dlp  for how to manually pass cookies. Also see  https://github.com/yt-dlp/yt-dlp/wiki/Extractors#exporting-youtube-cookies  for tips on effectively exporting YouTube cookies\n",
      " 76%|███████▌  | 372/491 [1:25:47<42:34, 21.47s/it]"
     ]
    },
    {
     "name": "stdout",
     "output_type": "stream",
     "text": [
      "[Attempt 2] Download error: ERROR: [youtube] 308KpFZ4cT8: Sign in to confirm you’re not a bot. Use --cookies-from-browser or --cookies for the authentication. See  https://github.com/yt-dlp/yt-dlp/wiki/FAQ#how-do-i-pass-cookies-to-yt-dlp  for how to manually pass cookies. Also see  https://github.com/yt-dlp/yt-dlp/wiki/Extractors#exporting-youtube-cookies  for tips on effectively exporting YouTube cookies\n",
      "Error indexing Long Road To Ruin (ID 391): cannot unpack non-iterable NoneType object\n",
      "Downloading audio from https://www.youtube.com/watch?v=I7rCNiiNPxA...\n"
     ]
    },
    {
     "name": "stderr",
     "output_type": "stream",
     "text": [
      "ERROR: [youtube] I7rCNiiNPxA: Sign in to confirm you’re not a bot. Use --cookies-from-browser or --cookies for the authentication. See  https://github.com/yt-dlp/yt-dlp/wiki/FAQ#how-do-i-pass-cookies-to-yt-dlp  for how to manually pass cookies. Also see  https://github.com/yt-dlp/yt-dlp/wiki/Extractors#exporting-youtube-cookies  for tips on effectively exporting YouTube cookies\n"
     ]
    },
    {
     "name": "stdout",
     "output_type": "stream",
     "text": [
      "[Attempt 1] Download error: ERROR: [youtube] I7rCNiiNPxA: Sign in to confirm you’re not a bot. Use --cookies-from-browser or --cookies for the authentication. See  https://github.com/yt-dlp/yt-dlp/wiki/FAQ#how-do-i-pass-cookies-to-yt-dlp  for how to manually pass cookies. Also see  https://github.com/yt-dlp/yt-dlp/wiki/Extractors#exporting-youtube-cookies  for tips on effectively exporting YouTube cookies\n"
     ]
    },
    {
     "name": "stderr",
     "output_type": "stream",
     "text": [
      "ERROR: [youtube] I7rCNiiNPxA: Sign in to confirm you’re not a bot. Use --cookies-from-browser or --cookies for the authentication. See  https://github.com/yt-dlp/yt-dlp/wiki/FAQ#how-do-i-pass-cookies-to-yt-dlp  for how to manually pass cookies. Also see  https://github.com/yt-dlp/yt-dlp/wiki/Extractors#exporting-youtube-cookies  for tips on effectively exporting YouTube cookies\n",
      " 76%|███████▌  | 373/491 [1:25:49<30:58, 15.75s/it]"
     ]
    },
    {
     "name": "stdout",
     "output_type": "stream",
     "text": [
      "[Attempt 2] Download error: ERROR: [youtube] I7rCNiiNPxA: Sign in to confirm you’re not a bot. Use --cookies-from-browser or --cookies for the authentication. See  https://github.com/yt-dlp/yt-dlp/wiki/FAQ#how-do-i-pass-cookies-to-yt-dlp  for how to manually pass cookies. Also see  https://github.com/yt-dlp/yt-dlp/wiki/Extractors#exporting-youtube-cookies  for tips on effectively exporting YouTube cookies\n",
      "Error indexing Monkey Wrench (ID 392): cannot unpack non-iterable NoneType object\n",
      "Downloading audio from https://www.youtube.com/watch?v=EqWRaAF6_WY...\n"
     ]
    },
    {
     "name": "stderr",
     "output_type": "stream",
     "text": [
      "ERROR: [youtube] EqWRaAF6_WY: Sign in to confirm you’re not a bot. Use --cookies-from-browser or --cookies for the authentication. See  https://github.com/yt-dlp/yt-dlp/wiki/FAQ#how-do-i-pass-cookies-to-yt-dlp  for how to manually pass cookies. Also see  https://github.com/yt-dlp/yt-dlp/wiki/Extractors#exporting-youtube-cookies  for tips on effectively exporting YouTube cookies\n"
     ]
    },
    {
     "name": "stdout",
     "output_type": "stream",
     "text": [
      "[Attempt 1] Download error: ERROR: [youtube] EqWRaAF6_WY: Sign in to confirm you’re not a bot. Use --cookies-from-browser or --cookies for the authentication. See  https://github.com/yt-dlp/yt-dlp/wiki/FAQ#how-do-i-pass-cookies-to-yt-dlp  for how to manually pass cookies. Also see  https://github.com/yt-dlp/yt-dlp/wiki/Extractors#exporting-youtube-cookies  for tips on effectively exporting YouTube cookies\n"
     ]
    },
    {
     "name": "stderr",
     "output_type": "stream",
     "text": [
      "ERROR: [youtube] EqWRaAF6_WY: Sign in to confirm you’re not a bot. Use --cookies-from-browser or --cookies for the authentication. See  https://github.com/yt-dlp/yt-dlp/wiki/FAQ#how-do-i-pass-cookies-to-yt-dlp  for how to manually pass cookies. Also see  https://github.com/yt-dlp/yt-dlp/wiki/Extractors#exporting-youtube-cookies  for tips on effectively exporting YouTube cookies\n",
      " 76%|███████▌  | 374/491 [1:25:51<22:45, 11.67s/it]"
     ]
    },
    {
     "name": "stdout",
     "output_type": "stream",
     "text": [
      "[Attempt 2] Download error: ERROR: [youtube] EqWRaAF6_WY: Sign in to confirm you’re not a bot. Use --cookies-from-browser or --cookies for the authentication. See  https://github.com/yt-dlp/yt-dlp/wiki/FAQ#how-do-i-pass-cookies-to-yt-dlp  for how to manually pass cookies. Also see  https://github.com/yt-dlp/yt-dlp/wiki/Extractors#exporting-youtube-cookies  for tips on effectively exporting YouTube cookies\n",
      "Error indexing My Hero (ID 393): cannot unpack non-iterable NoneType object\n",
      "Downloading audio from https://www.youtube.com/watch?v=kbpqZT_56Ns...\n"
     ]
    },
    {
     "name": "stderr",
     "output_type": "stream",
     "text": [
      "ERROR: [youtube] kbpqZT_56Ns: Sign in to confirm you’re not a bot. Use --cookies-from-browser or --cookies for the authentication. See  https://github.com/yt-dlp/yt-dlp/wiki/FAQ#how-do-i-pass-cookies-to-yt-dlp  for how to manually pass cookies. Also see  https://github.com/yt-dlp/yt-dlp/wiki/Extractors#exporting-youtube-cookies  for tips on effectively exporting YouTube cookies\n"
     ]
    },
    {
     "name": "stdout",
     "output_type": "stream",
     "text": [
      "[Attempt 1] Download error: ERROR: [youtube] kbpqZT_56Ns: Sign in to confirm you’re not a bot. Use --cookies-from-browser or --cookies for the authentication. See  https://github.com/yt-dlp/yt-dlp/wiki/FAQ#how-do-i-pass-cookies-to-yt-dlp  for how to manually pass cookies. Also see  https://github.com/yt-dlp/yt-dlp/wiki/Extractors#exporting-youtube-cookies  for tips on effectively exporting YouTube cookies\n"
     ]
    },
    {
     "name": "stderr",
     "output_type": "stream",
     "text": [
      "ERROR: [youtube] kbpqZT_56Ns: Sign in to confirm you’re not a bot. Use --cookies-from-browser or --cookies for the authentication. See  https://github.com/yt-dlp/yt-dlp/wiki/FAQ#how-do-i-pass-cookies-to-yt-dlp  for how to manually pass cookies. Also see  https://github.com/yt-dlp/yt-dlp/wiki/Extractors#exporting-youtube-cookies  for tips on effectively exporting YouTube cookies\n",
      " 76%|███████▋  | 375/491 [1:25:53<16:59,  8.79s/it]"
     ]
    },
    {
     "name": "stdout",
     "output_type": "stream",
     "text": [
      "[Attempt 2] Download error: ERROR: [youtube] kbpqZT_56Ns: Sign in to confirm you’re not a bot. Use --cookies-from-browser or --cookies for the authentication. See  https://github.com/yt-dlp/yt-dlp/wiki/FAQ#how-do-i-pass-cookies-to-yt-dlp  for how to manually pass cookies. Also see  https://github.com/yt-dlp/yt-dlp/wiki/Extractors#exporting-youtube-cookies  for tips on effectively exporting YouTube cookies\n",
      "Error indexing Rope (ID 394): cannot unpack non-iterable NoneType object\n",
      "Downloading audio from https://www.youtube.com/watch?v=SBjQ9tuuTJQ...\n"
     ]
    },
    {
     "name": "stderr",
     "output_type": "stream",
     "text": [
      "ERROR: [youtube] SBjQ9tuuTJQ: Sign in to confirm you’re not a bot. Use --cookies-from-browser or --cookies for the authentication. See  https://github.com/yt-dlp/yt-dlp/wiki/FAQ#how-do-i-pass-cookies-to-yt-dlp  for how to manually pass cookies. Also see  https://github.com/yt-dlp/yt-dlp/wiki/Extractors#exporting-youtube-cookies  for tips on effectively exporting YouTube cookies\n"
     ]
    },
    {
     "name": "stdout",
     "output_type": "stream",
     "text": [
      "[Attempt 1] Download error: ERROR: [youtube] SBjQ9tuuTJQ: Sign in to confirm you’re not a bot. Use --cookies-from-browser or --cookies for the authentication. See  https://github.com/yt-dlp/yt-dlp/wiki/FAQ#how-do-i-pass-cookies-to-yt-dlp  for how to manually pass cookies. Also see  https://github.com/yt-dlp/yt-dlp/wiki/Extractors#exporting-youtube-cookies  for tips on effectively exporting YouTube cookies\n"
     ]
    },
    {
     "name": "stderr",
     "output_type": "stream",
     "text": [
      "ERROR: [youtube] SBjQ9tuuTJQ: Sign in to confirm you’re not a bot. Use --cookies-from-browser or --cookies for the authentication. See  https://github.com/yt-dlp/yt-dlp/wiki/FAQ#how-do-i-pass-cookies-to-yt-dlp  for how to manually pass cookies. Also see  https://github.com/yt-dlp/yt-dlp/wiki/Extractors#exporting-youtube-cookies  for tips on effectively exporting YouTube cookies\n",
      " 77%|███████▋  | 376/491 [1:25:56<13:06,  6.84s/it]"
     ]
    },
    {
     "name": "stdout",
     "output_type": "stream",
     "text": [
      "[Attempt 2] Download error: ERROR: [youtube] SBjQ9tuuTJQ: Sign in to confirm you’re not a bot. Use --cookies-from-browser or --cookies for the authentication. See  https://github.com/yt-dlp/yt-dlp/wiki/FAQ#how-do-i-pass-cookies-to-yt-dlp  for how to manually pass cookies. Also see  https://github.com/yt-dlp/yt-dlp/wiki/Extractors#exporting-youtube-cookies  for tips on effectively exporting YouTube cookies\n",
      "Error indexing The Pretender (ID 395): cannot unpack non-iterable NoneType object\n",
      "Downloading audio from https://www.youtube.com/watch?v=YDVAQI-4lto...\n"
     ]
    },
    {
     "name": "stderr",
     "output_type": "stream",
     "text": [
      "ERROR: [youtube] YDVAQI-4lto: Sign in to confirm you’re not a bot. Use --cookies-from-browser or --cookies for the authentication. See  https://github.com/yt-dlp/yt-dlp/wiki/FAQ#how-do-i-pass-cookies-to-yt-dlp  for how to manually pass cookies. Also see  https://github.com/yt-dlp/yt-dlp/wiki/Extractors#exporting-youtube-cookies  for tips on effectively exporting YouTube cookies\n"
     ]
    },
    {
     "name": "stdout",
     "output_type": "stream",
     "text": [
      "[Attempt 1] Download error: ERROR: [youtube] YDVAQI-4lto: Sign in to confirm you’re not a bot. Use --cookies-from-browser or --cookies for the authentication. See  https://github.com/yt-dlp/yt-dlp/wiki/FAQ#how-do-i-pass-cookies-to-yt-dlp  for how to manually pass cookies. Also see  https://github.com/yt-dlp/yt-dlp/wiki/Extractors#exporting-youtube-cookies  for tips on effectively exporting YouTube cookies\n"
     ]
    },
    {
     "name": "stderr",
     "output_type": "stream",
     "text": [
      "ERROR: [youtube] YDVAQI-4lto: Sign in to confirm you’re not a bot. Use --cookies-from-browser or --cookies for the authentication. See  https://github.com/yt-dlp/yt-dlp/wiki/FAQ#how-do-i-pass-cookies-to-yt-dlp  for how to manually pass cookies. Also see  https://github.com/yt-dlp/yt-dlp/wiki/Extractors#exporting-youtube-cookies  for tips on effectively exporting YouTube cookies\n",
      " 77%|███████▋  | 377/491 [1:25:58<10:23,  5.47s/it]"
     ]
    },
    {
     "name": "stdout",
     "output_type": "stream",
     "text": [
      "[Attempt 2] Download error: ERROR: [youtube] YDVAQI-4lto: Sign in to confirm you’re not a bot. Use --cookies-from-browser or --cookies for the authentication. See  https://github.com/yt-dlp/yt-dlp/wiki/FAQ#how-do-i-pass-cookies-to-yt-dlp  for how to manually pass cookies. Also see  https://github.com/yt-dlp/yt-dlp/wiki/Extractors#exporting-youtube-cookies  for tips on effectively exporting YouTube cookies\n",
      "Error indexing These Days (ID 396): cannot unpack non-iterable NoneType object\n",
      "Downloading audio from https://www.youtube.com/watch?v=h-Rnr3wTX9I...\n"
     ]
    },
    {
     "name": "stderr",
     "output_type": "stream",
     "text": [
      "ERROR: [youtube] h-Rnr3wTX9I: Sign in to confirm you’re not a bot. Use --cookies-from-browser or --cookies for the authentication. See  https://github.com/yt-dlp/yt-dlp/wiki/FAQ#how-do-i-pass-cookies-to-yt-dlp  for how to manually pass cookies. Also see  https://github.com/yt-dlp/yt-dlp/wiki/Extractors#exporting-youtube-cookies  for tips on effectively exporting YouTube cookies\n"
     ]
    },
    {
     "name": "stdout",
     "output_type": "stream",
     "text": [
      "[Attempt 1] Download error: ERROR: [youtube] h-Rnr3wTX9I: Sign in to confirm you’re not a bot. Use --cookies-from-browser or --cookies for the authentication. See  https://github.com/yt-dlp/yt-dlp/wiki/FAQ#how-do-i-pass-cookies-to-yt-dlp  for how to manually pass cookies. Also see  https://github.com/yt-dlp/yt-dlp/wiki/Extractors#exporting-youtube-cookies  for tips on effectively exporting YouTube cookies\n"
     ]
    },
    {
     "name": "stderr",
     "output_type": "stream",
     "text": [
      "ERROR: [youtube] h-Rnr3wTX9I: Sign in to confirm you’re not a bot. Use --cookies-from-browser or --cookies for the authentication. See  https://github.com/yt-dlp/yt-dlp/wiki/FAQ#how-do-i-pass-cookies-to-yt-dlp  for how to manually pass cookies. Also see  https://github.com/yt-dlp/yt-dlp/wiki/Extractors#exporting-youtube-cookies  for tips on effectively exporting YouTube cookies\n",
      " 77%|███████▋  | 378/491 [1:26:00<08:18,  4.41s/it]"
     ]
    },
    {
     "name": "stdout",
     "output_type": "stream",
     "text": [
      "[Attempt 2] Download error: ERROR: [youtube] h-Rnr3wTX9I: Sign in to confirm you’re not a bot. Use --cookies-from-browser or --cookies for the authentication. See  https://github.com/yt-dlp/yt-dlp/wiki/FAQ#how-do-i-pass-cookies-to-yt-dlp  for how to manually pass cookies. Also see  https://github.com/yt-dlp/yt-dlp/wiki/Extractors#exporting-youtube-cookies  for tips on effectively exporting YouTube cookies\n",
      "Error indexing This Is a Call (ID 397): cannot unpack non-iterable NoneType object\n",
      "Downloading audio from https://www.youtube.com/watch?v=rhzmNRtIp8k...\n"
     ]
    },
    {
     "name": "stderr",
     "output_type": "stream",
     "text": [
      "ERROR: [youtube] rhzmNRtIp8k: Sign in to confirm you’re not a bot. Use --cookies-from-browser or --cookies for the authentication. See  https://github.com/yt-dlp/yt-dlp/wiki/FAQ#how-do-i-pass-cookies-to-yt-dlp  for how to manually pass cookies. Also see  https://github.com/yt-dlp/yt-dlp/wiki/Extractors#exporting-youtube-cookies  for tips on effectively exporting YouTube cookies\n"
     ]
    },
    {
     "name": "stdout",
     "output_type": "stream",
     "text": [
      "[Attempt 1] Download error: ERROR: [youtube] rhzmNRtIp8k: Sign in to confirm you’re not a bot. Use --cookies-from-browser or --cookies for the authentication. See  https://github.com/yt-dlp/yt-dlp/wiki/FAQ#how-do-i-pass-cookies-to-yt-dlp  for how to manually pass cookies. Also see  https://github.com/yt-dlp/yt-dlp/wiki/Extractors#exporting-youtube-cookies  for tips on effectively exporting YouTube cookies\n"
     ]
    },
    {
     "name": "stderr",
     "output_type": "stream",
     "text": [
      " 77%|███████▋  | 379/491 [1:26:02<06:43,  3.61s/it]"
     ]
    },
    {
     "name": "stdout",
     "output_type": "stream",
     "text": [
      "Downloading audio from https://www.youtube.com/watch?v=4PkcfQtibmU...\n"
     ]
    },
    {
     "name": "stderr",
     "output_type": "stream",
     "text": [
      "ERROR: [youtube] rhzmNRtIp8k: Sign in to confirm you’re not a bot. Use --cookies-from-browser or --cookies for the authentication. See  https://github.com/yt-dlp/yt-dlp/wiki/FAQ#how-do-i-pass-cookies-to-yt-dlp  for how to manually pass cookies. Also see  https://github.com/yt-dlp/yt-dlp/wiki/Extractors#exporting-youtube-cookies  for tips on effectively exporting YouTube cookies\n",
      " 77%|███████▋  | 380/491 [1:26:02<04:52,  2.63s/it]"
     ]
    },
    {
     "name": "stdout",
     "output_type": "stream",
     "text": [
      "[Attempt 2] Download error: ERROR: [youtube] rhzmNRtIp8k: Sign in to confirm you’re not a bot. Use --cookies-from-browser or --cookies for the authentication. See  https://github.com/yt-dlp/yt-dlp/wiki/FAQ#how-do-i-pass-cookies-to-yt-dlp  for how to manually pass cookies. Also see  https://github.com/yt-dlp/yt-dlp/wiki/Extractors#exporting-youtube-cookies  for tips on effectively exporting YouTube cookies\n",
      "Error indexing Times Like These (ID 398): cannot unpack non-iterable NoneType object\n",
      "Downloading audio from https://www.youtube.com/watch?v=T74CuSiZ63w...\n"
     ]
    },
    {
     "name": "stderr",
     "output_type": "stream",
     "text": [
      "ERROR: [youtube] 4PkcfQtibmU: Sign in to confirm you’re not a bot. Use --cookies-from-browser or --cookies for the authentication. See  https://github.com/yt-dlp/yt-dlp/wiki/FAQ#how-do-i-pass-cookies-to-yt-dlp  for how to manually pass cookies. Also see  https://github.com/yt-dlp/yt-dlp/wiki/Extractors#exporting-youtube-cookies  for tips on effectively exporting YouTube cookies\n",
      "ERROR: [youtube] T74CuSiZ63w: Sign in to confirm you’re not a bot. Use --cookies-from-browser or --cookies for the authentication. See  https://github.com/yt-dlp/yt-dlp/wiki/FAQ#how-do-i-pass-cookies-to-yt-dlp  for how to manually pass cookies. Also see  https://github.com/yt-dlp/yt-dlp/wiki/Extractors#exporting-youtube-cookies  for tips on effectively exporting YouTube cookies\n"
     ]
    },
    {
     "name": "stdout",
     "output_type": "stream",
     "text": [
      "[Attempt 1] Download error: ERROR: [youtube] 4PkcfQtibmU: Sign in to confirm you’re not a bot. Use --cookies-from-browser or --cookies for the authentication. See  https://github.com/yt-dlp/yt-dlp/wiki/FAQ#how-do-i-pass-cookies-to-yt-dlp  for how to manually pass cookies. Also see  https://github.com/yt-dlp/yt-dlp/wiki/Extractors#exporting-youtube-cookies  for tips on effectively exporting YouTube cookies\n",
      "[Attempt 1] Download error: ERROR: [youtube] T74CuSiZ63w: Sign in to confirm you’re not a bot. Use --cookies-from-browser or --cookies for the authentication. See  https://github.com/yt-dlp/yt-dlp/wiki/FAQ#how-do-i-pass-cookies-to-yt-dlp  for how to manually pass cookies. Also see  https://github.com/yt-dlp/yt-dlp/wiki/Extractors#exporting-youtube-cookies  for tips on effectively exporting YouTube cookies\n"
     ]
    },
    {
     "name": "stderr",
     "output_type": "stream",
     "text": [
      "ERROR: [youtube] T74CuSiZ63w: Sign in to confirm you’re not a bot. Use --cookies-from-browser or --cookies for the authentication. See  https://github.com/yt-dlp/yt-dlp/wiki/FAQ#how-do-i-pass-cookies-to-yt-dlp  for how to manually pass cookies. Also see  https://github.com/yt-dlp/yt-dlp/wiki/Extractors#exporting-youtube-cookies  for tips on effectively exporting YouTube cookies\n",
      " 78%|███████▊  | 381/491 [1:26:04<04:30,  2.46s/it]ERROR: [youtube] 4PkcfQtibmU: Sign in to confirm you’re not a bot. Use --cookies-from-browser or --cookies for the authentication. See  https://github.com/yt-dlp/yt-dlp/wiki/FAQ#how-do-i-pass-cookies-to-yt-dlp  for how to manually pass cookies. Also see  https://github.com/yt-dlp/yt-dlp/wiki/Extractors#exporting-youtube-cookies  for tips on effectively exporting YouTube cookies\n"
     ]
    },
    {
     "name": "stdout",
     "output_type": "stream",
     "text": [
      "[Attempt 2] Download error: ERROR: [youtube] T74CuSiZ63w: Sign in to confirm you’re not a bot. Use --cookies-from-browser or --cookies for the authentication. See  https://github.com/yt-dlp/yt-dlp/wiki/FAQ#how-do-i-pass-cookies-to-yt-dlp  for how to manually pass cookies. Also see  https://github.com/yt-dlp/yt-dlp/wiki/Extractors#exporting-youtube-cookies  for tips on effectively exporting YouTube cookies\n",
      "Error indexing Wheels (ID 400): cannot unpack non-iterable NoneType object\n",
      "Downloading audio from https://www.youtube.com/watch?v=IPWHkK-_a_A...\n",
      "[Attempt 2] Download error: ERROR: [youtube] 4PkcfQtibmU: Sign in to confirm you’re not a bot. Use --cookies-from-browser or --cookies for the authentication. See  https://github.com/yt-dlp/yt-dlp/wiki/FAQ#how-do-i-pass-cookies-to-yt-dlp  for how to manually pass cookies. Also see  https://github.com/yt-dlp/yt-dlp/wiki/Extractors#exporting-youtube-cookies  for tips on effectively exporting YouTube cookies\n",
      "Error indexing Walk (ID 399): cannot unpack non-iterable NoneType object\n",
      "Downloading audio from https://www.youtube.com/watch?v=6YziZ1FlAWs...\n"
     ]
    },
    {
     "name": "stderr",
     "output_type": "stream",
     "text": [
      "ERROR: [youtube] 6YziZ1FlAWs: Sign in to confirm you’re not a bot. Use --cookies-from-browser or --cookies for the authentication. See  https://github.com/yt-dlp/yt-dlp/wiki/FAQ#how-do-i-pass-cookies-to-yt-dlp  for how to manually pass cookies. Also see  https://github.com/yt-dlp/yt-dlp/wiki/Extractors#exporting-youtube-cookies  for tips on effectively exporting YouTube cookies\n",
      "ERROR: [youtube] IPWHkK-_a_A: Sign in to confirm you’re not a bot. Use --cookies-from-browser or --cookies for the authentication. See  https://github.com/yt-dlp/yt-dlp/wiki/FAQ#how-do-i-pass-cookies-to-yt-dlp  for how to manually pass cookies. Also see  https://github.com/yt-dlp/yt-dlp/wiki/Extractors#exporting-youtube-cookies  for tips on effectively exporting YouTube cookies\n"
     ]
    },
    {
     "name": "stdout",
     "output_type": "stream",
     "text": [
      "[Attempt 1] Download error: ERROR: [youtube] 6YziZ1FlAWs: Sign in to confirm you’re not a bot. Use --cookies-from-browser or --cookies for the authentication. See  https://github.com/yt-dlp/yt-dlp/wiki/FAQ#how-do-i-pass-cookies-to-yt-dlp  for how to manually pass cookies. Also see  https://github.com/yt-dlp/yt-dlp/wiki/Extractors#exporting-youtube-cookies  for tips on effectively exporting YouTube cookies\n",
      "[Attempt 1] Download error: ERROR: [youtube] IPWHkK-_a_A: Sign in to confirm you’re not a bot. Use --cookies-from-browser or --cookies for the authentication. See  https://github.com/yt-dlp/yt-dlp/wiki/FAQ#how-do-i-pass-cookies-to-yt-dlp  for how to manually pass cookies. Also see  https://github.com/yt-dlp/yt-dlp/wiki/Extractors#exporting-youtube-cookies  for tips on effectively exporting YouTube cookies\n"
     ]
    },
    {
     "name": "stderr",
     "output_type": "stream",
     "text": [
      "ERROR: [youtube] IPWHkK-_a_A: Sign in to confirm you’re not a bot. Use --cookies-from-browser or --cookies for the authentication. See  https://github.com/yt-dlp/yt-dlp/wiki/FAQ#how-do-i-pass-cookies-to-yt-dlp  for how to manually pass cookies. Also see  https://github.com/yt-dlp/yt-dlp/wiki/Extractors#exporting-youtube-cookies  for tips on effectively exporting YouTube cookies\n",
      " 78%|███████▊  | 383/491 [1:26:06<03:15,  1.81s/it]ERROR: [youtube] 6YziZ1FlAWs: Sign in to confirm you’re not a bot. Use --cookies-from-browser or --cookies for the authentication. See  https://github.com/yt-dlp/yt-dlp/wiki/FAQ#how-do-i-pass-cookies-to-yt-dlp  for how to manually pass cookies. Also see  https://github.com/yt-dlp/yt-dlp/wiki/Extractors#exporting-youtube-cookies  for tips on effectively exporting YouTube cookies\n"
     ]
    },
    {
     "name": "stdout",
     "output_type": "stream",
     "text": [
      "[Attempt 2] Download error: ERROR: [youtube] IPWHkK-_a_A: Sign in to confirm you’re not a bot. Use --cookies-from-browser or --cookies for the authentication. See  https://github.com/yt-dlp/yt-dlp/wiki/FAQ#how-do-i-pass-cookies-to-yt-dlp  for how to manually pass cookies. Also see  https://github.com/yt-dlp/yt-dlp/wiki/Extractors#exporting-youtube-cookies  for tips on effectively exporting YouTube cookies\n",
      "Error indexing A Different Corner (ID 401): cannot unpack non-iterable NoneType object\n",
      "Downloading audio from https://www.youtube.com/watch?v=izGwDsrQ1eQ...\n",
      "[Attempt 2] Download error: ERROR: [youtube] 6YziZ1FlAWs: Sign in to confirm you’re not a bot. Use --cookies-from-browser or --cookies for the authentication. See  https://github.com/yt-dlp/yt-dlp/wiki/FAQ#how-do-i-pass-cookies-to-yt-dlp  for how to manually pass cookies. Also see  https://github.com/yt-dlp/yt-dlp/wiki/Extractors#exporting-youtube-cookies  for tips on effectively exporting YouTube cookies\n",
      "Error indexing Amazing (ID 402): cannot unpack non-iterable NoneType object\n",
      "Downloading audio from https://www.youtube.com/watch?v=fyMbjVhCzw4...\n"
     ]
    },
    {
     "name": "stderr",
     "output_type": "stream",
     "text": [
      "ERROR: [youtube] izGwDsrQ1eQ: Sign in to confirm you’re not a bot. Use --cookies-from-browser or --cookies for the authentication. See  https://github.com/yt-dlp/yt-dlp/wiki/FAQ#how-do-i-pass-cookies-to-yt-dlp  for how to manually pass cookies. Also see  https://github.com/yt-dlp/yt-dlp/wiki/Extractors#exporting-youtube-cookies  for tips on effectively exporting YouTube cookies\n",
      "ERROR: [youtube] fyMbjVhCzw4: Sign in to confirm you’re not a bot. Use --cookies-from-browser or --cookies for the authentication. See  https://github.com/yt-dlp/yt-dlp/wiki/FAQ#how-do-i-pass-cookies-to-yt-dlp  for how to manually pass cookies. Also see  https://github.com/yt-dlp/yt-dlp/wiki/Extractors#exporting-youtube-cookies  for tips on effectively exporting YouTube cookies\n"
     ]
    },
    {
     "name": "stdout",
     "output_type": "stream",
     "text": [
      "[Attempt 1] Download error: ERROR: [youtube] izGwDsrQ1eQ: Sign in to confirm you’re not a bot. Use --cookies-from-browser or --cookies for the authentication. See  https://github.com/yt-dlp/yt-dlp/wiki/FAQ#how-do-i-pass-cookies-to-yt-dlp  for how to manually pass cookies. Also see  https://github.com/yt-dlp/yt-dlp/wiki/Extractors#exporting-youtube-cookies  for tips on effectively exporting YouTube cookies\n",
      "[Attempt 1] Download error: ERROR: [youtube] fyMbjVhCzw4: Sign in to confirm you’re not a bot. Use --cookies-from-browser or --cookies for the authentication. See  https://github.com/yt-dlp/yt-dlp/wiki/FAQ#how-do-i-pass-cookies-to-yt-dlp  for how to manually pass cookies. Also see  https://github.com/yt-dlp/yt-dlp/wiki/Extractors#exporting-youtube-cookies  for tips on effectively exporting YouTube cookies\n"
     ]
    },
    {
     "name": "stderr",
     "output_type": "stream",
     "text": [
      "ERROR: [youtube] izGwDsrQ1eQ: Sign in to confirm you’re not a bot. Use --cookies-from-browser or --cookies for the authentication. See  https://github.com/yt-dlp/yt-dlp/wiki/FAQ#how-do-i-pass-cookies-to-yt-dlp  for how to manually pass cookies. Also see  https://github.com/yt-dlp/yt-dlp/wiki/Extractors#exporting-youtube-cookies  for tips on effectively exporting YouTube cookies\n",
      " 78%|███████▊  | 385/491 [1:26:08<02:42,  1.53s/it]"
     ]
    },
    {
     "name": "stdout",
     "output_type": "stream",
     "text": [
      "[Attempt 2] Download error: ERROR: [youtube] izGwDsrQ1eQ: Sign in to confirm you’re not a bot. Use --cookies-from-browser or --cookies for the authentication. See  https://github.com/yt-dlp/yt-dlp/wiki/FAQ#how-do-i-pass-cookies-to-yt-dlp  for how to manually pass cookies. Also see  https://github.com/yt-dlp/yt-dlp/wiki/Extractors#exporting-youtube-cookies  for tips on effectively exporting YouTube cookies\n",
      "Error indexing Careless Whisper (ID 403): cannot unpack non-iterable NoneType object\n",
      "Downloading audio from https://www.youtube.com/watch?v=N61LHFFfiik...\n"
     ]
    },
    {
     "name": "stderr",
     "output_type": "stream",
     "text": [
      "ERROR: [youtube] fyMbjVhCzw4: Sign in to confirm you’re not a bot. Use --cookies-from-browser or --cookies for the authentication. See  https://github.com/yt-dlp/yt-dlp/wiki/FAQ#how-do-i-pass-cookies-to-yt-dlp  for how to manually pass cookies. Also see  https://github.com/yt-dlp/yt-dlp/wiki/Extractors#exporting-youtube-cookies  for tips on effectively exporting YouTube cookies\n",
      " 79%|███████▊  | 386/491 [1:26:09<02:11,  1.26s/it]"
     ]
    },
    {
     "name": "stdout",
     "output_type": "stream",
     "text": [
      "[Attempt 2] Download error: ERROR: [youtube] fyMbjVhCzw4: Sign in to confirm you’re not a bot. Use --cookies-from-browser or --cookies for the authentication. See  https://github.com/yt-dlp/yt-dlp/wiki/FAQ#how-do-i-pass-cookies-to-yt-dlp  for how to manually pass cookies. Also see  https://github.com/yt-dlp/yt-dlp/wiki/Extractors#exporting-youtube-cookies  for tips on effectively exporting YouTube cookies\n",
      "Error indexing Careless Whisper - Remastered (ID 404): cannot unpack non-iterable NoneType object\n",
      "Downloading audio from https://www.youtube.com/watch?v=SHAQlFq6TFg...\n"
     ]
    },
    {
     "name": "stderr",
     "output_type": "stream",
     "text": [
      "ERROR: [youtube] N61LHFFfiik: Sign in to confirm you’re not a bot. Use --cookies-from-browser or --cookies for the authentication. See  https://github.com/yt-dlp/yt-dlp/wiki/FAQ#how-do-i-pass-cookies-to-yt-dlp  for how to manually pass cookies. Also see  https://github.com/yt-dlp/yt-dlp/wiki/Extractors#exporting-youtube-cookies  for tips on effectively exporting YouTube cookies\n",
      "ERROR: [youtube] SHAQlFq6TFg: Sign in to confirm you’re not a bot. Use --cookies-from-browser or --cookies for the authentication. See  https://github.com/yt-dlp/yt-dlp/wiki/FAQ#how-do-i-pass-cookies-to-yt-dlp  for how to manually pass cookies. Also see  https://github.com/yt-dlp/yt-dlp/wiki/Extractors#exporting-youtube-cookies  for tips on effectively exporting YouTube cookies\n"
     ]
    },
    {
     "name": "stdout",
     "output_type": "stream",
     "text": [
      "[Attempt 1] Download error: ERROR: [youtube] N61LHFFfiik: Sign in to confirm you’re not a bot. Use --cookies-from-browser or --cookies for the authentication. See  https://github.com/yt-dlp/yt-dlp/wiki/FAQ#how-do-i-pass-cookies-to-yt-dlp  for how to manually pass cookies. Also see  https://github.com/yt-dlp/yt-dlp/wiki/Extractors#exporting-youtube-cookies  for tips on effectively exporting YouTube cookies\n",
      "[Attempt 1] Download error: ERROR: [youtube] SHAQlFq6TFg: Sign in to confirm you’re not a bot. Use --cookies-from-browser or --cookies for the authentication. See  https://github.com/yt-dlp/yt-dlp/wiki/FAQ#how-do-i-pass-cookies-to-yt-dlp  for how to manually pass cookies. Also see  https://github.com/yt-dlp/yt-dlp/wiki/Extractors#exporting-youtube-cookies  for tips on effectively exporting YouTube cookies\n"
     ]
    },
    {
     "name": "stderr",
     "output_type": "stream",
     "text": [
      "ERROR: [youtube] N61LHFFfiik: Sign in to confirm you’re not a bot. Use --cookies-from-browser or --cookies for the authentication. See  https://github.com/yt-dlp/yt-dlp/wiki/FAQ#how-do-i-pass-cookies-to-yt-dlp  for how to manually pass cookies. Also see  https://github.com/yt-dlp/yt-dlp/wiki/Extractors#exporting-youtube-cookies  for tips on effectively exporting YouTube cookies\n",
      " 79%|███████▉  | 387/491 [1:26:10<02:26,  1.41s/it]ERROR: [youtube] SHAQlFq6TFg: Sign in to confirm you’re not a bot. Use --cookies-from-browser or --cookies for the authentication. See  https://github.com/yt-dlp/yt-dlp/wiki/FAQ#how-do-i-pass-cookies-to-yt-dlp  for how to manually pass cookies. Also see  https://github.com/yt-dlp/yt-dlp/wiki/Extractors#exporting-youtube-cookies  for tips on effectively exporting YouTube cookies\n",
      " 79%|███████▉  | 388/491 [1:26:11<01:52,  1.10s/it]"
     ]
    },
    {
     "name": "stdout",
     "output_type": "stream",
     "text": [
      "[Attempt 2] Download error: ERROR: [youtube] N61LHFFfiik: Sign in to confirm you’re not a bot. Use --cookies-from-browser or --cookies for the authentication. See  https://github.com/yt-dlp/yt-dlp/wiki/FAQ#how-do-i-pass-cookies-to-yt-dlp  for how to manually pass cookies. Also see  https://github.com/yt-dlp/yt-dlp/wiki/Extractors#exporting-youtube-cookies  for tips on effectively exporting YouTube cookies\n",
      "Error indexing Faith - Remastered (ID 405): cannot unpack non-iterable NoneType object\n",
      "Downloading audio from https://www.youtube.com/watch?v=udtByWgt1Mk...\n",
      "[Attempt 2] Download error: ERROR: [youtube] SHAQlFq6TFg: Sign in to confirm you’re not a bot. Use --cookies-from-browser or --cookies for the authentication. See  https://github.com/yt-dlp/yt-dlp/wiki/FAQ#how-do-i-pass-cookies-to-yt-dlp  for how to manually pass cookies. Also see  https://github.com/yt-dlp/yt-dlp/wiki/Extractors#exporting-youtube-cookies  for tips on effectively exporting YouTube cookies\n",
      "Error indexing Fastlove, Pt. 1 (ID 406): cannot unpack non-iterable NoneType object\n",
      "Downloading audio from https://www.youtube.com/watch?v=diYAc7gB-0A...\n"
     ]
    },
    {
     "name": "stderr",
     "output_type": "stream",
     "text": [
      "ERROR: [youtube] udtByWgt1Mk: Sign in to confirm you’re not a bot. Use --cookies-from-browser or --cookies for the authentication. See  https://github.com/yt-dlp/yt-dlp/wiki/FAQ#how-do-i-pass-cookies-to-yt-dlp  for how to manually pass cookies. Also see  https://github.com/yt-dlp/yt-dlp/wiki/Extractors#exporting-youtube-cookies  for tips on effectively exporting YouTube cookies\n",
      "ERROR: [youtube] diYAc7gB-0A: Sign in to confirm you’re not a bot. Use --cookies-from-browser or --cookies for the authentication. See  https://github.com/yt-dlp/yt-dlp/wiki/FAQ#how-do-i-pass-cookies-to-yt-dlp  for how to manually pass cookies. Also see  https://github.com/yt-dlp/yt-dlp/wiki/Extractors#exporting-youtube-cookies  for tips on effectively exporting YouTube cookies\n"
     ]
    },
    {
     "name": "stdout",
     "output_type": "stream",
     "text": [
      "[Attempt 1] Download error: ERROR: [youtube] udtByWgt1Mk: Sign in to confirm you’re not a bot. Use --cookies-from-browser or --cookies for the authentication. See  https://github.com/yt-dlp/yt-dlp/wiki/FAQ#how-do-i-pass-cookies-to-yt-dlp  for how to manually pass cookies. Also see  https://github.com/yt-dlp/yt-dlp/wiki/Extractors#exporting-youtube-cookies  for tips on effectively exporting YouTube cookies\n",
      "[Attempt 1] Download error: ERROR: [youtube] diYAc7gB-0A: Sign in to confirm you’re not a bot. Use --cookies-from-browser or --cookies for the authentication. See  https://github.com/yt-dlp/yt-dlp/wiki/FAQ#how-do-i-pass-cookies-to-yt-dlp  for how to manually pass cookies. Also see  https://github.com/yt-dlp/yt-dlp/wiki/Extractors#exporting-youtube-cookies  for tips on effectively exporting YouTube cookies\n"
     ]
    },
    {
     "name": "stderr",
     "output_type": "stream",
     "text": [
      "ERROR: [youtube] udtByWgt1Mk: Sign in to confirm you’re not a bot. Use --cookies-from-browser or --cookies for the authentication. See  https://github.com/yt-dlp/yt-dlp/wiki/FAQ#how-do-i-pass-cookies-to-yt-dlp  for how to manually pass cookies. Also see  https://github.com/yt-dlp/yt-dlp/wiki/Extractors#exporting-youtube-cookies  for tips on effectively exporting YouTube cookies\n",
      " 79%|███████▉  | 389/491 [1:26:13<02:17,  1.35s/it]"
     ]
    },
    {
     "name": "stdout",
     "output_type": "stream",
     "text": [
      "[Attempt 2] Download error: ERROR: [youtube] udtByWgt1Mk: Sign in to confirm you’re not a bot. Use --cookies-from-browser or --cookies for the authentication. See  https://github.com/yt-dlp/yt-dlp/wiki/FAQ#how-do-i-pass-cookies-to-yt-dlp  for how to manually pass cookies. Also see  https://github.com/yt-dlp/yt-dlp/wiki/Extractors#exporting-youtube-cookies  for tips on effectively exporting YouTube cookies\n",
      "Error indexing Father Figure - Remastered (ID 407): cannot unpack non-iterable NoneType object\n",
      "Downloading audio from https://www.youtube.com/watch?v=r3AP26ywQsQ...\n"
     ]
    },
    {
     "name": "stderr",
     "output_type": "stream",
     "text": [
      "ERROR: [youtube] diYAc7gB-0A: Sign in to confirm you’re not a bot. Use --cookies-from-browser or --cookies for the authentication. See  https://github.com/yt-dlp/yt-dlp/wiki/FAQ#how-do-i-pass-cookies-to-yt-dlp  for how to manually pass cookies. Also see  https://github.com/yt-dlp/yt-dlp/wiki/Extractors#exporting-youtube-cookies  for tips on effectively exporting YouTube cookies\n",
      " 79%|███████▉  | 390/491 [1:26:13<01:45,  1.05s/it]"
     ]
    },
    {
     "name": "stdout",
     "output_type": "stream",
     "text": [
      "[Attempt 2] Download error: ERROR: [youtube] diYAc7gB-0A: Sign in to confirm you’re not a bot. Use --cookies-from-browser or --cookies for the authentication. See  https://github.com/yt-dlp/yt-dlp/wiki/FAQ#how-do-i-pass-cookies-to-yt-dlp  for how to manually pass cookies. Also see  https://github.com/yt-dlp/yt-dlp/wiki/Extractors#exporting-youtube-cookies  for tips on effectively exporting YouTube cookies\n",
      "Error indexing Freedom! '90 - Remastered (ID 408): cannot unpack non-iterable NoneType object\n",
      "Downloading audio from https://www.youtube.com/watch?v=zNBj4EV_hAo...\n"
     ]
    },
    {
     "name": "stderr",
     "output_type": "stream",
     "text": [
      "ERROR: [youtube] r3AP26ywQsQ: Sign in to confirm you’re not a bot. Use --cookies-from-browser or --cookies for the authentication. See  https://github.com/yt-dlp/yt-dlp/wiki/FAQ#how-do-i-pass-cookies-to-yt-dlp  for how to manually pass cookies. Also see  https://github.com/yt-dlp/yt-dlp/wiki/Extractors#exporting-youtube-cookies  for tips on effectively exporting YouTube cookies\n"
     ]
    },
    {
     "name": "stdout",
     "output_type": "stream",
     "text": [
      "[Attempt 1] Download error: ERROR: [youtube] r3AP26ywQsQ: Sign in to confirm you’re not a bot. Use --cookies-from-browser or --cookies for the authentication. See  https://github.com/yt-dlp/yt-dlp/wiki/FAQ#how-do-i-pass-cookies-to-yt-dlp  for how to manually pass cookies. Also see  https://github.com/yt-dlp/yt-dlp/wiki/Extractors#exporting-youtube-cookies  for tips on effectively exporting YouTube cookies\n"
     ]
    },
    {
     "name": "stderr",
     "output_type": "stream",
     "text": [
      "ERROR: [youtube] zNBj4EV_hAo: Sign in to confirm you’re not a bot. Use --cookies-from-browser or --cookies for the authentication. See  https://github.com/yt-dlp/yt-dlp/wiki/FAQ#how-do-i-pass-cookies-to-yt-dlp  for how to manually pass cookies. Also see  https://github.com/yt-dlp/yt-dlp/wiki/Extractors#exporting-youtube-cookies  for tips on effectively exporting YouTube cookies\n"
     ]
    },
    {
     "name": "stdout",
     "output_type": "stream",
     "text": [
      "[Attempt 1] Download error: ERROR: [youtube] zNBj4EV_hAo: Sign in to confirm you’re not a bot. Use --cookies-from-browser or --cookies for the authentication. See  https://github.com/yt-dlp/yt-dlp/wiki/FAQ#how-do-i-pass-cookies-to-yt-dlp  for how to manually pass cookies. Also see  https://github.com/yt-dlp/yt-dlp/wiki/Extractors#exporting-youtube-cookies  for tips on effectively exporting YouTube cookies\n"
     ]
    },
    {
     "name": "stderr",
     "output_type": "stream",
     "text": [
      "ERROR: [youtube] r3AP26ywQsQ: Sign in to confirm you’re not a bot. Use --cookies-from-browser or --cookies for the authentication. See  https://github.com/yt-dlp/yt-dlp/wiki/FAQ#how-do-i-pass-cookies-to-yt-dlp  for how to manually pass cookies. Also see  https://github.com/yt-dlp/yt-dlp/wiki/Extractors#exporting-youtube-cookies  for tips on effectively exporting YouTube cookies\n",
      " 80%|███████▉  | 391/491 [1:26:15<02:06,  1.26s/it]"
     ]
    },
    {
     "name": "stdout",
     "output_type": "stream",
     "text": [
      "[Attempt 2] Download error: ERROR: [youtube] r3AP26ywQsQ: Sign in to confirm you’re not a bot. Use --cookies-from-browser or --cookies for the authentication. See  https://github.com/yt-dlp/yt-dlp/wiki/FAQ#how-do-i-pass-cookies-to-yt-dlp  for how to manually pass cookies. Also see  https://github.com/yt-dlp/yt-dlp/wiki/Extractors#exporting-youtube-cookies  for tips on effectively exporting YouTube cookies\n",
      "Error indexing I Want Your Sex - Pts. 1 & 2 Remastered (ID 409): cannot unpack non-iterable NoneType object\n",
      "Downloading audio from https://www.youtube.com/watch?v=omsBhh8vA7c...\n"
     ]
    },
    {
     "name": "stderr",
     "output_type": "stream",
     "text": [
      "ERROR: [youtube] zNBj4EV_hAo: Sign in to confirm you’re not a bot. Use --cookies-from-browser or --cookies for the authentication. See  https://github.com/yt-dlp/yt-dlp/wiki/FAQ#how-do-i-pass-cookies-to-yt-dlp  for how to manually pass cookies. Also see  https://github.com/yt-dlp/yt-dlp/wiki/Extractors#exporting-youtube-cookies  for tips on effectively exporting YouTube cookies\n",
      " 80%|███████▉  | 392/491 [1:26:15<01:44,  1.06s/it]"
     ]
    },
    {
     "name": "stdout",
     "output_type": "stream",
     "text": [
      "[Attempt 2] Download error: ERROR: [youtube] zNBj4EV_hAo: Sign in to confirm you’re not a bot. Use --cookies-from-browser or --cookies for the authentication. See  https://github.com/yt-dlp/yt-dlp/wiki/FAQ#how-do-i-pass-cookies-to-yt-dlp  for how to manually pass cookies. Also see  https://github.com/yt-dlp/yt-dlp/wiki/Extractors#exporting-youtube-cookies  for tips on effectively exporting YouTube cookies\n",
      "Error indexing Jesus to a Child (ID 410): cannot unpack non-iterable NoneType object\n",
      "Downloading audio from https://www.youtube.com/watch?v=CU7xwtIdyoI...\n"
     ]
    },
    {
     "name": "stderr",
     "output_type": "stream",
     "text": [
      "ERROR: [youtube] omsBhh8vA7c: Sign in to confirm you’re not a bot. Use --cookies-from-browser or --cookies for the authentication. See  https://github.com/yt-dlp/yt-dlp/wiki/FAQ#how-do-i-pass-cookies-to-yt-dlp  for how to manually pass cookies. Also see  https://github.com/yt-dlp/yt-dlp/wiki/Extractors#exporting-youtube-cookies  for tips on effectively exporting YouTube cookies\n"
     ]
    },
    {
     "name": "stdout",
     "output_type": "stream",
     "text": [
      "[Attempt 1] Download error: ERROR: [youtube] omsBhh8vA7c: Sign in to confirm you’re not a bot. Use --cookies-from-browser or --cookies for the authentication. See  https://github.com/yt-dlp/yt-dlp/wiki/FAQ#how-do-i-pass-cookies-to-yt-dlp  for how to manually pass cookies. Also see  https://github.com/yt-dlp/yt-dlp/wiki/Extractors#exporting-youtube-cookies  for tips on effectively exporting YouTube cookies\n"
     ]
    },
    {
     "name": "stderr",
     "output_type": "stream",
     "text": [
      "ERROR: [youtube] CU7xwtIdyoI: Sign in to confirm you’re not a bot. Use --cookies-from-browser or --cookies for the authentication. See  https://github.com/yt-dlp/yt-dlp/wiki/FAQ#how-do-i-pass-cookies-to-yt-dlp  for how to manually pass cookies. Also see  https://github.com/yt-dlp/yt-dlp/wiki/Extractors#exporting-youtube-cookies  for tips on effectively exporting YouTube cookies\n"
     ]
    },
    {
     "name": "stdout",
     "output_type": "stream",
     "text": [
      "[Attempt 1] Download error: ERROR: [youtube] CU7xwtIdyoI: Sign in to confirm you’re not a bot. Use --cookies-from-browser or --cookies for the authentication. See  https://github.com/yt-dlp/yt-dlp/wiki/FAQ#how-do-i-pass-cookies-to-yt-dlp  for how to manually pass cookies. Also see  https://github.com/yt-dlp/yt-dlp/wiki/Extractors#exporting-youtube-cookies  for tips on effectively exporting YouTube cookies\n"
     ]
    },
    {
     "name": "stderr",
     "output_type": "stream",
     "text": [
      "ERROR: [youtube] omsBhh8vA7c: Sign in to confirm you’re not a bot. Use --cookies-from-browser or --cookies for the authentication. See  https://github.com/yt-dlp/yt-dlp/wiki/FAQ#how-do-i-pass-cookies-to-yt-dlp  for how to manually pass cookies. Also see  https://github.com/yt-dlp/yt-dlp/wiki/Extractors#exporting-youtube-cookies  for tips on effectively exporting YouTube cookies\n",
      " 80%|████████  | 393/491 [1:26:17<01:58,  1.21s/it]"
     ]
    },
    {
     "name": "stdout",
     "output_type": "stream",
     "text": [
      "[Attempt 2] Download error: ERROR: [youtube] omsBhh8vA7c: Sign in to confirm you’re not a bot. Use --cookies-from-browser or --cookies for the authentication. See  https://github.com/yt-dlp/yt-dlp/wiki/FAQ#how-do-i-pass-cookies-to-yt-dlp  for how to manually pass cookies. Also see  https://github.com/yt-dlp/yt-dlp/wiki/Extractors#exporting-youtube-cookies  for tips on effectively exporting YouTube cookies\n",
      "Error indexing Kissing a Fool - Remastered (ID 411): cannot unpack non-iterable NoneType object\n",
      "Downloading audio from https://www.youtube.com/watch?v=1bPxYmsv-Mc...\n"
     ]
    },
    {
     "name": "stderr",
     "output_type": "stream",
     "text": [
      "ERROR: [youtube] CU7xwtIdyoI: Sign in to confirm you’re not a bot. Use --cookies-from-browser or --cookies for the authentication. See  https://github.com/yt-dlp/yt-dlp/wiki/FAQ#how-do-i-pass-cookies-to-yt-dlp  for how to manually pass cookies. Also see  https://github.com/yt-dlp/yt-dlp/wiki/Extractors#exporting-youtube-cookies  for tips on effectively exporting YouTube cookies\n",
      " 80%|████████  | 394/491 [1:26:17<01:38,  1.01s/it]"
     ]
    },
    {
     "name": "stdout",
     "output_type": "stream",
     "text": [
      "[Attempt 2] Download error: ERROR: [youtube] CU7xwtIdyoI: Sign in to confirm you’re not a bot. Use --cookies-from-browser or --cookies for the authentication. See  https://github.com/yt-dlp/yt-dlp/wiki/FAQ#how-do-i-pass-cookies-to-yt-dlp  for how to manually pass cookies. Also see  https://github.com/yt-dlp/yt-dlp/wiki/Extractors#exporting-youtube-cookies  for tips on effectively exporting YouTube cookies\n",
      "Error indexing Miss Sarajevo (ID 412): cannot unpack non-iterable NoneType object\n",
      "Downloading audio from https://www.youtube.com/watch?v=6r5Dhqaay4E...\n"
     ]
    },
    {
     "name": "stderr",
     "output_type": "stream",
     "text": [
      "ERROR: [youtube] 1bPxYmsv-Mc: Sign in to confirm you’re not a bot. Use --cookies-from-browser or --cookies for the authentication. See  https://github.com/yt-dlp/yt-dlp/wiki/FAQ#how-do-i-pass-cookies-to-yt-dlp  for how to manually pass cookies. Also see  https://github.com/yt-dlp/yt-dlp/wiki/Extractors#exporting-youtube-cookies  for tips on effectively exporting YouTube cookies\n"
     ]
    },
    {
     "name": "stdout",
     "output_type": "stream",
     "text": [
      "[Attempt 1] Download error: ERROR: [youtube] 1bPxYmsv-Mc: Sign in to confirm you’re not a bot. Use --cookies-from-browser or --cookies for the authentication. See  https://github.com/yt-dlp/yt-dlp/wiki/FAQ#how-do-i-pass-cookies-to-yt-dlp  for how to manually pass cookies. Also see  https://github.com/yt-dlp/yt-dlp/wiki/Extractors#exporting-youtube-cookies  for tips on effectively exporting YouTube cookies\n"
     ]
    },
    {
     "name": "stderr",
     "output_type": "stream",
     "text": [
      "ERROR: [youtube] 6r5Dhqaay4E: Sign in to confirm you’re not a bot. Use --cookies-from-browser or --cookies for the authentication. See  https://github.com/yt-dlp/yt-dlp/wiki/FAQ#how-do-i-pass-cookies-to-yt-dlp  for how to manually pass cookies. Also see  https://github.com/yt-dlp/yt-dlp/wiki/Extractors#exporting-youtube-cookies  for tips on effectively exporting YouTube cookies\n"
     ]
    },
    {
     "name": "stdout",
     "output_type": "stream",
     "text": [
      "[Attempt 1] Download error: ERROR: [youtube] 6r5Dhqaay4E: Sign in to confirm you’re not a bot. Use --cookies-from-browser or --cookies for the authentication. See  https://github.com/yt-dlp/yt-dlp/wiki/FAQ#how-do-i-pass-cookies-to-yt-dlp  for how to manually pass cookies. Also see  https://github.com/yt-dlp/yt-dlp/wiki/Extractors#exporting-youtube-cookies  for tips on effectively exporting YouTube cookies\n"
     ]
    },
    {
     "name": "stderr",
     "output_type": "stream",
     "text": [
      "ERROR: [youtube] 1bPxYmsv-Mc: Sign in to confirm you’re not a bot. Use --cookies-from-browser or --cookies for the authentication. See  https://github.com/yt-dlp/yt-dlp/wiki/FAQ#how-do-i-pass-cookies-to-yt-dlp  for how to manually pass cookies. Also see  https://github.com/yt-dlp/yt-dlp/wiki/Extractors#exporting-youtube-cookies  for tips on effectively exporting YouTube cookies\n",
      " 80%|████████  | 395/491 [1:26:19<01:46,  1.10s/it]"
     ]
    },
    {
     "name": "stdout",
     "output_type": "stream",
     "text": [
      "[Attempt 2] Download error: ERROR: [youtube] 1bPxYmsv-Mc: Sign in to confirm you’re not a bot. Use --cookies-from-browser or --cookies for the authentication. See  https://github.com/yt-dlp/yt-dlp/wiki/FAQ#how-do-i-pass-cookies-to-yt-dlp  for how to manually pass cookies. Also see  https://github.com/yt-dlp/yt-dlp/wiki/Extractors#exporting-youtube-cookies  for tips on effectively exporting YouTube cookies\n",
      "Error indexing One More Try - Live (ID 413): cannot unpack non-iterable NoneType object\n",
      "Downloading audio from https://www.youtube.com/watch?v=gwZAYdHcDtU...\n"
     ]
    },
    {
     "name": "stderr",
     "output_type": "stream",
     "text": [
      "ERROR: [youtube] 6r5Dhqaay4E: Sign in to confirm you’re not a bot. Use --cookies-from-browser or --cookies for the authentication. See  https://github.com/yt-dlp/yt-dlp/wiki/FAQ#how-do-i-pass-cookies-to-yt-dlp  for how to manually pass cookies. Also see  https://github.com/yt-dlp/yt-dlp/wiki/Extractors#exporting-youtube-cookies  for tips on effectively exporting YouTube cookies\n",
      " 81%|████████  | 396/491 [1:26:20<01:37,  1.02s/it]"
     ]
    },
    {
     "name": "stdout",
     "output_type": "stream",
     "text": [
      "[Attempt 2] Download error: ERROR: [youtube] 6r5Dhqaay4E: Sign in to confirm you’re not a bot. Use --cookies-from-browser or --cookies for the authentication. See  https://github.com/yt-dlp/yt-dlp/wiki/FAQ#how-do-i-pass-cookies-to-yt-dlp  for how to manually pass cookies. Also see  https://github.com/yt-dlp/yt-dlp/wiki/Extractors#exporting-youtube-cookies  for tips on effectively exporting YouTube cookies\n",
      "Error indexing One More Try - Remastered (ID 414): cannot unpack non-iterable NoneType object\n",
      "Downloading audio from https://www.youtube.com/watch?v=eT5_neXR3FI...\n"
     ]
    },
    {
     "name": "stderr",
     "output_type": "stream",
     "text": [
      "ERROR: [youtube] gwZAYdHcDtU: Sign in to confirm you’re not a bot. Use --cookies-from-browser or --cookies for the authentication. See  https://github.com/yt-dlp/yt-dlp/wiki/FAQ#how-do-i-pass-cookies-to-yt-dlp  for how to manually pass cookies. Also see  https://github.com/yt-dlp/yt-dlp/wiki/Extractors#exporting-youtube-cookies  for tips on effectively exporting YouTube cookies\n"
     ]
    },
    {
     "name": "stdout",
     "output_type": "stream",
     "text": [
      "[Attempt 1] Download error: ERROR: [youtube] gwZAYdHcDtU: Sign in to confirm you’re not a bot. Use --cookies-from-browser or --cookies for the authentication. See  https://github.com/yt-dlp/yt-dlp/wiki/FAQ#how-do-i-pass-cookies-to-yt-dlp  for how to manually pass cookies. Also see  https://github.com/yt-dlp/yt-dlp/wiki/Extractors#exporting-youtube-cookies  for tips on effectively exporting YouTube cookies\n"
     ]
    },
    {
     "name": "stderr",
     "output_type": "stream",
     "text": [
      "ERROR: [youtube] eT5_neXR3FI: Sign in to confirm you’re not a bot. Use --cookies-from-browser or --cookies for the authentication. See  https://github.com/yt-dlp/yt-dlp/wiki/FAQ#how-do-i-pass-cookies-to-yt-dlp  for how to manually pass cookies. Also see  https://github.com/yt-dlp/yt-dlp/wiki/Extractors#exporting-youtube-cookies  for tips on effectively exporting YouTube cookies\n"
     ]
    },
    {
     "name": "stdout",
     "output_type": "stream",
     "text": [
      "[Attempt 1] Download error: ERROR: [youtube] eT5_neXR3FI: Sign in to confirm you’re not a bot. Use --cookies-from-browser or --cookies for the authentication. See  https://github.com/yt-dlp/yt-dlp/wiki/FAQ#how-do-i-pass-cookies-to-yt-dlp  for how to manually pass cookies. Also see  https://github.com/yt-dlp/yt-dlp/wiki/Extractors#exporting-youtube-cookies  for tips on effectively exporting YouTube cookies\n"
     ]
    },
    {
     "name": "stderr",
     "output_type": "stream",
     "text": [
      "ERROR: [youtube] gwZAYdHcDtU: Sign in to confirm you’re not a bot. Use --cookies-from-browser or --cookies for the authentication. See  https://github.com/yt-dlp/yt-dlp/wiki/FAQ#how-do-i-pass-cookies-to-yt-dlp  for how to manually pass cookies. Also see  https://github.com/yt-dlp/yt-dlp/wiki/Extractors#exporting-youtube-cookies  for tips on effectively exporting YouTube cookies\n",
      " 81%|████████  | 397/491 [1:26:21<01:44,  1.11s/it]"
     ]
    },
    {
     "name": "stdout",
     "output_type": "stream",
     "text": [
      "[Attempt 2] Download error: ERROR: [youtube] gwZAYdHcDtU: Sign in to confirm you’re not a bot. Use --cookies-from-browser or --cookies for the authentication. See  https://github.com/yt-dlp/yt-dlp/wiki/FAQ#how-do-i-pass-cookies-to-yt-dlp  for how to manually pass cookies. Also see  https://github.com/yt-dlp/yt-dlp/wiki/Extractors#exporting-youtube-cookies  for tips on effectively exporting YouTube cookies\n",
      "Error indexing Outside (ID 415): cannot unpack non-iterable NoneType object\n",
      "Downloading audio from https://www.youtube.com/watch?v=Na3bPzrZS-o...\n"
     ]
    },
    {
     "name": "stderr",
     "output_type": "stream",
     "text": [
      "ERROR: [youtube] eT5_neXR3FI: Sign in to confirm you’re not a bot. Use --cookies-from-browser or --cookies for the authentication. See  https://github.com/yt-dlp/yt-dlp/wiki/FAQ#how-do-i-pass-cookies-to-yt-dlp  for how to manually pass cookies. Also see  https://github.com/yt-dlp/yt-dlp/wiki/Extractors#exporting-youtube-cookies  for tips on effectively exporting YouTube cookies\n",
      " 81%|████████  | 398/491 [1:26:22<01:32,  1.00it/s]ERROR: [youtube] Na3bPzrZS-o: Sign in to confirm you’re not a bot. Use --cookies-from-browser or --cookies for the authentication. See  https://github.com/yt-dlp/yt-dlp/wiki/FAQ#how-do-i-pass-cookies-to-yt-dlp  for how to manually pass cookies. Also see  https://github.com/yt-dlp/yt-dlp/wiki/Extractors#exporting-youtube-cookies  for tips on effectively exporting YouTube cookies\n"
     ]
    },
    {
     "name": "stdout",
     "output_type": "stream",
     "text": [
      "[Attempt 2] Download error: ERROR: [youtube] eT5_neXR3FI: Sign in to confirm you’re not a bot. Use --cookies-from-browser or --cookies for the authentication. See  https://github.com/yt-dlp/yt-dlp/wiki/FAQ#how-do-i-pass-cookies-to-yt-dlp  for how to manually pass cookies. Also see  https://github.com/yt-dlp/yt-dlp/wiki/Extractors#exporting-youtube-cookies  for tips on effectively exporting YouTube cookies\n",
      "Error indexing Praying for Time - 2010 Remastered Version (ID 416): cannot unpack non-iterable NoneType object\n",
      "Downloading audio from https://www.youtube.com/watch?v=AiXYgOmi2kI...\n",
      "[Attempt 1] Download error: ERROR: [youtube] Na3bPzrZS-o: Sign in to confirm you’re not a bot. Use --cookies-from-browser or --cookies for the authentication. See  https://github.com/yt-dlp/yt-dlp/wiki/FAQ#how-do-i-pass-cookies-to-yt-dlp  for how to manually pass cookies. Also see  https://github.com/yt-dlp/yt-dlp/wiki/Extractors#exporting-youtube-cookies  for tips on effectively exporting YouTube cookies\n"
     ]
    },
    {
     "name": "stderr",
     "output_type": "stream",
     "text": [
      "ERROR: [youtube] Na3bPzrZS-o: Sign in to confirm you’re not a bot. Use --cookies-from-browser or --cookies for the authentication. See  https://github.com/yt-dlp/yt-dlp/wiki/FAQ#how-do-i-pass-cookies-to-yt-dlp  for how to manually pass cookies. Also see  https://github.com/yt-dlp/yt-dlp/wiki/Extractors#exporting-youtube-cookies  for tips on effectively exporting YouTube cookies\n",
      " 81%|████████▏ | 399/491 [1:26:23<01:36,  1.05s/it]ERROR: [youtube] AiXYgOmi2kI: Sign in to confirm you’re not a bot. Use --cookies-from-browser or --cookies for the authentication. See  https://github.com/yt-dlp/yt-dlp/wiki/FAQ#how-do-i-pass-cookies-to-yt-dlp  for how to manually pass cookies. Also see  https://github.com/yt-dlp/yt-dlp/wiki/Extractors#exporting-youtube-cookies  for tips on effectively exporting YouTube cookies\n"
     ]
    },
    {
     "name": "stdout",
     "output_type": "stream",
     "text": [
      "[Attempt 2] Download error: ERROR: [youtube] Na3bPzrZS-o: Sign in to confirm you’re not a bot. Use --cookies-from-browser or --cookies for the authentication. See  https://github.com/yt-dlp/yt-dlp/wiki/FAQ#how-do-i-pass-cookies-to-yt-dlp  for how to manually pass cookies. Also see  https://github.com/yt-dlp/yt-dlp/wiki/Extractors#exporting-youtube-cookies  for tips on effectively exporting YouTube cookies\n",
      "Error indexing The First Time Ever I Saw Your Face (ID 417): cannot unpack non-iterable NoneType object\n",
      "Downloading audio from https://www.youtube.com/watch?v=JAwk7yBQxDs...\n",
      "[Attempt 1] Download error: ERROR: [youtube] AiXYgOmi2kI: Sign in to confirm you’re not a bot. Use --cookies-from-browser or --cookies for the authentication. See  https://github.com/yt-dlp/yt-dlp/wiki/FAQ#how-do-i-pass-cookies-to-yt-dlp  for how to manually pass cookies. Also see  https://github.com/yt-dlp/yt-dlp/wiki/Extractors#exporting-youtube-cookies  for tips on effectively exporting YouTube cookies\n"
     ]
    },
    {
     "name": "stderr",
     "output_type": "stream",
     "text": [
      "ERROR: [youtube] AiXYgOmi2kI: Sign in to confirm you’re not a bot. Use --cookies-from-browser or --cookies for the authentication. See  https://github.com/yt-dlp/yt-dlp/wiki/FAQ#how-do-i-pass-cookies-to-yt-dlp  for how to manually pass cookies. Also see  https://github.com/yt-dlp/yt-dlp/wiki/Extractors#exporting-youtube-cookies  for tips on effectively exporting YouTube cookies\n",
      " 81%|████████▏ | 400/491 [1:26:24<01:34,  1.04s/it]ERROR: [youtube] JAwk7yBQxDs: Sign in to confirm you’re not a bot. Use --cookies-from-browser or --cookies for the authentication. See  https://github.com/yt-dlp/yt-dlp/wiki/FAQ#how-do-i-pass-cookies-to-yt-dlp  for how to manually pass cookies. Also see  https://github.com/yt-dlp/yt-dlp/wiki/Extractors#exporting-youtube-cookies  for tips on effectively exporting YouTube cookies\n"
     ]
    },
    {
     "name": "stdout",
     "output_type": "stream",
     "text": [
      "[Attempt 2] Download error: ERROR: [youtube] AiXYgOmi2kI: Sign in to confirm you’re not a bot. Use --cookies-from-browser or --cookies for the authentication. See  https://github.com/yt-dlp/yt-dlp/wiki/FAQ#how-do-i-pass-cookies-to-yt-dlp  for how to manually pass cookies. Also see  https://github.com/yt-dlp/yt-dlp/wiki/Extractors#exporting-youtube-cookies  for tips on effectively exporting YouTube cookies\n",
      "Error indexing Too Funky - Remastered 2006 (ID 418): cannot unpack non-iterable NoneType object\n",
      "Downloading audio from https://www.youtube.com/watch?v=WXR-bCF5dbM...\n",
      "[Attempt 1] Download error: ERROR: [youtube] JAwk7yBQxDs: Sign in to confirm you’re not a bot. Use --cookies-from-browser or --cookies for the authentication. See  https://github.com/yt-dlp/yt-dlp/wiki/FAQ#how-do-i-pass-cookies-to-yt-dlp  for how to manually pass cookies. Also see  https://github.com/yt-dlp/yt-dlp/wiki/Extractors#exporting-youtube-cookies  for tips on effectively exporting YouTube cookies\n"
     ]
    },
    {
     "name": "stderr",
     "output_type": "stream",
     "text": [
      "ERROR: [youtube] WXR-bCF5dbM: Sign in to confirm you’re not a bot. Use --cookies-from-browser or --cookies for the authentication. See  https://github.com/yt-dlp/yt-dlp/wiki/FAQ#how-do-i-pass-cookies-to-yt-dlp  for how to manually pass cookies. Also see  https://github.com/yt-dlp/yt-dlp/wiki/Extractors#exporting-youtube-cookies  for tips on effectively exporting YouTube cookies\n"
     ]
    },
    {
     "name": "stdout",
     "output_type": "stream",
     "text": [
      "[Attempt 1] Download error: ERROR: [youtube] WXR-bCF5dbM: Sign in to confirm you’re not a bot. Use --cookies-from-browser or --cookies for the authentication. See  https://github.com/yt-dlp/yt-dlp/wiki/FAQ#how-do-i-pass-cookies-to-yt-dlp  for how to manually pass cookies. Also see  https://github.com/yt-dlp/yt-dlp/wiki/Extractors#exporting-youtube-cookies  for tips on effectively exporting YouTube cookies\n"
     ]
    },
    {
     "name": "stderr",
     "output_type": "stream",
     "text": [
      "ERROR: [youtube] JAwk7yBQxDs: Sign in to confirm you’re not a bot. Use --cookies-from-browser or --cookies for the authentication. See  https://github.com/yt-dlp/yt-dlp/wiki/FAQ#how-do-i-pass-cookies-to-yt-dlp  for how to manually pass cookies. Also see  https://github.com/yt-dlp/yt-dlp/wiki/Extractors#exporting-youtube-cookies  for tips on effectively exporting YouTube cookies\n",
      " 82%|████████▏ | 401/491 [1:26:25<01:38,  1.09s/it]"
     ]
    },
    {
     "name": "stdout",
     "output_type": "stream",
     "text": [
      "[Attempt 2] Download error: ERROR: [youtube] JAwk7yBQxDs: Sign in to confirm you’re not a bot. Use --cookies-from-browser or --cookies for the authentication. See  https://github.com/yt-dlp/yt-dlp/wiki/FAQ#how-do-i-pass-cookies-to-yt-dlp  for how to manually pass cookies. Also see  https://github.com/yt-dlp/yt-dlp/wiki/Extractors#exporting-youtube-cookies  for tips on effectively exporting YouTube cookies\n",
      "Error indexing Too Funky - Single Edit (ID 419): cannot unpack non-iterable NoneType object\n",
      "Downloading audio from https://www.youtube.com/watch?v=1V_xRb0x9aw...\n"
     ]
    },
    {
     "name": "stderr",
     "output_type": "stream",
     "text": [
      "ERROR: [youtube] WXR-bCF5dbM: Sign in to confirm you’re not a bot. Use --cookies-from-browser or --cookies for the authentication. See  https://github.com/yt-dlp/yt-dlp/wiki/FAQ#how-do-i-pass-cookies-to-yt-dlp  for how to manually pass cookies. Also see  https://github.com/yt-dlp/yt-dlp/wiki/Extractors#exporting-youtube-cookies  for tips on effectively exporting YouTube cookies\n",
      " 82%|████████▏ | 402/491 [1:26:26<01:29,  1.01s/it]"
     ]
    },
    {
     "name": "stdout",
     "output_type": "stream",
     "text": [
      "[Attempt 2] Download error: ERROR: [youtube] WXR-bCF5dbM: Sign in to confirm you’re not a bot. Use --cookies-from-browser or --cookies for the authentication. See  https://github.com/yt-dlp/yt-dlp/wiki/FAQ#how-do-i-pass-cookies-to-yt-dlp  for how to manually pass cookies. Also see  https://github.com/yt-dlp/yt-dlp/wiki/Extractors#exporting-youtube-cookies  for tips on effectively exporting YouTube cookies\n",
      "Error indexing 19-2000 (ID 420): cannot unpack non-iterable NoneType object\n",
      "Downloading audio from https://www.youtube.com/watch?v=uAOR6ib95kQ...\n"
     ]
    },
    {
     "name": "stderr",
     "output_type": "stream",
     "text": [
      "ERROR: [youtube] 1V_xRb0x9aw: Sign in to confirm you’re not a bot. Use --cookies-from-browser or --cookies for the authentication. See  https://github.com/yt-dlp/yt-dlp/wiki/FAQ#how-do-i-pass-cookies-to-yt-dlp  for how to manually pass cookies. Also see  https://github.com/yt-dlp/yt-dlp/wiki/Extractors#exporting-youtube-cookies  for tips on effectively exporting YouTube cookies\n"
     ]
    },
    {
     "name": "stdout",
     "output_type": "stream",
     "text": [
      "[Attempt 1] Download error: ERROR: [youtube] 1V_xRb0x9aw: Sign in to confirm you’re not a bot. Use --cookies-from-browser or --cookies for the authentication. See  https://github.com/yt-dlp/yt-dlp/wiki/FAQ#how-do-i-pass-cookies-to-yt-dlp  for how to manually pass cookies. Also see  https://github.com/yt-dlp/yt-dlp/wiki/Extractors#exporting-youtube-cookies  for tips on effectively exporting YouTube cookies\n"
     ]
    },
    {
     "name": "stderr",
     "output_type": "stream",
     "text": [
      "ERROR: [youtube] uAOR6ib95kQ: Sign in to confirm you’re not a bot. Use --cookies-from-browser or --cookies for the authentication. See  https://github.com/yt-dlp/yt-dlp/wiki/FAQ#how-do-i-pass-cookies-to-yt-dlp  for how to manually pass cookies. Also see  https://github.com/yt-dlp/yt-dlp/wiki/Extractors#exporting-youtube-cookies  for tips on effectively exporting YouTube cookies\n",
      "ERROR: [youtube] 1V_xRb0x9aw: Sign in to confirm you’re not a bot. Use --cookies-from-browser or --cookies for the authentication. See  https://github.com/yt-dlp/yt-dlp/wiki/FAQ#how-do-i-pass-cookies-to-yt-dlp  for how to manually pass cookies. Also see  https://github.com/yt-dlp/yt-dlp/wiki/Extractors#exporting-youtube-cookies  for tips on effectively exporting YouTube cookies\n",
      " 82%|████████▏ | 403/491 [1:26:27<01:38,  1.12s/it]"
     ]
    },
    {
     "name": "stdout",
     "output_type": "stream",
     "text": [
      "[Attempt 1] Download error: ERROR: [youtube] uAOR6ib95kQ: Sign in to confirm you’re not a bot. Use --cookies-from-browser or --cookies for the authentication. See  https://github.com/yt-dlp/yt-dlp/wiki/FAQ#how-do-i-pass-cookies-to-yt-dlp  for how to manually pass cookies. Also see  https://github.com/yt-dlp/yt-dlp/wiki/Extractors#exporting-youtube-cookies  for tips on effectively exporting YouTube cookies\n",
      "[Attempt 2] Download error: ERROR: [youtube] 1V_xRb0x9aw: Sign in to confirm you’re not a bot. Use --cookies-from-browser or --cookies for the authentication. See  https://github.com/yt-dlp/yt-dlp/wiki/FAQ#how-do-i-pass-cookies-to-yt-dlp  for how to manually pass cookies. Also see  https://github.com/yt-dlp/yt-dlp/wiki/Extractors#exporting-youtube-cookies  for tips on effectively exporting YouTube cookies\n",
      "Error indexing Clint Eastwood (ID 421): cannot unpack non-iterable NoneType object\n",
      "Downloading audio from https://www.youtube.com/watch?v=HyHNuVaZJ-k...\n"
     ]
    },
    {
     "name": "stderr",
     "output_type": "stream",
     "text": [
      "ERROR: [youtube] uAOR6ib95kQ: Sign in to confirm you’re not a bot. Use --cookies-from-browser or --cookies for the authentication. See  https://github.com/yt-dlp/yt-dlp/wiki/FAQ#how-do-i-pass-cookies-to-yt-dlp  for how to manually pass cookies. Also see  https://github.com/yt-dlp/yt-dlp/wiki/Extractors#exporting-youtube-cookies  for tips on effectively exporting YouTube cookies\n",
      " 82%|████████▏ | 404/491 [1:26:28<01:28,  1.02s/it]"
     ]
    },
    {
     "name": "stdout",
     "output_type": "stream",
     "text": [
      "[Attempt 2] Download error: ERROR: [youtube] uAOR6ib95kQ: Sign in to confirm you’re not a bot. Use --cookies-from-browser or --cookies for the authentication. See  https://github.com/yt-dlp/yt-dlp/wiki/FAQ#how-do-i-pass-cookies-to-yt-dlp  for how to manually pass cookies. Also see  https://github.com/yt-dlp/yt-dlp/wiki/Extractors#exporting-youtube-cookies  for tips on effectively exporting YouTube cookies\n",
      "Error indexing DARE (ID 422): cannot unpack non-iterable NoneType object\n",
      "Downloading audio from https://www.youtube.com/watch?v=r00ikilDxW4...\n"
     ]
    },
    {
     "name": "stderr",
     "output_type": "stream",
     "text": [
      "ERROR: [youtube] HyHNuVaZJ-k: Sign in to confirm you’re not a bot. Use --cookies-from-browser or --cookies for the authentication. See  https://github.com/yt-dlp/yt-dlp/wiki/FAQ#how-do-i-pass-cookies-to-yt-dlp  for how to manually pass cookies. Also see  https://github.com/yt-dlp/yt-dlp/wiki/Extractors#exporting-youtube-cookies  for tips on effectively exporting YouTube cookies\n"
     ]
    },
    {
     "name": "stdout",
     "output_type": "stream",
     "text": [
      "[Attempt 1] Download error: ERROR: [youtube] HyHNuVaZJ-k: Sign in to confirm you’re not a bot. Use --cookies-from-browser or --cookies for the authentication. See  https://github.com/yt-dlp/yt-dlp/wiki/FAQ#how-do-i-pass-cookies-to-yt-dlp  for how to manually pass cookies. Also see  https://github.com/yt-dlp/yt-dlp/wiki/Extractors#exporting-youtube-cookies  for tips on effectively exporting YouTube cookies\n"
     ]
    },
    {
     "name": "stderr",
     "output_type": "stream",
     "text": [
      "ERROR: [youtube] r00ikilDxW4: Sign in to confirm you’re not a bot. Use --cookies-from-browser or --cookies for the authentication. See  https://github.com/yt-dlp/yt-dlp/wiki/FAQ#how-do-i-pass-cookies-to-yt-dlp  for how to manually pass cookies. Also see  https://github.com/yt-dlp/yt-dlp/wiki/Extractors#exporting-youtube-cookies  for tips on effectively exporting YouTube cookies\n"
     ]
    },
    {
     "name": "stdout",
     "output_type": "stream",
     "text": [
      "[Attempt 1] Download error: ERROR: [youtube] r00ikilDxW4: Sign in to confirm you’re not a bot. Use --cookies-from-browser or --cookies for the authentication. See  https://github.com/yt-dlp/yt-dlp/wiki/FAQ#how-do-i-pass-cookies-to-yt-dlp  for how to manually pass cookies. Also see  https://github.com/yt-dlp/yt-dlp/wiki/Extractors#exporting-youtube-cookies  for tips on effectively exporting YouTube cookies\n"
     ]
    },
    {
     "name": "stderr",
     "output_type": "stream",
     "text": [
      "ERROR: [youtube] HyHNuVaZJ-k: Sign in to confirm you’re not a bot. Use --cookies-from-browser or --cookies for the authentication. See  https://github.com/yt-dlp/yt-dlp/wiki/FAQ#how-do-i-pass-cookies-to-yt-dlp  for how to manually pass cookies. Also see  https://github.com/yt-dlp/yt-dlp/wiki/Extractors#exporting-youtube-cookies  for tips on effectively exporting YouTube cookies\n",
      " 82%|████████▏ | 405/491 [1:26:30<01:41,  1.18s/it]"
     ]
    },
    {
     "name": "stdout",
     "output_type": "stream",
     "text": [
      "[Attempt 2] Download error: ERROR: [youtube] HyHNuVaZJ-k: Sign in to confirm you’re not a bot. Use --cookies-from-browser or --cookies for the authentication. See  https://github.com/yt-dlp/yt-dlp/wiki/FAQ#how-do-i-pass-cookies-to-yt-dlp  for how to manually pass cookies. Also see  https://github.com/yt-dlp/yt-dlp/wiki/Extractors#exporting-youtube-cookies  for tips on effectively exporting YouTube cookies\n",
      "Error indexing Feel Good Inc. (ID 423): cannot unpack non-iterable NoneType object\n",
      "Downloading audio from https://www.youtube.com/watch?v=tVJ5VvLAkw0...\n"
     ]
    },
    {
     "name": "stderr",
     "output_type": "stream",
     "text": [
      "ERROR: [youtube] r00ikilDxW4: Sign in to confirm you’re not a bot. Use --cookies-from-browser or --cookies for the authentication. See  https://github.com/yt-dlp/yt-dlp/wiki/FAQ#how-do-i-pass-cookies-to-yt-dlp  for how to manually pass cookies. Also see  https://github.com/yt-dlp/yt-dlp/wiki/Extractors#exporting-youtube-cookies  for tips on effectively exporting YouTube cookies\n",
      " 83%|████████▎ | 406/491 [1:26:30<01:30,  1.07s/it]ERROR: [youtube] tVJ5VvLAkw0: Sign in to confirm you’re not a bot. Use --cookies-from-browser or --cookies for the authentication. See  https://github.com/yt-dlp/yt-dlp/wiki/FAQ#how-do-i-pass-cookies-to-yt-dlp  for how to manually pass cookies. Also see  https://github.com/yt-dlp/yt-dlp/wiki/Extractors#exporting-youtube-cookies  for tips on effectively exporting YouTube cookies\n"
     ]
    },
    {
     "name": "stdout",
     "output_type": "stream",
     "text": [
      "[Attempt 2] Download error: ERROR: [youtube] r00ikilDxW4: Sign in to confirm you’re not a bot. Use --cookies-from-browser or --cookies for the authentication. See  https://github.com/yt-dlp/yt-dlp/wiki/FAQ#how-do-i-pass-cookies-to-yt-dlp  for how to manually pass cookies. Also see  https://github.com/yt-dlp/yt-dlp/wiki/Extractors#exporting-youtube-cookies  for tips on effectively exporting YouTube cookies\n",
      "Error indexing 21 Guns (ID 424): cannot unpack non-iterable NoneType object\n",
      "Downloading audio from https://www.youtube.com/watch?v=Ee_uujKuJMI...\n",
      "[Attempt 1] Download error: ERROR: [youtube] tVJ5VvLAkw0: Sign in to confirm you’re not a bot. Use --cookies-from-browser or --cookies for the authentication. See  https://github.com/yt-dlp/yt-dlp/wiki/FAQ#how-do-i-pass-cookies-to-yt-dlp  for how to manually pass cookies. Also see  https://github.com/yt-dlp/yt-dlp/wiki/Extractors#exporting-youtube-cookies  for tips on effectively exporting YouTube cookies\n"
     ]
    },
    {
     "name": "stderr",
     "output_type": "stream",
     "text": [
      "ERROR: [youtube] Ee_uujKuJMI: Sign in to confirm you’re not a bot. Use --cookies-from-browser or --cookies for the authentication. See  https://github.com/yt-dlp/yt-dlp/wiki/FAQ#how-do-i-pass-cookies-to-yt-dlp  for how to manually pass cookies. Also see  https://github.com/yt-dlp/yt-dlp/wiki/Extractors#exporting-youtube-cookies  for tips on effectively exporting YouTube cookies\n",
      "ERROR: [youtube] tVJ5VvLAkw0: Sign in to confirm you’re not a bot. Use --cookies-from-browser or --cookies for the authentication. See  https://github.com/yt-dlp/yt-dlp/wiki/FAQ#how-do-i-pass-cookies-to-yt-dlp  for how to manually pass cookies. Also see  https://github.com/yt-dlp/yt-dlp/wiki/Extractors#exporting-youtube-cookies  for tips on effectively exporting YouTube cookies\n",
      " 83%|████████▎ | 407/491 [1:26:32<01:32,  1.10s/it]"
     ]
    },
    {
     "name": "stdout",
     "output_type": "stream",
     "text": [
      "[Attempt 1] Download error: ERROR: [youtube] Ee_uujKuJMI: Sign in to confirm you’re not a bot. Use --cookies-from-browser or --cookies for the authentication. See  https://github.com/yt-dlp/yt-dlp/wiki/FAQ#how-do-i-pass-cookies-to-yt-dlp  for how to manually pass cookies. Also see  https://github.com/yt-dlp/yt-dlp/wiki/Extractors#exporting-youtube-cookies  for tips on effectively exporting YouTube cookies\n",
      "[Attempt 2] Download error: ERROR: [youtube] tVJ5VvLAkw0: Sign in to confirm you’re not a bot. Use --cookies-from-browser or --cookies for the authentication. See  https://github.com/yt-dlp/yt-dlp/wiki/FAQ#how-do-i-pass-cookies-to-yt-dlp  for how to manually pass cookies. Also see  https://github.com/yt-dlp/yt-dlp/wiki/Extractors#exporting-youtube-cookies  for tips on effectively exporting YouTube cookies\n",
      "Error indexing 21 Guns (feat. Rebecca Naomi Jones, Christina Sajous, Mary Faber, Stark Sands, John Gallagher Jr., Michael Esper, The American Idiot Broadway Company) (ID 425): cannot unpack non-iterable NoneType object\n",
      "Downloading audio from https://www.youtube.com/watch?v=NUTGr5t3MoY...\n"
     ]
    },
    {
     "name": "stderr",
     "output_type": "stream",
     "text": [
      "ERROR: [youtube] NUTGr5t3MoY: Sign in to confirm you’re not a bot. Use --cookies-from-browser or --cookies for the authentication. See  https://github.com/yt-dlp/yt-dlp/wiki/FAQ#how-do-i-pass-cookies-to-yt-dlp  for how to manually pass cookies. Also see  https://github.com/yt-dlp/yt-dlp/wiki/Extractors#exporting-youtube-cookies  for tips on effectively exporting YouTube cookies\n",
      "ERROR: [youtube] Ee_uujKuJMI: Sign in to confirm you’re not a bot. Use --cookies-from-browser or --cookies for the authentication. See  https://github.com/yt-dlp/yt-dlp/wiki/FAQ#how-do-i-pass-cookies-to-yt-dlp  for how to manually pass cookies. Also see  https://github.com/yt-dlp/yt-dlp/wiki/Extractors#exporting-youtube-cookies  for tips on effectively exporting YouTube cookies\n",
      " 83%|████████▎ | 408/491 [1:26:33<01:30,  1.09s/it]"
     ]
    },
    {
     "name": "stdout",
     "output_type": "stream",
     "text": [
      "[Attempt 1] Download error: ERROR: [youtube] NUTGr5t3MoY: Sign in to confirm you’re not a bot. Use --cookies-from-browser or --cookies for the authentication. See  https://github.com/yt-dlp/yt-dlp/wiki/FAQ#how-do-i-pass-cookies-to-yt-dlp  for how to manually pass cookies. Also see  https://github.com/yt-dlp/yt-dlp/wiki/Extractors#exporting-youtube-cookies  for tips on effectively exporting YouTube cookies\n",
      "[Attempt 2] Download error: ERROR: [youtube] Ee_uujKuJMI: Sign in to confirm you’re not a bot. Use --cookies-from-browser or --cookies for the authentication. See  https://github.com/yt-dlp/yt-dlp/wiki/FAQ#how-do-i-pass-cookies-to-yt-dlp  for how to manually pass cookies. Also see  https://github.com/yt-dlp/yt-dlp/wiki/Extractors#exporting-youtube-cookies  for tips on effectively exporting YouTube cookies\n",
      "Error indexing American Idiot (ID 426): cannot unpack non-iterable NoneType object\n",
      "Downloading audio from https://www.youtube.com/watch?v=Soa3gO7tL-c...\n"
     ]
    },
    {
     "name": "stderr",
     "output_type": "stream",
     "text": [
      "ERROR: [youtube] Soa3gO7tL-c: Sign in to confirm you’re not a bot. Use --cookies-from-browser or --cookies for the authentication. See  https://github.com/yt-dlp/yt-dlp/wiki/FAQ#how-do-i-pass-cookies-to-yt-dlp  for how to manually pass cookies. Also see  https://github.com/yt-dlp/yt-dlp/wiki/Extractors#exporting-youtube-cookies  for tips on effectively exporting YouTube cookies\n",
      "ERROR: [youtube] NUTGr5t3MoY: Sign in to confirm you’re not a bot. Use --cookies-from-browser or --cookies for the authentication. See  https://github.com/yt-dlp/yt-dlp/wiki/FAQ#how-do-i-pass-cookies-to-yt-dlp  for how to manually pass cookies. Also see  https://github.com/yt-dlp/yt-dlp/wiki/Extractors#exporting-youtube-cookies  for tips on effectively exporting YouTube cookies\n",
      " 83%|████████▎ | 409/491 [1:26:34<01:37,  1.19s/it]"
     ]
    },
    {
     "name": "stdout",
     "output_type": "stream",
     "text": [
      "[Attempt 1] Download error: ERROR: [youtube] Soa3gO7tL-c: Sign in to confirm you’re not a bot. Use --cookies-from-browser or --cookies for the authentication. See  https://github.com/yt-dlp/yt-dlp/wiki/FAQ#how-do-i-pass-cookies-to-yt-dlp  for how to manually pass cookies. Also see  https://github.com/yt-dlp/yt-dlp/wiki/Extractors#exporting-youtube-cookies  for tips on effectively exporting YouTube cookies\n",
      "[Attempt 2] Download error: ERROR: [youtube] NUTGr5t3MoY: Sign in to confirm you’re not a bot. Use --cookies-from-browser or --cookies for the authentication. See  https://github.com/yt-dlp/yt-dlp/wiki/FAQ#how-do-i-pass-cookies-to-yt-dlp  for how to manually pass cookies. Also see  https://github.com/yt-dlp/yt-dlp/wiki/Extractors#exporting-youtube-cookies  for tips on effectively exporting YouTube cookies\n",
      "Error indexing Basket Case (ID 427): cannot unpack non-iterable NoneType object\n",
      "Downloading audio from https://www.youtube.com/watch?v=UNq9gmY_Oz4...\n"
     ]
    },
    {
     "name": "stderr",
     "output_type": "stream",
     "text": [
      "ERROR: [youtube] UNq9gmY_Oz4: Sign in to confirm you’re not a bot. Use --cookies-from-browser or --cookies for the authentication. See  https://github.com/yt-dlp/yt-dlp/wiki/FAQ#how-do-i-pass-cookies-to-yt-dlp  for how to manually pass cookies. Also see  https://github.com/yt-dlp/yt-dlp/wiki/Extractors#exporting-youtube-cookies  for tips on effectively exporting YouTube cookies\n",
      "ERROR: [youtube] Soa3gO7tL-c: Sign in to confirm you’re not a bot. Use --cookies-from-browser or --cookies for the authentication. See  https://github.com/yt-dlp/yt-dlp/wiki/FAQ#how-do-i-pass-cookies-to-yt-dlp  for how to manually pass cookies. Also see  https://github.com/yt-dlp/yt-dlp/wiki/Extractors#exporting-youtube-cookies  for tips on effectively exporting YouTube cookies\n"
     ]
    },
    {
     "name": "stdout",
     "output_type": "stream",
     "text": [
      "[Attempt 1] Download error: ERROR: [youtube] UNq9gmY_Oz4: Sign in to confirm you’re not a bot. Use --cookies-from-browser or --cookies for the authentication. See  https://github.com/yt-dlp/yt-dlp/wiki/FAQ#how-do-i-pass-cookies-to-yt-dlp  for how to manually pass cookies. Also see  https://github.com/yt-dlp/yt-dlp/wiki/Extractors#exporting-youtube-cookies  for tips on effectively exporting YouTube cookies\n",
      "[Attempt 2] Download error: ERROR: [youtube] Soa3gO7tL-c: Sign in to confirm you’re not a bot. Use --cookies-from-browser or --cookies for the authentication. See  https://github.com/yt-dlp/yt-dlp/wiki/FAQ#how-do-i-pass-cookies-to-yt-dlp  for how to manually pass cookies. Also see  https://github.com/yt-dlp/yt-dlp/wiki/Extractors#exporting-youtube-cookies  for tips on effectively exporting YouTube cookies\n",
      "Error indexing Boulevard of Broken Dreams (ID 428): cannot unpack non-iterable NoneType object\n",
      "Downloading audio from https://www.youtube.com/watch?v=CnQ8N1KacJc...\n"
     ]
    },
    {
     "name": "stderr",
     "output_type": "stream",
     "text": [
      " 84%|████████▎ | 410/491 [1:26:35<01:39,  1.23s/it]ERROR: [youtube] UNq9gmY_Oz4: Sign in to confirm you’re not a bot. Use --cookies-from-browser or --cookies for the authentication. See  https://github.com/yt-dlp/yt-dlp/wiki/FAQ#how-do-i-pass-cookies-to-yt-dlp  for how to manually pass cookies. Also see  https://github.com/yt-dlp/yt-dlp/wiki/Extractors#exporting-youtube-cookies  for tips on effectively exporting YouTube cookies\n",
      " 84%|████████▎ | 411/491 [1:26:36<01:29,  1.11s/it]"
     ]
    },
    {
     "name": "stdout",
     "output_type": "stream",
     "text": [
      "[Attempt 2] Download error: ERROR: [youtube] UNq9gmY_Oz4: Sign in to confirm you’re not a bot. Use --cookies-from-browser or --cookies for the authentication. See  https://github.com/yt-dlp/yt-dlp/wiki/FAQ#how-do-i-pass-cookies-to-yt-dlp  for how to manually pass cookies. Also see  https://github.com/yt-dlp/yt-dlp/wiki/Extractors#exporting-youtube-cookies  for tips on effectively exporting YouTube cookies\n",
      "Error indexing Brain Stew (ID 429): cannot unpack non-iterable NoneType object\n",
      "Downloading audio from https://www.youtube.com/watch?v=4Sc81yxo600...\n"
     ]
    },
    {
     "name": "stderr",
     "output_type": "stream",
     "text": [
      "ERROR: [youtube] CnQ8N1KacJc: Sign in to confirm you’re not a bot. Use --cookies-from-browser or --cookies for the authentication. See  https://github.com/yt-dlp/yt-dlp/wiki/FAQ#how-do-i-pass-cookies-to-yt-dlp  for how to manually pass cookies. Also see  https://github.com/yt-dlp/yt-dlp/wiki/Extractors#exporting-youtube-cookies  for tips on effectively exporting YouTube cookies\n"
     ]
    },
    {
     "name": "stdout",
     "output_type": "stream",
     "text": [
      "[Attempt 1] Download error: ERROR: [youtube] CnQ8N1KacJc: Sign in to confirm you’re not a bot. Use --cookies-from-browser or --cookies for the authentication. See  https://github.com/yt-dlp/yt-dlp/wiki/FAQ#how-do-i-pass-cookies-to-yt-dlp  for how to manually pass cookies. Also see  https://github.com/yt-dlp/yt-dlp/wiki/Extractors#exporting-youtube-cookies  for tips on effectively exporting YouTube cookies\n"
     ]
    },
    {
     "name": "stderr",
     "output_type": "stream",
     "text": [
      "ERROR: [youtube] 4Sc81yxo600: Sign in to confirm you’re not a bot. Use --cookies-from-browser or --cookies for the authentication. See  https://github.com/yt-dlp/yt-dlp/wiki/FAQ#how-do-i-pass-cookies-to-yt-dlp  for how to manually pass cookies. Also see  https://github.com/yt-dlp/yt-dlp/wiki/Extractors#exporting-youtube-cookies  for tips on effectively exporting YouTube cookies\n"
     ]
    },
    {
     "name": "stdout",
     "output_type": "stream",
     "text": [
      "[Attempt 1] Download error: ERROR: [youtube] 4Sc81yxo600: Sign in to confirm you’re not a bot. Use --cookies-from-browser or --cookies for the authentication. See  https://github.com/yt-dlp/yt-dlp/wiki/FAQ#how-do-i-pass-cookies-to-yt-dlp  for how to manually pass cookies. Also see  https://github.com/yt-dlp/yt-dlp/wiki/Extractors#exporting-youtube-cookies  for tips on effectively exporting YouTube cookies\n"
     ]
    },
    {
     "name": "stderr",
     "output_type": "stream",
     "text": [
      "ERROR: [youtube] CnQ8N1KacJc: Sign in to confirm you’re not a bot. Use --cookies-from-browser or --cookies for the authentication. See  https://github.com/yt-dlp/yt-dlp/wiki/FAQ#how-do-i-pass-cookies-to-yt-dlp  for how to manually pass cookies. Also see  https://github.com/yt-dlp/yt-dlp/wiki/Extractors#exporting-youtube-cookies  for tips on effectively exporting YouTube cookies\n",
      " 84%|████████▍ | 412/491 [1:26:38<01:35,  1.21s/it]"
     ]
    },
    {
     "name": "stdout",
     "output_type": "stream",
     "text": [
      "[Attempt 2] Download error: ERROR: [youtube] CnQ8N1KacJc: Sign in to confirm you’re not a bot. Use --cookies-from-browser or --cookies for the authentication. See  https://github.com/yt-dlp/yt-dlp/wiki/FAQ#how-do-i-pass-cookies-to-yt-dlp  for how to manually pass cookies. Also see  https://github.com/yt-dlp/yt-dlp/wiki/Extractors#exporting-youtube-cookies  for tips on effectively exporting YouTube cookies\n",
      "Error indexing Good Riddance (Time of Your Life) (ID 430): cannot unpack non-iterable NoneType object\n",
      "Downloading audio from https://www.youtube.com/watch?v=Ajxn0PKbv7I...\n"
     ]
    },
    {
     "name": "stderr",
     "output_type": "stream",
     "text": [
      "ERROR: [youtube] 4Sc81yxo600: Sign in to confirm you’re not a bot. Use --cookies-from-browser or --cookies for the authentication. See  https://github.com/yt-dlp/yt-dlp/wiki/FAQ#how-do-i-pass-cookies-to-yt-dlp  for how to manually pass cookies. Also see  https://github.com/yt-dlp/yt-dlp/wiki/Extractors#exporting-youtube-cookies  for tips on effectively exporting YouTube cookies\n",
      " 84%|████████▍ | 413/491 [1:26:38<01:21,  1.04s/it]"
     ]
    },
    {
     "name": "stdout",
     "output_type": "stream",
     "text": [
      "[Attempt 2] Download error: ERROR: [youtube] 4Sc81yxo600: Sign in to confirm you’re not a bot. Use --cookies-from-browser or --cookies for the authentication. See  https://github.com/yt-dlp/yt-dlp/wiki/FAQ#how-do-i-pass-cookies-to-yt-dlp  for how to manually pass cookies. Also see  https://github.com/yt-dlp/yt-dlp/wiki/Extractors#exporting-youtube-cookies  for tips on effectively exporting YouTube cookies\n",
      "Error indexing Hitchin' a Ride (ID 431): cannot unpack non-iterable NoneType object\n",
      "Downloading audio from https://www.youtube.com/watch?v=9IclmVdWNbI...\n"
     ]
    },
    {
     "name": "stderr",
     "output_type": "stream",
     "text": [
      "ERROR: [youtube] Ajxn0PKbv7I: Sign in to confirm you’re not a bot. Use --cookies-from-browser or --cookies for the authentication. See  https://github.com/yt-dlp/yt-dlp/wiki/FAQ#how-do-i-pass-cookies-to-yt-dlp  for how to manually pass cookies. Also see  https://github.com/yt-dlp/yt-dlp/wiki/Extractors#exporting-youtube-cookies  for tips on effectively exporting YouTube cookies\n"
     ]
    },
    {
     "name": "stdout",
     "output_type": "stream",
     "text": [
      "[Attempt 1] Download error: ERROR: [youtube] Ajxn0PKbv7I: Sign in to confirm you’re not a bot. Use --cookies-from-browser or --cookies for the authentication. See  https://github.com/yt-dlp/yt-dlp/wiki/FAQ#how-do-i-pass-cookies-to-yt-dlp  for how to manually pass cookies. Also see  https://github.com/yt-dlp/yt-dlp/wiki/Extractors#exporting-youtube-cookies  for tips on effectively exporting YouTube cookies\n"
     ]
    },
    {
     "name": "stderr",
     "output_type": "stream",
     "text": [
      "ERROR: [youtube] 9IclmVdWNbI: Sign in to confirm you’re not a bot. Use --cookies-from-browser or --cookies for the authentication. See  https://github.com/yt-dlp/yt-dlp/wiki/FAQ#how-do-i-pass-cookies-to-yt-dlp  for how to manually pass cookies. Also see  https://github.com/yt-dlp/yt-dlp/wiki/Extractors#exporting-youtube-cookies  for tips on effectively exporting YouTube cookies\n"
     ]
    },
    {
     "name": "stdout",
     "output_type": "stream",
     "text": [
      "[Attempt 1] Download error: ERROR: [youtube] 9IclmVdWNbI: Sign in to confirm you’re not a bot. Use --cookies-from-browser or --cookies for the authentication. See  https://github.com/yt-dlp/yt-dlp/wiki/FAQ#how-do-i-pass-cookies-to-yt-dlp  for how to manually pass cookies. Also see  https://github.com/yt-dlp/yt-dlp/wiki/Extractors#exporting-youtube-cookies  for tips on effectively exporting YouTube cookies\n"
     ]
    },
    {
     "name": "stderr",
     "output_type": "stream",
     "text": [
      "ERROR: [youtube] Ajxn0PKbv7I: Sign in to confirm you’re not a bot. Use --cookies-from-browser or --cookies for the authentication. See  https://github.com/yt-dlp/yt-dlp/wiki/FAQ#how-do-i-pass-cookies-to-yt-dlp  for how to manually pass cookies. Also see  https://github.com/yt-dlp/yt-dlp/wiki/Extractors#exporting-youtube-cookies  for tips on effectively exporting YouTube cookies\n",
      " 84%|████████▍ | 414/491 [1:26:40<01:28,  1.15s/it]"
     ]
    },
    {
     "name": "stdout",
     "output_type": "stream",
     "text": [
      "[Attempt 2] Download error: ERROR: [youtube] Ajxn0PKbv7I: Sign in to confirm you’re not a bot. Use --cookies-from-browser or --cookies for the authentication. See  https://github.com/yt-dlp/yt-dlp/wiki/FAQ#how-do-i-pass-cookies-to-yt-dlp  for how to manually pass cookies. Also see  https://github.com/yt-dlp/yt-dlp/wiki/Extractors#exporting-youtube-cookies  for tips on effectively exporting YouTube cookies\n",
      "Error indexing Holiday (ID 432): cannot unpack non-iterable NoneType object\n",
      "Downloading audio from https://www.youtube.com/watch?v=42BBdzzgPNM...\n"
     ]
    },
    {
     "name": "stderr",
     "output_type": "stream",
     "text": [
      "ERROR: [youtube] 9IclmVdWNbI: Sign in to confirm you’re not a bot. Use --cookies-from-browser or --cookies for the authentication. See  https://github.com/yt-dlp/yt-dlp/wiki/FAQ#how-do-i-pass-cookies-to-yt-dlp  for how to manually pass cookies. Also see  https://github.com/yt-dlp/yt-dlp/wiki/Extractors#exporting-youtube-cookies  for tips on effectively exporting YouTube cookies\n",
      " 85%|████████▍ | 415/491 [1:26:41<01:20,  1.06s/it]"
     ]
    },
    {
     "name": "stdout",
     "output_type": "stream",
     "text": [
      "[Attempt 2] Download error: ERROR: [youtube] 9IclmVdWNbI: Sign in to confirm you’re not a bot. Use --cookies-from-browser or --cookies for the authentication. See  https://github.com/yt-dlp/yt-dlp/wiki/FAQ#how-do-i-pass-cookies-to-yt-dlp  for how to manually pass cookies. Also see  https://github.com/yt-dlp/yt-dlp/wiki/Extractors#exporting-youtube-cookies  for tips on effectively exporting YouTube cookies\n",
      "Error indexing Know Your Enemy (ID 433): cannot unpack non-iterable NoneType object\n",
      "Downloading audio from https://www.youtube.com/watch?v=cDBlqu6KF4k...\n"
     ]
    },
    {
     "name": "stderr",
     "output_type": "stream",
     "text": [
      "ERROR: [youtube] 42BBdzzgPNM: Sign in to confirm you’re not a bot. Use --cookies-from-browser or --cookies for the authentication. See  https://github.com/yt-dlp/yt-dlp/wiki/FAQ#how-do-i-pass-cookies-to-yt-dlp  for how to manually pass cookies. Also see  https://github.com/yt-dlp/yt-dlp/wiki/Extractors#exporting-youtube-cookies  for tips on effectively exporting YouTube cookies\n"
     ]
    },
    {
     "name": "stdout",
     "output_type": "stream",
     "text": [
      "[Attempt 1] Download error: ERROR: [youtube] 42BBdzzgPNM: Sign in to confirm you’re not a bot. Use --cookies-from-browser or --cookies for the authentication. See  https://github.com/yt-dlp/yt-dlp/wiki/FAQ#how-do-i-pass-cookies-to-yt-dlp  for how to manually pass cookies. Also see  https://github.com/yt-dlp/yt-dlp/wiki/Extractors#exporting-youtube-cookies  for tips on effectively exporting YouTube cookies\n"
     ]
    },
    {
     "name": "stderr",
     "output_type": "stream",
     "text": [
      "ERROR: [youtube] cDBlqu6KF4k: Sign in to confirm you’re not a bot. Use --cookies-from-browser or --cookies for the authentication. See  https://github.com/yt-dlp/yt-dlp/wiki/FAQ#how-do-i-pass-cookies-to-yt-dlp  for how to manually pass cookies. Also see  https://github.com/yt-dlp/yt-dlp/wiki/Extractors#exporting-youtube-cookies  for tips on effectively exporting YouTube cookies\n",
      "ERROR: [youtube] 42BBdzzgPNM: Sign in to confirm you’re not a bot. Use --cookies-from-browser or --cookies for the authentication. See  https://github.com/yt-dlp/yt-dlp/wiki/FAQ#how-do-i-pass-cookies-to-yt-dlp  for how to manually pass cookies. Also see  https://github.com/yt-dlp/yt-dlp/wiki/Extractors#exporting-youtube-cookies  for tips on effectively exporting YouTube cookies\n",
      " 85%|████████▍ | 416/491 [1:26:42<01:28,  1.17s/it]"
     ]
    },
    {
     "name": "stdout",
     "output_type": "stream",
     "text": [
      "[Attempt 1] Download error: ERROR: [youtube] cDBlqu6KF4k: Sign in to confirm you’re not a bot. Use --cookies-from-browser or --cookies for the authentication. See  https://github.com/yt-dlp/yt-dlp/wiki/FAQ#how-do-i-pass-cookies-to-yt-dlp  for how to manually pass cookies. Also see  https://github.com/yt-dlp/yt-dlp/wiki/Extractors#exporting-youtube-cookies  for tips on effectively exporting YouTube cookies\n",
      "[Attempt 2] Download error: ERROR: [youtube] 42BBdzzgPNM: Sign in to confirm you’re not a bot. Use --cookies-from-browser or --cookies for the authentication. See  https://github.com/yt-dlp/yt-dlp/wiki/FAQ#how-do-i-pass-cookies-to-yt-dlp  for how to manually pass cookies. Also see  https://github.com/yt-dlp/yt-dlp/wiki/Extractors#exporting-youtube-cookies  for tips on effectively exporting YouTube cookies\n",
      "Error indexing Longview (ID 434): cannot unpack non-iterable NoneType object\n",
      "Downloading audio from https://www.youtube.com/watch?v=5Rs2m3lhg-k...\n"
     ]
    },
    {
     "name": "stderr",
     "output_type": "stream",
     "text": [
      "ERROR: [youtube] 5Rs2m3lhg-k: Sign in to confirm you’re not a bot. Use --cookies-from-browser or --cookies for the authentication. See  https://github.com/yt-dlp/yt-dlp/wiki/FAQ#how-do-i-pass-cookies-to-yt-dlp  for how to manually pass cookies. Also see  https://github.com/yt-dlp/yt-dlp/wiki/Extractors#exporting-youtube-cookies  for tips on effectively exporting YouTube cookies\n",
      "ERROR: [youtube] cDBlqu6KF4k: Sign in to confirm you’re not a bot. Use --cookies-from-browser or --cookies for the authentication. See  https://github.com/yt-dlp/yt-dlp/wiki/FAQ#how-do-i-pass-cookies-to-yt-dlp  for how to manually pass cookies. Also see  https://github.com/yt-dlp/yt-dlp/wiki/Extractors#exporting-youtube-cookies  for tips on effectively exporting YouTube cookies\n",
      " 85%|████████▍ | 417/491 [1:26:43<01:25,  1.15s/it]"
     ]
    },
    {
     "name": "stdout",
     "output_type": "stream",
     "text": [
      "[Attempt 1] Download error: ERROR: [youtube] 5Rs2m3lhg-k: Sign in to confirm you’re not a bot. Use --cookies-from-browser or --cookies for the authentication. See  https://github.com/yt-dlp/yt-dlp/wiki/FAQ#how-do-i-pass-cookies-to-yt-dlp  for how to manually pass cookies. Also see  https://github.com/yt-dlp/yt-dlp/wiki/Extractors#exporting-youtube-cookies  for tips on effectively exporting YouTube cookies\n",
      "[Attempt 2] Download error: ERROR: [youtube] cDBlqu6KF4k: Sign in to confirm you’re not a bot. Use --cookies-from-browser or --cookies for the authentication. See  https://github.com/yt-dlp/yt-dlp/wiki/FAQ#how-do-i-pass-cookies-to-yt-dlp  for how to manually pass cookies. Also see  https://github.com/yt-dlp/yt-dlp/wiki/Extractors#exporting-youtube-cookies  for tips on effectively exporting YouTube cookies\n",
      "Error indexing Minority (ID 435): cannot unpack non-iterable NoneType object\n",
      "Downloading audio from https://www.youtube.com/watch?v=NU9JoFKlaZ0...\n"
     ]
    },
    {
     "name": "stderr",
     "output_type": "stream",
     "text": [
      "ERROR: [youtube] NU9JoFKlaZ0: Sign in to confirm you’re not a bot. Use --cookies-from-browser or --cookies for the authentication. See  https://github.com/yt-dlp/yt-dlp/wiki/FAQ#how-do-i-pass-cookies-to-yt-dlp  for how to manually pass cookies. Also see  https://github.com/yt-dlp/yt-dlp/wiki/Extractors#exporting-youtube-cookies  for tips on effectively exporting YouTube cookies\n",
      "ERROR: [youtube] 5Rs2m3lhg-k: Sign in to confirm you’re not a bot. Use --cookies-from-browser or --cookies for the authentication. See  https://github.com/yt-dlp/yt-dlp/wiki/FAQ#how-do-i-pass-cookies-to-yt-dlp  for how to manually pass cookies. Also see  https://github.com/yt-dlp/yt-dlp/wiki/Extractors#exporting-youtube-cookies  for tips on effectively exporting YouTube cookies\n"
     ]
    },
    {
     "name": "stdout",
     "output_type": "stream",
     "text": [
      "[Attempt 1] Download error: ERROR: [youtube] NU9JoFKlaZ0: Sign in to confirm you’re not a bot. Use --cookies-from-browser or --cookies for the authentication. See  https://github.com/yt-dlp/yt-dlp/wiki/FAQ#how-do-i-pass-cookies-to-yt-dlp  for how to manually pass cookies. Also see  https://github.com/yt-dlp/yt-dlp/wiki/Extractors#exporting-youtube-cookies  for tips on effectively exporting YouTube cookies\n",
      "[Attempt 2] Download error: ERROR: [youtube] 5Rs2m3lhg-k: Sign in to confirm you’re not a bot. Use --cookies-from-browser or --cookies for the authentication. See  https://github.com/yt-dlp/yt-dlp/wiki/FAQ#how-do-i-pass-cookies-to-yt-dlp  for how to manually pass cookies. Also see  https://github.com/yt-dlp/yt-dlp/wiki/Extractors#exporting-youtube-cookies  for tips on effectively exporting YouTube cookies\n",
      "Error indexing The Forgotten (ID 436): cannot unpack non-iterable NoneType object\n",
      "Downloading audio from https://www.youtube.com/watch?v=eebfMFzJHNs...\n"
     ]
    },
    {
     "name": "stderr",
     "output_type": "stream",
     "text": [
      " 85%|████████▌ | 418/491 [1:26:44<01:26,  1.18s/it]ERROR: [youtube] NU9JoFKlaZ0: Sign in to confirm you’re not a bot. Use --cookies-from-browser or --cookies for the authentication. See  https://github.com/yt-dlp/yt-dlp/wiki/FAQ#how-do-i-pass-cookies-to-yt-dlp  for how to manually pass cookies. Also see  https://github.com/yt-dlp/yt-dlp/wiki/Extractors#exporting-youtube-cookies  for tips on effectively exporting YouTube cookies\n",
      " 85%|████████▌ | 419/491 [1:26:45<01:18,  1.09s/it]"
     ]
    },
    {
     "name": "stdout",
     "output_type": "stream",
     "text": [
      "[Attempt 2] Download error: ERROR: [youtube] NU9JoFKlaZ0: Sign in to confirm you’re not a bot. Use --cookies-from-browser or --cookies for the authentication. See  https://github.com/yt-dlp/yt-dlp/wiki/FAQ#how-do-i-pass-cookies-to-yt-dlp  for how to manually pass cookies. Also see  https://github.com/yt-dlp/yt-dlp/wiki/Extractors#exporting-youtube-cookies  for tips on effectively exporting YouTube cookies\n",
      "Error indexing Wake Me up When September Ends (ID 437): cannot unpack non-iterable NoneType object\n",
      "Downloading audio from https://www.youtube.com/watch?v=1o-wiosXJB8...\n"
     ]
    },
    {
     "name": "stderr",
     "output_type": "stream",
     "text": [
      "ERROR: [youtube] eebfMFzJHNs: Sign in to confirm you’re not a bot. Use --cookies-from-browser or --cookies for the authentication. See  https://github.com/yt-dlp/yt-dlp/wiki/FAQ#how-do-i-pass-cookies-to-yt-dlp  for how to manually pass cookies. Also see  https://github.com/yt-dlp/yt-dlp/wiki/Extractors#exporting-youtube-cookies  for tips on effectively exporting YouTube cookies\n"
     ]
    },
    {
     "name": "stdout",
     "output_type": "stream",
     "text": [
      "[Attempt 1] Download error: ERROR: [youtube] eebfMFzJHNs: Sign in to confirm you’re not a bot. Use --cookies-from-browser or --cookies for the authentication. See  https://github.com/yt-dlp/yt-dlp/wiki/FAQ#how-do-i-pass-cookies-to-yt-dlp  for how to manually pass cookies. Also see  https://github.com/yt-dlp/yt-dlp/wiki/Extractors#exporting-youtube-cookies  for tips on effectively exporting YouTube cookies\n"
     ]
    },
    {
     "name": "stderr",
     "output_type": "stream",
     "text": [
      "ERROR: [youtube] 1o-wiosXJB8: Sign in to confirm you’re not a bot. Use --cookies-from-browser or --cookies for the authentication. See  https://github.com/yt-dlp/yt-dlp/wiki/FAQ#how-do-i-pass-cookies-to-yt-dlp  for how to manually pass cookies. Also see  https://github.com/yt-dlp/yt-dlp/wiki/Extractors#exporting-youtube-cookies  for tips on effectively exporting YouTube cookies\n"
     ]
    },
    {
     "name": "stdout",
     "output_type": "stream",
     "text": [
      "[Attempt 1] Download error: ERROR: [youtube] 1o-wiosXJB8: Sign in to confirm you’re not a bot. Use --cookies-from-browser or --cookies for the authentication. See  https://github.com/yt-dlp/yt-dlp/wiki/FAQ#how-do-i-pass-cookies-to-yt-dlp  for how to manually pass cookies. Also see  https://github.com/yt-dlp/yt-dlp/wiki/Extractors#exporting-youtube-cookies  for tips on effectively exporting YouTube cookies\n"
     ]
    },
    {
     "name": "stderr",
     "output_type": "stream",
     "text": [
      "ERROR: [youtube] eebfMFzJHNs: Sign in to confirm you’re not a bot. Use --cookies-from-browser or --cookies for the authentication. See  https://github.com/yt-dlp/yt-dlp/wiki/FAQ#how-do-i-pass-cookies-to-yt-dlp  for how to manually pass cookies. Also see  https://github.com/yt-dlp/yt-dlp/wiki/Extractors#exporting-youtube-cookies  for tips on effectively exporting YouTube cookies\n",
      " 86%|████████▌ | 420/491 [1:26:47<01:23,  1.18s/it]"
     ]
    },
    {
     "name": "stdout",
     "output_type": "stream",
     "text": [
      "[Attempt 2] Download error: ERROR: [youtube] eebfMFzJHNs: Sign in to confirm you’re not a bot. Use --cookies-from-browser or --cookies for the authentication. See  https://github.com/yt-dlp/yt-dlp/wiki/FAQ#how-do-i-pass-cookies-to-yt-dlp  for how to manually pass cookies. Also see  https://github.com/yt-dlp/yt-dlp/wiki/Extractors#exporting-youtube-cookies  for tips on effectively exporting YouTube cookies\n",
      "Error indexing Warning (ID 438): cannot unpack non-iterable NoneType object\n",
      "Downloading audio from https://www.youtube.com/watch?v=i8dh9gDzmz8...\n"
     ]
    },
    {
     "name": "stderr",
     "output_type": "stream",
     "text": [
      "ERROR: [youtube] 1o-wiosXJB8: Sign in to confirm you’re not a bot. Use --cookies-from-browser or --cookies for the authentication. See  https://github.com/yt-dlp/yt-dlp/wiki/FAQ#how-do-i-pass-cookies-to-yt-dlp  for how to manually pass cookies. Also see  https://github.com/yt-dlp/yt-dlp/wiki/Extractors#exporting-youtube-cookies  for tips on effectively exporting YouTube cookies\n",
      " 86%|████████▌ | 421/491 [1:26:47<01:17,  1.10s/it]ERROR: [youtube] i8dh9gDzmz8: Sign in to confirm you’re not a bot. Use --cookies-from-browser or --cookies for the authentication. See  https://github.com/yt-dlp/yt-dlp/wiki/FAQ#how-do-i-pass-cookies-to-yt-dlp  for how to manually pass cookies. Also see  https://github.com/yt-dlp/yt-dlp/wiki/Extractors#exporting-youtube-cookies  for tips on effectively exporting YouTube cookies\n"
     ]
    },
    {
     "name": "stdout",
     "output_type": "stream",
     "text": [
      "[Attempt 2] Download error: ERROR: [youtube] 1o-wiosXJB8: Sign in to confirm you’re not a bot. Use --cookies-from-browser or --cookies for the authentication. See  https://github.com/yt-dlp/yt-dlp/wiki/FAQ#how-do-i-pass-cookies-to-yt-dlp  for how to manually pass cookies. Also see  https://github.com/yt-dlp/yt-dlp/wiki/Extractors#exporting-youtube-cookies  for tips on effectively exporting YouTube cookies\n",
      "Error indexing Welcome to Paradise (ID 439): cannot unpack non-iterable NoneType object\n",
      "Downloading audio from https://www.youtube.com/watch?v=xdYFuCp3m9k...\n",
      "[Attempt 1] Download error: ERROR: [youtube] i8dh9gDzmz8: Sign in to confirm you’re not a bot. Use --cookies-from-browser or --cookies for the authentication. See  https://github.com/yt-dlp/yt-dlp/wiki/FAQ#how-do-i-pass-cookies-to-yt-dlp  for how to manually pass cookies. Also see  https://github.com/yt-dlp/yt-dlp/wiki/Extractors#exporting-youtube-cookies  for tips on effectively exporting YouTube cookies\n"
     ]
    },
    {
     "name": "stderr",
     "output_type": "stream",
     "text": [
      "ERROR: [youtube] xdYFuCp3m9k: Sign in to confirm you’re not a bot. Use --cookies-from-browser or --cookies for the authentication. See  https://github.com/yt-dlp/yt-dlp/wiki/FAQ#how-do-i-pass-cookies-to-yt-dlp  for how to manually pass cookies. Also see  https://github.com/yt-dlp/yt-dlp/wiki/Extractors#exporting-youtube-cookies  for tips on effectively exporting YouTube cookies\n",
      "ERROR: [youtube] i8dh9gDzmz8: Sign in to confirm you’re not a bot. Use --cookies-from-browser or --cookies for the authentication. See  https://github.com/yt-dlp/yt-dlp/wiki/FAQ#how-do-i-pass-cookies-to-yt-dlp  for how to manually pass cookies. Also see  https://github.com/yt-dlp/yt-dlp/wiki/Extractors#exporting-youtube-cookies  for tips on effectively exporting YouTube cookies\n",
      " 86%|████████▌ | 422/491 [1:26:49<01:32,  1.34s/it]"
     ]
    },
    {
     "name": "stdout",
     "output_type": "stream",
     "text": [
      "[Attempt 1] Download error: ERROR: [youtube] xdYFuCp3m9k: Sign in to confirm you’re not a bot. Use --cookies-from-browser or --cookies for the authentication. See  https://github.com/yt-dlp/yt-dlp/wiki/FAQ#how-do-i-pass-cookies-to-yt-dlp  for how to manually pass cookies. Also see  https://github.com/yt-dlp/yt-dlp/wiki/Extractors#exporting-youtube-cookies  for tips on effectively exporting YouTube cookies\n",
      "[Attempt 2] Download error: ERROR: [youtube] i8dh9gDzmz8: Sign in to confirm you’re not a bot. Use --cookies-from-browser or --cookies for the authentication. See  https://github.com/yt-dlp/yt-dlp/wiki/FAQ#how-do-i-pass-cookies-to-yt-dlp  for how to manually pass cookies. Also see  https://github.com/yt-dlp/yt-dlp/wiki/Extractors#exporting-youtube-cookies  for tips on effectively exporting YouTube cookies\n",
      "Error indexing When I Come Around (ID 440): cannot unpack non-iterable NoneType object\n",
      "Downloading audio from https://www.youtube.com/watch?v=rPgaYeq9NvI...\n"
     ]
    },
    {
     "name": "stderr",
     "output_type": "stream",
     "text": [
      "ERROR: [youtube] xdYFuCp3m9k: Sign in to confirm you’re not a bot. Use --cookies-from-browser or --cookies for the authentication. See  https://github.com/yt-dlp/yt-dlp/wiki/FAQ#how-do-i-pass-cookies-to-yt-dlp  for how to manually pass cookies. Also see  https://github.com/yt-dlp/yt-dlp/wiki/Extractors#exporting-youtube-cookies  for tips on effectively exporting YouTube cookies\n",
      " 86%|████████▌ | 423/491 [1:26:50<01:25,  1.25s/it]ERROR: [youtube] rPgaYeq9NvI: Sign in to confirm you’re not a bot. Use --cookies-from-browser or --cookies for the authentication. See  https://github.com/yt-dlp/yt-dlp/wiki/FAQ#how-do-i-pass-cookies-to-yt-dlp  for how to manually pass cookies. Also see  https://github.com/yt-dlp/yt-dlp/wiki/Extractors#exporting-youtube-cookies  for tips on effectively exporting YouTube cookies\n"
     ]
    },
    {
     "name": "stdout",
     "output_type": "stream",
     "text": [
      "[Attempt 2] Download error: ERROR: [youtube] xdYFuCp3m9k: Sign in to confirm you’re not a bot. Use --cookies-from-browser or --cookies for the authentication. See  https://github.com/yt-dlp/yt-dlp/wiki/FAQ#how-do-i-pass-cookies-to-yt-dlp  for how to manually pass cookies. Also see  https://github.com/yt-dlp/yt-dlp/wiki/Extractors#exporting-youtube-cookies  for tips on effectively exporting YouTube cookies\n",
      "Error indexing Bad At Love (ID 441): cannot unpack non-iterable NoneType object\n",
      "Downloading audio from https://www.youtube.com/watch?v=b-eYbUVZedY...\n",
      "[Attempt 1] Download error: ERROR: [youtube] rPgaYeq9NvI: Sign in to confirm you’re not a bot. Use --cookies-from-browser or --cookies for the authentication. See  https://github.com/yt-dlp/yt-dlp/wiki/FAQ#how-do-i-pass-cookies-to-yt-dlp  for how to manually pass cookies. Also see  https://github.com/yt-dlp/yt-dlp/wiki/Extractors#exporting-youtube-cookies  for tips on effectively exporting YouTube cookies\n"
     ]
    },
    {
     "name": "stderr",
     "output_type": "stream",
     "text": [
      "ERROR: [youtube] b-eYbUVZedY: Sign in to confirm you’re not a bot. Use --cookies-from-browser or --cookies for the authentication. See  https://github.com/yt-dlp/yt-dlp/wiki/FAQ#how-do-i-pass-cookies-to-yt-dlp  for how to manually pass cookies. Also see  https://github.com/yt-dlp/yt-dlp/wiki/Extractors#exporting-youtube-cookies  for tips on effectively exporting YouTube cookies\n",
      "ERROR: [youtube] rPgaYeq9NvI: Sign in to confirm you’re not a bot. Use --cookies-from-browser or --cookies for the authentication. See  https://github.com/yt-dlp/yt-dlp/wiki/FAQ#how-do-i-pass-cookies-to-yt-dlp  for how to manually pass cookies. Also see  https://github.com/yt-dlp/yt-dlp/wiki/Extractors#exporting-youtube-cookies  for tips on effectively exporting YouTube cookies\n",
      " 86%|████████▋ | 424/491 [1:26:52<01:25,  1.27s/it]"
     ]
    },
    {
     "name": "stdout",
     "output_type": "stream",
     "text": [
      "[Attempt 1] Download error: ERROR: [youtube] b-eYbUVZedY: Sign in to confirm you’re not a bot. Use --cookies-from-browser or --cookies for the authentication. See  https://github.com/yt-dlp/yt-dlp/wiki/FAQ#how-do-i-pass-cookies-to-yt-dlp  for how to manually pass cookies. Also see  https://github.com/yt-dlp/yt-dlp/wiki/Extractors#exporting-youtube-cookies  for tips on effectively exporting YouTube cookies\n",
      "[Attempt 2] Download error: ERROR: [youtube] rPgaYeq9NvI: Sign in to confirm you’re not a bot. Use --cookies-from-browser or --cookies for the authentication. See  https://github.com/yt-dlp/yt-dlp/wiki/FAQ#how-do-i-pass-cookies-to-yt-dlp  for how to manually pass cookies. Also see  https://github.com/yt-dlp/yt-dlp/wiki/Extractors#exporting-youtube-cookies  for tips on effectively exporting YouTube cookies\n",
      "Error indexing Graveyard (ID 442): cannot unpack non-iterable NoneType object\n",
      "Downloading audio from https://www.youtube.com/watch?v=Q9jNSwmEQ3s...\n"
     ]
    },
    {
     "name": "stderr",
     "output_type": "stream",
     "text": [
      "ERROR: [youtube] b-eYbUVZedY: Sign in to confirm you’re not a bot. Use --cookies-from-browser or --cookies for the authentication. See  https://github.com/yt-dlp/yt-dlp/wiki/FAQ#how-do-i-pass-cookies-to-yt-dlp  for how to manually pass cookies. Also see  https://github.com/yt-dlp/yt-dlp/wiki/Extractors#exporting-youtube-cookies  for tips on effectively exporting YouTube cookies\n",
      " 87%|████████▋ | 425/491 [1:26:53<01:16,  1.15s/it]"
     ]
    },
    {
     "name": "stdout",
     "output_type": "stream",
     "text": [
      "[Attempt 2] Download error: ERROR: [youtube] b-eYbUVZedY: Sign in to confirm you’re not a bot. Use --cookies-from-browser or --cookies for the authentication. See  https://github.com/yt-dlp/yt-dlp/wiki/FAQ#how-do-i-pass-cookies-to-yt-dlp  for how to manually pass cookies. Also see  https://github.com/yt-dlp/yt-dlp/wiki/Extractors#exporting-youtube-cookies  for tips on effectively exporting YouTube cookies\n",
      "Error indexing New Americana (ID 443): cannot unpack non-iterable NoneType object\n",
      "Downloading audio from https://www.youtube.com/watch?v=ZAfAud_M_mg...\n"
     ]
    },
    {
     "name": "stderr",
     "output_type": "stream",
     "text": [
      "ERROR: [youtube] Q9jNSwmEQ3s: Sign in to confirm you’re not a bot. Use --cookies-from-browser or --cookies for the authentication. See  https://github.com/yt-dlp/yt-dlp/wiki/FAQ#how-do-i-pass-cookies-to-yt-dlp  for how to manually pass cookies. Also see  https://github.com/yt-dlp/yt-dlp/wiki/Extractors#exporting-youtube-cookies  for tips on effectively exporting YouTube cookies\n"
     ]
    },
    {
     "name": "stdout",
     "output_type": "stream",
     "text": [
      "[Attempt 1] Download error: ERROR: [youtube] Q9jNSwmEQ3s: Sign in to confirm you’re not a bot. Use --cookies-from-browser or --cookies for the authentication. See  https://github.com/yt-dlp/yt-dlp/wiki/FAQ#how-do-i-pass-cookies-to-yt-dlp  for how to manually pass cookies. Also see  https://github.com/yt-dlp/yt-dlp/wiki/Extractors#exporting-youtube-cookies  for tips on effectively exporting YouTube cookies\n"
     ]
    },
    {
     "name": "stderr",
     "output_type": "stream",
     "text": [
      "ERROR: [youtube] ZAfAud_M_mg: Sign in to confirm you’re not a bot. Use --cookies-from-browser or --cookies for the authentication. See  https://github.com/yt-dlp/yt-dlp/wiki/FAQ#how-do-i-pass-cookies-to-yt-dlp  for how to manually pass cookies. Also see  https://github.com/yt-dlp/yt-dlp/wiki/Extractors#exporting-youtube-cookies  for tips on effectively exporting YouTube cookies\n",
      "ERROR: [youtube] Q9jNSwmEQ3s: Sign in to confirm you’re not a bot. Use --cookies-from-browser or --cookies for the authentication. See  https://github.com/yt-dlp/yt-dlp/wiki/FAQ#how-do-i-pass-cookies-to-yt-dlp  for how to manually pass cookies. Also see  https://github.com/yt-dlp/yt-dlp/wiki/Extractors#exporting-youtube-cookies  for tips on effectively exporting YouTube cookies\n",
      " 87%|████████▋ | 426/491 [1:26:54<01:17,  1.19s/it]"
     ]
    },
    {
     "name": "stdout",
     "output_type": "stream",
     "text": [
      "[Attempt 1] Download error: ERROR: [youtube] ZAfAud_M_mg: Sign in to confirm you’re not a bot. Use --cookies-from-browser or --cookies for the authentication. See  https://github.com/yt-dlp/yt-dlp/wiki/FAQ#how-do-i-pass-cookies-to-yt-dlp  for how to manually pass cookies. Also see  https://github.com/yt-dlp/yt-dlp/wiki/Extractors#exporting-youtube-cookies  for tips on effectively exporting YouTube cookies\n",
      "[Attempt 2] Download error: ERROR: [youtube] Q9jNSwmEQ3s: Sign in to confirm you’re not a bot. Use --cookies-from-browser or --cookies for the authentication. See  https://github.com/yt-dlp/yt-dlp/wiki/FAQ#how-do-i-pass-cookies-to-yt-dlp  for how to manually pass cookies. Also see  https://github.com/yt-dlp/yt-dlp/wiki/Extractors#exporting-youtube-cookies  for tips on effectively exporting YouTube cookies\n",
      "Error indexing Now Or Never (ID 444): cannot unpack non-iterable NoneType object\n",
      "Downloading audio from https://www.youtube.com/watch?v=8nBFqZppIF0...\n"
     ]
    },
    {
     "name": "stderr",
     "output_type": "stream",
     "text": [
      "ERROR: [youtube] 8nBFqZppIF0: Sign in to confirm you’re not a bot. Use --cookies-from-browser or --cookies for the authentication. See  https://github.com/yt-dlp/yt-dlp/wiki/FAQ#how-do-i-pass-cookies-to-yt-dlp  for how to manually pass cookies. Also see  https://github.com/yt-dlp/yt-dlp/wiki/Extractors#exporting-youtube-cookies  for tips on effectively exporting YouTube cookies\n",
      "ERROR: [youtube] ZAfAud_M_mg: Sign in to confirm you’re not a bot. Use --cookies-from-browser or --cookies for the authentication. See  https://github.com/yt-dlp/yt-dlp/wiki/FAQ#how-do-i-pass-cookies-to-yt-dlp  for how to manually pass cookies. Also see  https://github.com/yt-dlp/yt-dlp/wiki/Extractors#exporting-youtube-cookies  for tips on effectively exporting YouTube cookies\n",
      " 87%|████████▋ | 427/491 [1:26:55<01:13,  1.14s/it]"
     ]
    },
    {
     "name": "stdout",
     "output_type": "stream",
     "text": [
      "[Attempt 1] Download error: ERROR: [youtube] 8nBFqZppIF0: Sign in to confirm you’re not a bot. Use --cookies-from-browser or --cookies for the authentication. See  https://github.com/yt-dlp/yt-dlp/wiki/FAQ#how-do-i-pass-cookies-to-yt-dlp  for how to manually pass cookies. Also see  https://github.com/yt-dlp/yt-dlp/wiki/Extractors#exporting-youtube-cookies  for tips on effectively exporting YouTube cookies\n",
      "[Attempt 2] Download error: ERROR: [youtube] ZAfAud_M_mg: Sign in to confirm you’re not a bot. Use --cookies-from-browser or --cookies for the authentication. See  https://github.com/yt-dlp/yt-dlp/wiki/FAQ#how-do-i-pass-cookies-to-yt-dlp  for how to manually pass cookies. Also see  https://github.com/yt-dlp/yt-dlp/wiki/Extractors#exporting-youtube-cookies  for tips on effectively exporting YouTube cookies\n",
      "Error indexing Without Me (ID 445): cannot unpack non-iterable NoneType object\n",
      "Downloading audio from https://www.youtube.com/watch?v=VF-r5TtlT9w...\n"
     ]
    },
    {
     "name": "stderr",
     "output_type": "stream",
     "text": [
      "ERROR: [youtube] VF-r5TtlT9w: Sign in to confirm you’re not a bot. Use --cookies-from-browser or --cookies for the authentication. See  https://github.com/yt-dlp/yt-dlp/wiki/FAQ#how-do-i-pass-cookies-to-yt-dlp  for how to manually pass cookies. Also see  https://github.com/yt-dlp/yt-dlp/wiki/Extractors#exporting-youtube-cookies  for tips on effectively exporting YouTube cookies\n",
      "ERROR: [youtube] 8nBFqZppIF0: Sign in to confirm you’re not a bot. Use --cookies-from-browser or --cookies for the authentication. See  https://github.com/yt-dlp/yt-dlp/wiki/FAQ#how-do-i-pass-cookies-to-yt-dlp  for how to manually pass cookies. Also see  https://github.com/yt-dlp/yt-dlp/wiki/Extractors#exporting-youtube-cookies  for tips on effectively exporting YouTube cookies\n",
      " 87%|████████▋ | 428/491 [1:26:56<01:13,  1.16s/it]"
     ]
    },
    {
     "name": "stdout",
     "output_type": "stream",
     "text": [
      "[Attempt 1] Download error: ERROR: [youtube] VF-r5TtlT9w: Sign in to confirm you’re not a bot. Use --cookies-from-browser or --cookies for the authentication. See  https://github.com/yt-dlp/yt-dlp/wiki/FAQ#how-do-i-pass-cookies-to-yt-dlp  for how to manually pass cookies. Also see  https://github.com/yt-dlp/yt-dlp/wiki/Extractors#exporting-youtube-cookies  for tips on effectively exporting YouTube cookies\n",
      "[Attempt 2] Download error: ERROR: [youtube] 8nBFqZppIF0: Sign in to confirm you’re not a bot. Use --cookies-from-browser or --cookies for the authentication. See  https://github.com/yt-dlp/yt-dlp/wiki/FAQ#how-do-i-pass-cookies-to-yt-dlp  for how to manually pass cookies. Also see  https://github.com/yt-dlp/yt-dlp/wiki/Extractors#exporting-youtube-cookies  for tips on effectively exporting YouTube cookies\n",
      "Error indexing You should be sad (ID 446): cannot unpack non-iterable NoneType object\n",
      "Downloading audio from https://www.youtube.com/watch?v=H5v3kku4y6Q...\n"
     ]
    },
    {
     "name": "stderr",
     "output_type": "stream",
     "text": [
      "ERROR: [youtube] VF-r5TtlT9w: Sign in to confirm you’re not a bot. Use --cookies-from-browser or --cookies for the authentication. See  https://github.com/yt-dlp/yt-dlp/wiki/FAQ#how-do-i-pass-cookies-to-yt-dlp  for how to manually pass cookies. Also see  https://github.com/yt-dlp/yt-dlp/wiki/Extractors#exporting-youtube-cookies  for tips on effectively exporting YouTube cookies\n",
      " 87%|████████▋ | 429/491 [1:26:57<01:05,  1.06s/it]"
     ]
    },
    {
     "name": "stdout",
     "output_type": "stream",
     "text": [
      "[Attempt 2] Download error: ERROR: [youtube] VF-r5TtlT9w: Sign in to confirm you’re not a bot. Use --cookies-from-browser or --cookies for the authentication. See  https://github.com/yt-dlp/yt-dlp/wiki/FAQ#how-do-i-pass-cookies-to-yt-dlp  for how to manually pass cookies. Also see  https://github.com/yt-dlp/yt-dlp/wiki/Extractors#exporting-youtube-cookies  for tips on effectively exporting YouTube cookies\n",
      "Error indexing Adore You (ID 447): cannot unpack non-iterable NoneType object\n",
      "Downloading audio from https://www.youtube.com/watch?v=olGSAVOkkTI...\n"
     ]
    },
    {
     "name": "stderr",
     "output_type": "stream",
     "text": [
      "ERROR: [youtube] H5v3kku4y6Q: Sign in to confirm you’re not a bot. Use --cookies-from-browser or --cookies for the authentication. See  https://github.com/yt-dlp/yt-dlp/wiki/FAQ#how-do-i-pass-cookies-to-yt-dlp  for how to manually pass cookies. Also see  https://github.com/yt-dlp/yt-dlp/wiki/Extractors#exporting-youtube-cookies  for tips on effectively exporting YouTube cookies\n"
     ]
    },
    {
     "name": "stdout",
     "output_type": "stream",
     "text": [
      "[Attempt 1] Download error: ERROR: [youtube] H5v3kku4y6Q: Sign in to confirm you’re not a bot. Use --cookies-from-browser or --cookies for the authentication. See  https://github.com/yt-dlp/yt-dlp/wiki/FAQ#how-do-i-pass-cookies-to-yt-dlp  for how to manually pass cookies. Also see  https://github.com/yt-dlp/yt-dlp/wiki/Extractors#exporting-youtube-cookies  for tips on effectively exporting YouTube cookies\n"
     ]
    },
    {
     "name": "stderr",
     "output_type": "stream",
     "text": [
      "ERROR: [youtube] olGSAVOkkTI: Sign in to confirm you’re not a bot. Use --cookies-from-browser or --cookies for the authentication. See  https://github.com/yt-dlp/yt-dlp/wiki/FAQ#how-do-i-pass-cookies-to-yt-dlp  for how to manually pass cookies. Also see  https://github.com/yt-dlp/yt-dlp/wiki/Extractors#exporting-youtube-cookies  for tips on effectively exporting YouTube cookies\n"
     ]
    },
    {
     "name": "stdout",
     "output_type": "stream",
     "text": [
      "[Attempt 1] Download error: ERROR: [youtube] olGSAVOkkTI: Sign in to confirm you’re not a bot. Use --cookies-from-browser or --cookies for the authentication. See  https://github.com/yt-dlp/yt-dlp/wiki/FAQ#how-do-i-pass-cookies-to-yt-dlp  for how to manually pass cookies. Also see  https://github.com/yt-dlp/yt-dlp/wiki/Extractors#exporting-youtube-cookies  for tips on effectively exporting YouTube cookies\n"
     ]
    },
    {
     "name": "stderr",
     "output_type": "stream",
     "text": [
      "ERROR: [youtube] H5v3kku4y6Q: Sign in to confirm you’re not a bot. Use --cookies-from-browser or --cookies for the authentication. See  https://github.com/yt-dlp/yt-dlp/wiki/FAQ#how-do-i-pass-cookies-to-yt-dlp  for how to manually pass cookies. Also see  https://github.com/yt-dlp/yt-dlp/wiki/Extractors#exporting-youtube-cookies  for tips on effectively exporting YouTube cookies\n",
      " 88%|████████▊ | 430/491 [1:26:58<01:10,  1.16s/it]"
     ]
    },
    {
     "name": "stdout",
     "output_type": "stream",
     "text": [
      "[Attempt 2] Download error: ERROR: [youtube] H5v3kku4y6Q: Sign in to confirm you’re not a bot. Use --cookies-from-browser or --cookies for the authentication. See  https://github.com/yt-dlp/yt-dlp/wiki/FAQ#how-do-i-pass-cookies-to-yt-dlp  for how to manually pass cookies. Also see  https://github.com/yt-dlp/yt-dlp/wiki/Extractors#exporting-youtube-cookies  for tips on effectively exporting YouTube cookies\n",
      "Error indexing As It Was (ID 448): cannot unpack non-iterable NoneType object\n",
      "Downloading audio from https://www.youtube.com/watch?v=P3cffdsEXXw...\n"
     ]
    },
    {
     "name": "stderr",
     "output_type": "stream",
     "text": [
      "ERROR: [youtube] olGSAVOkkTI: Sign in to confirm you’re not a bot. Use --cookies-from-browser or --cookies for the authentication. See  https://github.com/yt-dlp/yt-dlp/wiki/FAQ#how-do-i-pass-cookies-to-yt-dlp  for how to manually pass cookies. Also see  https://github.com/yt-dlp/yt-dlp/wiki/Extractors#exporting-youtube-cookies  for tips on effectively exporting YouTube cookies\n",
      " 88%|████████▊ | 431/491 [1:26:59<00:59,  1.00it/s]"
     ]
    },
    {
     "name": "stdout",
     "output_type": "stream",
     "text": [
      "[Attempt 2] Download error: ERROR: [youtube] olGSAVOkkTI: Sign in to confirm you’re not a bot. Use --cookies-from-browser or --cookies for the authentication. See  https://github.com/yt-dlp/yt-dlp/wiki/FAQ#how-do-i-pass-cookies-to-yt-dlp  for how to manually pass cookies. Also see  https://github.com/yt-dlp/yt-dlp/wiki/Extractors#exporting-youtube-cookies  for tips on effectively exporting YouTube cookies\n",
      "Error indexing Falling (ID 449): cannot unpack non-iterable NoneType object\n",
      "Downloading audio from https://www.youtube.com/watch?v=9wg3v-01yKQ...\n"
     ]
    },
    {
     "name": "stderr",
     "output_type": "stream",
     "text": [
      "ERROR: [youtube] P3cffdsEXXw: Sign in to confirm you’re not a bot. Use --cookies-from-browser or --cookies for the authentication. See  https://github.com/yt-dlp/yt-dlp/wiki/FAQ#how-do-i-pass-cookies-to-yt-dlp  for how to manually pass cookies. Also see  https://github.com/yt-dlp/yt-dlp/wiki/Extractors#exporting-youtube-cookies  for tips on effectively exporting YouTube cookies\n"
     ]
    },
    {
     "name": "stdout",
     "output_type": "stream",
     "text": [
      "[Attempt 1] Download error: ERROR: [youtube] P3cffdsEXXw: Sign in to confirm you’re not a bot. Use --cookies-from-browser or --cookies for the authentication. See  https://github.com/yt-dlp/yt-dlp/wiki/FAQ#how-do-i-pass-cookies-to-yt-dlp  for how to manually pass cookies. Also see  https://github.com/yt-dlp/yt-dlp/wiki/Extractors#exporting-youtube-cookies  for tips on effectively exporting YouTube cookies\n"
     ]
    },
    {
     "name": "stderr",
     "output_type": "stream",
     "text": [
      "ERROR: [youtube] 9wg3v-01yKQ: Sign in to confirm you’re not a bot. Use --cookies-from-browser or --cookies for the authentication. See  https://github.com/yt-dlp/yt-dlp/wiki/FAQ#how-do-i-pass-cookies-to-yt-dlp  for how to manually pass cookies. Also see  https://github.com/yt-dlp/yt-dlp/wiki/Extractors#exporting-youtube-cookies  for tips on effectively exporting YouTube cookies\n"
     ]
    },
    {
     "name": "stdout",
     "output_type": "stream",
     "text": [
      "[Attempt 1] Download error: ERROR: [youtube] 9wg3v-01yKQ: Sign in to confirm you’re not a bot. Use --cookies-from-browser or --cookies for the authentication. See  https://github.com/yt-dlp/yt-dlp/wiki/FAQ#how-do-i-pass-cookies-to-yt-dlp  for how to manually pass cookies. Also see  https://github.com/yt-dlp/yt-dlp/wiki/Extractors#exporting-youtube-cookies  for tips on effectively exporting YouTube cookies\n"
     ]
    },
    {
     "name": "stderr",
     "output_type": "stream",
     "text": [
      "ERROR: [youtube] P3cffdsEXXw: Sign in to confirm you’re not a bot. Use --cookies-from-browser or --cookies for the authentication. See  https://github.com/yt-dlp/yt-dlp/wiki/FAQ#how-do-i-pass-cookies-to-yt-dlp  for how to manually pass cookies. Also see  https://github.com/yt-dlp/yt-dlp/wiki/Extractors#exporting-youtube-cookies  for tips on effectively exporting YouTube cookies\n",
      " 88%|████████▊ | 432/491 [1:27:01<01:09,  1.18s/it]"
     ]
    },
    {
     "name": "stdout",
     "output_type": "stream",
     "text": [
      "[Attempt 2] Download error: ERROR: [youtube] P3cffdsEXXw: Sign in to confirm you’re not a bot. Use --cookies-from-browser or --cookies for the authentication. See  https://github.com/yt-dlp/yt-dlp/wiki/FAQ#how-do-i-pass-cookies-to-yt-dlp  for how to manually pass cookies. Also see  https://github.com/yt-dlp/yt-dlp/wiki/Extractors#exporting-youtube-cookies  for tips on effectively exporting YouTube cookies\n",
      "Error indexing Golden (ID 450): cannot unpack non-iterable NoneType object\n",
      "Downloading audio from https://www.youtube.com/watch?v=qN4ooNx77u0...\n"
     ]
    },
    {
     "name": "stderr",
     "output_type": "stream",
     "text": [
      "ERROR: [youtube] 9wg3v-01yKQ: Sign in to confirm you’re not a bot. Use --cookies-from-browser or --cookies for the authentication. See  https://github.com/yt-dlp/yt-dlp/wiki/FAQ#how-do-i-pass-cookies-to-yt-dlp  for how to manually pass cookies. Also see  https://github.com/yt-dlp/yt-dlp/wiki/Extractors#exporting-youtube-cookies  for tips on effectively exporting YouTube cookies\n",
      " 88%|████████▊ | 433/491 [1:27:01<00:58,  1.01s/it]"
     ]
    },
    {
     "name": "stdout",
     "output_type": "stream",
     "text": [
      "[Attempt 2] Download error: ERROR: [youtube] 9wg3v-01yKQ: Sign in to confirm you’re not a bot. Use --cookies-from-browser or --cookies for the authentication. See  https://github.com/yt-dlp/yt-dlp/wiki/FAQ#how-do-i-pass-cookies-to-yt-dlp  for how to manually pass cookies. Also see  https://github.com/yt-dlp/yt-dlp/wiki/Extractors#exporting-youtube-cookies  for tips on effectively exporting YouTube cookies\n",
      "Error indexing Kiwi (ID 451): cannot unpack non-iterable NoneType object\n",
      "Downloading audio from https://www.youtube.com/watch?v=L0X03zR0rQk...\n"
     ]
    },
    {
     "name": "stderr",
     "output_type": "stream",
     "text": [
      "ERROR: [youtube] qN4ooNx77u0: Sign in to confirm you’re not a bot. Use --cookies-from-browser or --cookies for the authentication. See  https://github.com/yt-dlp/yt-dlp/wiki/FAQ#how-do-i-pass-cookies-to-yt-dlp  for how to manually pass cookies. Also see  https://github.com/yt-dlp/yt-dlp/wiki/Extractors#exporting-youtube-cookies  for tips on effectively exporting YouTube cookies\n"
     ]
    },
    {
     "name": "stdout",
     "output_type": "stream",
     "text": [
      "[Attempt 1] Download error: ERROR: [youtube] qN4ooNx77u0: Sign in to confirm you’re not a bot. Use --cookies-from-browser or --cookies for the authentication. See  https://github.com/yt-dlp/yt-dlp/wiki/FAQ#how-do-i-pass-cookies-to-yt-dlp  for how to manually pass cookies. Also see  https://github.com/yt-dlp/yt-dlp/wiki/Extractors#exporting-youtube-cookies  for tips on effectively exporting YouTube cookies\n"
     ]
    },
    {
     "name": "stderr",
     "output_type": "stream",
     "text": [
      "ERROR: [youtube] L0X03zR0rQk: Sign in to confirm you’re not a bot. Use --cookies-from-browser or --cookies for the authentication. See  https://github.com/yt-dlp/yt-dlp/wiki/FAQ#how-do-i-pass-cookies-to-yt-dlp  for how to manually pass cookies. Also see  https://github.com/yt-dlp/yt-dlp/wiki/Extractors#exporting-youtube-cookies  for tips on effectively exporting YouTube cookies\n"
     ]
    },
    {
     "name": "stdout",
     "output_type": "stream",
     "text": [
      "[Attempt 1] Download error: ERROR: [youtube] L0X03zR0rQk: Sign in to confirm you’re not a bot. Use --cookies-from-browser or --cookies for the authentication. See  https://github.com/yt-dlp/yt-dlp/wiki/FAQ#how-do-i-pass-cookies-to-yt-dlp  for how to manually pass cookies. Also see  https://github.com/yt-dlp/yt-dlp/wiki/Extractors#exporting-youtube-cookies  for tips on effectively exporting YouTube cookies\n"
     ]
    },
    {
     "name": "stderr",
     "output_type": "stream",
     "text": [
      "ERROR: [youtube] qN4ooNx77u0: Sign in to confirm you’re not a bot. Use --cookies-from-browser or --cookies for the authentication. See  https://github.com/yt-dlp/yt-dlp/wiki/FAQ#how-do-i-pass-cookies-to-yt-dlp  for how to manually pass cookies. Also see  https://github.com/yt-dlp/yt-dlp/wiki/Extractors#exporting-youtube-cookies  for tips on effectively exporting YouTube cookies\n",
      " 88%|████████▊ | 434/491 [1:27:03<01:09,  1.22s/it]"
     ]
    },
    {
     "name": "stdout",
     "output_type": "stream",
     "text": [
      "[Attempt 2] Download error: ERROR: [youtube] qN4ooNx77u0: Sign in to confirm you’re not a bot. Use --cookies-from-browser or --cookies for the authentication. See  https://github.com/yt-dlp/yt-dlp/wiki/FAQ#how-do-i-pass-cookies-to-yt-dlp  for how to manually pass cookies. Also see  https://github.com/yt-dlp/yt-dlp/wiki/Extractors#exporting-youtube-cookies  for tips on effectively exporting YouTube cookies\n",
      "Error indexing Sign of the Times (ID 452): cannot unpack non-iterable NoneType object\n",
      "Downloading audio from https://www.youtube.com/watch?v=E07s5ZYygMg...\n"
     ]
    },
    {
     "name": "stderr",
     "output_type": "stream",
     "text": [
      "ERROR: [youtube] L0X03zR0rQk: Sign in to confirm you’re not a bot. Use --cookies-from-browser or --cookies for the authentication. See  https://github.com/yt-dlp/yt-dlp/wiki/FAQ#how-do-i-pass-cookies-to-yt-dlp  for how to manually pass cookies. Also see  https://github.com/yt-dlp/yt-dlp/wiki/Extractors#exporting-youtube-cookies  for tips on effectively exporting YouTube cookies\n",
      " 89%|████████▊ | 435/491 [1:27:03<00:55,  1.01it/s]"
     ]
    },
    {
     "name": "stdout",
     "output_type": "stream",
     "text": [
      "[Attempt 2] Download error: ERROR: [youtube] L0X03zR0rQk: Sign in to confirm you’re not a bot. Use --cookies-from-browser or --cookies for the authentication. See  https://github.com/yt-dlp/yt-dlp/wiki/FAQ#how-do-i-pass-cookies-to-yt-dlp  for how to manually pass cookies. Also see  https://github.com/yt-dlp/yt-dlp/wiki/Extractors#exporting-youtube-cookies  for tips on effectively exporting YouTube cookies\n",
      "Error indexing Treat People With Kindness (ID 453): cannot unpack non-iterable NoneType object\n",
      "Downloading audio from https://www.youtube.com/watch?v=I-QfPUz1es8...\n"
     ]
    },
    {
     "name": "stderr",
     "output_type": "stream",
     "text": [
      "ERROR: [youtube] E07s5ZYygMg: Sign in to confirm you’re not a bot. Use --cookies-from-browser or --cookies for the authentication. See  https://github.com/yt-dlp/yt-dlp/wiki/FAQ#how-do-i-pass-cookies-to-yt-dlp  for how to manually pass cookies. Also see  https://github.com/yt-dlp/yt-dlp/wiki/Extractors#exporting-youtube-cookies  for tips on effectively exporting YouTube cookies\n"
     ]
    },
    {
     "name": "stdout",
     "output_type": "stream",
     "text": [
      "[Attempt 1] Download error: ERROR: [youtube] E07s5ZYygMg: Sign in to confirm you’re not a bot. Use --cookies-from-browser or --cookies for the authentication. See  https://github.com/yt-dlp/yt-dlp/wiki/FAQ#how-do-i-pass-cookies-to-yt-dlp  for how to manually pass cookies. Also see  https://github.com/yt-dlp/yt-dlp/wiki/Extractors#exporting-youtube-cookies  for tips on effectively exporting YouTube cookies\n"
     ]
    },
    {
     "name": "stderr",
     "output_type": "stream",
     "text": [
      "ERROR: [youtube] I-QfPUz1es8: Sign in to confirm you’re not a bot. Use --cookies-from-browser or --cookies for the authentication. See  https://github.com/yt-dlp/yt-dlp/wiki/FAQ#how-do-i-pass-cookies-to-yt-dlp  for how to manually pass cookies. Also see  https://github.com/yt-dlp/yt-dlp/wiki/Extractors#exporting-youtube-cookies  for tips on effectively exporting YouTube cookies\n"
     ]
    },
    {
     "name": "stdout",
     "output_type": "stream",
     "text": [
      "[Attempt 1] Download error: ERROR: [youtube] I-QfPUz1es8: Sign in to confirm you’re not a bot. Use --cookies-from-browser or --cookies for the authentication. See  https://github.com/yt-dlp/yt-dlp/wiki/FAQ#how-do-i-pass-cookies-to-yt-dlp  for how to manually pass cookies. Also see  https://github.com/yt-dlp/yt-dlp/wiki/Extractors#exporting-youtube-cookies  for tips on effectively exporting YouTube cookies\n"
     ]
    },
    {
     "name": "stderr",
     "output_type": "stream",
     "text": [
      "ERROR: [youtube] E07s5ZYygMg: Sign in to confirm you’re not a bot. Use --cookies-from-browser or --cookies for the authentication. See  https://github.com/yt-dlp/yt-dlp/wiki/FAQ#how-do-i-pass-cookies-to-yt-dlp  for how to manually pass cookies. Also see  https://github.com/yt-dlp/yt-dlp/wiki/Extractors#exporting-youtube-cookies  for tips on effectively exporting YouTube cookies\n",
      " 89%|████████▉ | 436/491 [1:27:05<01:06,  1.20s/it]"
     ]
    },
    {
     "name": "stdout",
     "output_type": "stream",
     "text": [
      "[Attempt 2] Download error: ERROR: [youtube] E07s5ZYygMg: Sign in to confirm you’re not a bot. Use --cookies-from-browser or --cookies for the authentication. See  https://github.com/yt-dlp/yt-dlp/wiki/FAQ#how-do-i-pass-cookies-to-yt-dlp  for how to manually pass cookies. Also see  https://github.com/yt-dlp/yt-dlp/wiki/Extractors#exporting-youtube-cookies  for tips on effectively exporting YouTube cookies\n",
      "Error indexing Watermelon Sugar (ID 454): cannot unpack non-iterable NoneType object\n",
      "Downloading audio from https://www.youtube.com/watch?v=7wtfhZwyrcc...\n"
     ]
    },
    {
     "name": "stderr",
     "output_type": "stream",
     "text": [
      "ERROR: [youtube] I-QfPUz1es8: Sign in to confirm you’re not a bot. Use --cookies-from-browser or --cookies for the authentication. See  https://github.com/yt-dlp/yt-dlp/wiki/FAQ#how-do-i-pass-cookies-to-yt-dlp  for how to manually pass cookies. Also see  https://github.com/yt-dlp/yt-dlp/wiki/Extractors#exporting-youtube-cookies  for tips on effectively exporting YouTube cookies\n",
      " 89%|████████▉ | 437/491 [1:27:06<00:56,  1.04s/it]"
     ]
    },
    {
     "name": "stdout",
     "output_type": "stream",
     "text": [
      "[Attempt 2] Download error: ERROR: [youtube] I-QfPUz1es8: Sign in to confirm you’re not a bot. Use --cookies-from-browser or --cookies for the authentication. See  https://github.com/yt-dlp/yt-dlp/wiki/FAQ#how-do-i-pass-cookies-to-yt-dlp  for how to manually pass cookies. Also see  https://github.com/yt-dlp/yt-dlp/wiki/Extractors#exporting-youtube-cookies  for tips on effectively exporting YouTube cookies\n",
      "Error indexing Bad Liar (ID 455): cannot unpack non-iterable NoneType object\n",
      "Downloading audio from https://www.youtube.com/watch?v=TO-_3tck2tg...\n"
     ]
    },
    {
     "name": "stderr",
     "output_type": "stream",
     "text": [
      " 89%|████████▉ | 438/491 [1:27:06<00:43,  1.23it/s]"
     ]
    },
    {
     "name": "stdout",
     "output_type": "stream",
     "text": [
      "Downloading audio from https://www.youtube.com/watch?v=mWRsgZuwf_8...\n"
     ]
    },
    {
     "name": "stderr",
     "output_type": "stream",
     "text": [
      "ERROR: [youtube] 7wtfhZwyrcc: Sign in to confirm you’re not a bot. Use --cookies-from-browser or --cookies for the authentication. See  https://github.com/yt-dlp/yt-dlp/wiki/FAQ#how-do-i-pass-cookies-to-yt-dlp  for how to manually pass cookies. Also see  https://github.com/yt-dlp/yt-dlp/wiki/Extractors#exporting-youtube-cookies  for tips on effectively exporting YouTube cookies\n"
     ]
    },
    {
     "name": "stdout",
     "output_type": "stream",
     "text": [
      "[Attempt 1] Download error: ERROR: [youtube] 7wtfhZwyrcc: Sign in to confirm you’re not a bot. Use --cookies-from-browser or --cookies for the authentication. See  https://github.com/yt-dlp/yt-dlp/wiki/FAQ#how-do-i-pass-cookies-to-yt-dlp  for how to manually pass cookies. Also see  https://github.com/yt-dlp/yt-dlp/wiki/Extractors#exporting-youtube-cookies  for tips on effectively exporting YouTube cookies\n"
     ]
    },
    {
     "name": "stderr",
     "output_type": "stream",
     "text": [
      "ERROR: [youtube] TO-_3tck2tg: Sign in to confirm you’re not a bot. Use --cookies-from-browser or --cookies for the authentication. See  https://github.com/yt-dlp/yt-dlp/wiki/FAQ#how-do-i-pass-cookies-to-yt-dlp  for how to manually pass cookies. Also see  https://github.com/yt-dlp/yt-dlp/wiki/Extractors#exporting-youtube-cookies  for tips on effectively exporting YouTube cookies\n"
     ]
    },
    {
     "name": "stdout",
     "output_type": "stream",
     "text": [
      "[Attempt 1] Download error: ERROR: [youtube] TO-_3tck2tg: Sign in to confirm you’re not a bot. Use --cookies-from-browser or --cookies for the authentication. See  https://github.com/yt-dlp/yt-dlp/wiki/FAQ#how-do-i-pass-cookies-to-yt-dlp  for how to manually pass cookies. Also see  https://github.com/yt-dlp/yt-dlp/wiki/Extractors#exporting-youtube-cookies  for tips on effectively exporting YouTube cookies\n"
     ]
    },
    {
     "name": "stderr",
     "output_type": "stream",
     "text": [
      "ERROR: [youtube] mWRsgZuwf_8: Sign in to confirm you’re not a bot. Use --cookies-from-browser or --cookies for the authentication. See  https://github.com/yt-dlp/yt-dlp/wiki/FAQ#how-do-i-pass-cookies-to-yt-dlp  for how to manually pass cookies. Also see  https://github.com/yt-dlp/yt-dlp/wiki/Extractors#exporting-youtube-cookies  for tips on effectively exporting YouTube cookies\n"
     ]
    },
    {
     "name": "stdout",
     "output_type": "stream",
     "text": [
      "[Attempt 1] Download error: ERROR: [youtube] mWRsgZuwf_8: Sign in to confirm you’re not a bot. Use --cookies-from-browser or --cookies for the authentication. See  https://github.com/yt-dlp/yt-dlp/wiki/FAQ#how-do-i-pass-cookies-to-yt-dlp  for how to manually pass cookies. Also see  https://github.com/yt-dlp/yt-dlp/wiki/Extractors#exporting-youtube-cookies  for tips on effectively exporting YouTube cookies\n"
     ]
    },
    {
     "name": "stderr",
     "output_type": "stream",
     "text": [
      "ERROR: [youtube] 7wtfhZwyrcc: Sign in to confirm you’re not a bot. Use --cookies-from-browser or --cookies for the authentication. See  https://github.com/yt-dlp/yt-dlp/wiki/FAQ#how-do-i-pass-cookies-to-yt-dlp  for how to manually pass cookies. Also see  https://github.com/yt-dlp/yt-dlp/wiki/Extractors#exporting-youtube-cookies  for tips on effectively exporting YouTube cookies\n",
      " 89%|████████▉ | 439/491 [1:27:07<00:52,  1.01s/it]"
     ]
    },
    {
     "name": "stdout",
     "output_type": "stream",
     "text": [
      "[Attempt 2] Download error: ERROR: [youtube] 7wtfhZwyrcc: Sign in to confirm you’re not a bot. Use --cookies-from-browser or --cookies for the authentication. See  https://github.com/yt-dlp/yt-dlp/wiki/FAQ#how-do-i-pass-cookies-to-yt-dlp  for how to manually pass cookies. Also see  https://github.com/yt-dlp/yt-dlp/wiki/Extractors#exporting-youtube-cookies  for tips on effectively exporting YouTube cookies\n",
      "Error indexing Believer (ID 456): cannot unpack non-iterable NoneType object\n",
      "Downloading audio from https://www.youtube.com/watch?v=k3zimSRKqNw...\n"
     ]
    },
    {
     "name": "stderr",
     "output_type": "stream",
     "text": [
      "ERROR: [youtube] TO-_3tck2tg: Sign in to confirm you’re not a bot. Use --cookies-from-browser or --cookies for the authentication. See  https://github.com/yt-dlp/yt-dlp/wiki/FAQ#how-do-i-pass-cookies-to-yt-dlp  for how to manually pass cookies. Also see  https://github.com/yt-dlp/yt-dlp/wiki/Extractors#exporting-youtube-cookies  for tips on effectively exporting YouTube cookies\n",
      " 90%|████████▉ | 440/491 [1:27:08<00:44,  1.16it/s]"
     ]
    },
    {
     "name": "stdout",
     "output_type": "stream",
     "text": [
      "[Attempt 2] Download error: ERROR: [youtube] TO-_3tck2tg: Sign in to confirm you’re not a bot. Use --cookies-from-browser or --cookies for the authentication. See  https://github.com/yt-dlp/yt-dlp/wiki/FAQ#how-do-i-pass-cookies-to-yt-dlp  for how to manually pass cookies. Also see  https://github.com/yt-dlp/yt-dlp/wiki/Extractors#exporting-youtube-cookies  for tips on effectively exporting YouTube cookies\n",
      "Error indexing Bones (ID 457): cannot unpack non-iterable NoneType object\n",
      "Downloading audio from https://www.youtube.com/watch?v=sENM2wA_FTg...\n"
     ]
    },
    {
     "name": "stderr",
     "output_type": "stream",
     "text": [
      "ERROR: [youtube] mWRsgZuwf_8: Sign in to confirm you’re not a bot. Use --cookies-from-browser or --cookies for the authentication. See  https://github.com/yt-dlp/yt-dlp/wiki/FAQ#how-do-i-pass-cookies-to-yt-dlp  for how to manually pass cookies. Also see  https://github.com/yt-dlp/yt-dlp/wiki/Extractors#exporting-youtube-cookies  for tips on effectively exporting YouTube cookies\n",
      " 90%|████████▉ | 441/491 [1:27:08<00:36,  1.37it/s]ERROR: [youtube] k3zimSRKqNw: Sign in to confirm you’re not a bot. Use --cookies-from-browser or --cookies for the authentication. See  https://github.com/yt-dlp/yt-dlp/wiki/FAQ#how-do-i-pass-cookies-to-yt-dlp  for how to manually pass cookies. Also see  https://github.com/yt-dlp/yt-dlp/wiki/Extractors#exporting-youtube-cookies  for tips on effectively exporting YouTube cookies\n"
     ]
    },
    {
     "name": "stdout",
     "output_type": "stream",
     "text": [
      "[Attempt 2] Download error: ERROR: [youtube] mWRsgZuwf_8: Sign in to confirm you’re not a bot. Use --cookies-from-browser or --cookies for the authentication. See  https://github.com/yt-dlp/yt-dlp/wiki/FAQ#how-do-i-pass-cookies-to-yt-dlp  for how to manually pass cookies. Also see  https://github.com/yt-dlp/yt-dlp/wiki/Extractors#exporting-youtube-cookies  for tips on effectively exporting YouTube cookies\n",
      "Error indexing Demons (ID 458): cannot unpack non-iterable NoneType object\n",
      "Downloading audio from https://www.youtube.com/watch?v=0I647GU3Jsc...\n",
      "[Attempt 1] Download error: ERROR: [youtube] k3zimSRKqNw: Sign in to confirm you’re not a bot. Use --cookies-from-browser or --cookies for the authentication. See  https://github.com/yt-dlp/yt-dlp/wiki/FAQ#how-do-i-pass-cookies-to-yt-dlp  for how to manually pass cookies. Also see  https://github.com/yt-dlp/yt-dlp/wiki/Extractors#exporting-youtube-cookies  for tips on effectively exporting YouTube cookies\n"
     ]
    },
    {
     "name": "stderr",
     "output_type": "stream",
     "text": [
      "ERROR: [youtube] sENM2wA_FTg: Sign in to confirm you’re not a bot. Use --cookies-from-browser or --cookies for the authentication. See  https://github.com/yt-dlp/yt-dlp/wiki/FAQ#how-do-i-pass-cookies-to-yt-dlp  for how to manually pass cookies. Also see  https://github.com/yt-dlp/yt-dlp/wiki/Extractors#exporting-youtube-cookies  for tips on effectively exporting YouTube cookies\n"
     ]
    },
    {
     "name": "stdout",
     "output_type": "stream",
     "text": [
      "[Attempt 1] Download error: ERROR: [youtube] sENM2wA_FTg: Sign in to confirm you’re not a bot. Use --cookies-from-browser or --cookies for the authentication. See  https://github.com/yt-dlp/yt-dlp/wiki/FAQ#how-do-i-pass-cookies-to-yt-dlp  for how to manually pass cookies. Also see  https://github.com/yt-dlp/yt-dlp/wiki/Extractors#exporting-youtube-cookies  for tips on effectively exporting YouTube cookies\n"
     ]
    },
    {
     "name": "stderr",
     "output_type": "stream",
     "text": [
      "ERROR: [youtube] 0I647GU3Jsc: Sign in to confirm you’re not a bot. Use --cookies-from-browser or --cookies for the authentication. See  https://github.com/yt-dlp/yt-dlp/wiki/FAQ#how-do-i-pass-cookies-to-yt-dlp  for how to manually pass cookies. Also see  https://github.com/yt-dlp/yt-dlp/wiki/Extractors#exporting-youtube-cookies  for tips on effectively exporting YouTube cookies\n",
      "ERROR: [youtube] k3zimSRKqNw: Sign in to confirm you’re not a bot. Use --cookies-from-browser or --cookies for the authentication. See  https://github.com/yt-dlp/yt-dlp/wiki/FAQ#how-do-i-pass-cookies-to-yt-dlp  for how to manually pass cookies. Also see  https://github.com/yt-dlp/yt-dlp/wiki/Extractors#exporting-youtube-cookies  for tips on effectively exporting YouTube cookies\n",
      " 90%|█████████ | 442/491 [1:27:10<00:48,  1.01it/s]"
     ]
    },
    {
     "name": "stdout",
     "output_type": "stream",
     "text": [
      "[Attempt 1] Download error: ERROR: [youtube] 0I647GU3Jsc: Sign in to confirm you’re not a bot. Use --cookies-from-browser or --cookies for the authentication. See  https://github.com/yt-dlp/yt-dlp/wiki/FAQ#how-do-i-pass-cookies-to-yt-dlp  for how to manually pass cookies. Also see  https://github.com/yt-dlp/yt-dlp/wiki/Extractors#exporting-youtube-cookies  for tips on effectively exporting YouTube cookies\n",
      "[Attempt 2] Download error: ERROR: [youtube] k3zimSRKqNw: Sign in to confirm you’re not a bot. Use --cookies-from-browser or --cookies for the authentication. See  https://github.com/yt-dlp/yt-dlp/wiki/FAQ#how-do-i-pass-cookies-to-yt-dlp  for how to manually pass cookies. Also see  https://github.com/yt-dlp/yt-dlp/wiki/Extractors#exporting-youtube-cookies  for tips on effectively exporting YouTube cookies\n",
      "Error indexing Follow You (ID 459): cannot unpack non-iterable NoneType object\n",
      "Downloading audio from https://www.youtube.com/watch?v=w5tWYmIOWGk...\n"
     ]
    },
    {
     "name": "stderr",
     "output_type": "stream",
     "text": [
      "ERROR: [youtube] sENM2wA_FTg: Sign in to confirm you’re not a bot. Use --cookies-from-browser or --cookies for the authentication. See  https://github.com/yt-dlp/yt-dlp/wiki/FAQ#how-do-i-pass-cookies-to-yt-dlp  for how to manually pass cookies. Also see  https://github.com/yt-dlp/yt-dlp/wiki/Extractors#exporting-youtube-cookies  for tips on effectively exporting YouTube cookies\n",
      " 90%|█████████ | 443/491 [1:27:10<00:38,  1.23it/s]"
     ]
    },
    {
     "name": "stdout",
     "output_type": "stream",
     "text": [
      "[Attempt 2] Download error: ERROR: [youtube] sENM2wA_FTg: Sign in to confirm you’re not a bot. Use --cookies-from-browser or --cookies for the authentication. See  https://github.com/yt-dlp/yt-dlp/wiki/FAQ#how-do-i-pass-cookies-to-yt-dlp  for how to manually pass cookies. Also see  https://github.com/yt-dlp/yt-dlp/wiki/Extractors#exporting-youtube-cookies  for tips on effectively exporting YouTube cookies\n",
      "Error indexing It's Time (ID 460): cannot unpack non-iterable NoneType object\n",
      "Downloading audio from https://www.youtube.com/watch?v=ktvTqknDobU...\n"
     ]
    },
    {
     "name": "stderr",
     "output_type": "stream",
     "text": [
      "ERROR: [youtube] w5tWYmIOWGk: Sign in to confirm you’re not a bot. Use --cookies-from-browser or --cookies for the authentication. See  https://github.com/yt-dlp/yt-dlp/wiki/FAQ#how-do-i-pass-cookies-to-yt-dlp  for how to manually pass cookies. Also see  https://github.com/yt-dlp/yt-dlp/wiki/Extractors#exporting-youtube-cookies  for tips on effectively exporting YouTube cookies\n",
      "ERROR: [youtube] 0I647GU3Jsc: Sign in to confirm you’re not a bot. Use --cookies-from-browser or --cookies for the authentication. See  https://github.com/yt-dlp/yt-dlp/wiki/FAQ#how-do-i-pass-cookies-to-yt-dlp  for how to manually pass cookies. Also see  https://github.com/yt-dlp/yt-dlp/wiki/Extractors#exporting-youtube-cookies  for tips on effectively exporting YouTube cookies\n",
      " 90%|█████████ | 444/491 [1:27:11<00:37,  1.27it/s]"
     ]
    },
    {
     "name": "stdout",
     "output_type": "stream",
     "text": [
      "[Attempt 1] Download error: ERROR: [youtube] w5tWYmIOWGk: Sign in to confirm you’re not a bot. Use --cookies-from-browser or --cookies for the authentication. See  https://github.com/yt-dlp/yt-dlp/wiki/FAQ#how-do-i-pass-cookies-to-yt-dlp  for how to manually pass cookies. Also see  https://github.com/yt-dlp/yt-dlp/wiki/Extractors#exporting-youtube-cookies  for tips on effectively exporting YouTube cookies\n",
      "[Attempt 2] Download error: ERROR: [youtube] 0I647GU3Jsc: Sign in to confirm you’re not a bot. Use --cookies-from-browser or --cookies for the authentication. See  https://github.com/yt-dlp/yt-dlp/wiki/FAQ#how-do-i-pass-cookies-to-yt-dlp  for how to manually pass cookies. Also see  https://github.com/yt-dlp/yt-dlp/wiki/Extractors#exporting-youtube-cookies  for tips on effectively exporting YouTube cookies\n",
      "Error indexing Natural (ID 461): cannot unpack non-iterable NoneType object\n",
      "Downloading audio from https://www.youtube.com/watch?v=e4RMh7NLHPY...\n"
     ]
    },
    {
     "name": "stderr",
     "output_type": "stream",
     "text": [
      "ERROR: [youtube] ktvTqknDobU: Sign in to confirm you’re not a bot. Use --cookies-from-browser or --cookies for the authentication. See  https://github.com/yt-dlp/yt-dlp/wiki/FAQ#how-do-i-pass-cookies-to-yt-dlp  for how to manually pass cookies. Also see  https://github.com/yt-dlp/yt-dlp/wiki/Extractors#exporting-youtube-cookies  for tips on effectively exporting YouTube cookies\n"
     ]
    },
    {
     "name": "stdout",
     "output_type": "stream",
     "text": [
      "[Attempt 1] Download error: ERROR: [youtube] ktvTqknDobU: Sign in to confirm you’re not a bot. Use --cookies-from-browser or --cookies for the authentication. See  https://github.com/yt-dlp/yt-dlp/wiki/FAQ#how-do-i-pass-cookies-to-yt-dlp  for how to manually pass cookies. Also see  https://github.com/yt-dlp/yt-dlp/wiki/Extractors#exporting-youtube-cookies  for tips on effectively exporting YouTube cookies\n"
     ]
    },
    {
     "name": "stderr",
     "output_type": "stream",
     "text": [
      "ERROR: [youtube] e4RMh7NLHPY: Sign in to confirm you’re not a bot. Use --cookies-from-browser or --cookies for the authentication. See  https://github.com/yt-dlp/yt-dlp/wiki/FAQ#how-do-i-pass-cookies-to-yt-dlp  for how to manually pass cookies. Also see  https://github.com/yt-dlp/yt-dlp/wiki/Extractors#exporting-youtube-cookies  for tips on effectively exporting YouTube cookies\n",
      "ERROR: [youtube] w5tWYmIOWGk: Sign in to confirm you’re not a bot. Use --cookies-from-browser or --cookies for the authentication. See  https://github.com/yt-dlp/yt-dlp/wiki/FAQ#how-do-i-pass-cookies-to-yt-dlp  for how to manually pass cookies. Also see  https://github.com/yt-dlp/yt-dlp/wiki/Extractors#exporting-youtube-cookies  for tips on effectively exporting YouTube cookies\n",
      " 91%|█████████ | 445/491 [1:27:12<00:39,  1.15it/s]"
     ]
    },
    {
     "name": "stdout",
     "output_type": "stream",
     "text": [
      "[Attempt 1] Download error: ERROR: [youtube] e4RMh7NLHPY: Sign in to confirm you’re not a bot. Use --cookies-from-browser or --cookies for the authentication. See  https://github.com/yt-dlp/yt-dlp/wiki/FAQ#how-do-i-pass-cookies-to-yt-dlp  for how to manually pass cookies. Also see  https://github.com/yt-dlp/yt-dlp/wiki/Extractors#exporting-youtube-cookies  for tips on effectively exporting YouTube cookies\n",
      "[Attempt 2] Download error: ERROR: [youtube] w5tWYmIOWGk: Sign in to confirm you’re not a bot. Use --cookies-from-browser or --cookies for the authentication. See  https://github.com/yt-dlp/yt-dlp/wiki/FAQ#how-do-i-pass-cookies-to-yt-dlp  for how to manually pass cookies. Also see  https://github.com/yt-dlp/yt-dlp/wiki/Extractors#exporting-youtube-cookies  for tips on effectively exporting YouTube cookies\n",
      "Error indexing On Top Of The World (ID 462): cannot unpack non-iterable NoneType object\n",
      "Downloading audio from https://www.youtube.com/watch?v=fKopy74weus...\n"
     ]
    },
    {
     "name": "stderr",
     "output_type": "stream",
     "text": [
      "ERROR: [youtube] ktvTqknDobU: Sign in to confirm you’re not a bot. Use --cookies-from-browser or --cookies for the authentication. See  https://github.com/yt-dlp/yt-dlp/wiki/FAQ#how-do-i-pass-cookies-to-yt-dlp  for how to manually pass cookies. Also see  https://github.com/yt-dlp/yt-dlp/wiki/Extractors#exporting-youtube-cookies  for tips on effectively exporting YouTube cookies\n",
      " 91%|█████████ | 446/491 [1:27:13<00:36,  1.24it/s]"
     ]
    },
    {
     "name": "stdout",
     "output_type": "stream",
     "text": [
      "[Attempt 2] Download error: ERROR: [youtube] ktvTqknDobU: Sign in to confirm you’re not a bot. Use --cookies-from-browser or --cookies for the authentication. See  https://github.com/yt-dlp/yt-dlp/wiki/FAQ#how-do-i-pass-cookies-to-yt-dlp  for how to manually pass cookies. Also see  https://github.com/yt-dlp/yt-dlp/wiki/Extractors#exporting-youtube-cookies  for tips on effectively exporting YouTube cookies\n",
      "Error indexing Radioactive (ID 463): cannot unpack non-iterable NoneType object\n",
      "Downloading audio from https://www.youtube.com/watch?v=gOsM-DYAEhY...\n"
     ]
    },
    {
     "name": "stderr",
     "output_type": "stream",
     "text": [
      "ERROR: [youtube] e4RMh7NLHPY: Sign in to confirm you’re not a bot. Use --cookies-from-browser or --cookies for the authentication. See  https://github.com/yt-dlp/yt-dlp/wiki/FAQ#how-do-i-pass-cookies-to-yt-dlp  for how to manually pass cookies. Also see  https://github.com/yt-dlp/yt-dlp/wiki/Extractors#exporting-youtube-cookies  for tips on effectively exporting YouTube cookies\n",
      " 91%|█████████ | 447/491 [1:27:13<00:30,  1.46it/s]ERROR: [youtube] fKopy74weus: Sign in to confirm you’re not a bot. Use --cookies-from-browser or --cookies for the authentication. See  https://github.com/yt-dlp/yt-dlp/wiki/FAQ#how-do-i-pass-cookies-to-yt-dlp  for how to manually pass cookies. Also see  https://github.com/yt-dlp/yt-dlp/wiki/Extractors#exporting-youtube-cookies  for tips on effectively exporting YouTube cookies\n"
     ]
    },
    {
     "name": "stdout",
     "output_type": "stream",
     "text": [
      "[Attempt 2] Download error: ERROR: [youtube] e4RMh7NLHPY: Sign in to confirm you’re not a bot. Use --cookies-from-browser or --cookies for the authentication. See  https://github.com/yt-dlp/yt-dlp/wiki/FAQ#how-do-i-pass-cookies-to-yt-dlp  for how to manually pass cookies. Also see  https://github.com/yt-dlp/yt-dlp/wiki/Extractors#exporting-youtube-cookies  for tips on effectively exporting YouTube cookies\n",
      "Error indexing Roots (ID 464): cannot unpack non-iterable NoneType object\n",
      "Downloading audio from https://www.youtube.com/watch?v=GSLSwwkLRW0...\n",
      "[Attempt 1] Download error: ERROR: [youtube] fKopy74weus: Sign in to confirm you’re not a bot. Use --cookies-from-browser or --cookies for the authentication. See  https://github.com/yt-dlp/yt-dlp/wiki/FAQ#how-do-i-pass-cookies-to-yt-dlp  for how to manually pass cookies. Also see  https://github.com/yt-dlp/yt-dlp/wiki/Extractors#exporting-youtube-cookies  for tips on effectively exporting YouTube cookies\n"
     ]
    },
    {
     "name": "stderr",
     "output_type": "stream",
     "text": [
      "ERROR: [youtube] gOsM-DYAEhY: Sign in to confirm you’re not a bot. Use --cookies-from-browser or --cookies for the authentication. See  https://github.com/yt-dlp/yt-dlp/wiki/FAQ#how-do-i-pass-cookies-to-yt-dlp  for how to manually pass cookies. Also see  https://github.com/yt-dlp/yt-dlp/wiki/Extractors#exporting-youtube-cookies  for tips on effectively exporting YouTube cookies\n",
      "ERROR: [youtube] GSLSwwkLRW0: Sign in to confirm you’re not a bot. Use --cookies-from-browser or --cookies for the authentication. See  https://github.com/yt-dlp/yt-dlp/wiki/FAQ#how-do-i-pass-cookies-to-yt-dlp  for how to manually pass cookies. Also see  https://github.com/yt-dlp/yt-dlp/wiki/Extractors#exporting-youtube-cookies  for tips on effectively exporting YouTube cookies\n"
     ]
    },
    {
     "name": "stdout",
     "output_type": "stream",
     "text": [
      "[Attempt 1] Download error: ERROR: [youtube] gOsM-DYAEhY: Sign in to confirm you’re not a bot. Use --cookies-from-browser or --cookies for the authentication. See  https://github.com/yt-dlp/yt-dlp/wiki/FAQ#how-do-i-pass-cookies-to-yt-dlp  for how to manually pass cookies. Also see  https://github.com/yt-dlp/yt-dlp/wiki/Extractors#exporting-youtube-cookies  for tips on effectively exporting YouTube cookies\n",
      "[Attempt 1] Download error: ERROR: [youtube] GSLSwwkLRW0: Sign in to confirm you’re not a bot. Use --cookies-from-browser or --cookies for the authentication. See  https://github.com/yt-dlp/yt-dlp/wiki/FAQ#how-do-i-pass-cookies-to-yt-dlp  for how to manually pass cookies. Also see  https://github.com/yt-dlp/yt-dlp/wiki/Extractors#exporting-youtube-cookies  for tips on effectively exporting YouTube cookies\n"
     ]
    },
    {
     "name": "stderr",
     "output_type": "stream",
     "text": [
      "ERROR: [youtube] fKopy74weus: Sign in to confirm you’re not a bot. Use --cookies-from-browser or --cookies for the authentication. See  https://github.com/yt-dlp/yt-dlp/wiki/FAQ#how-do-i-pass-cookies-to-yt-dlp  for how to manually pass cookies. Also see  https://github.com/yt-dlp/yt-dlp/wiki/Extractors#exporting-youtube-cookies  for tips on effectively exporting YouTube cookies\n",
      " 91%|█████████ | 448/491 [1:27:15<00:37,  1.16it/s]"
     ]
    },
    {
     "name": "stdout",
     "output_type": "stream",
     "text": [
      "[Attempt 2] Download error: ERROR: [youtube] fKopy74weus: Sign in to confirm you’re not a bot. Use --cookies-from-browser or --cookies for the authentication. See  https://github.com/yt-dlp/yt-dlp/wiki/FAQ#how-do-i-pass-cookies-to-yt-dlp  for how to manually pass cookies. Also see  https://github.com/yt-dlp/yt-dlp/wiki/Extractors#exporting-youtube-cookies  for tips on effectively exporting YouTube cookies\n",
      "Error indexing Thunder (ID 465): cannot unpack non-iterable NoneType object\n",
      "Downloading audio from https://www.youtube.com/watch?v=1WIsnC-h1d0...\n"
     ]
    },
    {
     "name": "stderr",
     "output_type": "stream",
     "text": [
      "ERROR: [youtube] GSLSwwkLRW0: Sign in to confirm you’re not a bot. Use --cookies-from-browser or --cookies for the authentication. See  https://github.com/yt-dlp/yt-dlp/wiki/FAQ#how-do-i-pass-cookies-to-yt-dlp  for how to manually pass cookies. Also see  https://github.com/yt-dlp/yt-dlp/wiki/Extractors#exporting-youtube-cookies  for tips on effectively exporting YouTube cookies\n",
      " 91%|█████████▏| 449/491 [1:27:15<00:34,  1.22it/s]ERROR: [youtube] gOsM-DYAEhY: Sign in to confirm you’re not a bot. Use --cookies-from-browser or --cookies for the authentication. See  https://github.com/yt-dlp/yt-dlp/wiki/FAQ#how-do-i-pass-cookies-to-yt-dlp  for how to manually pass cookies. Also see  https://github.com/yt-dlp/yt-dlp/wiki/Extractors#exporting-youtube-cookies  for tips on effectively exporting YouTube cookies\n",
      " 92%|█████████▏| 450/491 [1:27:15<00:25,  1.64it/s]"
     ]
    },
    {
     "name": "stdout",
     "output_type": "stream",
     "text": [
      "[Attempt 2] Download error: ERROR: [youtube] GSLSwwkLRW0: Sign in to confirm you’re not a bot. Use --cookies-from-browser or --cookies for the authentication. See  https://github.com/yt-dlp/yt-dlp/wiki/FAQ#how-do-i-pass-cookies-to-yt-dlp  for how to manually pass cookies. Also see  https://github.com/yt-dlp/yt-dlp/wiki/Extractors#exporting-youtube-cookies  for tips on effectively exporting YouTube cookies\n",
      "Error indexing Ain't It Funny (ID 467): cannot unpack non-iterable NoneType object\n",
      "Downloading audio from https://www.youtube.com/watch?v=zD2D6phvRRk...\n",
      "[Attempt 2] Download error: ERROR: [youtube] gOsM-DYAEhY: Sign in to confirm you’re not a bot. Use --cookies-from-browser or --cookies for the authentication. See  https://github.com/yt-dlp/yt-dlp/wiki/FAQ#how-do-i-pass-cookies-to-yt-dlp  for how to manually pass cookies. Also see  https://github.com/yt-dlp/yt-dlp/wiki/Extractors#exporting-youtube-cookies  for tips on effectively exporting YouTube cookies\n",
      "Error indexing Whatever It Takes (ID 466): cannot unpack non-iterable NoneType object\n",
      "Downloading audio from https://www.youtube.com/watch?v=lYfkl-HXfuU...\n"
     ]
    },
    {
     "name": "stderr",
     "output_type": "stream",
     "text": [
      "ERROR: [youtube] 1WIsnC-h1d0: Sign in to confirm you’re not a bot. Use --cookies-from-browser or --cookies for the authentication. See  https://github.com/yt-dlp/yt-dlp/wiki/FAQ#how-do-i-pass-cookies-to-yt-dlp  for how to manually pass cookies. Also see  https://github.com/yt-dlp/yt-dlp/wiki/Extractors#exporting-youtube-cookies  for tips on effectively exporting YouTube cookies\n"
     ]
    },
    {
     "name": "stdout",
     "output_type": "stream",
     "text": [
      "[Attempt 1] Download error: ERROR: [youtube] 1WIsnC-h1d0: Sign in to confirm you’re not a bot. Use --cookies-from-browser or --cookies for the authentication. See  https://github.com/yt-dlp/yt-dlp/wiki/FAQ#how-do-i-pass-cookies-to-yt-dlp  for how to manually pass cookies. Also see  https://github.com/yt-dlp/yt-dlp/wiki/Extractors#exporting-youtube-cookies  for tips on effectively exporting YouTube cookies\n"
     ]
    },
    {
     "name": "stderr",
     "output_type": "stream",
     "text": [
      "ERROR: [youtube] zD2D6phvRRk: Sign in to confirm you’re not a bot. Use --cookies-from-browser or --cookies for the authentication. See  https://github.com/yt-dlp/yt-dlp/wiki/FAQ#how-do-i-pass-cookies-to-yt-dlp  for how to manually pass cookies. Also see  https://github.com/yt-dlp/yt-dlp/wiki/Extractors#exporting-youtube-cookies  for tips on effectively exporting YouTube cookies\n"
     ]
    },
    {
     "name": "stdout",
     "output_type": "stream",
     "text": [
      "[Attempt 1] Download error: ERROR: [youtube] zD2D6phvRRk: Sign in to confirm you’re not a bot. Use --cookies-from-browser or --cookies for the authentication. See  https://github.com/yt-dlp/yt-dlp/wiki/FAQ#how-do-i-pass-cookies-to-yt-dlp  for how to manually pass cookies. Also see  https://github.com/yt-dlp/yt-dlp/wiki/Extractors#exporting-youtube-cookies  for tips on effectively exporting YouTube cookies\n"
     ]
    },
    {
     "name": "stderr",
     "output_type": "stream",
     "text": [
      "ERROR: [youtube] 1WIsnC-h1d0: Sign in to confirm you’re not a bot. Use --cookies-from-browser or --cookies for the authentication. See  https://github.com/yt-dlp/yt-dlp/wiki/FAQ#how-do-i-pass-cookies-to-yt-dlp  for how to manually pass cookies. Also see  https://github.com/yt-dlp/yt-dlp/wiki/Extractors#exporting-youtube-cookies  for tips on effectively exporting YouTube cookies\n",
      " 92%|█████████▏| 451/491 [1:27:17<00:31,  1.25it/s]ERROR: [youtube] lYfkl-HXfuU: Sign in to confirm you’re not a bot. Use --cookies-from-browser or --cookies for the authentication. See  https://github.com/yt-dlp/yt-dlp/wiki/FAQ#how-do-i-pass-cookies-to-yt-dlp  for how to manually pass cookies. Also see  https://github.com/yt-dlp/yt-dlp/wiki/Extractors#exporting-youtube-cookies  for tips on effectively exporting YouTube cookies\n"
     ]
    },
    {
     "name": "stdout",
     "output_type": "stream",
     "text": [
      "[Attempt 2] Download error: ERROR: [youtube] 1WIsnC-h1d0: Sign in to confirm you’re not a bot. Use --cookies-from-browser or --cookies for the authentication. See  https://github.com/yt-dlp/yt-dlp/wiki/FAQ#how-do-i-pass-cookies-to-yt-dlp  for how to manually pass cookies. Also see  https://github.com/yt-dlp/yt-dlp/wiki/Extractors#exporting-youtube-cookies  for tips on effectively exporting YouTube cookies\n",
      "Error indexing Get Right (ID 468): cannot unpack non-iterable NoneType object\n",
      "Downloading audio from https://www.youtube.com/watch?v=Q91hydQRGyM...\n",
      "[Attempt 1] Download error: ERROR: [youtube] lYfkl-HXfuU: Sign in to confirm you’re not a bot. Use --cookies-from-browser or --cookies for the authentication. See  https://github.com/yt-dlp/yt-dlp/wiki/FAQ#how-do-i-pass-cookies-to-yt-dlp  for how to manually pass cookies. Also see  https://github.com/yt-dlp/yt-dlp/wiki/Extractors#exporting-youtube-cookies  for tips on effectively exporting YouTube cookies\n"
     ]
    },
    {
     "name": "stderr",
     "output_type": "stream",
     "text": [
      "ERROR: [youtube] zD2D6phvRRk: Sign in to confirm you’re not a bot. Use --cookies-from-browser or --cookies for the authentication. See  https://github.com/yt-dlp/yt-dlp/wiki/FAQ#how-do-i-pass-cookies-to-yt-dlp  for how to manually pass cookies. Also see  https://github.com/yt-dlp/yt-dlp/wiki/Extractors#exporting-youtube-cookies  for tips on effectively exporting YouTube cookies\n",
      " 92%|█████████▏| 452/491 [1:27:18<00:37,  1.04it/s]ERROR: [youtube] lYfkl-HXfuU: Sign in to confirm you’re not a bot. Use --cookies-from-browser or --cookies for the authentication. See  https://github.com/yt-dlp/yt-dlp/wiki/FAQ#how-do-i-pass-cookies-to-yt-dlp  for how to manually pass cookies. Also see  https://github.com/yt-dlp/yt-dlp/wiki/Extractors#exporting-youtube-cookies  for tips on effectively exporting YouTube cookies\n",
      "ERROR: [youtube] Q91hydQRGyM: Sign in to confirm you’re not a bot. Use --cookies-from-browser or --cookies for the authentication. See  https://github.com/yt-dlp/yt-dlp/wiki/FAQ#how-do-i-pass-cookies-to-yt-dlp  for how to manually pass cookies. Also see  https://github.com/yt-dlp/yt-dlp/wiki/Extractors#exporting-youtube-cookies  for tips on effectively exporting YouTube cookies\n",
      " 92%|█████████▏| 453/491 [1:27:18<00:27,  1.37it/s]"
     ]
    },
    {
     "name": "stdout",
     "output_type": "stream",
     "text": [
      "[Attempt 2] Download error: ERROR: [youtube] zD2D6phvRRk: Sign in to confirm you’re not a bot. Use --cookies-from-browser or --cookies for the authentication. See  https://github.com/yt-dlp/yt-dlp/wiki/FAQ#how-do-i-pass-cookies-to-yt-dlp  for how to manually pass cookies. Also see  https://github.com/yt-dlp/yt-dlp/wiki/Extractors#exporting-youtube-cookies  for tips on effectively exporting YouTube cookies\n",
      "Error indexing I'm Real (ID 469): cannot unpack non-iterable NoneType object\n",
      "Downloading audio from https://www.youtube.com/watch?v=4kGvlESGvbs...\n",
      "[Attempt 2] Download error: ERROR: [youtube] lYfkl-HXfuU: Sign in to confirm you’re not a bot. Use --cookies-from-browser or --cookies for the authentication. See  https://github.com/yt-dlp/yt-dlp/wiki/FAQ#how-do-i-pass-cookies-to-yt-dlp  for how to manually pass cookies. Also see  https://github.com/yt-dlp/yt-dlp/wiki/Extractors#exporting-youtube-cookies  for tips on effectively exporting YouTube cookies\n",
      "Error indexing If You Had My Love (ID 470): cannot unpack non-iterable NoneType object\n",
      "Downloading audio from https://www.youtube.com/watch?v=tFuw-YZaTNo...\n",
      "[Attempt 1] Download error: ERROR: [youtube] Q91hydQRGyM: Sign in to confirm you’re not a bot. Use --cookies-from-browser or --cookies for the authentication. See  https://github.com/yt-dlp/yt-dlp/wiki/FAQ#how-do-i-pass-cookies-to-yt-dlp  for how to manually pass cookies. Also see  https://github.com/yt-dlp/yt-dlp/wiki/Extractors#exporting-youtube-cookies  for tips on effectively exporting YouTube cookies\n"
     ]
    },
    {
     "name": "stderr",
     "output_type": "stream",
     "text": [
      "ERROR: [youtube] 4kGvlESGvbs: Sign in to confirm you’re not a bot. Use --cookies-from-browser or --cookies for the authentication. See  https://github.com/yt-dlp/yt-dlp/wiki/FAQ#how-do-i-pass-cookies-to-yt-dlp  for how to manually pass cookies. Also see  https://github.com/yt-dlp/yt-dlp/wiki/Extractors#exporting-youtube-cookies  for tips on effectively exporting YouTube cookies\n",
      "ERROR: [youtube] tFuw-YZaTNo: Sign in to confirm you’re not a bot. Use --cookies-from-browser or --cookies for the authentication. See  https://github.com/yt-dlp/yt-dlp/wiki/FAQ#how-do-i-pass-cookies-to-yt-dlp  for how to manually pass cookies. Also see  https://github.com/yt-dlp/yt-dlp/wiki/Extractors#exporting-youtube-cookies  for tips on effectively exporting YouTube cookies\n"
     ]
    },
    {
     "name": "stdout",
     "output_type": "stream",
     "text": [
      "[Attempt 1] Download error: ERROR: [youtube] 4kGvlESGvbs: Sign in to confirm you’re not a bot. Use --cookies-from-browser or --cookies for the authentication. See  https://github.com/yt-dlp/yt-dlp/wiki/FAQ#how-do-i-pass-cookies-to-yt-dlp  for how to manually pass cookies. Also see  https://github.com/yt-dlp/yt-dlp/wiki/Extractors#exporting-youtube-cookies  for tips on effectively exporting YouTube cookies\n",
      "[Attempt 1] Download error: ERROR: [youtube] tFuw-YZaTNo: Sign in to confirm you’re not a bot. Use --cookies-from-browser or --cookies for the authentication. See  https://github.com/yt-dlp/yt-dlp/wiki/FAQ#how-do-i-pass-cookies-to-yt-dlp  for how to manually pass cookies. Also see  https://github.com/yt-dlp/yt-dlp/wiki/Extractors#exporting-youtube-cookies  for tips on effectively exporting YouTube cookies\n"
     ]
    },
    {
     "name": "stderr",
     "output_type": "stream",
     "text": [
      "ERROR: [youtube] Q91hydQRGyM: Sign in to confirm you’re not a bot. Use --cookies-from-browser or --cookies for the authentication. See  https://github.com/yt-dlp/yt-dlp/wiki/FAQ#how-do-i-pass-cookies-to-yt-dlp  for how to manually pass cookies. Also see  https://github.com/yt-dlp/yt-dlp/wiki/Extractors#exporting-youtube-cookies  for tips on effectively exporting YouTube cookies\n",
      " 92%|█████████▏| 454/491 [1:27:20<00:34,  1.06it/s]"
     ]
    },
    {
     "name": "stdout",
     "output_type": "stream",
     "text": [
      "[Attempt 2] Download error: ERROR: [youtube] Q91hydQRGyM: Sign in to confirm you’re not a bot. Use --cookies-from-browser or --cookies for the authentication. See  https://github.com/yt-dlp/yt-dlp/wiki/FAQ#how-do-i-pass-cookies-to-yt-dlp  for how to manually pass cookies. Also see  https://github.com/yt-dlp/yt-dlp/wiki/Extractors#exporting-youtube-cookies  for tips on effectively exporting YouTube cookies\n",
      "Error indexing Let's Get Loud (ID 471): cannot unpack non-iterable NoneType object\n",
      "Downloading audio from https://www.youtube.com/watch?v=_66jPJVS4JE...\n"
     ]
    },
    {
     "name": "stderr",
     "output_type": "stream",
     "text": [
      "ERROR: [youtube] 4kGvlESGvbs: Sign in to confirm you’re not a bot. Use --cookies-from-browser or --cookies for the authentication. See  https://github.com/yt-dlp/yt-dlp/wiki/FAQ#how-do-i-pass-cookies-to-yt-dlp  for how to manually pass cookies. Also see  https://github.com/yt-dlp/yt-dlp/wiki/Extractors#exporting-youtube-cookies  for tips on effectively exporting YouTube cookies\n",
      " 93%|█████████▎| 455/491 [1:27:20<00:31,  1.15it/s]ERROR: [youtube] tFuw-YZaTNo: Sign in to confirm you’re not a bot. Use --cookies-from-browser or --cookies for the authentication. See  https://github.com/yt-dlp/yt-dlp/wiki/FAQ#how-do-i-pass-cookies-to-yt-dlp  for how to manually pass cookies. Also see  https://github.com/yt-dlp/yt-dlp/wiki/Extractors#exporting-youtube-cookies  for tips on effectively exporting YouTube cookies\n",
      " 93%|█████████▎| 456/491 [1:27:20<00:23,  1.50it/s]"
     ]
    },
    {
     "name": "stdout",
     "output_type": "stream",
     "text": [
      "[Attempt 2] Download error: ERROR: [youtube] 4kGvlESGvbs: Sign in to confirm you’re not a bot. Use --cookies-from-browser or --cookies for the authentication. See  https://github.com/yt-dlp/yt-dlp/wiki/FAQ#how-do-i-pass-cookies-to-yt-dlp  for how to manually pass cookies. Also see  https://github.com/yt-dlp/yt-dlp/wiki/Extractors#exporting-youtube-cookies  for tips on effectively exporting YouTube cookies\n",
      "Error indexing Love Don't Cost a Thing (ID 472): cannot unpack non-iterable NoneType object\n",
      "Downloading audio from https://www.youtube.com/watch?v=U7uxf8kBBlg...\n",
      "[Attempt 2] Download error: ERROR: [youtube] tFuw-YZaTNo: Sign in to confirm you’re not a bot. Use --cookies-from-browser or --cookies for the authentication. See  https://github.com/yt-dlp/yt-dlp/wiki/FAQ#how-do-i-pass-cookies-to-yt-dlp  for how to manually pass cookies. Also see  https://github.com/yt-dlp/yt-dlp/wiki/Extractors#exporting-youtube-cookies  for tips on effectively exporting YouTube cookies\n",
      "Error indexing Play (ID 473): cannot unpack non-iterable NoneType object\n",
      "Downloading audio from https://www.youtube.com/watch?v=4bJ0F8KhhZ8...\n"
     ]
    },
    {
     "name": "stderr",
     "output_type": "stream",
     "text": [
      "ERROR: [youtube] _66jPJVS4JE: Sign in to confirm you’re not a bot. Use --cookies-from-browser or --cookies for the authentication. See  https://github.com/yt-dlp/yt-dlp/wiki/FAQ#how-do-i-pass-cookies-to-yt-dlp  for how to manually pass cookies. Also see  https://github.com/yt-dlp/yt-dlp/wiki/Extractors#exporting-youtube-cookies  for tips on effectively exporting YouTube cookies\n"
     ]
    },
    {
     "name": "stdout",
     "output_type": "stream",
     "text": [
      "[Attempt 1] Download error: ERROR: [youtube] _66jPJVS4JE: Sign in to confirm you’re not a bot. Use --cookies-from-browser or --cookies for the authentication. See  https://github.com/yt-dlp/yt-dlp/wiki/FAQ#how-do-i-pass-cookies-to-yt-dlp  for how to manually pass cookies. Also see  https://github.com/yt-dlp/yt-dlp/wiki/Extractors#exporting-youtube-cookies  for tips on effectively exporting YouTube cookies\n"
     ]
    },
    {
     "name": "stderr",
     "output_type": "stream",
     "text": [
      "ERROR: [youtube] U7uxf8kBBlg: Sign in to confirm you’re not a bot. Use --cookies-from-browser or --cookies for the authentication. See  https://github.com/yt-dlp/yt-dlp/wiki/FAQ#how-do-i-pass-cookies-to-yt-dlp  for how to manually pass cookies. Also see  https://github.com/yt-dlp/yt-dlp/wiki/Extractors#exporting-youtube-cookies  for tips on effectively exporting YouTube cookies\n",
      " 93%|█████████▎| 457/491 [1:27:21<00:24,  1.41it/s]"
     ]
    },
    {
     "name": "stdout",
     "output_type": "stream",
     "text": [
      "[Attempt 1] Download error: ERROR: [youtube] U7uxf8kBBlg: Sign in to confirm you’re not a bot. Use --cookies-from-browser or --cookies for the authentication. See  https://github.com/yt-dlp/yt-dlp/wiki/FAQ#how-do-i-pass-cookies-to-yt-dlp  for how to manually pass cookies. Also see  https://github.com/yt-dlp/yt-dlp/wiki/Extractors#exporting-youtube-cookies  for tips on effectively exporting YouTube cookies\n",
      "Downloading audio from https://www.youtube.com/watch?v=vzsz6SSS3wk...\n"
     ]
    },
    {
     "name": "stderr",
     "output_type": "stream",
     "text": [
      "ERROR: [youtube] 4bJ0F8KhhZ8: Sign in to confirm you’re not a bot. Use --cookies-from-browser or --cookies for the authentication. See  https://github.com/yt-dlp/yt-dlp/wiki/FAQ#how-do-i-pass-cookies-to-yt-dlp  for how to manually pass cookies. Also see  https://github.com/yt-dlp/yt-dlp/wiki/Extractors#exporting-youtube-cookies  for tips on effectively exporting YouTube cookies\n"
     ]
    },
    {
     "name": "stdout",
     "output_type": "stream",
     "text": [
      "[Attempt 1] Download error: ERROR: [youtube] 4bJ0F8KhhZ8: Sign in to confirm you’re not a bot. Use --cookies-from-browser or --cookies for the authentication. See  https://github.com/yt-dlp/yt-dlp/wiki/FAQ#how-do-i-pass-cookies-to-yt-dlp  for how to manually pass cookies. Also see  https://github.com/yt-dlp/yt-dlp/wiki/Extractors#exporting-youtube-cookies  for tips on effectively exporting YouTube cookies\n"
     ]
    },
    {
     "name": "stderr",
     "output_type": "stream",
     "text": [
      "ERROR: [youtube] _66jPJVS4JE: Sign in to confirm you’re not a bot. Use --cookies-from-browser or --cookies for the authentication. See  https://github.com/yt-dlp/yt-dlp/wiki/FAQ#how-do-i-pass-cookies-to-yt-dlp  for how to manually pass cookies. Also see  https://github.com/yt-dlp/yt-dlp/wiki/Extractors#exporting-youtube-cookies  for tips on effectively exporting YouTube cookies\n",
      " 93%|█████████▎| 458/491 [1:27:22<00:21,  1.53it/s]"
     ]
    },
    {
     "name": "stdout",
     "output_type": "stream",
     "text": [
      "[Attempt 2] Download error: ERROR: [youtube] _66jPJVS4JE: Sign in to confirm you’re not a bot. Use --cookies-from-browser or --cookies for the authentication. See  https://github.com/yt-dlp/yt-dlp/wiki/FAQ#how-do-i-pass-cookies-to-yt-dlp  for how to manually pass cookies. Also see  https://github.com/yt-dlp/yt-dlp/wiki/Extractors#exporting-youtube-cookies  for tips on effectively exporting YouTube cookies\n",
      "Error indexing Waiting for Tonight (ID 474): cannot unpack non-iterable NoneType object\n",
      "Downloading audio from https://www.youtube.com/watch?v=DPtfsk4ETjM...\n"
     ]
    },
    {
     "name": "stderr",
     "output_type": "stream",
     "text": [
      "ERROR: [youtube] vzsz6SSS3wk: Sign in to confirm you’re not a bot. Use --cookies-from-browser or --cookies for the authentication. See  https://github.com/yt-dlp/yt-dlp/wiki/FAQ#how-do-i-pass-cookies-to-yt-dlp  for how to manually pass cookies. Also see  https://github.com/yt-dlp/yt-dlp/wiki/Extractors#exporting-youtube-cookies  for tips on effectively exporting YouTube cookies\n"
     ]
    },
    {
     "name": "stdout",
     "output_type": "stream",
     "text": [
      "[Attempt 1] Download error: ERROR: [youtube] vzsz6SSS3wk: Sign in to confirm you’re not a bot. Use --cookies-from-browser or --cookies for the authentication. See  https://github.com/yt-dlp/yt-dlp/wiki/FAQ#how-do-i-pass-cookies-to-yt-dlp  for how to manually pass cookies. Also see  https://github.com/yt-dlp/yt-dlp/wiki/Extractors#exporting-youtube-cookies  for tips on effectively exporting YouTube cookies\n"
     ]
    },
    {
     "name": "stderr",
     "output_type": "stream",
     "text": [
      "ERROR: [youtube] U7uxf8kBBlg: Sign in to confirm you’re not a bot. Use --cookies-from-browser or --cookies for the authentication. See  https://github.com/yt-dlp/yt-dlp/wiki/FAQ#how-do-i-pass-cookies-to-yt-dlp  for how to manually pass cookies. Also see  https://github.com/yt-dlp/yt-dlp/wiki/Extractors#exporting-youtube-cookies  for tips on effectively exporting YouTube cookies\n",
      " 93%|█████████▎| 459/491 [1:27:22<00:20,  1.56it/s]"
     ]
    },
    {
     "name": "stdout",
     "output_type": "stream",
     "text": [
      "[Attempt 2] Download error: ERROR: [youtube] U7uxf8kBBlg: Sign in to confirm you’re not a bot. Use --cookies-from-browser or --cookies for the authentication. See  https://github.com/yt-dlp/yt-dlp/wiki/FAQ#how-do-i-pass-cookies-to-yt-dlp  for how to manually pass cookies. Also see  https://github.com/yt-dlp/yt-dlp/wiki/Extractors#exporting-youtube-cookies  for tips on effectively exporting YouTube cookies\n",
      "Error indexing I Think I'm in Love with You (ID 475): cannot unpack non-iterable NoneType object\n",
      "Downloading audio from https://www.youtube.com/watch?v=VWl7WjAtBME...\n"
     ]
    },
    {
     "name": "stderr",
     "output_type": "stream",
     "text": [
      "ERROR: [youtube] 4bJ0F8KhhZ8: Sign in to confirm you’re not a bot. Use --cookies-from-browser or --cookies for the authentication. See  https://github.com/yt-dlp/yt-dlp/wiki/FAQ#how-do-i-pass-cookies-to-yt-dlp  for how to manually pass cookies. Also see  https://github.com/yt-dlp/yt-dlp/wiki/Extractors#exporting-youtube-cookies  for tips on effectively exporting YouTube cookies\n",
      " 94%|█████████▎| 460/491 [1:27:23<00:16,  1.90it/s]ERROR: [youtube] DPtfsk4ETjM: Sign in to confirm you’re not a bot. Use --cookies-from-browser or --cookies for the authentication. See  https://github.com/yt-dlp/yt-dlp/wiki/FAQ#how-do-i-pass-cookies-to-yt-dlp  for how to manually pass cookies. Also see  https://github.com/yt-dlp/yt-dlp/wiki/Extractors#exporting-youtube-cookies  for tips on effectively exporting YouTube cookies\n"
     ]
    },
    {
     "name": "stdout",
     "output_type": "stream",
     "text": [
      "[Attempt 2] Download error: ERROR: [youtube] 4bJ0F8KhhZ8: Sign in to confirm you’re not a bot. Use --cookies-from-browser or --cookies for the authentication. See  https://github.com/yt-dlp/yt-dlp/wiki/FAQ#how-do-i-pass-cookies-to-yt-dlp  for how to manually pass cookies. Also see  https://github.com/yt-dlp/yt-dlp/wiki/Extractors#exporting-youtube-cookies  for tips on effectively exporting YouTube cookies\n",
      "Error indexing I Wanna Love You Forever (ID 476): cannot unpack non-iterable NoneType object\n",
      "Downloading audio from https://www.youtube.com/watch?v=ru0K8uYEZWw...\n",
      "[Attempt 1] Download error: ERROR: [youtube] DPtfsk4ETjM: Sign in to confirm you’re not a bot. Use --cookies-from-browser or --cookies for the authentication. See  https://github.com/yt-dlp/yt-dlp/wiki/FAQ#how-do-i-pass-cookies-to-yt-dlp  for how to manually pass cookies. Also see  https://github.com/yt-dlp/yt-dlp/wiki/Extractors#exporting-youtube-cookies  for tips on effectively exporting YouTube cookies\n"
     ]
    },
    {
     "name": "stderr",
     "output_type": "stream",
     "text": [
      "ERROR: [youtube] vzsz6SSS3wk: Sign in to confirm you’re not a bot. Use --cookies-from-browser or --cookies for the authentication. See  https://github.com/yt-dlp/yt-dlp/wiki/FAQ#how-do-i-pass-cookies-to-yt-dlp  for how to manually pass cookies. Also see  https://github.com/yt-dlp/yt-dlp/wiki/Extractors#exporting-youtube-cookies  for tips on effectively exporting YouTube cookies\n",
      " 94%|█████████▍| 461/491 [1:27:23<00:17,  1.76it/s]ERROR: [youtube] VWl7WjAtBME: Sign in to confirm you’re not a bot. Use --cookies-from-browser or --cookies for the authentication. See  https://github.com/yt-dlp/yt-dlp/wiki/FAQ#how-do-i-pass-cookies-to-yt-dlp  for how to manually pass cookies. Also see  https://github.com/yt-dlp/yt-dlp/wiki/Extractors#exporting-youtube-cookies  for tips on effectively exporting YouTube cookies\n"
     ]
    },
    {
     "name": "stdout",
     "output_type": "stream",
     "text": [
      "[Attempt 2] Download error: ERROR: [youtube] vzsz6SSS3wk: Sign in to confirm you’re not a bot. Use --cookies-from-browser or --cookies for the authentication. See  https://github.com/yt-dlp/yt-dlp/wiki/FAQ#how-do-i-pass-cookies-to-yt-dlp  for how to manually pass cookies. Also see  https://github.com/yt-dlp/yt-dlp/wiki/Extractors#exporting-youtube-cookies  for tips on effectively exporting YouTube cookies\n",
      "Error indexing Take My Breath Away (ID 477): cannot unpack non-iterable NoneType object\n",
      "Downloading audio from https://www.youtube.com/watch?v=DksSPZTZES0...\n",
      "[Attempt 1] Download error: ERROR: [youtube] VWl7WjAtBME: Sign in to confirm you’re not a bot. Use --cookies-from-browser or --cookies for the authentication. See  https://github.com/yt-dlp/yt-dlp/wiki/FAQ#how-do-i-pass-cookies-to-yt-dlp  for how to manually pass cookies. Also see  https://github.com/yt-dlp/yt-dlp/wiki/Extractors#exporting-youtube-cookies  for tips on effectively exporting YouTube cookies\n"
     ]
    },
    {
     "name": "stderr",
     "output_type": "stream",
     "text": [
      "ERROR: [youtube] ru0K8uYEZWw: Sign in to confirm you’re not a bot. Use --cookies-from-browser or --cookies for the authentication. See  https://github.com/yt-dlp/yt-dlp/wiki/FAQ#how-do-i-pass-cookies-to-yt-dlp  for how to manually pass cookies. Also see  https://github.com/yt-dlp/yt-dlp/wiki/Extractors#exporting-youtube-cookies  for tips on effectively exporting YouTube cookies\n",
      "ERROR: [youtube] DPtfsk4ETjM: Sign in to confirm you’re not a bot. Use --cookies-from-browser or --cookies for the authentication. See  https://github.com/yt-dlp/yt-dlp/wiki/FAQ#how-do-i-pass-cookies-to-yt-dlp  for how to manually pass cookies. Also see  https://github.com/yt-dlp/yt-dlp/wiki/Extractors#exporting-youtube-cookies  for tips on effectively exporting YouTube cookies\n",
      " 94%|█████████▍| 462/491 [1:27:24<00:16,  1.74it/s]"
     ]
    },
    {
     "name": "stdout",
     "output_type": "stream",
     "text": [
      "[Attempt 1] Download error: ERROR: [youtube] ru0K8uYEZWw: Sign in to confirm you’re not a bot. Use --cookies-from-browser or --cookies for the authentication. See  https://github.com/yt-dlp/yt-dlp/wiki/FAQ#how-do-i-pass-cookies-to-yt-dlp  for how to manually pass cookies. Also see  https://github.com/yt-dlp/yt-dlp/wiki/Extractors#exporting-youtube-cookies  for tips on effectively exporting YouTube cookies\n",
      "[Attempt 2] Download error: ERROR: [youtube] DPtfsk4ETjM: Sign in to confirm you’re not a bot. Use --cookies-from-browser or --cookies for the authentication. See  https://github.com/yt-dlp/yt-dlp/wiki/FAQ#how-do-i-pass-cookies-to-yt-dlp  for how to manually pass cookies. Also see  https://github.com/yt-dlp/yt-dlp/wiki/Extractors#exporting-youtube-cookies  for tips on effectively exporting YouTube cookies\n",
      "Error indexing These Boots Are Made for Walkin' (ID 478): cannot unpack non-iterable NoneType object\n",
      "Downloading audio from https://www.youtube.com/watch?v=gA-NDZb29I4...\n"
     ]
    },
    {
     "name": "stderr",
     "output_type": "stream",
     "text": [
      "ERROR: [youtube] VWl7WjAtBME: Sign in to confirm you’re not a bot. Use --cookies-from-browser or --cookies for the authentication. See  https://github.com/yt-dlp/yt-dlp/wiki/FAQ#how-do-i-pass-cookies-to-yt-dlp  for how to manually pass cookies. Also see  https://github.com/yt-dlp/yt-dlp/wiki/Extractors#exporting-youtube-cookies  for tips on effectively exporting YouTube cookies\n",
      " 94%|█████████▍| 463/491 [1:27:25<00:16,  1.71it/s]ERROR: [youtube] DksSPZTZES0: Sign in to confirm you’re not a bot. Use --cookies-from-browser or --cookies for the authentication. See  https://github.com/yt-dlp/yt-dlp/wiki/FAQ#how-do-i-pass-cookies-to-yt-dlp  for how to manually pass cookies. Also see  https://github.com/yt-dlp/yt-dlp/wiki/Extractors#exporting-youtube-cookies  for tips on effectively exporting YouTube cookies\n"
     ]
    },
    {
     "name": "stdout",
     "output_type": "stream",
     "text": [
      "[Attempt 2] Download error: ERROR: [youtube] VWl7WjAtBME: Sign in to confirm you’re not a bot. Use --cookies-from-browser or --cookies for the authentication. See  https://github.com/yt-dlp/yt-dlp/wiki/FAQ#how-do-i-pass-cookies-to-yt-dlp  for how to manually pass cookies. Also see  https://github.com/yt-dlp/yt-dlp/wiki/Extractors#exporting-youtube-cookies  for tips on effectively exporting YouTube cookies\n",
      "Error indexing With You (ID 479): cannot unpack non-iterable NoneType object\n",
      "Downloading audio from https://www.youtube.com/watch?v=IthFGX3sKec...\n",
      "[Attempt 1] Download error: ERROR: [youtube] DksSPZTZES0: Sign in to confirm you’re not a bot. Use --cookies-from-browser or --cookies for the authentication. See  https://github.com/yt-dlp/yt-dlp/wiki/FAQ#how-do-i-pass-cookies-to-yt-dlp  for how to manually pass cookies. Also see  https://github.com/yt-dlp/yt-dlp/wiki/Extractors#exporting-youtube-cookies  for tips on effectively exporting YouTube cookies\n"
     ]
    },
    {
     "name": "stderr",
     "output_type": "stream",
     "text": [
      "ERROR: [youtube] ru0K8uYEZWw: Sign in to confirm you’re not a bot. Use --cookies-from-browser or --cookies for the authentication. See  https://github.com/yt-dlp/yt-dlp/wiki/FAQ#how-do-i-pass-cookies-to-yt-dlp  for how to manually pass cookies. Also see  https://github.com/yt-dlp/yt-dlp/wiki/Extractors#exporting-youtube-cookies  for tips on effectively exporting YouTube cookies\n",
      " 95%|█████████▍| 464/491 [1:27:25<00:13,  2.08it/s]"
     ]
    },
    {
     "name": "stdout",
     "output_type": "stream",
     "text": [
      "[Attempt 2] Download error: ERROR: [youtube] ru0K8uYEZWw: Sign in to confirm you’re not a bot. Use --cookies-from-browser or --cookies for the authentication. See  https://github.com/yt-dlp/yt-dlp/wiki/FAQ#how-do-i-pass-cookies-to-yt-dlp  for how to manually pass cookies. Also see  https://github.com/yt-dlp/yt-dlp/wiki/Extractors#exporting-youtube-cookies  for tips on effectively exporting YouTube cookies\n",
      "Error indexing CAN'T STOP THE FEELING! (from DreamWorks Animation's \"TROLLS\") (ID 480): cannot unpack non-iterable NoneType object\n",
      "Downloading audio from https://www.youtube.com/watch?v=FQ3slUz7Jo8...\n"
     ]
    },
    {
     "name": "stderr",
     "output_type": "stream",
     "text": [
      "ERROR: [youtube] gA-NDZb29I4: Sign in to confirm you’re not a bot. Use --cookies-from-browser or --cookies for the authentication. See  https://github.com/yt-dlp/yt-dlp/wiki/FAQ#how-do-i-pass-cookies-to-yt-dlp  for how to manually pass cookies. Also see  https://github.com/yt-dlp/yt-dlp/wiki/Extractors#exporting-youtube-cookies  for tips on effectively exporting YouTube cookies\n"
     ]
    },
    {
     "name": "stdout",
     "output_type": "stream",
     "text": [
      "[Attempt 1] Download error: ERROR: [youtube] gA-NDZb29I4: Sign in to confirm you’re not a bot. Use --cookies-from-browser or --cookies for the authentication. See  https://github.com/yt-dlp/yt-dlp/wiki/FAQ#how-do-i-pass-cookies-to-yt-dlp  for how to manually pass cookies. Also see  https://github.com/yt-dlp/yt-dlp/wiki/Extractors#exporting-youtube-cookies  for tips on effectively exporting YouTube cookies\n"
     ]
    },
    {
     "name": "stderr",
     "output_type": "stream",
     "text": [
      "ERROR: [youtube] IthFGX3sKec: Sign in to confirm you’re not a bot. Use --cookies-from-browser or --cookies for the authentication. See  https://github.com/yt-dlp/yt-dlp/wiki/FAQ#how-do-i-pass-cookies-to-yt-dlp  for how to manually pass cookies. Also see  https://github.com/yt-dlp/yt-dlp/wiki/Extractors#exporting-youtube-cookies  for tips on effectively exporting YouTube cookies\n",
      "ERROR: [youtube] DksSPZTZES0: Sign in to confirm you’re not a bot. Use --cookies-from-browser or --cookies for the authentication. See  https://github.com/yt-dlp/yt-dlp/wiki/FAQ#how-do-i-pass-cookies-to-yt-dlp  for how to manually pass cookies. Also see  https://github.com/yt-dlp/yt-dlp/wiki/Extractors#exporting-youtube-cookies  for tips on effectively exporting YouTube cookies\n",
      " 95%|█████████▍| 465/491 [1:27:26<00:16,  1.57it/s]"
     ]
    },
    {
     "name": "stdout",
     "output_type": "stream",
     "text": [
      "[Attempt 1] Download error: ERROR: [youtube] IthFGX3sKec: Sign in to confirm you’re not a bot. Use --cookies-from-browser or --cookies for the authentication. See  https://github.com/yt-dlp/yt-dlp/wiki/FAQ#how-do-i-pass-cookies-to-yt-dlp  for how to manually pass cookies. Also see  https://github.com/yt-dlp/yt-dlp/wiki/Extractors#exporting-youtube-cookies  for tips on effectively exporting YouTube cookies\n",
      "[Attempt 2] Download error: ERROR: [youtube] DksSPZTZES0: Sign in to confirm you’re not a bot. Use --cookies-from-browser or --cookies for the authentication. See  https://github.com/yt-dlp/yt-dlp/wiki/FAQ#how-do-i-pass-cookies-to-yt-dlp  for how to manually pass cookies. Also see  https://github.com/yt-dlp/yt-dlp/wiki/Extractors#exporting-youtube-cookies  for tips on effectively exporting YouTube cookies\n",
      "Error indexing Cry Me a River (ID 481): cannot unpack non-iterable NoneType object\n",
      "Downloading audio from https://www.youtube.com/watch?v=-_ED5aLbp4I...\n"
     ]
    },
    {
     "name": "stderr",
     "output_type": "stream",
     "text": [
      "ERROR: [youtube] FQ3slUz7Jo8: Sign in to confirm you’re not a bot. Use --cookies-from-browser or --cookies for the authentication. See  https://github.com/yt-dlp/yt-dlp/wiki/FAQ#how-do-i-pass-cookies-to-yt-dlp  for how to manually pass cookies. Also see  https://github.com/yt-dlp/yt-dlp/wiki/Extractors#exporting-youtube-cookies  for tips on effectively exporting YouTube cookies\n"
     ]
    },
    {
     "name": "stdout",
     "output_type": "stream",
     "text": [
      "[Attempt 1] Download error: ERROR: [youtube] FQ3slUz7Jo8: Sign in to confirm you’re not a bot. Use --cookies-from-browser or --cookies for the authentication. See  https://github.com/yt-dlp/yt-dlp/wiki/FAQ#how-do-i-pass-cookies-to-yt-dlp  for how to manually pass cookies. Also see  https://github.com/yt-dlp/yt-dlp/wiki/Extractors#exporting-youtube-cookies  for tips on effectively exporting YouTube cookies\n"
     ]
    },
    {
     "name": "stderr",
     "output_type": "stream",
     "text": [
      "ERROR: [youtube] gA-NDZb29I4: Sign in to confirm you’re not a bot. Use --cookies-from-browser or --cookies for the authentication. See  https://github.com/yt-dlp/yt-dlp/wiki/FAQ#how-do-i-pass-cookies-to-yt-dlp  for how to manually pass cookies. Also see  https://github.com/yt-dlp/yt-dlp/wiki/Extractors#exporting-youtube-cookies  for tips on effectively exporting YouTube cookies\n",
      " 95%|█████████▍| 466/491 [1:27:26<00:16,  1.56it/s]"
     ]
    },
    {
     "name": "stdout",
     "output_type": "stream",
     "text": [
      "[Attempt 2] Download error: ERROR: [youtube] gA-NDZb29I4: Sign in to confirm you’re not a bot. Use --cookies-from-browser or --cookies for the authentication. See  https://github.com/yt-dlp/yt-dlp/wiki/FAQ#how-do-i-pass-cookies-to-yt-dlp  for how to manually pass cookies. Also see  https://github.com/yt-dlp/yt-dlp/wiki/Extractors#exporting-youtube-cookies  for tips on effectively exporting YouTube cookies\n",
      "Error indexing Filthy (ID 482): cannot unpack non-iterable NoneType object\n",
      "Downloading audio from https://www.youtube.com/watch?v=uuZE_IRwLNI...\n"
     ]
    },
    {
     "name": "stderr",
     "output_type": "stream",
     "text": [
      "ERROR: [youtube] -_ED5aLbp4I: Sign in to confirm you’re not a bot. Use --cookies-from-browser or --cookies for the authentication. See  https://github.com/yt-dlp/yt-dlp/wiki/FAQ#how-do-i-pass-cookies-to-yt-dlp  for how to manually pass cookies. Also see  https://github.com/yt-dlp/yt-dlp/wiki/Extractors#exporting-youtube-cookies  for tips on effectively exporting YouTube cookies\n",
      "ERROR: [youtube] IthFGX3sKec: Sign in to confirm you’re not a bot. Use --cookies-from-browser or --cookies for the authentication. See  https://github.com/yt-dlp/yt-dlp/wiki/FAQ#how-do-i-pass-cookies-to-yt-dlp  for how to manually pass cookies. Also see  https://github.com/yt-dlp/yt-dlp/wiki/Extractors#exporting-youtube-cookies  for tips on effectively exporting YouTube cookies\n",
      " 95%|█████████▌| 467/491 [1:27:27<00:13,  1.75it/s]"
     ]
    },
    {
     "name": "stdout",
     "output_type": "stream",
     "text": [
      "[Attempt 1] Download error: ERROR: [youtube] -_ED5aLbp4I: Sign in to confirm you’re not a bot. Use --cookies-from-browser or --cookies for the authentication. See  https://github.com/yt-dlp/yt-dlp/wiki/FAQ#how-do-i-pass-cookies-to-yt-dlp  for how to manually pass cookies. Also see  https://github.com/yt-dlp/yt-dlp/wiki/Extractors#exporting-youtube-cookies  for tips on effectively exporting YouTube cookies\n",
      "[Attempt 2] Download error: ERROR: [youtube] IthFGX3sKec: Sign in to confirm you’re not a bot. Use --cookies-from-browser or --cookies for the authentication. See  https://github.com/yt-dlp/yt-dlp/wiki/FAQ#how-do-i-pass-cookies-to-yt-dlp  for how to manually pass cookies. Also see  https://github.com/yt-dlp/yt-dlp/wiki/Extractors#exporting-youtube-cookies  for tips on effectively exporting YouTube cookies\n",
      "Error indexing FutureSex / LoveSound (ID 483): cannot unpack non-iterable NoneType object\n",
      "Downloading audio from https://www.youtube.com/watch?v=I66vmchI_uU...\n"
     ]
    },
    {
     "name": "stderr",
     "output_type": "stream",
     "text": [
      "ERROR: [youtube] FQ3slUz7Jo8: Sign in to confirm you’re not a bot. Use --cookies-from-browser or --cookies for the authentication. See  https://github.com/yt-dlp/yt-dlp/wiki/FAQ#how-do-i-pass-cookies-to-yt-dlp  for how to manually pass cookies. Also see  https://github.com/yt-dlp/yt-dlp/wiki/Extractors#exporting-youtube-cookies  for tips on effectively exporting YouTube cookies\n",
      " 95%|█████████▌| 468/491 [1:27:27<00:11,  2.03it/s]ERROR: [youtube] uuZE_IRwLNI: Sign in to confirm you’re not a bot. Use --cookies-from-browser or --cookies for the authentication. See  https://github.com/yt-dlp/yt-dlp/wiki/FAQ#how-do-i-pass-cookies-to-yt-dlp  for how to manually pass cookies. Also see  https://github.com/yt-dlp/yt-dlp/wiki/Extractors#exporting-youtube-cookies  for tips on effectively exporting YouTube cookies\n"
     ]
    },
    {
     "name": "stdout",
     "output_type": "stream",
     "text": [
      "[Attempt 2] Download error: ERROR: [youtube] FQ3slUz7Jo8: Sign in to confirm you’re not a bot. Use --cookies-from-browser or --cookies for the authentication. See  https://github.com/yt-dlp/yt-dlp/wiki/FAQ#how-do-i-pass-cookies-to-yt-dlp  for how to manually pass cookies. Also see  https://github.com/yt-dlp/yt-dlp/wiki/Extractors#exporting-youtube-cookies  for tips on effectively exporting YouTube cookies\n",
      "Error indexing Like I Love You (ID 484): cannot unpack non-iterable NoneType object\n",
      "Downloading audio from https://www.youtube.com/watch?v=TSVHoHyErBQ...\n",
      "[Attempt 1] Download error: ERROR: [youtube] uuZE_IRwLNI: Sign in to confirm you’re not a bot. Use --cookies-from-browser or --cookies for the authentication. See  https://github.com/yt-dlp/yt-dlp/wiki/FAQ#how-do-i-pass-cookies-to-yt-dlp  for how to manually pass cookies. Also see  https://github.com/yt-dlp/yt-dlp/wiki/Extractors#exporting-youtube-cookies  for tips on effectively exporting YouTube cookies\n"
     ]
    },
    {
     "name": "stderr",
     "output_type": "stream",
     "text": [
      "ERROR: [youtube] -_ED5aLbp4I: Sign in to confirm you’re not a bot. Use --cookies-from-browser or --cookies for the authentication. See  https://github.com/yt-dlp/yt-dlp/wiki/FAQ#how-do-i-pass-cookies-to-yt-dlp  for how to manually pass cookies. Also see  https://github.com/yt-dlp/yt-dlp/wiki/Extractors#exporting-youtube-cookies  for tips on effectively exporting YouTube cookies\n",
      " 96%|█████████▌| 469/491 [1:27:28<00:11,  1.93it/s]ERROR: [youtube] I66vmchI_uU: Sign in to confirm you’re not a bot. Use --cookies-from-browser or --cookies for the authentication. See  https://github.com/yt-dlp/yt-dlp/wiki/FAQ#how-do-i-pass-cookies-to-yt-dlp  for how to manually pass cookies. Also see  https://github.com/yt-dlp/yt-dlp/wiki/Extractors#exporting-youtube-cookies  for tips on effectively exporting YouTube cookies\n"
     ]
    },
    {
     "name": "stdout",
     "output_type": "stream",
     "text": [
      "[Attempt 2] Download error: ERROR: [youtube] -_ED5aLbp4I: Sign in to confirm you’re not a bot. Use --cookies-from-browser or --cookies for the authentication. See  https://github.com/yt-dlp/yt-dlp/wiki/FAQ#how-do-i-pass-cookies-to-yt-dlp  for how to manually pass cookies. Also see  https://github.com/yt-dlp/yt-dlp/wiki/Extractors#exporting-youtube-cookies  for tips on effectively exporting YouTube cookies\n",
      "Error indexing LoveStoned / I Think She Knows - Radio Edit (ID 485): cannot unpack non-iterable NoneType object\n",
      "Downloading audio from https://www.youtube.com/watch?v=nJHYDkvRB2Y...\n",
      "[Attempt 1] Download error: ERROR: [youtube] I66vmchI_uU: Sign in to confirm you’re not a bot. Use --cookies-from-browser or --cookies for the authentication. See  https://github.com/yt-dlp/yt-dlp/wiki/FAQ#how-do-i-pass-cookies-to-yt-dlp  for how to manually pass cookies. Also see  https://github.com/yt-dlp/yt-dlp/wiki/Extractors#exporting-youtube-cookies  for tips on effectively exporting YouTube cookies\n"
     ]
    },
    {
     "name": "stderr",
     "output_type": "stream",
     "text": [
      "ERROR: [youtube] TSVHoHyErBQ: Sign in to confirm you’re not a bot. Use --cookies-from-browser or --cookies for the authentication. See  https://github.com/yt-dlp/yt-dlp/wiki/FAQ#how-do-i-pass-cookies-to-yt-dlp  for how to manually pass cookies. Also see  https://github.com/yt-dlp/yt-dlp/wiki/Extractors#exporting-youtube-cookies  for tips on effectively exporting YouTube cookies\n"
     ]
    },
    {
     "name": "stdout",
     "output_type": "stream",
     "text": [
      "[Attempt 1] Download error: ERROR: [youtube] TSVHoHyErBQ: Sign in to confirm you’re not a bot. Use --cookies-from-browser or --cookies for the authentication. See  https://github.com/yt-dlp/yt-dlp/wiki/FAQ#how-do-i-pass-cookies-to-yt-dlp  for how to manually pass cookies. Also see  https://github.com/yt-dlp/yt-dlp/wiki/Extractors#exporting-youtube-cookies  for tips on effectively exporting YouTube cookies\n"
     ]
    },
    {
     "name": "stderr",
     "output_type": "stream",
     "text": [
      "ERROR: [youtube] uuZE_IRwLNI: Sign in to confirm you’re not a bot. Use --cookies-from-browser or --cookies for the authentication. See  https://github.com/yt-dlp/yt-dlp/wiki/FAQ#how-do-i-pass-cookies-to-yt-dlp  for how to manually pass cookies. Also see  https://github.com/yt-dlp/yt-dlp/wiki/Extractors#exporting-youtube-cookies  for tips on effectively exporting YouTube cookies\n",
      " 96%|█████████▌| 470/491 [1:27:28<00:11,  1.80it/s]"
     ]
    },
    {
     "name": "stdout",
     "output_type": "stream",
     "text": [
      "[Attempt 2] Download error: ERROR: [youtube] uuZE_IRwLNI: Sign in to confirm you’re not a bot. Use --cookies-from-browser or --cookies for the authentication. See  https://github.com/yt-dlp/yt-dlp/wiki/FAQ#how-do-i-pass-cookies-to-yt-dlp  for how to manually pass cookies. Also see  https://github.com/yt-dlp/yt-dlp/wiki/Extractors#exporting-youtube-cookies  for tips on effectively exporting YouTube cookies\n",
      "Error indexing Mirrors (ID 486): cannot unpack non-iterable NoneType object\n",
      "Downloading audio from https://www.youtube.com/watch?v=NxJ7O0CGzO8...\n"
     ]
    },
    {
     "name": "stderr",
     "output_type": "stream",
     "text": [
      "ERROR: [youtube] I66vmchI_uU: Sign in to confirm you’re not a bot. Use --cookies-from-browser or --cookies for the authentication. See  https://github.com/yt-dlp/yt-dlp/wiki/FAQ#how-do-i-pass-cookies-to-yt-dlp  for how to manually pass cookies. Also see  https://github.com/yt-dlp/yt-dlp/wiki/Extractors#exporting-youtube-cookies  for tips on effectively exporting YouTube cookies\n",
      " 96%|█████████▌| 471/491 [1:27:29<00:10,  1.91it/s]ERROR: [youtube] nJHYDkvRB2Y: Sign in to confirm you’re not a bot. Use --cookies-from-browser or --cookies for the authentication. See  https://github.com/yt-dlp/yt-dlp/wiki/FAQ#how-do-i-pass-cookies-to-yt-dlp  for how to manually pass cookies. Also see  https://github.com/yt-dlp/yt-dlp/wiki/Extractors#exporting-youtube-cookies  for tips on effectively exporting YouTube cookies\n"
     ]
    },
    {
     "name": "stdout",
     "output_type": "stream",
     "text": [
      "[Attempt 2] Download error: ERROR: [youtube] I66vmchI_uU: Sign in to confirm you’re not a bot. Use --cookies-from-browser or --cookies for the authentication. See  https://github.com/yt-dlp/yt-dlp/wiki/FAQ#how-do-i-pass-cookies-to-yt-dlp  for how to manually pass cookies. Also see  https://github.com/yt-dlp/yt-dlp/wiki/Extractors#exporting-youtube-cookies  for tips on effectively exporting YouTube cookies\n",
      "Error indexing Mirrors - Radio Edit (ID 487): cannot unpack non-iterable NoneType object\n",
      "Downloading audio from https://www.youtube.com/watch?v=-rjhH3SMQ-0...\n",
      "[Attempt 1] Download error: ERROR: [youtube] nJHYDkvRB2Y: Sign in to confirm you’re not a bot. Use --cookies-from-browser or --cookies for the authentication. See  https://github.com/yt-dlp/yt-dlp/wiki/FAQ#how-do-i-pass-cookies-to-yt-dlp  for how to manually pass cookies. Also see  https://github.com/yt-dlp/yt-dlp/wiki/Extractors#exporting-youtube-cookies  for tips on effectively exporting YouTube cookies\n"
     ]
    },
    {
     "name": "stderr",
     "output_type": "stream",
     "text": [
      "ERROR: [youtube] TSVHoHyErBQ: Sign in to confirm you’re not a bot. Use --cookies-from-browser or --cookies for the authentication. See  https://github.com/yt-dlp/yt-dlp/wiki/FAQ#how-do-i-pass-cookies-to-yt-dlp  for how to manually pass cookies. Also see  https://github.com/yt-dlp/yt-dlp/wiki/Extractors#exporting-youtube-cookies  for tips on effectively exporting YouTube cookies\n",
      " 96%|█████████▌| 472/491 [1:27:29<00:08,  2.11it/s]ERROR: [youtube] NxJ7O0CGzO8: Sign in to confirm you’re not a bot. Use --cookies-from-browser or --cookies for the authentication. See  https://github.com/yt-dlp/yt-dlp/wiki/FAQ#how-do-i-pass-cookies-to-yt-dlp  for how to manually pass cookies. Also see  https://github.com/yt-dlp/yt-dlp/wiki/Extractors#exporting-youtube-cookies  for tips on effectively exporting YouTube cookies\n"
     ]
    },
    {
     "name": "stdout",
     "output_type": "stream",
     "text": [
      "[Attempt 2] Download error: ERROR: [youtube] TSVHoHyErBQ: Sign in to confirm you’re not a bot. Use --cookies-from-browser or --cookies for the authentication. See  https://github.com/yt-dlp/yt-dlp/wiki/FAQ#how-do-i-pass-cookies-to-yt-dlp  for how to manually pass cookies. Also see  https://github.com/yt-dlp/yt-dlp/wiki/Extractors#exporting-youtube-cookies  for tips on effectively exporting YouTube cookies\n",
      "Error indexing Rock Your Body (ID 488): cannot unpack non-iterable NoneType object\n",
      "[Attempt 1] Download error: ERROR: [youtube] NxJ7O0CGzO8: Sign in to confirm you’re not a bot. Use --cookies-from-browser or --cookies for the authentication. See  https://github.com/yt-dlp/yt-dlp/wiki/FAQ#how-do-i-pass-cookies-to-yt-dlp  for how to manually pass cookies. Also see  https://github.com/yt-dlp/yt-dlp/wiki/Extractors#exporting-youtube-cookies  for tips on effectively exporting YouTube cookies\n"
     ]
    },
    {
     "name": "stderr",
     "output_type": "stream",
     "text": [
      "ERROR: [youtube] -rjhH3SMQ-0: Sign in to confirm you’re not a bot. Use --cookies-from-browser or --cookies for the authentication. See  https://github.com/yt-dlp/yt-dlp/wiki/FAQ#how-do-i-pass-cookies-to-yt-dlp  for how to manually pass cookies. Also see  https://github.com/yt-dlp/yt-dlp/wiki/Extractors#exporting-youtube-cookies  for tips on effectively exporting YouTube cookies\n",
      "ERROR: [youtube] nJHYDkvRB2Y: Sign in to confirm you’re not a bot. Use --cookies-from-browser or --cookies for the authentication. See  https://github.com/yt-dlp/yt-dlp/wiki/FAQ#how-do-i-pass-cookies-to-yt-dlp  for how to manually pass cookies. Also see  https://github.com/yt-dlp/yt-dlp/wiki/Extractors#exporting-youtube-cookies  for tips on effectively exporting YouTube cookies\n",
      " 96%|█████████▋| 473/491 [1:27:30<00:10,  1.73it/s]"
     ]
    },
    {
     "name": "stdout",
     "output_type": "stream",
     "text": [
      "[Attempt 1] Download error: ERROR: [youtube] -rjhH3SMQ-0: Sign in to confirm you’re not a bot. Use --cookies-from-browser or --cookies for the authentication. See  https://github.com/yt-dlp/yt-dlp/wiki/FAQ#how-do-i-pass-cookies-to-yt-dlp  for how to manually pass cookies. Also see  https://github.com/yt-dlp/yt-dlp/wiki/Extractors#exporting-youtube-cookies  for tips on effectively exporting YouTube cookies\n",
      "[Attempt 2] Download error: ERROR: [youtube] nJHYDkvRB2Y: Sign in to confirm you’re not a bot. Use --cookies-from-browser or --cookies for the authentication. See  https://github.com/yt-dlp/yt-dlp/wiki/FAQ#how-do-i-pass-cookies-to-yt-dlp  for how to manually pass cookies. Also see  https://github.com/yt-dlp/yt-dlp/wiki/Extractors#exporting-youtube-cookies  for tips on effectively exporting YouTube cookies\n",
      "Error indexing Señorita (ID 489): cannot unpack non-iterable NoneType object\n"
     ]
    },
    {
     "name": "stderr",
     "output_type": "stream",
     "text": [
      "ERROR: [youtube] NxJ7O0CGzO8: Sign in to confirm you’re not a bot. Use --cookies-from-browser or --cookies for the authentication. See  https://github.com/yt-dlp/yt-dlp/wiki/FAQ#how-do-i-pass-cookies-to-yt-dlp  for how to manually pass cookies. Also see  https://github.com/yt-dlp/yt-dlp/wiki/Extractors#exporting-youtube-cookies  for tips on effectively exporting YouTube cookies\n",
      " 97%|█████████▋| 474/491 [1:27:31<00:09,  1.72it/s]"
     ]
    },
    {
     "name": "stdout",
     "output_type": "stream",
     "text": [
      "[Attempt 2] Download error: ERROR: [youtube] NxJ7O0CGzO8: Sign in to confirm you’re not a bot. Use --cookies-from-browser or --cookies for the authentication. See  https://github.com/yt-dlp/yt-dlp/wiki/FAQ#how-do-i-pass-cookies-to-yt-dlp  for how to manually pass cookies. Also see  https://github.com/yt-dlp/yt-dlp/wiki/Extractors#exporting-youtube-cookies  for tips on effectively exporting YouTube cookies\n",
      "Error indexing SoulMate (ID 490): cannot unpack non-iterable NoneType object\n"
     ]
    },
    {
     "name": "stderr",
     "output_type": "stream",
     "text": [
      "ERROR: [youtube] -rjhH3SMQ-0: Sign in to confirm you’re not a bot. Use --cookies-from-browser or --cookies for the authentication. See  https://github.com/yt-dlp/yt-dlp/wiki/FAQ#how-do-i-pass-cookies-to-yt-dlp  for how to manually pass cookies. Also see  https://github.com/yt-dlp/yt-dlp/wiki/Extractors#exporting-youtube-cookies  for tips on effectively exporting YouTube cookies\n",
      " 97%|█████████▋| 475/491 [1:27:31<00:07,  2.02it/s]"
     ]
    },
    {
     "name": "stdout",
     "output_type": "stream",
     "text": [
      "[Attempt 2] Download error: ERROR: [youtube] -rjhH3SMQ-0: Sign in to confirm you’re not a bot. Use --cookies-from-browser or --cookies for the authentication. See  https://github.com/yt-dlp/yt-dlp/wiki/FAQ#how-do-i-pass-cookies-to-yt-dlp  for how to manually pass cookies. Also see  https://github.com/yt-dlp/yt-dlp/wiki/Extractors#exporting-youtube-cookies  for tips on effectively exporting YouTube cookies\n",
      "Error indexing Summer Love (ID 491): cannot unpack non-iterable NoneType object\n"
     ]
    },
    {
     "name": "stderr",
     "output_type": "stream",
     "text": [
      "100%|██████████| 491/491 [1:32:20<00:00, 11.28s/it]\n"
     ]
    },
    {
     "data": {
      "text/plain": [
       "<src.abracadabra.GCPFingerprintDB.GCPFingerprintDB at 0x7bc47971b910>"
      ]
     },
     "execution_count": 1,
     "metadata": {},
     "output_type": "execute_result"
    }
   ],
   "execution_count": 1
  },
  {
   "metadata": {
    "ExecuteTime": {
     "end_time": "2025-06-03T22:50:44.940928Z",
     "start_time": "2025-06-03T21:43:39.922723Z"
    }
   },
   "cell_type": "code",
   "source": [
    "from src.abracadabra.recognize import index_all_songs\n",
    "index_all_songs(db_type=\"gcp\", skip_duplicates=True)"
   ],
   "id": "7977faf723e4f3e4",
   "outputs": [
    {
     "name": "stdout",
     "output_type": "stream",
     "text": [
      "Skipping In Da Club (ID 1) — already indexed.\n",
      "Skipping In Da Club - Single Version / Edit (ID 2) — already indexed.\n",
      "Skipping Just A Lil Bit (ID 3) — already indexed.\n",
      "Skipping P.I.M.P. (ID 4) — already indexed.\n",
      "Skipping Window Shopper (ID 5) — already indexed.\n",
      "Skipping Back In Black (ID 6) — already indexed.\n",
      "Skipping Dirty Deeds Done Dirt Cheap (ID 7) — already indexed.\n",
      "Skipping Heatseeker (ID 8) — already indexed.\n",
      "Skipping High Voltage (ID 9) — already indexed.\n",
      "Skipping Highway to Hell (ID 10) — already indexed.\n",
      "Skipping It's a Long Way to the Top (If You Wanna Rock 'N' Roll) (ID 11) — already indexed.\n",
      "Skipping Jailbreak (ID 12) — already indexed.\n",
      "Skipping Rock and Roll Ain't Noise Pollution (ID 13) — already indexed.\n",
      "Skipping Shoot to Thrill (ID 14) — already indexed.\n",
      "Skipping T.N.T. (ID 15) — already indexed.\n",
      "Skipping Thunderstruck (ID 16) — already indexed.\n",
      "Skipping Who Made Who (ID 17) — already indexed.\n",
      "Skipping You Shook Me All Night Long (ID 18) — already indexed.\n",
      "Skipping Chasing Pavements (ID 19) — already indexed.\n",
      "Skipping Don't You Remember (ID 20) — already indexed.\n",
      "Skipping Easy On Me (ID 21) — already indexed.\n",
      "Skipping He Won't Go (ID 22) — already indexed.\n",
      "Skipping Hello (ID 23) — already indexed.\n",
      "Skipping Love In The Dark (ID 24) — already indexed.\n",
      "Skipping Make You Feel My Love (ID 25) — already indexed.\n",
      "Skipping Million Years Ago (ID 26) — already indexed.\n",
      "Skipping One and Only (ID 27) — already indexed.\n",
      "Skipping Remedy (ID 28) — already indexed.\n",
      "Skipping Rolling in the Deep (ID 29) — already indexed.\n",
      "Skipping Rumour Has It (ID 30) — already indexed.\n",
      "Skipping Send My Love (To Your New Lover) (ID 31) — already indexed.\n",
      "Skipping Set Fire to the Rain (ID 32) — already indexed.\n",
      "Skipping Skyfall (ID 33) — already indexed.\n",
      "Skipping Someone Like You (ID 34) — already indexed.\n",
      "Skipping Sweetest Devotion (ID 35) — already indexed.\n",
      "Skipping Take It All (ID 36) — already indexed.\n",
      "Skipping Turning Tables (ID 37) — already indexed.\n",
      "Skipping Water Under The Bridge (ID 38) — already indexed.\n",
      "Skipping When We Were Young (ID 39) — already indexed.\n",
      "Skipping Alone (ID 40) — already indexed.\n",
      "Skipping Faded (ID 41) — already indexed.\n",
      "Skipping Brand New Me (ID 42) — already indexed.\n",
      "Skipping Doesn't Mean Anything (ID 43) — already indexed.\n",
      "Skipping Empire State of Mind (Part II) Broken Down (ID 44) — already indexed.\n",
      "Skipping Fallin' (ID 45) — already indexed.\n",
      "Skipping Girl On Fire (ID 46) — already indexed.\n",
      "Skipping Hallelujah (ID 47) — already indexed.\n",
      "Skipping Holy War (ID 48) — already indexed.\n",
      "Skipping If I Ain't Got You (ID 49) — already indexed.\n",
      "Skipping More Than We Know (ID 50) — already indexed.\n",
      "Skipping No One (ID 51) — already indexed.\n",
      "Skipping One Thing (ID 52) — already indexed.\n",
      "Skipping Superwoman (ID 53) — already indexed.\n",
      "Skipping Tears Always Win (ID 54) — already indexed.\n",
      "Skipping Work On It (ID 55) — already indexed.\n",
      "Skipping No More \"I Love You's\" (ID 56) — already indexed.\n",
      "Skipping Arabella (ID 57) — already indexed.\n",
      "Skipping Do I Wanna Know? (ID 58) — already indexed.\n",
      "Skipping I Bet You Look Good On The Dancefloor (ID 59) — already indexed.\n",
      "Skipping Why'd You Only Call Me When You're High? (ID 60) — already indexed.\n",
      "Skipping Addicted To You (ID 61) — already indexed.\n",
      "Skipping Broken Arrows (ID 62) — already indexed.\n",
      "Skipping Fade Into Darkness - Vocal Radio Mix (ID 63) — already indexed.\n",
      "Skipping For A Better Day (ID 64) — already indexed.\n",
      "Skipping Heaven (ID 65) — already indexed.\n",
      "Skipping Hey Brother (ID 66) — already indexed.\n",
      "Skipping Levels - Radio Edit (ID 67) — already indexed.\n",
      "Skipping Silhouettes - Original Radio Edit (ID 68) — already indexed.\n",
      "Skipping The Nights (ID 69) — already indexed.\n",
      "Skipping Waiting For Love (ID 70) — already indexed.\n",
      "Skipping Wake Me Up (ID 71) — already indexed.\n",
      "Skipping Wake Me Up - Radio Edit (ID 72) — already indexed.\n",
      "Skipping You Make Me (ID 73) — already indexed.\n",
      "Skipping Butter (ID 74) — already indexed.\n",
      "Skipping Dynamite (ID 75) — already indexed.\n",
      "Skipping BREAK MY SOUL (ID 76) — already indexed.\n",
      "Skipping Best Thing I Never Had (ID 77) — already indexed.\n",
      "Skipping Broken-Hearted Girl (ID 78) — already indexed.\n",
      "Skipping Halo (ID 79) — already indexed.\n",
      "Skipping Hold Up (ID 80) — already indexed.\n",
      "Skipping If I Were a Boy (ID 81) — already indexed.\n",
      "Skipping Irreplaceable (ID 82) — already indexed.\n",
      "Skipping Love On Top (ID 83) — already indexed.\n",
      "Skipping Naughty Girl (ID 84) — already indexed.\n",
      "Skipping Run the World (Girls) (ID 85) — already indexed.\n",
      "Skipping Single Ladies (Put a Ring on It) (ID 86) — already indexed.\n",
      "Skipping Sweet Dreams (ID 87) — already indexed.\n",
      "Skipping XO (ID 88) — already indexed.\n",
      "Skipping Lost Cause (ID 89) — already indexed.\n",
      "Skipping NDA (ID 90) — already indexed.\n",
      "Skipping Therefore I Am (ID 91) — already indexed.\n",
      "Skipping Your Power (ID 92) — already indexed.\n",
      "Skipping all the good girls go to hell (ID 93) — already indexed.\n",
      "Skipping bad guy (ID 94) — already indexed.\n",
      "Skipping bury a friend (ID 95) — already indexed.\n",
      "Skipping everything i wanted (ID 96) — already indexed.\n",
      "Skipping when the party's over (ID 97) — already indexed.\n",
      "Skipping wish you were gay (ID 98) — already indexed.\n",
      "Skipping BIG LOVE (ID 99) — already indexed.\n",
      "Skipping Boom Boom Pow (ID 100) — already indexed.\n",
      "Skipping Don't Lie (ID 101) — already indexed.\n",
      "Skipping Don't Phunk With My Heart (ID 102) — already indexed.\n",
      "Skipping Don’t Stop The Party (ID 103) — already indexed.\n",
      "Skipping Hey Mama (ID 104) — already indexed.\n",
      "Skipping I Gotta Feeling (ID 105) — already indexed.\n",
      "Skipping Imma Be (ID 106) — already indexed.\n",
      "Skipping Just Can’t Get Enough (ID 107) — already indexed.\n",
      "Skipping In My Feelings (ID 258) — already indexed.\n",
      "Skipping Let's Get It Started (ID 108) — already indexed.\n",
      "Skipping Let's Get It Started - Spike Mix (ID 109) — already indexed.\n",
      "Skipping Meet Me Halfway (ID 110) — already indexed.\n",
      "Skipping My Humps (ID 111) — already indexed.\n",
      "Skipping Pump It (ID 112) — already indexed.\n",
      "Skipping Rock That Body (ID 113) — already indexed.\n",
      "Skipping Shut Up (ID 114) — already indexed.\n",
      "Skipping The Time (Dirty Bit) (ID 115) — already indexed.\n",
      "Skipping Where Is The Love? (ID 116) — already indexed.\n",
      "Skipping Blowin' in the Wind (ID 117) — already indexed.\n",
      "Skipping Forever Young - Fast Version (ID 118) — already indexed.\n",
      "Skipping Hurricane (ID 119) — already indexed.\n",
      "Skipping Knockin' On Heaven's Door (ID 120) — already indexed.\n",
      "Skipping Like a Rolling Stone (ID 121) — already indexed.\n",
      "Skipping Mr. Tambourine Man (ID 122) — already indexed.\n",
      "Skipping The Times They Are A-Changin' (ID 123) — already indexed.\n",
      "Skipping Always (ID 124) — already indexed.\n",
      "Skipping Bad Medicine (ID 125) — already indexed.\n",
      "Skipping Bed Of Roses (ID 126) — already indexed.\n",
      "Skipping Have A Nice Day (ID 127) — already indexed.\n",
      "Skipping I'll Be There For You (ID 128) — already indexed.\n",
      "Skipping In These Arms (ID 129) — already indexed.\n",
      "Skipping It's My Life (ID 130) — already indexed.\n",
      "Skipping Keep The Faith (ID 131) — already indexed.\n",
      "Skipping Livin' On A Prayer (ID 132) — already indexed.\n",
      "Skipping Say It Isn't So (ID 133) — already indexed.\n",
      "Skipping Shot Through The Heart (ID 134) — already indexed.\n",
      "Skipping This Ain't A Love Song (ID 135) — already indexed.\n",
      "Skipping Wanted Dead Or Alive (ID 136) — already indexed.\n",
      "Skipping You Give Love A Bad Name (ID 137) — already indexed.\n",
      "Skipping (You Drive Me) Crazy (ID 138) — already indexed.\n",
      "Skipping ...Baby One More Time (ID 139) — already indexed.\n",
      "Skipping 3 (ID 140) — already indexed.\n",
      "Skipping Circus (ID 141) — already indexed.\n",
      "Skipping Circus - Remastered (ID 142) — already indexed.\n",
      "Skipping Do Somethin' (ID 143) — already indexed.\n",
      "Skipping Everytime (ID 144) — already indexed.\n",
      "Skipping From the Bottom of My Broken Heart (ID 145) — already indexed.\n",
      "Skipping Gimme More (ID 146) — already indexed.\n",
      "Skipping Hold It Against Me (ID 147) — already indexed.\n",
      "Skipping I Love Rock 'N' Roll (ID 148) — already indexed.\n",
      "Skipping I'm Not a Girl, Not Yet a Woman (ID 149) — already indexed.\n",
      "Skipping I'm a Slave 4 U (ID 150) — already indexed.\n",
      "Skipping If U Seek Amy (ID 151) — already indexed.\n",
      "Skipping Lucky (ID 152) — already indexed.\n",
      "Skipping My Prerogative - Remastered (ID 153) — already indexed.\n",
      "Skipping Oops!...I Did It Again (ID 154) — already indexed.\n",
      "Skipping Piece of Me (ID 155) — already indexed.\n",
      "Skipping Sometimes (ID 156) — already indexed.\n",
      "Skipping Stronger (ID 157) — already indexed.\n",
      "Skipping Till the World Ends (ID 158) — already indexed.\n",
      "Skipping Toxic (ID 159) — already indexed.\n",
      "Skipping Womanizer (ID 160) — already indexed.\n",
      "Skipping 24K Magic (ID 161) — already indexed.\n",
      "Skipping Chunky (ID 162) — already indexed.\n",
      "Skipping Count on Me (ID 163) — already indexed.\n",
      "Skipping Grenade (ID 164) — already indexed.\n",
      "Skipping Grenade - Acoustic (ID 165) — already indexed.\n",
      "Skipping If I Knew (ID 166) — already indexed.\n",
      "Skipping It Will Rain (ID 167) — already indexed.\n",
      "Skipping Just the Way You Are (ID 168) — already indexed.\n",
      "Skipping Locked out of Heaven (ID 169) — already indexed.\n",
      "Skipping Marry You (ID 170) — already indexed.\n",
      "Skipping Talking to the Moon (ID 171) — already indexed.\n",
      "Skipping That's What I Like (ID 172) — already indexed.\n",
      "Skipping The Lazy Song (ID 173) — already indexed.\n",
      "Skipping Treasure (ID 174) — already indexed.\n",
      "Skipping Versace on the Floor (ID 175) — already indexed.\n",
      "Skipping When I Was Your Man (ID 176) — already indexed.\n",
      "Skipping (Everything I Do) I Do It For You (ID 177) — already indexed.\n",
      "Skipping Can't Stop This Thing We Started (ID 178) — already indexed.\n",
      "Skipping Have You Ever Really Loved A Woman? (ID 179) — already indexed.\n",
      "Skipping Heaven (ID 180) — already indexed.\n",
      "Skipping Let's Make A Night To Remember (ID 181) — already indexed.\n",
      "Skipping Please Forgive Me (ID 182) — already indexed.\n",
      "Skipping Run To You (ID 183) — already indexed.\n",
      "Skipping Summer Of '69 (ID 184) — already indexed.\n",
      "Skipping The Only Thing That Looks Good On Me Is You (ID 185) — already indexed.\n",
      "Skipping Thought I'd Died And Gone To Heaven (ID 186) — already indexed.\n",
      "Skipping Acceptable in the 80's (ID 187) — already indexed.\n",
      "Skipping Feel So Close - Radio Edit (ID 188) — already indexed.\n",
      "Skipping Flashback (ID 189) — already indexed.\n",
      "Skipping I'm Not Alone - Radio Edit (ID 190) — already indexed.\n",
      "Skipping My Way (ID 191) — already indexed.\n",
      "Skipping Ready for the Weekend (ID 192) — already indexed.\n",
      "Skipping Summer (ID 193) — already indexed.\n",
      "Skipping The Girls - Radio Edit (ID 194) — already indexed.\n",
      "Skipping You Used to Hold Me (ID 195) — already indexed.\n",
      "Skipping Don't Go Yet (ID 196) — already indexed.\n",
      "Skipping Never Be the Same (ID 197) — already indexed.\n",
      "Skipping Shameless (ID 198) — already indexed.\n",
      "Skipping Up (ID 199) — already indexed.\n",
      "Skipping Ain't No Other Man (ID 200) — already indexed.\n",
      "Skipping Beautiful (ID 201) — already indexed.\n",
      "Skipping Candyman (ID 202) — already indexed.\n",
      "Skipping Come on over Baby (All I Want Is You) - Radio Version (ID 203) — already indexed.\n",
      "Skipping Fighter (ID 204) — already indexed.\n",
      "Downloading audio from https://www.youtube.com/watch?v=kIDWgqDBNXA...\n",
      "Skipping Genie in a Bottle (ID 206) — already indexed.\n",
      "Skipping Hurt (ID 207) — already indexed.\n",
      "Skipping Impossible (ID 208) — already indexed.\n",
      "Skipping Keeps Gettin' Better (ID 209) — already indexed.\n",
      "Skipping What a Girl Wants (ID 210) — already indexed.\n",
      "Skipping A Sky Full of Stars (ID 211) — already indexed.\n",
      "Skipping Adventure of a Lifetime (ID 212) — already indexed.\n",
      "Skipping Charlie Brown (ID 213) — already indexed.\n",
      "Skipping Clocks (ID 214) — already indexed.\n",
      "Skipping Every Teardrop Is a Waterfall (ID 215) — already indexed.\n",
      "Skipping Fix You (ID 216) — already indexed.\n",
      "Skipping God Put a Smile upon Your Face (ID 217) — already indexed.\n",
      "Skipping Higher Power (ID 218) — already indexed.\n",
      "Skipping Hymn for the Weekend (ID 219) — already indexed.\n",
      "Skipping In My Place (ID 220) — already indexed.\n",
      "Skipping Life in Technicolor ii (ID 221) — already indexed.\n",
      "Skipping Lost! (ID 222) — already indexed.\n",
      "Skipping Lovers in Japan (ID 223) — already indexed.\n",
      "Skipping Magic (ID 224) — already indexed.\n",
      "Skipping Paradise (ID 225) — already indexed.\n",
      "Skipping Speed of Sound (ID 226) — already indexed.\n",
      "Skipping The Scientist (ID 227) — already indexed.\n",
      "Skipping Violet Hill (ID 228) — already indexed.\n",
      "Skipping Viva La Vida (ID 229) — already indexed.\n",
      "Skipping Yellow (ID 230) — already indexed.\n",
      "Skipping Gasolina (ID 231) — already indexed.\n",
      "Skipping Around the World (ID 232) — already indexed.\n",
      "Skipping Around the World - Radio Edit [Radio Edit] (ID 233) — already indexed.\n",
      "Skipping Da Funk - Radio Edit (ID 234) — already indexed.\n",
      "Skipping One More Time (ID 235) — already indexed.\n",
      "Skipping One More Time - Radio Edit [Short Radio Edit] (ID 236) — already indexed.\n",
      "Skipping Absolute Beginners - 2002 Remaster (ID 237) — already indexed.\n",
      "Skipping Ashes to Ashes - 2017 Remaster (ID 238) — already indexed.\n",
      "Skipping Cat People (Putting Out Fire) - 2018 Remaster (ID 239) — already indexed.\n",
      "Skipping Heroes - 2017 Remaster (ID 240) — already indexed.\n",
      "Skipping Let's Dance - Single Version, 2014 Remaster (ID 241) — already indexed.\n",
      "Skipping Modern Love - 1999 Remaster (ID 242) — already indexed.\n",
      "Skipping Rebel Rebel - 2016 Remaster (ID 243) — already indexed.\n",
      "Skipping Sorrow - 2015 Remaster (ID 244) — already indexed.\n",
      "Skipping Space Oddity - 2009 Remastered Version (ID 245) — already indexed.\n",
      "Skipping Space Oddity - 2015 Remaster (ID 246) — already indexed.\n",
      "Skipping Bang My Head (feat. Sia & Fetty Wap) (ID 247) — already indexed.\n",
      "Skipping Shot Me Down (feat. Skylar Grey) - Radio Edit (ID 248) — already indexed.\n",
      "Skipping This One's for You (feat. Zara Larsson) (Official Song UEFA EURO 2016) (ID 249) — already indexed.\n",
      "Skipping What I Did for Love (feat. Emeli Sandé) (ID 250) — already indexed.\n",
      "Skipping Where Them Girls At (feat. Nicki Minaj & Flo Rida) (ID 251) — already indexed.\n",
      "Skipping Boss Bitch (ID 252) — already indexed.\n",
      "Skipping Say So (ID 253) — already indexed.\n",
      "Skipping Streets (ID 254) — already indexed.\n",
      "Skipping Controlla (ID 255) — already indexed.\n",
      "Downloading audio from https://www.youtube.com/watch?v=xpVfcZ0ZcFM...\n",
      "Skipping Hotline Bling (ID 257) — already indexed.\n",
      "Skipping Toosie Slide (ID 259) — already indexed.\n",
      "Skipping Be the One (ID 260) — already indexed.\n",
      "Skipping Blow Your Mind (Mwah) (ID 261) — already indexed.\n",
      "Skipping Break My Heart (ID 262) — already indexed.\n",
      "Skipping Dance The Night (From Barbie The Album) (ID 263) — already indexed.\n",
      "Skipping Don't Start Now (ID 264) — already indexed.\n",
      "Skipping Hallucinate (ID 265) — already indexed.\n",
      "Skipping Hotter Than Hell (ID 266) — already indexed.\n",
      "Skipping IDGAF (ID 267) — already indexed.\n",
      "Skipping Levitating (ID 268) — already indexed.\n",
      "Skipping Love Again (ID 269) — already indexed.\n",
      "Skipping New Rules (ID 270) — already indexed.\n",
      "Skipping Physical (ID 271) — already indexed.\n",
      "Skipping Swan Song - From the Motion Picture \"Alita: Battle Angel\" (ID 272) — already indexed.\n",
      "Skipping We're Good (ID 273) — already indexed.\n",
      "Skipping Afire Love (ID 274) — already indexed.\n",
      "Skipping Afterglow (ID 275) — already indexed.\n",
      "Skipping All of the Stars (ID 276) — already indexed.\n",
      "Skipping Bad Habits (ID 277) — already indexed.\n",
      "Skipping Bloodstream (ID 278) — already indexed.\n",
      "Skipping Castle on the Hill (ID 279) — already indexed.\n",
      "Skipping Celestial (ID 280) — already indexed.\n",
      "Skipping Dive (ID 281) — already indexed.\n",
      "Skipping Don't (ID 282) — already indexed.\n",
      "Skipping Drunk (ID 283) — already indexed.\n",
      "Skipping Eyes Closed (ID 284) — already indexed.\n",
      "Skipping Firefly (ID 285) — already indexed.\n",
      "Skipping Galway Girl (ID 286) — already indexed.\n",
      "Skipping Happier (ID 287) — already indexed.\n",
      "Skipping How Would You Feel (Paean) (ID 288) — already indexed.\n",
      "Skipping I See Fire - From \"The Hobbit - The Desolation Of Smaug\" (ID 289) — already indexed.\n",
      "Skipping Kiss Me (ID 290) — already indexed.\n",
      "Skipping Lego House (ID 291) — already indexed.\n",
      "Skipping New York (ID 292) — already indexed.\n",
      "Skipping One (ID 293) — already indexed.\n",
      "Skipping Overpass Graffiti (ID 294) — already indexed.\n",
      "Skipping Perfect (ID 295) — already indexed.\n",
      "Skipping Photograph (ID 296) — already indexed.\n",
      "Skipping Runaway (ID 297) — already indexed.\n",
      "Skipping Shape of You (ID 298) — already indexed.\n",
      "Skipping She (ID 299) — already indexed.\n",
      "Skipping Shivers (ID 300) — already indexed.\n",
      "Skipping Sing (ID 301) — already indexed.\n",
      "Skipping Small Bump (ID 302) — already indexed.\n",
      "Skipping Tenerife Sea (ID 303) — already indexed.\n",
      "Skipping The A Team (ID 304) — already indexed.\n",
      "Skipping Thinking out Loud (ID 305) — already indexed.\n",
      "Skipping Visiting Hours (ID 306) — already indexed.\n",
      "Skipping What Do I Know? (ID 307) — already indexed.\n",
      "Skipping Blue Eyes - Remastered 2003 (ID 308) — already indexed.\n",
      "Skipping Can You Feel The Love Tonight (ID 309) — already indexed.\n",
      "Skipping Can You Feel the Love Tonight - End Title/ From \"The Lion King\"/Soundtrack Version (ID 310) — already indexed.\n",
      "Skipping Candle In The Wind (ID 311) — already indexed.\n",
      "Skipping Candle In The Wind 1997 (ID 312) — already indexed.\n",
      "Skipping Crocodile Rock (ID 313) — already indexed.\n",
      "Skipping Daniel (ID 314) — already indexed.\n",
      "Skipping Goodbye Yellow Brick Road - Remastered 2014 (ID 315) — already indexed.\n",
      "Skipping Healing Hands (ID 316) — already indexed.\n",
      "Skipping Heartache All Over The World (ID 317) — already indexed.\n",
      "Downloading audio from https://www.youtube.com/watch?v=kaJRvZZBnX8...\n",
      "Downloading audio from https://www.youtube.com/watch?v=h6KYAVn8ons...\n",
      "Skipping I'm Still Standing (ID 320) — already indexed.\n",
      "Skipping Kiss The Bride (ID 321) — already indexed.\n",
      "Skipping Little Jeannie (ID 322) — already indexed.\n",
      "Skipping Lucy In The Sky With Diamonds (ID 323) — already indexed.\n",
      "Skipping Nikita (ID 324) — already indexed.\n",
      "Skipping Part Time Love (ID 325) — already indexed.\n",
      "Skipping Passengers (ID 326) — already indexed.\n",
      "Skipping Philadelphia Freedom (ID 327) — already indexed.\n",
      "Skipping Rocket Man (I Think It's Going To Be A Long, Long Time) (ID 328) — already indexed.\n",
      "Skipping Sacrifice (ID 329) — already indexed.\n",
      "Skipping Sad Songs (Say So Much) (ID 330) — already indexed.\n",
      "Skipping Something About The Way You Look Tonight - Edit Version (ID 331) — already indexed.\n",
      "Skipping Song For Guy (ID 332) — already indexed.\n",
      "Skipping Tiny Dancer (ID 333) — already indexed.\n",
      "Skipping Your Song (ID 334) — already indexed.\n",
      "Skipping Ass Like That (ID 335) — already indexed.\n",
      "Skipping Berzerk (ID 336) — already indexed.\n",
      "Skipping Business (ID 337) — already indexed.\n",
      "Skipping Cleanin' Out My Closet (ID 338) — already indexed.\n",
      "Skipping Just Lose It (ID 339) — already indexed.\n",
      "Skipping Like Toy Soldiers (ID 340) — already indexed.\n",
      "Skipping Lose Yourself (ID 341) — already indexed.\n",
      "Skipping Lose Yourself - From \"8 Mile\" Soundtrack (ID 342) — already indexed.\n",
      "Skipping Mockingbird (ID 343) — already indexed.\n",
      "Skipping My Name Is (ID 344) — already indexed.\n",
      "Skipping Not Afraid (ID 345) — already indexed.\n",
      "Downloading audio from https://www.youtube.com/watch?v=D4hAVemuQXY...\n",
      "Skipping The Real Slim Shady (ID 347) — already indexed.\n",
      "Skipping We Made You (ID 348) — already indexed.\n",
      "Skipping When I'm Gone (ID 349) — already indexed.\n",
      "Skipping Without Me (ID 350) — already indexed.\n",
      "Skipping Bailamos (ID 351) — already indexed.\n",
      "Skipping Don't Turn Off The Lights (ID 352) — already indexed.\n",
      "Downloading audio from https://www.youtube.com/watch?v=9mQJaXwGPlg...\n",
      "Skipping Hero (ID 354) — already indexed.\n",
      "Skipping Change the World - 2015 Remaster (ID 355) — already indexed.\n",
      "Skipping Cocaine (ID 356) — already indexed.\n",
      "Skipping I Shot The Sheriff (ID 357) — already indexed.\n",
      "Skipping Layla - Acoustic; Live at MTV Unplugged, Bray Film Studios, Windsor, England, UK, 1/16/1992; 2013 Remaster (ID 358) — already indexed.\n",
      "Skipping Tears In Heaven (ID 359) — already indexed.\n",
      "Skipping Bring Me To Life (ID 360) — already indexed.\n",
      "Skipping Call Me When You're Sober (ID 361) — already indexed.\n",
      "Skipping Everybody's Fool (ID 362) — already indexed.\n",
      "Skipping Going Under (ID 363) — already indexed.\n",
      "Skipping Lithium (ID 364) — already indexed.\n",
      "Skipping My Immortal (ID 365) — already indexed.\n",
      "Skipping \"The Take Over, The Breaks Over\" (ID 366) — already indexed.\n",
      "Downloading audio from https://www.youtube.com/watch?v=LBr7kECsjcQ...\n",
      "Skipping I Don't Care (ID 368) — already indexed.\n",
      "Skipping She's My Winona (ID 369) — already indexed.\n",
      "Skipping Sugar, We're Goin Down (ID 370) — already indexed.\n",
      "Skipping This Ain't A Scene, It's An Arms Race (ID 371) — already indexed.\n",
      "Skipping Thnks fr th Mmrs (ID 372) — already indexed.\n",
      "Skipping Albatross (ID 373) — already indexed.\n",
      "Skipping Don't Stop - 2004 Remaster (ID 374) — already indexed.\n",
      "Skipping Dreams - 2004 Remaster (ID 375) — already indexed.\n",
      "Skipping Go Your Own Way (ID 376) — already indexed.\n",
      "Skipping Go Your Own Way - 2004 Remaster (ID 377) — already indexed.\n",
      "Skipping Hold Me (ID 378) — already indexed.\n",
      "Skipping Little Lies (ID 379) — already indexed.\n",
      "Skipping Rhiannon (ID 380) — already indexed.\n",
      "Skipping Sara (ID 381) — already indexed.\n",
      "Skipping Seven Wonders - 2017 Remaster (ID 382) — already indexed.\n",
      "Skipping The Chain - 2004 Remaster (ID 383) — already indexed.\n",
      "Skipping Tusk - 2015 Remaster (ID 384) — already indexed.\n",
      "Skipping Best Of You (ID 385) — already indexed.\n",
      "Skipping Best of You (ID 386) — already indexed.\n",
      "Skipping Big Me (ID 387) — already indexed.\n",
      "Skipping Everlong (ID 388) — already indexed.\n",
      "Skipping Generator (ID 389) — already indexed.\n",
      "Skipping Learn to Fly (ID 390) — already indexed.\n",
      "Skipping Long Road To Ruin (ID 391) — already indexed.\n",
      "Skipping Monkey Wrench (ID 392) — already indexed.\n",
      "Skipping My Hero (ID 393) — already indexed.\n",
      "Skipping Rope (ID 394) — already indexed.\n",
      "Downloading audio from https://www.youtube.com/watch?v=SBjQ9tuuTJQ...\n",
      "Skipping These Days (ID 396) — already indexed.\n",
      "Skipping This Is a Call (ID 397) — already indexed.\n",
      "Skipping Times Like These (ID 398) — already indexed.\n",
      "Skipping Walk (ID 399) — already indexed.\n",
      "Skipping Wheels (ID 400) — already indexed.\n",
      "Skipping A Different Corner (ID 401) — already indexed.\n",
      "Downloading audio from https://www.youtube.com/watch?v=6YziZ1FlAWs...\n",
      "Downloading audio from https://www.youtube.com/watch?v=izGwDsrQ1eQ...\n",
      "Downloading audio from https://www.youtube.com/watch?v=fyMbjVhCzw4...\n",
      "Downloading audio from https://www.youtube.com/watch?v=N61LHFFfiik...\n",
      "Skipping Fastlove, Pt. 1 (ID 406) — already indexed.\n",
      "Skipping Father Figure - Remastered (ID 407) — already indexed.\n",
      "Downloading audio from https://www.youtube.com/watch?v=diYAc7gB-0A...\n",
      "Downloading audio from https://www.youtube.com/watch?v=r3AP26ywQsQ...\n",
      "Downloading audio from https://www.youtube.com/watch?v=zNBj4EV_hAo...\n",
      "Downloading audio from https://www.youtube.com/watch?v=omsBhh8vA7c...\n",
      "Downloading audio from https://www.youtube.com/watch?v=CU7xwtIdyoI...\n",
      "Downloading audio from https://www.youtube.com/watch?v=1bPxYmsv-Mc...\n",
      "Downloading audio from https://www.youtube.com/watch?v=6r5Dhqaay4E...\n",
      "Downloading audio from https://www.youtube.com/watch?v=gwZAYdHcDtU...\n"
     ]
    },
    {
     "name": "stderr",
     "output_type": "stream",
     "text": [
      " 81%|████████  | 396/491 [03:57<00:56,  1.67it/s]"
     ]
    },
    {
     "name": "stdout",
     "output_type": "stream",
     "text": [
      "Downloading audio from https://www.youtube.com/watch?v=eT5_neXR3FI...\n"
     ]
    },
    {
     "name": "stderr",
     "output_type": "stream",
     "text": [
      " 81%|████████  | 397/491 [04:04<00:58,  1.60it/s]"
     ]
    },
    {
     "name": "stdout",
     "output_type": "stream",
     "text": [
      "Downloading audio from https://www.youtube.com/watch?v=Na3bPzrZS-o...\n"
     ]
    },
    {
     "name": "stderr",
     "output_type": "stream",
     "text": [
      " 81%|████████  | 398/491 [04:09<00:59,  1.55it/s]"
     ]
    },
    {
     "name": "stdout",
     "output_type": "stream",
     "text": [
      "Downloading audio from https://www.youtube.com/watch?v=AiXYgOmi2kI...\n"
     ]
    },
    {
     "name": "stderr",
     "output_type": "stream",
     "text": [
      " 81%|████████▏ | 399/491 [04:27<01:10,  1.30it/s]"
     ]
    },
    {
     "name": "stdout",
     "output_type": "stream",
     "text": [
      "Downloading audio from https://www.youtube.com/watch?v=JAwk7yBQxDs...\n"
     ]
    },
    {
     "name": "stderr",
     "output_type": "stream",
     "text": [
      " 81%|████████▏ | 400/491 [05:08<01:47,  1.19s/it]"
     ]
    },
    {
     "name": "stdout",
     "output_type": "stream",
     "text": [
      "Downloading audio from https://www.youtube.com/watch?v=WXR-bCF5dbM...\n"
     ]
    },
    {
     "name": "stderr",
     "output_type": "stream",
     "text": [
      " 82%|████████▏ | 401/491 [05:17<01:56,  1.29s/it]"
     ]
    },
    {
     "name": "stdout",
     "output_type": "stream",
     "text": [
      "Downloading audio from https://www.youtube.com/watch?v=1V_xRb0x9aw...\n"
     ]
    },
    {
     "name": "stderr",
     "output_type": "stream",
     "text": [
      " 82%|████████▏ | 402/491 [05:23<02:04,  1.40s/it]"
     ]
    },
    {
     "name": "stdout",
     "output_type": "stream",
     "text": [
      "Downloading audio from https://www.youtube.com/watch?v=uAOR6ib95kQ...\n"
     ]
    },
    {
     "name": "stderr",
     "output_type": "stream",
     "text": [
      " 82%|████████▏ | 403/491 [05:30<02:15,  1.54s/it]"
     ]
    },
    {
     "name": "stdout",
     "output_type": "stream",
     "text": [
      "Downloading audio from https://www.youtube.com/watch?v=HyHNuVaZJ-k...\n"
     ]
    },
    {
     "name": "stderr",
     "output_type": "stream",
     "text": [
      " 82%|████████▏ | 404/491 [06:06<04:09,  2.87s/it]"
     ]
    },
    {
     "name": "stdout",
     "output_type": "stream",
     "text": [
      "Downloading audio from https://www.youtube.com/watch?v=r00ikilDxW4...\n"
     ]
    },
    {
     "name": "stderr",
     "output_type": "stream",
     "text": [
      " 82%|████████▏ | 405/491 [06:28<05:33,  3.88s/it]"
     ]
    },
    {
     "name": "stdout",
     "output_type": "stream",
     "text": [
      "Downloading audio from https://www.youtube.com/watch?v=tVJ5VvLAkw0...\n"
     ]
    },
    {
     "name": "stderr",
     "output_type": "stream",
     "text": [
      " 83%|████████▎ | 406/491 [06:29<05:12,  3.68s/it]"
     ]
    },
    {
     "name": "stdout",
     "output_type": "stream",
     "text": [
      "Downloading audio from https://www.youtube.com/watch?v=Ee_uujKuJMI...\n"
     ]
    },
    {
     "name": "stderr",
     "output_type": "stream",
     "text": [
      " 83%|████████▎ | 407/491 [06:33<05:09,  3.68s/it]"
     ]
    },
    {
     "name": "stdout",
     "output_type": "stream",
     "text": [
      "Downloading audio from https://www.youtube.com/watch?v=NUTGr5t3MoY...\n"
     ]
    },
    {
     "name": "stderr",
     "output_type": "stream",
     "text": [
      " 83%|████████▎ | 408/491 [06:35<04:51,  3.51s/it]"
     ]
    },
    {
     "name": "stdout",
     "output_type": "stream",
     "text": [
      "Downloading audio from https://www.youtube.com/watch?v=Soa3gO7tL-c...\n"
     ]
    },
    {
     "name": "stderr",
     "output_type": "stream",
     "text": [
      " 83%|████████▎ | 409/491 [06:38<04:44,  3.46s/it]"
     ]
    },
    {
     "name": "stdout",
     "output_type": "stream",
     "text": [
      "Downloading audio from https://www.youtube.com/watch?v=UNq9gmY_Oz4...\n"
     ]
    },
    {
     "name": "stderr",
     "output_type": "stream",
     "text": [
      " 84%|████████▎ | 410/491 [06:38<03:58,  2.95s/it]"
     ]
    },
    {
     "name": "stdout",
     "output_type": "stream",
     "text": [
      "Downloading audio from https://www.youtube.com/watch?v=CnQ8N1KacJc...\n"
     ]
    },
    {
     "name": "stderr",
     "output_type": "stream",
     "text": [
      " 84%|████████▎ | 411/491 [07:21<14:10, 10.64s/it]"
     ]
    },
    {
     "name": "stdout",
     "output_type": "stream",
     "text": [
      "Downloading audio from https://www.youtube.com/watch?v=4Sc81yxo600...\n"
     ]
    },
    {
     "name": "stderr",
     "output_type": "stream",
     "text": [
      " 84%|████████▍ | 412/491 [07:26<12:24,  9.42s/it]"
     ]
    },
    {
     "name": "stdout",
     "output_type": "stream",
     "text": [
      "Downloading audio from https://www.youtube.com/watch?v=Ajxn0PKbv7I...\n"
     ]
    },
    {
     "name": "stderr",
     "output_type": "stream",
     "text": [
      " 84%|████████▍ | 413/491 [10:57<1:13:44, 56.72s/it]"
     ]
    },
    {
     "name": "stdout",
     "output_type": "stream",
     "text": [
      "Downloading audio from https://www.youtube.com/watch?v=9IclmVdWNbI...\n"
     ]
    },
    {
     "name": "stderr",
     "output_type": "stream",
     "text": [
      " 84%|████████▍ | 414/491 [11:39<1:08:11, 53.14s/it]"
     ]
    },
    {
     "name": "stdout",
     "output_type": "stream",
     "text": [
      "Downloading audio from https://www.youtube.com/watch?v=42BBdzzgPNM...\n"
     ]
    },
    {
     "name": "stderr",
     "output_type": "stream",
     "text": [
      " 85%|████████▍ | 415/491 [12:41<1:10:05, 55.33s/it]"
     ]
    },
    {
     "name": "stdout",
     "output_type": "stream",
     "text": [
      "Downloading audio from https://www.youtube.com/watch?v=cDBlqu6KF4k...\n"
     ]
    },
    {
     "name": "stderr",
     "output_type": "stream",
     "text": [
      " 85%|████████▍ | 416/491 [12:59<56:22, 45.10s/it]  "
     ]
    },
    {
     "name": "stdout",
     "output_type": "stream",
     "text": [
      "Downloading audio from https://www.youtube.com/watch?v=5Rs2m3lhg-k...\n"
     ]
    },
    {
     "name": "stderr",
     "output_type": "stream",
     "text": [
      " 85%|████████▍ | 417/491 [13:28<50:18, 40.79s/it]"
     ]
    },
    {
     "name": "stdout",
     "output_type": "stream",
     "text": [
      "Downloading audio from https://www.youtube.com/watch?v=NU9JoFKlaZ0...\n"
     ]
    },
    {
     "name": "stderr",
     "output_type": "stream",
     "text": [
      " 85%|████████▌ | 418/491 [16:30<1:38:36, 81.05s/it]"
     ]
    },
    {
     "name": "stdout",
     "output_type": "stream",
     "text": [
      "Downloading audio from https://www.youtube.com/watch?v=eebfMFzJHNs...\n"
     ]
    },
    {
     "name": "stderr",
     "output_type": "stream",
     "text": [
      " 85%|████████▌ | 419/491 [16:49<1:15:50, 63.21s/it]"
     ]
    },
    {
     "name": "stdout",
     "output_type": "stream",
     "text": [
      "Downloading audio from https://www.youtube.com/watch?v=1o-wiosXJB8...\n"
     ]
    },
    {
     "name": "stderr",
     "output_type": "stream",
     "text": [
      " 86%|████████▌ | 420/491 [17:25<1:05:24, 55.28s/it]"
     ]
    },
    {
     "name": "stdout",
     "output_type": "stream",
     "text": [
      "Downloading audio from https://www.youtube.com/watch?v=i8dh9gDzmz8...\n"
     ]
    },
    {
     "name": "stderr",
     "output_type": "stream",
     "text": [
      " 86%|████████▌ | 421/491 [17:56<55:53, 47.91s/it]  "
     ]
    },
    {
     "name": "stdout",
     "output_type": "stream",
     "text": [
      "Downloading audio from https://www.youtube.com/watch?v=xdYFuCp3m9k...\n"
     ]
    },
    {
     "name": "stderr",
     "output_type": "stream",
     "text": [
      " 86%|████████▌ | 422/491 [18:00<40:20, 35.08s/it]"
     ]
    },
    {
     "name": "stdout",
     "output_type": "stream",
     "text": [
      "Downloading audio from https://www.youtube.com/watch?v=rPgaYeq9NvI...\n"
     ]
    },
    {
     "name": "stderr",
     "output_type": "stream",
     "text": [
      " 86%|████████▌ | 423/491 [20:59<1:28:16, 77.89s/it]"
     ]
    },
    {
     "name": "stdout",
     "output_type": "stream",
     "text": [
      "Downloading audio from https://www.youtube.com/watch?v=b-eYbUVZedY...\n"
     ]
    },
    {
     "name": "stderr",
     "output_type": "stream",
     "text": [
      " 86%|████████▋ | 424/491 [22:41<1:34:46, 84.87s/it]"
     ]
    },
    {
     "name": "stdout",
     "output_type": "stream",
     "text": [
      "Downloading audio from https://www.youtube.com/watch?v=Q9jNSwmEQ3s...\n"
     ]
    },
    {
     "name": "stderr",
     "output_type": "stream",
     "text": [
      " 87%|████████▋ | 425/491 [25:00<1:51:18, 101.19s/it]"
     ]
    },
    {
     "name": "stdout",
     "output_type": "stream",
     "text": [
      "Downloading audio from https://www.youtube.com/watch?v=ZAfAud_M_mg...\n"
     ]
    },
    {
     "name": "stderr",
     "output_type": "stream",
     "text": [
      " 87%|████████▋ | 426/491 [25:10<1:19:59, 73.83s/it] "
     ]
    },
    {
     "name": "stdout",
     "output_type": "stream",
     "text": [
      "Downloading audio from https://www.youtube.com/watch?v=8nBFqZppIF0...\n"
     ]
    },
    {
     "name": "stderr",
     "output_type": "stream",
     "text": [
      " 87%|████████▋ | 427/491 [25:57<1:10:06, 65.73s/it]"
     ]
    },
    {
     "name": "stdout",
     "output_type": "stream",
     "text": [
      "Downloading audio from https://www.youtube.com/watch?v=VF-r5TtlT9w...\n"
     ]
    },
    {
     "name": "stderr",
     "output_type": "stream",
     "text": [
      " 87%|████████▋ | 428/491 [26:04<50:43, 48.30s/it]  "
     ]
    },
    {
     "name": "stdout",
     "output_type": "stream",
     "text": [
      "Downloading audio from https://www.youtube.com/watch?v=H5v3kku4y6Q...\n"
     ]
    },
    {
     "name": "stderr",
     "output_type": "stream",
     "text": [
      " 87%|████████▋ | 429/491 [26:46<48:01, 46.47s/it]"
     ]
    },
    {
     "name": "stdout",
     "output_type": "stream",
     "text": [
      "Downloading audio from https://www.youtube.com/watch?v=olGSAVOkkTI...\n"
     ]
    },
    {
     "name": "stderr",
     "output_type": "stream",
     "text": [
      " 88%|████████▊ | 430/491 [27:35<47:50, 47.06s/it]"
     ]
    },
    {
     "name": "stdout",
     "output_type": "stream",
     "text": [
      "Downloading audio from https://www.youtube.com/watch?v=P3cffdsEXXw...\n"
     ]
    },
    {
     "name": "stderr",
     "output_type": "stream",
     "text": [
      " 88%|████████▊ | 431/491 [28:00<40:26, 40.44s/it]"
     ]
    },
    {
     "name": "stdout",
     "output_type": "stream",
     "text": [
      "Downloading audio from https://www.youtube.com/watch?v=9wg3v-01yKQ...\n"
     ]
    },
    {
     "name": "stderr",
     "output_type": "stream",
     "text": [
      " 88%|████████▊ | 432/491 [30:17<1:08:18, 69.46s/it]"
     ]
    },
    {
     "name": "stdout",
     "output_type": "stream",
     "text": [
      "Downloading audio from https://www.youtube.com/watch?v=qN4ooNx77u0...\n"
     ]
    },
    {
     "name": "stderr",
     "output_type": "stream",
     "text": [
      " 88%|████████▊ | 433/491 [30:55<58:08, 60.15s/it]  "
     ]
    },
    {
     "name": "stdout",
     "output_type": "stream",
     "text": [
      "Downloading audio from https://www.youtube.com/watch?v=L0X03zR0rQk...\n"
     ]
    },
    {
     "name": "stderr",
     "output_type": "stream",
     "text": [
      " 88%|████████▊ | 434/491 [31:01<41:41, 43.89s/it]"
     ]
    },
    {
     "name": "stdout",
     "output_type": "stream",
     "text": [
      "Downloading audio from https://www.youtube.com/watch?v=E07s5ZYygMg...\n"
     ]
    },
    {
     "name": "stderr",
     "output_type": "stream",
     "text": [
      " 89%|████████▊ | 435/491 [31:35<37:58, 40.69s/it]"
     ]
    },
    {
     "name": "stdout",
     "output_type": "stream",
     "text": [
      "Downloading audio from https://www.youtube.com/watch?v=I-QfPUz1es8...\n"
     ]
    },
    {
     "name": "stderr",
     "output_type": "stream",
     "text": [
      " 89%|████████▉ | 436/491 [32:22<39:06, 42.66s/it]"
     ]
    },
    {
     "name": "stdout",
     "output_type": "stream",
     "text": [
      "Downloading audio from https://www.youtube.com/watch?v=7wtfhZwyrcc...\n"
     ]
    },
    {
     "name": "stderr",
     "output_type": "stream",
     "text": [
      " 89%|████████▉ | 437/491 [33:11<40:16, 44.76s/it]"
     ]
    },
    {
     "name": "stdout",
     "output_type": "stream",
     "text": [
      "Downloading audio from https://www.youtube.com/watch?v=TO-_3tck2tg...\n"
     ]
    },
    {
     "name": "stderr",
     "output_type": "stream",
     "text": [
      " 89%|████████▉ | 438/491 [33:19<29:33, 33.45s/it]"
     ]
    },
    {
     "name": "stdout",
     "output_type": "stream",
     "text": [
      "Downloading audio from https://www.youtube.com/watch?v=mWRsgZuwf_8...\n"
     ]
    },
    {
     "name": "stderr",
     "output_type": "stream",
     "text": [
      " 89%|████████▉ | 439/491 [33:33<24:02, 27.75s/it]"
     ]
    },
    {
     "name": "stdout",
     "output_type": "stream",
     "text": [
      "Downloading audio from https://www.youtube.com/watch?v=k3zimSRKqNw...\n"
     ]
    },
    {
     "name": "stderr",
     "output_type": "stream",
     "text": [
      " 90%|████████▉ | 440/491 [36:00<54:05, 63.63s/it]"
     ]
    },
    {
     "name": "stdout",
     "output_type": "stream",
     "text": [
      "Downloading audio from https://www.youtube.com/watch?v=sENM2wA_FTg...\n"
     ]
    },
    {
     "name": "stderr",
     "output_type": "stream",
     "text": [
      " 90%|████████▉ | 441/491 [36:16<41:05, 49.30s/it]"
     ]
    },
    {
     "name": "stdout",
     "output_type": "stream",
     "text": [
      "Downloading audio from https://www.youtube.com/watch?v=0I647GU3Jsc...\n"
     ]
    },
    {
     "name": "stderr",
     "output_type": "stream",
     "text": [
      " 90%|█████████ | 442/491 [36:23<29:56, 36.67s/it]"
     ]
    },
    {
     "name": "stdout",
     "output_type": "stream",
     "text": [
      "Downloading audio from https://www.youtube.com/watch?v=w5tWYmIOWGk...\n"
     ]
    },
    {
     "name": "stderr",
     "output_type": "stream",
     "text": [
      " 90%|█████████ | 443/491 [36:58<28:50, 36.06s/it]"
     ]
    },
    {
     "name": "stdout",
     "output_type": "stream",
     "text": [
      "Downloading audio from https://www.youtube.com/watch?v=ktvTqknDobU...\n"
     ]
    },
    {
     "name": "stderr",
     "output_type": "stream",
     "text": [
      " 90%|█████████ | 444/491 [37:23<25:40, 32.78s/it]"
     ]
    },
    {
     "name": "stdout",
     "output_type": "stream",
     "text": [
      "Downloading audio from https://www.youtube.com/watch?v=e4RMh7NLHPY...\n"
     ]
    },
    {
     "name": "stderr",
     "output_type": "stream",
     "text": [
      " 91%|█████████ | 445/491 [38:00<26:07, 34.07s/it]"
     ]
    },
    {
     "name": "stdout",
     "output_type": "stream",
     "text": [
      "Downloading audio from https://www.youtube.com/watch?v=fKopy74weus...\n"
     ]
    },
    {
     "name": "stderr",
     "output_type": "stream",
     "text": [
      " 91%|█████████ | 446/491 [38:30<24:34, 32.76s/it]"
     ]
    },
    {
     "name": "stdout",
     "output_type": "stream",
     "text": [
      "Downloading audio from https://www.youtube.com/watch?v=gOsM-DYAEhY...\n"
     ]
    },
    {
     "name": "stderr",
     "output_type": "stream",
     "text": [
      " 91%|█████████ | 447/491 [38:38<18:31, 25.27s/it]"
     ]
    },
    {
     "name": "stdout",
     "output_type": "stream",
     "text": [
      "Downloading audio from https://www.youtube.com/watch?v=GSLSwwkLRW0...\n"
     ]
    },
    {
     "name": "stderr",
     "output_type": "stream",
     "text": [
      " 91%|█████████ | 448/491 [38:57<16:44, 23.35s/it]"
     ]
    },
    {
     "name": "stdout",
     "output_type": "stream",
     "text": [
      "Downloading audio from https://www.youtube.com/watch?v=1WIsnC-h1d0...\n"
     ]
    },
    {
     "name": "stderr",
     "output_type": "stream",
     "text": [
      " 91%|█████████▏| 449/491 [41:45<46:47, 66.84s/it]"
     ]
    },
    {
     "name": "stdout",
     "output_type": "stream",
     "text": [
      "Downloading audio from https://www.youtube.com/watch?v=zD2D6phvRRk...\n"
     ]
    },
    {
     "name": "stderr",
     "output_type": "stream",
     "text": [
      " 92%|█████████▏| 450/491 [42:30<41:07, 60.18s/it]"
     ]
    },
    {
     "name": "stdout",
     "output_type": "stream",
     "text": [
      "Downloading audio from https://www.youtube.com/watch?v=lYfkl-HXfuU...\n"
     ]
    },
    {
     "name": "stderr",
     "output_type": "stream",
     "text": [
      " 92%|█████████▏| 451/491 [42:49<32:03, 48.09s/it]"
     ]
    },
    {
     "name": "stdout",
     "output_type": "stream",
     "text": [
      "Downloading audio from https://www.youtube.com/watch?v=Q91hydQRGyM...\n"
     ]
    },
    {
     "name": "stderr",
     "output_type": "stream",
     "text": [
      " 92%|█████████▏| 452/491 [42:56<23:07, 35.56s/it]"
     ]
    },
    {
     "name": "stdout",
     "output_type": "stream",
     "text": [
      "Downloading audio from https://www.youtube.com/watch?v=4kGvlESGvbs...\n"
     ]
    },
    {
     "name": "stderr",
     "output_type": "stream",
     "text": [
      " 92%|█████████▏| 453/491 [43:34<23:03, 36.42s/it]"
     ]
    },
    {
     "name": "stdout",
     "output_type": "stream",
     "text": [
      "Downloading audio from https://www.youtube.com/watch?v=tFuw-YZaTNo...\n"
     ]
    },
    {
     "name": "stderr",
     "output_type": "stream",
     "text": [
      " 92%|█████████▏| 454/491 [44:52<30:03, 48.74s/it]"
     ]
    },
    {
     "name": "stdout",
     "output_type": "stream",
     "text": [
      "Downloading audio from https://www.youtube.com/watch?v=_66jPJVS4JE...\n"
     ]
    },
    {
     "name": "stderr",
     "output_type": "stream",
     "text": [
      " 93%|█████████▎| 455/491 [45:16<24:48, 41.35s/it]"
     ]
    },
    {
     "name": "stdout",
     "output_type": "stream",
     "text": [
      "Downloading audio from https://www.youtube.com/watch?v=U7uxf8kBBlg...\n"
     ]
    },
    {
     "name": "stderr",
     "output_type": "stream",
     "text": [
      " 93%|█████████▎| 456/491 [45:33<19:54, 34.13s/it]"
     ]
    },
    {
     "name": "stdout",
     "output_type": "stream",
     "text": [
      "Downloading audio from https://www.youtube.com/watch?v=4bJ0F8KhhZ8...\n"
     ]
    },
    {
     "name": "stderr",
     "output_type": "stream",
     "text": [
      " 93%|█████████▎| 457/491 [47:03<28:48, 50.83s/it]"
     ]
    },
    {
     "name": "stdout",
     "output_type": "stream",
     "text": [
      "Downloading audio from https://www.youtube.com/watch?v=vzsz6SSS3wk...\n"
     ]
    },
    {
     "name": "stderr",
     "output_type": "stream",
     "text": [
      " 93%|█████████▎| 458/491 [47:34<24:41, 44.89s/it]"
     ]
    },
    {
     "name": "stdout",
     "output_type": "stream",
     "text": [
      "Downloading audio from https://www.youtube.com/watch?v=DPtfsk4ETjM...\n"
     ]
    },
    {
     "name": "stderr",
     "output_type": "stream",
     "text": [
      " 93%|█████████▎| 459/491 [47:36<17:10, 32.19s/it]"
     ]
    },
    {
     "name": "stdout",
     "output_type": "stream",
     "text": [
      "Downloading audio from https://www.youtube.com/watch?v=VWl7WjAtBME...\n"
     ]
    },
    {
     "name": "stderr",
     "output_type": "stream",
     "text": [
      " 94%|█████████▎| 460/491 [47:48<13:23, 25.91s/it]"
     ]
    },
    {
     "name": "stdout",
     "output_type": "stream",
     "text": [
      "Downloading audio from https://www.youtube.com/watch?v=ru0K8uYEZWw...\n"
     ]
    },
    {
     "name": "stderr",
     "output_type": "stream",
     "text": [
      " 94%|█████████▍| 461/491 [47:57<10:29, 21.00s/it]"
     ]
    },
    {
     "name": "stdout",
     "output_type": "stream",
     "text": [
      "Downloading audio from https://www.youtube.com/watch?v=DksSPZTZES0...\n"
     ]
    },
    {
     "name": "stderr",
     "output_type": "stream",
     "text": [
      " 94%|█████████▍| 462/491 [48:00<07:26, 15.40s/it]"
     ]
    },
    {
     "name": "stdout",
     "output_type": "stream",
     "text": [
      "Downloading audio from https://www.youtube.com/watch?v=gA-NDZb29I4...\n"
     ]
    },
    {
     "name": "stderr",
     "output_type": "stream",
     "text": [
      " 94%|█████████▍| 463/491 [48:13<06:52, 14.75s/it]"
     ]
    },
    {
     "name": "stdout",
     "output_type": "stream",
     "text": [
      "Downloading audio from https://www.youtube.com/watch?v=IthFGX3sKec...\n"
     ]
    },
    {
     "name": "stderr",
     "output_type": "stream",
     "text": [
      " 95%|█████████▍| 464/491 [50:29<23:01, 51.18s/it]"
     ]
    },
    {
     "name": "stdout",
     "output_type": "stream",
     "text": [
      "Downloading audio from https://www.youtube.com/watch?v=FQ3slUz7Jo8...\n"
     ]
    },
    {
     "name": "stderr",
     "output_type": "stream",
     "text": [
      " 95%|█████████▍| 465/491 [56:16<1:00:40, 140.03s/it]"
     ]
    },
    {
     "name": "stdout",
     "output_type": "stream",
     "text": [
      "Downloading audio from https://www.youtube.com/watch?v=-_ED5aLbp4I...\n"
     ]
    },
    {
     "name": "stderr",
     "output_type": "stream",
     "text": [
      " 95%|█████████▍| 466/491 [56:50<44:59, 107.97s/it]  "
     ]
    },
    {
     "name": "stdout",
     "output_type": "stream",
     "text": [
      "Downloading audio from https://www.youtube.com/watch?v=uuZE_IRwLNI...\n"
     ]
    },
    {
     "name": "stderr",
     "output_type": "stream",
     "text": [
      " 95%|█████████▌| 467/491 [56:56<31:01, 77.55s/it] "
     ]
    },
    {
     "name": "stdout",
     "output_type": "stream",
     "text": [
      "Downloading audio from https://www.youtube.com/watch?v=I66vmchI_uU...\n"
     ]
    },
    {
     "name": "stderr",
     "output_type": "stream",
     "text": [
      " 95%|█████████▌| 468/491 [57:57<27:50, 72.62s/it]"
     ]
    },
    {
     "name": "stdout",
     "output_type": "stream",
     "text": [
      "Downloading audio from https://www.youtube.com/watch?v=TSVHoHyErBQ...\n"
     ]
    },
    {
     "name": "stderr",
     "output_type": "stream",
     "text": [
      " 96%|█████████▌| 469/491 [58:00<18:56, 51.67s/it]"
     ]
    },
    {
     "name": "stdout",
     "output_type": "stream",
     "text": [
      "Downloading audio from https://www.youtube.com/watch?v=nJHYDkvRB2Y...\n"
     ]
    },
    {
     "name": "stderr",
     "output_type": "stream",
     "text": [
      " 96%|█████████▌| 470/491 [58:15<14:13, 40.65s/it]"
     ]
    },
    {
     "name": "stdout",
     "output_type": "stream",
     "text": [
      "Downloading audio from https://www.youtube.com/watch?v=NxJ7O0CGzO8...\n"
     ]
    },
    {
     "name": "stderr",
     "output_type": "stream",
     "text": [
      " 96%|█████████▌| 471/491 [1:00:31<23:05, 69.25s/it]"
     ]
    },
    {
     "name": "stdout",
     "output_type": "stream",
     "text": [
      "Downloading audio from https://www.youtube.com/watch?v=-rjhH3SMQ-0...\n"
     ]
    },
    {
     "name": "stderr",
     "output_type": "stream",
     "text": [
      "100%|██████████| 491/491 [1:06:54<00:00,  8.18s/it]\n"
     ]
    },
    {
     "data": {
      "text/plain": [
       "<src.abracadabra.GCPFingerprintDB.GCPFingerprintDB at 0x798a1f828c70>"
      ]
     },
     "execution_count": 5,
     "metadata": {},
     "output_type": "execute_result"
    }
   ],
   "execution_count": 5
  },
  {
   "metadata": {
    "ExecuteTime": {
     "end_time": "2025-05-27T01:22:29.414003Z",
     "start_time": "2025-05-27T01:22:29.374732Z"
    }
   },
   "cell_type": "code",
   "source": [
    "with conn.cursor() as cur:\n",
    "    cur.execute(\"SELECT * FROM tracks where artist_names LIKE 'PSY';\")\n",
    "    rows = cur.fetchall()\n",
    "    for row in rows:\n",
    "        print(row)"
   ],
   "id": "5def5bd0e7e3a4bb",
   "outputs": [],
   "execution_count": 11
  },
  {
   "metadata": {
    "ExecuteTime": {
     "end_time": "2025-05-27T01:55:41.968525Z",
     "start_time": "2025-05-27T01:55:33.208592Z"
    }
   },
   "cell_type": "code",
   "source": [
    "from src.abracadabra.recognize import recognize_song\n",
    "match = recognize_song(\"../songs/Adele - Someone Like You (Official Music Video).m4a\", db)\n",
    "\n",
    "if match:\n",
    "    print(f\"Matched: {match[0]} (score: {match[1]})\")\n",
    "    track_name, artist_names, album_name, youtube_url = db.check_song_info(match[0])\n",
    "    # track_name, youtube_url = db.check_song_info(match[0])\n",
    "    print(f\"Track Name: {track_name}\")\n",
    "    print(f\"Artist Names: {artist_names}\")\n",
    "    print(f\"Album Name: {album_name}\")\n",
    "    print(f\"YouTube URL: {youtube_url}\")\n",
    "else:\n",
    "    print(\"No match found.\")"
   ],
   "id": "ba656877025fa63f",
   "outputs": [
    {
     "name": "stdout",
     "output_type": "stream",
     "text": [
      "Matched: 34 (score: 25)\n",
      "Track Name: Someone Like You\n"
     ]
    },
    {
     "ename": "NameError",
     "evalue": "name 'artist_names' is not defined",
     "output_type": "error",
     "traceback": [
      "\u001B[0;31m---------------------------------------------------------------------------\u001B[0m",
      "\u001B[0;31mNameError\u001B[0m                                 Traceback (most recent call last)",
      "Cell \u001B[0;32mIn[8], line 9\u001B[0m\n\u001B[1;32m      7\u001B[0m track_name, youtube_url \u001B[38;5;241m=\u001B[39m db\u001B[38;5;241m.\u001B[39mcheck_song_info(match[\u001B[38;5;241m0\u001B[39m])\n\u001B[1;32m      8\u001B[0m \u001B[38;5;28mprint\u001B[39m(\u001B[38;5;124mf\u001B[39m\u001B[38;5;124m\"\u001B[39m\u001B[38;5;124mTrack Name: \u001B[39m\u001B[38;5;132;01m{\u001B[39;00mtrack_name\u001B[38;5;132;01m}\u001B[39;00m\u001B[38;5;124m\"\u001B[39m)\n\u001B[0;32m----> 9\u001B[0m \u001B[38;5;28mprint\u001B[39m(\u001B[38;5;124mf\u001B[39m\u001B[38;5;124m\"\u001B[39m\u001B[38;5;124mArtist Names: \u001B[39m\u001B[38;5;132;01m{\u001B[39;00m\u001B[43martist_names\u001B[49m\u001B[38;5;132;01m}\u001B[39;00m\u001B[38;5;124m\"\u001B[39m)\n\u001B[1;32m     10\u001B[0m \u001B[38;5;28mprint\u001B[39m(\u001B[38;5;124mf\u001B[39m\u001B[38;5;124m\"\u001B[39m\u001B[38;5;124mAlbum Name: \u001B[39m\u001B[38;5;132;01m{\u001B[39;00malbum_name\u001B[38;5;132;01m}\u001B[39;00m\u001B[38;5;124m\"\u001B[39m)\n\u001B[1;32m     11\u001B[0m \u001B[38;5;28mprint\u001B[39m(\u001B[38;5;124mf\u001B[39m\u001B[38;5;124m\"\u001B[39m\u001B[38;5;124mYouTube URL: \u001B[39m\u001B[38;5;132;01m{\u001B[39;00myoutube_url\u001B[38;5;132;01m}\u001B[39;00m\u001B[38;5;124m\"\u001B[39m)\n",
      "\u001B[0;31mNameError\u001B[0m: name 'artist_names' is not defined"
     ]
    }
   ],
   "execution_count": 8
  },
  {
   "metadata": {
    "ExecuteTime": {
     "end_time": "2025-06-04T06:31:12.780791Z",
     "start_time": "2025-06-04T06:30:46.291327Z"
    }
   },
   "cell_type": "code",
   "source": [
    "from src.abracadabra.GCPFingerprintDB import GCPFingerprintDB\n",
    "db = GCPFingerprintDB()\n",
    "db.show_table()"
   ],
   "id": "973936f07893d9f4",
   "outputs": [
    {
     "name": "stdout",
     "output_type": "stream",
     "text": [
      "(1, 'In Da Club')\n",
      "(2, 'In Da Club - Single Version / Edit')\n",
      "(3, 'Just A Lil Bit')\n",
      "(4, 'P.I.M.P.')\n",
      "(5, 'Window Shopper')\n",
      "(6, 'Back In Black')\n",
      "(7, 'Dirty Deeds Done Dirt Cheap')\n",
      "(8, 'Heatseeker')\n",
      "(9, 'High Voltage')\n",
      "(10, 'Highway to Hell')\n",
      "(11, \"It's a Long Way to the Top (If You Wanna Rock 'N' Roll)\")\n",
      "(12, 'Jailbreak')\n",
      "(13, \"Rock and Roll Ain't Noise Pollution\")\n",
      "(14, 'Shoot to Thrill')\n",
      "(15, 'T.N.T.')\n",
      "(16, 'Thunderstruck')\n",
      "(17, 'Who Made Who')\n",
      "(18, 'You Shook Me All Night Long')\n",
      "(19, 'Chasing Pavements')\n",
      "(20, \"Don't You Remember\")\n",
      "(21, 'Easy On Me')\n",
      "(22, \"He Won't Go\")\n",
      "(23, 'Hello')\n",
      "(24, 'Love In The Dark')\n",
      "(25, 'Make You Feel My Love')\n",
      "(26, 'Million Years Ago')\n",
      "(27, 'One and Only')\n",
      "(28, 'Remedy')\n",
      "(29, 'Rolling in the Deep')\n",
      "(30, 'Rumour Has It')\n",
      "(31, 'Send My Love (To Your New Lover)')\n",
      "(32, 'Set Fire to the Rain')\n",
      "(33, 'Skyfall')\n",
      "(34, 'Someone Like You')\n",
      "(35, 'Sweetest Devotion')\n",
      "(36, 'Take It All')\n",
      "(37, 'Turning Tables')\n",
      "(38, 'Water Under The Bridge')\n",
      "(39, 'When We Were Young')\n",
      "(40, 'Alone')\n",
      "(41, 'Faded')\n",
      "(42, 'Brand New Me')\n",
      "(43, \"Doesn't Mean Anything\")\n",
      "(44, 'Empire State of Mind (Part II) Broken Down')\n",
      "(45, \"Fallin'\")\n",
      "(46, 'Girl On Fire')\n",
      "(47, 'Hallelujah')\n",
      "(48, 'Holy War')\n",
      "(49, \"If I Ain't Got You\")\n",
      "(50, 'More Than We Know')\n",
      "(51, 'No One')\n",
      "(52, 'One Thing')\n",
      "(53, 'Superwoman')\n",
      "(54, 'Tears Always Win')\n",
      "(55, 'Work On It')\n",
      "(56, 'No More \"I Love You\\'s\"')\n",
      "(57, 'Arabella')\n",
      "(58, 'Do I Wanna Know?')\n",
      "(59, 'I Bet You Look Good On The Dancefloor')\n",
      "(60, \"Why'd You Only Call Me When You're High?\")\n",
      "(61, 'Addicted To You')\n",
      "(62, 'Broken Arrows')\n",
      "(63, 'Fade Into Darkness - Vocal Radio Mix')\n",
      "(64, 'For A Better Day')\n",
      "(65, 'Heaven')\n",
      "(66, 'Hey Brother')\n",
      "(67, 'Levels - Radio Edit')\n",
      "(68, 'Silhouettes - Original Radio Edit')\n",
      "(69, 'The Nights')\n",
      "(70, 'Waiting For Love')\n",
      "(71, 'Wake Me Up')\n",
      "(72, 'Wake Me Up - Radio Edit')\n",
      "(73, 'You Make Me')\n",
      "(74, 'Butter')\n",
      "(75, 'Dynamite')\n",
      "(76, 'BREAK MY SOUL')\n",
      "(77, 'Best Thing I Never Had')\n",
      "(78, 'Broken-Hearted Girl')\n",
      "(79, 'Halo')\n",
      "(80, 'Hold Up')\n",
      "(81, 'If I Were a Boy')\n",
      "(82, 'Irreplaceable')\n",
      "(83, 'Love On Top')\n",
      "(84, 'Naughty Girl')\n",
      "(85, 'Run the World (Girls)')\n",
      "(86, 'Single Ladies (Put a Ring on It)')\n",
      "(87, 'Sweet Dreams')\n",
      "(88, 'XO')\n",
      "(89, 'Lost Cause')\n",
      "(90, 'NDA')\n",
      "(91, 'Therefore I Am')\n",
      "(92, 'Your Power')\n",
      "(93, 'all the good girls go to hell')\n",
      "(94, 'bad guy')\n",
      "(95, 'bury a friend')\n",
      "(96, 'everything i wanted')\n",
      "(97, \"when the party's over\")\n",
      "(98, 'wish you were gay')\n",
      "(99, 'BIG LOVE')\n",
      "(100, 'Boom Boom Pow')\n",
      "(101, \"Don't Lie\")\n",
      "(102, \"Don't Phunk With My Heart\")\n",
      "(103, 'Don’t Stop The Party')\n",
      "(104, 'Hey Mama')\n",
      "(105, 'I Gotta Feeling')\n",
      "(106, 'Imma Be')\n",
      "(107, 'Just Can’t Get Enough')\n",
      "(108, \"Let's Get It Started\")\n",
      "(109, \"Let's Get It Started - Spike Mix\")\n",
      "(110, 'Meet Me Halfway')\n",
      "(111, 'My Humps')\n",
      "(112, 'Pump It')\n",
      "(113, 'Rock That Body')\n",
      "(114, 'Shut Up')\n",
      "(115, 'The Time (Dirty Bit)')\n",
      "(116, 'Where Is The Love?')\n",
      "(117, \"Blowin' in the Wind\")\n",
      "(118, 'Forever Young - Fast Version')\n",
      "(119, 'Hurricane')\n",
      "(120, \"Knockin' On Heaven's Door\")\n",
      "(121, 'Like a Rolling Stone')\n",
      "(122, 'Mr. Tambourine Man')\n",
      "(123, \"The Times They Are A-Changin'\")\n",
      "(124, 'Always')\n",
      "(125, 'Bad Medicine')\n",
      "(126, 'Bed Of Roses')\n",
      "(127, 'Have A Nice Day')\n",
      "(128, \"I'll Be There For You\")\n",
      "(129, 'In These Arms')\n",
      "(130, \"It's My Life\")\n",
      "(131, 'Keep The Faith')\n",
      "(132, \"Livin' On A Prayer\")\n",
      "(133, \"Say It Isn't So\")\n",
      "(134, 'Shot Through The Heart')\n",
      "(135, \"This Ain't A Love Song\")\n",
      "(136, 'Wanted Dead Or Alive')\n",
      "(137, 'You Give Love A Bad Name')\n",
      "(138, '(You Drive Me) Crazy')\n",
      "(139, '...Baby One More Time')\n",
      "(140, '3')\n",
      "(141, 'Circus')\n",
      "(142, 'Circus - Remastered')\n",
      "(143, \"Do Somethin'\")\n",
      "(144, 'Everytime')\n",
      "(145, 'From the Bottom of My Broken Heart')\n",
      "(146, 'Gimme More')\n",
      "(147, 'Hold It Against Me')\n",
      "(148, \"I Love Rock 'N' Roll\")\n",
      "(149, \"I'm Not a Girl, Not Yet a Woman\")\n",
      "(150, \"I'm a Slave 4 U\")\n",
      "(151, 'If U Seek Amy')\n",
      "(152, 'Lucky')\n",
      "(153, 'My Prerogative - Remastered')\n",
      "(154, 'Oops!...I Did It Again')\n",
      "(155, 'Piece of Me')\n",
      "(156, 'Sometimes')\n",
      "(157, 'Stronger')\n",
      "(158, 'Till the World Ends')\n",
      "(159, 'Toxic')\n",
      "(160, 'Womanizer')\n",
      "(161, '24K Magic')\n",
      "(162, 'Chunky')\n",
      "(163, 'Count on Me')\n",
      "(164, 'Grenade')\n",
      "(165, 'Grenade - Acoustic')\n",
      "(166, 'If I Knew')\n",
      "(167, 'It Will Rain')\n",
      "(168, 'Just the Way You Are')\n",
      "(169, 'Locked out of Heaven')\n",
      "(170, 'Marry You')\n",
      "(171, 'Talking to the Moon')\n",
      "(172, \"That's What I Like\")\n",
      "(173, 'The Lazy Song')\n",
      "(174, 'Treasure')\n",
      "(175, 'Versace on the Floor')\n",
      "(176, 'When I Was Your Man')\n",
      "(177, '(Everything I Do) I Do It For You')\n",
      "(178, \"Can't Stop This Thing We Started\")\n",
      "(179, 'Have You Ever Really Loved A Woman?')\n",
      "(180, 'Heaven')\n",
      "(181, \"Let's Make A Night To Remember\")\n",
      "(182, 'Please Forgive Me')\n",
      "(183, 'Run To You')\n",
      "(184, \"Summer Of '69\")\n",
      "(185, 'The Only Thing That Looks Good On Me Is You')\n",
      "(186, \"Thought I'd Died And Gone To Heaven\")\n",
      "(187, \"Acceptable in the 80's\")\n",
      "(188, 'Feel So Close - Radio Edit')\n",
      "(189, 'Flashback')\n",
      "(190, \"I'm Not Alone - Radio Edit\")\n",
      "(191, 'My Way')\n",
      "(192, 'Ready for the Weekend')\n",
      "(193, 'Summer')\n",
      "(194, 'The Girls - Radio Edit')\n",
      "(195, 'You Used to Hold Me')\n",
      "(196, \"Don't Go Yet\")\n",
      "(197, 'Never Be the Same')\n",
      "(198, 'Shameless')\n",
      "(199, 'Up')\n",
      "(200, \"Ain't No Other Man\")\n",
      "(201, 'Beautiful')\n",
      "(202, 'Candyman')\n",
      "(203, 'Come on over Baby (All I Want Is You) - Radio Version')\n",
      "(204, 'Fighter')\n",
      "(205, 'Genie In a Bottle')\n",
      "(206, 'Genie in a Bottle')\n",
      "(207, 'Hurt')\n",
      "(208, 'Impossible')\n",
      "(209, \"Keeps Gettin' Better\")\n",
      "(210, 'What a Girl Wants')\n",
      "(211, 'A Sky Full of Stars')\n",
      "(212, 'Adventure of a Lifetime')\n",
      "(213, 'Charlie Brown')\n",
      "(214, 'Clocks')\n",
      "(215, 'Every Teardrop Is a Waterfall')\n",
      "(216, 'Fix You')\n",
      "(217, 'God Put a Smile upon Your Face')\n",
      "(218, 'Higher Power')\n",
      "(219, 'Hymn for the Weekend')\n",
      "(220, 'In My Place')\n",
      "(221, 'Life in Technicolor ii')\n",
      "(222, 'Lost!')\n",
      "(223, 'Lovers in Japan')\n",
      "(224, 'Magic')\n",
      "(225, 'Paradise')\n",
      "(226, 'Speed of Sound')\n",
      "(227, 'The Scientist')\n",
      "(228, 'Violet Hill')\n",
      "(229, 'Viva La Vida')\n",
      "(230, 'Yellow')\n",
      "(231, 'Gasolina')\n",
      "(232, 'Around the World')\n",
      "(233, 'Around the World - Radio Edit [Radio Edit]')\n",
      "(234, 'Da Funk - Radio Edit')\n",
      "(235, 'One More Time')\n",
      "(236, 'One More Time - Radio Edit [Short Radio Edit]')\n",
      "(237, 'Absolute Beginners - 2002 Remaster')\n",
      "(238, 'Ashes to Ashes - 2017 Remaster')\n",
      "(239, 'Cat People (Putting Out Fire) - 2018 Remaster')\n",
      "(240, 'Heroes - 2017 Remaster')\n",
      "(241, \"Let's Dance - Single Version, 2014 Remaster\")\n",
      "(242, 'Modern Love - 1999 Remaster')\n",
      "(243, 'Rebel Rebel - 2016 Remaster')\n",
      "(244, 'Sorrow - 2015 Remaster')\n",
      "(245, 'Space Oddity - 2009 Remastered Version')\n",
      "(246, 'Space Oddity - 2015 Remaster')\n",
      "(247, 'Bang My Head (feat. Sia & Fetty Wap)')\n",
      "(248, 'Shot Me Down (feat. Skylar Grey) - Radio Edit')\n",
      "(249, \"This One's for You (feat. Zara Larsson) (Official Song UEFA EURO 2016)\")\n",
      "(250, 'What I Did for Love (feat. Emeli Sandé)')\n",
      "(251, 'Where Them Girls At (feat. Nicki Minaj & Flo Rida)')\n",
      "(252, 'Boss Bitch')\n",
      "(253, 'Say So')\n",
      "(254, 'Streets')\n",
      "(255, 'Controlla')\n",
      "(256, \"God's Plan\")\n",
      "(257, 'Hotline Bling')\n",
      "(258, 'In My Feelings')\n",
      "(259, 'Toosie Slide')\n",
      "(260, 'Be the One')\n",
      "(261, 'Blow Your Mind (Mwah)')\n",
      "(262, 'Break My Heart')\n",
      "(263, 'Dance The Night (From Barbie The Album)')\n",
      "(264, \"Don't Start Now\")\n",
      "(265, 'Hallucinate')\n",
      "(266, 'Hotter Than Hell')\n",
      "(267, 'IDGAF')\n",
      "(268, 'Levitating')\n",
      "(269, 'Love Again')\n",
      "(270, 'New Rules')\n",
      "(271, 'Physical')\n",
      "(272, 'Swan Song - From the Motion Picture \"Alita: Battle Angel\"')\n",
      "(273, \"We're Good\")\n",
      "(274, 'Afire Love')\n",
      "(275, 'Afterglow')\n",
      "(276, 'All of the Stars')\n",
      "(277, 'Bad Habits')\n",
      "(278, 'Bloodstream')\n",
      "(279, 'Castle on the Hill')\n",
      "(280, 'Celestial')\n",
      "(281, 'Dive')\n",
      "(282, \"Don't\")\n",
      "(283, 'Drunk')\n",
      "(284, 'Eyes Closed')\n",
      "(285, 'Firefly')\n",
      "(286, 'Galway Girl')\n",
      "(287, 'Happier')\n",
      "(288, 'How Would You Feel (Paean)')\n",
      "(289, 'I See Fire - From \"The Hobbit - The Desolation Of Smaug\"')\n",
      "(290, 'Kiss Me')\n",
      "(291, 'Lego House')\n",
      "(292, 'New York')\n",
      "(293, 'One')\n",
      "(294, 'Overpass Graffiti')\n",
      "(295, 'Perfect')\n",
      "(296, 'Photograph')\n",
      "(297, 'Runaway')\n",
      "(298, 'Shape of You')\n",
      "(299, 'She')\n",
      "(300, 'Shivers')\n",
      "(301, 'Sing')\n",
      "(302, 'Small Bump')\n",
      "(303, 'Tenerife Sea')\n",
      "(304, 'The A Team')\n",
      "(305, 'Thinking out Loud')\n",
      "(306, 'Visiting Hours')\n",
      "(307, 'What Do I Know?')\n",
      "(308, 'Blue Eyes - Remastered 2003')\n",
      "(309, 'Can You Feel The Love Tonight')\n",
      "(310, 'Can You Feel the Love Tonight - End Title/ From \"The Lion King\"/Soundtrack Version')\n",
      "(311, 'Candle In The Wind')\n",
      "(312, 'Candle In The Wind 1997')\n",
      "(313, 'Crocodile Rock')\n",
      "(314, 'Daniel')\n",
      "(315, 'Goodbye Yellow Brick Road - Remastered 2014')\n",
      "(316, 'Healing Hands')\n",
      "(317, 'Heartache All Over The World')\n",
      "(318, \"I Don't Wanna Go On With You Like That\")\n",
      "(319, \"I Guess That's Why They Call It The Blues\")\n",
      "(320, \"I'm Still Standing\")\n",
      "(321, 'Kiss The Bride')\n",
      "(322, 'Little Jeannie')\n",
      "(323, 'Lucy In The Sky With Diamonds')\n",
      "(324, 'Nikita')\n",
      "(325, 'Part Time Love')\n",
      "(326, 'Passengers')\n",
      "(327, 'Philadelphia Freedom')\n",
      "(328, \"Rocket Man (I Think It's Going To Be A Long, Long Time)\")\n",
      "(329, 'Sacrifice')\n",
      "(330, 'Sad Songs (Say So Much)')\n",
      "(331, 'Something About The Way You Look Tonight - Edit Version')\n",
      "(332, 'Song For Guy')\n",
      "(333, 'Tiny Dancer')\n",
      "(334, 'Your Song')\n",
      "(335, 'Ass Like That')\n",
      "(336, 'Berzerk')\n",
      "(337, 'Business')\n",
      "(338, \"Cleanin' Out My Closet\")\n",
      "(339, 'Just Lose It')\n",
      "(340, 'Like Toy Soldiers')\n",
      "(341, 'Lose Yourself')\n",
      "(342, 'Lose Yourself - From \"8 Mile\" Soundtrack')\n",
      "(343, 'Mockingbird')\n",
      "(344, 'My Name Is')\n",
      "(345, 'Not Afraid')\n",
      "(346, 'Sing For The Moment')\n",
      "(347, 'The Real Slim Shady')\n",
      "(348, 'We Made You')\n",
      "(349, \"When I'm Gone\")\n",
      "(350, 'Without Me')\n",
      "(351, 'Bailamos')\n",
      "(352, \"Don't Turn Off The Lights\")\n",
      "(353, 'Escape')\n",
      "(354, 'Hero')\n",
      "(355, 'Change the World - 2015 Remaster')\n",
      "(356, 'Cocaine')\n",
      "(357, 'I Shot The Sheriff')\n",
      "(358, 'Layla - Acoustic; Live at MTV Unplugged, Bray Film Studios, Windsor, England, UK, 1/16/1992; 2013 Remaster')\n",
      "(359, 'Tears In Heaven')\n",
      "(360, 'Bring Me To Life')\n",
      "(361, \"Call Me When You're Sober\")\n",
      "(362, \"Everybody's Fool\")\n",
      "(363, 'Going Under')\n",
      "(364, 'Lithium')\n",
      "(365, 'My Immortal')\n",
      "(366, '\"The Take Over, The Breaks Over\"')\n",
      "(367, 'Centuries')\n",
      "(368, \"I Don't Care\")\n",
      "(369, \"She's My Winona\")\n",
      "(370, \"Sugar, We're Goin Down\")\n",
      "(371, \"This Ain't A Scene, It's An Arms Race\")\n",
      "(372, 'Thnks fr th Mmrs')\n",
      "(373, 'Albatross')\n",
      "(374, \"Don't Stop - 2004 Remaster\")\n",
      "(375, 'Dreams - 2004 Remaster')\n",
      "(376, 'Go Your Own Way')\n",
      "(377, 'Go Your Own Way - 2004 Remaster')\n",
      "(378, 'Hold Me')\n",
      "(379, 'Little Lies')\n",
      "(380, 'Rhiannon')\n",
      "(381, 'Sara')\n",
      "(382, 'Seven Wonders - 2017 Remaster')\n",
      "(383, 'The Chain - 2004 Remaster')\n",
      "(384, 'Tusk - 2015 Remaster')\n",
      "(385, 'Best Of You')\n",
      "(386, 'Best of You')\n",
      "(387, 'Big Me')\n",
      "(388, 'Everlong')\n",
      "(389, 'Generator')\n",
      "(390, 'Learn to Fly')\n",
      "(391, 'Long Road To Ruin')\n",
      "(392, 'Monkey Wrench')\n",
      "(393, 'My Hero')\n",
      "(394, 'Rope')\n",
      "(395, 'The Pretender')\n",
      "(396, 'These Days')\n",
      "(397, 'This Is a Call')\n",
      "(398, 'Times Like These')\n",
      "(399, 'Walk')\n",
      "(400, 'Wheels')\n",
      "(401, 'A Different Corner')\n",
      "(402, 'Amazing')\n",
      "(403, 'Careless Whisper')\n",
      "(404, 'Careless Whisper - Remastered')\n",
      "(405, 'Faith - Remastered')\n",
      "(406, 'Fastlove, Pt. 1')\n",
      "(407, 'Father Figure - Remastered')\n",
      "(408, \"Freedom! '90 - Remastered\")\n",
      "(409, 'I Want Your Sex - Pts. 1 & 2 Remastered')\n",
      "(410, 'Jesus to a Child')\n",
      "(411, 'Kissing a Fool - Remastered')\n",
      "(412, 'Miss Sarajevo')\n",
      "(413, 'One More Try - Live')\n",
      "(414, 'One More Try - Remastered')\n",
      "(415, 'Outside')\n",
      "(416, 'Praying for Time - 2010 Remastered Version')\n",
      "(417, 'The First Time Ever I Saw Your Face')\n",
      "(418, 'Too Funky - Remastered 2006')\n",
      "(419, 'Too Funky - Single Edit')\n",
      "(420, '19-2000')\n",
      "(421, 'Clint Eastwood')\n",
      "(422, 'DARE')\n",
      "(423, 'Feel Good Inc.')\n",
      "(424, '21 Guns')\n",
      "(425, '21 Guns (feat. Rebecca Naomi Jones, Christina Sajous, Mary Faber, Stark Sands, John Gallagher Jr., Michael Esper, The American Idiot Broadway Company)')\n",
      "(426, 'American Idiot')\n",
      "(427, 'Basket Case')\n",
      "(428, 'Boulevard of Broken Dreams')\n",
      "(429, 'Brain Stew')\n",
      "(430, 'Good Riddance (Time of Your Life)')\n",
      "(431, \"Hitchin' a Ride\")\n",
      "(432, 'Holiday')\n",
      "(433, 'Know Your Enemy')\n",
      "(434, 'Longview')\n",
      "(435, 'Minority')\n",
      "(436, 'The Forgotten')\n",
      "(437, 'Wake Me up When September Ends')\n",
      "(438, 'Warning')\n",
      "(439, 'Welcome to Paradise')\n",
      "(440, 'When I Come Around')\n",
      "(441, 'Bad At Love')\n",
      "(442, 'Graveyard')\n",
      "(443, 'New Americana')\n",
      "(444, 'Now Or Never')\n",
      "(445, 'Without Me')\n",
      "(446, 'You should be sad')\n",
      "(447, 'Adore You')\n",
      "(448, 'As It Was')\n",
      "(449, 'Falling')\n",
      "(450, 'Golden')\n",
      "(451, 'Kiwi')\n",
      "(452, 'Sign of the Times')\n",
      "(453, 'Treat People With Kindness')\n",
      "(454, 'Watermelon Sugar')\n",
      "(455, 'Bad Liar')\n",
      "(456, 'Believer')\n",
      "(457, 'Bones')\n",
      "(458, 'Demons')\n",
      "(459, 'Follow You')\n",
      "(460, \"It's Time\")\n",
      "(461, 'Natural')\n",
      "(462, 'On Top Of The World')\n",
      "(463, 'Radioactive')\n",
      "(464, 'Roots')\n",
      "(465, 'Thunder')\n",
      "(466, 'Whatever It Takes')\n",
      "(467, \"Ain't It Funny\")\n",
      "(468, 'Get Right')\n",
      "(469, \"I'm Real\")\n",
      "(470, 'If You Had My Love')\n",
      "(471, \"Let's Get Loud\")\n",
      "(472, \"Love Don't Cost a Thing\")\n",
      "(473, 'Play')\n",
      "(474, 'Waiting for Tonight')\n",
      "(475, \"I Think I'm in Love with You\")\n",
      "(476, 'I Wanna Love You Forever')\n",
      "(477, 'Take My Breath Away')\n",
      "(478, \"These Boots Are Made for Walkin'\")\n",
      "(479, 'With You')\n",
      "(480, 'CAN\\'T STOP THE FEELING! (from DreamWorks Animation\\'s \"TROLLS\")')\n",
      "(481, 'Cry Me a River')\n",
      "(482, 'Filthy')\n",
      "(483, 'FutureSex / LoveSound')\n",
      "(484, 'Like I Love You')\n",
      "(485, 'LoveStoned / I Think She Knows - Radio Edit')\n",
      "(486, 'Mirrors')\n",
      "(487, 'Mirrors - Radio Edit')\n",
      "(488, 'Rock Your Body')\n",
      "(489, 'Señorita')\n",
      "(490, 'SoulMate')\n",
      "(491, 'Summer Love')\n"
     ]
    }
   ],
   "execution_count": 8
  },
  {
   "metadata": {},
   "cell_type": "code",
   "outputs": [],
   "execution_count": null,
   "source": "",
   "id": "1fc5246e705e9679"
  }
 ],
 "metadata": {
  "kernelspec": {
   "display_name": "Python 3",
   "language": "python",
   "name": "python3"
  },
  "language_info": {
   "codemirror_mode": {
    "name": "ipython",
    "version": 2
   },
   "file_extension": ".py",
   "mimetype": "text/x-python",
   "name": "python",
   "nbconvert_exporter": "python",
   "pygments_lexer": "ipython2",
   "version": "2.7.6"
  }
 },
 "nbformat": 4,
 "nbformat_minor": 5
}
