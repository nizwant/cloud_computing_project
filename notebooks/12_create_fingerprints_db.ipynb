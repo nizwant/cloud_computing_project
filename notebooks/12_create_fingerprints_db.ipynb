{
 "cells": [
  {
   "cell_type": "code",
   "id": "initial_id",
   "metadata": {
    "collapsed": true,
    "ExecuteTime": {
     "end_time": "2025-06-03T21:43:21.021333Z",
     "start_time": "2025-06-03T21:43:21.008840Z"
    }
   },
   "source": [
    "import csv\n",
    "import psycopg2\n",
    "from psycopg2 import sql\n",
    "from datetime import datetime\n",
    "import logging\n",
    "import os\n",
    "from dotenv import load_dotenv"
   ],
   "outputs": [],
   "execution_count": 1
  },
  {
   "metadata": {
    "ExecuteTime": {
     "end_time": "2025-06-03T21:43:21.618878Z",
     "start_time": "2025-06-03T21:43:21.450604Z"
    }
   },
   "cell_type": "code",
   "source": [
    "from google.cloud import secretmanager\n",
    "def get_secret(secret_id, project_id):\n",
    "    client = secretmanager.SecretManagerServiceClient()\n",
    "    name = f\"projects/{project_id}/secrets/{secret_id}/versions/latest\"\n",
    "    response = client.access_secret_version(request={\"name\": name})\n",
    "    return response.payload.data.decode(\"utf-8\")"
   ],
   "id": "136acadb1517d759",
   "outputs": [],
   "execution_count": 2
  },
  {
   "metadata": {
    "ExecuteTime": {
     "end_time": "2025-06-03T21:43:25.559166Z",
     "start_time": "2025-06-03T21:43:22.003478Z"
    }
   },
   "cell_type": "code",
   "source": [
    "PROJECT_ID = \"cloud-computing-project-458205\"\n",
    "load_dotenv()\n",
    "DB_NAME = os.getenv(\"DB_NAME\", \"database-instance\")\n",
    "DB_USER = get_secret(\"DB_USER\", PROJECT_ID).replace(\"\\n\", \"\")\n",
    "DB_PASSWORD = get_secret(\"DB_PASSWORD\", PROJECT_ID).replace(\"\\n\", \"\")\n",
    "DB_HOST = get_secret(\"DB_HOST\", PROJECT_ID).replace(\"\\n\", \"\")\n",
    "DB_PORT = os.getenv(\"DB_PORT\", \"5432\")"
   ],
   "id": "11a07abeb5e8e83d",
   "outputs": [],
   "execution_count": 3
  },
  {
   "metadata": {
    "ExecuteTime": {
     "end_time": "2025-06-03T21:43:25.848364Z",
     "start_time": "2025-06-03T21:43:25.560365Z"
    }
   },
   "cell_type": "code",
   "source": [
    "from psycopg2.extras import DictCursor\n",
    "conn = psycopg2.connect(\n",
    "            dbname=DB_NAME,\n",
    "            user=DB_USER,\n",
    "            password=DB_PASSWORD,\n",
    "            host=DB_HOST,\n",
    "            port=DB_PORT,\n",
    "            cursor_factory=DictCursor,  # Use DictCursor to access columns by name\n",
    "        )\n",
    "conn"
   ],
   "id": "25c059314e1b0204",
   "outputs": [
    {
     "data": {
      "text/plain": [
       "<connection object at 0x798a2c15afc0; dsn: 'user=app-engine-user password=xxx dbname=database-instance host=34.140.62.43 port=5432', closed: 0>"
      ]
     },
     "execution_count": 4,
     "metadata": {},
     "output_type": "execute_result"
    }
   ],
   "execution_count": 4
  },
  {
   "metadata": {
    "ExecuteTime": {
     "end_time": "2025-06-03T21:39:21.158450Z",
     "start_time": "2025-06-03T21:39:21.155928Z"
    }
   },
   "cell_type": "code",
   "source": [
    "create_table_query = \"\"\"\n",
    "    DROP TABLE IF EXISTS fingerprints;\n",
    "    CREATE TABLE fingerprints (\n",
    "        fingerprint_id SERIAL PRIMARY KEY,\n",
    "        song_id INTEGER NOT NULL REFERENCES tracks(track_id) ON DELETE CASCADE,\n",
    "        hash TEXT NOT NULL,\n",
    "        timestamp FLOAT NOT NULL,\n",
    "        created_at TIMESTAMP WITH TIME ZONE DEFAULT CURRENT_TIMESTAMP,\n",
    "        UNIQUE (song_id, hash, timestamp)\n",
    "    );\n",
    "    CREATE INDEX idx_fingerprints_hash ON fingerprints(hash);\n",
    "    \"\"\""
   ],
   "id": "4a682f9969a51bd4",
   "outputs": [],
   "execution_count": 6
  },
  {
   "metadata": {
    "ExecuteTime": {
     "end_time": "2025-05-26T23:00:25.616290Z",
     "start_time": "2025-05-26T23:00:25.357297Z"
    }
   },
   "cell_type": "code",
   "source": [
    "with conn.cursor() as cursor:\n",
    "    cursor.execute(create_table_query)\n",
    "    conn.commit()\n",
    "    print(\"Fingerprints table created successfully.\")"
   ],
   "id": "424670067047ab58",
   "outputs": [
    {
     "name": "stdout",
     "output_type": "stream",
     "text": [
      "Fingerprints table created successfully.\n"
     ]
    }
   ],
   "execution_count": 28
  },
  {
   "metadata": {
    "ExecuteTime": {
     "end_time": "2025-06-03T18:48:06.906991Z",
     "start_time": "2025-06-03T18:47:59.752303Z"
    }
   },
   "cell_type": "code",
   "source": [
    "from src.abracadabra.GCPFingerprintDB import GCPFingerprintDB\n",
    "\n",
    "db = GCPFingerprintDB()\n",
    "db.show_table()"
   ],
   "id": "3bafb94404f81c28",
   "outputs": [
    {
     "name": "stdout",
     "output_type": "stream",
     "text": [
      "(1, 'In Da Club')\n",
      "(2, 'In Da Club - Single Version / Edit')\n",
      "(3, 'Just A Lil Bit')\n",
      "(4, 'P.I.M.P.')\n",
      "(5, 'Window Shopper')\n",
      "(6, 'Back In Black')\n",
      "(7, 'Dirty Deeds Done Dirt Cheap')\n",
      "(8, 'Heatseeker')\n",
      "(9, 'High Voltage')\n",
      "(10, 'Highway to Hell')\n",
      "(11, \"It's a Long Way to the Top (If You Wanna Rock 'N' Roll)\")\n",
      "(12, 'Jailbreak')\n",
      "(13, \"Rock and Roll Ain't Noise Pollution\")\n",
      "(14, 'Shoot to Thrill')\n",
      "(15, 'T.N.T.')\n",
      "(16, 'Thunderstruck')\n",
      "(17, 'Who Made Who')\n",
      "(18, 'You Shook Me All Night Long')\n",
      "(19, 'Chasing Pavements')\n",
      "(20, \"Don't You Remember\")\n",
      "(21, 'Easy On Me')\n",
      "(22, \"He Won't Go\")\n",
      "(23, 'Hello')\n",
      "(24, 'Love In The Dark')\n",
      "(25, 'Make You Feel My Love')\n",
      "(26, 'Million Years Ago')\n",
      "(27, 'One and Only')\n",
      "(28, 'Remedy')\n",
      "(29, 'Rolling in the Deep')\n",
      "(30, 'Rumour Has It')\n",
      "(31, 'Send My Love (To Your New Lover)')\n",
      "(32, 'Set Fire to the Rain')\n",
      "(33, 'Skyfall')\n",
      "(34, 'Someone Like You')\n",
      "(35, 'Sweetest Devotion')\n",
      "(36, 'Take It All')\n",
      "(37, 'Turning Tables')\n",
      "(38, 'Water Under The Bridge')\n",
      "(39, 'When We Were Young')\n",
      "(40, 'Alone')\n",
      "(41, 'Faded')\n",
      "(42, 'Brand New Me')\n",
      "(43, \"Doesn't Mean Anything\")\n",
      "(44, 'Empire State of Mind (Part II) Broken Down')\n",
      "(45, \"Fallin'\")\n",
      "(46, 'Girl On Fire')\n",
      "(47, 'Hallelujah')\n",
      "(48, 'Holy War')\n",
      "(49, \"If I Ain't Got You\")\n",
      "(50, 'More Than We Know')\n",
      "(51, 'No One')\n",
      "(52, 'One Thing')\n",
      "(53, 'Superwoman')\n",
      "(54, 'Tears Always Win')\n",
      "(55, 'Work On It')\n",
      "(56, 'No More \"I Love You\\'s\"')\n",
      "(57, 'Arabella')\n",
      "(58, 'Do I Wanna Know?')\n",
      "(59, 'I Bet You Look Good On The Dancefloor')\n",
      "(60, \"Why'd You Only Call Me When You're High?\")\n",
      "(61, 'Addicted To You')\n",
      "(62, 'Broken Arrows')\n",
      "(63, 'Fade Into Darkness - Vocal Radio Mix')\n",
      "(64, 'For A Better Day')\n",
      "(65, 'Heaven')\n",
      "(66, 'Hey Brother')\n",
      "(67, 'Levels - Radio Edit')\n",
      "(68, 'Silhouettes - Original Radio Edit')\n",
      "(69, 'The Nights')\n",
      "(70, 'Waiting For Love')\n",
      "(71, 'Wake Me Up')\n",
      "(72, 'Wake Me Up - Radio Edit')\n",
      "(73, 'You Make Me')\n",
      "(74, 'Butter')\n",
      "(75, 'Dynamite')\n",
      "(76, 'BREAK MY SOUL')\n",
      "(77, 'Best Thing I Never Had')\n",
      "(78, 'Broken-Hearted Girl')\n",
      "(79, 'Halo')\n",
      "(80, 'Hold Up')\n",
      "(81, 'If I Were a Boy')\n",
      "(82, 'Irreplaceable')\n",
      "(83, 'Love On Top')\n",
      "(84, 'Naughty Girl')\n",
      "(85, 'Run the World (Girls)')\n",
      "(86, 'Single Ladies (Put a Ring on It)')\n",
      "(87, 'Sweet Dreams')\n",
      "(88, 'XO')\n",
      "(89, 'Lost Cause')\n",
      "(90, 'NDA')\n",
      "(91, 'Therefore I Am')\n",
      "(92, 'Your Power')\n",
      "(93, 'all the good girls go to hell')\n",
      "(94, 'bad guy')\n",
      "(95, 'bury a friend')\n",
      "(96, 'everything i wanted')\n",
      "(97, \"when the party's over\")\n",
      "(98, 'wish you were gay')\n",
      "(99, 'BIG LOVE')\n",
      "(100, 'Boom Boom Pow')\n",
      "(101, \"Don't Lie\")\n",
      "(102, \"Don't Phunk With My Heart\")\n",
      "(103, 'Don’t Stop The Party')\n",
      "(104, 'Hey Mama')\n",
      "(105, 'I Gotta Feeling')\n",
      "(106, 'Imma Be')\n",
      "(107, 'Just Can’t Get Enough')\n",
      "(108, \"Let's Get It Started\")\n",
      "(109, \"Let's Get It Started - Spike Mix\")\n",
      "(110, 'Meet Me Halfway')\n",
      "(111, 'My Humps')\n",
      "(112, 'Pump It')\n",
      "(113, 'Rock That Body')\n",
      "(114, 'Shut Up')\n",
      "(115, 'The Time (Dirty Bit)')\n",
      "(116, 'Where Is The Love?')\n",
      "(117, \"Blowin' in the Wind\")\n",
      "(118, 'Forever Young - Fast Version')\n",
      "(119, 'Hurricane')\n",
      "(120, \"Knockin' On Heaven's Door\")\n",
      "(121, 'Like a Rolling Stone')\n",
      "(122, 'Mr. Tambourine Man')\n",
      "(123, \"The Times They Are A-Changin'\")\n",
      "(124, 'Always')\n",
      "(125, 'Bad Medicine')\n",
      "(126, 'Bed Of Roses')\n",
      "(127, 'Have A Nice Day')\n",
      "(128, \"I'll Be There For You\")\n",
      "(129, 'In These Arms')\n",
      "(130, \"It's My Life\")\n",
      "(131, 'Keep The Faith')\n",
      "(258, 'In My Feelings')\n"
     ]
    }
   ],
   "execution_count": 1
  },
  {
   "metadata": {
    "ExecuteTime": {
     "end_time": "2025-06-03T18:48:08.483129Z",
     "start_time": "2025-06-03T18:48:08.263305Z"
    }
   },
   "cell_type": "code",
   "source": "print(db.load_tracks_from_db())",
   "id": "13b2b13ed0f3caa6",
   "outputs": [
    {
     "name": "stdout",
     "output_type": "stream",
     "text": [
      "[(94, 'bad guy', 'https://www.youtube.com/watch?v=DyDfgMOUjCI'), (95, 'bury a friend', 'https://www.youtube.com/watch?v=HUHC9tYz8ik'), (96, 'everything i wanted', 'https://www.youtube.com/watch?v=EgBJmlPo8Xw'), (97, \"when the party's over\", 'https://www.youtube.com/watch?v=pbMwTqkKSps'), (98, 'wish you were gay', 'https://www.youtube.com/watch?v=yaJx0Gj_LCY'), (99, 'BIG LOVE', 'https://www.youtube.com/watch?v=rPmcLzgnlo8'), (100, 'Boom Boom Pow', 'https://www.youtube.com/watch?v=4m48GqaOz90'), (101, \"Don't Lie\", 'https://www.youtube.com/watch?v=WbJNkH-pDd8'), (102, \"Don't Phunk With My Heart\", 'https://www.youtube.com/watch?v=P4Bda6_usuc'), (103, 'Don’t Stop The Party', 'https://www.youtube.com/watch?v=u9LH_y159sg'), (104, 'Hey Mama', 'https://www.youtube.com/watch?v=rtczBseiAac'), (105, 'I Gotta Feeling', 'https://www.youtube.com/watch?v=uSD4vsh1zDA'), (106, 'Imma Be', 'https://www.youtube.com/watch?v=kdAj-dBNCi4'), (107, 'Just Can’t Get Enough', 'https://www.youtube.com/watch?v=OrTyD7rjBpw'), (258, 'In My Feelings', 'https://www.youtube.com/watch?v=DRS_PpOrUZ4'), (108, \"Let's Get It Started\", 'https://www.youtube.com/watch?v=IKqV7DB8Iwg'), (109, \"Let's Get It Started - Spike Mix\", 'https://www.youtube.com/watch?v=IKqV7DB8Iwg'), (110, 'Meet Me Halfway', 'https://www.youtube.com/watch?v=I7HahVwYpwo'), (111, 'My Humps', 'https://www.youtube.com/watch?v=iEe_eraFWWs'), (112, 'Pump It', 'https://www.youtube.com/watch?v=ZaI2IlHwmgQ'), (113, 'Rock That Body', 'https://www.youtube.com/watch?v=nmnjL26OBcY'), (114, 'Shut Up', 'https://www.youtube.com/watch?v=KRzMtlZjXpU'), (115, 'The Time (Dirty Bit)', 'https://www.youtube.com/watch?v=JwQZQygg3Lk'), (116, 'Where Is The Love?', 'https://www.youtube.com/watch?v=WpYeekQkAdc'), (117, \"Blowin' in the Wind\", 'https://www.youtube.com/watch?v=MMFj8uDubsE'), (118, 'Forever Young - Fast Version', 'https://www.youtube.com/watch?v=5wBp_DBNE2I'), (119, 'Hurricane', 'https://www.youtube.com/watch?v=bpZvg_FjL3Q'), (120, \"Knockin' On Heaven's Door\", 'https://www.youtube.com/watch?v=rm9coqlk8fY'), (121, 'Like a Rolling Stone', 'https://www.youtube.com/watch?v=IwOfCgkyEj0'), (122, 'Mr. Tambourine Man', 'https://www.youtube.com/watch?v=oecX_1pqxk0'), (123, \"The Times They Are A-Changin'\", 'https://www.youtube.com/watch?v=90WD_ats6eE'), (124, 'Always', 'https://www.youtube.com/watch?v=9BMwcO6_hyA'), (125, 'Bad Medicine', 'https://www.youtube.com/watch?v=eOUtsybozjg'), (126, 'Bed Of Roses', 'https://www.youtube.com/watch?v=NvR60Wg9R7Q'), (127, 'Have A Nice Day', 'https://www.youtube.com/watch?v=uCg2BoKiuOM'), (128, \"I'll Be There For You\", 'https://www.youtube.com/watch?v=mh8MIp2FOhc'), (129, 'In These Arms', 'https://www.youtube.com/watch?v=59NoqP02ZYM'), (130, \"It's My Life\", 'https://www.youtube.com/watch?v=vx2u5uUu3DE'), (131, 'Keep The Faith', 'https://www.youtube.com/watch?v=eZQyVUTcpM4'), (132, \"Livin' On A Prayer\", 'https://www.youtube.com/watch?v=lDK9QqIzhwk'), (133, \"Say It Isn't So\", 'https://www.youtube.com/watch?v=GRSB-QZHpXM'), (134, 'Shot Through The Heart', 'https://www.youtube.com/watch?v=9CUm15MA62Q'), (135, \"This Ain't A Love Song\", 'https://www.youtube.com/watch?v=-nlDy6h-v9c'), (136, 'Wanted Dead Or Alive', 'https://www.youtube.com/watch?v=SRvCvsRp5ho'), (137, 'You Give Love A Bad Name', 'https://www.youtube.com/watch?v=KrZHPOeOxQQ'), (138, '(You Drive Me) Crazy', 'https://www.youtube.com/watch?v=Q4VK9_CfOLQ'), (139, '...Baby One More Time', 'https://www.youtube.com/watch?v=C-u5WLJ9Yk4'), (140, '3', 'https://www.youtube.com/watch?v=oTs6oQx1WJY'), (141, 'Circus', 'https://www.youtube.com/watch?v=lVhJ_A8XUgc'), (142, 'Circus - Remastered', 'https://www.youtube.com/watch?v=lVhJ_A8XUgc'), (143, \"Do Somethin'\", 'https://www.youtube.com/watch?v=Bb1ad7r5oN8'), (144, 'Everytime', 'https://www.youtube.com/watch?v=8YzabSdk7ZA'), (145, 'From the Bottom of My Broken Heart', 'https://www.youtube.com/watch?v=fHPnGqXXUmI'), (146, 'Gimme More', 'https://www.youtube.com/watch?v=elueA2rofoo'), (147, 'Hold It Against Me', 'https://www.youtube.com/watch?v=-Edv8Onsrgg'), (148, \"I Love Rock 'N' Roll\", 'https://www.youtube.com/watch?v=ITuOddPeYoc'), (149, \"I'm Not a Girl, Not Yet a Woman\", 'https://www.youtube.com/watch?v=IlV7RhT6zHs'), (150, \"I'm a Slave 4 U\", 'https://www.youtube.com/watch?v=Mzybwwf2HoQ'), (151, 'If U Seek Amy', 'https://www.youtube.com/watch?v=0aEnnH6t8Ts'), (152, 'Lucky', 'https://www.youtube.com/watch?v=4vvBAONkYwI'), (153, 'My Prerogative - Remastered', 'https://www.youtube.com/watch?v=fV0uCYp6zAg'), (154, 'Oops!...I Did It Again', 'https://www.youtube.com/watch?v=CduA0TULnow'), (155, 'Piece of Me', 'https://www.youtube.com/watch?v=u4FF6MpcsRw'), (156, 'Sometimes', 'https://www.youtube.com/watch?v=t0bPrt69rag'), (157, 'Stronger', 'https://www.youtube.com/watch?v=AJWtLf4-WWs'), (158, 'Till the World Ends', 'https://www.youtube.com/watch?v=qzU9OrZlKb8'), (159, 'Toxic', 'https://www.youtube.com/watch?v=LOZuxwVk7TU'), (160, 'Womanizer', 'https://www.youtube.com/watch?v=rMqayQ-U74s'), (161, '24K Magic', 'https://www.youtube.com/watch?v=UqyT8IEBkvY'), (162, 'Chunky', 'https://www.youtube.com/watch?v=oacaq_1TkMU'), (163, 'Count on Me', 'https://www.youtube.com/watch?v=6k8cpUkKK4c'), (164, 'Grenade', 'https://www.youtube.com/watch?v=SR6iYWJxHqs'), (165, 'Grenade - Acoustic', 'https://www.youtube.com/watch?v=NPRmJwSOsLY'), (166, 'If I Knew', 'https://www.youtube.com/watch?v=9YZpng2PL34'), (167, 'It Will Rain', 'https://www.youtube.com/watch?v=W-w3WfgpcGg'), (168, 'Just the Way You Are', 'https://www.youtube.com/watch?v=LjhCEhWiKXk'), (169, 'Locked out of Heaven', 'https://www.youtube.com/watch?v=e-fA-gBCkj0'), (170, 'Marry You', 'https://www.youtube.com/watch?v=dElRVQFqj-k'), (171, 'Talking to the Moon', 'https://www.youtube.com/watch?v=P-FrQnI3slU'), (172, \"That's What I Like\", 'https://www.youtube.com/watch?v=PMivT7MJ41M'), (173, 'The Lazy Song', 'https://www.youtube.com/watch?v=fLexgOxsZu0'), (174, 'Treasure', 'https://www.youtube.com/watch?v=nPvuNsRccVw'), (175, 'Versace on the Floor', 'https://www.youtube.com/watch?v=-FyjEnoIgTM'), (176, 'When I Was Your Man', 'https://www.youtube.com/watch?v=ekzHIouo8Q4'), (177, '(Everything I Do) I Do It For You', 'https://www.youtube.com/watch?v=Y0pdQU87dc8'), (178, \"Can't Stop This Thing We Started\", 'https://www.youtube.com/watch?v=lP4Nnek6DCo'), (179, 'Have You Ever Really Loved A Woman?', 'https://www.youtube.com/watch?v=diKIYv8tMC8'), (180, 'Heaven', 'https://www.youtube.com/watch?v=s6TtwR2Dbjg'), (181, \"Let's Make A Night To Remember\", 'https://www.youtube.com/watch?v=Xm9GlSbxy78'), (182, 'Please Forgive Me', 'https://www.youtube.com/watch?v=9EHAo6rEuas'), (183, 'Run To You', 'https://www.youtube.com/watch?v=nCBASt507WA'), (184, \"Summer Of '69\", 'https://www.youtube.com/watch?v=eFjjO_lhf9c'), (185, 'The Only Thing That Looks Good On Me Is You', 'https://www.youtube.com/watch?v=onn8x-qDrtg'), (186, \"Thought I'd Died And Gone To Heaven\", 'https://www.youtube.com/watch?v=CTfIr_euGTs'), (187, \"Acceptable in the 80's\", 'https://www.youtube.com/watch?v=dOV5WXISM24'), (188, 'Feel So Close - Radio Edit', 'https://www.youtube.com/watch?v=R8egmh5dWzo'), (189, 'Flashback', 'https://www.youtube.com/watch?v=D2_qw8O5lf0'), (190, \"I'm Not Alone - Radio Edit\", 'https://www.youtube.com/watch?v=wkczQYC_8TQ'), (191, 'My Way', 'https://www.youtube.com/watch?v=b4Bj7Zb-YD4'), (192, 'Ready for the Weekend', 'https://www.youtube.com/watch?v=XO4msvIA7cw'), (193, 'Summer', 'https://www.youtube.com/watch?v=ebXbLfLACGM'), (194, 'The Girls - Radio Edit', 'https://www.youtube.com/watch?v=qLpaHAxBe3A'), (195, 'You Used to Hold Me', 'https://www.youtube.com/watch?v=mf58RAPR8Ws'), (196, \"Don't Go Yet\", 'https://www.youtube.com/watch?v=0Kx3sobEBFE'), (197, 'Never Be the Same', 'https://www.youtube.com/watch?v=Ph54wQG8ynk'), (198, 'Shameless', 'https://www.youtube.com/watch?v=Fp_P_e1cPOE'), (199, 'Up', 'https://www.youtube.com/watch?v=rCiBgLOcuKU'), (200, \"Ain't No Other Man\", 'https://www.youtube.com/watch?v=8x7Ta89QLo4'), (201, 'Beautiful', 'https://www.youtube.com/watch?v=eAfyFTzZDMM'), (202, 'Candyman', 'https://www.youtube.com/watch?v=-ScjucUV8v0'), (203, 'Come on over Baby (All I Want Is You) - Radio Version', 'https://www.youtube.com/watch?v=0RQDIJ2CvbA'), (204, 'Fighter', 'https://www.youtube.com/watch?v=PstrAfoMKlc'), (205, 'Genie In a Bottle', 'https://www.youtube.com/watch?v=kIDWgqDBNXA'), (206, 'Genie in a Bottle', 'https://www.youtube.com/watch?v=kIDWgqDBNXA'), (207, 'Hurt', 'https://www.youtube.com/watch?v=wwCykGDEp7M'), (208, 'Impossible', 'https://www.youtube.com/watch?v=XZSVNm0t3OM'), (209, \"Keeps Gettin' Better\", 'https://www.youtube.com/watch?v=gkPxgUshpec'), (210, 'What a Girl Wants', 'https://www.youtube.com/watch?v=hpspGHeLOPE'), (211, 'A Sky Full of Stars', 'https://www.youtube.com/watch?v=VPRjCeoBqrI'), (212, 'Adventure of a Lifetime', 'https://www.youtube.com/watch?v=QtXby3twMmI'), (213, 'Charlie Brown', 'https://www.youtube.com/watch?v=zTFBJgnNgU4'), (214, 'Clocks', 'https://www.youtube.com/watch?v=d020hcWA_Wg'), (215, 'Every Teardrop Is a Waterfall', 'https://www.youtube.com/watch?v=fyMhvkC3A84'), (216, 'Fix You', 'https://www.youtube.com/watch?v=k4V3Mo61fJM'), (217, 'God Put a Smile upon Your Face', 'https://www.youtube.com/watch?v=qhIVgSoJVRc'), (218, 'Higher Power', 'https://www.youtube.com/watch?v=3lfnR7OhZY8'), (219, 'Hymn for the Weekend', 'https://www.youtube.com/watch?v=YykjpeuMNEk'), (220, 'In My Place', 'https://www.youtube.com/watch?v=gnIZ7RMuLpU'), (221, 'Life in Technicolor ii', 'https://www.youtube.com/watch?v=fXSovfzyx28'), (222, 'Lost!', 'https://www.youtube.com/watch?v=Pkgeai985rA'), (223, 'Lovers in Japan', 'https://www.youtube.com/watch?v=OTFFQkdhw6Q'), (224, 'Magic', 'https://www.youtube.com/watch?v=Qtb11P1FWnc'), (225, 'Paradise', 'https://www.youtube.com/watch?v=1G4isv_Fylg'), (226, 'Speed of Sound', 'https://www.youtube.com/watch?v=0k_1kvDh2UA'), (227, 'The Scientist', 'https://www.youtube.com/watch?v=RB-RcX5DS5A'), (228, 'Violet Hill', 'https://www.youtube.com/watch?v=IakDItZ7f7Q'), (229, 'Viva La Vida', 'https://www.youtube.com/watch?v=dvgZkm1xWPE'), (230, 'Yellow', 'https://www.youtube.com/watch?v=yKNxeF4KMsY'), (231, 'Gasolina', 'https://www.youtube.com/watch?v=CCF1_jI8Prk'), (232, 'Around the World', 'https://www.youtube.com/watch?v=K0HSD_i2DvA'), (233, 'Around the World - Radio Edit [Radio Edit]', 'https://www.youtube.com/watch?v=ARfJ55bUAw0'), (234, 'Da Funk - Radio Edit', 'https://www.youtube.com/watch?v=tqzDYO4N5rg'), (235, 'One More Time', 'https://www.youtube.com/watch?v=FGBhQbmPwH8'), (236, 'One More Time - Radio Edit [Short Radio Edit]', 'https://www.youtube.com/watch?v=WYhv-hR6Q2U'), (237, 'Absolute Beginners - 2002 Remaster', 'https://www.youtube.com/watch?v=iCJLOXqnT2I'), (238, 'Ashes to Ashes - 2017 Remaster', 'https://www.youtube.com/watch?v=wBDD37Xv6A0'), (239, 'Cat People (Putting Out Fire) - 2018 Remaster', 'https://www.youtube.com/watch?v=m0ODoeBc04g'), (240, 'Heroes - 2017 Remaster', 'https://www.youtube.com/watch?v=44FId4BpMx0'), (241, \"Let's Dance - Single Version, 2014 Remaster\", 'https://www.youtube.com/watch?v=Ye9WohDqHEc'), (242, 'Modern Love - 1999 Remaster', 'https://www.youtube.com/watch?v=cHzVjGBxOJs'), (243, 'Rebel Rebel - 2016 Remaster', 'https://www.youtube.com/watch?v=DJxCsVcZL2I'), (244, 'Sorrow - 2015 Remaster', 'https://www.youtube.com/watch?v=RmQ2OJgzkMg'), (245, 'Space Oddity - 2009 Remastered Version', 'https://www.youtube.com/watch?v=tRNpjt29n6Y'), (246, 'Space Oddity - 2015 Remaster', 'https://www.youtube.com/watch?v=iYYRH4apXDo'), (247, 'Bang My Head (feat. Sia & Fetty Wap)', 'https://www.youtube.com/watch?v=qqjVwAg5fK4'), (248, 'Shot Me Down (feat. Skylar Grey) - Radio Edit', 'https://www.youtube.com/watch?v=ZL4VBzz5kH4'), (249, \"This One's for You (feat. Zara Larsson) (Official Song UEFA EURO 2016)\", 'https://www.youtube.com/watch?v=MoHnffhBwqs'), (250, 'What I Did for Love (feat. Emeli Sandé)', 'https://www.youtube.com/watch?v=Yt_myLDSdsY'), (251, 'Where Them Girls At (feat. Nicki Minaj & Flo Rida)', 'https://www.youtube.com/watch?v=p4kVWCSzfK4'), (252, 'Boss Bitch', 'https://www.youtube.com/watch?v=RsW66teC0BQ'), (253, 'Say So', 'https://www.youtube.com/watch?v=pok8H_KF1FA'), (254, 'Streets', 'https://www.youtube.com/watch?v=jJdlgKzVsnI'), (255, 'Controlla', 'https://www.youtube.com/watch?v=PsW85VbSau0'), (256, \"God's Plan\", 'https://www.youtube.com/watch?v=xpVfcZ0ZcFM'), (257, 'Hotline Bling', 'https://www.youtube.com/watch?v=uxpDa-c-4Mc'), (259, 'Toosie Slide', 'https://www.youtube.com/watch?v=xWggTb45brM'), (260, 'Be the One', 'https://www.youtube.com/watch?v=-rey3m8SWQI'), (261, 'Blow Your Mind (Mwah)', 'https://www.youtube.com/watch?v=1nydxbGhgv8'), (262, 'Break My Heart', 'https://www.youtube.com/watch?v=Nj2U6rhnucI'), (263, 'Dance The Night (From Barbie The Album)', 'https://www.youtube.com/watch?v=OiC1rgCPmUQ'), (264, \"Don't Start Now\", 'https://www.youtube.com/watch?v=oygrmJFKYZY'), (265, 'Hallucinate', 'https://www.youtube.com/watch?v=qcZ7e9EOQTY'), (266, 'Hotter Than Hell', 'https://www.youtube.com/watch?v=fEOyePhElr4'), (267, 'IDGAF', 'https://www.youtube.com/watch?v=Mgfe5tIwOj0'), (268, 'Levitating', 'https://www.youtube.com/watch?v=TUVcZfQe-Kw'), (269, 'Love Again', 'https://www.youtube.com/watch?v=BC19kwABFwc'), (270, 'New Rules', 'https://www.youtube.com/watch?v=k2qgadSvNyU'), (271, 'Physical', 'https://www.youtube.com/watch?v=9HDEHj2yzew'), (272, 'Swan Song - From the Motion Picture \"Alita: Battle Angel\"', 'https://www.youtube.com/watch?v=kO8fTk6oKQg'), (273, \"We're Good\", 'https://www.youtube.com/watch?v=jr47YisIsz8'), (274, 'Afire Love', 'https://www.youtube.com/watch?v=JznXx1Ns374'), (275, 'Afterglow', 'https://www.youtube.com/watch?v=_NGQfFCFUn4'), (276, 'All of the Stars', 'https://www.youtube.com/watch?v=nkqVm5aiC28'), (277, 'Bad Habits', 'https://www.youtube.com/watch?v=orJSJGHjBLI'), (278, 'Bloodstream', 'https://www.youtube.com/watch?v=XIJHg1XWR7o'), (279, 'Castle on the Hill', 'https://www.youtube.com/watch?v=K0ibBPhiaG0'), (280, 'Celestial', 'https://www.youtube.com/watch?v=23g5HBOg3Ic'), (281, 'Dive', 'https://www.youtube.com/watch?v=Wv2rLZmbPMA'), (282, \"Don't\", 'https://www.youtube.com/watch?v=3TqGEbROFd4'), (283, 'Drunk', 'https://www.youtube.com/watch?v=G2fOum_KWQU'), (284, 'Eyes Closed', 'https://www.youtube.com/watch?v=myZistq5lRM'), (285, 'Firefly', 'https://www.youtube.com/watch?v=JigjU373SKY'), (286, 'Galway Girl', 'https://www.youtube.com/watch?v=87gWaABqGYs'), (287, 'Happier', 'https://www.youtube.com/watch?v=iWZmdoY1aTE'), (288, 'How Would You Feel (Paean)', 'https://www.youtube.com/watch?v=ZZMZiBCRX4c'), (289, 'I See Fire - From \"The Hobbit - The Desolation Of Smaug\"', 'https://www.youtube.com/watch?v=LKCojXWLNEM'), (290, 'Kiss Me', 'https://www.youtube.com/watch?v=Q5k3uNlKtBw'), (291, 'Lego House', 'https://www.youtube.com/watch?v=c4BLVznuWnU'), (292, 'New York', 'https://www.youtube.com/watch?v=K3JU_VM-9xI'), (293, 'One', 'https://www.youtube.com/watch?v=Ix9NXVIbm2A'), (294, 'Overpass Graffiti', 'https://www.youtube.com/watch?v=k6ZoE4RrcDs'), (295, 'Perfect', 'https://www.youtube.com/watch?v=2Vv-BfVoq4g'), (296, 'Photograph', 'https://www.youtube.com/watch?v=KKQl-pIRQMY'), (297, 'Runaway', 'https://www.youtube.com/watch?v=cgMd5YGTSCM'), (298, 'Shape of You', 'https://www.youtube.com/watch?v=JGwWNGJdvx8'), (299, 'She', 'https://www.youtube.com/watch?v=2lPEWlZ3ZCg'), (300, 'Shivers', 'https://www.youtube.com/watch?v=Il0S8BoucSA'), (301, 'Sing', 'https://www.youtube.com/watch?v=tlYcUqEPN58'), (302, 'Small Bump', 'https://www.youtube.com/watch?v=A_af256mnTE'), (303, 'Tenerife Sea', 'https://www.youtube.com/watch?v=2tHes1FQfwU'), (304, 'The A Team', 'https://www.youtube.com/watch?v=UAWcs5H-qgQ'), (305, 'Thinking out Loud', 'https://www.youtube.com/watch?v=lp-EO5I60KA'), (306, 'Visiting Hours', 'https://www.youtube.com/watch?v=pVqX2u6YWqI'), (307, 'What Do I Know?', 'https://www.youtube.com/watch?v=6B9J3lEyffA'), (308, 'Blue Eyes - Remastered 2003', 'https://www.youtube.com/watch?v=4CiyKeSnSxk'), (309, 'Can You Feel The Love Tonight', 'https://www.youtube.com/watch?v=KjgWWjkNbhU'), (310, 'Can You Feel the Love Tonight - End Title/ From \"The Lion King\"/Soundtrack Version', 'https://www.youtube.com/watch?v=KjgWWjkNbhU'), (311, 'Candle In The Wind', 'https://www.youtube.com/watch?v=MYU3F8uUGiw'), (312, 'Candle In The Wind 1997', 'https://www.youtube.com/watch?v=sxb0GeS4gL8'), (313, 'Crocodile Rock', 'https://www.youtube.com/watch?v=75r0nQu-hMs'), (314, 'Daniel', 'https://www.youtube.com/watch?v=-9xib-hCm6c'), (315, 'Goodbye Yellow Brick Road - Remastered 2014', 'https://www.youtube.com/watch?v=wy709iNG6i8'), (316, 'Healing Hands', 'https://www.youtube.com/watch?v=ImP5gvqFrnA'), (317, 'Heartache All Over The World', 'https://www.youtube.com/watch?v=M2t245xfa3E'), (318, \"I Don't Wanna Go On With You Like That\", 'https://www.youtube.com/watch?v=kaJRvZZBnX8'), (319, \"I Guess That's Why They Call It The Blues\", 'https://www.youtube.com/watch?v=h6KYAVn8ons'), (320, \"I'm Still Standing\", 'https://www.youtube.com/watch?v=ZHwVBirqD2s'), (321, 'Kiss The Bride', 'https://www.youtube.com/watch?v=tkmwVDLMZNk'), (322, 'Little Jeannie', 'https://www.youtube.com/watch?v=n4q6bVQUSrc'), (323, 'Lucy In The Sky With Diamonds', 'https://www.youtube.com/watch?v=5EOFnnBQjp8'), (324, 'Nikita', 'https://www.youtube.com/watch?v=Tg-Q-Acv4qs'), (325, 'Part Time Love', 'https://www.youtube.com/watch?v=Xfz_nBGxukM'), (326, 'Passengers', 'https://www.youtube.com/watch?v=EB86UzewPdo'), (327, 'Philadelphia Freedom', 'https://www.youtube.com/watch?v=sOF6_kHBkyg'), (328, \"Rocket Man (I Think It's Going To Be A Long, Long Time)\", 'https://www.youtube.com/watch?v=DtVBCG6ThDk'), (329, 'Sacrifice', 'https://www.youtube.com/watch?v=NrLkTZrPZA4'), (330, 'Sad Songs (Say So Much)', 'https://www.youtube.com/watch?v=X23v5_K7cXk'), (331, 'Something About The Way You Look Tonight - Edit Version', 'https://www.youtube.com/watch?v=B93Tir6l5FA'), (332, 'Song For Guy', 'https://www.youtube.com/watch?v=yJ_H28GoaCs'), (333, 'Tiny Dancer', 'https://www.youtube.com/watch?v=yYcyacLRPNs'), (334, 'Your Song', 'https://www.youtube.com/watch?v=GlPlfCy1urI'), (335, 'Ass Like That', 'https://www.youtube.com/watch?v=um4-d7VzZiE'), (336, 'Berzerk', 'https://www.youtube.com/watch?v=ab9176Srb5Y'), (337, 'Business', 'https://www.youtube.com/watch?v=P05bTId-92A'), (338, \"Cleanin' Out My Closet\", 'https://www.youtube.com/watch?v=RQ9_TKayu9s'), (339, 'Just Lose It', 'https://www.youtube.com/watch?v=9dcVOmEQzKA'), (340, 'Like Toy Soldiers', 'https://www.youtube.com/watch?v=lexLAjh8fPA'), (341, 'Lose Yourself', 'https://www.youtube.com/watch?v=7YuAzR2XVAM'), (342, 'Lose Yourself - From \"8 Mile\" Soundtrack', 'https://www.youtube.com/watch?v=Wj7lL6eDOqc'), (343, 'Mockingbird', 'https://www.youtube.com/watch?v=S9bCLPwzSC0'), (344, 'My Name Is', 'https://www.youtube.com/watch?v=sNPnbI1arSE'), (345, 'Not Afraid', 'https://www.youtube.com/watch?v=j5-yKhDd64s'), (346, 'Sing For The Moment', 'https://www.youtube.com/watch?v=D4hAVemuQXY'), (347, 'The Real Slim Shady', 'https://www.youtube.com/watch?v=eJO5HU_7_1w'), (348, 'We Made You', 'https://www.youtube.com/watch?v=RSdKmX2BH7o'), (349, \"When I'm Gone\", 'https://www.youtube.com/watch?v=1wYNFfgrXTI'), (350, 'Without Me', 'https://www.youtube.com/watch?v=YVkUvmDQ3HY'), (351, 'Bailamos', 'https://www.youtube.com/watch?v=5sye_VxmNZA'), (352, \"Don't Turn Off The Lights\", 'https://www.youtube.com/watch?v=6T7bHq9Ebg0'), (353, 'Escape', 'https://www.youtube.com/watch?v=9mQJaXwGPlg'), (354, 'Hero', 'https://www.youtube.com/watch?v=koJlIGDImiU'), (355, 'Change the World - 2015 Remaster', 'https://www.youtube.com/watch?v=wuUTF5ZLofw'), (356, 'Cocaine', 'https://www.youtube.com/watch?v=O6yeLNNVa4A'), (357, 'I Shot The Sheriff', 'https://www.youtube.com/watch?v=APWhx97QvxE'), (358, 'Layla - Acoustic; Live at MTV Unplugged, Bray Film Studios, Windsor, England, UK, 1/16/1992; 2013 Remaster', 'https://www.youtube.com/watch?v=Mm7GWGppDgg'), (359, 'Tears In Heaven', 'https://www.youtube.com/watch?v=JxPj3GAYYZ0'), (360, 'Bring Me To Life', 'https://www.youtube.com/watch?v=3YxaaGgTQYM'), (361, \"Call Me When You're Sober\", 'https://www.youtube.com/watch?v=_RrA-R5VHQs'), (362, \"Everybody's Fool\", 'https://www.youtube.com/watch?v=jhC1pI76Rqo'), (363, 'Going Under', 'https://www.youtube.com/watch?v=CdhqVtpR2ts'), (364, 'Lithium', 'https://www.youtube.com/watch?v=PJGpsL_XYQI'), (365, 'My Immortal', 'https://www.youtube.com/watch?v=5anLPw0Efmo'), (366, '\"The Take Over, The Breaks Over\"', 'https://www.youtube.com/watch?v=aVbPvf2aYH4'), (367, 'Centuries', 'https://www.youtube.com/watch?v=LBr7kECsjcQ'), (368, \"I Don't Care\", 'https://www.youtube.com/watch?v=Alh6iIvVN9o'), (369, \"She's My Winona\", 'https://www.youtube.com/watch?v=V2b2PURkg40'), (370, \"Sugar, We're Goin Down\", 'https://www.youtube.com/watch?v=uhG-vLZrb-g'), (371, \"This Ain't A Scene, It's An Arms Race\", 'https://www.youtube.com/watch?v=GNm5drtAQXs'), (372, 'Thnks fr th Mmrs', 'https://www.youtube.com/watch?v=onzL0EM1pKY'), (373, 'Albatross', 'https://www.youtube.com/watch?v=fXeKi6ZkbOw'), (374, \"Don't Stop - 2004 Remaster\", 'https://www.youtube.com/watch?v=0hGhl7ki3HM'), (375, 'Dreams - 2004 Remaster', 'https://www.youtube.com/watch?v=5oWyMakvQew'), (376, 'Go Your Own Way', 'https://www.youtube.com/watch?v=oiosqtFLBBA'), (377, 'Go Your Own Way - 2004 Remaster', 'https://www.youtube.com/watch?v=DubafeFeJ7Y'), (378, 'Hold Me', 'https://www.youtube.com/watch?v=E0sha1XfHxw'), (379, 'Little Lies', 'https://www.youtube.com/watch?v=uCGD9dT12C0'), (380, 'Rhiannon', 'https://www.youtube.com/watch?v=jQAK6sVovUk'), (381, 'Sara', 'https://www.youtube.com/watch?v=9bWGy0K5VF0'), (382, 'Seven Wonders - 2017 Remaster', 'https://www.youtube.com/watch?v=4YnIs8ioHQs'), (383, 'The Chain - 2004 Remaster', 'https://www.youtube.com/watch?v=xwTPvcPYaOo'), (384, 'Tusk - 2015 Remaster', 'https://www.youtube.com/watch?v=EmuBOfurv3o'), (385, 'Best Of You', 'https://www.youtube.com/watch?v=h_L4Rixya64'), (386, 'Best of You', 'https://www.youtube.com/watch?v=h_L4Rixya64'), (387, 'Big Me', 'https://www.youtube.com/watch?v=pLdJQFTnZfA'), (388, 'Everlong', 'https://www.youtube.com/watch?v=eBG7P-K-r1Y'), (389, 'Generator', 'https://www.youtube.com/watch?v=yhERrxABD5o'), (390, 'Learn to Fly', 'https://www.youtube.com/watch?v=1VQ_3sBZEm0'), (391, 'Long Road To Ruin', 'https://www.youtube.com/watch?v=308KpFZ4cT8'), (392, 'Monkey Wrench', 'https://www.youtube.com/watch?v=I7rCNiiNPxA'), (393, 'My Hero', 'https://www.youtube.com/watch?v=EqWRaAF6_WY'), (394, 'Rope', 'https://www.youtube.com/watch?v=kbpqZT_56Ns'), (395, 'The Pretender', 'https://www.youtube.com/watch?v=SBjQ9tuuTJQ'), (396, 'These Days', 'https://www.youtube.com/watch?v=YDVAQI-4lto'), (397, 'This Is a Call', 'https://www.youtube.com/watch?v=h-Rnr3wTX9I'), (398, 'Times Like These', 'https://www.youtube.com/watch?v=rhzmNRtIp8k'), (399, 'Walk', 'https://www.youtube.com/watch?v=4PkcfQtibmU'), (400, 'Wheels', 'https://www.youtube.com/watch?v=T74CuSiZ63w'), (401, 'A Different Corner', 'https://www.youtube.com/watch?v=IPWHkK-_a_A'), (402, 'Amazing', 'https://www.youtube.com/watch?v=6YziZ1FlAWs'), (403, 'Careless Whisper', 'https://www.youtube.com/watch?v=izGwDsrQ1eQ'), (404, 'Careless Whisper - Remastered', 'https://www.youtube.com/watch?v=fyMbjVhCzw4'), (405, 'Faith - Remastered', 'https://www.youtube.com/watch?v=N61LHFFfiik'), (406, 'Fastlove, Pt. 1', 'https://www.youtube.com/watch?v=SHAQlFq6TFg'), (407, 'Father Figure - Remastered', 'https://www.youtube.com/watch?v=udtByWgt1Mk'), (408, \"Freedom! '90 - Remastered\", 'https://www.youtube.com/watch?v=diYAc7gB-0A'), (409, 'I Want Your Sex - Pts. 1 & 2 Remastered', 'https://www.youtube.com/watch?v=r3AP26ywQsQ'), (410, 'Jesus to a Child', 'https://www.youtube.com/watch?v=zNBj4EV_hAo'), (411, 'Kissing a Fool - Remastered', 'https://www.youtube.com/watch?v=omsBhh8vA7c'), (412, 'Miss Sarajevo', 'https://www.youtube.com/watch?v=CU7xwtIdyoI'), (413, 'One More Try - Live', 'https://www.youtube.com/watch?v=1bPxYmsv-Mc'), (414, 'One More Try - Remastered', 'https://www.youtube.com/watch?v=6r5Dhqaay4E'), (415, 'Outside', 'https://www.youtube.com/watch?v=gwZAYdHcDtU'), (416, 'Praying for Time - 2010 Remastered Version', 'https://www.youtube.com/watch?v=eT5_neXR3FI'), (417, 'The First Time Ever I Saw Your Face', 'https://www.youtube.com/watch?v=Na3bPzrZS-o'), (418, 'Too Funky - Remastered 2006', 'https://www.youtube.com/watch?v=AiXYgOmi2kI'), (419, 'Too Funky - Single Edit', 'https://www.youtube.com/watch?v=JAwk7yBQxDs'), (420, '19-2000', 'https://www.youtube.com/watch?v=WXR-bCF5dbM'), (421, 'Clint Eastwood', 'https://www.youtube.com/watch?v=1V_xRb0x9aw'), (422, 'DARE', 'https://www.youtube.com/watch?v=uAOR6ib95kQ'), (423, 'Feel Good Inc.', 'https://www.youtube.com/watch?v=HyHNuVaZJ-k'), (424, '21 Guns', 'https://www.youtube.com/watch?v=r00ikilDxW4'), (425, '21 Guns (feat. Rebecca Naomi Jones, Christina Sajous, Mary Faber, Stark Sands, John Gallagher Jr., Michael Esper, The American Idiot Broadway Company)', 'https://www.youtube.com/watch?v=tVJ5VvLAkw0'), (426, 'American Idiot', 'https://www.youtube.com/watch?v=Ee_uujKuJMI'), (427, 'Basket Case', 'https://www.youtube.com/watch?v=NUTGr5t3MoY'), (428, 'Boulevard of Broken Dreams', 'https://www.youtube.com/watch?v=Soa3gO7tL-c'), (429, 'Brain Stew', 'https://www.youtube.com/watch?v=UNq9gmY_Oz4'), (430, 'Good Riddance (Time of Your Life)', 'https://www.youtube.com/watch?v=CnQ8N1KacJc'), (431, \"Hitchin' a Ride\", 'https://www.youtube.com/watch?v=4Sc81yxo600'), (432, 'Holiday', 'https://www.youtube.com/watch?v=Ajxn0PKbv7I'), (433, 'Know Your Enemy', 'https://www.youtube.com/watch?v=9IclmVdWNbI'), (434, 'Longview', 'https://www.youtube.com/watch?v=42BBdzzgPNM'), (435, 'Minority', 'https://www.youtube.com/watch?v=cDBlqu6KF4k'), (436, 'The Forgotten', 'https://www.youtube.com/watch?v=5Rs2m3lhg-k'), (437, 'Wake Me up When September Ends', 'https://www.youtube.com/watch?v=NU9JoFKlaZ0'), (438, 'Warning', 'https://www.youtube.com/watch?v=eebfMFzJHNs'), (439, 'Welcome to Paradise', 'https://www.youtube.com/watch?v=1o-wiosXJB8'), (440, 'When I Come Around', 'https://www.youtube.com/watch?v=i8dh9gDzmz8'), (441, 'Bad At Love', 'https://www.youtube.com/watch?v=xdYFuCp3m9k'), (442, 'Graveyard', 'https://www.youtube.com/watch?v=rPgaYeq9NvI'), (443, 'New Americana', 'https://www.youtube.com/watch?v=b-eYbUVZedY'), (444, 'Now Or Never', 'https://www.youtube.com/watch?v=Q9jNSwmEQ3s'), (445, 'Without Me', 'https://www.youtube.com/watch?v=ZAfAud_M_mg'), (446, 'You should be sad', 'https://www.youtube.com/watch?v=8nBFqZppIF0'), (447, 'Adore You', 'https://www.youtube.com/watch?v=VF-r5TtlT9w'), (448, 'As It Was', 'https://www.youtube.com/watch?v=H5v3kku4y6Q'), (449, 'Falling', 'https://www.youtube.com/watch?v=olGSAVOkkTI'), (450, 'Golden', 'https://www.youtube.com/watch?v=P3cffdsEXXw'), (451, 'Kiwi', 'https://www.youtube.com/watch?v=9wg3v-01yKQ'), (452, 'Sign of the Times', 'https://www.youtube.com/watch?v=qN4ooNx77u0'), (453, 'Treat People With Kindness', 'https://www.youtube.com/watch?v=L0X03zR0rQk'), (454, 'Watermelon Sugar', 'https://www.youtube.com/watch?v=E07s5ZYygMg'), (455, 'Bad Liar', 'https://www.youtube.com/watch?v=I-QfPUz1es8'), (456, 'Believer', 'https://www.youtube.com/watch?v=7wtfhZwyrcc'), (457, 'Bones', 'https://www.youtube.com/watch?v=TO-_3tck2tg'), (458, 'Demons', 'https://www.youtube.com/watch?v=mWRsgZuwf_8'), (459, 'Follow You', 'https://www.youtube.com/watch?v=k3zimSRKqNw'), (460, \"It's Time\", 'https://www.youtube.com/watch?v=sENM2wA_FTg'), (461, 'Natural', 'https://www.youtube.com/watch?v=0I647GU3Jsc'), (462, 'On Top Of The World', 'https://www.youtube.com/watch?v=w5tWYmIOWGk'), (463, 'Radioactive', 'https://www.youtube.com/watch?v=ktvTqknDobU'), (464, 'Roots', 'https://www.youtube.com/watch?v=e4RMh7NLHPY'), (465, 'Thunder', 'https://www.youtube.com/watch?v=fKopy74weus'), (466, 'Whatever It Takes', 'https://www.youtube.com/watch?v=gOsM-DYAEhY'), (467, \"Ain't It Funny\", 'https://www.youtube.com/watch?v=GSLSwwkLRW0'), (468, 'Get Right', 'https://www.youtube.com/watch?v=1WIsnC-h1d0'), (469, \"I'm Real\", 'https://www.youtube.com/watch?v=zD2D6phvRRk'), (470, 'If You Had My Love', 'https://www.youtube.com/watch?v=lYfkl-HXfuU'), (471, \"Let's Get Loud\", 'https://www.youtube.com/watch?v=Q91hydQRGyM'), (472, \"Love Don't Cost a Thing\", 'https://www.youtube.com/watch?v=4kGvlESGvbs'), (473, 'Play', 'https://www.youtube.com/watch?v=tFuw-YZaTNo'), (474, 'Waiting for Tonight', 'https://www.youtube.com/watch?v=_66jPJVS4JE'), (475, \"I Think I'm in Love with You\", 'https://www.youtube.com/watch?v=U7uxf8kBBlg'), (476, 'I Wanna Love You Forever', 'https://www.youtube.com/watch?v=4bJ0F8KhhZ8'), (477, 'Take My Breath Away', 'https://www.youtube.com/watch?v=vzsz6SSS3wk'), (478, \"These Boots Are Made for Walkin'\", 'https://www.youtube.com/watch?v=DPtfsk4ETjM'), (479, 'With You', 'https://www.youtube.com/watch?v=VWl7WjAtBME'), (480, 'CAN\\'T STOP THE FEELING! (from DreamWorks Animation\\'s \"TROLLS\")', 'https://www.youtube.com/watch?v=ru0K8uYEZWw'), (481, 'Cry Me a River', 'https://www.youtube.com/watch?v=DksSPZTZES0'), (482, 'Filthy', 'https://www.youtube.com/watch?v=gA-NDZb29I4'), (483, 'FutureSex / LoveSound', 'https://www.youtube.com/watch?v=IthFGX3sKec'), (484, 'Like I Love You', 'https://www.youtube.com/watch?v=FQ3slUz7Jo8'), (485, 'LoveStoned / I Think She Knows - Radio Edit', 'https://www.youtube.com/watch?v=-_ED5aLbp4I'), (486, 'Mirrors', 'https://www.youtube.com/watch?v=uuZE_IRwLNI'), (487, 'Mirrors - Radio Edit', 'https://www.youtube.com/watch?v=I66vmchI_uU'), (488, 'Rock Your Body', 'https://www.youtube.com/watch?v=TSVHoHyErBQ'), (489, 'Señorita', 'https://www.youtube.com/watch?v=nJHYDkvRB2Y'), (490, 'SoulMate', 'https://www.youtube.com/watch?v=NxJ7O0CGzO8'), (491, 'Summer Love', 'https://www.youtube.com/watch?v=-rjhH3SMQ-0')]\n"
     ]
    }
   ],
   "execution_count": 2
  },
  {
   "metadata": {
    "ExecuteTime": {
     "start_time": "2025-06-03T19:02:32.177424Z"
    }
   },
   "cell_type": "code",
   "source": [
    "from src.abracadabra.recognize import index_all_songs\n",
    "index_all_songs(db_type=\"gcp\")"
   ],
   "id": "7b181fa0e8ee55b7",
   "outputs": [
    {
     "name": "stdout",
     "output_type": "stream",
     "text": [
      "Downloading audio from https://www.youtube.com/watch?v=DRS_PpOrUZ4...\n",
      "Downloading audio from https://www.youtube.com/watch?v=lDK9QqIzhwk...\n",
      "Downloading audio from https://www.youtube.com/watch?v=GRSB-QZHpXM...\n",
      "Downloading audio from https://www.youtube.com/watch?v=9CUm15MA62Q...\n",
      "Downloading audio from https://www.youtube.com/watch?v=-nlDy6h-v9c...\n",
      "Downloading audio from https://www.youtube.com/watch?v=SRvCvsRp5ho...\n",
      "Downloading audio from https://www.youtube.com/watch?v=KrZHPOeOxQQ...\n",
      "Downloading audio from https://www.youtube.com/watch?v=Q4VK9_CfOLQ...\n",
      "Downloading audio from https://www.youtube.com/watch?v=C-u5WLJ9Yk4...\n",
      "Downloading audio from https://www.youtube.com/watch?v=oTs6oQx1WJY...\n",
      "Downloading audio from https://www.youtube.com/watch?v=lVhJ_A8XUgc...\n",
      "Downloading audio from https://www.youtube.com/watch?v=lVhJ_A8XUgc...\n",
      "Downloading audio from https://www.youtube.com/watch?v=Bb1ad7r5oN8...\n",
      "Downloading audio from https://www.youtube.com/watch?v=8YzabSdk7ZA...\n",
      "Downloading audio from https://www.youtube.com/watch?v=fHPnGqXXUmI...\n",
      "Downloading audio from https://www.youtube.com/watch?v=elueA2rofoo...\n",
      "Downloading audio from https://www.youtube.com/watch?v=-Edv8Onsrgg...\n",
      "Downloading audio from https://www.youtube.com/watch?v=ITuOddPeYoc...\n",
      "Downloading audio from https://www.youtube.com/watch?v=IlV7RhT6zHs...\n",
      "Downloading audio from https://www.youtube.com/watch?v=Mzybwwf2HoQ...\n"
     ]
    },
    {
     "name": "stderr",
     "output_type": "stream",
     "text": [
      "  0%|          | 0/360 [00:00<?, ?it/s]WARNING: [youtube] ITuOddPeYoc: Some tv client https formats have been skipped as they are DRM protected. The current session may have an experiment that applies DRM to all videos on the tv client. See  https://github.com/yt-dlp/yt-dlp/issues/12563  for more details.\n",
      "WARNING: [youtube] lDK9QqIzhwk: Some tv client https formats have been skipped as they are DRM protected. The current session may have an experiment that applies DRM to all videos on the tv client. See  https://github.com/yt-dlp/yt-dlp/issues/12563  for more details.\n",
      "WARNING: [youtube] DRS_PpOrUZ4: Some tv client https formats have been skipped as they are DRM protected. The current session may have an experiment that applies DRM to all videos on the tv client. See  https://github.com/yt-dlp/yt-dlp/issues/12563  for more details.\n",
      "WARNING: [youtube] SRvCvsRp5ho: Some tv client https formats have been skipped as they are DRM protected. The current session may have an experiment that applies DRM to all videos on the tv client. See  https://github.com/yt-dlp/yt-dlp/issues/12563  for more details.\n",
      "WARNING: [youtube] elueA2rofoo: Some tv client https formats have been skipped as they are DRM protected. The current session may have an experiment that applies DRM to all videos on the tv client. See  https://github.com/yt-dlp/yt-dlp/issues/12563  for more details.\n",
      "WARNING: [youtube] DRS_PpOrUZ4: Some tv client https formats have been skipped as they are DRM protected. The current session may have an experiment that applies DRM to all videos on the tv client. See  https://github.com/yt-dlp/yt-dlp/issues/12563  for more details.\n"
     ]
    },
    {
     "name": "stdout",
     "output_type": "stream",
     "text": [
      "                                                      \r  "
     ]
    },
    {
     "name": "stderr",
     "output_type": "stream",
     "text": [
      "WARNING: [youtube] elueA2rofoo: Some web client https formats have been skipped as they are missing a url. YouTube is forcing SABR streaming for this client. See  https://github.com/yt-dlp/yt-dlp/issues/12482  for more details\n"
     ]
    },
    {
     "name": "stdout",
     "output_type": "stream",
     "text": [
      "[download]  48.9% of ~   7.01MiB at  627.04KiB/s ETA 00:13 (frag 44/92) "
     ]
    },
    {
     "name": "stderr",
     "output_type": "stream",
     "text": [
      "  0%|          | 1/360 [01:26<8:38:27, 86.65s/it]"
     ]
    },
    {
     "name": "stdout",
     "output_type": "stream",
     "text": [
      "Error indexing Wanted Dead Or Alive (ID 136): [Errno 2] No such file or directory: '../../songs/Bon Jovi - Wanted Dead Or Alive (Official Music Video).m4a'\n",
      "Downloading audio from https://www.youtube.com/watch?v=0aEnnH6t8Ts...\n",
      "[download]  56.8% of ~   7.15MiB at  750.90KiB/s ETA 00:08 (frag 53/92)Error indexing Gimme More (ID 146): [Errno 2] No such file or directory: '../../songs/Britney Spears - Gimme More (Official HD Video).m4a'\n",
      "Downloading audio from https://www.youtube.com/watch?v=4vvBAONkYwI...\n",
      "[download]  58.7% of ~   6.91MiB at  768.79KiB/s ETA 00:08 (frag 53/92)"
     ]
    },
    {
     "name": "stderr",
     "output_type": "stream",
     "text": [
      "  1%|          | 2/360 [01:27<3:34:55, 36.02s/it]"
     ]
    },
    {
     "name": "stdout",
     "output_type": "stream",
     "text": [
      "[download]  28.6% of    3.49MiB at    3.11MiB/s ETA 00:00              "
     ]
    },
    {
     "name": "stderr",
     "output_type": "stream",
     "text": [
      "  1%|          | 3/360 [01:35<2:19:48, 23.50s/it]"
     ]
    },
    {
     "name": "stdout",
     "output_type": "stream",
     "text": [
      "Error indexing In My Feelings (ID 258): [Errno 2] No such file or directory: '../../songs/Drake - In My Feelings.m4a'\n",
      "Downloading audio from https://www.youtube.com/watch?v=fV0uCYp6zAg...\n",
      "                                                      \r  "
     ]
    },
    {
     "name": "stderr",
     "output_type": "stream",
     "text": [
      "  1%|          | 4/360 [03:22<5:33:40, 56.24s/it]"
     ]
    },
    {
     "name": "stdout",
     "output_type": "stream",
     "text": [
      "Downloading audio from https://www.youtube.com/watch?v=CduA0TULnow...\n",
      "                                                      \r  "
     ]
    },
    {
     "name": "stderr",
     "output_type": "stream",
     "text": [
      "  1%|▏         | 5/360 [05:05<7:12:20, 73.07s/it]"
     ]
    },
    {
     "name": "stdout",
     "output_type": "stream",
     "text": [
      "Downloading audio from https://www.youtube.com/watch?v=u4FF6MpcsRw...\n"
     ]
    },
    {
     "name": "stderr",
     "output_type": "stream",
     "text": [
      "  2%|▏         | 6/360 [05:05<4:45:43, 48.43s/it]"
     ]
    },
    {
     "name": "stdout",
     "output_type": "stream",
     "text": [
      "Downloading audio from https://www.youtube.com/watch?v=t0bPrt69rag...\n",
      "                                                      \r  "
     ]
    },
    {
     "name": "stderr",
     "output_type": "stream",
     "text": [
      "  2%|▏         | 7/360 [05:22<3:43:01, 37.91s/it]"
     ]
    },
    {
     "name": "stdout",
     "output_type": "stream",
     "text": [
      "Downloading audio from https://www.youtube.com/watch?v=AJWtLf4-WWs...\n"
     ]
    },
    {
     "name": "stderr",
     "output_type": "stream",
     "text": [
      "  2%|▏         | 8/360 [05:22<2:32:20, 25.97s/it]"
     ]
    },
    {
     "name": "stdout",
     "output_type": "stream",
     "text": [
      "Downloading audio from https://www.youtube.com/watch?v=qzU9OrZlKb8...\n"
     ]
    },
    {
     "name": "stderr",
     "output_type": "stream",
     "text": [
      "  2%|▎         | 9/360 [05:28<1:55:39, 19.77s/it]"
     ]
    },
    {
     "name": "stdout",
     "output_type": "stream",
     "text": [
      "Downloading audio from https://www.youtube.com/watch?v=LOZuxwVk7TU...\n",
      "                                                      \r  "
     ]
    },
    {
     "name": "stderr",
     "output_type": "stream",
     "text": [
      "  3%|▎         | 10/360 [05:49<1:57:04, 20.07s/it]"
     ]
    },
    {
     "name": "stdout",
     "output_type": "stream",
     "text": [
      "Downloading audio from https://www.youtube.com/watch?v=rMqayQ-U74s...\n"
     ]
    },
    {
     "name": "stderr",
     "output_type": "stream",
     "text": [
      "WARNING: [youtube] rMqayQ-U74s: Some tv client https formats have been skipped as they are DRM protected. The current session may have an experiment that applies DRM to all videos on the tv client. See  https://github.com/yt-dlp/yt-dlp/issues/12563  for more details.\n",
      "  3%|▎         | 11/360 [05:53<1:29:01, 15.31s/it]"
     ]
    },
    {
     "name": "stdout",
     "output_type": "stream",
     "text": [
      "Downloading audio from https://www.youtube.com/watch?v=UqyT8IEBkvY...\n",
      "                                                      \r  "
     ]
    },
    {
     "name": "stderr",
     "output_type": "stream",
     "text": [
      "  3%|▎         | 12/360 [06:01<1:15:17, 12.98s/it]"
     ]
    },
    {
     "name": "stdout",
     "output_type": "stream",
     "text": [
      "Downloading audio from https://www.youtube.com/watch?v=oacaq_1TkMU...\n",
      "                                                      \r  "
     ]
    },
    {
     "name": "stderr",
     "output_type": "stream",
     "text": [
      "  4%|▎         | 13/360 [06:03<55:06,  9.53s/it]  "
     ]
    },
    {
     "name": "stdout",
     "output_type": "stream",
     "text": [
      "Downloading audio from https://www.youtube.com/watch?v=6k8cpUkKK4c...\n",
      "                                                      \r  "
     ]
    },
    {
     "name": "stderr",
     "output_type": "stream",
     "text": [
      "  4%|▍         | 14/360 [06:20<1:08:10, 11.82s/it]"
     ]
    },
    {
     "name": "stdout",
     "output_type": "stream",
     "text": [
      "Downloading audio from https://www.youtube.com/watch?v=SR6iYWJxHqs...\n"
     ]
    },
    {
     "name": "stderr",
     "output_type": "stream",
     "text": [
      "  4%|▍         | 15/360 [06:21<49:30,  8.61s/it]  "
     ]
    },
    {
     "name": "stdout",
     "output_type": "stream",
     "text": [
      "Downloading audio from https://www.youtube.com/watch?v=NPRmJwSOsLY...\n"
     ]
    },
    {
     "name": "stderr",
     "output_type": "stream",
     "text": [
      "  4%|▍         | 16/360 [06:23<39:00,  6.80s/it]"
     ]
    },
    {
     "name": "stdout",
     "output_type": "stream",
     "text": [
      "Downloading audio from https://www.youtube.com/watch?v=9YZpng2PL34...\n",
      "                                                      \r  "
     ]
    },
    {
     "name": "stderr",
     "output_type": "stream",
     "text": [
      "  5%|▍         | 17/360 [06:37<50:36,  8.85s/it]"
     ]
    },
    {
     "name": "stdout",
     "output_type": "stream",
     "text": [
      "Downloading audio from https://www.youtube.com/watch?v=W-w3WfgpcGg...\n"
     ]
    },
    {
     "name": "stderr",
     "output_type": "stream",
     "text": [
      "  5%|▌         | 18/360 [06:43<45:10,  7.93s/it]"
     ]
    },
    {
     "name": "stdout",
     "output_type": "stream",
     "text": [
      "Downloading audio from https://www.youtube.com/watch?v=LjhCEhWiKXk...\n",
      "                                                      \r  "
     ]
    },
    {
     "name": "stderr",
     "output_type": "stream",
     "text": [
      "WARNING: [youtube] LjhCEhWiKXk: Some tv client https formats have been skipped as they are DRM protected. The current session may have an experiment that applies DRM to all videos on the tv client. See  https://github.com/yt-dlp/yt-dlp/issues/12563  for more details.\n"
     ]
    },
    {
     "name": "stdout",
     "output_type": "stream",
     "text": [
      "                                                      \r                  "
     ]
    },
    {
     "name": "stderr",
     "output_type": "stream",
     "text": [
      "  5%|▌         | 19/360 [06:53<49:19,  8.68s/it]"
     ]
    },
    {
     "name": "stdout",
     "output_type": "stream",
     "text": [
      "Error indexing Just the Way You Are (ID 168): [Errno 2] No such file or directory: '../../songs/Bruno Mars - Just The Way You Are (Official Music Video).m4a'\n",
      "Downloading audio from https://www.youtube.com/watch?v=e-fA-gBCkj0...\n",
      "                                                      \r  "
     ]
    },
    {
     "name": "stderr",
     "output_type": "stream",
     "text": [
      "  6%|▌         | 20/360 [07:32<1:40:07, 17.67s/it]"
     ]
    },
    {
     "name": "stdout",
     "output_type": "stream",
     "text": [
      "Downloading audio from https://www.youtube.com/watch?v=dElRVQFqj-k...\n"
     ]
    },
    {
     "name": "stderr",
     "output_type": "stream",
     "text": [
      "  6%|▌         | 21/360 [07:36<1:17:29, 13.71s/it]"
     ]
    },
    {
     "name": "stdout",
     "output_type": "stream",
     "text": [
      "Downloading audio from https://www.youtube.com/watch?v=P-FrQnI3slU...\n",
      "[download]  30.2% of    3.31MiB at    2.20MiB/s ETA 00:01"
     ]
    },
    {
     "name": "stderr",
     "output_type": "stream",
     "text": [
      "  6%|▌         | 22/360 [07:45<1:07:59, 12.07s/it]"
     ]
    },
    {
     "name": "stdout",
     "output_type": "stream",
     "text": [
      "Downloading audio from https://www.youtube.com/watch?v=PMivT7MJ41M...\n",
      "                                                      \r  "
     ]
    },
    {
     "name": "stderr",
     "output_type": "stream",
     "text": [
      "  6%|▋         | 23/360 [07:49<55:02,  9.80s/it]  "
     ]
    },
    {
     "name": "stdout",
     "output_type": "stream",
     "text": [
      "Downloading audio from https://www.youtube.com/watch?v=fLexgOxsZu0...\n",
      "                                                      \r  "
     ]
    },
    {
     "name": "stderr",
     "output_type": "stream",
     "text": [
      "  7%|▋         | 24/360 [07:56<50:30,  9.02s/it]"
     ]
    },
    {
     "name": "stdout",
     "output_type": "stream",
     "text": [
      "Downloading audio from https://www.youtube.com/watch?v=nPvuNsRccVw...\n",
      "                                                      \r  "
     ]
    },
    {
     "name": "stderr",
     "output_type": "stream",
     "text": [
      "  7%|▋         | 25/360 [08:37<1:43:48, 18.59s/it]"
     ]
    },
    {
     "name": "stdout",
     "output_type": "stream",
     "text": [
      "Downloading audio from https://www.youtube.com/watch?v=-FyjEnoIgTM...\n",
      "                                                      \r  "
     ]
    },
    {
     "name": "stderr",
     "output_type": "stream",
     "text": [
      "  7%|▋         | 26/360 [08:49<1:31:19, 16.40s/it]"
     ]
    },
    {
     "name": "stdout",
     "output_type": "stream",
     "text": [
      "Downloading audio from https://www.youtube.com/watch?v=ekzHIouo8Q4...\n"
     ]
    },
    {
     "name": "stderr",
     "output_type": "stream",
     "text": [
      "  8%|▊         | 27/360 [08:50<1:05:58, 11.89s/it]"
     ]
    },
    {
     "name": "stdout",
     "output_type": "stream",
     "text": [
      "Downloading audio from https://www.youtube.com/watch?v=Y0pdQU87dc8...\n"
     ]
    },
    {
     "name": "stderr",
     "output_type": "stream",
     "text": [
      "  8%|▊         | 28/360 [08:53<52:00,  9.40s/it]  "
     ]
    },
    {
     "name": "stdout",
     "output_type": "stream",
     "text": [
      "Downloading audio from https://www.youtube.com/watch?v=lP4Nnek6DCo...\n"
     ]
    },
    {
     "name": "stderr",
     "output_type": "stream",
     "text": [
      "WARNING: [youtube] lP4Nnek6DCo: Some tv client https formats have been skipped as they are DRM protected. The current session may have an experiment that applies DRM to all videos on the tv client. See  https://github.com/yt-dlp/yt-dlp/issues/12563  for more details.\n"
     ]
    },
    {
     "name": "stdout",
     "output_type": "stream",
     "text": [
      "                                                      \r  "
     ]
    },
    {
     "name": "stderr",
     "output_type": "stream",
     "text": [
      "WARNING: [youtube] lP4Nnek6DCo: Some tv client https formats have been skipped as they are DRM protected. The current session may have an experiment that applies DRM to all videos on the tv client. See  https://github.com/yt-dlp/yt-dlp/issues/12563  for more details.\n"
     ]
    },
    {
     "name": "stdout",
     "output_type": "stream",
     "text": [
      "                                                      \r                  "
     ]
    },
    {
     "name": "stderr",
     "output_type": "stream",
     "text": [
      "  8%|▊         | 29/360 [09:08<1:00:39, 10.99s/it]"
     ]
    },
    {
     "name": "stdout",
     "output_type": "stream",
     "text": [
      "Error indexing Can't Stop This Thing We Started (ID 178): [Errno 2] No such file or directory: \"../../songs/Bryan Adams - Can't Stop This Thing We Started.m4a\"\n",
      "Downloading audio from https://www.youtube.com/watch?v=diKIYv8tMC8...\n",
      "[download]  22.4% of    4.45MiB at    4.79MiB/s ETA 00:00"
     ]
    },
    {
     "name": "stderr",
     "output_type": "stream",
     "text": [
      "  8%|▊         | 30/360 [09:15<53:53,  9.80s/it]  "
     ]
    },
    {
     "name": "stdout",
     "output_type": "stream",
     "text": [
      "Downloading audio from https://www.youtube.com/watch?v=s6TtwR2Dbjg...\n",
      "                                                      \r  "
     ]
    },
    {
     "name": "stderr",
     "output_type": "stream",
     "text": [
      "WARNING: [youtube] s6TtwR2Dbjg: Some tv client https formats have been skipped as they are DRM protected. The current session may have an experiment that applies DRM to all videos on the tv client. See  https://github.com/yt-dlp/yt-dlp/issues/12563  for more details.\n"
     ]
    },
    {
     "name": "stdout",
     "output_type": "stream",
     "text": [
      "                                                      \r                  "
     ]
    },
    {
     "name": "stderr",
     "output_type": "stream",
     "text": [
      "  9%|▊         | 31/360 [09:26<55:50, 10.18s/it]"
     ]
    },
    {
     "name": "stdout",
     "output_type": "stream",
     "text": [
      "Error indexing Heaven (ID 180): [Errno 2] No such file or directory: '../../songs/Bryan Adams - Heaven.m4a'\n",
      "Downloading audio from https://www.youtube.com/watch?v=Xm9GlSbxy78...\n"
     ]
    },
    {
     "name": "stderr",
     "output_type": "stream",
     "text": [
      "WARNING: [youtube] Xm9GlSbxy78: Some tv client https formats have been skipped as they are DRM protected. The current session may have an experiment that applies DRM to all videos on the tv client. See  https://github.com/yt-dlp/yt-dlp/issues/12563  for more details.\n",
      "  9%|▉         | 32/360 [09:27<40:51,  7.47s/it]"
     ]
    },
    {
     "name": "stdout",
     "output_type": "stream",
     "text": [
      "Downloading audio from https://www.youtube.com/watch?v=9EHAo6rEuas...\n"
     ]
    },
    {
     "name": "stderr",
     "output_type": "stream",
     "text": [
      "  9%|▉         | 33/360 [09:29<31:44,  5.82s/it]"
     ]
    },
    {
     "name": "stdout",
     "output_type": "stream",
     "text": [
      "Downloading audio from https://www.youtube.com/watch?v=nCBASt507WA...\n",
      "                                                      \r  "
     ]
    },
    {
     "name": "stderr",
     "output_type": "stream",
     "text": [
      "  9%|▉         | 34/360 [09:48<51:48,  9.54s/it]"
     ]
    },
    {
     "name": "stdout",
     "output_type": "stream",
     "text": [
      "Downloading audio from https://www.youtube.com/watch?v=eFjjO_lhf9c...\n",
      "[download]  30.4% of    3.28MiB at    4.51MiB/s ETA 00:00Downloading audio from https://www.youtube.com/watch?v=onn8x-qDrtg...\n"
     ]
    },
    {
     "name": "stderr",
     "output_type": "stream",
     "text": [
      " 10%|▉         | 35/360 [09:54<46:27,  8.58s/it]"
     ]
    },
    {
     "name": "stdout",
     "output_type": "stream",
     "text": [
      "                                                      \r  "
     ]
    },
    {
     "name": "stderr",
     "output_type": "stream",
     "text": [
      " 10%|█         | 36/360 [10:23<1:19:07, 14.65s/it]"
     ]
    },
    {
     "name": "stdout",
     "output_type": "stream",
     "text": [
      "Downloading audio from https://www.youtube.com/watch?v=CTfIr_euGTs...\n"
     ]
    },
    {
     "name": "stderr",
     "output_type": "stream",
     "text": [
      "WARNING: [youtube] CTfIr_euGTs: Some tv client https formats have been skipped as they are DRM protected. The current session may have an experiment that applies DRM to all videos on the tv client. See  https://github.com/yt-dlp/yt-dlp/issues/12563  for more details.\n"
     ]
    },
    {
     "name": "stdout",
     "output_type": "stream",
     "text": [
      "                                                      \r                  "
     ]
    },
    {
     "name": "stderr",
     "output_type": "stream",
     "text": [
      " 10%|█         | 37/360 [10:33<1:12:22, 13.45s/it]"
     ]
    },
    {
     "name": "stdout",
     "output_type": "stream",
     "text": [
      "Error indexing Thought I'd Died And Gone To Heaven (ID 186): [Errno 2] No such file or directory: \"../../songs/Bryan Adams - Thought I'd Died And Gone To Heaven.m4a\"\n",
      "Downloading audio from https://www.youtube.com/watch?v=dOV5WXISM24...\n"
     ]
    },
    {
     "name": "stderr",
     "output_type": "stream",
     "text": [
      " 11%|█         | 38/360 [10:37<55:33, 10.35s/it]  "
     ]
    },
    {
     "name": "stdout",
     "output_type": "stream",
     "text": [
      "Downloading audio from https://www.youtube.com/watch?v=R8egmh5dWzo...\n"
     ]
    },
    {
     "name": "stderr",
     "output_type": "stream",
     "text": [
      "WARNING: [youtube] R8egmh5dWzo: Some tv client https formats have been skipped as they are DRM protected. The current session may have an experiment that applies DRM to all videos on the tv client. See  https://github.com/yt-dlp/yt-dlp/issues/12563  for more details.\n"
     ]
    },
    {
     "name": "stdout",
     "output_type": "stream",
     "text": [
      "                                                      \r  "
     ]
    },
    {
     "name": "stderr",
     "output_type": "stream",
     "text": [
      " 11%|█         | 39/360 [10:45<51:41,  9.66s/it]"
     ]
    },
    {
     "name": "stdout",
     "output_type": "stream",
     "text": [
      "Downloading audio from https://www.youtube.com/watch?v=D2_qw8O5lf0...\n",
      "                                                      \r  "
     ]
    },
    {
     "name": "stderr",
     "output_type": "stream",
     "text": [
      " 11%|█         | 40/360 [10:50<44:21,  8.32s/it]"
     ]
    },
    {
     "name": "stdout",
     "output_type": "stream",
     "text": [
      "Downloading audio from https://www.youtube.com/watch?v=wkczQYC_8TQ...\n",
      "                                                      \r  "
     ]
    },
    {
     "name": "stderr",
     "output_type": "stream",
     "text": [
      " 11%|█▏        | 41/360 [11:09<1:02:09, 11.69s/it]"
     ]
    },
    {
     "name": "stdout",
     "output_type": "stream",
     "text": [
      "Downloading audio from https://www.youtube.com/watch?v=b4Bj7Zb-YD4...\n"
     ]
    },
    {
     "name": "stderr",
     "output_type": "stream",
     "text": [
      "WARNING: [youtube] b4Bj7Zb-YD4: Some tv client https formats have been skipped as they are DRM protected. The current session may have an experiment that applies DRM to all videos on the tv client. See  https://github.com/yt-dlp/yt-dlp/issues/12563  for more details.\n"
     ]
    },
    {
     "name": "stdout",
     "output_type": "stream",
     "text": [
      "                                                      \r                  "
     ]
    },
    {
     "name": "stderr",
     "output_type": "stream",
     "text": [
      " 12%|█▏        | 42/360 [11:19<58:11, 10.98s/it]  "
     ]
    },
    {
     "name": "stdout",
     "output_type": "stream",
     "text": [
      "Error indexing My Way (ID 191): [Errno 2] No such file or directory: '../../songs/Calvin Harris - My Way (Official Video).m4a'\n",
      "Downloading audio from https://www.youtube.com/watch?v=XO4msvIA7cw...\n"
     ]
    },
    {
     "name": "stderr",
     "output_type": "stream",
     "text": [
      " 12%|█▏        | 43/360 [11:23<46:51,  8.87s/it]"
     ]
    },
    {
     "name": "stdout",
     "output_type": "stream",
     "text": [
      "Downloading audio from https://www.youtube.com/watch?v=ebXbLfLACGM...\n",
      "                                                      \r  "
     ]
    },
    {
     "name": "stderr",
     "output_type": "stream",
     "text": [
      " 12%|█▏        | 44/360 [11:36<54:22, 10.33s/it]"
     ]
    },
    {
     "name": "stdout",
     "output_type": "stream",
     "text": [
      "Downloading audio from https://www.youtube.com/watch?v=qLpaHAxBe3A...\n"
     ]
    },
    {
     "name": "stderr",
     "output_type": "stream",
     "text": [
      "WARNING: [youtube] qLpaHAxBe3A: Some tv client https formats have been skipped as they are DRM protected. The current session may have an experiment that applies DRM to all videos on the tv client. See  https://github.com/yt-dlp/yt-dlp/issues/12563  for more details.\n"
     ]
    },
    {
     "name": "stdout",
     "output_type": "stream",
     "text": [
      "                                                      \r  "
     ]
    },
    {
     "name": "stderr",
     "output_type": "stream",
     "text": [
      " 12%|█▎        | 45/360 [11:54<1:05:34, 12.49s/it]"
     ]
    },
    {
     "name": "stdout",
     "output_type": "stream",
     "text": [
      "Downloading audio from https://www.youtube.com/watch?v=mf58RAPR8Ws...\n"
     ]
    },
    {
     "name": "stderr",
     "output_type": "stream",
     "text": [
      " 13%|█▎        | 46/360 [11:57<49:57,  9.55s/it]  "
     ]
    },
    {
     "name": "stdout",
     "output_type": "stream",
     "text": [
      "Downloading audio from https://www.youtube.com/watch?v=0Kx3sobEBFE...\n",
      "                                                      \r  "
     ]
    },
    {
     "name": "stderr",
     "output_type": "stream",
     "text": [
      " 13%|█▎        | 47/360 [12:08<52:05,  9.99s/it]"
     ]
    },
    {
     "name": "stdout",
     "output_type": "stream",
     "text": [
      "Downloading audio from https://www.youtube.com/watch?v=Ph54wQG8ynk...\n",
      "                                                      \r  "
     ]
    },
    {
     "name": "stderr",
     "output_type": "stream",
     "text": [
      " 13%|█▎        | 48/360 [12:36<1:20:25, 15.47s/it]"
     ]
    },
    {
     "name": "stdout",
     "output_type": "stream",
     "text": [
      "Downloading audio from https://www.youtube.com/watch?v=Fp_P_e1cPOE...\n"
     ]
    },
    {
     "name": "stderr",
     "output_type": "stream",
     "text": [
      "WARNING: [youtube] Fp_P_e1cPOE: Some tv client https formats have been skipped as they are DRM protected. The current session may have an experiment that applies DRM to all videos on the tv client. See  https://github.com/yt-dlp/yt-dlp/issues/12563  for more details.\n"
     ]
    },
    {
     "name": "stdout",
     "output_type": "stream",
     "text": [
      "                                                      \r  "
     ]
    },
    {
     "name": "stderr",
     "output_type": "stream",
     "text": [
      " 14%|█▎        | 49/360 [12:48<1:15:17, 14.53s/it]"
     ]
    },
    {
     "name": "stdout",
     "output_type": "stream",
     "text": [
      "Downloading audio from https://www.youtube.com/watch?v=rCiBgLOcuKU...\n",
      "                                                      \r  "
     ]
    },
    {
     "name": "stderr",
     "output_type": "stream",
     "text": [
      " 14%|█▍        | 50/360 [14:26<3:24:57, 39.67s/it]"
     ]
    },
    {
     "name": "stdout",
     "output_type": "stream",
     "text": [
      "Downloading audio from https://www.youtube.com/watch?v=8x7Ta89QLo4...\n",
      "                                                      \r  "
     ]
    },
    {
     "name": "stderr",
     "output_type": "stream",
     "text": [
      " 14%|█▍        | 51/360 [14:38<2:40:18, 31.13s/it]"
     ]
    },
    {
     "name": "stdout",
     "output_type": "stream",
     "text": [
      "Downloading audio from https://www.youtube.com/watch?v=eAfyFTzZDMM...\n"
     ]
    },
    {
     "name": "stderr",
     "output_type": "stream",
     "text": [
      "WARNING: [youtube] eAfyFTzZDMM: Some tv client https formats have been skipped as they are DRM protected. The current session may have an experiment that applies DRM to all videos on the tv client. See  https://github.com/yt-dlp/yt-dlp/issues/12563  for more details.\n"
     ]
    },
    {
     "name": "stdout",
     "output_type": "stream",
     "text": [
      "                                                      \r                  "
     ]
    },
    {
     "name": "stderr",
     "output_type": "stream",
     "text": [
      " 14%|█▍        | 52/360 [14:48<2:07:09, 24.77s/it]"
     ]
    },
    {
     "name": "stdout",
     "output_type": "stream",
     "text": [
      "Error indexing Beautiful (ID 201): [Errno 2] No such file or directory: '../../songs/Christina Aguilera - Beautiful (Official HD Video).m4a'\n",
      "Downloading audio from https://www.youtube.com/watch?v=-ScjucUV8v0...\n"
     ]
    },
    {
     "name": "stderr",
     "output_type": "stream",
     "text": [
      "WARNING: [youtube] -ScjucUV8v0: Some tv client https formats have been skipped as they are DRM protected. The current session may have an experiment that applies DRM to all videos on the tv client. See  https://github.com/yt-dlp/yt-dlp/issues/12563  for more details.\n",
      " 15%|█▍        | 53/360 [14:51<1:34:12, 18.41s/it]"
     ]
    },
    {
     "name": "stdout",
     "output_type": "stream",
     "text": [
      "Downloading audio from https://www.youtube.com/watch?v=0RQDIJ2CvbA...\n"
     ]
    },
    {
     "name": "stderr",
     "output_type": "stream",
     "text": [
      "WARNING: [youtube] -ScjucUV8v0: Some tv client https formats have been skipped as they are DRM protected. The current session may have an experiment that applies DRM to all videos on the tv client. See  https://github.com/yt-dlp/yt-dlp/issues/12563  for more details.\n"
     ]
    },
    {
     "name": "stdout",
     "output_type": "stream",
     "text": [
      "[download]  17.7% of ~   2.89MiB at  112.36KiB/s ETA 00:22 (frag 5/36)  "
     ]
    },
    {
     "name": "stderr",
     "output_type": "stream",
     "text": [
      " 15%|█▌        | 54/360 [15:03<1:23:24, 16.35s/it]"
     ]
    },
    {
     "name": "stdout",
     "output_type": "stream",
     "text": [
      "Downloading audio from https://www.youtube.com/watch?v=PstrAfoMKlc...\n",
      "[download]  31.6% of ~   3.04MiB at   72.98KiB/s ETA 00:27 (frag 10/36)"
     ]
    },
    {
     "name": "stderr",
     "output_type": "stream",
     "text": [
      " 15%|█▌        | 55/360 [15:09<1:07:03, 13.19s/it]"
     ]
    },
    {
     "name": "stdout",
     "output_type": "stream",
     "text": [
      "Downloading audio from https://www.youtube.com/watch?v=kIDWgqDBNXA...\n",
      "[download]  33.8% of ~   3.06MiB at   73.39KiB/s ETA 00:27 (frag 11/36)"
     ]
    },
    {
     "name": "stderr",
     "output_type": "stream",
     "text": [
      " 16%|█▌        | 56/360 [15:10<48:24,  9.55s/it]  "
     ]
    },
    {
     "name": "stdout",
     "output_type": "stream",
     "text": [
      "Downloading audio from https://www.youtube.com/watch?v=kIDWgqDBNXA...\n",
      "[download]  39.2% of ~   2.98MiB at   33.40KiB/s ETA 00:44 (frag 13/36)"
     ]
    },
    {
     "name": "stderr",
     "output_type": "stream",
     "text": [
      "WARNING: [youtube] kIDWgqDBNXA: Some tv client https formats have been skipped as they are DRM protected. The current session may have an experiment that applies DRM to all videos on the tv client. See  https://github.com/yt-dlp/yt-dlp/issues/12563  for more details.\n"
     ]
    },
    {
     "name": "stdout",
     "output_type": "stream",
     "text": [
      "[download]  37.3% of ~   3.06MiB at  400.93KiB/s ETA 00:06 (frag 15/43) "
     ]
    },
    {
     "name": "stderr",
     "output_type": "stream",
     "text": [
      "ERROR: Postprocessing: Conversion failed!\n",
      " 16%|█▌        | 57/360 [15:21<50:27,  9.99s/it]"
     ]
    },
    {
     "name": "stdout",
     "output_type": "stream",
     "text": [
      "Error loading audio from https://www.youtube.com/watch?v=kIDWgqDBNXA: ERROR: Postprocessing: Conversion failed!\n",
      "Error indexing Genie in a Bottle (ID 206): 'DownloadError' object has no attribute 'stdout'\n",
      "Downloading audio from https://www.youtube.com/watch?v=wwCykGDEp7M...\n",
      "[download]  98.3% of ~   3.42MiB at  458.64KiB/s ETA 00:01 (frag 43/43)"
     ]
    },
    {
     "name": "stderr",
     "output_type": "stream",
     "text": [
      "ERROR: The downloaded file is empty\n",
      " 16%|█▌        | 58/360 [15:25<41:04,  8.16s/it]"
     ]
    },
    {
     "name": "stdout",
     "output_type": "stream",
     "text": [
      "Error loading audio from https://www.youtube.com/watch?v=kIDWgqDBNXA: ERROR: The downloaded file is empty\n",
      "Error indexing Genie In a Bottle (ID 205): 'DownloadError' object has no attribute 'stdout'\n",
      "Downloading audio from https://www.youtube.com/watch?v=XZSVNm0t3OM...\n",
      "[download]  56.6% of ~   3.09MiB at   63.97KiB/s ETA 00:27 (frag 19/36)"
     ]
    },
    {
     "name": "stderr",
     "output_type": "stream",
     "text": [
      "WARNING: [youtube] XZSVNm0t3OM: Some tv client https formats have been skipped as they are DRM protected. The current session may have an experiment that applies DRM to all videos on the tv client. See  https://github.com/yt-dlp/yt-dlp/issues/12563  for more details.\n"
     ]
    },
    {
     "name": "stdout",
     "output_type": "stream",
     "text": [
      "[download]  67.4% of ~   3.18MiB at   54.82KiB/s ETA 00:23 (frag 25/36)"
     ]
    },
    {
     "name": "stderr",
     "output_type": "stream",
     "text": [
      " 16%|█▋        | 59/360 [15:36<46:03,  9.18s/it]"
     ]
    },
    {
     "name": "stdout",
     "output_type": "stream",
     "text": [
      "Downloading audio from https://www.youtube.com/watch?v=gkPxgUshpec...\n",
      "[download]  95.0% of ~   3.02MiB at   95.50KiB/s ETA 00:03 (frag 33/36)"
     ]
    },
    {
     "name": "stderr",
     "output_type": "stream",
     "text": [
      " 17%|█▋        | 60/360 [15:45<45:58,  9.19s/it]"
     ]
    },
    {
     "name": "stdout",
     "output_type": "stream",
     "text": [
      "Downloading audio from https://www.youtube.com/watch?v=hpspGHeLOPE...\n",
      "                                                       \r               "
     ]
    },
    {
     "name": "stderr",
     "output_type": "stream",
     "text": [
      " 17%|█▋        | 61/360 [15:47<34:30,  6.92s/it]"
     ]
    },
    {
     "name": "stdout",
     "output_type": "stream",
     "text": [
      "Error indexing Candyman (ID 202): [Errno 2] No such file or directory: '../../songs/Christina Aguilera - Candyman (Official Video).m4a'\n",
      "Downloading audio from https://www.youtube.com/watch?v=VPRjCeoBqrI...\n"
     ]
    },
    {
     "name": "stderr",
     "output_type": "stream",
     "text": [
      " 17%|█▋        | 62/360 [15:50<28:29,  5.73s/it]"
     ]
    },
    {
     "name": "stdout",
     "output_type": "stream",
     "text": [
      "Downloading audio from https://www.youtube.com/watch?v=QtXby3twMmI...\n"
     ]
    },
    {
     "name": "stderr",
     "output_type": "stream",
     "text": [
      "WARNING: [youtube] hpspGHeLOPE: Some tv client https formats have been skipped as they are DRM protected. The current session may have an experiment that applies DRM to all videos on the tv client. See  https://github.com/yt-dlp/yt-dlp/issues/12563  for more details.\n",
      "WARNING: [youtube] hpspGHeLOPE: Some web client https formats have been skipped as they are missing a url. YouTube is forcing SABR streaming for this client. See  https://github.com/yt-dlp/yt-dlp/issues/12482  for more details\n"
     ]
    },
    {
     "name": "stdout",
     "output_type": "stream",
     "text": [
      "[download]   1.6% of    3.92MiB at    1.31MiB/s ETA 00:027 (frag 10/45) "
     ]
    },
    {
     "name": "stderr",
     "output_type": "stream",
     "text": [
      "WARNING: [youtube] QtXby3twMmI: Some tv client https formats have been skipped as they are DRM protected. The current session may have an experiment that applies DRM to all videos on the tv client. See  https://github.com/yt-dlp/yt-dlp/issues/12563  for more details.\n"
     ]
    },
    {
     "name": "stdout",
     "output_type": "stream",
     "text": [
      "[download]  44.9% of ~   5.07MiB at 1011.33KiB/s ETA 00:02 (frag 29/62)  "
     ]
    },
    {
     "name": "stderr",
     "output_type": "stream",
     "text": [
      " 18%|█▊        | 63/360 [16:01<36:27,  7.37s/it]"
     ]
    },
    {
     "name": "stdout",
     "output_type": "stream",
     "text": [
      "Error indexing What a Girl Wants (ID 210): [Errno 2] No such file or directory: '../../songs/Christina Aguilera - What A Girl Wants (Official Video).m4a'\n",
      "Downloading audio from https://www.youtube.com/watch?v=zTFBJgnNgU4...\n",
      "                                                        \r              "
     ]
    },
    {
     "name": "stderr",
     "output_type": "stream",
     "text": [
      " 18%|█▊        | 64/360 [16:05<30:47,  6.24s/it]"
     ]
    },
    {
     "name": "stdout",
     "output_type": "stream",
     "text": [
      "Error indexing Adventure of a Lifetime (ID 212): [Errno 2] No such file or directory: '../../songs/Coldplay - Adventure Of A Lifetime (Official Video).m4a'\n",
      "Downloading audio from https://www.youtube.com/watch?v=d020hcWA_Wg...\n"
     ]
    },
    {
     "name": "stderr",
     "output_type": "stream",
     "text": [
      " 18%|█▊        | 65/360 [16:05<21:49,  4.44s/it]"
     ]
    },
    {
     "name": "stdout",
     "output_type": "stream",
     "text": [
      "Downloading audio from https://www.youtube.com/watch?v=fyMhvkC3A84...\n",
      "                                                      \r  "
     ]
    },
    {
     "name": "stderr",
     "output_type": "stream",
     "text": [
      "WARNING: [youtube] fyMhvkC3A84: Some tv client https formats have been skipped as they are DRM protected. The current session may have an experiment that applies DRM to all videos on the tv client. See  https://github.com/yt-dlp/yt-dlp/issues/12563  for more details.\n"
     ]
    },
    {
     "name": "stdout",
     "output_type": "stream",
     "text": [
      "                                                        \r               "
     ]
    },
    {
     "name": "stderr",
     "output_type": "stream",
     "text": [
      " 18%|█▊        | 66/360 [16:21<38:24,  7.84s/it]"
     ]
    },
    {
     "name": "stdout",
     "output_type": "stream",
     "text": [
      "Error indexing Every Teardrop Is a Waterfall (ID 215): [Errno 2] No such file or directory: '../../songs/Coldplay - Every Teardrop Is a Waterfall (Official Video).m4a'\n",
      "Downloading audio from https://www.youtube.com/watch?v=k4V3Mo61fJM...\n",
      "                                                      \r  "
     ]
    },
    {
     "name": "stderr",
     "output_type": "stream",
     "text": [
      " 19%|█▊        | 67/360 [16:44<1:01:05, 12.51s/it]"
     ]
    },
    {
     "name": "stdout",
     "output_type": "stream",
     "text": [
      "Downloading audio from https://www.youtube.com/watch?v=qhIVgSoJVRc...\n",
      "                                                      \r  "
     ]
    },
    {
     "name": "stderr",
     "output_type": "stream",
     "text": [
      " 19%|█▉        | 68/360 [17:08<1:18:07, 16.05s/it]"
     ]
    },
    {
     "name": "stdout",
     "output_type": "stream",
     "text": [
      "Downloading audio from https://www.youtube.com/watch?v=3lfnR7OhZY8...\n"
     ]
    },
    {
     "name": "stderr",
     "output_type": "stream",
     "text": [
      " 19%|█▉        | 69/360 [17:14<1:02:04, 12.80s/it]"
     ]
    },
    {
     "name": "stdout",
     "output_type": "stream",
     "text": [
      "Downloading audio from https://www.youtube.com/watch?v=YykjpeuMNEk...\n",
      "                                                      \r  "
     ]
    },
    {
     "name": "stderr",
     "output_type": "stream",
     "text": [
      " 19%|█▉        | 70/360 [17:31<1:08:43, 14.22s/it]"
     ]
    },
    {
     "name": "stdout",
     "output_type": "stream",
     "text": [
      "Downloading audio from https://www.youtube.com/watch?v=gnIZ7RMuLpU...\n",
      "                                                      \r  "
     ]
    },
    {
     "name": "stderr",
     "output_type": "stream",
     "text": [
      " 20%|█▉        | 71/360 [18:52<2:44:08, 34.08s/it]"
     ]
    },
    {
     "name": "stdout",
     "output_type": "stream",
     "text": [
      "Downloading audio from https://www.youtube.com/watch?v=fXSovfzyx28...\n",
      "                                                         \r"
     ]
    },
    {
     "name": "stderr",
     "output_type": "stream",
     "text": [
      " 20%|██        | 72/360 [19:10<2:21:07, 29.40s/it]"
     ]
    },
    {
     "name": "stdout",
     "output_type": "stream",
     "text": [
      "Downloading audio from https://www.youtube.com/watch?v=Pkgeai985rA...\n",
      "                                                      \r  "
     ]
    },
    {
     "name": "stderr",
     "output_type": "stream",
     "text": [
      " 20%|██        | 73/360 [19:42<2:24:37, 30.24s/it]"
     ]
    },
    {
     "name": "stdout",
     "output_type": "stream",
     "text": [
      "Downloading audio from https://www.youtube.com/watch?v=OTFFQkdhw6Q...\n"
     ]
    },
    {
     "name": "stderr",
     "output_type": "stream",
     "text": [
      " 21%|██        | 74/360 [19:48<1:49:37, 23.00s/it]"
     ]
    },
    {
     "name": "stdout",
     "output_type": "stream",
     "text": [
      "Downloading audio from https://www.youtube.com/watch?v=Qtb11P1FWnc...\n",
      "                                                      \r  "
     ]
    },
    {
     "name": "stderr",
     "output_type": "stream",
     "text": [
      " 21%|██        | 75/360 [21:47<4:05:09, 51.61s/it]"
     ]
    },
    {
     "name": "stdout",
     "output_type": "stream",
     "text": [
      "Downloading audio from https://www.youtube.com/watch?v=1G4isv_Fylg...\n"
     ]
    },
    {
     "name": "stderr",
     "output_type": "stream",
     "text": [
      "WARNING: [youtube] 1G4isv_Fylg: Some tv client https formats have been skipped as they are DRM protected. The current session may have an experiment that applies DRM to all videos on the tv client. See  https://github.com/yt-dlp/yt-dlp/issues/12563  for more details.\n"
     ]
    },
    {
     "name": "stdout",
     "output_type": "stream",
     "text": [
      "                                                      \r  "
     ]
    },
    {
     "name": "stderr",
     "output_type": "stream",
     "text": [
      " 21%|██        | 76/360 [22:08<3:21:38, 42.60s/it]"
     ]
    },
    {
     "name": "stdout",
     "output_type": "stream",
     "text": [
      "Downloading audio from https://www.youtube.com/watch?v=0k_1kvDh2UA...\n"
     ]
    },
    {
     "name": "stderr",
     "output_type": "stream",
     "text": [
      " 21%|██▏       | 77/360 [22:15<2:30:20, 31.88s/it]"
     ]
    },
    {
     "name": "stdout",
     "output_type": "stream",
     "text": [
      "Downloading audio from https://www.youtube.com/watch?v=RB-RcX5DS5A...\n",
      "                                                      \r  "
     ]
    },
    {
     "name": "stderr",
     "output_type": "stream",
     "text": [
      " 22%|██▏       | 78/360 [23:31<3:31:51, 45.08s/it]"
     ]
    },
    {
     "name": "stdout",
     "output_type": "stream",
     "text": [
      "Downloading audio from https://www.youtube.com/watch?v=IakDItZ7f7Q...\n"
     ]
    },
    {
     "name": "stderr",
     "output_type": "stream",
     "text": [
      " 22%|██▏       | 79/360 [23:34<2:32:35, 32.58s/it]"
     ]
    },
    {
     "name": "stdout",
     "output_type": "stream",
     "text": [
      "Downloading audio from https://www.youtube.com/watch?v=dvgZkm1xWPE...\n",
      "                                                      \r    "
     ]
    },
    {
     "name": "stderr",
     "output_type": "stream",
     "text": [
      " 22%|██▏       | 80/360 [23:46<2:02:32, 26.26s/it]"
     ]
    },
    {
     "name": "stdout",
     "output_type": "stream",
     "text": [
      "Downloading audio from https://www.youtube.com/watch?v=yKNxeF4KMsY...\n",
      "                                                      \r  "
     ]
    },
    {
     "name": "stderr",
     "output_type": "stream",
     "text": [
      " 22%|██▎       | 81/360 [24:38<2:38:01, 33.98s/it]"
     ]
    },
    {
     "name": "stdout",
     "output_type": "stream",
     "text": [
      "Downloading audio from https://www.youtube.com/watch?v=CCF1_jI8Prk...\n",
      "                                                      \r  "
     ]
    },
    {
     "name": "stderr",
     "output_type": "stream",
     "text": [
      " 23%|██▎       | 82/360 [24:55<2:14:16, 28.98s/it]"
     ]
    },
    {
     "name": "stdout",
     "output_type": "stream",
     "text": [
      "Downloading audio from https://www.youtube.com/watch?v=K0HSD_i2DvA...\n"
     ]
    },
    {
     "name": "stderr",
     "output_type": "stream",
     "text": [
      "WARNING: [youtube] K0HSD_i2DvA: Some tv client https formats have been skipped as they are DRM protected. The current session may have an experiment that applies DRM to all videos on the tv client. See  https://github.com/yt-dlp/yt-dlp/issues/12563  for more details.\n"
     ]
    },
    {
     "name": "stdout",
     "output_type": "stream",
     "text": [
      "                                                      \r                  "
     ]
    },
    {
     "name": "stderr",
     "output_type": "stream",
     "text": [
      " 23%|██▎       | 83/360 [25:06<1:48:08, 23.42s/it]"
     ]
    },
    {
     "name": "stdout",
     "output_type": "stream",
     "text": [
      "Error indexing Around the World (ID 232): [Errno 2] No such file or directory: '../../songs/Daft Punk - Around The World (Official Music Video Remastered).m4a'\n",
      "Downloading audio from https://www.youtube.com/watch?v=ARfJ55bUAw0...\n"
     ]
    },
    {
     "name": "stderr",
     "output_type": "stream",
     "text": [
      "WARNING: [youtube] ARfJ55bUAw0: Some tv client https formats have been skipped as they are DRM protected. The current session may have an experiment that applies DRM to all videos on the tv client. See  https://github.com/yt-dlp/yt-dlp/issues/12563  for more details.\n"
     ]
    },
    {
     "name": "stdout",
     "output_type": "stream",
     "text": [
      "                                                      \r                  "
     ]
    },
    {
     "name": "stderr",
     "output_type": "stream",
     "text": [
      " 23%|██▎       | 84/360 [25:16<1:29:04, 19.37s/it]"
     ]
    },
    {
     "name": "stdout",
     "output_type": "stream",
     "text": [
      "Error indexing Around the World - Radio Edit [Radio Edit] (ID 233): [Errno 2] No such file or directory: '../../songs/Around the World (Radio Edit).m4a'\n",
      "Downloading audio from https://www.youtube.com/watch?v=tqzDYO4N5rg...\n",
      "                                                      \r  "
     ]
    },
    {
     "name": "stderr",
     "output_type": "stream",
     "text": [
      " 24%|██▎       | 85/360 [26:32<2:47:32, 36.55s/it]"
     ]
    },
    {
     "name": "stdout",
     "output_type": "stream",
     "text": [
      "Downloading audio from https://www.youtube.com/watch?v=FGBhQbmPwH8...\n",
      "                                                      \r  "
     ]
    },
    {
     "name": "stderr",
     "output_type": "stream",
     "text": [
      " 24%|██▍       | 86/360 [26:43<2:11:09, 28.72s/it]"
     ]
    },
    {
     "name": "stdout",
     "output_type": "stream",
     "text": [
      "Downloading audio from https://www.youtube.com/watch?v=WYhv-hR6Q2U...\n",
      "                                                      \r  "
     ]
    },
    {
     "name": "stderr",
     "output_type": "stream",
     "text": [
      " 24%|██▍       | 87/360 [27:17<2:18:31, 30.44s/it]"
     ]
    },
    {
     "name": "stdout",
     "output_type": "stream",
     "text": [
      "Downloading audio from https://www.youtube.com/watch?v=iCJLOXqnT2I...\n",
      "                                                      \r  "
     ]
    },
    {
     "name": "stderr",
     "output_type": "stream",
     "text": [
      " 24%|██▍       | 88/360 [29:32<4:40:32, 61.89s/it]"
     ]
    },
    {
     "name": "stdout",
     "output_type": "stream",
     "text": [
      "Downloading audio from https://www.youtube.com/watch?v=wBDD37Xv6A0...\n"
     ]
    },
    {
     "name": "stderr",
     "output_type": "stream",
     "text": [
      " 25%|██▍       | 89/360 [29:33<3:17:01, 43.62s/it]"
     ]
    },
    {
     "name": "stdout",
     "output_type": "stream",
     "text": [
      "Downloading audio from https://www.youtube.com/watch?v=m0ODoeBc04g...\n",
      "                                                      \r  "
     ]
    },
    {
     "name": "stderr",
     "output_type": "stream",
     "text": [
      " 25%|██▌       | 90/360 [30:53<4:05:17, 54.51s/it]"
     ]
    },
    {
     "name": "stdout",
     "output_type": "stream",
     "text": [
      "Downloading audio from https://www.youtube.com/watch?v=44FId4BpMx0...\n",
      "                                                      \r  "
     ]
    },
    {
     "name": "stderr",
     "output_type": "stream",
     "text": [
      " 25%|██▌       | 91/360 [32:14<4:39:56, 62.44s/it]"
     ]
    },
    {
     "name": "stdout",
     "output_type": "stream",
     "text": [
      "Downloading audio from https://www.youtube.com/watch?v=Ye9WohDqHEc...\n",
      "                                                      \r  "
     ]
    },
    {
     "name": "stderr",
     "output_type": "stream",
     "text": [
      " 26%|██▌       | 92/360 [32:39<3:48:55, 51.25s/it]"
     ]
    },
    {
     "name": "stdout",
     "output_type": "stream",
     "text": [
      "Downloading audio from https://www.youtube.com/watch?v=cHzVjGBxOJs...\n",
      "                                                      \r  "
     ]
    },
    {
     "name": "stderr",
     "output_type": "stream",
     "text": [
      " 26%|██▌       | 93/360 [33:36<3:55:22, 52.89s/it]"
     ]
    },
    {
     "name": "stdout",
     "output_type": "stream",
     "text": [
      "Downloading audio from https://www.youtube.com/watch?v=DJxCsVcZL2I...\n",
      "                                                      \r  "
     ]
    },
    {
     "name": "stderr",
     "output_type": "stream",
     "text": [
      " 26%|██▌       | 94/360 [34:08<3:26:21, 46.55s/it]"
     ]
    },
    {
     "name": "stdout",
     "output_type": "stream",
     "text": [
      "Downloading audio from https://www.youtube.com/watch?v=RmQ2OJgzkMg...\n"
     ]
    },
    {
     "name": "stderr",
     "output_type": "stream",
     "text": [
      " 26%|██▋       | 95/360 [34:11<2:28:05, 33.53s/it]"
     ]
    },
    {
     "name": "stdout",
     "output_type": "stream",
     "text": [
      "Downloading audio from https://www.youtube.com/watch?v=tRNpjt29n6Y...\n"
     ]
    },
    {
     "name": "stderr",
     "output_type": "stream",
     "text": [
      " 27%|██▋       | 96/360 [34:12<1:44:27, 23.74s/it]"
     ]
    },
    {
     "name": "stdout",
     "output_type": "stream",
     "text": [
      "Downloading audio from https://www.youtube.com/watch?v=iYYRH4apXDo...\n",
      "[download]  10.2% of    4.89MiB at  983.76KiB/s ETA 00:04"
     ]
    },
    {
     "name": "stderr",
     "output_type": "stream",
     "text": [
      " 27%|██▋       | 96/360 [34:21<1:34:28, 21.47s/it]"
     ]
    },
    {
     "name": "stdout",
     "output_type": "stream",
     "text": [
      "[download]  20.4% of    4.89MiB at    1.21MiB/s ETA 00:03"
     ]
    },
    {
     "name": "stderr",
     "output_type": "stream",
     "text": [
      "\n"
     ]
    },
    {
     "name": "stdout",
     "output_type": "stream",
     "text": [
      "                                                      \r  Downloading audio from https://www.youtube.com/watch?v=qqjVwAg5fK4...\n"
     ]
    }
   ],
   "execution_count": null
  },
  {
   "metadata": {
    "ExecuteTime": {
     "end_time": "2025-06-03T21:10:09.610667Z",
     "start_time": "2025-06-03T19:37:37.391184Z"
    }
   },
   "cell_type": "code",
   "source": [
    "from src.abracadabra.recognize import index_all_songs\n",
    "index_all_songs(db_type=\"gcp\", skip_duplicates=True)"
   ],
   "id": "bf1011357e95b599",
   "outputs": [
    {
     "name": "stdout",
     "output_type": "stream",
     "text": [
      "Skipping In Da Club (ID 1) — already indexed.\n",
      "Skipping In Da Club - Single Version / Edit (ID 2) — already indexed.\n",
      "Skipping Just A Lil Bit (ID 3) — already indexed.\n",
      "Skipping P.I.M.P. (ID 4) — already indexed.\n",
      "Skipping Window Shopper (ID 5) — already indexed.\n",
      "Skipping Back In Black (ID 6) — already indexed.\n",
      "Skipping Dirty Deeds Done Dirt Cheap (ID 7) — already indexed.\n",
      "Skipping Heatseeker (ID 8) — already indexed.\n",
      "Skipping High Voltage (ID 9) — already indexed.\n",
      "Skipping Highway to Hell (ID 10) — already indexed.\n",
      "Skipping It's a Long Way to the Top (If You Wanna Rock 'N' Roll) (ID 11) — already indexed.\n",
      "Skipping Jailbreak (ID 12) — already indexed.\n",
      "Skipping Rock and Roll Ain't Noise Pollution (ID 13) — already indexed.\n",
      "Skipping Shoot to Thrill (ID 14) — already indexed.\n",
      "Skipping T.N.T. (ID 15) — already indexed.\n",
      "Skipping Thunderstruck (ID 16) — already indexed.\n",
      "Skipping Who Made Who (ID 17) — already indexed.\n",
      "Skipping You Shook Me All Night Long (ID 18) — already indexed.\n",
      "Skipping Chasing Pavements (ID 19) — already indexed.\n",
      "Skipping Don't You Remember (ID 20) — already indexed.\n",
      "Skipping Easy On Me (ID 21) — already indexed.\n",
      "Skipping He Won't Go (ID 22) — already indexed.\n",
      "Skipping Hello (ID 23) — already indexed.\n",
      "Skipping Love In The Dark (ID 24) — already indexed.\n",
      "Skipping Make You Feel My Love (ID 25) — already indexed.\n",
      "Skipping Million Years Ago (ID 26) — already indexed.\n",
      "Skipping One and Only (ID 27) — already indexed.\n",
      "Skipping Remedy (ID 28) — already indexed.\n",
      "Skipping Rolling in the Deep (ID 29) — already indexed.\n",
      "Skipping Rumour Has It (ID 30) — already indexed.\n",
      "Skipping Send My Love (To Your New Lover) (ID 31) — already indexed.\n",
      "Skipping Set Fire to the Rain (ID 32) — already indexed.\n",
      "Skipping Skyfall (ID 33) — already indexed.\n",
      "Skipping Someone Like You (ID 34) — already indexed.\n",
      "Skipping Sweetest Devotion (ID 35) — already indexed.\n",
      "Skipping Take It All (ID 36) — already indexed.\n",
      "Skipping Turning Tables (ID 37) — already indexed.\n",
      "Skipping Water Under The Bridge (ID 38) — already indexed.\n",
      "Skipping When We Were Young (ID 39) — already indexed.\n",
      "Skipping Alone (ID 40) — already indexed.\n",
      "Skipping Faded (ID 41) — already indexed.\n",
      "Skipping Brand New Me (ID 42) — already indexed.\n",
      "Skipping Doesn't Mean Anything (ID 43) — already indexed.\n",
      "Skipping Empire State of Mind (Part II) Broken Down (ID 44) — already indexed.\n",
      "Skipping Fallin' (ID 45) — already indexed.\n",
      "Skipping Girl On Fire (ID 46) — already indexed.\n",
      "Skipping Hallelujah (ID 47) — already indexed.\n",
      "Skipping Holy War (ID 48) — already indexed.\n",
      "Skipping If I Ain't Got You (ID 49) — already indexed.\n",
      "Skipping More Than We Know (ID 50) — already indexed.\n",
      "Skipping No One (ID 51) — already indexed.\n",
      "Skipping One Thing (ID 52) — already indexed.\n",
      "Skipping Superwoman (ID 53) — already indexed.\n",
      "Skipping Tears Always Win (ID 54) — already indexed.\n",
      "Skipping Work On It (ID 55) — already indexed.\n",
      "Skipping No More \"I Love You's\" (ID 56) — already indexed.\n",
      "Skipping Arabella (ID 57) — already indexed.\n",
      "Skipping Do I Wanna Know? (ID 58) — already indexed.\n",
      "Skipping I Bet You Look Good On The Dancefloor (ID 59) — already indexed.\n",
      "Skipping Why'd You Only Call Me When You're High? (ID 60) — already indexed.\n",
      "Skipping Addicted To You (ID 61) — already indexed.\n",
      "Skipping Broken Arrows (ID 62) — already indexed.\n",
      "Skipping Fade Into Darkness - Vocal Radio Mix (ID 63) — already indexed.\n",
      "Skipping For A Better Day (ID 64) — already indexed.\n",
      "Skipping Heaven (ID 65) — already indexed.\n",
      "Skipping Hey Brother (ID 66) — already indexed.\n",
      "Skipping Levels - Radio Edit (ID 67) — already indexed.\n",
      "Skipping Silhouettes - Original Radio Edit (ID 68) — already indexed.\n",
      "Skipping The Nights (ID 69) — already indexed.\n",
      "Skipping Waiting For Love (ID 70) — already indexed.\n",
      "Skipping Wake Me Up (ID 71) — already indexed.\n",
      "Skipping Wake Me Up - Radio Edit (ID 72) — already indexed.\n",
      "Skipping You Make Me (ID 73) — already indexed.\n",
      "Skipping Butter (ID 74) — already indexed.\n",
      "Skipping Dynamite (ID 75) — already indexed.\n",
      "Skipping BREAK MY SOUL (ID 76) — already indexed.\n",
      "Skipping Best Thing I Never Had (ID 77) — already indexed.\n",
      "Skipping Broken-Hearted Girl (ID 78) — already indexed.\n",
      "Skipping Halo (ID 79) — already indexed.\n",
      "Skipping Hold Up (ID 80) — already indexed.\n",
      "Skipping If I Were a Boy (ID 81) — already indexed.\n",
      "Skipping Irreplaceable (ID 82) — already indexed.\n",
      "Skipping Love On Top (ID 83) — already indexed.\n",
      "Skipping Naughty Girl (ID 84) — already indexed.\n",
      "Skipping Run the World (Girls) (ID 85) — already indexed.\n",
      "Skipping Single Ladies (Put a Ring on It) (ID 86) — already indexed.\n",
      "Skipping Sweet Dreams (ID 87) — already indexed.\n",
      "Skipping XO (ID 88) — already indexed.\n",
      "Skipping Lost Cause (ID 89) — already indexed.\n",
      "Skipping NDA (ID 90) — already indexed.\n",
      "Skipping Therefore I Am (ID 91) — already indexed.\n",
      "Skipping Your Power (ID 92) — already indexed.\n",
      "Skipping all the good girls go to hell (ID 93) — already indexed.\n",
      "Skipping bad guy (ID 94) — already indexed.\n",
      "Skipping bury a friend (ID 95) — already indexed.\n",
      "Skipping everything i wanted (ID 96) — already indexed.\n",
      "Skipping when the party's over (ID 97) — already indexed.\n",
      "Skipping wish you were gay (ID 98) — already indexed.\n",
      "Skipping BIG LOVE (ID 99) — already indexed.\n",
      "Skipping Boom Boom Pow (ID 100) — already indexed.\n",
      "Skipping Don't Lie (ID 101) — already indexed.\n",
      "Skipping Don't Phunk With My Heart (ID 102) — already indexed.\n",
      "Skipping Don’t Stop The Party (ID 103) — already indexed.\n",
      "Skipping Hey Mama (ID 104) — already indexed.\n",
      "Skipping I Gotta Feeling (ID 105) — already indexed.\n",
      "Skipping Imma Be (ID 106) — already indexed.\n",
      "Skipping Just Can’t Get Enough (ID 107) — already indexed.\n",
      "Skipping In My Feelings (ID 258) — already indexed.\n",
      "Skipping Let's Get It Started (ID 108) — already indexed.\n",
      "Skipping Let's Get It Started - Spike Mix (ID 109) — already indexed.\n",
      "Skipping Meet Me Halfway (ID 110) — already indexed.\n",
      "Skipping My Humps (ID 111) — already indexed.\n",
      "Skipping Pump It (ID 112) — already indexed.\n",
      "Skipping Rock That Body (ID 113) — already indexed.\n",
      "Skipping Shut Up (ID 114) — already indexed.\n",
      "Skipping The Time (Dirty Bit) (ID 115) — already indexed.\n",
      "Skipping Where Is The Love? (ID 116) — already indexed.\n",
      "Skipping Blowin' in the Wind (ID 117) — already indexed.\n",
      "Skipping Forever Young - Fast Version (ID 118) — already indexed.\n",
      "Skipping Hurricane (ID 119) — already indexed.\n",
      "Skipping Knockin' On Heaven's Door (ID 120) — already indexed.\n",
      "Skipping Like a Rolling Stone (ID 121) — already indexed.\n",
      "Skipping Mr. Tambourine Man (ID 122) — already indexed.\n",
      "Skipping The Times They Are A-Changin' (ID 123) — already indexed.\n",
      "Skipping Always (ID 124) — already indexed.\n",
      "Skipping Bad Medicine (ID 125) — already indexed.\n",
      "Skipping Bed Of Roses (ID 126) — already indexed.\n",
      "Skipping Have A Nice Day (ID 127) — already indexed.\n",
      "Skipping I'll Be There For You (ID 128) — already indexed.\n",
      "Skipping In These Arms (ID 129) — already indexed.\n",
      "Skipping It's My Life (ID 130) — already indexed.\n",
      "Skipping Keep The Faith (ID 131) — already indexed.\n",
      "Skipping Livin' On A Prayer (ID 132) — already indexed.\n",
      "Skipping Say It Isn't So (ID 133) — already indexed.\n",
      "Skipping Shot Through The Heart (ID 134) — already indexed.\n",
      "Skipping This Ain't A Love Song (ID 135) — already indexed.\n",
      "Downloading audio from https://www.youtube.com/watch?v=SRvCvsRp5ho...\n",
      "Skipping You Give Love A Bad Name (ID 137) — already indexed.\n",
      "Skipping (You Drive Me) Crazy (ID 138) — already indexed.\n",
      "Skipping ...Baby One More Time (ID 139) — already indexed.\n",
      "Skipping 3 (ID 140) — already indexed.\n",
      "Skipping Circus (ID 141) — already indexed.\n",
      "Skipping Circus - Remastered (ID 142) — already indexed.\n",
      "Skipping Do Somethin' (ID 143) — already indexed.\n",
      "Skipping Everytime (ID 144) — already indexed.\n",
      "Skipping From the Bottom of My Broken Heart (ID 145) — already indexed.\n",
      "Downloading audio from https://www.youtube.com/watch?v=elueA2rofoo...\n",
      "Skipping Hold It Against Me (ID 147) — already indexed.\n",
      "Skipping I Love Rock 'N' Roll (ID 148) — already indexed.\n",
      "Skipping I'm Not a Girl, Not Yet a Woman (ID 149) — already indexed.\n",
      "Skipping I'm a Slave 4 U (ID 150) — already indexed.\n",
      "Skipping If U Seek Amy (ID 151) — already indexed.\n",
      "Skipping Lucky (ID 152) — already indexed.\n",
      "Skipping My Prerogative - Remastered (ID 153) — already indexed.\n",
      "Skipping Oops!...I Did It Again (ID 154) — already indexed.\n",
      "Skipping Piece of Me (ID 155) — already indexed.\n",
      "Skipping Sometimes (ID 156) — already indexed.\n",
      "Skipping Stronger (ID 157) — already indexed.\n",
      "Skipping Till the World Ends (ID 158) — already indexed.\n",
      "Skipping Toxic (ID 159) — already indexed.\n",
      "Skipping Womanizer (ID 160) — already indexed.\n",
      "Skipping 24K Magic (ID 161) — already indexed.\n",
      "Skipping Chunky (ID 162) — already indexed.\n",
      "Skipping Count on Me (ID 163) — already indexed.\n",
      "Skipping Grenade (ID 164) — already indexed.\n",
      "Skipping Grenade - Acoustic (ID 165) — already indexed.\n",
      "Skipping If I Knew (ID 166) — already indexed.\n",
      "Skipping It Will Rain (ID 167) — already indexed.\n",
      "Downloading audio from https://www.youtube.com/watch?v=LjhCEhWiKXk...\n",
      "Skipping Locked out of Heaven (ID 169) — already indexed.\n",
      "Skipping Marry You (ID 170) — already indexed.\n",
      "Skipping Talking to the Moon (ID 171) — already indexed.\n",
      "Skipping That's What I Like (ID 172) — already indexed.\n",
      "Skipping The Lazy Song (ID 173) — already indexed.\n",
      "Skipping Treasure (ID 174) — already indexed.\n",
      "Skipping Versace on the Floor (ID 175) — already indexed.\n",
      "Skipping When I Was Your Man (ID 176) — already indexed.\n",
      "Skipping (Everything I Do) I Do It For You (ID 177) — already indexed.\n",
      "Downloading audio from https://www.youtube.com/watch?v=lP4Nnek6DCo...\n",
      "Skipping Have You Ever Really Loved A Woman? (ID 179) — already indexed.\n",
      "Downloading audio from https://www.youtube.com/watch?v=s6TtwR2Dbjg...\n",
      "Skipping Let's Make A Night To Remember (ID 181) — already indexed.\n",
      "Skipping Please Forgive Me (ID 182) — already indexed.\n",
      "Skipping Run To You (ID 183) — already indexed.\n",
      "Skipping Summer Of '69 (ID 184) — already indexed.\n",
      "Skipping The Only Thing That Looks Good On Me Is You (ID 185) — already indexed.\n",
      "Downloading audio from https://www.youtube.com/watch?v=CTfIr_euGTs...\n",
      "Skipping Acceptable in the 80's (ID 187) — already indexed.\n",
      "Skipping Feel So Close - Radio Edit (ID 188) — already indexed.\n",
      "Skipping Flashback (ID 189) — already indexed.\n",
      "Skipping I'm Not Alone - Radio Edit (ID 190) — already indexed.\n",
      "Downloading audio from https://www.youtube.com/watch?v=b4Bj7Zb-YD4...\n",
      "Skipping Ready for the Weekend (ID 192) — already indexed.\n",
      "Skipping Summer (ID 193) — already indexed.\n",
      "Skipping The Girls - Radio Edit (ID 194) — already indexed.\n",
      "Skipping You Used to Hold Me (ID 195) — already indexed.\n",
      "Skipping Don't Go Yet (ID 196) — already indexed.\n",
      "Skipping Never Be the Same (ID 197) — already indexed.\n",
      "Skipping Shameless (ID 198) — already indexed.\n",
      "Skipping Up (ID 199) — already indexed.\n",
      "Skipping Ain't No Other Man (ID 200) — already indexed.\n",
      "Downloading audio from https://www.youtube.com/watch?v=eAfyFTzZDMM...\n",
      "Downloading audio from https://www.youtube.com/watch?v=-ScjucUV8v0...\n",
      "Skipping Come on over Baby (All I Want Is You) - Radio Version (ID 203) — already indexed.\n",
      "Skipping Fighter (ID 204) — already indexed.\n",
      "Downloading audio from https://www.youtube.com/watch?v=kIDWgqDBNXA...\n",
      "Downloading audio from https://www.youtube.com/watch?v=kIDWgqDBNXA...\n",
      "Skipping Hurt (ID 207) — already indexed.\n",
      "Skipping Impossible (ID 208) — already indexed.\n",
      "Skipping Keeps Gettin' Better (ID 209) — already indexed.\n",
      "Downloading audio from https://www.youtube.com/watch?v=hpspGHeLOPE...\n",
      "Skipping A Sky Full of Stars (ID 211) — already indexed.\n",
      "Downloading audio from https://www.youtube.com/watch?v=QtXby3twMmI...\n",
      "Skipping Charlie Brown (ID 213) — already indexed.\n",
      "Skipping Clocks (ID 214) — already indexed.\n",
      "Downloading audio from https://www.youtube.com/watch?v=fyMhvkC3A84...\n",
      "Skipping Fix You (ID 216) — already indexed.\n",
      "Skipping God Put a Smile upon Your Face (ID 217) — already indexed.\n",
      "Skipping Higher Power (ID 218) — already indexed.\n",
      "Skipping Hymn for the Weekend (ID 219) — already indexed.\n",
      "Skipping In My Place (ID 220) — already indexed.\n",
      "Skipping Life in Technicolor ii (ID 221) — already indexed.\n",
      "Skipping Lost! (ID 222) — already indexed.\n",
      "Skipping Lovers in Japan (ID 223) — already indexed.\n",
      "Skipping Magic (ID 224) — already indexed.\n",
      "Skipping Paradise (ID 225) — already indexed.\n",
      "Skipping Speed of Sound (ID 226) — already indexed.\n",
      "Skipping The Scientist (ID 227) — already indexed.\n",
      "Skipping Violet Hill (ID 228) — already indexed.\n",
      "Skipping Viva La Vida (ID 229) — already indexed.\n",
      "Skipping Yellow (ID 230) — already indexed.\n",
      "Skipping Gasolina (ID 231) — already indexed.\n",
      "Downloading audio from https://www.youtube.com/watch?v=K0HSD_i2DvA...\n",
      "Downloading audio from https://www.youtube.com/watch?v=ARfJ55bUAw0...\n",
      "Skipping Da Funk - Radio Edit (ID 234) — already indexed.\n",
      "Skipping One More Time (ID 235) — already indexed.\n",
      "Skipping One More Time - Radio Edit [Short Radio Edit] (ID 236) — already indexed.\n",
      "Skipping Absolute Beginners - 2002 Remaster (ID 237) — already indexed.\n",
      "Skipping Ashes to Ashes - 2017 Remaster (ID 238) — already indexed.\n",
      "Skipping Cat People (Putting Out Fire) - 2018 Remaster (ID 239) — already indexed.\n",
      "Skipping Heroes - 2017 Remaster (ID 240) — already indexed.\n",
      "Skipping Let's Dance - Single Version, 2014 Remaster (ID 241) — already indexed.\n",
      "Skipping Modern Love - 1999 Remaster (ID 242) — already indexed.\n",
      "Skipping Rebel Rebel - 2016 Remaster (ID 243) — already indexed.\n",
      "Skipping Sorrow - 2015 Remaster (ID 244) — already indexed.\n",
      "Skipping Space Oddity - 2009 Remastered Version (ID 245) — already indexed.\n",
      "Skipping Space Oddity - 2015 Remaster (ID 246) — already indexed.\n",
      "Downloading audio from https://www.youtube.com/watch?v=qqjVwAg5fK4...\n",
      "Downloading audio from https://www.youtube.com/watch?v=ZL4VBzz5kH4...\n",
      "Downloading audio from https://www.youtube.com/watch?v=MoHnffhBwqs...\n",
      "Downloading audio from https://www.youtube.com/watch?v=Yt_myLDSdsY...\n"
     ]
    },
    {
     "name": "stderr",
     "output_type": "stream",
     "text": [
      "  0%|          | 0/491 [00:00<?, ?it/s]"
     ]
    },
    {
     "name": "stdout",
     "output_type": "stream",
     "text": [
      "                                                        \r              "
     ]
    },
    {
     "name": "stderr",
     "output_type": "stream",
     "text": [
      " 47%|████▋     | 232/491 [00:51<00:57,  4.49it/s]"
     ]
    },
    {
     "name": "stdout",
     "output_type": "stream",
     "text": [
      "Error: The downloaded file for track 205 is missing or empty.\n",
      "Error indexing Genie In a Bottle (ID 205): cannot unpack non-iterable NoneType object\n",
      "Downloading audio from https://www.youtube.com/watch?v=p4kVWCSzfK4...\n",
      "                                                      \r  "
     ]
    },
    {
     "name": "stderr",
     "output_type": "stream",
     "text": [
      " 47%|████▋     | 233/491 [05:52<08:51,  2.06s/it]"
     ]
    },
    {
     "name": "stdout",
     "output_type": "stream",
     "text": [
      "Downloading audio from https://www.youtube.com/watch?v=RsW66teC0BQ...\n",
      "                                                      \r    "
     ]
    },
    {
     "name": "stderr",
     "output_type": "stream",
     "text": [
      " 48%|████▊     | 234/491 [06:02<09:07,  2.13s/it]"
     ]
    },
    {
     "name": "stdout",
     "output_type": "stream",
     "text": [
      "Downloading audio from https://www.youtube.com/watch?v=pok8H_KF1FA...\n",
      "                                                      \r  "
     ]
    },
    {
     "name": "stderr",
     "output_type": "stream",
     "text": [
      " 48%|████▊     | 235/491 [06:56<11:48,  2.77s/it]"
     ]
    },
    {
     "name": "stdout",
     "output_type": "stream",
     "text": [
      "Downloading audio from https://www.youtube.com/watch?v=jJdlgKzVsnI...\n",
      "                                                      \r  "
     ]
    },
    {
     "name": "stderr",
     "output_type": "stream",
     "text": [
      " 48%|████▊     | 236/491 [07:21<13:21,  3.14s/it]"
     ]
    },
    {
     "name": "stdout",
     "output_type": "stream",
     "text": [
      "Downloading audio from https://www.youtube.com/watch?v=PsW85VbSau0...\n",
      "                                                      \r  "
     ]
    },
    {
     "name": "stderr",
     "output_type": "stream",
     "text": [
      " 48%|████▊     | 237/491 [08:30<20:01,  4.73s/it]"
     ]
    },
    {
     "name": "stdout",
     "output_type": "stream",
     "text": [
      "Downloading audio from https://www.youtube.com/watch?v=xpVfcZ0ZcFM...\n"
     ]
    },
    {
     "name": "stderr",
     "output_type": "stream",
     "text": [
      " 48%|████▊     | 238/491 [08:33<19:44,  4.68s/it]"
     ]
    },
    {
     "name": "stdout",
     "output_type": "stream",
     "text": [
      "Downloading audio from https://www.youtube.com/watch?v=uxpDa-c-4Mc...\n",
      "                                                        \r                "
     ]
    },
    {
     "name": "stderr",
     "output_type": "stream",
     "text": [
      " 49%|████▊     | 239/491 [08:41<20:12,  4.81s/it]"
     ]
    },
    {
     "name": "stdout",
     "output_type": "stream",
     "text": [
      "Error: The downloaded file for track 256 is missing or empty.\n",
      "Error indexing God's Plan (ID 256): cannot unpack non-iterable NoneType object\n",
      "Downloading audio from https://www.youtube.com/watch?v=xWggTb45brM...\n",
      "                                                      \r  "
     ]
    },
    {
     "name": "stderr",
     "output_type": "stream",
     "text": [
      " 49%|████▉     | 240/491 [10:06<40:27,  9.67s/it]"
     ]
    },
    {
     "name": "stdout",
     "output_type": "stream",
     "text": [
      "Downloading audio from https://www.youtube.com/watch?v=-rey3m8SWQI...\n",
      "                                                      \r  "
     ]
    },
    {
     "name": "stderr",
     "output_type": "stream",
     "text": [
      " 49%|████▉     | 241/491 [10:40<48:21, 11.60s/it]"
     ]
    },
    {
     "name": "stdout",
     "output_type": "stream",
     "text": [
      "Downloading audio from https://www.youtube.com/watch?v=1nydxbGhgv8...\n",
      "                                                      \r  "
     ]
    },
    {
     "name": "stderr",
     "output_type": "stream",
     "text": [
      " 49%|████▉     | 242/491 [11:34<1:06:03, 15.92s/it]"
     ]
    },
    {
     "name": "stdout",
     "output_type": "stream",
     "text": [
      "Downloading audio from https://www.youtube.com/watch?v=Nj2U6rhnucI...\n",
      "                                                      \r  "
     ]
    },
    {
     "name": "stderr",
     "output_type": "stream",
     "text": [
      " 49%|████▉     | 243/491 [11:52<1:07:04, 16.23s/it]"
     ]
    },
    {
     "name": "stdout",
     "output_type": "stream",
     "text": [
      "Downloading audio from https://www.youtube.com/watch?v=OiC1rgCPmUQ...\n"
     ]
    },
    {
     "name": "stderr",
     "output_type": "stream",
     "text": [
      " 50%|████▉     | 244/491 [11:54<57:40, 14.01s/it]  "
     ]
    },
    {
     "name": "stdout",
     "output_type": "stream",
     "text": [
      "Downloading audio from https://www.youtube.com/watch?v=oygrmJFKYZY...\n",
      "                                                      \r  "
     ]
    },
    {
     "name": "stderr",
     "output_type": "stream",
     "text": [
      " 50%|████▉     | 245/491 [13:19<1:49:35, 26.73s/it]"
     ]
    },
    {
     "name": "stdout",
     "output_type": "stream",
     "text": [
      "Downloading audio from https://www.youtube.com/watch?v=qcZ7e9EOQTY...\n"
     ]
    },
    {
     "name": "stderr",
     "output_type": "stream",
     "text": [
      " 50%|█████     | 246/491 [13:20<1:27:38, 21.46s/it]"
     ]
    },
    {
     "name": "stdout",
     "output_type": "stream",
     "text": [
      "Downloading audio from https://www.youtube.com/watch?v=fEOyePhElr4...\n",
      "                                                      \r  "
     ]
    },
    {
     "name": "stderr",
     "output_type": "stream",
     "text": [
      " 50%|█████     | 247/491 [13:58<1:42:41, 25.25s/it]"
     ]
    },
    {
     "name": "stdout",
     "output_type": "stream",
     "text": [
      "Downloading audio from https://www.youtube.com/watch?v=Mgfe5tIwOj0...\n"
     ]
    },
    {
     "name": "stderr",
     "output_type": "stream",
     "text": [
      " 51%|█████     | 248/491 [14:01<1:20:33, 19.89s/it]"
     ]
    },
    {
     "name": "stdout",
     "output_type": "stream",
     "text": [
      "Downloading audio from https://www.youtube.com/watch?v=TUVcZfQe-Kw...\n",
      "                                                      \r  "
     ]
    },
    {
     "name": "stderr",
     "output_type": "stream",
     "text": [
      " 51%|█████     | 249/491 [14:30<1:30:11, 22.36s/it]"
     ]
    },
    {
     "name": "stdout",
     "output_type": "stream",
     "text": [
      "Downloading audio from https://www.youtube.com/watch?v=BC19kwABFwc...\n",
      "[download]  49.4% of    4.05MiB at    4.00MiB/s ETA 00:00"
     ]
    },
    {
     "name": "stderr",
     "output_type": "stream",
     "text": [
      " 51%|█████     | 250/491 [14:35<1:10:06, 17.45s/it]"
     ]
    },
    {
     "name": "stdout",
     "output_type": "stream",
     "text": [
      "Downloading audio from https://www.youtube.com/watch?v=k2qgadSvNyU...\n",
      "                                                      \r  "
     ]
    },
    {
     "name": "stderr",
     "output_type": "stream",
     "text": [
      " 51%|█████     | 251/491 [16:50<3:21:06, 50.28s/it]"
     ]
    },
    {
     "name": "stdout",
     "output_type": "stream",
     "text": [
      "Downloading audio from https://www.youtube.com/watch?v=9HDEHj2yzew...\n",
      "                                                      \r  "
     ]
    },
    {
     "name": "stderr",
     "output_type": "stream",
     "text": [
      " 51%|█████▏    | 252/491 [17:01<2:35:57, 39.15s/it]"
     ]
    },
    {
     "name": "stdout",
     "output_type": "stream",
     "text": [
      "Downloading audio from https://www.youtube.com/watch?v=kO8fTk6oKQg...\n",
      "                                                      \r  "
     ]
    },
    {
     "name": "stderr",
     "output_type": "stream",
     "text": [
      " 52%|█████▏    | 253/491 [17:43<2:38:28, 39.95s/it]"
     ]
    },
    {
     "name": "stdout",
     "output_type": "stream",
     "text": [
      "Downloading audio from https://www.youtube.com/watch?v=jr47YisIsz8...\n",
      "                                                      \r  "
     ]
    },
    {
     "name": "stderr",
     "output_type": "stream",
     "text": [
      " 52%|█████▏    | 254/491 [18:22<2:36:55, 39.73s/it]"
     ]
    },
    {
     "name": "stdout",
     "output_type": "stream",
     "text": [
      "Downloading audio from https://www.youtube.com/watch?v=JznXx1Ns374...\n"
     ]
    },
    {
     "name": "stderr",
     "output_type": "stream",
     "text": [
      " 52%|█████▏    | 255/491 [18:24<1:51:40, 28.39s/it]"
     ]
    },
    {
     "name": "stdout",
     "output_type": "stream",
     "text": [
      "Downloading audio from https://www.youtube.com/watch?v=_NGQfFCFUn4...\n",
      "                                                      \r  "
     ]
    },
    {
     "name": "stderr",
     "output_type": "stream",
     "text": [
      " 52%|█████▏    | 256/491 [19:32<2:37:25, 40.19s/it]"
     ]
    },
    {
     "name": "stdout",
     "output_type": "stream",
     "text": [
      "Downloading audio from https://www.youtube.com/watch?v=nkqVm5aiC28...\n",
      "                                                      \r  "
     ]
    },
    {
     "name": "stderr",
     "output_type": "stream",
     "text": [
      " 52%|█████▏    | 257/491 [21:16<3:51:05, 59.25s/it]"
     ]
    },
    {
     "name": "stdout",
     "output_type": "stream",
     "text": [
      "Downloading audio from https://www.youtube.com/watch?v=orJSJGHjBLI...\n",
      "                                                      \r  "
     ]
    },
    {
     "name": "stderr",
     "output_type": "stream",
     "text": [
      " 53%|█████▎    | 258/491 [21:23<2:49:46, 43.72s/it]"
     ]
    },
    {
     "name": "stdout",
     "output_type": "stream",
     "text": [
      "Downloading audio from https://www.youtube.com/watch?v=XIJHg1XWR7o...\n",
      "                                                      \r  "
     ]
    },
    {
     "name": "stderr",
     "output_type": "stream",
     "text": [
      " 53%|█████▎    | 259/491 [21:39<2:16:20, 35.26s/it]"
     ]
    },
    {
     "name": "stdout",
     "output_type": "stream",
     "text": [
      "Downloading audio from https://www.youtube.com/watch?v=K0ibBPhiaG0...\n",
      "                                                      \r  "
     ]
    },
    {
     "name": "stderr",
     "output_type": "stream",
     "text": [
      " 53%|█████▎    | 260/491 [22:36<2:41:15, 41.89s/it]"
     ]
    },
    {
     "name": "stdout",
     "output_type": "stream",
     "text": [
      "Downloading audio from https://www.youtube.com/watch?v=23g5HBOg3Ic...\n",
      "                                                      \r  "
     ]
    },
    {
     "name": "stderr",
     "output_type": "stream",
     "text": [
      " 53%|█████▎    | 261/491 [22:51<2:09:39, 33.82s/it]"
     ]
    },
    {
     "name": "stdout",
     "output_type": "stream",
     "text": [
      "Downloading audio from https://www.youtube.com/watch?v=Wv2rLZmbPMA...\n",
      "                                                      \r  "
     ]
    },
    {
     "name": "stderr",
     "output_type": "stream",
     "text": [
      " 53%|█████▎    | 262/491 [23:19<2:02:25, 32.08s/it]"
     ]
    },
    {
     "name": "stdout",
     "output_type": "stream",
     "text": [
      "Downloading audio from https://www.youtube.com/watch?v=3TqGEbROFd4...\n",
      "                                                      \r  "
     ]
    },
    {
     "name": "stderr",
     "output_type": "stream",
     "text": [
      " 54%|█████▎    | 263/491 [27:26<6:06:46, 96.52s/it]"
     ]
    },
    {
     "name": "stdout",
     "output_type": "stream",
     "text": [
      "Downloading audio from https://www.youtube.com/watch?v=G2fOum_KWQU...\n",
      "                                                      \r  "
     ]
    },
    {
     "name": "stderr",
     "output_type": "stream",
     "text": [
      " 54%|█████▍    | 264/491 [27:46<4:38:34, 73.63s/it]"
     ]
    },
    {
     "name": "stdout",
     "output_type": "stream",
     "text": [
      "Downloading audio from https://www.youtube.com/watch?v=myZistq5lRM...\n"
     ]
    },
    {
     "name": "stderr",
     "output_type": "stream",
     "text": [
      " 54%|█████▍    | 265/491 [27:49<3:17:34, 52.46s/it]"
     ]
    },
    {
     "name": "stdout",
     "output_type": "stream",
     "text": [
      "Downloading audio from https://www.youtube.com/watch?v=JigjU373SKY...\n",
      "                                                      \r  "
     ]
    },
    {
     "name": "stderr",
     "output_type": "stream",
     "text": [
      " 54%|█████▍    | 266/491 [27:57<2:26:26, 39.05s/it]"
     ]
    },
    {
     "name": "stdout",
     "output_type": "stream",
     "text": [
      "Downloading audio from https://www.youtube.com/watch?v=87gWaABqGYs...\n",
      "                                                        \r"
     ]
    },
    {
     "name": "stderr",
     "output_type": "stream",
     "text": [
      " 54%|█████▍    | 267/491 [28:19<2:07:00, 34.02s/it]"
     ]
    },
    {
     "name": "stdout",
     "output_type": "stream",
     "text": [
      "Downloading audio from https://www.youtube.com/watch?v=iWZmdoY1aTE...\n",
      "                                                      \r  "
     ]
    },
    {
     "name": "stderr",
     "output_type": "stream",
     "text": [
      " 55%|█████▍    | 268/491 [28:27<1:36:52, 26.06s/it]"
     ]
    },
    {
     "name": "stdout",
     "output_type": "stream",
     "text": [
      "Downloading audio from https://www.youtube.com/watch?v=ZZMZiBCRX4c...\n",
      "                                                      \r  "
     ]
    },
    {
     "name": "stderr",
     "output_type": "stream",
     "text": [
      " 55%|█████▍    | 269/491 [28:36<1:17:48, 21.03s/it]"
     ]
    },
    {
     "name": "stdout",
     "output_type": "stream",
     "text": [
      "Downloading audio from https://www.youtube.com/watch?v=LKCojXWLNEM...\n",
      "                                                      \r  "
     ]
    },
    {
     "name": "stderr",
     "output_type": "stream",
     "text": [
      " 55%|█████▍    | 270/491 [30:33<3:03:32, 49.83s/it]"
     ]
    },
    {
     "name": "stdout",
     "output_type": "stream",
     "text": [
      "Downloading audio from https://www.youtube.com/watch?v=Q5k3uNlKtBw...\n",
      "                                                      \r  "
     ]
    },
    {
     "name": "stderr",
     "output_type": "stream",
     "text": [
      " 55%|█████▌    | 271/491 [31:31<3:11:46, 52.30s/it]"
     ]
    },
    {
     "name": "stdout",
     "output_type": "stream",
     "text": [
      "Downloading audio from https://www.youtube.com/watch?v=c4BLVznuWnU...\n",
      "                                                      \r  "
     ]
    },
    {
     "name": "stderr",
     "output_type": "stream",
     "text": [
      " 55%|█████▌    | 272/491 [31:59<2:44:09, 44.98s/it]"
     ]
    },
    {
     "name": "stdout",
     "output_type": "stream",
     "text": [
      "Downloading audio from https://www.youtube.com/watch?v=K3JU_VM-9xI...\n",
      "                                                      \r  "
     ]
    },
    {
     "name": "stderr",
     "output_type": "stream",
     "text": [
      " 56%|█████▌    | 273/491 [32:18<2:15:20, 37.25s/it]"
     ]
    },
    {
     "name": "stdout",
     "output_type": "stream",
     "text": [
      "Downloading audio from https://www.youtube.com/watch?v=Ix9NXVIbm2A...\n",
      "                                                      \r  "
     ]
    },
    {
     "name": "stderr",
     "output_type": "stream",
     "text": [
      " 56%|█████▌    | 274/491 [32:31<1:48:11, 29.91s/it]"
     ]
    },
    {
     "name": "stdout",
     "output_type": "stream",
     "text": [
      "Downloading audio from https://www.youtube.com/watch?v=k6ZoE4RrcDs...\n",
      "                                                      \r  "
     ]
    },
    {
     "name": "stderr",
     "output_type": "stream",
     "text": [
      " 56%|█████▌    | 275/491 [32:58<1:44:01, 28.90s/it]"
     ]
    },
    {
     "name": "stdout",
     "output_type": "stream",
     "text": [
      "Downloading audio from https://www.youtube.com/watch?v=2Vv-BfVoq4g...\n",
      "                                                      \r  "
     ]
    },
    {
     "name": "stderr",
     "output_type": "stream",
     "text": [
      " 56%|█████▌    | 276/491 [33:22<1:38:53, 27.60s/it]"
     ]
    },
    {
     "name": "stdout",
     "output_type": "stream",
     "text": [
      "Downloading audio from https://www.youtube.com/watch?v=KKQl-pIRQMY...\n",
      "                                                      \r  "
     ]
    },
    {
     "name": "stderr",
     "output_type": "stream",
     "text": [
      " 56%|█████▋    | 277/491 [33:37<1:24:41, 23.75s/it]"
     ]
    },
    {
     "name": "stdout",
     "output_type": "stream",
     "text": [
      "Downloading audio from https://www.youtube.com/watch?v=cgMd5YGTSCM...\n",
      "                                                      \r  "
     ]
    },
    {
     "name": "stderr",
     "output_type": "stream",
     "text": [
      " 57%|█████▋    | 278/491 [34:21<1:45:47, 29.80s/it]"
     ]
    },
    {
     "name": "stdout",
     "output_type": "stream",
     "text": [
      "Downloading audio from https://www.youtube.com/watch?v=JGwWNGJdvx8...\n",
      "[download]  49.8% of    4.01MiB at    1.91MiB/s ETA 00:01"
     ]
    },
    {
     "name": "stderr",
     "output_type": "stream",
     "text": [
      " 57%|█████▋    | 279/491 [34:26<1:19:25, 22.48s/it]"
     ]
    },
    {
     "name": "stdout",
     "output_type": "stream",
     "text": [
      "Downloading audio from https://www.youtube.com/watch?v=2lPEWlZ3ZCg...\n",
      "                                                      \r  "
     ]
    },
    {
     "name": "stderr",
     "output_type": "stream",
     "text": [
      " 57%|█████▋    | 280/491 [34:37<1:06:45, 18.98s/it]"
     ]
    },
    {
     "name": "stdout",
     "output_type": "stream",
     "text": [
      "Downloading audio from https://www.youtube.com/watch?v=Il0S8BoucSA...\n",
      "                                                      \r  "
     ]
    },
    {
     "name": "stderr",
     "output_type": "stream",
     "text": [
      " 57%|█████▋    | 281/491 [34:57<1:07:46, 19.37s/it]"
     ]
    },
    {
     "name": "stdout",
     "output_type": "stream",
     "text": [
      "Downloading audio from https://www.youtube.com/watch?v=tlYcUqEPN58...\n",
      "                                                      \r  "
     ]
    },
    {
     "name": "stderr",
     "output_type": "stream",
     "text": [
      " 57%|█████▋    | 282/491 [35:18<1:08:42, 19.72s/it]"
     ]
    },
    {
     "name": "stdout",
     "output_type": "stream",
     "text": [
      "Downloading audio from https://www.youtube.com/watch?v=A_af256mnTE...\n",
      "                                                      \r  "
     ]
    },
    {
     "name": "stderr",
     "output_type": "stream",
     "text": [
      " 58%|█████▊    | 283/491 [35:59<1:30:34, 26.13s/it]"
     ]
    },
    {
     "name": "stdout",
     "output_type": "stream",
     "text": [
      "Downloading audio from https://www.youtube.com/watch?v=2tHes1FQfwU...\n",
      "                                                        \r"
     ]
    },
    {
     "name": "stderr",
     "output_type": "stream",
     "text": [
      " 58%|█████▊    | 284/491 [36:51<1:57:08, 33.95s/it]"
     ]
    },
    {
     "name": "stdout",
     "output_type": "stream",
     "text": [
      "Downloading audio from https://www.youtube.com/watch?v=UAWcs5H-qgQ...\n",
      "                                                      \r  "
     ]
    },
    {
     "name": "stderr",
     "output_type": "stream",
     "text": [
      " 58%|█████▊    | 285/491 [37:59<2:31:22, 44.09s/it]"
     ]
    },
    {
     "name": "stdout",
     "output_type": "stream",
     "text": [
      "Downloading audio from https://www.youtube.com/watch?v=lp-EO5I60KA...\n"
     ]
    },
    {
     "name": "stderr",
     "output_type": "stream",
     "text": [
      " 58%|█████▊    | 286/491 [38:00<1:46:42, 31.23s/it]"
     ]
    },
    {
     "name": "stdout",
     "output_type": "stream",
     "text": [
      "Downloading audio from https://www.youtube.com/watch?v=pVqX2u6YWqI...\n",
      "                                                      \r  "
     ]
    },
    {
     "name": "stderr",
     "output_type": "stream",
     "text": [
      " 58%|█████▊    | 287/491 [39:16<2:31:40, 44.61s/it]"
     ]
    },
    {
     "name": "stdout",
     "output_type": "stream",
     "text": [
      "Downloading audio from https://www.youtube.com/watch?v=6B9J3lEyffA...\n",
      "                                                      \r  "
     ]
    },
    {
     "name": "stderr",
     "output_type": "stream",
     "text": [
      " 59%|█████▊    | 288/491 [40:56<3:26:55, 61.16s/it]"
     ]
    },
    {
     "name": "stdout",
     "output_type": "stream",
     "text": [
      "Downloading audio from https://www.youtube.com/watch?v=4CiyKeSnSxk...\n"
     ]
    },
    {
     "name": "stderr",
     "output_type": "stream",
     "text": [
      " 59%|█████▉    | 289/491 [40:59<2:27:38, 43.85s/it]"
     ]
    },
    {
     "name": "stdout",
     "output_type": "stream",
     "text": [
      "Downloading audio from https://www.youtube.com/watch?v=KjgWWjkNbhU...\n",
      "                                                      \r  "
     ]
    },
    {
     "name": "stderr",
     "output_type": "stream",
     "text": [
      " 59%|█████▉    | 290/491 [41:00<1:43:46, 30.98s/it]"
     ]
    },
    {
     "name": "stdout",
     "output_type": "stream",
     "text": [
      "Downloading audio from https://www.youtube.com/watch?v=KjgWWjkNbhU...\n",
      "                                                      \r  "
     ]
    },
    {
     "name": "stderr",
     "output_type": "stream",
     "text": [
      " 59%|█████▉    | 291/491 [41:21<1:32:53, 27.87s/it]"
     ]
    },
    {
     "name": "stdout",
     "output_type": "stream",
     "text": [
      "Downloading audio from https://www.youtube.com/watch?v=MYU3F8uUGiw...\n",
      "[download]  28.3% of    3.54MiB at    1.27MiB/s ETA 00:02"
     ]
    },
    {
     "name": "stderr",
     "output_type": "stream",
     "text": [
      " 59%|█████▉    | 292/491 [41:26<1:10:15, 21.18s/it]"
     ]
    },
    {
     "name": "stdout",
     "output_type": "stream",
     "text": [
      "Downloading audio from https://www.youtube.com/watch?v=sxb0GeS4gL8...\n",
      "                                                      \r  "
     ]
    },
    {
     "name": "stderr",
     "output_type": "stream",
     "text": [
      " 60%|█████▉    | 293/491 [41:54<1:16:35, 23.21s/it]"
     ]
    },
    {
     "name": "stdout",
     "output_type": "stream",
     "text": [
      "Downloading audio from https://www.youtube.com/watch?v=75r0nQu-hMs...\n",
      "                                                      \r  "
     ]
    },
    {
     "name": "stderr",
     "output_type": "stream",
     "text": [
      " 60%|█████▉    | 294/491 [42:22<1:20:59, 24.67s/it]"
     ]
    },
    {
     "name": "stdout",
     "output_type": "stream",
     "text": [
      "Downloading audio from https://www.youtube.com/watch?v=-9xib-hCm6c...\n"
     ]
    },
    {
     "name": "stderr",
     "output_type": "stream",
     "text": [
      " 60%|██████    | 295/491 [42:24<58:11, 17.81s/it]  "
     ]
    },
    {
     "name": "stdout",
     "output_type": "stream",
     "text": [
      "Downloading audio from https://www.youtube.com/watch?v=wy709iNG6i8...\n",
      "                                                      \r  "
     ]
    },
    {
     "name": "stderr",
     "output_type": "stream",
     "text": [
      " 60%|██████    | 296/491 [42:56<1:11:21, 21.96s/it]"
     ]
    },
    {
     "name": "stdout",
     "output_type": "stream",
     "text": [
      "Downloading audio from https://www.youtube.com/watch?v=ImP5gvqFrnA...\n",
      "                                                      \r  "
     ]
    },
    {
     "name": "stderr",
     "output_type": "stream",
     "text": [
      " 60%|██████    | 297/491 [46:52<4:39:04, 86.31s/it]"
     ]
    },
    {
     "name": "stdout",
     "output_type": "stream",
     "text": [
      "Downloading audio from https://www.youtube.com/watch?v=M2t245xfa3E...\n",
      "                                                      \r  "
     ]
    },
    {
     "name": "stderr",
     "output_type": "stream",
     "text": [
      " 61%|██████    | 298/491 [47:18<3:39:31, 68.25s/it]"
     ]
    },
    {
     "name": "stdout",
     "output_type": "stream",
     "text": [
      "Downloading audio from https://www.youtube.com/watch?v=kaJRvZZBnX8...\n"
     ]
    },
    {
     "name": "stderr",
     "output_type": "stream",
     "text": [
      " 61%|██████    | 299/491 [47:21<2:34:52, 48.40s/it]"
     ]
    },
    {
     "name": "stdout",
     "output_type": "stream",
     "text": [
      "Downloading audio from https://www.youtube.com/watch?v=h6KYAVn8ons...\n",
      "[download]   4.8% of ~   1.69MiB at   35.17KiB/s ETA 00:35 (frag 1/52)  "
     ]
    },
    {
     "name": "stderr",
     "output_type": "stream",
     "text": [
      " 61%|██████    | 300/491 [47:24<1:51:16, 34.96s/it]"
     ]
    },
    {
     "name": "stdout",
     "output_type": "stream",
     "text": [
      "Downloading audio from https://www.youtube.com/watch?v=ZHwVBirqD2s...\n",
      "[download]   5.3% of ~   2.09MiB at   37.32KiB/s ETA 00:37 (frag 1/52)"
     ]
    },
    {
     "name": "stderr",
     "output_type": "stream",
     "text": [
      " 61%|██████▏   | 301/491 [47:25<1:18:09, 24.68s/it]"
     ]
    },
    {
     "name": "stdout",
     "output_type": "stream",
     "text": [
      "Downloading audio from https://www.youtube.com/watch?v=tkmwVDLMZNk...\n",
      "[download]  13.5% of ~   3.59MiB at   61.42KiB/s ETA 01:04 (frag 6/52)  "
     ]
    },
    {
     "name": "stderr",
     "output_type": "stream",
     "text": [
      " 62%|██████▏   | 302/491 [47:32<1:01:26, 19.50s/it]"
     ]
    },
    {
     "name": "stdout",
     "output_type": "stream",
     "text": [
      "Error: The downloaded file for track 319 is missing or empty.\n",
      "Error indexing I Guess That's Why They Call It The Blues (ID 319): cannot unpack non-iterable NoneType object\n",
      "Downloading audio from https://www.youtube.com/watch?v=n4q6bVQUSrc...\n",
      "[download]  17.7% of ~   3.61MiB at   71.73KiB/s ETA 00:47 (frag 8/52)"
     ]
    },
    {
     "name": "stderr",
     "output_type": "stream",
     "text": [
      " 62%|██████▏   | 303/491 [47:35<45:25, 14.50s/it]  "
     ]
    },
    {
     "name": "stdout",
     "output_type": "stream",
     "text": [
      "Downloading audio from https://www.youtube.com/watch?v=5EOFnnBQjp8...\n",
      "[download]  25.8% of ~   3.93MiB at   50.62KiB/s ETA 00:55 (frag 12/52)  "
     ]
    },
    {
     "name": "stderr",
     "output_type": "stream",
     "text": [
      " 62%|██████▏   | 304/491 [47:41<37:03, 11.89s/it]"
     ]
    },
    {
     "name": "stdout",
     "output_type": "stream",
     "text": [
      "Error: The downloaded file for track 322 is missing or empty.\n",
      "Error indexing Little Jeannie (ID 322): cannot unpack non-iterable NoneType object\n",
      "Downloading audio from https://www.youtube.com/watch?v=Tg-Q-Acv4qs...\n",
      "Downloading audio from https://www.youtube.com/watch?v=Xfz_nBGxukM...\n",
      "[download]  31.0% of ~   3.79MiB at   64.50KiB/s ETA 00:44 (frag 15/52)Downloading audio from https://www.youtube.com/watch?v=EB86UzewPdo...\n"
     ]
    },
    {
     "name": "stderr",
     "output_type": "stream",
     "text": [
      " 62%|██████▏   | 306/491 [47:44<22:03,  7.16s/it]"
     ]
    },
    {
     "name": "stdout",
     "output_type": "stream",
     "text": [
      "[download]  45.0% of ~   4.11MiB at  120.25KiB/s ETA 00:26 (frag 22/52) "
     ]
    },
    {
     "name": "stderr",
     "output_type": "stream",
     "text": [
      " 63%|██████▎   | 307/491 [47:54<23:45,  7.75s/it]"
     ]
    },
    {
     "name": "stdout",
     "output_type": "stream",
     "text": [
      "Downloading audio from https://www.youtube.com/watch?v=sOF6_kHBkyg...\n",
      "[download]  74.8% of ~   4.36MiB at  122.70KiB/s ETA 00:10 (frag 39/54)"
     ]
    },
    {
     "name": "stderr",
     "output_type": "stream",
     "text": [
      " 63%|██████▎   | 308/491 [48:16<35:16, 11.56s/it]"
     ]
    },
    {
     "name": "stdout",
     "output_type": "stream",
     "text": [
      "Error: The downloaded file for track 318 is missing or empty.\n",
      "Error indexing I Don't Wanna Go On With You Like That (ID 318): cannot unpack non-iterable NoneType object\n",
      "Downloading audio from https://www.youtube.com/watch?v=DtVBCG6ThDk...\n",
      "[download]  92.9% of ~   4.45MiB at  122.65KiB/s ETA 00:04 (frag 49/54)"
     ]
    },
    {
     "name": "stderr",
     "output_type": "stream",
     "text": [
      " 63%|██████▎   | 309/491 [48:27<34:16, 11.30s/it]"
     ]
    },
    {
     "name": "stdout",
     "output_type": "stream",
     "text": [
      "Downloading audio from https://www.youtube.com/watch?v=NrLkTZrPZA4...\n",
      "                                                        \r              "
     ]
    },
    {
     "name": "stderr",
     "output_type": "stream",
     "text": [
      " 63%|██████▎   | 310/491 [48:31<28:16,  9.37s/it]"
     ]
    },
    {
     "name": "stdout",
     "output_type": "stream",
     "text": [
      "Error: The downloaded file for track 324 is missing or empty.\n",
      "Error indexing Nikita (ID 324): cannot unpack non-iterable NoneType object\n",
      "Downloading audio from https://www.youtube.com/watch?v=X23v5_K7cXk...\n",
      "                                                      \r  "
     ]
    },
    {
     "name": "stderr",
     "output_type": "stream",
     "text": [
      " 63%|██████▎   | 311/491 [48:38<26:15,  8.75s/it]"
     ]
    },
    {
     "name": "stdout",
     "output_type": "stream",
     "text": [
      "Downloading audio from https://www.youtube.com/watch?v=B93Tir6l5FA...\n"
     ]
    },
    {
     "name": "stderr",
     "output_type": "stream",
     "text": [
      " 64%|██████▎   | 312/491 [48:39<19:01,  6.37s/it]"
     ]
    },
    {
     "name": "stdout",
     "output_type": "stream",
     "text": [
      "Downloading audio from https://www.youtube.com/watch?v=yJ_H28GoaCs...\n",
      "                                                      \r  "
     ]
    },
    {
     "name": "stderr",
     "output_type": "stream",
     "text": [
      " 64%|██████▎   | 313/491 [48:49<22:38,  7.63s/it]"
     ]
    },
    {
     "name": "stdout",
     "output_type": "stream",
     "text": [
      "Downloading audio from https://www.youtube.com/watch?v=yYcyacLRPNs...\n"
     ]
    },
    {
     "name": "stderr",
     "output_type": "stream",
     "text": [
      " 64%|██████▍   | 314/491 [48:50<16:39,  5.65s/it]"
     ]
    },
    {
     "name": "stdout",
     "output_type": "stream",
     "text": [
      "Downloading audio from https://www.youtube.com/watch?v=GlPlfCy1urI...\n",
      "                                                      \r  "
     ]
    },
    {
     "name": "stderr",
     "output_type": "stream",
     "text": [
      " 64%|██████▍   | 315/491 [49:18<35:27, 12.09s/it]"
     ]
    },
    {
     "name": "stdout",
     "output_type": "stream",
     "text": [
      "Downloading audio from https://www.youtube.com/watch?v=um4-d7VzZiE...\n"
     ]
    },
    {
     "name": "stderr",
     "output_type": "stream",
     "text": [
      " 64%|██████▍   | 316/491 [49:20<26:56,  9.24s/it]"
     ]
    },
    {
     "name": "stdout",
     "output_type": "stream",
     "text": [
      "Downloading audio from https://www.youtube.com/watch?v=ab9176Srb5Y...\n",
      "                                                      \r  "
     ]
    },
    {
     "name": "stderr",
     "output_type": "stream",
     "text": [
      " 65%|██████▍   | 317/491 [50:11<1:02:19, 21.49s/it]"
     ]
    },
    {
     "name": "stdout",
     "output_type": "stream",
     "text": [
      "Downloading audio from https://www.youtube.com/watch?v=P05bTId-92A...\n",
      "                                                      \r  "
     ]
    },
    {
     "name": "stderr",
     "output_type": "stream",
     "text": [
      " 65%|██████▍   | 318/491 [50:23<54:24, 18.87s/it]  "
     ]
    },
    {
     "name": "stdout",
     "output_type": "stream",
     "text": [
      "Downloading audio from https://www.youtube.com/watch?v=RQ9_TKayu9s...\n",
      "                                                      \r  "
     ]
    },
    {
     "name": "stderr",
     "output_type": "stream",
     "text": [
      " 65%|██████▍   | 319/491 [51:03<1:12:21, 25.24s/it]"
     ]
    },
    {
     "name": "stdout",
     "output_type": "stream",
     "text": [
      "Downloading audio from https://www.youtube.com/watch?v=9dcVOmEQzKA...\n"
     ]
    },
    {
     "name": "stderr",
     "output_type": "stream",
     "text": [
      " 65%|██████▌   | 320/491 [51:05<51:22, 18.03s/it]  "
     ]
    },
    {
     "name": "stdout",
     "output_type": "stream",
     "text": [
      "Downloading audio from https://www.youtube.com/watch?v=lexLAjh8fPA...\n",
      "                                                      \r  "
     ]
    },
    {
     "name": "stderr",
     "output_type": "stream",
     "text": [
      " 65%|██████▌   | 321/491 [52:07<1:28:46, 31.33s/it]"
     ]
    },
    {
     "name": "stdout",
     "output_type": "stream",
     "text": [
      "Downloading audio from https://www.youtube.com/watch?v=7YuAzR2XVAM...\n",
      "                                                      \r  "
     ]
    },
    {
     "name": "stderr",
     "output_type": "stream",
     "text": [
      " 66%|██████▌   | 322/491 [52:57<1:43:39, 36.80s/it]"
     ]
    },
    {
     "name": "stdout",
     "output_type": "stream",
     "text": [
      "Downloading audio from https://www.youtube.com/watch?v=Wj7lL6eDOqc...\n",
      "                                                      \r  "
     ]
    },
    {
     "name": "stderr",
     "output_type": "stream",
     "text": [
      " 66%|██████▌   | 323/491 [53:42<1:50:34, 39.49s/it]"
     ]
    },
    {
     "name": "stdout",
     "output_type": "stream",
     "text": [
      "Downloading audio from https://www.youtube.com/watch?v=S9bCLPwzSC0...\n",
      "                                                      \r  "
     ]
    },
    {
     "name": "stderr",
     "output_type": "stream",
     "text": [
      " 66%|██████▌   | 324/491 [54:33<1:59:09, 42.81s/it]"
     ]
    },
    {
     "name": "stdout",
     "output_type": "stream",
     "text": [
      "Downloading audio from https://www.youtube.com/watch?v=sNPnbI1arSE...\n",
      "                                                      \r  "
     ]
    },
    {
     "name": "stderr",
     "output_type": "stream",
     "text": [
      " 66%|██████▌   | 325/491 [55:17<1:59:07, 43.06s/it]"
     ]
    },
    {
     "name": "stdout",
     "output_type": "stream",
     "text": [
      "Downloading audio from https://www.youtube.com/watch?v=j5-yKhDd64s...\n",
      "                                                      \r  "
     ]
    },
    {
     "name": "stderr",
     "output_type": "stream",
     "text": [
      " 66%|██████▋   | 326/491 [55:39<1:41:47, 37.01s/it]"
     ]
    },
    {
     "name": "stdout",
     "output_type": "stream",
     "text": [
      "Downloading audio from https://www.youtube.com/watch?v=D4hAVemuQXY...\n",
      "                                                      \r                  "
     ]
    },
    {
     "name": "stderr",
     "output_type": "stream",
     "text": [
      " 67%|██████▋   | 327/491 [55:46<1:15:57, 27.79s/it]"
     ]
    },
    {
     "name": "stdout",
     "output_type": "stream",
     "text": [
      "Error: The downloaded file for track 346 is missing or empty.\n",
      "Error indexing Sing For The Moment (ID 346): cannot unpack non-iterable NoneType object\n",
      "Downloading audio from https://www.youtube.com/watch?v=eJO5HU_7_1w...\n",
      "[download]  68.1% of ~   4.11MiB at    1.81MiB/s ETA 00:01 (frag 32/49)  "
     ]
    },
    {
     "name": "stderr",
     "output_type": "stream",
     "text": [
      " 67%|██████▋   | 328/491 [55:51<57:28, 21.16s/it]  "
     ]
    },
    {
     "name": "stdout",
     "output_type": "stream",
     "text": [
      "Downloading audio from https://www.youtube.com/watch?v=RSdKmX2BH7o...\n",
      "                                                      \r                "
     ]
    },
    {
     "name": "stderr",
     "output_type": "stream",
     "text": [
      " 67%|██████▋   | 329/491 [55:52<40:48, 15.11s/it]"
     ]
    },
    {
     "name": "stdout",
     "output_type": "stream",
     "text": [
      "Error: The downloaded file for track 347 is missing or empty.\n",
      "Error indexing The Real Slim Shady (ID 347): cannot unpack non-iterable NoneType object\n",
      "Downloading audio from https://www.youtube.com/watch?v=1wYNFfgrXTI...\n",
      "                                                        \r"
     ]
    },
    {
     "name": "stderr",
     "output_type": "stream",
     "text": [
      " 67%|██████▋   | 330/491 [56:57<1:20:45, 30.10s/it]"
     ]
    },
    {
     "name": "stdout",
     "output_type": "stream",
     "text": [
      "Downloading audio from https://www.youtube.com/watch?v=YVkUvmDQ3HY...\n",
      "[download]  43.5% of    4.60MiB at    2.68MiB/s ETA 00:00"
     ]
    },
    {
     "name": "stderr",
     "output_type": "stream",
     "text": [
      " 67%|██████▋   | 331/491 [57:02<59:46, 22.42s/it]  "
     ]
    },
    {
     "name": "stdout",
     "output_type": "stream",
     "text": [
      "Downloading audio from https://www.youtube.com/watch?v=5sye_VxmNZA...\n",
      "                                                      \r  "
     ]
    },
    {
     "name": "stderr",
     "output_type": "stream",
     "text": [
      " 68%|██████▊   | 332/491 [57:34<1:06:47, 25.20s/it]"
     ]
    },
    {
     "name": "stdout",
     "output_type": "stream",
     "text": [
      "Downloading audio from https://www.youtube.com/watch?v=6T7bHq9Ebg0...\n",
      "                                                      \r  "
     ]
    },
    {
     "name": "stderr",
     "output_type": "stream",
     "text": [
      " 68%|██████▊   | 333/491 [59:33<2:20:47, 53.46s/it]"
     ]
    },
    {
     "name": "stdout",
     "output_type": "stream",
     "text": [
      "Downloading audio from https://www.youtube.com/watch?v=9mQJaXwGPlg...\n",
      "                                                      \r                  "
     ]
    },
    {
     "name": "stderr",
     "output_type": "stream",
     "text": [
      " 68%|██████▊   | 334/491 [59:41<1:43:47, 39.67s/it]"
     ]
    },
    {
     "name": "stdout",
     "output_type": "stream",
     "text": [
      "Error: The downloaded file for track 353 is missing or empty.\n",
      "Error indexing Escape (ID 353): cannot unpack non-iterable NoneType object\n",
      "Downloading audio from https://www.youtube.com/watch?v=koJlIGDImiU...\n",
      "                                                      \r  "
     ]
    },
    {
     "name": "stderr",
     "output_type": "stream",
     "text": [
      " 68%|██████▊   | 335/491 [59:50<1:19:42, 30.66s/it]"
     ]
    },
    {
     "name": "stdout",
     "output_type": "stream",
     "text": [
      "Downloading audio from https://www.youtube.com/watch?v=wuUTF5ZLofw...\n",
      "                                                      \r  "
     ]
    },
    {
     "name": "stderr",
     "output_type": "stream",
     "text": [
      " 68%|██████▊   | 336/491 [1:00:53<1:44:14, 40.35s/it]"
     ]
    },
    {
     "name": "stdout",
     "output_type": "stream",
     "text": [
      "Downloading audio from https://www.youtube.com/watch?v=O6yeLNNVa4A...\n",
      "                                                      \r  "
     ]
    },
    {
     "name": "stderr",
     "output_type": "stream",
     "text": [
      " 69%|██████▊   | 337/491 [1:01:56<2:00:47, 47.06s/it]"
     ]
    },
    {
     "name": "stdout",
     "output_type": "stream",
     "text": [
      "Downloading audio from https://www.youtube.com/watch?v=APWhx97QvxE...\n"
     ]
    },
    {
     "name": "stderr",
     "output_type": "stream",
     "text": [
      " 69%|██████▉   | 338/491 [1:01:57<1:24:46, 33.25s/it]"
     ]
    },
    {
     "name": "stdout",
     "output_type": "stream",
     "text": [
      "Downloading audio from https://www.youtube.com/watch?v=Mm7GWGppDgg...\n",
      "                                                      \r    "
     ]
    },
    {
     "name": "stderr",
     "output_type": "stream",
     "text": [
      " 69%|██████▉   | 339/491 [1:02:05<1:05:11, 25.73s/it]"
     ]
    },
    {
     "name": "stdout",
     "output_type": "stream",
     "text": [
      "Downloading audio from https://www.youtube.com/watch?v=JxPj3GAYYZ0...\n",
      "                                                      \r  "
     ]
    },
    {
     "name": "stderr",
     "output_type": "stream",
     "text": [
      " 69%|██████▉   | 340/491 [1:04:36<2:39:16, 63.29s/it]"
     ]
    },
    {
     "name": "stdout",
     "output_type": "stream",
     "text": [
      "Downloading audio from https://www.youtube.com/watch?v=3YxaaGgTQYM...\n",
      "                                                      \r  "
     ]
    },
    {
     "name": "stderr",
     "output_type": "stream",
     "text": [
      " 69%|██████▉   | 341/491 [1:05:25<2:27:40, 59.07s/it]"
     ]
    },
    {
     "name": "stdout",
     "output_type": "stream",
     "text": [
      "Downloading audio from https://www.youtube.com/watch?v=_RrA-R5VHQs...\n",
      "                                                      \r  "
     ]
    },
    {
     "name": "stderr",
     "output_type": "stream",
     "text": [
      " 70%|██████▉   | 342/491 [1:06:28<2:29:03, 60.03s/it]"
     ]
    },
    {
     "name": "stdout",
     "output_type": "stream",
     "text": [
      "Downloading audio from https://www.youtube.com/watch?v=jhC1pI76Rqo...\n",
      "                                                      \r  "
     ]
    },
    {
     "name": "stderr",
     "output_type": "stream",
     "text": [
      " 70%|██████▉   | 343/491 [1:06:48<1:58:31, 48.05s/it]"
     ]
    },
    {
     "name": "stdout",
     "output_type": "stream",
     "text": [
      "Downloading audio from https://www.youtube.com/watch?v=CdhqVtpR2ts...\n",
      "                                                      \r  "
     ]
    },
    {
     "name": "stderr",
     "output_type": "stream",
     "text": [
      " 70%|███████   | 344/491 [1:06:57<1:29:20, 36.47s/it]"
     ]
    },
    {
     "name": "stdout",
     "output_type": "stream",
     "text": [
      "Downloading audio from https://www.youtube.com/watch?v=PJGpsL_XYQI...\n",
      "                                                      \r  "
     ]
    },
    {
     "name": "stderr",
     "output_type": "stream",
     "text": [
      " 70%|███████   | 345/491 [1:08:36<2:14:39, 55.34s/it]"
     ]
    },
    {
     "name": "stdout",
     "output_type": "stream",
     "text": [
      "Downloading audio from https://www.youtube.com/watch?v=5anLPw0Efmo...\n",
      "                                                      \r  "
     ]
    },
    {
     "name": "stderr",
     "output_type": "stream",
     "text": [
      " 71%|███████   | 347/491 [1:09:00<1:17:06, 32.13s/it]"
     ]
    },
    {
     "name": "stdout",
     "output_type": "stream",
     "text": [
      "Downloading audio from https://www.youtube.com/watch?v=aVbPvf2aYH4...\n",
      "Downloading audio from https://www.youtube.com/watch?v=LBr7kECsjcQ...\n",
      "                                                        \r               "
     ]
    },
    {
     "name": "stderr",
     "output_type": "stream",
     "text": [
      " 71%|███████   | 348/491 [1:09:12<1:01:44, 25.91s/it]"
     ]
    },
    {
     "name": "stdout",
     "output_type": "stream",
     "text": [
      "Error: The downloaded file for track 367 is missing or empty.\n",
      "Error indexing Centuries (ID 367): cannot unpack non-iterable NoneType object\n",
      "Downloading audio from https://www.youtube.com/watch?v=Alh6iIvVN9o...\n",
      "                                                      \r  "
     ]
    },
    {
     "name": "stderr",
     "output_type": "stream",
     "text": [
      " 71%|███████   | 349/491 [1:10:55<1:56:07, 49.06s/it]"
     ]
    },
    {
     "name": "stdout",
     "output_type": "stream",
     "text": [
      "Downloading audio from https://www.youtube.com/watch?v=V2b2PURkg40...\n",
      "                                                      \r  "
     ]
    },
    {
     "name": "stderr",
     "output_type": "stream",
     "text": [
      " 71%|███████▏  | 350/491 [1:11:06<1:28:41, 37.74s/it]"
     ]
    },
    {
     "name": "stdout",
     "output_type": "stream",
     "text": [
      "Downloading audio from https://www.youtube.com/watch?v=uhG-vLZrb-g...\n",
      "                                                      \r  "
     ]
    },
    {
     "name": "stderr",
     "output_type": "stream",
     "text": [
      " 71%|███████▏  | 351/491 [1:11:12<1:05:30, 28.08s/it]"
     ]
    },
    {
     "name": "stdout",
     "output_type": "stream",
     "text": [
      "Downloading audio from https://www.youtube.com/watch?v=GNm5drtAQXs...\n",
      "                                                      \r  "
     ]
    },
    {
     "name": "stderr",
     "output_type": "stream",
     "text": [
      " 72%|███████▏  | 352/491 [1:11:47<1:10:13, 30.31s/it]"
     ]
    },
    {
     "name": "stdout",
     "output_type": "stream",
     "text": [
      "Downloading audio from https://www.youtube.com/watch?v=onzL0EM1pKY...\n",
      "                                                      \r  "
     ]
    },
    {
     "name": "stderr",
     "output_type": "stream",
     "text": [
      " 72%|███████▏  | 353/491 [1:12:32<1:19:36, 34.61s/it]"
     ]
    },
    {
     "name": "stdout",
     "output_type": "stream",
     "text": [
      "Downloading audio from https://www.youtube.com/watch?v=fXeKi6ZkbOw...\n",
      "                                                      \r  "
     ]
    },
    {
     "name": "stderr",
     "output_type": "stream",
     "text": [
      " 72%|███████▏  | 354/491 [1:13:36<1:39:01, 43.37s/it]"
     ]
    },
    {
     "name": "stdout",
     "output_type": "stream",
     "text": [
      "Downloading audio from https://www.youtube.com/watch?v=0hGhl7ki3HM...\n",
      "                                                      \r  "
     ]
    },
    {
     "name": "stderr",
     "output_type": "stream",
     "text": [
      " 72%|███████▏  | 355/491 [1:14:11<1:32:38, 40.87s/it]"
     ]
    },
    {
     "name": "stdout",
     "output_type": "stream",
     "text": [
      "Downloading audio from https://www.youtube.com/watch?v=5oWyMakvQew...\n",
      "                                                      \r  "
     ]
    },
    {
     "name": "stderr",
     "output_type": "stream",
     "text": [
      " 73%|███████▎  | 356/491 [1:14:56<1:35:10, 42.30s/it]"
     ]
    },
    {
     "name": "stdout",
     "output_type": "stream",
     "text": [
      "Downloading audio from https://www.youtube.com/watch?v=oiosqtFLBBA...\n",
      "                                                      \r                  "
     ]
    },
    {
     "name": "stderr",
     "output_type": "stream",
     "text": [
      " 73%|███████▎  | 357/491 [1:15:03<1:10:22, 31.51s/it]"
     ]
    },
    {
     "name": "stdout",
     "output_type": "stream",
     "text": [
      "Error: The downloaded file for track 376 is missing or empty.\n",
      "Error indexing Go Your Own Way (ID 376): cannot unpack non-iterable NoneType object\n",
      "Downloading audio from https://www.youtube.com/watch?v=DubafeFeJ7Y...\n",
      "                                                      \r  "
     ]
    },
    {
     "name": "stderr",
     "output_type": "stream",
     "text": [
      " 73%|███████▎  | 358/491 [1:16:01<1:27:27, 39.45s/it]"
     ]
    },
    {
     "name": "stdout",
     "output_type": "stream",
     "text": [
      "Downloading audio from https://www.youtube.com/watch?v=E0sha1XfHxw...\n",
      "                                                      \r  "
     ]
    },
    {
     "name": "stderr",
     "output_type": "stream",
     "text": [
      " 73%|███████▎  | 359/491 [1:18:56<2:56:15, 80.12s/it]"
     ]
    },
    {
     "name": "stdout",
     "output_type": "stream",
     "text": [
      "Downloading audio from https://www.youtube.com/watch?v=uCGD9dT12C0...\n",
      "[download]  14.8% of    3.38MiB at    5.33MiB/s ETA 00:00"
     ]
    },
    {
     "name": "stderr",
     "output_type": "stream",
     "text": [
      " 73%|███████▎  | 360/491 [1:18:59<2:04:46, 57.15s/it]"
     ]
    },
    {
     "name": "stdout",
     "output_type": "stream",
     "text": [
      "Downloading audio from https://www.youtube.com/watch?v=jQAK6sVovUk...\n",
      "                                                      \r  "
     ]
    },
    {
     "name": "stderr",
     "output_type": "stream",
     "text": [
      " 74%|███████▎  | 361/491 [1:19:38<1:51:47, 51.60s/it]"
     ]
    },
    {
     "name": "stdout",
     "output_type": "stream",
     "text": [
      "Downloading audio from https://www.youtube.com/watch?v=9bWGy0K5VF0...\n",
      "                                                      \r  "
     ]
    },
    {
     "name": "stderr",
     "output_type": "stream",
     "text": [
      " 74%|███████▎  | 362/491 [1:20:02<1:33:30, 43.49s/it]"
     ]
    },
    {
     "name": "stdout",
     "output_type": "stream",
     "text": [
      "Downloading audio from https://www.youtube.com/watch?v=4YnIs8ioHQs...\n",
      "                                                      \r  "
     ]
    },
    {
     "name": "stderr",
     "output_type": "stream",
     "text": [
      " 74%|███████▍  | 363/491 [1:20:17<1:14:14, 34.80s/it]"
     ]
    },
    {
     "name": "stdout",
     "output_type": "stream",
     "text": [
      "Downloading audio from https://www.youtube.com/watch?v=xwTPvcPYaOo...\n",
      "                                                      \r  "
     ]
    },
    {
     "name": "stderr",
     "output_type": "stream",
     "text": [
      " 74%|███████▍  | 364/491 [1:22:07<2:01:49, 57.55s/it]"
     ]
    },
    {
     "name": "stdout",
     "output_type": "stream",
     "text": [
      "Downloading audio from https://www.youtube.com/watch?v=EmuBOfurv3o...\n",
      "                                                      \r  "
     ]
    },
    {
     "name": "stderr",
     "output_type": "stream",
     "text": [
      " 74%|███████▍  | 365/491 [1:22:13<1:28:15, 42.03s/it]"
     ]
    },
    {
     "name": "stdout",
     "output_type": "stream",
     "text": [
      "Downloading audio from https://www.youtube.com/watch?v=h_L4Rixya64...\n",
      "                                                      \r                  "
     ]
    },
    {
     "name": "stderr",
     "output_type": "stream",
     "text": [
      " 75%|███████▍  | 366/491 [1:22:20<1:05:21, 31.37s/it]"
     ]
    },
    {
     "name": "stdout",
     "output_type": "stream",
     "text": [
      "Error: The downloaded file for track 385 is missing or empty.\n",
      "Error indexing Best Of You (ID 385): cannot unpack non-iterable NoneType object\n",
      "Downloading audio from https://www.youtube.com/watch?v=h_L4Rixya64...\n",
      "                                                      \r  "
     ]
    },
    {
     "name": "stderr",
     "output_type": "stream",
     "text": [
      " 75%|███████▍  | 367/491 [1:23:37<1:33:01, 45.01s/it]"
     ]
    },
    {
     "name": "stdout",
     "output_type": "stream",
     "text": [
      "Downloading audio from https://www.youtube.com/watch?v=pLdJQFTnZfA...\n",
      "                                                      \r  "
     ]
    },
    {
     "name": "stderr",
     "output_type": "stream",
     "text": [
      " 75%|███████▍  | 368/491 [1:23:45<1:09:33, 33.93s/it]"
     ]
    },
    {
     "name": "stdout",
     "output_type": "stream",
     "text": [
      "Downloading audio from https://www.youtube.com/watch?v=eBG7P-K-r1Y...\n",
      "                                                      \r  "
     ]
    },
    {
     "name": "stderr",
     "output_type": "stream",
     "text": [
      " 75%|███████▌  | 369/491 [1:25:40<1:58:34, 58.31s/it]"
     ]
    },
    {
     "name": "stdout",
     "output_type": "stream",
     "text": [
      "Downloading audio from https://www.youtube.com/watch?v=yhERrxABD5o...\n"
     ]
    },
    {
     "name": "stderr",
     "output_type": "stream",
     "text": [
      "ERROR: [youtube] yhERrxABD5o: Sign in to confirm you’re not a bot. Use --cookies-from-browser or --cookies for the authentication. See  https://github.com/yt-dlp/yt-dlp/wiki/FAQ#how-do-i-pass-cookies-to-yt-dlp  for how to manually pass cookies. Also see  https://github.com/yt-dlp/yt-dlp/wiki/Extractors#exporting-youtube-cookies  for tips on effectively exporting YouTube cookies\n"
     ]
    },
    {
     "name": "stdout",
     "output_type": "stream",
     "text": [
      "[Attempt 1] Download error: ERROR: [youtube] yhERrxABD5o: Sign in to confirm you’re not a bot. Use --cookies-from-browser or --cookies for the authentication. See  https://github.com/yt-dlp/yt-dlp/wiki/FAQ#how-do-i-pass-cookies-to-yt-dlp  for how to manually pass cookies. Also see  https://github.com/yt-dlp/yt-dlp/wiki/Extractors#exporting-youtube-cookies  for tips on effectively exporting YouTube cookies\n"
     ]
    },
    {
     "name": "stderr",
     "output_type": "stream",
     "text": [
      "ERROR: [youtube] yhERrxABD5o: Sign in to confirm you’re not a bot. Use --cookies-from-browser or --cookies for the authentication. See  https://github.com/yt-dlp/yt-dlp/wiki/FAQ#how-do-i-pass-cookies-to-yt-dlp  for how to manually pass cookies. Also see  https://github.com/yt-dlp/yt-dlp/wiki/Extractors#exporting-youtube-cookies  for tips on effectively exporting YouTube cookies\n",
      " 75%|███████▌  | 370/491 [1:25:42<1:23:41, 41.50s/it]"
     ]
    },
    {
     "name": "stdout",
     "output_type": "stream",
     "text": [
      "[Attempt 2] Download error: ERROR: [youtube] yhERrxABD5o: Sign in to confirm you’re not a bot. Use --cookies-from-browser or --cookies for the authentication. See  https://github.com/yt-dlp/yt-dlp/wiki/FAQ#how-do-i-pass-cookies-to-yt-dlp  for how to manually pass cookies. Also see  https://github.com/yt-dlp/yt-dlp/wiki/Extractors#exporting-youtube-cookies  for tips on effectively exporting YouTube cookies\n",
      "Error indexing Generator (ID 389): cannot unpack non-iterable NoneType object\n",
      "Downloading audio from https://www.youtube.com/watch?v=1VQ_3sBZEm0...\n"
     ]
    },
    {
     "name": "stderr",
     "output_type": "stream",
     "text": [
      "ERROR: [youtube] 1VQ_3sBZEm0: Sign in to confirm you’re not a bot. Use --cookies-from-browser or --cookies for the authentication. See  https://github.com/yt-dlp/yt-dlp/wiki/FAQ#how-do-i-pass-cookies-to-yt-dlp  for how to manually pass cookies. Also see  https://github.com/yt-dlp/yt-dlp/wiki/Extractors#exporting-youtube-cookies  for tips on effectively exporting YouTube cookies\n"
     ]
    },
    {
     "name": "stdout",
     "output_type": "stream",
     "text": [
      "[Attempt 1] Download error: ERROR: [youtube] 1VQ_3sBZEm0: Sign in to confirm you’re not a bot. Use --cookies-from-browser or --cookies for the authentication. See  https://github.com/yt-dlp/yt-dlp/wiki/FAQ#how-do-i-pass-cookies-to-yt-dlp  for how to manually pass cookies. Also see  https://github.com/yt-dlp/yt-dlp/wiki/Extractors#exporting-youtube-cookies  for tips on effectively exporting YouTube cookies\n"
     ]
    },
    {
     "name": "stderr",
     "output_type": "stream",
     "text": [
      "ERROR: [youtube] 1VQ_3sBZEm0: Sign in to confirm you’re not a bot. Use --cookies-from-browser or --cookies for the authentication. See  https://github.com/yt-dlp/yt-dlp/wiki/FAQ#how-do-i-pass-cookies-to-yt-dlp  for how to manually pass cookies. Also see  https://github.com/yt-dlp/yt-dlp/wiki/Extractors#exporting-youtube-cookies  for tips on effectively exporting YouTube cookies\n",
      " 76%|███████▌  | 371/491 [1:25:45<59:31, 29.76s/it]  "
     ]
    },
    {
     "name": "stdout",
     "output_type": "stream",
     "text": [
      "[Attempt 2] Download error: ERROR: [youtube] 1VQ_3sBZEm0: Sign in to confirm you’re not a bot. Use --cookies-from-browser or --cookies for the authentication. See  https://github.com/yt-dlp/yt-dlp/wiki/FAQ#how-do-i-pass-cookies-to-yt-dlp  for how to manually pass cookies. Also see  https://github.com/yt-dlp/yt-dlp/wiki/Extractors#exporting-youtube-cookies  for tips on effectively exporting YouTube cookies\n",
      "Error indexing Learn to Fly (ID 390): cannot unpack non-iterable NoneType object\n",
      "Downloading audio from https://www.youtube.com/watch?v=308KpFZ4cT8...\n"
     ]
    },
    {
     "name": "stderr",
     "output_type": "stream",
     "text": [
      "ERROR: [youtube] 308KpFZ4cT8: Sign in to confirm you’re not a bot. Use --cookies-from-browser or --cookies for the authentication. See  https://github.com/yt-dlp/yt-dlp/wiki/FAQ#how-do-i-pass-cookies-to-yt-dlp  for how to manually pass cookies. Also see  https://github.com/yt-dlp/yt-dlp/wiki/Extractors#exporting-youtube-cookies  for tips on effectively exporting YouTube cookies\n"
     ]
    },
    {
     "name": "stdout",
     "output_type": "stream",
     "text": [
      "[Attempt 1] Download error: ERROR: [youtube] 308KpFZ4cT8: Sign in to confirm you’re not a bot. Use --cookies-from-browser or --cookies for the authentication. See  https://github.com/yt-dlp/yt-dlp/wiki/FAQ#how-do-i-pass-cookies-to-yt-dlp  for how to manually pass cookies. Also see  https://github.com/yt-dlp/yt-dlp/wiki/Extractors#exporting-youtube-cookies  for tips on effectively exporting YouTube cookies\n"
     ]
    },
    {
     "name": "stderr",
     "output_type": "stream",
     "text": [
      "ERROR: [youtube] 308KpFZ4cT8: Sign in to confirm you’re not a bot. Use --cookies-from-browser or --cookies for the authentication. See  https://github.com/yt-dlp/yt-dlp/wiki/FAQ#how-do-i-pass-cookies-to-yt-dlp  for how to manually pass cookies. Also see  https://github.com/yt-dlp/yt-dlp/wiki/Extractors#exporting-youtube-cookies  for tips on effectively exporting YouTube cookies\n",
      " 76%|███████▌  | 372/491 [1:25:47<42:34, 21.47s/it]"
     ]
    },
    {
     "name": "stdout",
     "output_type": "stream",
     "text": [
      "[Attempt 2] Download error: ERROR: [youtube] 308KpFZ4cT8: Sign in to confirm you’re not a bot. Use --cookies-from-browser or --cookies for the authentication. See  https://github.com/yt-dlp/yt-dlp/wiki/FAQ#how-do-i-pass-cookies-to-yt-dlp  for how to manually pass cookies. Also see  https://github.com/yt-dlp/yt-dlp/wiki/Extractors#exporting-youtube-cookies  for tips on effectively exporting YouTube cookies\n",
      "Error indexing Long Road To Ruin (ID 391): cannot unpack non-iterable NoneType object\n",
      "Downloading audio from https://www.youtube.com/watch?v=I7rCNiiNPxA...\n"
     ]
    },
    {
     "name": "stderr",
     "output_type": "stream",
     "text": [
      "ERROR: [youtube] I7rCNiiNPxA: Sign in to confirm you’re not a bot. Use --cookies-from-browser or --cookies for the authentication. See  https://github.com/yt-dlp/yt-dlp/wiki/FAQ#how-do-i-pass-cookies-to-yt-dlp  for how to manually pass cookies. Also see  https://github.com/yt-dlp/yt-dlp/wiki/Extractors#exporting-youtube-cookies  for tips on effectively exporting YouTube cookies\n"
     ]
    },
    {
     "name": "stdout",
     "output_type": "stream",
     "text": [
      "[Attempt 1] Download error: ERROR: [youtube] I7rCNiiNPxA: Sign in to confirm you’re not a bot. Use --cookies-from-browser or --cookies for the authentication. See  https://github.com/yt-dlp/yt-dlp/wiki/FAQ#how-do-i-pass-cookies-to-yt-dlp  for how to manually pass cookies. Also see  https://github.com/yt-dlp/yt-dlp/wiki/Extractors#exporting-youtube-cookies  for tips on effectively exporting YouTube cookies\n"
     ]
    },
    {
     "name": "stderr",
     "output_type": "stream",
     "text": [
      "ERROR: [youtube] I7rCNiiNPxA: Sign in to confirm you’re not a bot. Use --cookies-from-browser or --cookies for the authentication. See  https://github.com/yt-dlp/yt-dlp/wiki/FAQ#how-do-i-pass-cookies-to-yt-dlp  for how to manually pass cookies. Also see  https://github.com/yt-dlp/yt-dlp/wiki/Extractors#exporting-youtube-cookies  for tips on effectively exporting YouTube cookies\n",
      " 76%|███████▌  | 373/491 [1:25:49<30:58, 15.75s/it]"
     ]
    },
    {
     "name": "stdout",
     "output_type": "stream",
     "text": [
      "[Attempt 2] Download error: ERROR: [youtube] I7rCNiiNPxA: Sign in to confirm you’re not a bot. Use --cookies-from-browser or --cookies for the authentication. See  https://github.com/yt-dlp/yt-dlp/wiki/FAQ#how-do-i-pass-cookies-to-yt-dlp  for how to manually pass cookies. Also see  https://github.com/yt-dlp/yt-dlp/wiki/Extractors#exporting-youtube-cookies  for tips on effectively exporting YouTube cookies\n",
      "Error indexing Monkey Wrench (ID 392): cannot unpack non-iterable NoneType object\n",
      "Downloading audio from https://www.youtube.com/watch?v=EqWRaAF6_WY...\n"
     ]
    },
    {
     "name": "stderr",
     "output_type": "stream",
     "text": [
      "ERROR: [youtube] EqWRaAF6_WY: Sign in to confirm you’re not a bot. Use --cookies-from-browser or --cookies for the authentication. See  https://github.com/yt-dlp/yt-dlp/wiki/FAQ#how-do-i-pass-cookies-to-yt-dlp  for how to manually pass cookies. Also see  https://github.com/yt-dlp/yt-dlp/wiki/Extractors#exporting-youtube-cookies  for tips on effectively exporting YouTube cookies\n"
     ]
    },
    {
     "name": "stdout",
     "output_type": "stream",
     "text": [
      "[Attempt 1] Download error: ERROR: [youtube] EqWRaAF6_WY: Sign in to confirm you’re not a bot. Use --cookies-from-browser or --cookies for the authentication. See  https://github.com/yt-dlp/yt-dlp/wiki/FAQ#how-do-i-pass-cookies-to-yt-dlp  for how to manually pass cookies. Also see  https://github.com/yt-dlp/yt-dlp/wiki/Extractors#exporting-youtube-cookies  for tips on effectively exporting YouTube cookies\n"
     ]
    },
    {
     "name": "stderr",
     "output_type": "stream",
     "text": [
      "ERROR: [youtube] EqWRaAF6_WY: Sign in to confirm you’re not a bot. Use --cookies-from-browser or --cookies for the authentication. See  https://github.com/yt-dlp/yt-dlp/wiki/FAQ#how-do-i-pass-cookies-to-yt-dlp  for how to manually pass cookies. Also see  https://github.com/yt-dlp/yt-dlp/wiki/Extractors#exporting-youtube-cookies  for tips on effectively exporting YouTube cookies\n",
      " 76%|███████▌  | 374/491 [1:25:51<22:45, 11.67s/it]"
     ]
    },
    {
     "name": "stdout",
     "output_type": "stream",
     "text": [
      "[Attempt 2] Download error: ERROR: [youtube] EqWRaAF6_WY: Sign in to confirm you’re not a bot. Use --cookies-from-browser or --cookies for the authentication. See  https://github.com/yt-dlp/yt-dlp/wiki/FAQ#how-do-i-pass-cookies-to-yt-dlp  for how to manually pass cookies. Also see  https://github.com/yt-dlp/yt-dlp/wiki/Extractors#exporting-youtube-cookies  for tips on effectively exporting YouTube cookies\n",
      "Error indexing My Hero (ID 393): cannot unpack non-iterable NoneType object\n",
      "Downloading audio from https://www.youtube.com/watch?v=kbpqZT_56Ns...\n"
     ]
    },
    {
     "name": "stderr",
     "output_type": "stream",
     "text": [
      "ERROR: [youtube] kbpqZT_56Ns: Sign in to confirm you’re not a bot. Use --cookies-from-browser or --cookies for the authentication. See  https://github.com/yt-dlp/yt-dlp/wiki/FAQ#how-do-i-pass-cookies-to-yt-dlp  for how to manually pass cookies. Also see  https://github.com/yt-dlp/yt-dlp/wiki/Extractors#exporting-youtube-cookies  for tips on effectively exporting YouTube cookies\n"
     ]
    },
    {
     "name": "stdout",
     "output_type": "stream",
     "text": [
      "[Attempt 1] Download error: ERROR: [youtube] kbpqZT_56Ns: Sign in to confirm you’re not a bot. Use --cookies-from-browser or --cookies for the authentication. See  https://github.com/yt-dlp/yt-dlp/wiki/FAQ#how-do-i-pass-cookies-to-yt-dlp  for how to manually pass cookies. Also see  https://github.com/yt-dlp/yt-dlp/wiki/Extractors#exporting-youtube-cookies  for tips on effectively exporting YouTube cookies\n"
     ]
    },
    {
     "name": "stderr",
     "output_type": "stream",
     "text": [
      "ERROR: [youtube] kbpqZT_56Ns: Sign in to confirm you’re not a bot. Use --cookies-from-browser or --cookies for the authentication. See  https://github.com/yt-dlp/yt-dlp/wiki/FAQ#how-do-i-pass-cookies-to-yt-dlp  for how to manually pass cookies. Also see  https://github.com/yt-dlp/yt-dlp/wiki/Extractors#exporting-youtube-cookies  for tips on effectively exporting YouTube cookies\n",
      " 76%|███████▋  | 375/491 [1:25:53<16:59,  8.79s/it]"
     ]
    },
    {
     "name": "stdout",
     "output_type": "stream",
     "text": [
      "[Attempt 2] Download error: ERROR: [youtube] kbpqZT_56Ns: Sign in to confirm you’re not a bot. Use --cookies-from-browser or --cookies for the authentication. See  https://github.com/yt-dlp/yt-dlp/wiki/FAQ#how-do-i-pass-cookies-to-yt-dlp  for how to manually pass cookies. Also see  https://github.com/yt-dlp/yt-dlp/wiki/Extractors#exporting-youtube-cookies  for tips on effectively exporting YouTube cookies\n",
      "Error indexing Rope (ID 394): cannot unpack non-iterable NoneType object\n",
      "Downloading audio from https://www.youtube.com/watch?v=SBjQ9tuuTJQ...\n"
     ]
    },
    {
     "name": "stderr",
     "output_type": "stream",
     "text": [
      "ERROR: [youtube] SBjQ9tuuTJQ: Sign in to confirm you’re not a bot. Use --cookies-from-browser or --cookies for the authentication. See  https://github.com/yt-dlp/yt-dlp/wiki/FAQ#how-do-i-pass-cookies-to-yt-dlp  for how to manually pass cookies. Also see  https://github.com/yt-dlp/yt-dlp/wiki/Extractors#exporting-youtube-cookies  for tips on effectively exporting YouTube cookies\n"
     ]
    },
    {
     "name": "stdout",
     "output_type": "stream",
     "text": [
      "[Attempt 1] Download error: ERROR: [youtube] SBjQ9tuuTJQ: Sign in to confirm you’re not a bot. Use --cookies-from-browser or --cookies for the authentication. See  https://github.com/yt-dlp/yt-dlp/wiki/FAQ#how-do-i-pass-cookies-to-yt-dlp  for how to manually pass cookies. Also see  https://github.com/yt-dlp/yt-dlp/wiki/Extractors#exporting-youtube-cookies  for tips on effectively exporting YouTube cookies\n"
     ]
    },
    {
     "name": "stderr",
     "output_type": "stream",
     "text": [
      "ERROR: [youtube] SBjQ9tuuTJQ: Sign in to confirm you’re not a bot. Use --cookies-from-browser or --cookies for the authentication. See  https://github.com/yt-dlp/yt-dlp/wiki/FAQ#how-do-i-pass-cookies-to-yt-dlp  for how to manually pass cookies. Also see  https://github.com/yt-dlp/yt-dlp/wiki/Extractors#exporting-youtube-cookies  for tips on effectively exporting YouTube cookies\n",
      " 77%|███████▋  | 376/491 [1:25:56<13:06,  6.84s/it]"
     ]
    },
    {
     "name": "stdout",
     "output_type": "stream",
     "text": [
      "[Attempt 2] Download error: ERROR: [youtube] SBjQ9tuuTJQ: Sign in to confirm you’re not a bot. Use --cookies-from-browser or --cookies for the authentication. See  https://github.com/yt-dlp/yt-dlp/wiki/FAQ#how-do-i-pass-cookies-to-yt-dlp  for how to manually pass cookies. Also see  https://github.com/yt-dlp/yt-dlp/wiki/Extractors#exporting-youtube-cookies  for tips on effectively exporting YouTube cookies\n",
      "Error indexing The Pretender (ID 395): cannot unpack non-iterable NoneType object\n",
      "Downloading audio from https://www.youtube.com/watch?v=YDVAQI-4lto...\n"
     ]
    },
    {
     "name": "stderr",
     "output_type": "stream",
     "text": [
      "ERROR: [youtube] YDVAQI-4lto: Sign in to confirm you’re not a bot. Use --cookies-from-browser or --cookies for the authentication. See  https://github.com/yt-dlp/yt-dlp/wiki/FAQ#how-do-i-pass-cookies-to-yt-dlp  for how to manually pass cookies. Also see  https://github.com/yt-dlp/yt-dlp/wiki/Extractors#exporting-youtube-cookies  for tips on effectively exporting YouTube cookies\n"
     ]
    },
    {
     "name": "stdout",
     "output_type": "stream",
     "text": [
      "[Attempt 1] Download error: ERROR: [youtube] YDVAQI-4lto: Sign in to confirm you’re not a bot. Use --cookies-from-browser or --cookies for the authentication. See  https://github.com/yt-dlp/yt-dlp/wiki/FAQ#how-do-i-pass-cookies-to-yt-dlp  for how to manually pass cookies. Also see  https://github.com/yt-dlp/yt-dlp/wiki/Extractors#exporting-youtube-cookies  for tips on effectively exporting YouTube cookies\n"
     ]
    },
    {
     "name": "stderr",
     "output_type": "stream",
     "text": [
      "ERROR: [youtube] YDVAQI-4lto: Sign in to confirm you’re not a bot. Use --cookies-from-browser or --cookies for the authentication. See  https://github.com/yt-dlp/yt-dlp/wiki/FAQ#how-do-i-pass-cookies-to-yt-dlp  for how to manually pass cookies. Also see  https://github.com/yt-dlp/yt-dlp/wiki/Extractors#exporting-youtube-cookies  for tips on effectively exporting YouTube cookies\n",
      " 77%|███████▋  | 377/491 [1:25:58<10:23,  5.47s/it]"
     ]
    },
    {
     "name": "stdout",
     "output_type": "stream",
     "text": [
      "[Attempt 2] Download error: ERROR: [youtube] YDVAQI-4lto: Sign in to confirm you’re not a bot. Use --cookies-from-browser or --cookies for the authentication. See  https://github.com/yt-dlp/yt-dlp/wiki/FAQ#how-do-i-pass-cookies-to-yt-dlp  for how to manually pass cookies. Also see  https://github.com/yt-dlp/yt-dlp/wiki/Extractors#exporting-youtube-cookies  for tips on effectively exporting YouTube cookies\n",
      "Error indexing These Days (ID 396): cannot unpack non-iterable NoneType object\n",
      "Downloading audio from https://www.youtube.com/watch?v=h-Rnr3wTX9I...\n"
     ]
    },
    {
     "name": "stderr",
     "output_type": "stream",
     "text": [
      "ERROR: [youtube] h-Rnr3wTX9I: Sign in to confirm you’re not a bot. Use --cookies-from-browser or --cookies for the authentication. See  https://github.com/yt-dlp/yt-dlp/wiki/FAQ#how-do-i-pass-cookies-to-yt-dlp  for how to manually pass cookies. Also see  https://github.com/yt-dlp/yt-dlp/wiki/Extractors#exporting-youtube-cookies  for tips on effectively exporting YouTube cookies\n"
     ]
    },
    {
     "name": "stdout",
     "output_type": "stream",
     "text": [
      "[Attempt 1] Download error: ERROR: [youtube] h-Rnr3wTX9I: Sign in to confirm you’re not a bot. Use --cookies-from-browser or --cookies for the authentication. See  https://github.com/yt-dlp/yt-dlp/wiki/FAQ#how-do-i-pass-cookies-to-yt-dlp  for how to manually pass cookies. Also see  https://github.com/yt-dlp/yt-dlp/wiki/Extractors#exporting-youtube-cookies  for tips on effectively exporting YouTube cookies\n"
     ]
    },
    {
     "name": "stderr",
     "output_type": "stream",
     "text": [
      "ERROR: [youtube] h-Rnr3wTX9I: Sign in to confirm you’re not a bot. Use --cookies-from-browser or --cookies for the authentication. See  https://github.com/yt-dlp/yt-dlp/wiki/FAQ#how-do-i-pass-cookies-to-yt-dlp  for how to manually pass cookies. Also see  https://github.com/yt-dlp/yt-dlp/wiki/Extractors#exporting-youtube-cookies  for tips on effectively exporting YouTube cookies\n",
      " 77%|███████▋  | 378/491 [1:26:00<08:18,  4.41s/it]"
     ]
    },
    {
     "name": "stdout",
     "output_type": "stream",
     "text": [
      "[Attempt 2] Download error: ERROR: [youtube] h-Rnr3wTX9I: Sign in to confirm you’re not a bot. Use --cookies-from-browser or --cookies for the authentication. See  https://github.com/yt-dlp/yt-dlp/wiki/FAQ#how-do-i-pass-cookies-to-yt-dlp  for how to manually pass cookies. Also see  https://github.com/yt-dlp/yt-dlp/wiki/Extractors#exporting-youtube-cookies  for tips on effectively exporting YouTube cookies\n",
      "Error indexing This Is a Call (ID 397): cannot unpack non-iterable NoneType object\n",
      "Downloading audio from https://www.youtube.com/watch?v=rhzmNRtIp8k...\n"
     ]
    },
    {
     "name": "stderr",
     "output_type": "stream",
     "text": [
      "ERROR: [youtube] rhzmNRtIp8k: Sign in to confirm you’re not a bot. Use --cookies-from-browser or --cookies for the authentication. See  https://github.com/yt-dlp/yt-dlp/wiki/FAQ#how-do-i-pass-cookies-to-yt-dlp  for how to manually pass cookies. Also see  https://github.com/yt-dlp/yt-dlp/wiki/Extractors#exporting-youtube-cookies  for tips on effectively exporting YouTube cookies\n"
     ]
    },
    {
     "name": "stdout",
     "output_type": "stream",
     "text": [
      "[Attempt 1] Download error: ERROR: [youtube] rhzmNRtIp8k: Sign in to confirm you’re not a bot. Use --cookies-from-browser or --cookies for the authentication. See  https://github.com/yt-dlp/yt-dlp/wiki/FAQ#how-do-i-pass-cookies-to-yt-dlp  for how to manually pass cookies. Also see  https://github.com/yt-dlp/yt-dlp/wiki/Extractors#exporting-youtube-cookies  for tips on effectively exporting YouTube cookies\n"
     ]
    },
    {
     "name": "stderr",
     "output_type": "stream",
     "text": [
      " 77%|███████▋  | 379/491 [1:26:02<06:43,  3.61s/it]"
     ]
    },
    {
     "name": "stdout",
     "output_type": "stream",
     "text": [
      "Downloading audio from https://www.youtube.com/watch?v=4PkcfQtibmU...\n"
     ]
    },
    {
     "name": "stderr",
     "output_type": "stream",
     "text": [
      "ERROR: [youtube] rhzmNRtIp8k: Sign in to confirm you’re not a bot. Use --cookies-from-browser or --cookies for the authentication. See  https://github.com/yt-dlp/yt-dlp/wiki/FAQ#how-do-i-pass-cookies-to-yt-dlp  for how to manually pass cookies. Also see  https://github.com/yt-dlp/yt-dlp/wiki/Extractors#exporting-youtube-cookies  for tips on effectively exporting YouTube cookies\n",
      " 77%|███████▋  | 380/491 [1:26:02<04:52,  2.63s/it]"
     ]
    },
    {
     "name": "stdout",
     "output_type": "stream",
     "text": [
      "[Attempt 2] Download error: ERROR: [youtube] rhzmNRtIp8k: Sign in to confirm you’re not a bot. Use --cookies-from-browser or --cookies for the authentication. See  https://github.com/yt-dlp/yt-dlp/wiki/FAQ#how-do-i-pass-cookies-to-yt-dlp  for how to manually pass cookies. Also see  https://github.com/yt-dlp/yt-dlp/wiki/Extractors#exporting-youtube-cookies  for tips on effectively exporting YouTube cookies\n",
      "Error indexing Times Like These (ID 398): cannot unpack non-iterable NoneType object\n",
      "Downloading audio from https://www.youtube.com/watch?v=T74CuSiZ63w...\n"
     ]
    },
    {
     "name": "stderr",
     "output_type": "stream",
     "text": [
      "ERROR: [youtube] 4PkcfQtibmU: Sign in to confirm you’re not a bot. Use --cookies-from-browser or --cookies for the authentication. See  https://github.com/yt-dlp/yt-dlp/wiki/FAQ#how-do-i-pass-cookies-to-yt-dlp  for how to manually pass cookies. Also see  https://github.com/yt-dlp/yt-dlp/wiki/Extractors#exporting-youtube-cookies  for tips on effectively exporting YouTube cookies\n",
      "ERROR: [youtube] T74CuSiZ63w: Sign in to confirm you’re not a bot. Use --cookies-from-browser or --cookies for the authentication. See  https://github.com/yt-dlp/yt-dlp/wiki/FAQ#how-do-i-pass-cookies-to-yt-dlp  for how to manually pass cookies. Also see  https://github.com/yt-dlp/yt-dlp/wiki/Extractors#exporting-youtube-cookies  for tips on effectively exporting YouTube cookies\n"
     ]
    },
    {
     "name": "stdout",
     "output_type": "stream",
     "text": [
      "[Attempt 1] Download error: ERROR: [youtube] 4PkcfQtibmU: Sign in to confirm you’re not a bot. Use --cookies-from-browser or --cookies for the authentication. See  https://github.com/yt-dlp/yt-dlp/wiki/FAQ#how-do-i-pass-cookies-to-yt-dlp  for how to manually pass cookies. Also see  https://github.com/yt-dlp/yt-dlp/wiki/Extractors#exporting-youtube-cookies  for tips on effectively exporting YouTube cookies\n",
      "[Attempt 1] Download error: ERROR: [youtube] T74CuSiZ63w: Sign in to confirm you’re not a bot. Use --cookies-from-browser or --cookies for the authentication. See  https://github.com/yt-dlp/yt-dlp/wiki/FAQ#how-do-i-pass-cookies-to-yt-dlp  for how to manually pass cookies. Also see  https://github.com/yt-dlp/yt-dlp/wiki/Extractors#exporting-youtube-cookies  for tips on effectively exporting YouTube cookies\n"
     ]
    },
    {
     "name": "stderr",
     "output_type": "stream",
     "text": [
      "ERROR: [youtube] T74CuSiZ63w: Sign in to confirm you’re not a bot. Use --cookies-from-browser or --cookies for the authentication. See  https://github.com/yt-dlp/yt-dlp/wiki/FAQ#how-do-i-pass-cookies-to-yt-dlp  for how to manually pass cookies. Also see  https://github.com/yt-dlp/yt-dlp/wiki/Extractors#exporting-youtube-cookies  for tips on effectively exporting YouTube cookies\n",
      " 78%|███████▊  | 381/491 [1:26:04<04:30,  2.46s/it]ERROR: [youtube] 4PkcfQtibmU: Sign in to confirm you’re not a bot. Use --cookies-from-browser or --cookies for the authentication. See  https://github.com/yt-dlp/yt-dlp/wiki/FAQ#how-do-i-pass-cookies-to-yt-dlp  for how to manually pass cookies. Also see  https://github.com/yt-dlp/yt-dlp/wiki/Extractors#exporting-youtube-cookies  for tips on effectively exporting YouTube cookies\n"
     ]
    },
    {
     "name": "stdout",
     "output_type": "stream",
     "text": [
      "[Attempt 2] Download error: ERROR: [youtube] T74CuSiZ63w: Sign in to confirm you’re not a bot. Use --cookies-from-browser or --cookies for the authentication. See  https://github.com/yt-dlp/yt-dlp/wiki/FAQ#how-do-i-pass-cookies-to-yt-dlp  for how to manually pass cookies. Also see  https://github.com/yt-dlp/yt-dlp/wiki/Extractors#exporting-youtube-cookies  for tips on effectively exporting YouTube cookies\n",
      "Error indexing Wheels (ID 400): cannot unpack non-iterable NoneType object\n",
      "Downloading audio from https://www.youtube.com/watch?v=IPWHkK-_a_A...\n",
      "[Attempt 2] Download error: ERROR: [youtube] 4PkcfQtibmU: Sign in to confirm you’re not a bot. Use --cookies-from-browser or --cookies for the authentication. See  https://github.com/yt-dlp/yt-dlp/wiki/FAQ#how-do-i-pass-cookies-to-yt-dlp  for how to manually pass cookies. Also see  https://github.com/yt-dlp/yt-dlp/wiki/Extractors#exporting-youtube-cookies  for tips on effectively exporting YouTube cookies\n",
      "Error indexing Walk (ID 399): cannot unpack non-iterable NoneType object\n",
      "Downloading audio from https://www.youtube.com/watch?v=6YziZ1FlAWs...\n"
     ]
    },
    {
     "name": "stderr",
     "output_type": "stream",
     "text": [
      "ERROR: [youtube] 6YziZ1FlAWs: Sign in to confirm you’re not a bot. Use --cookies-from-browser or --cookies for the authentication. See  https://github.com/yt-dlp/yt-dlp/wiki/FAQ#how-do-i-pass-cookies-to-yt-dlp  for how to manually pass cookies. Also see  https://github.com/yt-dlp/yt-dlp/wiki/Extractors#exporting-youtube-cookies  for tips on effectively exporting YouTube cookies\n",
      "ERROR: [youtube] IPWHkK-_a_A: Sign in to confirm you’re not a bot. Use --cookies-from-browser or --cookies for the authentication. See  https://github.com/yt-dlp/yt-dlp/wiki/FAQ#how-do-i-pass-cookies-to-yt-dlp  for how to manually pass cookies. Also see  https://github.com/yt-dlp/yt-dlp/wiki/Extractors#exporting-youtube-cookies  for tips on effectively exporting YouTube cookies\n"
     ]
    },
    {
     "name": "stdout",
     "output_type": "stream",
     "text": [
      "[Attempt 1] Download error: ERROR: [youtube] 6YziZ1FlAWs: Sign in to confirm you’re not a bot. Use --cookies-from-browser or --cookies for the authentication. See  https://github.com/yt-dlp/yt-dlp/wiki/FAQ#how-do-i-pass-cookies-to-yt-dlp  for how to manually pass cookies. Also see  https://github.com/yt-dlp/yt-dlp/wiki/Extractors#exporting-youtube-cookies  for tips on effectively exporting YouTube cookies\n",
      "[Attempt 1] Download error: ERROR: [youtube] IPWHkK-_a_A: Sign in to confirm you’re not a bot. Use --cookies-from-browser or --cookies for the authentication. See  https://github.com/yt-dlp/yt-dlp/wiki/FAQ#how-do-i-pass-cookies-to-yt-dlp  for how to manually pass cookies. Also see  https://github.com/yt-dlp/yt-dlp/wiki/Extractors#exporting-youtube-cookies  for tips on effectively exporting YouTube cookies\n"
     ]
    },
    {
     "name": "stderr",
     "output_type": "stream",
     "text": [
      "ERROR: [youtube] IPWHkK-_a_A: Sign in to confirm you’re not a bot. Use --cookies-from-browser or --cookies for the authentication. See  https://github.com/yt-dlp/yt-dlp/wiki/FAQ#how-do-i-pass-cookies-to-yt-dlp  for how to manually pass cookies. Also see  https://github.com/yt-dlp/yt-dlp/wiki/Extractors#exporting-youtube-cookies  for tips on effectively exporting YouTube cookies\n",
      " 78%|███████▊  | 383/491 [1:26:06<03:15,  1.81s/it]ERROR: [youtube] 6YziZ1FlAWs: Sign in to confirm you’re not a bot. Use --cookies-from-browser or --cookies for the authentication. See  https://github.com/yt-dlp/yt-dlp/wiki/FAQ#how-do-i-pass-cookies-to-yt-dlp  for how to manually pass cookies. Also see  https://github.com/yt-dlp/yt-dlp/wiki/Extractors#exporting-youtube-cookies  for tips on effectively exporting YouTube cookies\n"
     ]
    },
    {
     "name": "stdout",
     "output_type": "stream",
     "text": [
      "[Attempt 2] Download error: ERROR: [youtube] IPWHkK-_a_A: Sign in to confirm you’re not a bot. Use --cookies-from-browser or --cookies for the authentication. See  https://github.com/yt-dlp/yt-dlp/wiki/FAQ#how-do-i-pass-cookies-to-yt-dlp  for how to manually pass cookies. Also see  https://github.com/yt-dlp/yt-dlp/wiki/Extractors#exporting-youtube-cookies  for tips on effectively exporting YouTube cookies\n",
      "Error indexing A Different Corner (ID 401): cannot unpack non-iterable NoneType object\n",
      "Downloading audio from https://www.youtube.com/watch?v=izGwDsrQ1eQ...\n",
      "[Attempt 2] Download error: ERROR: [youtube] 6YziZ1FlAWs: Sign in to confirm you’re not a bot. Use --cookies-from-browser or --cookies for the authentication. See  https://github.com/yt-dlp/yt-dlp/wiki/FAQ#how-do-i-pass-cookies-to-yt-dlp  for how to manually pass cookies. Also see  https://github.com/yt-dlp/yt-dlp/wiki/Extractors#exporting-youtube-cookies  for tips on effectively exporting YouTube cookies\n",
      "Error indexing Amazing (ID 402): cannot unpack non-iterable NoneType object\n",
      "Downloading audio from https://www.youtube.com/watch?v=fyMbjVhCzw4...\n"
     ]
    },
    {
     "name": "stderr",
     "output_type": "stream",
     "text": [
      "ERROR: [youtube] izGwDsrQ1eQ: Sign in to confirm you’re not a bot. Use --cookies-from-browser or --cookies for the authentication. See  https://github.com/yt-dlp/yt-dlp/wiki/FAQ#how-do-i-pass-cookies-to-yt-dlp  for how to manually pass cookies. Also see  https://github.com/yt-dlp/yt-dlp/wiki/Extractors#exporting-youtube-cookies  for tips on effectively exporting YouTube cookies\n",
      "ERROR: [youtube] fyMbjVhCzw4: Sign in to confirm you’re not a bot. Use --cookies-from-browser or --cookies for the authentication. See  https://github.com/yt-dlp/yt-dlp/wiki/FAQ#how-do-i-pass-cookies-to-yt-dlp  for how to manually pass cookies. Also see  https://github.com/yt-dlp/yt-dlp/wiki/Extractors#exporting-youtube-cookies  for tips on effectively exporting YouTube cookies\n"
     ]
    },
    {
     "name": "stdout",
     "output_type": "stream",
     "text": [
      "[Attempt 1] Download error: ERROR: [youtube] izGwDsrQ1eQ: Sign in to confirm you’re not a bot. Use --cookies-from-browser or --cookies for the authentication. See  https://github.com/yt-dlp/yt-dlp/wiki/FAQ#how-do-i-pass-cookies-to-yt-dlp  for how to manually pass cookies. Also see  https://github.com/yt-dlp/yt-dlp/wiki/Extractors#exporting-youtube-cookies  for tips on effectively exporting YouTube cookies\n",
      "[Attempt 1] Download error: ERROR: [youtube] fyMbjVhCzw4: Sign in to confirm you’re not a bot. Use --cookies-from-browser or --cookies for the authentication. See  https://github.com/yt-dlp/yt-dlp/wiki/FAQ#how-do-i-pass-cookies-to-yt-dlp  for how to manually pass cookies. Also see  https://github.com/yt-dlp/yt-dlp/wiki/Extractors#exporting-youtube-cookies  for tips on effectively exporting YouTube cookies\n"
     ]
    },
    {
     "name": "stderr",
     "output_type": "stream",
     "text": [
      "ERROR: [youtube] izGwDsrQ1eQ: Sign in to confirm you’re not a bot. Use --cookies-from-browser or --cookies for the authentication. See  https://github.com/yt-dlp/yt-dlp/wiki/FAQ#how-do-i-pass-cookies-to-yt-dlp  for how to manually pass cookies. Also see  https://github.com/yt-dlp/yt-dlp/wiki/Extractors#exporting-youtube-cookies  for tips on effectively exporting YouTube cookies\n",
      " 78%|███████▊  | 385/491 [1:26:08<02:42,  1.53s/it]"
     ]
    },
    {
     "name": "stdout",
     "output_type": "stream",
     "text": [
      "[Attempt 2] Download error: ERROR: [youtube] izGwDsrQ1eQ: Sign in to confirm you’re not a bot. Use --cookies-from-browser or --cookies for the authentication. See  https://github.com/yt-dlp/yt-dlp/wiki/FAQ#how-do-i-pass-cookies-to-yt-dlp  for how to manually pass cookies. Also see  https://github.com/yt-dlp/yt-dlp/wiki/Extractors#exporting-youtube-cookies  for tips on effectively exporting YouTube cookies\n",
      "Error indexing Careless Whisper (ID 403): cannot unpack non-iterable NoneType object\n",
      "Downloading audio from https://www.youtube.com/watch?v=N61LHFFfiik...\n"
     ]
    },
    {
     "name": "stderr",
     "output_type": "stream",
     "text": [
      "ERROR: [youtube] fyMbjVhCzw4: Sign in to confirm you’re not a bot. Use --cookies-from-browser or --cookies for the authentication. See  https://github.com/yt-dlp/yt-dlp/wiki/FAQ#how-do-i-pass-cookies-to-yt-dlp  for how to manually pass cookies. Also see  https://github.com/yt-dlp/yt-dlp/wiki/Extractors#exporting-youtube-cookies  for tips on effectively exporting YouTube cookies\n",
      " 79%|███████▊  | 386/491 [1:26:09<02:11,  1.26s/it]"
     ]
    },
    {
     "name": "stdout",
     "output_type": "stream",
     "text": [
      "[Attempt 2] Download error: ERROR: [youtube] fyMbjVhCzw4: Sign in to confirm you’re not a bot. Use --cookies-from-browser or --cookies for the authentication. See  https://github.com/yt-dlp/yt-dlp/wiki/FAQ#how-do-i-pass-cookies-to-yt-dlp  for how to manually pass cookies. Also see  https://github.com/yt-dlp/yt-dlp/wiki/Extractors#exporting-youtube-cookies  for tips on effectively exporting YouTube cookies\n",
      "Error indexing Careless Whisper - Remastered (ID 404): cannot unpack non-iterable NoneType object\n",
      "Downloading audio from https://www.youtube.com/watch?v=SHAQlFq6TFg...\n"
     ]
    },
    {
     "name": "stderr",
     "output_type": "stream",
     "text": [
      "ERROR: [youtube] N61LHFFfiik: Sign in to confirm you’re not a bot. Use --cookies-from-browser or --cookies for the authentication. See  https://github.com/yt-dlp/yt-dlp/wiki/FAQ#how-do-i-pass-cookies-to-yt-dlp  for how to manually pass cookies. Also see  https://github.com/yt-dlp/yt-dlp/wiki/Extractors#exporting-youtube-cookies  for tips on effectively exporting YouTube cookies\n",
      "ERROR: [youtube] SHAQlFq6TFg: Sign in to confirm you’re not a bot. Use --cookies-from-browser or --cookies for the authentication. See  https://github.com/yt-dlp/yt-dlp/wiki/FAQ#how-do-i-pass-cookies-to-yt-dlp  for how to manually pass cookies. Also see  https://github.com/yt-dlp/yt-dlp/wiki/Extractors#exporting-youtube-cookies  for tips on effectively exporting YouTube cookies\n"
     ]
    },
    {
     "name": "stdout",
     "output_type": "stream",
     "text": [
      "[Attempt 1] Download error: ERROR: [youtube] N61LHFFfiik: Sign in to confirm you’re not a bot. Use --cookies-from-browser or --cookies for the authentication. See  https://github.com/yt-dlp/yt-dlp/wiki/FAQ#how-do-i-pass-cookies-to-yt-dlp  for how to manually pass cookies. Also see  https://github.com/yt-dlp/yt-dlp/wiki/Extractors#exporting-youtube-cookies  for tips on effectively exporting YouTube cookies\n",
      "[Attempt 1] Download error: ERROR: [youtube] SHAQlFq6TFg: Sign in to confirm you’re not a bot. Use --cookies-from-browser or --cookies for the authentication. See  https://github.com/yt-dlp/yt-dlp/wiki/FAQ#how-do-i-pass-cookies-to-yt-dlp  for how to manually pass cookies. Also see  https://github.com/yt-dlp/yt-dlp/wiki/Extractors#exporting-youtube-cookies  for tips on effectively exporting YouTube cookies\n"
     ]
    },
    {
     "name": "stderr",
     "output_type": "stream",
     "text": [
      "ERROR: [youtube] N61LHFFfiik: Sign in to confirm you’re not a bot. Use --cookies-from-browser or --cookies for the authentication. See  https://github.com/yt-dlp/yt-dlp/wiki/FAQ#how-do-i-pass-cookies-to-yt-dlp  for how to manually pass cookies. Also see  https://github.com/yt-dlp/yt-dlp/wiki/Extractors#exporting-youtube-cookies  for tips on effectively exporting YouTube cookies\n",
      " 79%|███████▉  | 387/491 [1:26:10<02:26,  1.41s/it]ERROR: [youtube] SHAQlFq6TFg: Sign in to confirm you’re not a bot. Use --cookies-from-browser or --cookies for the authentication. See  https://github.com/yt-dlp/yt-dlp/wiki/FAQ#how-do-i-pass-cookies-to-yt-dlp  for how to manually pass cookies. Also see  https://github.com/yt-dlp/yt-dlp/wiki/Extractors#exporting-youtube-cookies  for tips on effectively exporting YouTube cookies\n",
      " 79%|███████▉  | 388/491 [1:26:11<01:52,  1.10s/it]"
     ]
    },
    {
     "name": "stdout",
     "output_type": "stream",
     "text": [
      "[Attempt 2] Download error: ERROR: [youtube] N61LHFFfiik: Sign in to confirm you’re not a bot. Use --cookies-from-browser or --cookies for the authentication. See  https://github.com/yt-dlp/yt-dlp/wiki/FAQ#how-do-i-pass-cookies-to-yt-dlp  for how to manually pass cookies. Also see  https://github.com/yt-dlp/yt-dlp/wiki/Extractors#exporting-youtube-cookies  for tips on effectively exporting YouTube cookies\n",
      "Error indexing Faith - Remastered (ID 405): cannot unpack non-iterable NoneType object\n",
      "Downloading audio from https://www.youtube.com/watch?v=udtByWgt1Mk...\n",
      "[Attempt 2] Download error: ERROR: [youtube] SHAQlFq6TFg: Sign in to confirm you’re not a bot. Use --cookies-from-browser or --cookies for the authentication. See  https://github.com/yt-dlp/yt-dlp/wiki/FAQ#how-do-i-pass-cookies-to-yt-dlp  for how to manually pass cookies. Also see  https://github.com/yt-dlp/yt-dlp/wiki/Extractors#exporting-youtube-cookies  for tips on effectively exporting YouTube cookies\n",
      "Error indexing Fastlove, Pt. 1 (ID 406): cannot unpack non-iterable NoneType object\n",
      "Downloading audio from https://www.youtube.com/watch?v=diYAc7gB-0A...\n"
     ]
    },
    {
     "name": "stderr",
     "output_type": "stream",
     "text": [
      "ERROR: [youtube] udtByWgt1Mk: Sign in to confirm you’re not a bot. Use --cookies-from-browser or --cookies for the authentication. See  https://github.com/yt-dlp/yt-dlp/wiki/FAQ#how-do-i-pass-cookies-to-yt-dlp  for how to manually pass cookies. Also see  https://github.com/yt-dlp/yt-dlp/wiki/Extractors#exporting-youtube-cookies  for tips on effectively exporting YouTube cookies\n",
      "ERROR: [youtube] diYAc7gB-0A: Sign in to confirm you’re not a bot. Use --cookies-from-browser or --cookies for the authentication. See  https://github.com/yt-dlp/yt-dlp/wiki/FAQ#how-do-i-pass-cookies-to-yt-dlp  for how to manually pass cookies. Also see  https://github.com/yt-dlp/yt-dlp/wiki/Extractors#exporting-youtube-cookies  for tips on effectively exporting YouTube cookies\n"
     ]
    },
    {
     "name": "stdout",
     "output_type": "stream",
     "text": [
      "[Attempt 1] Download error: ERROR: [youtube] udtByWgt1Mk: Sign in to confirm you’re not a bot. Use --cookies-from-browser or --cookies for the authentication. See  https://github.com/yt-dlp/yt-dlp/wiki/FAQ#how-do-i-pass-cookies-to-yt-dlp  for how to manually pass cookies. Also see  https://github.com/yt-dlp/yt-dlp/wiki/Extractors#exporting-youtube-cookies  for tips on effectively exporting YouTube cookies\n",
      "[Attempt 1] Download error: ERROR: [youtube] diYAc7gB-0A: Sign in to confirm you’re not a bot. Use --cookies-from-browser or --cookies for the authentication. See  https://github.com/yt-dlp/yt-dlp/wiki/FAQ#how-do-i-pass-cookies-to-yt-dlp  for how to manually pass cookies. Also see  https://github.com/yt-dlp/yt-dlp/wiki/Extractors#exporting-youtube-cookies  for tips on effectively exporting YouTube cookies\n"
     ]
    },
    {
     "name": "stderr",
     "output_type": "stream",
     "text": [
      "ERROR: [youtube] udtByWgt1Mk: Sign in to confirm you’re not a bot. Use --cookies-from-browser or --cookies for the authentication. See  https://github.com/yt-dlp/yt-dlp/wiki/FAQ#how-do-i-pass-cookies-to-yt-dlp  for how to manually pass cookies. Also see  https://github.com/yt-dlp/yt-dlp/wiki/Extractors#exporting-youtube-cookies  for tips on effectively exporting YouTube cookies\n",
      " 79%|███████▉  | 389/491 [1:26:13<02:17,  1.35s/it]"
     ]
    },
    {
     "name": "stdout",
     "output_type": "stream",
     "text": [
      "[Attempt 2] Download error: ERROR: [youtube] udtByWgt1Mk: Sign in to confirm you’re not a bot. Use --cookies-from-browser or --cookies for the authentication. See  https://github.com/yt-dlp/yt-dlp/wiki/FAQ#how-do-i-pass-cookies-to-yt-dlp  for how to manually pass cookies. Also see  https://github.com/yt-dlp/yt-dlp/wiki/Extractors#exporting-youtube-cookies  for tips on effectively exporting YouTube cookies\n",
      "Error indexing Father Figure - Remastered (ID 407): cannot unpack non-iterable NoneType object\n",
      "Downloading audio from https://www.youtube.com/watch?v=r3AP26ywQsQ...\n"
     ]
    },
    {
     "name": "stderr",
     "output_type": "stream",
     "text": [
      "ERROR: [youtube] diYAc7gB-0A: Sign in to confirm you’re not a bot. Use --cookies-from-browser or --cookies for the authentication. See  https://github.com/yt-dlp/yt-dlp/wiki/FAQ#how-do-i-pass-cookies-to-yt-dlp  for how to manually pass cookies. Also see  https://github.com/yt-dlp/yt-dlp/wiki/Extractors#exporting-youtube-cookies  for tips on effectively exporting YouTube cookies\n",
      " 79%|███████▉  | 390/491 [1:26:13<01:45,  1.05s/it]"
     ]
    },
    {
     "name": "stdout",
     "output_type": "stream",
     "text": [
      "[Attempt 2] Download error: ERROR: [youtube] diYAc7gB-0A: Sign in to confirm you’re not a bot. Use --cookies-from-browser or --cookies for the authentication. See  https://github.com/yt-dlp/yt-dlp/wiki/FAQ#how-do-i-pass-cookies-to-yt-dlp  for how to manually pass cookies. Also see  https://github.com/yt-dlp/yt-dlp/wiki/Extractors#exporting-youtube-cookies  for tips on effectively exporting YouTube cookies\n",
      "Error indexing Freedom! '90 - Remastered (ID 408): cannot unpack non-iterable NoneType object\n",
      "Downloading audio from https://www.youtube.com/watch?v=zNBj4EV_hAo...\n"
     ]
    },
    {
     "name": "stderr",
     "output_type": "stream",
     "text": [
      "ERROR: [youtube] r3AP26ywQsQ: Sign in to confirm you’re not a bot. Use --cookies-from-browser or --cookies for the authentication. See  https://github.com/yt-dlp/yt-dlp/wiki/FAQ#how-do-i-pass-cookies-to-yt-dlp  for how to manually pass cookies. Also see  https://github.com/yt-dlp/yt-dlp/wiki/Extractors#exporting-youtube-cookies  for tips on effectively exporting YouTube cookies\n"
     ]
    },
    {
     "name": "stdout",
     "output_type": "stream",
     "text": [
      "[Attempt 1] Download error: ERROR: [youtube] r3AP26ywQsQ: Sign in to confirm you’re not a bot. Use --cookies-from-browser or --cookies for the authentication. See  https://github.com/yt-dlp/yt-dlp/wiki/FAQ#how-do-i-pass-cookies-to-yt-dlp  for how to manually pass cookies. Also see  https://github.com/yt-dlp/yt-dlp/wiki/Extractors#exporting-youtube-cookies  for tips on effectively exporting YouTube cookies\n"
     ]
    },
    {
     "name": "stderr",
     "output_type": "stream",
     "text": [
      "ERROR: [youtube] zNBj4EV_hAo: Sign in to confirm you’re not a bot. Use --cookies-from-browser or --cookies for the authentication. See  https://github.com/yt-dlp/yt-dlp/wiki/FAQ#how-do-i-pass-cookies-to-yt-dlp  for how to manually pass cookies. Also see  https://github.com/yt-dlp/yt-dlp/wiki/Extractors#exporting-youtube-cookies  for tips on effectively exporting YouTube cookies\n"
     ]
    },
    {
     "name": "stdout",
     "output_type": "stream",
     "text": [
      "[Attempt 1] Download error: ERROR: [youtube] zNBj4EV_hAo: Sign in to confirm you’re not a bot. Use --cookies-from-browser or --cookies for the authentication. See  https://github.com/yt-dlp/yt-dlp/wiki/FAQ#how-do-i-pass-cookies-to-yt-dlp  for how to manually pass cookies. Also see  https://github.com/yt-dlp/yt-dlp/wiki/Extractors#exporting-youtube-cookies  for tips on effectively exporting YouTube cookies\n"
     ]
    },
    {
     "name": "stderr",
     "output_type": "stream",
     "text": [
      "ERROR: [youtube] r3AP26ywQsQ: Sign in to confirm you’re not a bot. Use --cookies-from-browser or --cookies for the authentication. See  https://github.com/yt-dlp/yt-dlp/wiki/FAQ#how-do-i-pass-cookies-to-yt-dlp  for how to manually pass cookies. Also see  https://github.com/yt-dlp/yt-dlp/wiki/Extractors#exporting-youtube-cookies  for tips on effectively exporting YouTube cookies\n",
      " 80%|███████▉  | 391/491 [1:26:15<02:06,  1.26s/it]"
     ]
    },
    {
     "name": "stdout",
     "output_type": "stream",
     "text": [
      "[Attempt 2] Download error: ERROR: [youtube] r3AP26ywQsQ: Sign in to confirm you’re not a bot. Use --cookies-from-browser or --cookies for the authentication. See  https://github.com/yt-dlp/yt-dlp/wiki/FAQ#how-do-i-pass-cookies-to-yt-dlp  for how to manually pass cookies. Also see  https://github.com/yt-dlp/yt-dlp/wiki/Extractors#exporting-youtube-cookies  for tips on effectively exporting YouTube cookies\n",
      "Error indexing I Want Your Sex - Pts. 1 & 2 Remastered (ID 409): cannot unpack non-iterable NoneType object\n",
      "Downloading audio from https://www.youtube.com/watch?v=omsBhh8vA7c...\n"
     ]
    },
    {
     "name": "stderr",
     "output_type": "stream",
     "text": [
      "ERROR: [youtube] zNBj4EV_hAo: Sign in to confirm you’re not a bot. Use --cookies-from-browser or --cookies for the authentication. See  https://github.com/yt-dlp/yt-dlp/wiki/FAQ#how-do-i-pass-cookies-to-yt-dlp  for how to manually pass cookies. Also see  https://github.com/yt-dlp/yt-dlp/wiki/Extractors#exporting-youtube-cookies  for tips on effectively exporting YouTube cookies\n",
      " 80%|███████▉  | 392/491 [1:26:15<01:44,  1.06s/it]"
     ]
    },
    {
     "name": "stdout",
     "output_type": "stream",
     "text": [
      "[Attempt 2] Download error: ERROR: [youtube] zNBj4EV_hAo: Sign in to confirm you’re not a bot. Use --cookies-from-browser or --cookies for the authentication. See  https://github.com/yt-dlp/yt-dlp/wiki/FAQ#how-do-i-pass-cookies-to-yt-dlp  for how to manually pass cookies. Also see  https://github.com/yt-dlp/yt-dlp/wiki/Extractors#exporting-youtube-cookies  for tips on effectively exporting YouTube cookies\n",
      "Error indexing Jesus to a Child (ID 410): cannot unpack non-iterable NoneType object\n",
      "Downloading audio from https://www.youtube.com/watch?v=CU7xwtIdyoI...\n"
     ]
    },
    {
     "name": "stderr",
     "output_type": "stream",
     "text": [
      "ERROR: [youtube] omsBhh8vA7c: Sign in to confirm you’re not a bot. Use --cookies-from-browser or --cookies for the authentication. See  https://github.com/yt-dlp/yt-dlp/wiki/FAQ#how-do-i-pass-cookies-to-yt-dlp  for how to manually pass cookies. Also see  https://github.com/yt-dlp/yt-dlp/wiki/Extractors#exporting-youtube-cookies  for tips on effectively exporting YouTube cookies\n"
     ]
    },
    {
     "name": "stdout",
     "output_type": "stream",
     "text": [
      "[Attempt 1] Download error: ERROR: [youtube] omsBhh8vA7c: Sign in to confirm you’re not a bot. Use --cookies-from-browser or --cookies for the authentication. See  https://github.com/yt-dlp/yt-dlp/wiki/FAQ#how-do-i-pass-cookies-to-yt-dlp  for how to manually pass cookies. Also see  https://github.com/yt-dlp/yt-dlp/wiki/Extractors#exporting-youtube-cookies  for tips on effectively exporting YouTube cookies\n"
     ]
    },
    {
     "name": "stderr",
     "output_type": "stream",
     "text": [
      "ERROR: [youtube] CU7xwtIdyoI: Sign in to confirm you’re not a bot. Use --cookies-from-browser or --cookies for the authentication. See  https://github.com/yt-dlp/yt-dlp/wiki/FAQ#how-do-i-pass-cookies-to-yt-dlp  for how to manually pass cookies. Also see  https://github.com/yt-dlp/yt-dlp/wiki/Extractors#exporting-youtube-cookies  for tips on effectively exporting YouTube cookies\n"
     ]
    },
    {
     "name": "stdout",
     "output_type": "stream",
     "text": [
      "[Attempt 1] Download error: ERROR: [youtube] CU7xwtIdyoI: Sign in to confirm you’re not a bot. Use --cookies-from-browser or --cookies for the authentication. See  https://github.com/yt-dlp/yt-dlp/wiki/FAQ#how-do-i-pass-cookies-to-yt-dlp  for how to manually pass cookies. Also see  https://github.com/yt-dlp/yt-dlp/wiki/Extractors#exporting-youtube-cookies  for tips on effectively exporting YouTube cookies\n"
     ]
    },
    {
     "name": "stderr",
     "output_type": "stream",
     "text": [
      "ERROR: [youtube] omsBhh8vA7c: Sign in to confirm you’re not a bot. Use --cookies-from-browser or --cookies for the authentication. See  https://github.com/yt-dlp/yt-dlp/wiki/FAQ#how-do-i-pass-cookies-to-yt-dlp  for how to manually pass cookies. Also see  https://github.com/yt-dlp/yt-dlp/wiki/Extractors#exporting-youtube-cookies  for tips on effectively exporting YouTube cookies\n",
      " 80%|████████  | 393/491 [1:26:17<01:58,  1.21s/it]"
     ]
    },
    {
     "name": "stdout",
     "output_type": "stream",
     "text": [
      "[Attempt 2] Download error: ERROR: [youtube] omsBhh8vA7c: Sign in to confirm you’re not a bot. Use --cookies-from-browser or --cookies for the authentication. See  https://github.com/yt-dlp/yt-dlp/wiki/FAQ#how-do-i-pass-cookies-to-yt-dlp  for how to manually pass cookies. Also see  https://github.com/yt-dlp/yt-dlp/wiki/Extractors#exporting-youtube-cookies  for tips on effectively exporting YouTube cookies\n",
      "Error indexing Kissing a Fool - Remastered (ID 411): cannot unpack non-iterable NoneType object\n",
      "Downloading audio from https://www.youtube.com/watch?v=1bPxYmsv-Mc...\n"
     ]
    },
    {
     "name": "stderr",
     "output_type": "stream",
     "text": [
      "ERROR: [youtube] CU7xwtIdyoI: Sign in to confirm you’re not a bot. Use --cookies-from-browser or --cookies for the authentication. See  https://github.com/yt-dlp/yt-dlp/wiki/FAQ#how-do-i-pass-cookies-to-yt-dlp  for how to manually pass cookies. Also see  https://github.com/yt-dlp/yt-dlp/wiki/Extractors#exporting-youtube-cookies  for tips on effectively exporting YouTube cookies\n",
      " 80%|████████  | 394/491 [1:26:17<01:38,  1.01s/it]"
     ]
    },
    {
     "name": "stdout",
     "output_type": "stream",
     "text": [
      "[Attempt 2] Download error: ERROR: [youtube] CU7xwtIdyoI: Sign in to confirm you’re not a bot. Use --cookies-from-browser or --cookies for the authentication. See  https://github.com/yt-dlp/yt-dlp/wiki/FAQ#how-do-i-pass-cookies-to-yt-dlp  for how to manually pass cookies. Also see  https://github.com/yt-dlp/yt-dlp/wiki/Extractors#exporting-youtube-cookies  for tips on effectively exporting YouTube cookies\n",
      "Error indexing Miss Sarajevo (ID 412): cannot unpack non-iterable NoneType object\n",
      "Downloading audio from https://www.youtube.com/watch?v=6r5Dhqaay4E...\n"
     ]
    },
    {
     "name": "stderr",
     "output_type": "stream",
     "text": [
      "ERROR: [youtube] 1bPxYmsv-Mc: Sign in to confirm you’re not a bot. Use --cookies-from-browser or --cookies for the authentication. See  https://github.com/yt-dlp/yt-dlp/wiki/FAQ#how-do-i-pass-cookies-to-yt-dlp  for how to manually pass cookies. Also see  https://github.com/yt-dlp/yt-dlp/wiki/Extractors#exporting-youtube-cookies  for tips on effectively exporting YouTube cookies\n"
     ]
    },
    {
     "name": "stdout",
     "output_type": "stream",
     "text": [
      "[Attempt 1] Download error: ERROR: [youtube] 1bPxYmsv-Mc: Sign in to confirm you’re not a bot. Use --cookies-from-browser or --cookies for the authentication. See  https://github.com/yt-dlp/yt-dlp/wiki/FAQ#how-do-i-pass-cookies-to-yt-dlp  for how to manually pass cookies. Also see  https://github.com/yt-dlp/yt-dlp/wiki/Extractors#exporting-youtube-cookies  for tips on effectively exporting YouTube cookies\n"
     ]
    },
    {
     "name": "stderr",
     "output_type": "stream",
     "text": [
      "ERROR: [youtube] 6r5Dhqaay4E: Sign in to confirm you’re not a bot. Use --cookies-from-browser or --cookies for the authentication. See  https://github.com/yt-dlp/yt-dlp/wiki/FAQ#how-do-i-pass-cookies-to-yt-dlp  for how to manually pass cookies. Also see  https://github.com/yt-dlp/yt-dlp/wiki/Extractors#exporting-youtube-cookies  for tips on effectively exporting YouTube cookies\n"
     ]
    },
    {
     "name": "stdout",
     "output_type": "stream",
     "text": [
      "[Attempt 1] Download error: ERROR: [youtube] 6r5Dhqaay4E: Sign in to confirm you’re not a bot. Use --cookies-from-browser or --cookies for the authentication. See  https://github.com/yt-dlp/yt-dlp/wiki/FAQ#how-do-i-pass-cookies-to-yt-dlp  for how to manually pass cookies. Also see  https://github.com/yt-dlp/yt-dlp/wiki/Extractors#exporting-youtube-cookies  for tips on effectively exporting YouTube cookies\n"
     ]
    },
    {
     "name": "stderr",
     "output_type": "stream",
     "text": [
      "ERROR: [youtube] 1bPxYmsv-Mc: Sign in to confirm you’re not a bot. Use --cookies-from-browser or --cookies for the authentication. See  https://github.com/yt-dlp/yt-dlp/wiki/FAQ#how-do-i-pass-cookies-to-yt-dlp  for how to manually pass cookies. Also see  https://github.com/yt-dlp/yt-dlp/wiki/Extractors#exporting-youtube-cookies  for tips on effectively exporting YouTube cookies\n",
      " 80%|████████  | 395/491 [1:26:19<01:46,  1.10s/it]"
     ]
    },
    {
     "name": "stdout",
     "output_type": "stream",
     "text": [
      "[Attempt 2] Download error: ERROR: [youtube] 1bPxYmsv-Mc: Sign in to confirm you’re not a bot. Use --cookies-from-browser or --cookies for the authentication. See  https://github.com/yt-dlp/yt-dlp/wiki/FAQ#how-do-i-pass-cookies-to-yt-dlp  for how to manually pass cookies. Also see  https://github.com/yt-dlp/yt-dlp/wiki/Extractors#exporting-youtube-cookies  for tips on effectively exporting YouTube cookies\n",
      "Error indexing One More Try - Live (ID 413): cannot unpack non-iterable NoneType object\n",
      "Downloading audio from https://www.youtube.com/watch?v=gwZAYdHcDtU...\n"
     ]
    },
    {
     "name": "stderr",
     "output_type": "stream",
     "text": [
      "ERROR: [youtube] 6r5Dhqaay4E: Sign in to confirm you’re not a bot. Use --cookies-from-browser or --cookies for the authentication. See  https://github.com/yt-dlp/yt-dlp/wiki/FAQ#how-do-i-pass-cookies-to-yt-dlp  for how to manually pass cookies. Also see  https://github.com/yt-dlp/yt-dlp/wiki/Extractors#exporting-youtube-cookies  for tips on effectively exporting YouTube cookies\n",
      " 81%|████████  | 396/491 [1:26:20<01:37,  1.02s/it]"
     ]
    },
    {
     "name": "stdout",
     "output_type": "stream",
     "text": [
      "[Attempt 2] Download error: ERROR: [youtube] 6r5Dhqaay4E: Sign in to confirm you’re not a bot. Use --cookies-from-browser or --cookies for the authentication. See  https://github.com/yt-dlp/yt-dlp/wiki/FAQ#how-do-i-pass-cookies-to-yt-dlp  for how to manually pass cookies. Also see  https://github.com/yt-dlp/yt-dlp/wiki/Extractors#exporting-youtube-cookies  for tips on effectively exporting YouTube cookies\n",
      "Error indexing One More Try - Remastered (ID 414): cannot unpack non-iterable NoneType object\n",
      "Downloading audio from https://www.youtube.com/watch?v=eT5_neXR3FI...\n"
     ]
    },
    {
     "name": "stderr",
     "output_type": "stream",
     "text": [
      "ERROR: [youtube] gwZAYdHcDtU: Sign in to confirm you’re not a bot. Use --cookies-from-browser or --cookies for the authentication. See  https://github.com/yt-dlp/yt-dlp/wiki/FAQ#how-do-i-pass-cookies-to-yt-dlp  for how to manually pass cookies. Also see  https://github.com/yt-dlp/yt-dlp/wiki/Extractors#exporting-youtube-cookies  for tips on effectively exporting YouTube cookies\n"
     ]
    },
    {
     "name": "stdout",
     "output_type": "stream",
     "text": [
      "[Attempt 1] Download error: ERROR: [youtube] gwZAYdHcDtU: Sign in to confirm you’re not a bot. Use --cookies-from-browser or --cookies for the authentication. See  https://github.com/yt-dlp/yt-dlp/wiki/FAQ#how-do-i-pass-cookies-to-yt-dlp  for how to manually pass cookies. Also see  https://github.com/yt-dlp/yt-dlp/wiki/Extractors#exporting-youtube-cookies  for tips on effectively exporting YouTube cookies\n"
     ]
    },
    {
     "name": "stderr",
     "output_type": "stream",
     "text": [
      "ERROR: [youtube] eT5_neXR3FI: Sign in to confirm you’re not a bot. Use --cookies-from-browser or --cookies for the authentication. See  https://github.com/yt-dlp/yt-dlp/wiki/FAQ#how-do-i-pass-cookies-to-yt-dlp  for how to manually pass cookies. Also see  https://github.com/yt-dlp/yt-dlp/wiki/Extractors#exporting-youtube-cookies  for tips on effectively exporting YouTube cookies\n"
     ]
    },
    {
     "name": "stdout",
     "output_type": "stream",
     "text": [
      "[Attempt 1] Download error: ERROR: [youtube] eT5_neXR3FI: Sign in to confirm you’re not a bot. Use --cookies-from-browser or --cookies for the authentication. See  https://github.com/yt-dlp/yt-dlp/wiki/FAQ#how-do-i-pass-cookies-to-yt-dlp  for how to manually pass cookies. Also see  https://github.com/yt-dlp/yt-dlp/wiki/Extractors#exporting-youtube-cookies  for tips on effectively exporting YouTube cookies\n"
     ]
    },
    {
     "name": "stderr",
     "output_type": "stream",
     "text": [
      "ERROR: [youtube] gwZAYdHcDtU: Sign in to confirm you’re not a bot. Use --cookies-from-browser or --cookies for the authentication. See  https://github.com/yt-dlp/yt-dlp/wiki/FAQ#how-do-i-pass-cookies-to-yt-dlp  for how to manually pass cookies. Also see  https://github.com/yt-dlp/yt-dlp/wiki/Extractors#exporting-youtube-cookies  for tips on effectively exporting YouTube cookies\n",
      " 81%|████████  | 397/491 [1:26:21<01:44,  1.11s/it]"
     ]
    },
    {
     "name": "stdout",
     "output_type": "stream",
     "text": [
      "[Attempt 2] Download error: ERROR: [youtube] gwZAYdHcDtU: Sign in to confirm you’re not a bot. Use --cookies-from-browser or --cookies for the authentication. See  https://github.com/yt-dlp/yt-dlp/wiki/FAQ#how-do-i-pass-cookies-to-yt-dlp  for how to manually pass cookies. Also see  https://github.com/yt-dlp/yt-dlp/wiki/Extractors#exporting-youtube-cookies  for tips on effectively exporting YouTube cookies\n",
      "Error indexing Outside (ID 415): cannot unpack non-iterable NoneType object\n",
      "Downloading audio from https://www.youtube.com/watch?v=Na3bPzrZS-o...\n"
     ]
    },
    {
     "name": "stderr",
     "output_type": "stream",
     "text": [
      "ERROR: [youtube] eT5_neXR3FI: Sign in to confirm you’re not a bot. Use --cookies-from-browser or --cookies for the authentication. See  https://github.com/yt-dlp/yt-dlp/wiki/FAQ#how-do-i-pass-cookies-to-yt-dlp  for how to manually pass cookies. Also see  https://github.com/yt-dlp/yt-dlp/wiki/Extractors#exporting-youtube-cookies  for tips on effectively exporting YouTube cookies\n",
      " 81%|████████  | 398/491 [1:26:22<01:32,  1.00it/s]ERROR: [youtube] Na3bPzrZS-o: Sign in to confirm you’re not a bot. Use --cookies-from-browser or --cookies for the authentication. See  https://github.com/yt-dlp/yt-dlp/wiki/FAQ#how-do-i-pass-cookies-to-yt-dlp  for how to manually pass cookies. Also see  https://github.com/yt-dlp/yt-dlp/wiki/Extractors#exporting-youtube-cookies  for tips on effectively exporting YouTube cookies\n"
     ]
    },
    {
     "name": "stdout",
     "output_type": "stream",
     "text": [
      "[Attempt 2] Download error: ERROR: [youtube] eT5_neXR3FI: Sign in to confirm you’re not a bot. Use --cookies-from-browser or --cookies for the authentication. See  https://github.com/yt-dlp/yt-dlp/wiki/FAQ#how-do-i-pass-cookies-to-yt-dlp  for how to manually pass cookies. Also see  https://github.com/yt-dlp/yt-dlp/wiki/Extractors#exporting-youtube-cookies  for tips on effectively exporting YouTube cookies\n",
      "Error indexing Praying for Time - 2010 Remastered Version (ID 416): cannot unpack non-iterable NoneType object\n",
      "Downloading audio from https://www.youtube.com/watch?v=AiXYgOmi2kI...\n",
      "[Attempt 1] Download error: ERROR: [youtube] Na3bPzrZS-o: Sign in to confirm you’re not a bot. Use --cookies-from-browser or --cookies for the authentication. See  https://github.com/yt-dlp/yt-dlp/wiki/FAQ#how-do-i-pass-cookies-to-yt-dlp  for how to manually pass cookies. Also see  https://github.com/yt-dlp/yt-dlp/wiki/Extractors#exporting-youtube-cookies  for tips on effectively exporting YouTube cookies\n"
     ]
    },
    {
     "name": "stderr",
     "output_type": "stream",
     "text": [
      "ERROR: [youtube] Na3bPzrZS-o: Sign in to confirm you’re not a bot. Use --cookies-from-browser or --cookies for the authentication. See  https://github.com/yt-dlp/yt-dlp/wiki/FAQ#how-do-i-pass-cookies-to-yt-dlp  for how to manually pass cookies. Also see  https://github.com/yt-dlp/yt-dlp/wiki/Extractors#exporting-youtube-cookies  for tips on effectively exporting YouTube cookies\n",
      " 81%|████████▏ | 399/491 [1:26:23<01:36,  1.05s/it]ERROR: [youtube] AiXYgOmi2kI: Sign in to confirm you’re not a bot. Use --cookies-from-browser or --cookies for the authentication. See  https://github.com/yt-dlp/yt-dlp/wiki/FAQ#how-do-i-pass-cookies-to-yt-dlp  for how to manually pass cookies. Also see  https://github.com/yt-dlp/yt-dlp/wiki/Extractors#exporting-youtube-cookies  for tips on effectively exporting YouTube cookies\n"
     ]
    },
    {
     "name": "stdout",
     "output_type": "stream",
     "text": [
      "[Attempt 2] Download error: ERROR: [youtube] Na3bPzrZS-o: Sign in to confirm you’re not a bot. Use --cookies-from-browser or --cookies for the authentication. See  https://github.com/yt-dlp/yt-dlp/wiki/FAQ#how-do-i-pass-cookies-to-yt-dlp  for how to manually pass cookies. Also see  https://github.com/yt-dlp/yt-dlp/wiki/Extractors#exporting-youtube-cookies  for tips on effectively exporting YouTube cookies\n",
      "Error indexing The First Time Ever I Saw Your Face (ID 417): cannot unpack non-iterable NoneType object\n",
      "Downloading audio from https://www.youtube.com/watch?v=JAwk7yBQxDs...\n",
      "[Attempt 1] Download error: ERROR: [youtube] AiXYgOmi2kI: Sign in to confirm you’re not a bot. Use --cookies-from-browser or --cookies for the authentication. See  https://github.com/yt-dlp/yt-dlp/wiki/FAQ#how-do-i-pass-cookies-to-yt-dlp  for how to manually pass cookies. Also see  https://github.com/yt-dlp/yt-dlp/wiki/Extractors#exporting-youtube-cookies  for tips on effectively exporting YouTube cookies\n"
     ]
    },
    {
     "name": "stderr",
     "output_type": "stream",
     "text": [
      "ERROR: [youtube] AiXYgOmi2kI: Sign in to confirm you’re not a bot. Use --cookies-from-browser or --cookies for the authentication. See  https://github.com/yt-dlp/yt-dlp/wiki/FAQ#how-do-i-pass-cookies-to-yt-dlp  for how to manually pass cookies. Also see  https://github.com/yt-dlp/yt-dlp/wiki/Extractors#exporting-youtube-cookies  for tips on effectively exporting YouTube cookies\n",
      " 81%|████████▏ | 400/491 [1:26:24<01:34,  1.04s/it]ERROR: [youtube] JAwk7yBQxDs: Sign in to confirm you’re not a bot. Use --cookies-from-browser or --cookies for the authentication. See  https://github.com/yt-dlp/yt-dlp/wiki/FAQ#how-do-i-pass-cookies-to-yt-dlp  for how to manually pass cookies. Also see  https://github.com/yt-dlp/yt-dlp/wiki/Extractors#exporting-youtube-cookies  for tips on effectively exporting YouTube cookies\n"
     ]
    },
    {
     "name": "stdout",
     "output_type": "stream",
     "text": [
      "[Attempt 2] Download error: ERROR: [youtube] AiXYgOmi2kI: Sign in to confirm you’re not a bot. Use --cookies-from-browser or --cookies for the authentication. See  https://github.com/yt-dlp/yt-dlp/wiki/FAQ#how-do-i-pass-cookies-to-yt-dlp  for how to manually pass cookies. Also see  https://github.com/yt-dlp/yt-dlp/wiki/Extractors#exporting-youtube-cookies  for tips on effectively exporting YouTube cookies\n",
      "Error indexing Too Funky - Remastered 2006 (ID 418): cannot unpack non-iterable NoneType object\n",
      "Downloading audio from https://www.youtube.com/watch?v=WXR-bCF5dbM...\n",
      "[Attempt 1] Download error: ERROR: [youtube] JAwk7yBQxDs: Sign in to confirm you’re not a bot. Use --cookies-from-browser or --cookies for the authentication. See  https://github.com/yt-dlp/yt-dlp/wiki/FAQ#how-do-i-pass-cookies-to-yt-dlp  for how to manually pass cookies. Also see  https://github.com/yt-dlp/yt-dlp/wiki/Extractors#exporting-youtube-cookies  for tips on effectively exporting YouTube cookies\n"
     ]
    },
    {
     "name": "stderr",
     "output_type": "stream",
     "text": [
      "ERROR: [youtube] WXR-bCF5dbM: Sign in to confirm you’re not a bot. Use --cookies-from-browser or --cookies for the authentication. See  https://github.com/yt-dlp/yt-dlp/wiki/FAQ#how-do-i-pass-cookies-to-yt-dlp  for how to manually pass cookies. Also see  https://github.com/yt-dlp/yt-dlp/wiki/Extractors#exporting-youtube-cookies  for tips on effectively exporting YouTube cookies\n"
     ]
    },
    {
     "name": "stdout",
     "output_type": "stream",
     "text": [
      "[Attempt 1] Download error: ERROR: [youtube] WXR-bCF5dbM: Sign in to confirm you’re not a bot. Use --cookies-from-browser or --cookies for the authentication. See  https://github.com/yt-dlp/yt-dlp/wiki/FAQ#how-do-i-pass-cookies-to-yt-dlp  for how to manually pass cookies. Also see  https://github.com/yt-dlp/yt-dlp/wiki/Extractors#exporting-youtube-cookies  for tips on effectively exporting YouTube cookies\n"
     ]
    },
    {
     "name": "stderr",
     "output_type": "stream",
     "text": [
      "ERROR: [youtube] JAwk7yBQxDs: Sign in to confirm you’re not a bot. Use --cookies-from-browser or --cookies for the authentication. See  https://github.com/yt-dlp/yt-dlp/wiki/FAQ#how-do-i-pass-cookies-to-yt-dlp  for how to manually pass cookies. Also see  https://github.com/yt-dlp/yt-dlp/wiki/Extractors#exporting-youtube-cookies  for tips on effectively exporting YouTube cookies\n",
      " 82%|████████▏ | 401/491 [1:26:25<01:38,  1.09s/it]"
     ]
    },
    {
     "name": "stdout",
     "output_type": "stream",
     "text": [
      "[Attempt 2] Download error: ERROR: [youtube] JAwk7yBQxDs: Sign in to confirm you’re not a bot. Use --cookies-from-browser or --cookies for the authentication. See  https://github.com/yt-dlp/yt-dlp/wiki/FAQ#how-do-i-pass-cookies-to-yt-dlp  for how to manually pass cookies. Also see  https://github.com/yt-dlp/yt-dlp/wiki/Extractors#exporting-youtube-cookies  for tips on effectively exporting YouTube cookies\n",
      "Error indexing Too Funky - Single Edit (ID 419): cannot unpack non-iterable NoneType object\n",
      "Downloading audio from https://www.youtube.com/watch?v=1V_xRb0x9aw...\n"
     ]
    },
    {
     "name": "stderr",
     "output_type": "stream",
     "text": [
      "ERROR: [youtube] WXR-bCF5dbM: Sign in to confirm you’re not a bot. Use --cookies-from-browser or --cookies for the authentication. See  https://github.com/yt-dlp/yt-dlp/wiki/FAQ#how-do-i-pass-cookies-to-yt-dlp  for how to manually pass cookies. Also see  https://github.com/yt-dlp/yt-dlp/wiki/Extractors#exporting-youtube-cookies  for tips on effectively exporting YouTube cookies\n",
      " 82%|████████▏ | 402/491 [1:26:26<01:29,  1.01s/it]"
     ]
    },
    {
     "name": "stdout",
     "output_type": "stream",
     "text": [
      "[Attempt 2] Download error: ERROR: [youtube] WXR-bCF5dbM: Sign in to confirm you’re not a bot. Use --cookies-from-browser or --cookies for the authentication. See  https://github.com/yt-dlp/yt-dlp/wiki/FAQ#how-do-i-pass-cookies-to-yt-dlp  for how to manually pass cookies. Also see  https://github.com/yt-dlp/yt-dlp/wiki/Extractors#exporting-youtube-cookies  for tips on effectively exporting YouTube cookies\n",
      "Error indexing 19-2000 (ID 420): cannot unpack non-iterable NoneType object\n",
      "Downloading audio from https://www.youtube.com/watch?v=uAOR6ib95kQ...\n"
     ]
    },
    {
     "name": "stderr",
     "output_type": "stream",
     "text": [
      "ERROR: [youtube] 1V_xRb0x9aw: Sign in to confirm you’re not a bot. Use --cookies-from-browser or --cookies for the authentication. See  https://github.com/yt-dlp/yt-dlp/wiki/FAQ#how-do-i-pass-cookies-to-yt-dlp  for how to manually pass cookies. Also see  https://github.com/yt-dlp/yt-dlp/wiki/Extractors#exporting-youtube-cookies  for tips on effectively exporting YouTube cookies\n"
     ]
    },
    {
     "name": "stdout",
     "output_type": "stream",
     "text": [
      "[Attempt 1] Download error: ERROR: [youtube] 1V_xRb0x9aw: Sign in to confirm you’re not a bot. Use --cookies-from-browser or --cookies for the authentication. See  https://github.com/yt-dlp/yt-dlp/wiki/FAQ#how-do-i-pass-cookies-to-yt-dlp  for how to manually pass cookies. Also see  https://github.com/yt-dlp/yt-dlp/wiki/Extractors#exporting-youtube-cookies  for tips on effectively exporting YouTube cookies\n"
     ]
    },
    {
     "name": "stderr",
     "output_type": "stream",
     "text": [
      "ERROR: [youtube] uAOR6ib95kQ: Sign in to confirm you’re not a bot. Use --cookies-from-browser or --cookies for the authentication. See  https://github.com/yt-dlp/yt-dlp/wiki/FAQ#how-do-i-pass-cookies-to-yt-dlp  for how to manually pass cookies. Also see  https://github.com/yt-dlp/yt-dlp/wiki/Extractors#exporting-youtube-cookies  for tips on effectively exporting YouTube cookies\n",
      "ERROR: [youtube] 1V_xRb0x9aw: Sign in to confirm you’re not a bot. Use --cookies-from-browser or --cookies for the authentication. See  https://github.com/yt-dlp/yt-dlp/wiki/FAQ#how-do-i-pass-cookies-to-yt-dlp  for how to manually pass cookies. Also see  https://github.com/yt-dlp/yt-dlp/wiki/Extractors#exporting-youtube-cookies  for tips on effectively exporting YouTube cookies\n",
      " 82%|████████▏ | 403/491 [1:26:27<01:38,  1.12s/it]"
     ]
    },
    {
     "name": "stdout",
     "output_type": "stream",
     "text": [
      "[Attempt 1] Download error: ERROR: [youtube] uAOR6ib95kQ: Sign in to confirm you’re not a bot. Use --cookies-from-browser or --cookies for the authentication. See  https://github.com/yt-dlp/yt-dlp/wiki/FAQ#how-do-i-pass-cookies-to-yt-dlp  for how to manually pass cookies. Also see  https://github.com/yt-dlp/yt-dlp/wiki/Extractors#exporting-youtube-cookies  for tips on effectively exporting YouTube cookies\n",
      "[Attempt 2] Download error: ERROR: [youtube] 1V_xRb0x9aw: Sign in to confirm you’re not a bot. Use --cookies-from-browser or --cookies for the authentication. See  https://github.com/yt-dlp/yt-dlp/wiki/FAQ#how-do-i-pass-cookies-to-yt-dlp  for how to manually pass cookies. Also see  https://github.com/yt-dlp/yt-dlp/wiki/Extractors#exporting-youtube-cookies  for tips on effectively exporting YouTube cookies\n",
      "Error indexing Clint Eastwood (ID 421): cannot unpack non-iterable NoneType object\n",
      "Downloading audio from https://www.youtube.com/watch?v=HyHNuVaZJ-k...\n"
     ]
    },
    {
     "name": "stderr",
     "output_type": "stream",
     "text": [
      "ERROR: [youtube] uAOR6ib95kQ: Sign in to confirm you’re not a bot. Use --cookies-from-browser or --cookies for the authentication. See  https://github.com/yt-dlp/yt-dlp/wiki/FAQ#how-do-i-pass-cookies-to-yt-dlp  for how to manually pass cookies. Also see  https://github.com/yt-dlp/yt-dlp/wiki/Extractors#exporting-youtube-cookies  for tips on effectively exporting YouTube cookies\n",
      " 82%|████████▏ | 404/491 [1:26:28<01:28,  1.02s/it]"
     ]
    },
    {
     "name": "stdout",
     "output_type": "stream",
     "text": [
      "[Attempt 2] Download error: ERROR: [youtube] uAOR6ib95kQ: Sign in to confirm you’re not a bot. Use --cookies-from-browser or --cookies for the authentication. See  https://github.com/yt-dlp/yt-dlp/wiki/FAQ#how-do-i-pass-cookies-to-yt-dlp  for how to manually pass cookies. Also see  https://github.com/yt-dlp/yt-dlp/wiki/Extractors#exporting-youtube-cookies  for tips on effectively exporting YouTube cookies\n",
      "Error indexing DARE (ID 422): cannot unpack non-iterable NoneType object\n",
      "Downloading audio from https://www.youtube.com/watch?v=r00ikilDxW4...\n"
     ]
    },
    {
     "name": "stderr",
     "output_type": "stream",
     "text": [
      "ERROR: [youtube] HyHNuVaZJ-k: Sign in to confirm you’re not a bot. Use --cookies-from-browser or --cookies for the authentication. See  https://github.com/yt-dlp/yt-dlp/wiki/FAQ#how-do-i-pass-cookies-to-yt-dlp  for how to manually pass cookies. Also see  https://github.com/yt-dlp/yt-dlp/wiki/Extractors#exporting-youtube-cookies  for tips on effectively exporting YouTube cookies\n"
     ]
    },
    {
     "name": "stdout",
     "output_type": "stream",
     "text": [
      "[Attempt 1] Download error: ERROR: [youtube] HyHNuVaZJ-k: Sign in to confirm you’re not a bot. Use --cookies-from-browser or --cookies for the authentication. See  https://github.com/yt-dlp/yt-dlp/wiki/FAQ#how-do-i-pass-cookies-to-yt-dlp  for how to manually pass cookies. Also see  https://github.com/yt-dlp/yt-dlp/wiki/Extractors#exporting-youtube-cookies  for tips on effectively exporting YouTube cookies\n"
     ]
    },
    {
     "name": "stderr",
     "output_type": "stream",
     "text": [
      "ERROR: [youtube] r00ikilDxW4: Sign in to confirm you’re not a bot. Use --cookies-from-browser or --cookies for the authentication. See  https://github.com/yt-dlp/yt-dlp/wiki/FAQ#how-do-i-pass-cookies-to-yt-dlp  for how to manually pass cookies. Also see  https://github.com/yt-dlp/yt-dlp/wiki/Extractors#exporting-youtube-cookies  for tips on effectively exporting YouTube cookies\n"
     ]
    },
    {
     "name": "stdout",
     "output_type": "stream",
     "text": [
      "[Attempt 1] Download error: ERROR: [youtube] r00ikilDxW4: Sign in to confirm you’re not a bot. Use --cookies-from-browser or --cookies for the authentication. See  https://github.com/yt-dlp/yt-dlp/wiki/FAQ#how-do-i-pass-cookies-to-yt-dlp  for how to manually pass cookies. Also see  https://github.com/yt-dlp/yt-dlp/wiki/Extractors#exporting-youtube-cookies  for tips on effectively exporting YouTube cookies\n"
     ]
    },
    {
     "name": "stderr",
     "output_type": "stream",
     "text": [
      "ERROR: [youtube] HyHNuVaZJ-k: Sign in to confirm you’re not a bot. Use --cookies-from-browser or --cookies for the authentication. See  https://github.com/yt-dlp/yt-dlp/wiki/FAQ#how-do-i-pass-cookies-to-yt-dlp  for how to manually pass cookies. Also see  https://github.com/yt-dlp/yt-dlp/wiki/Extractors#exporting-youtube-cookies  for tips on effectively exporting YouTube cookies\n",
      " 82%|████████▏ | 405/491 [1:26:30<01:41,  1.18s/it]"
     ]
    },
    {
     "name": "stdout",
     "output_type": "stream",
     "text": [
      "[Attempt 2] Download error: ERROR: [youtube] HyHNuVaZJ-k: Sign in to confirm you’re not a bot. Use --cookies-from-browser or --cookies for the authentication. See  https://github.com/yt-dlp/yt-dlp/wiki/FAQ#how-do-i-pass-cookies-to-yt-dlp  for how to manually pass cookies. Also see  https://github.com/yt-dlp/yt-dlp/wiki/Extractors#exporting-youtube-cookies  for tips on effectively exporting YouTube cookies\n",
      "Error indexing Feel Good Inc. (ID 423): cannot unpack non-iterable NoneType object\n",
      "Downloading audio from https://www.youtube.com/watch?v=tVJ5VvLAkw0...\n"
     ]
    },
    {
     "name": "stderr",
     "output_type": "stream",
     "text": [
      "ERROR: [youtube] r00ikilDxW4: Sign in to confirm you’re not a bot. Use --cookies-from-browser or --cookies for the authentication. See  https://github.com/yt-dlp/yt-dlp/wiki/FAQ#how-do-i-pass-cookies-to-yt-dlp  for how to manually pass cookies. Also see  https://github.com/yt-dlp/yt-dlp/wiki/Extractors#exporting-youtube-cookies  for tips on effectively exporting YouTube cookies\n",
      " 83%|████████▎ | 406/491 [1:26:30<01:30,  1.07s/it]ERROR: [youtube] tVJ5VvLAkw0: Sign in to confirm you’re not a bot. Use --cookies-from-browser or --cookies for the authentication. See  https://github.com/yt-dlp/yt-dlp/wiki/FAQ#how-do-i-pass-cookies-to-yt-dlp  for how to manually pass cookies. Also see  https://github.com/yt-dlp/yt-dlp/wiki/Extractors#exporting-youtube-cookies  for tips on effectively exporting YouTube cookies\n"
     ]
    },
    {
     "name": "stdout",
     "output_type": "stream",
     "text": [
      "[Attempt 2] Download error: ERROR: [youtube] r00ikilDxW4: Sign in to confirm you’re not a bot. Use --cookies-from-browser or --cookies for the authentication. See  https://github.com/yt-dlp/yt-dlp/wiki/FAQ#how-do-i-pass-cookies-to-yt-dlp  for how to manually pass cookies. Also see  https://github.com/yt-dlp/yt-dlp/wiki/Extractors#exporting-youtube-cookies  for tips on effectively exporting YouTube cookies\n",
      "Error indexing 21 Guns (ID 424): cannot unpack non-iterable NoneType object\n",
      "Downloading audio from https://www.youtube.com/watch?v=Ee_uujKuJMI...\n",
      "[Attempt 1] Download error: ERROR: [youtube] tVJ5VvLAkw0: Sign in to confirm you’re not a bot. Use --cookies-from-browser or --cookies for the authentication. See  https://github.com/yt-dlp/yt-dlp/wiki/FAQ#how-do-i-pass-cookies-to-yt-dlp  for how to manually pass cookies. Also see  https://github.com/yt-dlp/yt-dlp/wiki/Extractors#exporting-youtube-cookies  for tips on effectively exporting YouTube cookies\n"
     ]
    },
    {
     "name": "stderr",
     "output_type": "stream",
     "text": [
      "ERROR: [youtube] Ee_uujKuJMI: Sign in to confirm you’re not a bot. Use --cookies-from-browser or --cookies for the authentication. See  https://github.com/yt-dlp/yt-dlp/wiki/FAQ#how-do-i-pass-cookies-to-yt-dlp  for how to manually pass cookies. Also see  https://github.com/yt-dlp/yt-dlp/wiki/Extractors#exporting-youtube-cookies  for tips on effectively exporting YouTube cookies\n",
      "ERROR: [youtube] tVJ5VvLAkw0: Sign in to confirm you’re not a bot. Use --cookies-from-browser or --cookies for the authentication. See  https://github.com/yt-dlp/yt-dlp/wiki/FAQ#how-do-i-pass-cookies-to-yt-dlp  for how to manually pass cookies. Also see  https://github.com/yt-dlp/yt-dlp/wiki/Extractors#exporting-youtube-cookies  for tips on effectively exporting YouTube cookies\n",
      " 83%|████████▎ | 407/491 [1:26:32<01:32,  1.10s/it]"
     ]
    },
    {
     "name": "stdout",
     "output_type": "stream",
     "text": [
      "[Attempt 1] Download error: ERROR: [youtube] Ee_uujKuJMI: Sign in to confirm you’re not a bot. Use --cookies-from-browser or --cookies for the authentication. See  https://github.com/yt-dlp/yt-dlp/wiki/FAQ#how-do-i-pass-cookies-to-yt-dlp  for how to manually pass cookies. Also see  https://github.com/yt-dlp/yt-dlp/wiki/Extractors#exporting-youtube-cookies  for tips on effectively exporting YouTube cookies\n",
      "[Attempt 2] Download error: ERROR: [youtube] tVJ5VvLAkw0: Sign in to confirm you’re not a bot. Use --cookies-from-browser or --cookies for the authentication. See  https://github.com/yt-dlp/yt-dlp/wiki/FAQ#how-do-i-pass-cookies-to-yt-dlp  for how to manually pass cookies. Also see  https://github.com/yt-dlp/yt-dlp/wiki/Extractors#exporting-youtube-cookies  for tips on effectively exporting YouTube cookies\n",
      "Error indexing 21 Guns (feat. Rebecca Naomi Jones, Christina Sajous, Mary Faber, Stark Sands, John Gallagher Jr., Michael Esper, The American Idiot Broadway Company) (ID 425): cannot unpack non-iterable NoneType object\n",
      "Downloading audio from https://www.youtube.com/watch?v=NUTGr5t3MoY...\n"
     ]
    },
    {
     "name": "stderr",
     "output_type": "stream",
     "text": [
      "ERROR: [youtube] NUTGr5t3MoY: Sign in to confirm you’re not a bot. Use --cookies-from-browser or --cookies for the authentication. See  https://github.com/yt-dlp/yt-dlp/wiki/FAQ#how-do-i-pass-cookies-to-yt-dlp  for how to manually pass cookies. Also see  https://github.com/yt-dlp/yt-dlp/wiki/Extractors#exporting-youtube-cookies  for tips on effectively exporting YouTube cookies\n",
      "ERROR: [youtube] Ee_uujKuJMI: Sign in to confirm you’re not a bot. Use --cookies-from-browser or --cookies for the authentication. See  https://github.com/yt-dlp/yt-dlp/wiki/FAQ#how-do-i-pass-cookies-to-yt-dlp  for how to manually pass cookies. Also see  https://github.com/yt-dlp/yt-dlp/wiki/Extractors#exporting-youtube-cookies  for tips on effectively exporting YouTube cookies\n",
      " 83%|████████▎ | 408/491 [1:26:33<01:30,  1.09s/it]"
     ]
    },
    {
     "name": "stdout",
     "output_type": "stream",
     "text": [
      "[Attempt 1] Download error: ERROR: [youtube] NUTGr5t3MoY: Sign in to confirm you’re not a bot. Use --cookies-from-browser or --cookies for the authentication. See  https://github.com/yt-dlp/yt-dlp/wiki/FAQ#how-do-i-pass-cookies-to-yt-dlp  for how to manually pass cookies. Also see  https://github.com/yt-dlp/yt-dlp/wiki/Extractors#exporting-youtube-cookies  for tips on effectively exporting YouTube cookies\n",
      "[Attempt 2] Download error: ERROR: [youtube] Ee_uujKuJMI: Sign in to confirm you’re not a bot. Use --cookies-from-browser or --cookies for the authentication. See  https://github.com/yt-dlp/yt-dlp/wiki/FAQ#how-do-i-pass-cookies-to-yt-dlp  for how to manually pass cookies. Also see  https://github.com/yt-dlp/yt-dlp/wiki/Extractors#exporting-youtube-cookies  for tips on effectively exporting YouTube cookies\n",
      "Error indexing American Idiot (ID 426): cannot unpack non-iterable NoneType object\n",
      "Downloading audio from https://www.youtube.com/watch?v=Soa3gO7tL-c...\n"
     ]
    },
    {
     "name": "stderr",
     "output_type": "stream",
     "text": [
      "ERROR: [youtube] Soa3gO7tL-c: Sign in to confirm you’re not a bot. Use --cookies-from-browser or --cookies for the authentication. See  https://github.com/yt-dlp/yt-dlp/wiki/FAQ#how-do-i-pass-cookies-to-yt-dlp  for how to manually pass cookies. Also see  https://github.com/yt-dlp/yt-dlp/wiki/Extractors#exporting-youtube-cookies  for tips on effectively exporting YouTube cookies\n",
      "ERROR: [youtube] NUTGr5t3MoY: Sign in to confirm you’re not a bot. Use --cookies-from-browser or --cookies for the authentication. See  https://github.com/yt-dlp/yt-dlp/wiki/FAQ#how-do-i-pass-cookies-to-yt-dlp  for how to manually pass cookies. Also see  https://github.com/yt-dlp/yt-dlp/wiki/Extractors#exporting-youtube-cookies  for tips on effectively exporting YouTube cookies\n",
      " 83%|████████▎ | 409/491 [1:26:34<01:37,  1.19s/it]"
     ]
    },
    {
     "name": "stdout",
     "output_type": "stream",
     "text": [
      "[Attempt 1] Download error: ERROR: [youtube] Soa3gO7tL-c: Sign in to confirm you’re not a bot. Use --cookies-from-browser or --cookies for the authentication. See  https://github.com/yt-dlp/yt-dlp/wiki/FAQ#how-do-i-pass-cookies-to-yt-dlp  for how to manually pass cookies. Also see  https://github.com/yt-dlp/yt-dlp/wiki/Extractors#exporting-youtube-cookies  for tips on effectively exporting YouTube cookies\n",
      "[Attempt 2] Download error: ERROR: [youtube] NUTGr5t3MoY: Sign in to confirm you’re not a bot. Use --cookies-from-browser or --cookies for the authentication. See  https://github.com/yt-dlp/yt-dlp/wiki/FAQ#how-do-i-pass-cookies-to-yt-dlp  for how to manually pass cookies. Also see  https://github.com/yt-dlp/yt-dlp/wiki/Extractors#exporting-youtube-cookies  for tips on effectively exporting YouTube cookies\n",
      "Error indexing Basket Case (ID 427): cannot unpack non-iterable NoneType object\n",
      "Downloading audio from https://www.youtube.com/watch?v=UNq9gmY_Oz4...\n"
     ]
    },
    {
     "name": "stderr",
     "output_type": "stream",
     "text": [
      "ERROR: [youtube] UNq9gmY_Oz4: Sign in to confirm you’re not a bot. Use --cookies-from-browser or --cookies for the authentication. See  https://github.com/yt-dlp/yt-dlp/wiki/FAQ#how-do-i-pass-cookies-to-yt-dlp  for how to manually pass cookies. Also see  https://github.com/yt-dlp/yt-dlp/wiki/Extractors#exporting-youtube-cookies  for tips on effectively exporting YouTube cookies\n",
      "ERROR: [youtube] Soa3gO7tL-c: Sign in to confirm you’re not a bot. Use --cookies-from-browser or --cookies for the authentication. See  https://github.com/yt-dlp/yt-dlp/wiki/FAQ#how-do-i-pass-cookies-to-yt-dlp  for how to manually pass cookies. Also see  https://github.com/yt-dlp/yt-dlp/wiki/Extractors#exporting-youtube-cookies  for tips on effectively exporting YouTube cookies\n"
     ]
    },
    {
     "name": "stdout",
     "output_type": "stream",
     "text": [
      "[Attempt 1] Download error: ERROR: [youtube] UNq9gmY_Oz4: Sign in to confirm you’re not a bot. Use --cookies-from-browser or --cookies for the authentication. See  https://github.com/yt-dlp/yt-dlp/wiki/FAQ#how-do-i-pass-cookies-to-yt-dlp  for how to manually pass cookies. Also see  https://github.com/yt-dlp/yt-dlp/wiki/Extractors#exporting-youtube-cookies  for tips on effectively exporting YouTube cookies\n",
      "[Attempt 2] Download error: ERROR: [youtube] Soa3gO7tL-c: Sign in to confirm you’re not a bot. Use --cookies-from-browser or --cookies for the authentication. See  https://github.com/yt-dlp/yt-dlp/wiki/FAQ#how-do-i-pass-cookies-to-yt-dlp  for how to manually pass cookies. Also see  https://github.com/yt-dlp/yt-dlp/wiki/Extractors#exporting-youtube-cookies  for tips on effectively exporting YouTube cookies\n",
      "Error indexing Boulevard of Broken Dreams (ID 428): cannot unpack non-iterable NoneType object\n",
      "Downloading audio from https://www.youtube.com/watch?v=CnQ8N1KacJc...\n"
     ]
    },
    {
     "name": "stderr",
     "output_type": "stream",
     "text": [
      " 84%|████████▎ | 410/491 [1:26:35<01:39,  1.23s/it]ERROR: [youtube] UNq9gmY_Oz4: Sign in to confirm you’re not a bot. Use --cookies-from-browser or --cookies for the authentication. See  https://github.com/yt-dlp/yt-dlp/wiki/FAQ#how-do-i-pass-cookies-to-yt-dlp  for how to manually pass cookies. Also see  https://github.com/yt-dlp/yt-dlp/wiki/Extractors#exporting-youtube-cookies  for tips on effectively exporting YouTube cookies\n",
      " 84%|████████▎ | 411/491 [1:26:36<01:29,  1.11s/it]"
     ]
    },
    {
     "name": "stdout",
     "output_type": "stream",
     "text": [
      "[Attempt 2] Download error: ERROR: [youtube] UNq9gmY_Oz4: Sign in to confirm you’re not a bot. Use --cookies-from-browser or --cookies for the authentication. See  https://github.com/yt-dlp/yt-dlp/wiki/FAQ#how-do-i-pass-cookies-to-yt-dlp  for how to manually pass cookies. Also see  https://github.com/yt-dlp/yt-dlp/wiki/Extractors#exporting-youtube-cookies  for tips on effectively exporting YouTube cookies\n",
      "Error indexing Brain Stew (ID 429): cannot unpack non-iterable NoneType object\n",
      "Downloading audio from https://www.youtube.com/watch?v=4Sc81yxo600...\n"
     ]
    },
    {
     "name": "stderr",
     "output_type": "stream",
     "text": [
      "ERROR: [youtube] CnQ8N1KacJc: Sign in to confirm you’re not a bot. Use --cookies-from-browser or --cookies for the authentication. See  https://github.com/yt-dlp/yt-dlp/wiki/FAQ#how-do-i-pass-cookies-to-yt-dlp  for how to manually pass cookies. Also see  https://github.com/yt-dlp/yt-dlp/wiki/Extractors#exporting-youtube-cookies  for tips on effectively exporting YouTube cookies\n"
     ]
    },
    {
     "name": "stdout",
     "output_type": "stream",
     "text": [
      "[Attempt 1] Download error: ERROR: [youtube] CnQ8N1KacJc: Sign in to confirm you’re not a bot. Use --cookies-from-browser or --cookies for the authentication. See  https://github.com/yt-dlp/yt-dlp/wiki/FAQ#how-do-i-pass-cookies-to-yt-dlp  for how to manually pass cookies. Also see  https://github.com/yt-dlp/yt-dlp/wiki/Extractors#exporting-youtube-cookies  for tips on effectively exporting YouTube cookies\n"
     ]
    },
    {
     "name": "stderr",
     "output_type": "stream",
     "text": [
      "ERROR: [youtube] 4Sc81yxo600: Sign in to confirm you’re not a bot. Use --cookies-from-browser or --cookies for the authentication. See  https://github.com/yt-dlp/yt-dlp/wiki/FAQ#how-do-i-pass-cookies-to-yt-dlp  for how to manually pass cookies. Also see  https://github.com/yt-dlp/yt-dlp/wiki/Extractors#exporting-youtube-cookies  for tips on effectively exporting YouTube cookies\n"
     ]
    },
    {
     "name": "stdout",
     "output_type": "stream",
     "text": [
      "[Attempt 1] Download error: ERROR: [youtube] 4Sc81yxo600: Sign in to confirm you’re not a bot. Use --cookies-from-browser or --cookies for the authentication. See  https://github.com/yt-dlp/yt-dlp/wiki/FAQ#how-do-i-pass-cookies-to-yt-dlp  for how to manually pass cookies. Also see  https://github.com/yt-dlp/yt-dlp/wiki/Extractors#exporting-youtube-cookies  for tips on effectively exporting YouTube cookies\n"
     ]
    },
    {
     "name": "stderr",
     "output_type": "stream",
     "text": [
      "ERROR: [youtube] CnQ8N1KacJc: Sign in to confirm you’re not a bot. Use --cookies-from-browser or --cookies for the authentication. See  https://github.com/yt-dlp/yt-dlp/wiki/FAQ#how-do-i-pass-cookies-to-yt-dlp  for how to manually pass cookies. Also see  https://github.com/yt-dlp/yt-dlp/wiki/Extractors#exporting-youtube-cookies  for tips on effectively exporting YouTube cookies\n",
      " 84%|████████▍ | 412/491 [1:26:38<01:35,  1.21s/it]"
     ]
    },
    {
     "name": "stdout",
     "output_type": "stream",
     "text": [
      "[Attempt 2] Download error: ERROR: [youtube] CnQ8N1KacJc: Sign in to confirm you’re not a bot. Use --cookies-from-browser or --cookies for the authentication. See  https://github.com/yt-dlp/yt-dlp/wiki/FAQ#how-do-i-pass-cookies-to-yt-dlp  for how to manually pass cookies. Also see  https://github.com/yt-dlp/yt-dlp/wiki/Extractors#exporting-youtube-cookies  for tips on effectively exporting YouTube cookies\n",
      "Error indexing Good Riddance (Time of Your Life) (ID 430): cannot unpack non-iterable NoneType object\n",
      "Downloading audio from https://www.youtube.com/watch?v=Ajxn0PKbv7I...\n"
     ]
    },
    {
     "name": "stderr",
     "output_type": "stream",
     "text": [
      "ERROR: [youtube] 4Sc81yxo600: Sign in to confirm you’re not a bot. Use --cookies-from-browser or --cookies for the authentication. See  https://github.com/yt-dlp/yt-dlp/wiki/FAQ#how-do-i-pass-cookies-to-yt-dlp  for how to manually pass cookies. Also see  https://github.com/yt-dlp/yt-dlp/wiki/Extractors#exporting-youtube-cookies  for tips on effectively exporting YouTube cookies\n",
      " 84%|████████▍ | 413/491 [1:26:38<01:21,  1.04s/it]"
     ]
    },
    {
     "name": "stdout",
     "output_type": "stream",
     "text": [
      "[Attempt 2] Download error: ERROR: [youtube] 4Sc81yxo600: Sign in to confirm you’re not a bot. Use --cookies-from-browser or --cookies for the authentication. See  https://github.com/yt-dlp/yt-dlp/wiki/FAQ#how-do-i-pass-cookies-to-yt-dlp  for how to manually pass cookies. Also see  https://github.com/yt-dlp/yt-dlp/wiki/Extractors#exporting-youtube-cookies  for tips on effectively exporting YouTube cookies\n",
      "Error indexing Hitchin' a Ride (ID 431): cannot unpack non-iterable NoneType object\n",
      "Downloading audio from https://www.youtube.com/watch?v=9IclmVdWNbI...\n"
     ]
    },
    {
     "name": "stderr",
     "output_type": "stream",
     "text": [
      "ERROR: [youtube] Ajxn0PKbv7I: Sign in to confirm you’re not a bot. Use --cookies-from-browser or --cookies for the authentication. See  https://github.com/yt-dlp/yt-dlp/wiki/FAQ#how-do-i-pass-cookies-to-yt-dlp  for how to manually pass cookies. Also see  https://github.com/yt-dlp/yt-dlp/wiki/Extractors#exporting-youtube-cookies  for tips on effectively exporting YouTube cookies\n"
     ]
    },
    {
     "name": "stdout",
     "output_type": "stream",
     "text": [
      "[Attempt 1] Download error: ERROR: [youtube] Ajxn0PKbv7I: Sign in to confirm you’re not a bot. Use --cookies-from-browser or --cookies for the authentication. See  https://github.com/yt-dlp/yt-dlp/wiki/FAQ#how-do-i-pass-cookies-to-yt-dlp  for how to manually pass cookies. Also see  https://github.com/yt-dlp/yt-dlp/wiki/Extractors#exporting-youtube-cookies  for tips on effectively exporting YouTube cookies\n"
     ]
    },
    {
     "name": "stderr",
     "output_type": "stream",
     "text": [
      "ERROR: [youtube] 9IclmVdWNbI: Sign in to confirm you’re not a bot. Use --cookies-from-browser or --cookies for the authentication. See  https://github.com/yt-dlp/yt-dlp/wiki/FAQ#how-do-i-pass-cookies-to-yt-dlp  for how to manually pass cookies. Also see  https://github.com/yt-dlp/yt-dlp/wiki/Extractors#exporting-youtube-cookies  for tips on effectively exporting YouTube cookies\n"
     ]
    },
    {
     "name": "stdout",
     "output_type": "stream",
     "text": [
      "[Attempt 1] Download error: ERROR: [youtube] 9IclmVdWNbI: Sign in to confirm you’re not a bot. Use --cookies-from-browser or --cookies for the authentication. See  https://github.com/yt-dlp/yt-dlp/wiki/FAQ#how-do-i-pass-cookies-to-yt-dlp  for how to manually pass cookies. Also see  https://github.com/yt-dlp/yt-dlp/wiki/Extractors#exporting-youtube-cookies  for tips on effectively exporting YouTube cookies\n"
     ]
    },
    {
     "name": "stderr",
     "output_type": "stream",
     "text": [
      "ERROR: [youtube] Ajxn0PKbv7I: Sign in to confirm you’re not a bot. Use --cookies-from-browser or --cookies for the authentication. See  https://github.com/yt-dlp/yt-dlp/wiki/FAQ#how-do-i-pass-cookies-to-yt-dlp  for how to manually pass cookies. Also see  https://github.com/yt-dlp/yt-dlp/wiki/Extractors#exporting-youtube-cookies  for tips on effectively exporting YouTube cookies\n",
      " 84%|████████▍ | 414/491 [1:26:40<01:28,  1.15s/it]"
     ]
    },
    {
     "name": "stdout",
     "output_type": "stream",
     "text": [
      "[Attempt 2] Download error: ERROR: [youtube] Ajxn0PKbv7I: Sign in to confirm you’re not a bot. Use --cookies-from-browser or --cookies for the authentication. See  https://github.com/yt-dlp/yt-dlp/wiki/FAQ#how-do-i-pass-cookies-to-yt-dlp  for how to manually pass cookies. Also see  https://github.com/yt-dlp/yt-dlp/wiki/Extractors#exporting-youtube-cookies  for tips on effectively exporting YouTube cookies\n",
      "Error indexing Holiday (ID 432): cannot unpack non-iterable NoneType object\n",
      "Downloading audio from https://www.youtube.com/watch?v=42BBdzzgPNM...\n"
     ]
    },
    {
     "name": "stderr",
     "output_type": "stream",
     "text": [
      "ERROR: [youtube] 9IclmVdWNbI: Sign in to confirm you’re not a bot. Use --cookies-from-browser or --cookies for the authentication. See  https://github.com/yt-dlp/yt-dlp/wiki/FAQ#how-do-i-pass-cookies-to-yt-dlp  for how to manually pass cookies. Also see  https://github.com/yt-dlp/yt-dlp/wiki/Extractors#exporting-youtube-cookies  for tips on effectively exporting YouTube cookies\n",
      " 85%|████████▍ | 415/491 [1:26:41<01:20,  1.06s/it]"
     ]
    },
    {
     "name": "stdout",
     "output_type": "stream",
     "text": [
      "[Attempt 2] Download error: ERROR: [youtube] 9IclmVdWNbI: Sign in to confirm you’re not a bot. Use --cookies-from-browser or --cookies for the authentication. See  https://github.com/yt-dlp/yt-dlp/wiki/FAQ#how-do-i-pass-cookies-to-yt-dlp  for how to manually pass cookies. Also see  https://github.com/yt-dlp/yt-dlp/wiki/Extractors#exporting-youtube-cookies  for tips on effectively exporting YouTube cookies\n",
      "Error indexing Know Your Enemy (ID 433): cannot unpack non-iterable NoneType object\n",
      "Downloading audio from https://www.youtube.com/watch?v=cDBlqu6KF4k...\n"
     ]
    },
    {
     "name": "stderr",
     "output_type": "stream",
     "text": [
      "ERROR: [youtube] 42BBdzzgPNM: Sign in to confirm you’re not a bot. Use --cookies-from-browser or --cookies for the authentication. See  https://github.com/yt-dlp/yt-dlp/wiki/FAQ#how-do-i-pass-cookies-to-yt-dlp  for how to manually pass cookies. Also see  https://github.com/yt-dlp/yt-dlp/wiki/Extractors#exporting-youtube-cookies  for tips on effectively exporting YouTube cookies\n"
     ]
    },
    {
     "name": "stdout",
     "output_type": "stream",
     "text": [
      "[Attempt 1] Download error: ERROR: [youtube] 42BBdzzgPNM: Sign in to confirm you’re not a bot. Use --cookies-from-browser or --cookies for the authentication. See  https://github.com/yt-dlp/yt-dlp/wiki/FAQ#how-do-i-pass-cookies-to-yt-dlp  for how to manually pass cookies. Also see  https://github.com/yt-dlp/yt-dlp/wiki/Extractors#exporting-youtube-cookies  for tips on effectively exporting YouTube cookies\n"
     ]
    },
    {
     "name": "stderr",
     "output_type": "stream",
     "text": [
      "ERROR: [youtube] cDBlqu6KF4k: Sign in to confirm you’re not a bot. Use --cookies-from-browser or --cookies for the authentication. See  https://github.com/yt-dlp/yt-dlp/wiki/FAQ#how-do-i-pass-cookies-to-yt-dlp  for how to manually pass cookies. Also see  https://github.com/yt-dlp/yt-dlp/wiki/Extractors#exporting-youtube-cookies  for tips on effectively exporting YouTube cookies\n",
      "ERROR: [youtube] 42BBdzzgPNM: Sign in to confirm you’re not a bot. Use --cookies-from-browser or --cookies for the authentication. See  https://github.com/yt-dlp/yt-dlp/wiki/FAQ#how-do-i-pass-cookies-to-yt-dlp  for how to manually pass cookies. Also see  https://github.com/yt-dlp/yt-dlp/wiki/Extractors#exporting-youtube-cookies  for tips on effectively exporting YouTube cookies\n",
      " 85%|████████▍ | 416/491 [1:26:42<01:28,  1.17s/it]"
     ]
    },
    {
     "name": "stdout",
     "output_type": "stream",
     "text": [
      "[Attempt 1] Download error: ERROR: [youtube] cDBlqu6KF4k: Sign in to confirm you’re not a bot. Use --cookies-from-browser or --cookies for the authentication. See  https://github.com/yt-dlp/yt-dlp/wiki/FAQ#how-do-i-pass-cookies-to-yt-dlp  for how to manually pass cookies. Also see  https://github.com/yt-dlp/yt-dlp/wiki/Extractors#exporting-youtube-cookies  for tips on effectively exporting YouTube cookies\n",
      "[Attempt 2] Download error: ERROR: [youtube] 42BBdzzgPNM: Sign in to confirm you’re not a bot. Use --cookies-from-browser or --cookies for the authentication. See  https://github.com/yt-dlp/yt-dlp/wiki/FAQ#how-do-i-pass-cookies-to-yt-dlp  for how to manually pass cookies. Also see  https://github.com/yt-dlp/yt-dlp/wiki/Extractors#exporting-youtube-cookies  for tips on effectively exporting YouTube cookies\n",
      "Error indexing Longview (ID 434): cannot unpack non-iterable NoneType object\n",
      "Downloading audio from https://www.youtube.com/watch?v=5Rs2m3lhg-k...\n"
     ]
    },
    {
     "name": "stderr",
     "output_type": "stream",
     "text": [
      "ERROR: [youtube] 5Rs2m3lhg-k: Sign in to confirm you’re not a bot. Use --cookies-from-browser or --cookies for the authentication. See  https://github.com/yt-dlp/yt-dlp/wiki/FAQ#how-do-i-pass-cookies-to-yt-dlp  for how to manually pass cookies. Also see  https://github.com/yt-dlp/yt-dlp/wiki/Extractors#exporting-youtube-cookies  for tips on effectively exporting YouTube cookies\n",
      "ERROR: [youtube] cDBlqu6KF4k: Sign in to confirm you’re not a bot. Use --cookies-from-browser or --cookies for the authentication. See  https://github.com/yt-dlp/yt-dlp/wiki/FAQ#how-do-i-pass-cookies-to-yt-dlp  for how to manually pass cookies. Also see  https://github.com/yt-dlp/yt-dlp/wiki/Extractors#exporting-youtube-cookies  for tips on effectively exporting YouTube cookies\n",
      " 85%|████████▍ | 417/491 [1:26:43<01:25,  1.15s/it]"
     ]
    },
    {
     "name": "stdout",
     "output_type": "stream",
     "text": [
      "[Attempt 1] Download error: ERROR: [youtube] 5Rs2m3lhg-k: Sign in to confirm you’re not a bot. Use --cookies-from-browser or --cookies for the authentication. See  https://github.com/yt-dlp/yt-dlp/wiki/FAQ#how-do-i-pass-cookies-to-yt-dlp  for how to manually pass cookies. Also see  https://github.com/yt-dlp/yt-dlp/wiki/Extractors#exporting-youtube-cookies  for tips on effectively exporting YouTube cookies\n",
      "[Attempt 2] Download error: ERROR: [youtube] cDBlqu6KF4k: Sign in to confirm you’re not a bot. Use --cookies-from-browser or --cookies for the authentication. See  https://github.com/yt-dlp/yt-dlp/wiki/FAQ#how-do-i-pass-cookies-to-yt-dlp  for how to manually pass cookies. Also see  https://github.com/yt-dlp/yt-dlp/wiki/Extractors#exporting-youtube-cookies  for tips on effectively exporting YouTube cookies\n",
      "Error indexing Minority (ID 435): cannot unpack non-iterable NoneType object\n",
      "Downloading audio from https://www.youtube.com/watch?v=NU9JoFKlaZ0...\n"
     ]
    },
    {
     "name": "stderr",
     "output_type": "stream",
     "text": [
      "ERROR: [youtube] NU9JoFKlaZ0: Sign in to confirm you’re not a bot. Use --cookies-from-browser or --cookies for the authentication. See  https://github.com/yt-dlp/yt-dlp/wiki/FAQ#how-do-i-pass-cookies-to-yt-dlp  for how to manually pass cookies. Also see  https://github.com/yt-dlp/yt-dlp/wiki/Extractors#exporting-youtube-cookies  for tips on effectively exporting YouTube cookies\n",
      "ERROR: [youtube] 5Rs2m3lhg-k: Sign in to confirm you’re not a bot. Use --cookies-from-browser or --cookies for the authentication. See  https://github.com/yt-dlp/yt-dlp/wiki/FAQ#how-do-i-pass-cookies-to-yt-dlp  for how to manually pass cookies. Also see  https://github.com/yt-dlp/yt-dlp/wiki/Extractors#exporting-youtube-cookies  for tips on effectively exporting YouTube cookies\n"
     ]
    },
    {
     "name": "stdout",
     "output_type": "stream",
     "text": [
      "[Attempt 1] Download error: ERROR: [youtube] NU9JoFKlaZ0: Sign in to confirm you’re not a bot. Use --cookies-from-browser or --cookies for the authentication. See  https://github.com/yt-dlp/yt-dlp/wiki/FAQ#how-do-i-pass-cookies-to-yt-dlp  for how to manually pass cookies. Also see  https://github.com/yt-dlp/yt-dlp/wiki/Extractors#exporting-youtube-cookies  for tips on effectively exporting YouTube cookies\n",
      "[Attempt 2] Download error: ERROR: [youtube] 5Rs2m3lhg-k: Sign in to confirm you’re not a bot. Use --cookies-from-browser or --cookies for the authentication. See  https://github.com/yt-dlp/yt-dlp/wiki/FAQ#how-do-i-pass-cookies-to-yt-dlp  for how to manually pass cookies. Also see  https://github.com/yt-dlp/yt-dlp/wiki/Extractors#exporting-youtube-cookies  for tips on effectively exporting YouTube cookies\n",
      "Error indexing The Forgotten (ID 436): cannot unpack non-iterable NoneType object\n",
      "Downloading audio from https://www.youtube.com/watch?v=eebfMFzJHNs...\n"
     ]
    },
    {
     "name": "stderr",
     "output_type": "stream",
     "text": [
      " 85%|████████▌ | 418/491 [1:26:44<01:26,  1.18s/it]ERROR: [youtube] NU9JoFKlaZ0: Sign in to confirm you’re not a bot. Use --cookies-from-browser or --cookies for the authentication. See  https://github.com/yt-dlp/yt-dlp/wiki/FAQ#how-do-i-pass-cookies-to-yt-dlp  for how to manually pass cookies. Also see  https://github.com/yt-dlp/yt-dlp/wiki/Extractors#exporting-youtube-cookies  for tips on effectively exporting YouTube cookies\n",
      " 85%|████████▌ | 419/491 [1:26:45<01:18,  1.09s/it]"
     ]
    },
    {
     "name": "stdout",
     "output_type": "stream",
     "text": [
      "[Attempt 2] Download error: ERROR: [youtube] NU9JoFKlaZ0: Sign in to confirm you’re not a bot. Use --cookies-from-browser or --cookies for the authentication. See  https://github.com/yt-dlp/yt-dlp/wiki/FAQ#how-do-i-pass-cookies-to-yt-dlp  for how to manually pass cookies. Also see  https://github.com/yt-dlp/yt-dlp/wiki/Extractors#exporting-youtube-cookies  for tips on effectively exporting YouTube cookies\n",
      "Error indexing Wake Me up When September Ends (ID 437): cannot unpack non-iterable NoneType object\n",
      "Downloading audio from https://www.youtube.com/watch?v=1o-wiosXJB8...\n"
     ]
    },
    {
     "name": "stderr",
     "output_type": "stream",
     "text": [
      "ERROR: [youtube] eebfMFzJHNs: Sign in to confirm you’re not a bot. Use --cookies-from-browser or --cookies for the authentication. See  https://github.com/yt-dlp/yt-dlp/wiki/FAQ#how-do-i-pass-cookies-to-yt-dlp  for how to manually pass cookies. Also see  https://github.com/yt-dlp/yt-dlp/wiki/Extractors#exporting-youtube-cookies  for tips on effectively exporting YouTube cookies\n"
     ]
    },
    {
     "name": "stdout",
     "output_type": "stream",
     "text": [
      "[Attempt 1] Download error: ERROR: [youtube] eebfMFzJHNs: Sign in to confirm you’re not a bot. Use --cookies-from-browser or --cookies for the authentication. See  https://github.com/yt-dlp/yt-dlp/wiki/FAQ#how-do-i-pass-cookies-to-yt-dlp  for how to manually pass cookies. Also see  https://github.com/yt-dlp/yt-dlp/wiki/Extractors#exporting-youtube-cookies  for tips on effectively exporting YouTube cookies\n"
     ]
    },
    {
     "name": "stderr",
     "output_type": "stream",
     "text": [
      "ERROR: [youtube] 1o-wiosXJB8: Sign in to confirm you’re not a bot. Use --cookies-from-browser or --cookies for the authentication. See  https://github.com/yt-dlp/yt-dlp/wiki/FAQ#how-do-i-pass-cookies-to-yt-dlp  for how to manually pass cookies. Also see  https://github.com/yt-dlp/yt-dlp/wiki/Extractors#exporting-youtube-cookies  for tips on effectively exporting YouTube cookies\n"
     ]
    },
    {
     "name": "stdout",
     "output_type": "stream",
     "text": [
      "[Attempt 1] Download error: ERROR: [youtube] 1o-wiosXJB8: Sign in to confirm you’re not a bot. Use --cookies-from-browser or --cookies for the authentication. See  https://github.com/yt-dlp/yt-dlp/wiki/FAQ#how-do-i-pass-cookies-to-yt-dlp  for how to manually pass cookies. Also see  https://github.com/yt-dlp/yt-dlp/wiki/Extractors#exporting-youtube-cookies  for tips on effectively exporting YouTube cookies\n"
     ]
    },
    {
     "name": "stderr",
     "output_type": "stream",
     "text": [
      "ERROR: [youtube] eebfMFzJHNs: Sign in to confirm you’re not a bot. Use --cookies-from-browser or --cookies for the authentication. See  https://github.com/yt-dlp/yt-dlp/wiki/FAQ#how-do-i-pass-cookies-to-yt-dlp  for how to manually pass cookies. Also see  https://github.com/yt-dlp/yt-dlp/wiki/Extractors#exporting-youtube-cookies  for tips on effectively exporting YouTube cookies\n",
      " 86%|████████▌ | 420/491 [1:26:47<01:23,  1.18s/it]"
     ]
    },
    {
     "name": "stdout",
     "output_type": "stream",
     "text": [
      "[Attempt 2] Download error: ERROR: [youtube] eebfMFzJHNs: Sign in to confirm you’re not a bot. Use --cookies-from-browser or --cookies for the authentication. See  https://github.com/yt-dlp/yt-dlp/wiki/FAQ#how-do-i-pass-cookies-to-yt-dlp  for how to manually pass cookies. Also see  https://github.com/yt-dlp/yt-dlp/wiki/Extractors#exporting-youtube-cookies  for tips on effectively exporting YouTube cookies\n",
      "Error indexing Warning (ID 438): cannot unpack non-iterable NoneType object\n",
      "Downloading audio from https://www.youtube.com/watch?v=i8dh9gDzmz8...\n"
     ]
    },
    {
     "name": "stderr",
     "output_type": "stream",
     "text": [
      "ERROR: [youtube] 1o-wiosXJB8: Sign in to confirm you’re not a bot. Use --cookies-from-browser or --cookies for the authentication. See  https://github.com/yt-dlp/yt-dlp/wiki/FAQ#how-do-i-pass-cookies-to-yt-dlp  for how to manually pass cookies. Also see  https://github.com/yt-dlp/yt-dlp/wiki/Extractors#exporting-youtube-cookies  for tips on effectively exporting YouTube cookies\n",
      " 86%|████████▌ | 421/491 [1:26:47<01:17,  1.10s/it]ERROR: [youtube] i8dh9gDzmz8: Sign in to confirm you’re not a bot. Use --cookies-from-browser or --cookies for the authentication. See  https://github.com/yt-dlp/yt-dlp/wiki/FAQ#how-do-i-pass-cookies-to-yt-dlp  for how to manually pass cookies. Also see  https://github.com/yt-dlp/yt-dlp/wiki/Extractors#exporting-youtube-cookies  for tips on effectively exporting YouTube cookies\n"
     ]
    },
    {
     "name": "stdout",
     "output_type": "stream",
     "text": [
      "[Attempt 2] Download error: ERROR: [youtube] 1o-wiosXJB8: Sign in to confirm you’re not a bot. Use --cookies-from-browser or --cookies for the authentication. See  https://github.com/yt-dlp/yt-dlp/wiki/FAQ#how-do-i-pass-cookies-to-yt-dlp  for how to manually pass cookies. Also see  https://github.com/yt-dlp/yt-dlp/wiki/Extractors#exporting-youtube-cookies  for tips on effectively exporting YouTube cookies\n",
      "Error indexing Welcome to Paradise (ID 439): cannot unpack non-iterable NoneType object\n",
      "Downloading audio from https://www.youtube.com/watch?v=xdYFuCp3m9k...\n",
      "[Attempt 1] Download error: ERROR: [youtube] i8dh9gDzmz8: Sign in to confirm you’re not a bot. Use --cookies-from-browser or --cookies for the authentication. See  https://github.com/yt-dlp/yt-dlp/wiki/FAQ#how-do-i-pass-cookies-to-yt-dlp  for how to manually pass cookies. Also see  https://github.com/yt-dlp/yt-dlp/wiki/Extractors#exporting-youtube-cookies  for tips on effectively exporting YouTube cookies\n"
     ]
    },
    {
     "name": "stderr",
     "output_type": "stream",
     "text": [
      "ERROR: [youtube] xdYFuCp3m9k: Sign in to confirm you’re not a bot. Use --cookies-from-browser or --cookies for the authentication. See  https://github.com/yt-dlp/yt-dlp/wiki/FAQ#how-do-i-pass-cookies-to-yt-dlp  for how to manually pass cookies. Also see  https://github.com/yt-dlp/yt-dlp/wiki/Extractors#exporting-youtube-cookies  for tips on effectively exporting YouTube cookies\n",
      "ERROR: [youtube] i8dh9gDzmz8: Sign in to confirm you’re not a bot. Use --cookies-from-browser or --cookies for the authentication. See  https://github.com/yt-dlp/yt-dlp/wiki/FAQ#how-do-i-pass-cookies-to-yt-dlp  for how to manually pass cookies. Also see  https://github.com/yt-dlp/yt-dlp/wiki/Extractors#exporting-youtube-cookies  for tips on effectively exporting YouTube cookies\n",
      " 86%|████████▌ | 422/491 [1:26:49<01:32,  1.34s/it]"
     ]
    },
    {
     "name": "stdout",
     "output_type": "stream",
     "text": [
      "[Attempt 1] Download error: ERROR: [youtube] xdYFuCp3m9k: Sign in to confirm you’re not a bot. Use --cookies-from-browser or --cookies for the authentication. See  https://github.com/yt-dlp/yt-dlp/wiki/FAQ#how-do-i-pass-cookies-to-yt-dlp  for how to manually pass cookies. Also see  https://github.com/yt-dlp/yt-dlp/wiki/Extractors#exporting-youtube-cookies  for tips on effectively exporting YouTube cookies\n",
      "[Attempt 2] Download error: ERROR: [youtube] i8dh9gDzmz8: Sign in to confirm you’re not a bot. Use --cookies-from-browser or --cookies for the authentication. See  https://github.com/yt-dlp/yt-dlp/wiki/FAQ#how-do-i-pass-cookies-to-yt-dlp  for how to manually pass cookies. Also see  https://github.com/yt-dlp/yt-dlp/wiki/Extractors#exporting-youtube-cookies  for tips on effectively exporting YouTube cookies\n",
      "Error indexing When I Come Around (ID 440): cannot unpack non-iterable NoneType object\n",
      "Downloading audio from https://www.youtube.com/watch?v=rPgaYeq9NvI...\n"
     ]
    },
    {
     "name": "stderr",
     "output_type": "stream",
     "text": [
      "ERROR: [youtube] xdYFuCp3m9k: Sign in to confirm you’re not a bot. Use --cookies-from-browser or --cookies for the authentication. See  https://github.com/yt-dlp/yt-dlp/wiki/FAQ#how-do-i-pass-cookies-to-yt-dlp  for how to manually pass cookies. Also see  https://github.com/yt-dlp/yt-dlp/wiki/Extractors#exporting-youtube-cookies  for tips on effectively exporting YouTube cookies\n",
      " 86%|████████▌ | 423/491 [1:26:50<01:25,  1.25s/it]ERROR: [youtube] rPgaYeq9NvI: Sign in to confirm you’re not a bot. Use --cookies-from-browser or --cookies for the authentication. See  https://github.com/yt-dlp/yt-dlp/wiki/FAQ#how-do-i-pass-cookies-to-yt-dlp  for how to manually pass cookies. Also see  https://github.com/yt-dlp/yt-dlp/wiki/Extractors#exporting-youtube-cookies  for tips on effectively exporting YouTube cookies\n"
     ]
    },
    {
     "name": "stdout",
     "output_type": "stream",
     "text": [
      "[Attempt 2] Download error: ERROR: [youtube] xdYFuCp3m9k: Sign in to confirm you’re not a bot. Use --cookies-from-browser or --cookies for the authentication. See  https://github.com/yt-dlp/yt-dlp/wiki/FAQ#how-do-i-pass-cookies-to-yt-dlp  for how to manually pass cookies. Also see  https://github.com/yt-dlp/yt-dlp/wiki/Extractors#exporting-youtube-cookies  for tips on effectively exporting YouTube cookies\n",
      "Error indexing Bad At Love (ID 441): cannot unpack non-iterable NoneType object\n",
      "Downloading audio from https://www.youtube.com/watch?v=b-eYbUVZedY...\n",
      "[Attempt 1] Download error: ERROR: [youtube] rPgaYeq9NvI: Sign in to confirm you’re not a bot. Use --cookies-from-browser or --cookies for the authentication. See  https://github.com/yt-dlp/yt-dlp/wiki/FAQ#how-do-i-pass-cookies-to-yt-dlp  for how to manually pass cookies. Also see  https://github.com/yt-dlp/yt-dlp/wiki/Extractors#exporting-youtube-cookies  for tips on effectively exporting YouTube cookies\n"
     ]
    },
    {
     "name": "stderr",
     "output_type": "stream",
     "text": [
      "ERROR: [youtube] b-eYbUVZedY: Sign in to confirm you’re not a bot. Use --cookies-from-browser or --cookies for the authentication. See  https://github.com/yt-dlp/yt-dlp/wiki/FAQ#how-do-i-pass-cookies-to-yt-dlp  for how to manually pass cookies. Also see  https://github.com/yt-dlp/yt-dlp/wiki/Extractors#exporting-youtube-cookies  for tips on effectively exporting YouTube cookies\n",
      "ERROR: [youtube] rPgaYeq9NvI: Sign in to confirm you’re not a bot. Use --cookies-from-browser or --cookies for the authentication. See  https://github.com/yt-dlp/yt-dlp/wiki/FAQ#how-do-i-pass-cookies-to-yt-dlp  for how to manually pass cookies. Also see  https://github.com/yt-dlp/yt-dlp/wiki/Extractors#exporting-youtube-cookies  for tips on effectively exporting YouTube cookies\n",
      " 86%|████████▋ | 424/491 [1:26:52<01:25,  1.27s/it]"
     ]
    },
    {
     "name": "stdout",
     "output_type": "stream",
     "text": [
      "[Attempt 1] Download error: ERROR: [youtube] b-eYbUVZedY: Sign in to confirm you’re not a bot. Use --cookies-from-browser or --cookies for the authentication. See  https://github.com/yt-dlp/yt-dlp/wiki/FAQ#how-do-i-pass-cookies-to-yt-dlp  for how to manually pass cookies. Also see  https://github.com/yt-dlp/yt-dlp/wiki/Extractors#exporting-youtube-cookies  for tips on effectively exporting YouTube cookies\n",
      "[Attempt 2] Download error: ERROR: [youtube] rPgaYeq9NvI: Sign in to confirm you’re not a bot. Use --cookies-from-browser or --cookies for the authentication. See  https://github.com/yt-dlp/yt-dlp/wiki/FAQ#how-do-i-pass-cookies-to-yt-dlp  for how to manually pass cookies. Also see  https://github.com/yt-dlp/yt-dlp/wiki/Extractors#exporting-youtube-cookies  for tips on effectively exporting YouTube cookies\n",
      "Error indexing Graveyard (ID 442): cannot unpack non-iterable NoneType object\n",
      "Downloading audio from https://www.youtube.com/watch?v=Q9jNSwmEQ3s...\n"
     ]
    },
    {
     "name": "stderr",
     "output_type": "stream",
     "text": [
      "ERROR: [youtube] b-eYbUVZedY: Sign in to confirm you’re not a bot. Use --cookies-from-browser or --cookies for the authentication. See  https://github.com/yt-dlp/yt-dlp/wiki/FAQ#how-do-i-pass-cookies-to-yt-dlp  for how to manually pass cookies. Also see  https://github.com/yt-dlp/yt-dlp/wiki/Extractors#exporting-youtube-cookies  for tips on effectively exporting YouTube cookies\n",
      " 87%|████████▋ | 425/491 [1:26:53<01:16,  1.15s/it]"
     ]
    },
    {
     "name": "stdout",
     "output_type": "stream",
     "text": [
      "[Attempt 2] Download error: ERROR: [youtube] b-eYbUVZedY: Sign in to confirm you’re not a bot. Use --cookies-from-browser or --cookies for the authentication. See  https://github.com/yt-dlp/yt-dlp/wiki/FAQ#how-do-i-pass-cookies-to-yt-dlp  for how to manually pass cookies. Also see  https://github.com/yt-dlp/yt-dlp/wiki/Extractors#exporting-youtube-cookies  for tips on effectively exporting YouTube cookies\n",
      "Error indexing New Americana (ID 443): cannot unpack non-iterable NoneType object\n",
      "Downloading audio from https://www.youtube.com/watch?v=ZAfAud_M_mg...\n"
     ]
    },
    {
     "name": "stderr",
     "output_type": "stream",
     "text": [
      "ERROR: [youtube] Q9jNSwmEQ3s: Sign in to confirm you’re not a bot. Use --cookies-from-browser or --cookies for the authentication. See  https://github.com/yt-dlp/yt-dlp/wiki/FAQ#how-do-i-pass-cookies-to-yt-dlp  for how to manually pass cookies. Also see  https://github.com/yt-dlp/yt-dlp/wiki/Extractors#exporting-youtube-cookies  for tips on effectively exporting YouTube cookies\n"
     ]
    },
    {
     "name": "stdout",
     "output_type": "stream",
     "text": [
      "[Attempt 1] Download error: ERROR: [youtube] Q9jNSwmEQ3s: Sign in to confirm you’re not a bot. Use --cookies-from-browser or --cookies for the authentication. See  https://github.com/yt-dlp/yt-dlp/wiki/FAQ#how-do-i-pass-cookies-to-yt-dlp  for how to manually pass cookies. Also see  https://github.com/yt-dlp/yt-dlp/wiki/Extractors#exporting-youtube-cookies  for tips on effectively exporting YouTube cookies\n"
     ]
    },
    {
     "name": "stderr",
     "output_type": "stream",
     "text": [
      "ERROR: [youtube] ZAfAud_M_mg: Sign in to confirm you’re not a bot. Use --cookies-from-browser or --cookies for the authentication. See  https://github.com/yt-dlp/yt-dlp/wiki/FAQ#how-do-i-pass-cookies-to-yt-dlp  for how to manually pass cookies. Also see  https://github.com/yt-dlp/yt-dlp/wiki/Extractors#exporting-youtube-cookies  for tips on effectively exporting YouTube cookies\n",
      "ERROR: [youtube] Q9jNSwmEQ3s: Sign in to confirm you’re not a bot. Use --cookies-from-browser or --cookies for the authentication. See  https://github.com/yt-dlp/yt-dlp/wiki/FAQ#how-do-i-pass-cookies-to-yt-dlp  for how to manually pass cookies. Also see  https://github.com/yt-dlp/yt-dlp/wiki/Extractors#exporting-youtube-cookies  for tips on effectively exporting YouTube cookies\n",
      " 87%|████████▋ | 426/491 [1:26:54<01:17,  1.19s/it]"
     ]
    },
    {
     "name": "stdout",
     "output_type": "stream",
     "text": [
      "[Attempt 1] Download error: ERROR: [youtube] ZAfAud_M_mg: Sign in to confirm you’re not a bot. Use --cookies-from-browser or --cookies for the authentication. See  https://github.com/yt-dlp/yt-dlp/wiki/FAQ#how-do-i-pass-cookies-to-yt-dlp  for how to manually pass cookies. Also see  https://github.com/yt-dlp/yt-dlp/wiki/Extractors#exporting-youtube-cookies  for tips on effectively exporting YouTube cookies\n",
      "[Attempt 2] Download error: ERROR: [youtube] Q9jNSwmEQ3s: Sign in to confirm you’re not a bot. Use --cookies-from-browser or --cookies for the authentication. See  https://github.com/yt-dlp/yt-dlp/wiki/FAQ#how-do-i-pass-cookies-to-yt-dlp  for how to manually pass cookies. Also see  https://github.com/yt-dlp/yt-dlp/wiki/Extractors#exporting-youtube-cookies  for tips on effectively exporting YouTube cookies\n",
      "Error indexing Now Or Never (ID 444): cannot unpack non-iterable NoneType object\n",
      "Downloading audio from https://www.youtube.com/watch?v=8nBFqZppIF0...\n"
     ]
    },
    {
     "name": "stderr",
     "output_type": "stream",
     "text": [
      "ERROR: [youtube] 8nBFqZppIF0: Sign in to confirm you’re not a bot. Use --cookies-from-browser or --cookies for the authentication. See  https://github.com/yt-dlp/yt-dlp/wiki/FAQ#how-do-i-pass-cookies-to-yt-dlp  for how to manually pass cookies. Also see  https://github.com/yt-dlp/yt-dlp/wiki/Extractors#exporting-youtube-cookies  for tips on effectively exporting YouTube cookies\n",
      "ERROR: [youtube] ZAfAud_M_mg: Sign in to confirm you’re not a bot. Use --cookies-from-browser or --cookies for the authentication. See  https://github.com/yt-dlp/yt-dlp/wiki/FAQ#how-do-i-pass-cookies-to-yt-dlp  for how to manually pass cookies. Also see  https://github.com/yt-dlp/yt-dlp/wiki/Extractors#exporting-youtube-cookies  for tips on effectively exporting YouTube cookies\n",
      " 87%|████████▋ | 427/491 [1:26:55<01:13,  1.14s/it]"
     ]
    },
    {
     "name": "stdout",
     "output_type": "stream",
     "text": [
      "[Attempt 1] Download error: ERROR: [youtube] 8nBFqZppIF0: Sign in to confirm you’re not a bot. Use --cookies-from-browser or --cookies for the authentication. See  https://github.com/yt-dlp/yt-dlp/wiki/FAQ#how-do-i-pass-cookies-to-yt-dlp  for how to manually pass cookies. Also see  https://github.com/yt-dlp/yt-dlp/wiki/Extractors#exporting-youtube-cookies  for tips on effectively exporting YouTube cookies\n",
      "[Attempt 2] Download error: ERROR: [youtube] ZAfAud_M_mg: Sign in to confirm you’re not a bot. Use --cookies-from-browser or --cookies for the authentication. See  https://github.com/yt-dlp/yt-dlp/wiki/FAQ#how-do-i-pass-cookies-to-yt-dlp  for how to manually pass cookies. Also see  https://github.com/yt-dlp/yt-dlp/wiki/Extractors#exporting-youtube-cookies  for tips on effectively exporting YouTube cookies\n",
      "Error indexing Without Me (ID 445): cannot unpack non-iterable NoneType object\n",
      "Downloading audio from https://www.youtube.com/watch?v=VF-r5TtlT9w...\n"
     ]
    },
    {
     "name": "stderr",
     "output_type": "stream",
     "text": [
      "ERROR: [youtube] VF-r5TtlT9w: Sign in to confirm you’re not a bot. Use --cookies-from-browser or --cookies for the authentication. See  https://github.com/yt-dlp/yt-dlp/wiki/FAQ#how-do-i-pass-cookies-to-yt-dlp  for how to manually pass cookies. Also see  https://github.com/yt-dlp/yt-dlp/wiki/Extractors#exporting-youtube-cookies  for tips on effectively exporting YouTube cookies\n",
      "ERROR: [youtube] 8nBFqZppIF0: Sign in to confirm you’re not a bot. Use --cookies-from-browser or --cookies for the authentication. See  https://github.com/yt-dlp/yt-dlp/wiki/FAQ#how-do-i-pass-cookies-to-yt-dlp  for how to manually pass cookies. Also see  https://github.com/yt-dlp/yt-dlp/wiki/Extractors#exporting-youtube-cookies  for tips on effectively exporting YouTube cookies\n",
      " 87%|████████▋ | 428/491 [1:26:56<01:13,  1.16s/it]"
     ]
    },
    {
     "name": "stdout",
     "output_type": "stream",
     "text": [
      "[Attempt 1] Download error: ERROR: [youtube] VF-r5TtlT9w: Sign in to confirm you’re not a bot. Use --cookies-from-browser or --cookies for the authentication. See  https://github.com/yt-dlp/yt-dlp/wiki/FAQ#how-do-i-pass-cookies-to-yt-dlp  for how to manually pass cookies. Also see  https://github.com/yt-dlp/yt-dlp/wiki/Extractors#exporting-youtube-cookies  for tips on effectively exporting YouTube cookies\n",
      "[Attempt 2] Download error: ERROR: [youtube] 8nBFqZppIF0: Sign in to confirm you’re not a bot. Use --cookies-from-browser or --cookies for the authentication. See  https://github.com/yt-dlp/yt-dlp/wiki/FAQ#how-do-i-pass-cookies-to-yt-dlp  for how to manually pass cookies. Also see  https://github.com/yt-dlp/yt-dlp/wiki/Extractors#exporting-youtube-cookies  for tips on effectively exporting YouTube cookies\n",
      "Error indexing You should be sad (ID 446): cannot unpack non-iterable NoneType object\n",
      "Downloading audio from https://www.youtube.com/watch?v=H5v3kku4y6Q...\n"
     ]
    },
    {
     "name": "stderr",
     "output_type": "stream",
     "text": [
      "ERROR: [youtube] VF-r5TtlT9w: Sign in to confirm you’re not a bot. Use --cookies-from-browser or --cookies for the authentication. See  https://github.com/yt-dlp/yt-dlp/wiki/FAQ#how-do-i-pass-cookies-to-yt-dlp  for how to manually pass cookies. Also see  https://github.com/yt-dlp/yt-dlp/wiki/Extractors#exporting-youtube-cookies  for tips on effectively exporting YouTube cookies\n",
      " 87%|████████▋ | 429/491 [1:26:57<01:05,  1.06s/it]"
     ]
    },
    {
     "name": "stdout",
     "output_type": "stream",
     "text": [
      "[Attempt 2] Download error: ERROR: [youtube] VF-r5TtlT9w: Sign in to confirm you’re not a bot. Use --cookies-from-browser or --cookies for the authentication. See  https://github.com/yt-dlp/yt-dlp/wiki/FAQ#how-do-i-pass-cookies-to-yt-dlp  for how to manually pass cookies. Also see  https://github.com/yt-dlp/yt-dlp/wiki/Extractors#exporting-youtube-cookies  for tips on effectively exporting YouTube cookies\n",
      "Error indexing Adore You (ID 447): cannot unpack non-iterable NoneType object\n",
      "Downloading audio from https://www.youtube.com/watch?v=olGSAVOkkTI...\n"
     ]
    },
    {
     "name": "stderr",
     "output_type": "stream",
     "text": [
      "ERROR: [youtube] H5v3kku4y6Q: Sign in to confirm you’re not a bot. Use --cookies-from-browser or --cookies for the authentication. See  https://github.com/yt-dlp/yt-dlp/wiki/FAQ#how-do-i-pass-cookies-to-yt-dlp  for how to manually pass cookies. Also see  https://github.com/yt-dlp/yt-dlp/wiki/Extractors#exporting-youtube-cookies  for tips on effectively exporting YouTube cookies\n"
     ]
    },
    {
     "name": "stdout",
     "output_type": "stream",
     "text": [
      "[Attempt 1] Download error: ERROR: [youtube] H5v3kku4y6Q: Sign in to confirm you’re not a bot. Use --cookies-from-browser or --cookies for the authentication. See  https://github.com/yt-dlp/yt-dlp/wiki/FAQ#how-do-i-pass-cookies-to-yt-dlp  for how to manually pass cookies. Also see  https://github.com/yt-dlp/yt-dlp/wiki/Extractors#exporting-youtube-cookies  for tips on effectively exporting YouTube cookies\n"
     ]
    },
    {
     "name": "stderr",
     "output_type": "stream",
     "text": [
      "ERROR: [youtube] olGSAVOkkTI: Sign in to confirm you’re not a bot. Use --cookies-from-browser or --cookies for the authentication. See  https://github.com/yt-dlp/yt-dlp/wiki/FAQ#how-do-i-pass-cookies-to-yt-dlp  for how to manually pass cookies. Also see  https://github.com/yt-dlp/yt-dlp/wiki/Extractors#exporting-youtube-cookies  for tips on effectively exporting YouTube cookies\n"
     ]
    },
    {
     "name": "stdout",
     "output_type": "stream",
     "text": [
      "[Attempt 1] Download error: ERROR: [youtube] olGSAVOkkTI: Sign in to confirm you’re not a bot. Use --cookies-from-browser or --cookies for the authentication. See  https://github.com/yt-dlp/yt-dlp/wiki/FAQ#how-do-i-pass-cookies-to-yt-dlp  for how to manually pass cookies. Also see  https://github.com/yt-dlp/yt-dlp/wiki/Extractors#exporting-youtube-cookies  for tips on effectively exporting YouTube cookies\n"
     ]
    },
    {
     "name": "stderr",
     "output_type": "stream",
     "text": [
      "ERROR: [youtube] H5v3kku4y6Q: Sign in to confirm you’re not a bot. Use --cookies-from-browser or --cookies for the authentication. See  https://github.com/yt-dlp/yt-dlp/wiki/FAQ#how-do-i-pass-cookies-to-yt-dlp  for how to manually pass cookies. Also see  https://github.com/yt-dlp/yt-dlp/wiki/Extractors#exporting-youtube-cookies  for tips on effectively exporting YouTube cookies\n",
      " 88%|████████▊ | 430/491 [1:26:58<01:10,  1.16s/it]"
     ]
    },
    {
     "name": "stdout",
     "output_type": "stream",
     "text": [
      "[Attempt 2] Download error: ERROR: [youtube] H5v3kku4y6Q: Sign in to confirm you’re not a bot. Use --cookies-from-browser or --cookies for the authentication. See  https://github.com/yt-dlp/yt-dlp/wiki/FAQ#how-do-i-pass-cookies-to-yt-dlp  for how to manually pass cookies. Also see  https://github.com/yt-dlp/yt-dlp/wiki/Extractors#exporting-youtube-cookies  for tips on effectively exporting YouTube cookies\n",
      "Error indexing As It Was (ID 448): cannot unpack non-iterable NoneType object\n",
      "Downloading audio from https://www.youtube.com/watch?v=P3cffdsEXXw...\n"
     ]
    },
    {
     "name": "stderr",
     "output_type": "stream",
     "text": [
      "ERROR: [youtube] olGSAVOkkTI: Sign in to confirm you’re not a bot. Use --cookies-from-browser or --cookies for the authentication. See  https://github.com/yt-dlp/yt-dlp/wiki/FAQ#how-do-i-pass-cookies-to-yt-dlp  for how to manually pass cookies. Also see  https://github.com/yt-dlp/yt-dlp/wiki/Extractors#exporting-youtube-cookies  for tips on effectively exporting YouTube cookies\n",
      " 88%|████████▊ | 431/491 [1:26:59<00:59,  1.00it/s]"
     ]
    },
    {
     "name": "stdout",
     "output_type": "stream",
     "text": [
      "[Attempt 2] Download error: ERROR: [youtube] olGSAVOkkTI: Sign in to confirm you’re not a bot. Use --cookies-from-browser or --cookies for the authentication. See  https://github.com/yt-dlp/yt-dlp/wiki/FAQ#how-do-i-pass-cookies-to-yt-dlp  for how to manually pass cookies. Also see  https://github.com/yt-dlp/yt-dlp/wiki/Extractors#exporting-youtube-cookies  for tips on effectively exporting YouTube cookies\n",
      "Error indexing Falling (ID 449): cannot unpack non-iterable NoneType object\n",
      "Downloading audio from https://www.youtube.com/watch?v=9wg3v-01yKQ...\n"
     ]
    },
    {
     "name": "stderr",
     "output_type": "stream",
     "text": [
      "ERROR: [youtube] P3cffdsEXXw: Sign in to confirm you’re not a bot. Use --cookies-from-browser or --cookies for the authentication. See  https://github.com/yt-dlp/yt-dlp/wiki/FAQ#how-do-i-pass-cookies-to-yt-dlp  for how to manually pass cookies. Also see  https://github.com/yt-dlp/yt-dlp/wiki/Extractors#exporting-youtube-cookies  for tips on effectively exporting YouTube cookies\n"
     ]
    },
    {
     "name": "stdout",
     "output_type": "stream",
     "text": [
      "[Attempt 1] Download error: ERROR: [youtube] P3cffdsEXXw: Sign in to confirm you’re not a bot. Use --cookies-from-browser or --cookies for the authentication. See  https://github.com/yt-dlp/yt-dlp/wiki/FAQ#how-do-i-pass-cookies-to-yt-dlp  for how to manually pass cookies. Also see  https://github.com/yt-dlp/yt-dlp/wiki/Extractors#exporting-youtube-cookies  for tips on effectively exporting YouTube cookies\n"
     ]
    },
    {
     "name": "stderr",
     "output_type": "stream",
     "text": [
      "ERROR: [youtube] 9wg3v-01yKQ: Sign in to confirm you’re not a bot. Use --cookies-from-browser or --cookies for the authentication. See  https://github.com/yt-dlp/yt-dlp/wiki/FAQ#how-do-i-pass-cookies-to-yt-dlp  for how to manually pass cookies. Also see  https://github.com/yt-dlp/yt-dlp/wiki/Extractors#exporting-youtube-cookies  for tips on effectively exporting YouTube cookies\n"
     ]
    },
    {
     "name": "stdout",
     "output_type": "stream",
     "text": [
      "[Attempt 1] Download error: ERROR: [youtube] 9wg3v-01yKQ: Sign in to confirm you’re not a bot. Use --cookies-from-browser or --cookies for the authentication. See  https://github.com/yt-dlp/yt-dlp/wiki/FAQ#how-do-i-pass-cookies-to-yt-dlp  for how to manually pass cookies. Also see  https://github.com/yt-dlp/yt-dlp/wiki/Extractors#exporting-youtube-cookies  for tips on effectively exporting YouTube cookies\n"
     ]
    },
    {
     "name": "stderr",
     "output_type": "stream",
     "text": [
      "ERROR: [youtube] P3cffdsEXXw: Sign in to confirm you’re not a bot. Use --cookies-from-browser or --cookies for the authentication. See  https://github.com/yt-dlp/yt-dlp/wiki/FAQ#how-do-i-pass-cookies-to-yt-dlp  for how to manually pass cookies. Also see  https://github.com/yt-dlp/yt-dlp/wiki/Extractors#exporting-youtube-cookies  for tips on effectively exporting YouTube cookies\n",
      " 88%|████████▊ | 432/491 [1:27:01<01:09,  1.18s/it]"
     ]
    },
    {
     "name": "stdout",
     "output_type": "stream",
     "text": [
      "[Attempt 2] Download error: ERROR: [youtube] P3cffdsEXXw: Sign in to confirm you’re not a bot. Use --cookies-from-browser or --cookies for the authentication. See  https://github.com/yt-dlp/yt-dlp/wiki/FAQ#how-do-i-pass-cookies-to-yt-dlp  for how to manually pass cookies. Also see  https://github.com/yt-dlp/yt-dlp/wiki/Extractors#exporting-youtube-cookies  for tips on effectively exporting YouTube cookies\n",
      "Error indexing Golden (ID 450): cannot unpack non-iterable NoneType object\n",
      "Downloading audio from https://www.youtube.com/watch?v=qN4ooNx77u0...\n"
     ]
    },
    {
     "name": "stderr",
     "output_type": "stream",
     "text": [
      "ERROR: [youtube] 9wg3v-01yKQ: Sign in to confirm you’re not a bot. Use --cookies-from-browser or --cookies for the authentication. See  https://github.com/yt-dlp/yt-dlp/wiki/FAQ#how-do-i-pass-cookies-to-yt-dlp  for how to manually pass cookies. Also see  https://github.com/yt-dlp/yt-dlp/wiki/Extractors#exporting-youtube-cookies  for tips on effectively exporting YouTube cookies\n",
      " 88%|████████▊ | 433/491 [1:27:01<00:58,  1.01s/it]"
     ]
    },
    {
     "name": "stdout",
     "output_type": "stream",
     "text": [
      "[Attempt 2] Download error: ERROR: [youtube] 9wg3v-01yKQ: Sign in to confirm you’re not a bot. Use --cookies-from-browser or --cookies for the authentication. See  https://github.com/yt-dlp/yt-dlp/wiki/FAQ#how-do-i-pass-cookies-to-yt-dlp  for how to manually pass cookies. Also see  https://github.com/yt-dlp/yt-dlp/wiki/Extractors#exporting-youtube-cookies  for tips on effectively exporting YouTube cookies\n",
      "Error indexing Kiwi (ID 451): cannot unpack non-iterable NoneType object\n",
      "Downloading audio from https://www.youtube.com/watch?v=L0X03zR0rQk...\n"
     ]
    },
    {
     "name": "stderr",
     "output_type": "stream",
     "text": [
      "ERROR: [youtube] qN4ooNx77u0: Sign in to confirm you’re not a bot. Use --cookies-from-browser or --cookies for the authentication. See  https://github.com/yt-dlp/yt-dlp/wiki/FAQ#how-do-i-pass-cookies-to-yt-dlp  for how to manually pass cookies. Also see  https://github.com/yt-dlp/yt-dlp/wiki/Extractors#exporting-youtube-cookies  for tips on effectively exporting YouTube cookies\n"
     ]
    },
    {
     "name": "stdout",
     "output_type": "stream",
     "text": [
      "[Attempt 1] Download error: ERROR: [youtube] qN4ooNx77u0: Sign in to confirm you’re not a bot. Use --cookies-from-browser or --cookies for the authentication. See  https://github.com/yt-dlp/yt-dlp/wiki/FAQ#how-do-i-pass-cookies-to-yt-dlp  for how to manually pass cookies. Also see  https://github.com/yt-dlp/yt-dlp/wiki/Extractors#exporting-youtube-cookies  for tips on effectively exporting YouTube cookies\n"
     ]
    },
    {
     "name": "stderr",
     "output_type": "stream",
     "text": [
      "ERROR: [youtube] L0X03zR0rQk: Sign in to confirm you’re not a bot. Use --cookies-from-browser or --cookies for the authentication. See  https://github.com/yt-dlp/yt-dlp/wiki/FAQ#how-do-i-pass-cookies-to-yt-dlp  for how to manually pass cookies. Also see  https://github.com/yt-dlp/yt-dlp/wiki/Extractors#exporting-youtube-cookies  for tips on effectively exporting YouTube cookies\n"
     ]
    },
    {
     "name": "stdout",
     "output_type": "stream",
     "text": [
      "[Attempt 1] Download error: ERROR: [youtube] L0X03zR0rQk: Sign in to confirm you’re not a bot. Use --cookies-from-browser or --cookies for the authentication. See  https://github.com/yt-dlp/yt-dlp/wiki/FAQ#how-do-i-pass-cookies-to-yt-dlp  for how to manually pass cookies. Also see  https://github.com/yt-dlp/yt-dlp/wiki/Extractors#exporting-youtube-cookies  for tips on effectively exporting YouTube cookies\n"
     ]
    },
    {
     "name": "stderr",
     "output_type": "stream",
     "text": [
      "ERROR: [youtube] qN4ooNx77u0: Sign in to confirm you’re not a bot. Use --cookies-from-browser or --cookies for the authentication. See  https://github.com/yt-dlp/yt-dlp/wiki/FAQ#how-do-i-pass-cookies-to-yt-dlp  for how to manually pass cookies. Also see  https://github.com/yt-dlp/yt-dlp/wiki/Extractors#exporting-youtube-cookies  for tips on effectively exporting YouTube cookies\n",
      " 88%|████████▊ | 434/491 [1:27:03<01:09,  1.22s/it]"
     ]
    },
    {
     "name": "stdout",
     "output_type": "stream",
     "text": [
      "[Attempt 2] Download error: ERROR: [youtube] qN4ooNx77u0: Sign in to confirm you’re not a bot. Use --cookies-from-browser or --cookies for the authentication. See  https://github.com/yt-dlp/yt-dlp/wiki/FAQ#how-do-i-pass-cookies-to-yt-dlp  for how to manually pass cookies. Also see  https://github.com/yt-dlp/yt-dlp/wiki/Extractors#exporting-youtube-cookies  for tips on effectively exporting YouTube cookies\n",
      "Error indexing Sign of the Times (ID 452): cannot unpack non-iterable NoneType object\n",
      "Downloading audio from https://www.youtube.com/watch?v=E07s5ZYygMg...\n"
     ]
    },
    {
     "name": "stderr",
     "output_type": "stream",
     "text": [
      "ERROR: [youtube] L0X03zR0rQk: Sign in to confirm you’re not a bot. Use --cookies-from-browser or --cookies for the authentication. See  https://github.com/yt-dlp/yt-dlp/wiki/FAQ#how-do-i-pass-cookies-to-yt-dlp  for how to manually pass cookies. Also see  https://github.com/yt-dlp/yt-dlp/wiki/Extractors#exporting-youtube-cookies  for tips on effectively exporting YouTube cookies\n",
      " 89%|████████▊ | 435/491 [1:27:03<00:55,  1.01it/s]"
     ]
    },
    {
     "name": "stdout",
     "output_type": "stream",
     "text": [
      "[Attempt 2] Download error: ERROR: [youtube] L0X03zR0rQk: Sign in to confirm you’re not a bot. Use --cookies-from-browser or --cookies for the authentication. See  https://github.com/yt-dlp/yt-dlp/wiki/FAQ#how-do-i-pass-cookies-to-yt-dlp  for how to manually pass cookies. Also see  https://github.com/yt-dlp/yt-dlp/wiki/Extractors#exporting-youtube-cookies  for tips on effectively exporting YouTube cookies\n",
      "Error indexing Treat People With Kindness (ID 453): cannot unpack non-iterable NoneType object\n",
      "Downloading audio from https://www.youtube.com/watch?v=I-QfPUz1es8...\n"
     ]
    },
    {
     "name": "stderr",
     "output_type": "stream",
     "text": [
      "ERROR: [youtube] E07s5ZYygMg: Sign in to confirm you’re not a bot. Use --cookies-from-browser or --cookies for the authentication. See  https://github.com/yt-dlp/yt-dlp/wiki/FAQ#how-do-i-pass-cookies-to-yt-dlp  for how to manually pass cookies. Also see  https://github.com/yt-dlp/yt-dlp/wiki/Extractors#exporting-youtube-cookies  for tips on effectively exporting YouTube cookies\n"
     ]
    },
    {
     "name": "stdout",
     "output_type": "stream",
     "text": [
      "[Attempt 1] Download error: ERROR: [youtube] E07s5ZYygMg: Sign in to confirm you’re not a bot. Use --cookies-from-browser or --cookies for the authentication. See  https://github.com/yt-dlp/yt-dlp/wiki/FAQ#how-do-i-pass-cookies-to-yt-dlp  for how to manually pass cookies. Also see  https://github.com/yt-dlp/yt-dlp/wiki/Extractors#exporting-youtube-cookies  for tips on effectively exporting YouTube cookies\n"
     ]
    },
    {
     "name": "stderr",
     "output_type": "stream",
     "text": [
      "ERROR: [youtube] I-QfPUz1es8: Sign in to confirm you’re not a bot. Use --cookies-from-browser or --cookies for the authentication. See  https://github.com/yt-dlp/yt-dlp/wiki/FAQ#how-do-i-pass-cookies-to-yt-dlp  for how to manually pass cookies. Also see  https://github.com/yt-dlp/yt-dlp/wiki/Extractors#exporting-youtube-cookies  for tips on effectively exporting YouTube cookies\n"
     ]
    },
    {
     "name": "stdout",
     "output_type": "stream",
     "text": [
      "[Attempt 1] Download error: ERROR: [youtube] I-QfPUz1es8: Sign in to confirm you’re not a bot. Use --cookies-from-browser or --cookies for the authentication. See  https://github.com/yt-dlp/yt-dlp/wiki/FAQ#how-do-i-pass-cookies-to-yt-dlp  for how to manually pass cookies. Also see  https://github.com/yt-dlp/yt-dlp/wiki/Extractors#exporting-youtube-cookies  for tips on effectively exporting YouTube cookies\n"
     ]
    },
    {
     "name": "stderr",
     "output_type": "stream",
     "text": [
      "ERROR: [youtube] E07s5ZYygMg: Sign in to confirm you’re not a bot. Use --cookies-from-browser or --cookies for the authentication. See  https://github.com/yt-dlp/yt-dlp/wiki/FAQ#how-do-i-pass-cookies-to-yt-dlp  for how to manually pass cookies. Also see  https://github.com/yt-dlp/yt-dlp/wiki/Extractors#exporting-youtube-cookies  for tips on effectively exporting YouTube cookies\n",
      " 89%|████████▉ | 436/491 [1:27:05<01:06,  1.20s/it]"
     ]
    },
    {
     "name": "stdout",
     "output_type": "stream",
     "text": [
      "[Attempt 2] Download error: ERROR: [youtube] E07s5ZYygMg: Sign in to confirm you’re not a bot. Use --cookies-from-browser or --cookies for the authentication. See  https://github.com/yt-dlp/yt-dlp/wiki/FAQ#how-do-i-pass-cookies-to-yt-dlp  for how to manually pass cookies. Also see  https://github.com/yt-dlp/yt-dlp/wiki/Extractors#exporting-youtube-cookies  for tips on effectively exporting YouTube cookies\n",
      "Error indexing Watermelon Sugar (ID 454): cannot unpack non-iterable NoneType object\n",
      "Downloading audio from https://www.youtube.com/watch?v=7wtfhZwyrcc...\n"
     ]
    },
    {
     "name": "stderr",
     "output_type": "stream",
     "text": [
      "ERROR: [youtube] I-QfPUz1es8: Sign in to confirm you’re not a bot. Use --cookies-from-browser or --cookies for the authentication. See  https://github.com/yt-dlp/yt-dlp/wiki/FAQ#how-do-i-pass-cookies-to-yt-dlp  for how to manually pass cookies. Also see  https://github.com/yt-dlp/yt-dlp/wiki/Extractors#exporting-youtube-cookies  for tips on effectively exporting YouTube cookies\n",
      " 89%|████████▉ | 437/491 [1:27:06<00:56,  1.04s/it]"
     ]
    },
    {
     "name": "stdout",
     "output_type": "stream",
     "text": [
      "[Attempt 2] Download error: ERROR: [youtube] I-QfPUz1es8: Sign in to confirm you’re not a bot. Use --cookies-from-browser or --cookies for the authentication. See  https://github.com/yt-dlp/yt-dlp/wiki/FAQ#how-do-i-pass-cookies-to-yt-dlp  for how to manually pass cookies. Also see  https://github.com/yt-dlp/yt-dlp/wiki/Extractors#exporting-youtube-cookies  for tips on effectively exporting YouTube cookies\n",
      "Error indexing Bad Liar (ID 455): cannot unpack non-iterable NoneType object\n",
      "Downloading audio from https://www.youtube.com/watch?v=TO-_3tck2tg...\n"
     ]
    },
    {
     "name": "stderr",
     "output_type": "stream",
     "text": [
      " 89%|████████▉ | 438/491 [1:27:06<00:43,  1.23it/s]"
     ]
    },
    {
     "name": "stdout",
     "output_type": "stream",
     "text": [
      "Downloading audio from https://www.youtube.com/watch?v=mWRsgZuwf_8...\n"
     ]
    },
    {
     "name": "stderr",
     "output_type": "stream",
     "text": [
      "ERROR: [youtube] 7wtfhZwyrcc: Sign in to confirm you’re not a bot. Use --cookies-from-browser or --cookies for the authentication. See  https://github.com/yt-dlp/yt-dlp/wiki/FAQ#how-do-i-pass-cookies-to-yt-dlp  for how to manually pass cookies. Also see  https://github.com/yt-dlp/yt-dlp/wiki/Extractors#exporting-youtube-cookies  for tips on effectively exporting YouTube cookies\n"
     ]
    },
    {
     "name": "stdout",
     "output_type": "stream",
     "text": [
      "[Attempt 1] Download error: ERROR: [youtube] 7wtfhZwyrcc: Sign in to confirm you’re not a bot. Use --cookies-from-browser or --cookies for the authentication. See  https://github.com/yt-dlp/yt-dlp/wiki/FAQ#how-do-i-pass-cookies-to-yt-dlp  for how to manually pass cookies. Also see  https://github.com/yt-dlp/yt-dlp/wiki/Extractors#exporting-youtube-cookies  for tips on effectively exporting YouTube cookies\n"
     ]
    },
    {
     "name": "stderr",
     "output_type": "stream",
     "text": [
      "ERROR: [youtube] TO-_3tck2tg: Sign in to confirm you’re not a bot. Use --cookies-from-browser or --cookies for the authentication. See  https://github.com/yt-dlp/yt-dlp/wiki/FAQ#how-do-i-pass-cookies-to-yt-dlp  for how to manually pass cookies. Also see  https://github.com/yt-dlp/yt-dlp/wiki/Extractors#exporting-youtube-cookies  for tips on effectively exporting YouTube cookies\n"
     ]
    },
    {
     "name": "stdout",
     "output_type": "stream",
     "text": [
      "[Attempt 1] Download error: ERROR: [youtube] TO-_3tck2tg: Sign in to confirm you’re not a bot. Use --cookies-from-browser or --cookies for the authentication. See  https://github.com/yt-dlp/yt-dlp/wiki/FAQ#how-do-i-pass-cookies-to-yt-dlp  for how to manually pass cookies. Also see  https://github.com/yt-dlp/yt-dlp/wiki/Extractors#exporting-youtube-cookies  for tips on effectively exporting YouTube cookies\n"
     ]
    },
    {
     "name": "stderr",
     "output_type": "stream",
     "text": [
      "ERROR: [youtube] mWRsgZuwf_8: Sign in to confirm you’re not a bot. Use --cookies-from-browser or --cookies for the authentication. See  https://github.com/yt-dlp/yt-dlp/wiki/FAQ#how-do-i-pass-cookies-to-yt-dlp  for how to manually pass cookies. Also see  https://github.com/yt-dlp/yt-dlp/wiki/Extractors#exporting-youtube-cookies  for tips on effectively exporting YouTube cookies\n"
     ]
    },
    {
     "name": "stdout",
     "output_type": "stream",
     "text": [
      "[Attempt 1] Download error: ERROR: [youtube] mWRsgZuwf_8: Sign in to confirm you’re not a bot. Use --cookies-from-browser or --cookies for the authentication. See  https://github.com/yt-dlp/yt-dlp/wiki/FAQ#how-do-i-pass-cookies-to-yt-dlp  for how to manually pass cookies. Also see  https://github.com/yt-dlp/yt-dlp/wiki/Extractors#exporting-youtube-cookies  for tips on effectively exporting YouTube cookies\n"
     ]
    },
    {
     "name": "stderr",
     "output_type": "stream",
     "text": [
      "ERROR: [youtube] 7wtfhZwyrcc: Sign in to confirm you’re not a bot. Use --cookies-from-browser or --cookies for the authentication. See  https://github.com/yt-dlp/yt-dlp/wiki/FAQ#how-do-i-pass-cookies-to-yt-dlp  for how to manually pass cookies. Also see  https://github.com/yt-dlp/yt-dlp/wiki/Extractors#exporting-youtube-cookies  for tips on effectively exporting YouTube cookies\n",
      " 89%|████████▉ | 439/491 [1:27:07<00:52,  1.01s/it]"
     ]
    },
    {
     "name": "stdout",
     "output_type": "stream",
     "text": [
      "[Attempt 2] Download error: ERROR: [youtube] 7wtfhZwyrcc: Sign in to confirm you’re not a bot. Use --cookies-from-browser or --cookies for the authentication. See  https://github.com/yt-dlp/yt-dlp/wiki/FAQ#how-do-i-pass-cookies-to-yt-dlp  for how to manually pass cookies. Also see  https://github.com/yt-dlp/yt-dlp/wiki/Extractors#exporting-youtube-cookies  for tips on effectively exporting YouTube cookies\n",
      "Error indexing Believer (ID 456): cannot unpack non-iterable NoneType object\n",
      "Downloading audio from https://www.youtube.com/watch?v=k3zimSRKqNw...\n"
     ]
    },
    {
     "name": "stderr",
     "output_type": "stream",
     "text": [
      "ERROR: [youtube] TO-_3tck2tg: Sign in to confirm you’re not a bot. Use --cookies-from-browser or --cookies for the authentication. See  https://github.com/yt-dlp/yt-dlp/wiki/FAQ#how-do-i-pass-cookies-to-yt-dlp  for how to manually pass cookies. Also see  https://github.com/yt-dlp/yt-dlp/wiki/Extractors#exporting-youtube-cookies  for tips on effectively exporting YouTube cookies\n",
      " 90%|████████▉ | 440/491 [1:27:08<00:44,  1.16it/s]"
     ]
    },
    {
     "name": "stdout",
     "output_type": "stream",
     "text": [
      "[Attempt 2] Download error: ERROR: [youtube] TO-_3tck2tg: Sign in to confirm you’re not a bot. Use --cookies-from-browser or --cookies for the authentication. See  https://github.com/yt-dlp/yt-dlp/wiki/FAQ#how-do-i-pass-cookies-to-yt-dlp  for how to manually pass cookies. Also see  https://github.com/yt-dlp/yt-dlp/wiki/Extractors#exporting-youtube-cookies  for tips on effectively exporting YouTube cookies\n",
      "Error indexing Bones (ID 457): cannot unpack non-iterable NoneType object\n",
      "Downloading audio from https://www.youtube.com/watch?v=sENM2wA_FTg...\n"
     ]
    },
    {
     "name": "stderr",
     "output_type": "stream",
     "text": [
      "ERROR: [youtube] mWRsgZuwf_8: Sign in to confirm you’re not a bot. Use --cookies-from-browser or --cookies for the authentication. See  https://github.com/yt-dlp/yt-dlp/wiki/FAQ#how-do-i-pass-cookies-to-yt-dlp  for how to manually pass cookies. Also see  https://github.com/yt-dlp/yt-dlp/wiki/Extractors#exporting-youtube-cookies  for tips on effectively exporting YouTube cookies\n",
      " 90%|████████▉ | 441/491 [1:27:08<00:36,  1.37it/s]ERROR: [youtube] k3zimSRKqNw: Sign in to confirm you’re not a bot. Use --cookies-from-browser or --cookies for the authentication. See  https://github.com/yt-dlp/yt-dlp/wiki/FAQ#how-do-i-pass-cookies-to-yt-dlp  for how to manually pass cookies. Also see  https://github.com/yt-dlp/yt-dlp/wiki/Extractors#exporting-youtube-cookies  for tips on effectively exporting YouTube cookies\n"
     ]
    },
    {
     "name": "stdout",
     "output_type": "stream",
     "text": [
      "[Attempt 2] Download error: ERROR: [youtube] mWRsgZuwf_8: Sign in to confirm you’re not a bot. Use --cookies-from-browser or --cookies for the authentication. See  https://github.com/yt-dlp/yt-dlp/wiki/FAQ#how-do-i-pass-cookies-to-yt-dlp  for how to manually pass cookies. Also see  https://github.com/yt-dlp/yt-dlp/wiki/Extractors#exporting-youtube-cookies  for tips on effectively exporting YouTube cookies\n",
      "Error indexing Demons (ID 458): cannot unpack non-iterable NoneType object\n",
      "Downloading audio from https://www.youtube.com/watch?v=0I647GU3Jsc...\n",
      "[Attempt 1] Download error: ERROR: [youtube] k3zimSRKqNw: Sign in to confirm you’re not a bot. Use --cookies-from-browser or --cookies for the authentication. See  https://github.com/yt-dlp/yt-dlp/wiki/FAQ#how-do-i-pass-cookies-to-yt-dlp  for how to manually pass cookies. Also see  https://github.com/yt-dlp/yt-dlp/wiki/Extractors#exporting-youtube-cookies  for tips on effectively exporting YouTube cookies\n"
     ]
    },
    {
     "name": "stderr",
     "output_type": "stream",
     "text": [
      "ERROR: [youtube] sENM2wA_FTg: Sign in to confirm you’re not a bot. Use --cookies-from-browser or --cookies for the authentication. See  https://github.com/yt-dlp/yt-dlp/wiki/FAQ#how-do-i-pass-cookies-to-yt-dlp  for how to manually pass cookies. Also see  https://github.com/yt-dlp/yt-dlp/wiki/Extractors#exporting-youtube-cookies  for tips on effectively exporting YouTube cookies\n"
     ]
    },
    {
     "name": "stdout",
     "output_type": "stream",
     "text": [
      "[Attempt 1] Download error: ERROR: [youtube] sENM2wA_FTg: Sign in to confirm you’re not a bot. Use --cookies-from-browser or --cookies for the authentication. See  https://github.com/yt-dlp/yt-dlp/wiki/FAQ#how-do-i-pass-cookies-to-yt-dlp  for how to manually pass cookies. Also see  https://github.com/yt-dlp/yt-dlp/wiki/Extractors#exporting-youtube-cookies  for tips on effectively exporting YouTube cookies\n"
     ]
    },
    {
     "name": "stderr",
     "output_type": "stream",
     "text": [
      "ERROR: [youtube] 0I647GU3Jsc: Sign in to confirm you’re not a bot. Use --cookies-from-browser or --cookies for the authentication. See  https://github.com/yt-dlp/yt-dlp/wiki/FAQ#how-do-i-pass-cookies-to-yt-dlp  for how to manually pass cookies. Also see  https://github.com/yt-dlp/yt-dlp/wiki/Extractors#exporting-youtube-cookies  for tips on effectively exporting YouTube cookies\n",
      "ERROR: [youtube] k3zimSRKqNw: Sign in to confirm you’re not a bot. Use --cookies-from-browser or --cookies for the authentication. See  https://github.com/yt-dlp/yt-dlp/wiki/FAQ#how-do-i-pass-cookies-to-yt-dlp  for how to manually pass cookies. Also see  https://github.com/yt-dlp/yt-dlp/wiki/Extractors#exporting-youtube-cookies  for tips on effectively exporting YouTube cookies\n",
      " 90%|█████████ | 442/491 [1:27:10<00:48,  1.01it/s]"
     ]
    },
    {
     "name": "stdout",
     "output_type": "stream",
     "text": [
      "[Attempt 1] Download error: ERROR: [youtube] 0I647GU3Jsc: Sign in to confirm you’re not a bot. Use --cookies-from-browser or --cookies for the authentication. See  https://github.com/yt-dlp/yt-dlp/wiki/FAQ#how-do-i-pass-cookies-to-yt-dlp  for how to manually pass cookies. Also see  https://github.com/yt-dlp/yt-dlp/wiki/Extractors#exporting-youtube-cookies  for tips on effectively exporting YouTube cookies\n",
      "[Attempt 2] Download error: ERROR: [youtube] k3zimSRKqNw: Sign in to confirm you’re not a bot. Use --cookies-from-browser or --cookies for the authentication. See  https://github.com/yt-dlp/yt-dlp/wiki/FAQ#how-do-i-pass-cookies-to-yt-dlp  for how to manually pass cookies. Also see  https://github.com/yt-dlp/yt-dlp/wiki/Extractors#exporting-youtube-cookies  for tips on effectively exporting YouTube cookies\n",
      "Error indexing Follow You (ID 459): cannot unpack non-iterable NoneType object\n",
      "Downloading audio from https://www.youtube.com/watch?v=w5tWYmIOWGk...\n"
     ]
    },
    {
     "name": "stderr",
     "output_type": "stream",
     "text": [
      "ERROR: [youtube] sENM2wA_FTg: Sign in to confirm you’re not a bot. Use --cookies-from-browser or --cookies for the authentication. See  https://github.com/yt-dlp/yt-dlp/wiki/FAQ#how-do-i-pass-cookies-to-yt-dlp  for how to manually pass cookies. Also see  https://github.com/yt-dlp/yt-dlp/wiki/Extractors#exporting-youtube-cookies  for tips on effectively exporting YouTube cookies\n",
      " 90%|█████████ | 443/491 [1:27:10<00:38,  1.23it/s]"
     ]
    },
    {
     "name": "stdout",
     "output_type": "stream",
     "text": [
      "[Attempt 2] Download error: ERROR: [youtube] sENM2wA_FTg: Sign in to confirm you’re not a bot. Use --cookies-from-browser or --cookies for the authentication. See  https://github.com/yt-dlp/yt-dlp/wiki/FAQ#how-do-i-pass-cookies-to-yt-dlp  for how to manually pass cookies. Also see  https://github.com/yt-dlp/yt-dlp/wiki/Extractors#exporting-youtube-cookies  for tips on effectively exporting YouTube cookies\n",
      "Error indexing It's Time (ID 460): cannot unpack non-iterable NoneType object\n",
      "Downloading audio from https://www.youtube.com/watch?v=ktvTqknDobU...\n"
     ]
    },
    {
     "name": "stderr",
     "output_type": "stream",
     "text": [
      "ERROR: [youtube] w5tWYmIOWGk: Sign in to confirm you’re not a bot. Use --cookies-from-browser or --cookies for the authentication. See  https://github.com/yt-dlp/yt-dlp/wiki/FAQ#how-do-i-pass-cookies-to-yt-dlp  for how to manually pass cookies. Also see  https://github.com/yt-dlp/yt-dlp/wiki/Extractors#exporting-youtube-cookies  for tips on effectively exporting YouTube cookies\n",
      "ERROR: [youtube] 0I647GU3Jsc: Sign in to confirm you’re not a bot. Use --cookies-from-browser or --cookies for the authentication. See  https://github.com/yt-dlp/yt-dlp/wiki/FAQ#how-do-i-pass-cookies-to-yt-dlp  for how to manually pass cookies. Also see  https://github.com/yt-dlp/yt-dlp/wiki/Extractors#exporting-youtube-cookies  for tips on effectively exporting YouTube cookies\n",
      " 90%|█████████ | 444/491 [1:27:11<00:37,  1.27it/s]"
     ]
    },
    {
     "name": "stdout",
     "output_type": "stream",
     "text": [
      "[Attempt 1] Download error: ERROR: [youtube] w5tWYmIOWGk: Sign in to confirm you’re not a bot. Use --cookies-from-browser or --cookies for the authentication. See  https://github.com/yt-dlp/yt-dlp/wiki/FAQ#how-do-i-pass-cookies-to-yt-dlp  for how to manually pass cookies. Also see  https://github.com/yt-dlp/yt-dlp/wiki/Extractors#exporting-youtube-cookies  for tips on effectively exporting YouTube cookies\n",
      "[Attempt 2] Download error: ERROR: [youtube] 0I647GU3Jsc: Sign in to confirm you’re not a bot. Use --cookies-from-browser or --cookies for the authentication. See  https://github.com/yt-dlp/yt-dlp/wiki/FAQ#how-do-i-pass-cookies-to-yt-dlp  for how to manually pass cookies. Also see  https://github.com/yt-dlp/yt-dlp/wiki/Extractors#exporting-youtube-cookies  for tips on effectively exporting YouTube cookies\n",
      "Error indexing Natural (ID 461): cannot unpack non-iterable NoneType object\n",
      "Downloading audio from https://www.youtube.com/watch?v=e4RMh7NLHPY...\n"
     ]
    },
    {
     "name": "stderr",
     "output_type": "stream",
     "text": [
      "ERROR: [youtube] ktvTqknDobU: Sign in to confirm you’re not a bot. Use --cookies-from-browser or --cookies for the authentication. See  https://github.com/yt-dlp/yt-dlp/wiki/FAQ#how-do-i-pass-cookies-to-yt-dlp  for how to manually pass cookies. Also see  https://github.com/yt-dlp/yt-dlp/wiki/Extractors#exporting-youtube-cookies  for tips on effectively exporting YouTube cookies\n"
     ]
    },
    {
     "name": "stdout",
     "output_type": "stream",
     "text": [
      "[Attempt 1] Download error: ERROR: [youtube] ktvTqknDobU: Sign in to confirm you’re not a bot. Use --cookies-from-browser or --cookies for the authentication. See  https://github.com/yt-dlp/yt-dlp/wiki/FAQ#how-do-i-pass-cookies-to-yt-dlp  for how to manually pass cookies. Also see  https://github.com/yt-dlp/yt-dlp/wiki/Extractors#exporting-youtube-cookies  for tips on effectively exporting YouTube cookies\n"
     ]
    },
    {
     "name": "stderr",
     "output_type": "stream",
     "text": [
      "ERROR: [youtube] e4RMh7NLHPY: Sign in to confirm you’re not a bot. Use --cookies-from-browser or --cookies for the authentication. See  https://github.com/yt-dlp/yt-dlp/wiki/FAQ#how-do-i-pass-cookies-to-yt-dlp  for how to manually pass cookies. Also see  https://github.com/yt-dlp/yt-dlp/wiki/Extractors#exporting-youtube-cookies  for tips on effectively exporting YouTube cookies\n",
      "ERROR: [youtube] w5tWYmIOWGk: Sign in to confirm you’re not a bot. Use --cookies-from-browser or --cookies for the authentication. See  https://github.com/yt-dlp/yt-dlp/wiki/FAQ#how-do-i-pass-cookies-to-yt-dlp  for how to manually pass cookies. Also see  https://github.com/yt-dlp/yt-dlp/wiki/Extractors#exporting-youtube-cookies  for tips on effectively exporting YouTube cookies\n",
      " 91%|█████████ | 445/491 [1:27:12<00:39,  1.15it/s]"
     ]
    },
    {
     "name": "stdout",
     "output_type": "stream",
     "text": [
      "[Attempt 1] Download error: ERROR: [youtube] e4RMh7NLHPY: Sign in to confirm you’re not a bot. Use --cookies-from-browser or --cookies for the authentication. See  https://github.com/yt-dlp/yt-dlp/wiki/FAQ#how-do-i-pass-cookies-to-yt-dlp  for how to manually pass cookies. Also see  https://github.com/yt-dlp/yt-dlp/wiki/Extractors#exporting-youtube-cookies  for tips on effectively exporting YouTube cookies\n",
      "[Attempt 2] Download error: ERROR: [youtube] w5tWYmIOWGk: Sign in to confirm you’re not a bot. Use --cookies-from-browser or --cookies for the authentication. See  https://github.com/yt-dlp/yt-dlp/wiki/FAQ#how-do-i-pass-cookies-to-yt-dlp  for how to manually pass cookies. Also see  https://github.com/yt-dlp/yt-dlp/wiki/Extractors#exporting-youtube-cookies  for tips on effectively exporting YouTube cookies\n",
      "Error indexing On Top Of The World (ID 462): cannot unpack non-iterable NoneType object\n",
      "Downloading audio from https://www.youtube.com/watch?v=fKopy74weus...\n"
     ]
    },
    {
     "name": "stderr",
     "output_type": "stream",
     "text": [
      "ERROR: [youtube] ktvTqknDobU: Sign in to confirm you’re not a bot. Use --cookies-from-browser or --cookies for the authentication. See  https://github.com/yt-dlp/yt-dlp/wiki/FAQ#how-do-i-pass-cookies-to-yt-dlp  for how to manually pass cookies. Also see  https://github.com/yt-dlp/yt-dlp/wiki/Extractors#exporting-youtube-cookies  for tips on effectively exporting YouTube cookies\n",
      " 91%|█████████ | 446/491 [1:27:13<00:36,  1.24it/s]"
     ]
    },
    {
     "name": "stdout",
     "output_type": "stream",
     "text": [
      "[Attempt 2] Download error: ERROR: [youtube] ktvTqknDobU: Sign in to confirm you’re not a bot. Use --cookies-from-browser or --cookies for the authentication. See  https://github.com/yt-dlp/yt-dlp/wiki/FAQ#how-do-i-pass-cookies-to-yt-dlp  for how to manually pass cookies. Also see  https://github.com/yt-dlp/yt-dlp/wiki/Extractors#exporting-youtube-cookies  for tips on effectively exporting YouTube cookies\n",
      "Error indexing Radioactive (ID 463): cannot unpack non-iterable NoneType object\n",
      "Downloading audio from https://www.youtube.com/watch?v=gOsM-DYAEhY...\n"
     ]
    },
    {
     "name": "stderr",
     "output_type": "stream",
     "text": [
      "ERROR: [youtube] e4RMh7NLHPY: Sign in to confirm you’re not a bot. Use --cookies-from-browser or --cookies for the authentication. See  https://github.com/yt-dlp/yt-dlp/wiki/FAQ#how-do-i-pass-cookies-to-yt-dlp  for how to manually pass cookies. Also see  https://github.com/yt-dlp/yt-dlp/wiki/Extractors#exporting-youtube-cookies  for tips on effectively exporting YouTube cookies\n",
      " 91%|█████████ | 447/491 [1:27:13<00:30,  1.46it/s]ERROR: [youtube] fKopy74weus: Sign in to confirm you’re not a bot. Use --cookies-from-browser or --cookies for the authentication. See  https://github.com/yt-dlp/yt-dlp/wiki/FAQ#how-do-i-pass-cookies-to-yt-dlp  for how to manually pass cookies. Also see  https://github.com/yt-dlp/yt-dlp/wiki/Extractors#exporting-youtube-cookies  for tips on effectively exporting YouTube cookies\n"
     ]
    },
    {
     "name": "stdout",
     "output_type": "stream",
     "text": [
      "[Attempt 2] Download error: ERROR: [youtube] e4RMh7NLHPY: Sign in to confirm you’re not a bot. Use --cookies-from-browser or --cookies for the authentication. See  https://github.com/yt-dlp/yt-dlp/wiki/FAQ#how-do-i-pass-cookies-to-yt-dlp  for how to manually pass cookies. Also see  https://github.com/yt-dlp/yt-dlp/wiki/Extractors#exporting-youtube-cookies  for tips on effectively exporting YouTube cookies\n",
      "Error indexing Roots (ID 464): cannot unpack non-iterable NoneType object\n",
      "Downloading audio from https://www.youtube.com/watch?v=GSLSwwkLRW0...\n",
      "[Attempt 1] Download error: ERROR: [youtube] fKopy74weus: Sign in to confirm you’re not a bot. Use --cookies-from-browser or --cookies for the authentication. See  https://github.com/yt-dlp/yt-dlp/wiki/FAQ#how-do-i-pass-cookies-to-yt-dlp  for how to manually pass cookies. Also see  https://github.com/yt-dlp/yt-dlp/wiki/Extractors#exporting-youtube-cookies  for tips on effectively exporting YouTube cookies\n"
     ]
    },
    {
     "name": "stderr",
     "output_type": "stream",
     "text": [
      "ERROR: [youtube] gOsM-DYAEhY: Sign in to confirm you’re not a bot. Use --cookies-from-browser or --cookies for the authentication. See  https://github.com/yt-dlp/yt-dlp/wiki/FAQ#how-do-i-pass-cookies-to-yt-dlp  for how to manually pass cookies. Also see  https://github.com/yt-dlp/yt-dlp/wiki/Extractors#exporting-youtube-cookies  for tips on effectively exporting YouTube cookies\n",
      "ERROR: [youtube] GSLSwwkLRW0: Sign in to confirm you’re not a bot. Use --cookies-from-browser or --cookies for the authentication. See  https://github.com/yt-dlp/yt-dlp/wiki/FAQ#how-do-i-pass-cookies-to-yt-dlp  for how to manually pass cookies. Also see  https://github.com/yt-dlp/yt-dlp/wiki/Extractors#exporting-youtube-cookies  for tips on effectively exporting YouTube cookies\n"
     ]
    },
    {
     "name": "stdout",
     "output_type": "stream",
     "text": [
      "[Attempt 1] Download error: ERROR: [youtube] gOsM-DYAEhY: Sign in to confirm you’re not a bot. Use --cookies-from-browser or --cookies for the authentication. See  https://github.com/yt-dlp/yt-dlp/wiki/FAQ#how-do-i-pass-cookies-to-yt-dlp  for how to manually pass cookies. Also see  https://github.com/yt-dlp/yt-dlp/wiki/Extractors#exporting-youtube-cookies  for tips on effectively exporting YouTube cookies\n",
      "[Attempt 1] Download error: ERROR: [youtube] GSLSwwkLRW0: Sign in to confirm you’re not a bot. Use --cookies-from-browser or --cookies for the authentication. See  https://github.com/yt-dlp/yt-dlp/wiki/FAQ#how-do-i-pass-cookies-to-yt-dlp  for how to manually pass cookies. Also see  https://github.com/yt-dlp/yt-dlp/wiki/Extractors#exporting-youtube-cookies  for tips on effectively exporting YouTube cookies\n"
     ]
    },
    {
     "name": "stderr",
     "output_type": "stream",
     "text": [
      "ERROR: [youtube] fKopy74weus: Sign in to confirm you’re not a bot. Use --cookies-from-browser or --cookies for the authentication. See  https://github.com/yt-dlp/yt-dlp/wiki/FAQ#how-do-i-pass-cookies-to-yt-dlp  for how to manually pass cookies. Also see  https://github.com/yt-dlp/yt-dlp/wiki/Extractors#exporting-youtube-cookies  for tips on effectively exporting YouTube cookies\n",
      " 91%|█████████ | 448/491 [1:27:15<00:37,  1.16it/s]"
     ]
    },
    {
     "name": "stdout",
     "output_type": "stream",
     "text": [
      "[Attempt 2] Download error: ERROR: [youtube] fKopy74weus: Sign in to confirm you’re not a bot. Use --cookies-from-browser or --cookies for the authentication. See  https://github.com/yt-dlp/yt-dlp/wiki/FAQ#how-do-i-pass-cookies-to-yt-dlp  for how to manually pass cookies. Also see  https://github.com/yt-dlp/yt-dlp/wiki/Extractors#exporting-youtube-cookies  for tips on effectively exporting YouTube cookies\n",
      "Error indexing Thunder (ID 465): cannot unpack non-iterable NoneType object\n",
      "Downloading audio from https://www.youtube.com/watch?v=1WIsnC-h1d0...\n"
     ]
    },
    {
     "name": "stderr",
     "output_type": "stream",
     "text": [
      "ERROR: [youtube] GSLSwwkLRW0: Sign in to confirm you’re not a bot. Use --cookies-from-browser or --cookies for the authentication. See  https://github.com/yt-dlp/yt-dlp/wiki/FAQ#how-do-i-pass-cookies-to-yt-dlp  for how to manually pass cookies. Also see  https://github.com/yt-dlp/yt-dlp/wiki/Extractors#exporting-youtube-cookies  for tips on effectively exporting YouTube cookies\n",
      " 91%|█████████▏| 449/491 [1:27:15<00:34,  1.22it/s]ERROR: [youtube] gOsM-DYAEhY: Sign in to confirm you’re not a bot. Use --cookies-from-browser or --cookies for the authentication. See  https://github.com/yt-dlp/yt-dlp/wiki/FAQ#how-do-i-pass-cookies-to-yt-dlp  for how to manually pass cookies. Also see  https://github.com/yt-dlp/yt-dlp/wiki/Extractors#exporting-youtube-cookies  for tips on effectively exporting YouTube cookies\n",
      " 92%|█████████▏| 450/491 [1:27:15<00:25,  1.64it/s]"
     ]
    },
    {
     "name": "stdout",
     "output_type": "stream",
     "text": [
      "[Attempt 2] Download error: ERROR: [youtube] GSLSwwkLRW0: Sign in to confirm you’re not a bot. Use --cookies-from-browser or --cookies for the authentication. See  https://github.com/yt-dlp/yt-dlp/wiki/FAQ#how-do-i-pass-cookies-to-yt-dlp  for how to manually pass cookies. Also see  https://github.com/yt-dlp/yt-dlp/wiki/Extractors#exporting-youtube-cookies  for tips on effectively exporting YouTube cookies\n",
      "Error indexing Ain't It Funny (ID 467): cannot unpack non-iterable NoneType object\n",
      "Downloading audio from https://www.youtube.com/watch?v=zD2D6phvRRk...\n",
      "[Attempt 2] Download error: ERROR: [youtube] gOsM-DYAEhY: Sign in to confirm you’re not a bot. Use --cookies-from-browser or --cookies for the authentication. See  https://github.com/yt-dlp/yt-dlp/wiki/FAQ#how-do-i-pass-cookies-to-yt-dlp  for how to manually pass cookies. Also see  https://github.com/yt-dlp/yt-dlp/wiki/Extractors#exporting-youtube-cookies  for tips on effectively exporting YouTube cookies\n",
      "Error indexing Whatever It Takes (ID 466): cannot unpack non-iterable NoneType object\n",
      "Downloading audio from https://www.youtube.com/watch?v=lYfkl-HXfuU...\n"
     ]
    },
    {
     "name": "stderr",
     "output_type": "stream",
     "text": [
      "ERROR: [youtube] 1WIsnC-h1d0: Sign in to confirm you’re not a bot. Use --cookies-from-browser or --cookies for the authentication. See  https://github.com/yt-dlp/yt-dlp/wiki/FAQ#how-do-i-pass-cookies-to-yt-dlp  for how to manually pass cookies. Also see  https://github.com/yt-dlp/yt-dlp/wiki/Extractors#exporting-youtube-cookies  for tips on effectively exporting YouTube cookies\n"
     ]
    },
    {
     "name": "stdout",
     "output_type": "stream",
     "text": [
      "[Attempt 1] Download error: ERROR: [youtube] 1WIsnC-h1d0: Sign in to confirm you’re not a bot. Use --cookies-from-browser or --cookies for the authentication. See  https://github.com/yt-dlp/yt-dlp/wiki/FAQ#how-do-i-pass-cookies-to-yt-dlp  for how to manually pass cookies. Also see  https://github.com/yt-dlp/yt-dlp/wiki/Extractors#exporting-youtube-cookies  for tips on effectively exporting YouTube cookies\n"
     ]
    },
    {
     "name": "stderr",
     "output_type": "stream",
     "text": [
      "ERROR: [youtube] zD2D6phvRRk: Sign in to confirm you’re not a bot. Use --cookies-from-browser or --cookies for the authentication. See  https://github.com/yt-dlp/yt-dlp/wiki/FAQ#how-do-i-pass-cookies-to-yt-dlp  for how to manually pass cookies. Also see  https://github.com/yt-dlp/yt-dlp/wiki/Extractors#exporting-youtube-cookies  for tips on effectively exporting YouTube cookies\n"
     ]
    },
    {
     "name": "stdout",
     "output_type": "stream",
     "text": [
      "[Attempt 1] Download error: ERROR: [youtube] zD2D6phvRRk: Sign in to confirm you’re not a bot. Use --cookies-from-browser or --cookies for the authentication. See  https://github.com/yt-dlp/yt-dlp/wiki/FAQ#how-do-i-pass-cookies-to-yt-dlp  for how to manually pass cookies. Also see  https://github.com/yt-dlp/yt-dlp/wiki/Extractors#exporting-youtube-cookies  for tips on effectively exporting YouTube cookies\n"
     ]
    },
    {
     "name": "stderr",
     "output_type": "stream",
     "text": [
      "ERROR: [youtube] 1WIsnC-h1d0: Sign in to confirm you’re not a bot. Use --cookies-from-browser or --cookies for the authentication. See  https://github.com/yt-dlp/yt-dlp/wiki/FAQ#how-do-i-pass-cookies-to-yt-dlp  for how to manually pass cookies. Also see  https://github.com/yt-dlp/yt-dlp/wiki/Extractors#exporting-youtube-cookies  for tips on effectively exporting YouTube cookies\n",
      " 92%|█████████▏| 451/491 [1:27:17<00:31,  1.25it/s]ERROR: [youtube] lYfkl-HXfuU: Sign in to confirm you’re not a bot. Use --cookies-from-browser or --cookies for the authentication. See  https://github.com/yt-dlp/yt-dlp/wiki/FAQ#how-do-i-pass-cookies-to-yt-dlp  for how to manually pass cookies. Also see  https://github.com/yt-dlp/yt-dlp/wiki/Extractors#exporting-youtube-cookies  for tips on effectively exporting YouTube cookies\n"
     ]
    },
    {
     "name": "stdout",
     "output_type": "stream",
     "text": [
      "[Attempt 2] Download error: ERROR: [youtube] 1WIsnC-h1d0: Sign in to confirm you’re not a bot. Use --cookies-from-browser or --cookies for the authentication. See  https://github.com/yt-dlp/yt-dlp/wiki/FAQ#how-do-i-pass-cookies-to-yt-dlp  for how to manually pass cookies. Also see  https://github.com/yt-dlp/yt-dlp/wiki/Extractors#exporting-youtube-cookies  for tips on effectively exporting YouTube cookies\n",
      "Error indexing Get Right (ID 468): cannot unpack non-iterable NoneType object\n",
      "Downloading audio from https://www.youtube.com/watch?v=Q91hydQRGyM...\n",
      "[Attempt 1] Download error: ERROR: [youtube] lYfkl-HXfuU: Sign in to confirm you’re not a bot. Use --cookies-from-browser or --cookies for the authentication. See  https://github.com/yt-dlp/yt-dlp/wiki/FAQ#how-do-i-pass-cookies-to-yt-dlp  for how to manually pass cookies. Also see  https://github.com/yt-dlp/yt-dlp/wiki/Extractors#exporting-youtube-cookies  for tips on effectively exporting YouTube cookies\n"
     ]
    },
    {
     "name": "stderr",
     "output_type": "stream",
     "text": [
      "ERROR: [youtube] zD2D6phvRRk: Sign in to confirm you’re not a bot. Use --cookies-from-browser or --cookies for the authentication. See  https://github.com/yt-dlp/yt-dlp/wiki/FAQ#how-do-i-pass-cookies-to-yt-dlp  for how to manually pass cookies. Also see  https://github.com/yt-dlp/yt-dlp/wiki/Extractors#exporting-youtube-cookies  for tips on effectively exporting YouTube cookies\n",
      " 92%|█████████▏| 452/491 [1:27:18<00:37,  1.04it/s]ERROR: [youtube] lYfkl-HXfuU: Sign in to confirm you’re not a bot. Use --cookies-from-browser or --cookies for the authentication. See  https://github.com/yt-dlp/yt-dlp/wiki/FAQ#how-do-i-pass-cookies-to-yt-dlp  for how to manually pass cookies. Also see  https://github.com/yt-dlp/yt-dlp/wiki/Extractors#exporting-youtube-cookies  for tips on effectively exporting YouTube cookies\n",
      "ERROR: [youtube] Q91hydQRGyM: Sign in to confirm you’re not a bot. Use --cookies-from-browser or --cookies for the authentication. See  https://github.com/yt-dlp/yt-dlp/wiki/FAQ#how-do-i-pass-cookies-to-yt-dlp  for how to manually pass cookies. Also see  https://github.com/yt-dlp/yt-dlp/wiki/Extractors#exporting-youtube-cookies  for tips on effectively exporting YouTube cookies\n",
      " 92%|█████████▏| 453/491 [1:27:18<00:27,  1.37it/s]"
     ]
    },
    {
     "name": "stdout",
     "output_type": "stream",
     "text": [
      "[Attempt 2] Download error: ERROR: [youtube] zD2D6phvRRk: Sign in to confirm you’re not a bot. Use --cookies-from-browser or --cookies for the authentication. See  https://github.com/yt-dlp/yt-dlp/wiki/FAQ#how-do-i-pass-cookies-to-yt-dlp  for how to manually pass cookies. Also see  https://github.com/yt-dlp/yt-dlp/wiki/Extractors#exporting-youtube-cookies  for tips on effectively exporting YouTube cookies\n",
      "Error indexing I'm Real (ID 469): cannot unpack non-iterable NoneType object\n",
      "Downloading audio from https://www.youtube.com/watch?v=4kGvlESGvbs...\n",
      "[Attempt 2] Download error: ERROR: [youtube] lYfkl-HXfuU: Sign in to confirm you’re not a bot. Use --cookies-from-browser or --cookies for the authentication. See  https://github.com/yt-dlp/yt-dlp/wiki/FAQ#how-do-i-pass-cookies-to-yt-dlp  for how to manually pass cookies. Also see  https://github.com/yt-dlp/yt-dlp/wiki/Extractors#exporting-youtube-cookies  for tips on effectively exporting YouTube cookies\n",
      "Error indexing If You Had My Love (ID 470): cannot unpack non-iterable NoneType object\n",
      "Downloading audio from https://www.youtube.com/watch?v=tFuw-YZaTNo...\n",
      "[Attempt 1] Download error: ERROR: [youtube] Q91hydQRGyM: Sign in to confirm you’re not a bot. Use --cookies-from-browser or --cookies for the authentication. See  https://github.com/yt-dlp/yt-dlp/wiki/FAQ#how-do-i-pass-cookies-to-yt-dlp  for how to manually pass cookies. Also see  https://github.com/yt-dlp/yt-dlp/wiki/Extractors#exporting-youtube-cookies  for tips on effectively exporting YouTube cookies\n"
     ]
    },
    {
     "name": "stderr",
     "output_type": "stream",
     "text": [
      "ERROR: [youtube] 4kGvlESGvbs: Sign in to confirm you’re not a bot. Use --cookies-from-browser or --cookies for the authentication. See  https://github.com/yt-dlp/yt-dlp/wiki/FAQ#how-do-i-pass-cookies-to-yt-dlp  for how to manually pass cookies. Also see  https://github.com/yt-dlp/yt-dlp/wiki/Extractors#exporting-youtube-cookies  for tips on effectively exporting YouTube cookies\n",
      "ERROR: [youtube] tFuw-YZaTNo: Sign in to confirm you’re not a bot. Use --cookies-from-browser or --cookies for the authentication. See  https://github.com/yt-dlp/yt-dlp/wiki/FAQ#how-do-i-pass-cookies-to-yt-dlp  for how to manually pass cookies. Also see  https://github.com/yt-dlp/yt-dlp/wiki/Extractors#exporting-youtube-cookies  for tips on effectively exporting YouTube cookies\n"
     ]
    },
    {
     "name": "stdout",
     "output_type": "stream",
     "text": [
      "[Attempt 1] Download error: ERROR: [youtube] 4kGvlESGvbs: Sign in to confirm you’re not a bot. Use --cookies-from-browser or --cookies for the authentication. See  https://github.com/yt-dlp/yt-dlp/wiki/FAQ#how-do-i-pass-cookies-to-yt-dlp  for how to manually pass cookies. Also see  https://github.com/yt-dlp/yt-dlp/wiki/Extractors#exporting-youtube-cookies  for tips on effectively exporting YouTube cookies\n",
      "[Attempt 1] Download error: ERROR: [youtube] tFuw-YZaTNo: Sign in to confirm you’re not a bot. Use --cookies-from-browser or --cookies for the authentication. See  https://github.com/yt-dlp/yt-dlp/wiki/FAQ#how-do-i-pass-cookies-to-yt-dlp  for how to manually pass cookies. Also see  https://github.com/yt-dlp/yt-dlp/wiki/Extractors#exporting-youtube-cookies  for tips on effectively exporting YouTube cookies\n"
     ]
    },
    {
     "name": "stderr",
     "output_type": "stream",
     "text": [
      "ERROR: [youtube] Q91hydQRGyM: Sign in to confirm you’re not a bot. Use --cookies-from-browser or --cookies for the authentication. See  https://github.com/yt-dlp/yt-dlp/wiki/FAQ#how-do-i-pass-cookies-to-yt-dlp  for how to manually pass cookies. Also see  https://github.com/yt-dlp/yt-dlp/wiki/Extractors#exporting-youtube-cookies  for tips on effectively exporting YouTube cookies\n",
      " 92%|█████████▏| 454/491 [1:27:20<00:34,  1.06it/s]"
     ]
    },
    {
     "name": "stdout",
     "output_type": "stream",
     "text": [
      "[Attempt 2] Download error: ERROR: [youtube] Q91hydQRGyM: Sign in to confirm you’re not a bot. Use --cookies-from-browser or --cookies for the authentication. See  https://github.com/yt-dlp/yt-dlp/wiki/FAQ#how-do-i-pass-cookies-to-yt-dlp  for how to manually pass cookies. Also see  https://github.com/yt-dlp/yt-dlp/wiki/Extractors#exporting-youtube-cookies  for tips on effectively exporting YouTube cookies\n",
      "Error indexing Let's Get Loud (ID 471): cannot unpack non-iterable NoneType object\n",
      "Downloading audio from https://www.youtube.com/watch?v=_66jPJVS4JE...\n"
     ]
    },
    {
     "name": "stderr",
     "output_type": "stream",
     "text": [
      "ERROR: [youtube] 4kGvlESGvbs: Sign in to confirm you’re not a bot. Use --cookies-from-browser or --cookies for the authentication. See  https://github.com/yt-dlp/yt-dlp/wiki/FAQ#how-do-i-pass-cookies-to-yt-dlp  for how to manually pass cookies. Also see  https://github.com/yt-dlp/yt-dlp/wiki/Extractors#exporting-youtube-cookies  for tips on effectively exporting YouTube cookies\n",
      " 93%|█████████▎| 455/491 [1:27:20<00:31,  1.15it/s]ERROR: [youtube] tFuw-YZaTNo: Sign in to confirm you’re not a bot. Use --cookies-from-browser or --cookies for the authentication. See  https://github.com/yt-dlp/yt-dlp/wiki/FAQ#how-do-i-pass-cookies-to-yt-dlp  for how to manually pass cookies. Also see  https://github.com/yt-dlp/yt-dlp/wiki/Extractors#exporting-youtube-cookies  for tips on effectively exporting YouTube cookies\n",
      " 93%|█████████▎| 456/491 [1:27:20<00:23,  1.50it/s]"
     ]
    },
    {
     "name": "stdout",
     "output_type": "stream",
     "text": [
      "[Attempt 2] Download error: ERROR: [youtube] 4kGvlESGvbs: Sign in to confirm you’re not a bot. Use --cookies-from-browser or --cookies for the authentication. See  https://github.com/yt-dlp/yt-dlp/wiki/FAQ#how-do-i-pass-cookies-to-yt-dlp  for how to manually pass cookies. Also see  https://github.com/yt-dlp/yt-dlp/wiki/Extractors#exporting-youtube-cookies  for tips on effectively exporting YouTube cookies\n",
      "Error indexing Love Don't Cost a Thing (ID 472): cannot unpack non-iterable NoneType object\n",
      "Downloading audio from https://www.youtube.com/watch?v=U7uxf8kBBlg...\n",
      "[Attempt 2] Download error: ERROR: [youtube] tFuw-YZaTNo: Sign in to confirm you’re not a bot. Use --cookies-from-browser or --cookies for the authentication. See  https://github.com/yt-dlp/yt-dlp/wiki/FAQ#how-do-i-pass-cookies-to-yt-dlp  for how to manually pass cookies. Also see  https://github.com/yt-dlp/yt-dlp/wiki/Extractors#exporting-youtube-cookies  for tips on effectively exporting YouTube cookies\n",
      "Error indexing Play (ID 473): cannot unpack non-iterable NoneType object\n",
      "Downloading audio from https://www.youtube.com/watch?v=4bJ0F8KhhZ8...\n"
     ]
    },
    {
     "name": "stderr",
     "output_type": "stream",
     "text": [
      "ERROR: [youtube] _66jPJVS4JE: Sign in to confirm you’re not a bot. Use --cookies-from-browser or --cookies for the authentication. See  https://github.com/yt-dlp/yt-dlp/wiki/FAQ#how-do-i-pass-cookies-to-yt-dlp  for how to manually pass cookies. Also see  https://github.com/yt-dlp/yt-dlp/wiki/Extractors#exporting-youtube-cookies  for tips on effectively exporting YouTube cookies\n"
     ]
    },
    {
     "name": "stdout",
     "output_type": "stream",
     "text": [
      "[Attempt 1] Download error: ERROR: [youtube] _66jPJVS4JE: Sign in to confirm you’re not a bot. Use --cookies-from-browser or --cookies for the authentication. See  https://github.com/yt-dlp/yt-dlp/wiki/FAQ#how-do-i-pass-cookies-to-yt-dlp  for how to manually pass cookies. Also see  https://github.com/yt-dlp/yt-dlp/wiki/Extractors#exporting-youtube-cookies  for tips on effectively exporting YouTube cookies\n"
     ]
    },
    {
     "name": "stderr",
     "output_type": "stream",
     "text": [
      "ERROR: [youtube] U7uxf8kBBlg: Sign in to confirm you’re not a bot. Use --cookies-from-browser or --cookies for the authentication. See  https://github.com/yt-dlp/yt-dlp/wiki/FAQ#how-do-i-pass-cookies-to-yt-dlp  for how to manually pass cookies. Also see  https://github.com/yt-dlp/yt-dlp/wiki/Extractors#exporting-youtube-cookies  for tips on effectively exporting YouTube cookies\n",
      " 93%|█████████▎| 457/491 [1:27:21<00:24,  1.41it/s]"
     ]
    },
    {
     "name": "stdout",
     "output_type": "stream",
     "text": [
      "[Attempt 1] Download error: ERROR: [youtube] U7uxf8kBBlg: Sign in to confirm you’re not a bot. Use --cookies-from-browser or --cookies for the authentication. See  https://github.com/yt-dlp/yt-dlp/wiki/FAQ#how-do-i-pass-cookies-to-yt-dlp  for how to manually pass cookies. Also see  https://github.com/yt-dlp/yt-dlp/wiki/Extractors#exporting-youtube-cookies  for tips on effectively exporting YouTube cookies\n",
      "Downloading audio from https://www.youtube.com/watch?v=vzsz6SSS3wk...\n"
     ]
    },
    {
     "name": "stderr",
     "output_type": "stream",
     "text": [
      "ERROR: [youtube] 4bJ0F8KhhZ8: Sign in to confirm you’re not a bot. Use --cookies-from-browser or --cookies for the authentication. See  https://github.com/yt-dlp/yt-dlp/wiki/FAQ#how-do-i-pass-cookies-to-yt-dlp  for how to manually pass cookies. Also see  https://github.com/yt-dlp/yt-dlp/wiki/Extractors#exporting-youtube-cookies  for tips on effectively exporting YouTube cookies\n"
     ]
    },
    {
     "name": "stdout",
     "output_type": "stream",
     "text": [
      "[Attempt 1] Download error: ERROR: [youtube] 4bJ0F8KhhZ8: Sign in to confirm you’re not a bot. Use --cookies-from-browser or --cookies for the authentication. See  https://github.com/yt-dlp/yt-dlp/wiki/FAQ#how-do-i-pass-cookies-to-yt-dlp  for how to manually pass cookies. Also see  https://github.com/yt-dlp/yt-dlp/wiki/Extractors#exporting-youtube-cookies  for tips on effectively exporting YouTube cookies\n"
     ]
    },
    {
     "name": "stderr",
     "output_type": "stream",
     "text": [
      "ERROR: [youtube] _66jPJVS4JE: Sign in to confirm you’re not a bot. Use --cookies-from-browser or --cookies for the authentication. See  https://github.com/yt-dlp/yt-dlp/wiki/FAQ#how-do-i-pass-cookies-to-yt-dlp  for how to manually pass cookies. Also see  https://github.com/yt-dlp/yt-dlp/wiki/Extractors#exporting-youtube-cookies  for tips on effectively exporting YouTube cookies\n",
      " 93%|█████████▎| 458/491 [1:27:22<00:21,  1.53it/s]"
     ]
    },
    {
     "name": "stdout",
     "output_type": "stream",
     "text": [
      "[Attempt 2] Download error: ERROR: [youtube] _66jPJVS4JE: Sign in to confirm you’re not a bot. Use --cookies-from-browser or --cookies for the authentication. See  https://github.com/yt-dlp/yt-dlp/wiki/FAQ#how-do-i-pass-cookies-to-yt-dlp  for how to manually pass cookies. Also see  https://github.com/yt-dlp/yt-dlp/wiki/Extractors#exporting-youtube-cookies  for tips on effectively exporting YouTube cookies\n",
      "Error indexing Waiting for Tonight (ID 474): cannot unpack non-iterable NoneType object\n",
      "Downloading audio from https://www.youtube.com/watch?v=DPtfsk4ETjM...\n"
     ]
    },
    {
     "name": "stderr",
     "output_type": "stream",
     "text": [
      "ERROR: [youtube] vzsz6SSS3wk: Sign in to confirm you’re not a bot. Use --cookies-from-browser or --cookies for the authentication. See  https://github.com/yt-dlp/yt-dlp/wiki/FAQ#how-do-i-pass-cookies-to-yt-dlp  for how to manually pass cookies. Also see  https://github.com/yt-dlp/yt-dlp/wiki/Extractors#exporting-youtube-cookies  for tips on effectively exporting YouTube cookies\n"
     ]
    },
    {
     "name": "stdout",
     "output_type": "stream",
     "text": [
      "[Attempt 1] Download error: ERROR: [youtube] vzsz6SSS3wk: Sign in to confirm you’re not a bot. Use --cookies-from-browser or --cookies for the authentication. See  https://github.com/yt-dlp/yt-dlp/wiki/FAQ#how-do-i-pass-cookies-to-yt-dlp  for how to manually pass cookies. Also see  https://github.com/yt-dlp/yt-dlp/wiki/Extractors#exporting-youtube-cookies  for tips on effectively exporting YouTube cookies\n"
     ]
    },
    {
     "name": "stderr",
     "output_type": "stream",
     "text": [
      "ERROR: [youtube] U7uxf8kBBlg: Sign in to confirm you’re not a bot. Use --cookies-from-browser or --cookies for the authentication. See  https://github.com/yt-dlp/yt-dlp/wiki/FAQ#how-do-i-pass-cookies-to-yt-dlp  for how to manually pass cookies. Also see  https://github.com/yt-dlp/yt-dlp/wiki/Extractors#exporting-youtube-cookies  for tips on effectively exporting YouTube cookies\n",
      " 93%|█████████▎| 459/491 [1:27:22<00:20,  1.56it/s]"
     ]
    },
    {
     "name": "stdout",
     "output_type": "stream",
     "text": [
      "[Attempt 2] Download error: ERROR: [youtube] U7uxf8kBBlg: Sign in to confirm you’re not a bot. Use --cookies-from-browser or --cookies for the authentication. See  https://github.com/yt-dlp/yt-dlp/wiki/FAQ#how-do-i-pass-cookies-to-yt-dlp  for how to manually pass cookies. Also see  https://github.com/yt-dlp/yt-dlp/wiki/Extractors#exporting-youtube-cookies  for tips on effectively exporting YouTube cookies\n",
      "Error indexing I Think I'm in Love with You (ID 475): cannot unpack non-iterable NoneType object\n",
      "Downloading audio from https://www.youtube.com/watch?v=VWl7WjAtBME...\n"
     ]
    },
    {
     "name": "stderr",
     "output_type": "stream",
     "text": [
      "ERROR: [youtube] 4bJ0F8KhhZ8: Sign in to confirm you’re not a bot. Use --cookies-from-browser or --cookies for the authentication. See  https://github.com/yt-dlp/yt-dlp/wiki/FAQ#how-do-i-pass-cookies-to-yt-dlp  for how to manually pass cookies. Also see  https://github.com/yt-dlp/yt-dlp/wiki/Extractors#exporting-youtube-cookies  for tips on effectively exporting YouTube cookies\n",
      " 94%|█████████▎| 460/491 [1:27:23<00:16,  1.90it/s]ERROR: [youtube] DPtfsk4ETjM: Sign in to confirm you’re not a bot. Use --cookies-from-browser or --cookies for the authentication. See  https://github.com/yt-dlp/yt-dlp/wiki/FAQ#how-do-i-pass-cookies-to-yt-dlp  for how to manually pass cookies. Also see  https://github.com/yt-dlp/yt-dlp/wiki/Extractors#exporting-youtube-cookies  for tips on effectively exporting YouTube cookies\n"
     ]
    },
    {
     "name": "stdout",
     "output_type": "stream",
     "text": [
      "[Attempt 2] Download error: ERROR: [youtube] 4bJ0F8KhhZ8: Sign in to confirm you’re not a bot. Use --cookies-from-browser or --cookies for the authentication. See  https://github.com/yt-dlp/yt-dlp/wiki/FAQ#how-do-i-pass-cookies-to-yt-dlp  for how to manually pass cookies. Also see  https://github.com/yt-dlp/yt-dlp/wiki/Extractors#exporting-youtube-cookies  for tips on effectively exporting YouTube cookies\n",
      "Error indexing I Wanna Love You Forever (ID 476): cannot unpack non-iterable NoneType object\n",
      "Downloading audio from https://www.youtube.com/watch?v=ru0K8uYEZWw...\n",
      "[Attempt 1] Download error: ERROR: [youtube] DPtfsk4ETjM: Sign in to confirm you’re not a bot. Use --cookies-from-browser or --cookies for the authentication. See  https://github.com/yt-dlp/yt-dlp/wiki/FAQ#how-do-i-pass-cookies-to-yt-dlp  for how to manually pass cookies. Also see  https://github.com/yt-dlp/yt-dlp/wiki/Extractors#exporting-youtube-cookies  for tips on effectively exporting YouTube cookies\n"
     ]
    },
    {
     "name": "stderr",
     "output_type": "stream",
     "text": [
      "ERROR: [youtube] vzsz6SSS3wk: Sign in to confirm you’re not a bot. Use --cookies-from-browser or --cookies for the authentication. See  https://github.com/yt-dlp/yt-dlp/wiki/FAQ#how-do-i-pass-cookies-to-yt-dlp  for how to manually pass cookies. Also see  https://github.com/yt-dlp/yt-dlp/wiki/Extractors#exporting-youtube-cookies  for tips on effectively exporting YouTube cookies\n",
      " 94%|█████████▍| 461/491 [1:27:23<00:17,  1.76it/s]ERROR: [youtube] VWl7WjAtBME: Sign in to confirm you’re not a bot. Use --cookies-from-browser or --cookies for the authentication. See  https://github.com/yt-dlp/yt-dlp/wiki/FAQ#how-do-i-pass-cookies-to-yt-dlp  for how to manually pass cookies. Also see  https://github.com/yt-dlp/yt-dlp/wiki/Extractors#exporting-youtube-cookies  for tips on effectively exporting YouTube cookies\n"
     ]
    },
    {
     "name": "stdout",
     "output_type": "stream",
     "text": [
      "[Attempt 2] Download error: ERROR: [youtube] vzsz6SSS3wk: Sign in to confirm you’re not a bot. Use --cookies-from-browser or --cookies for the authentication. See  https://github.com/yt-dlp/yt-dlp/wiki/FAQ#how-do-i-pass-cookies-to-yt-dlp  for how to manually pass cookies. Also see  https://github.com/yt-dlp/yt-dlp/wiki/Extractors#exporting-youtube-cookies  for tips on effectively exporting YouTube cookies\n",
      "Error indexing Take My Breath Away (ID 477): cannot unpack non-iterable NoneType object\n",
      "Downloading audio from https://www.youtube.com/watch?v=DksSPZTZES0...\n",
      "[Attempt 1] Download error: ERROR: [youtube] VWl7WjAtBME: Sign in to confirm you’re not a bot. Use --cookies-from-browser or --cookies for the authentication. See  https://github.com/yt-dlp/yt-dlp/wiki/FAQ#how-do-i-pass-cookies-to-yt-dlp  for how to manually pass cookies. Also see  https://github.com/yt-dlp/yt-dlp/wiki/Extractors#exporting-youtube-cookies  for tips on effectively exporting YouTube cookies\n"
     ]
    },
    {
     "name": "stderr",
     "output_type": "stream",
     "text": [
      "ERROR: [youtube] ru0K8uYEZWw: Sign in to confirm you’re not a bot. Use --cookies-from-browser or --cookies for the authentication. See  https://github.com/yt-dlp/yt-dlp/wiki/FAQ#how-do-i-pass-cookies-to-yt-dlp  for how to manually pass cookies. Also see  https://github.com/yt-dlp/yt-dlp/wiki/Extractors#exporting-youtube-cookies  for tips on effectively exporting YouTube cookies\n",
      "ERROR: [youtube] DPtfsk4ETjM: Sign in to confirm you’re not a bot. Use --cookies-from-browser or --cookies for the authentication. See  https://github.com/yt-dlp/yt-dlp/wiki/FAQ#how-do-i-pass-cookies-to-yt-dlp  for how to manually pass cookies. Also see  https://github.com/yt-dlp/yt-dlp/wiki/Extractors#exporting-youtube-cookies  for tips on effectively exporting YouTube cookies\n",
      " 94%|█████████▍| 462/491 [1:27:24<00:16,  1.74it/s]"
     ]
    },
    {
     "name": "stdout",
     "output_type": "stream",
     "text": [
      "[Attempt 1] Download error: ERROR: [youtube] ru0K8uYEZWw: Sign in to confirm you’re not a bot. Use --cookies-from-browser or --cookies for the authentication. See  https://github.com/yt-dlp/yt-dlp/wiki/FAQ#how-do-i-pass-cookies-to-yt-dlp  for how to manually pass cookies. Also see  https://github.com/yt-dlp/yt-dlp/wiki/Extractors#exporting-youtube-cookies  for tips on effectively exporting YouTube cookies\n",
      "[Attempt 2] Download error: ERROR: [youtube] DPtfsk4ETjM: Sign in to confirm you’re not a bot. Use --cookies-from-browser or --cookies for the authentication. See  https://github.com/yt-dlp/yt-dlp/wiki/FAQ#how-do-i-pass-cookies-to-yt-dlp  for how to manually pass cookies. Also see  https://github.com/yt-dlp/yt-dlp/wiki/Extractors#exporting-youtube-cookies  for tips on effectively exporting YouTube cookies\n",
      "Error indexing These Boots Are Made for Walkin' (ID 478): cannot unpack non-iterable NoneType object\n",
      "Downloading audio from https://www.youtube.com/watch?v=gA-NDZb29I4...\n"
     ]
    },
    {
     "name": "stderr",
     "output_type": "stream",
     "text": [
      "ERROR: [youtube] VWl7WjAtBME: Sign in to confirm you’re not a bot. Use --cookies-from-browser or --cookies for the authentication. See  https://github.com/yt-dlp/yt-dlp/wiki/FAQ#how-do-i-pass-cookies-to-yt-dlp  for how to manually pass cookies. Also see  https://github.com/yt-dlp/yt-dlp/wiki/Extractors#exporting-youtube-cookies  for tips on effectively exporting YouTube cookies\n",
      " 94%|█████████▍| 463/491 [1:27:25<00:16,  1.71it/s]ERROR: [youtube] DksSPZTZES0: Sign in to confirm you’re not a bot. Use --cookies-from-browser or --cookies for the authentication. See  https://github.com/yt-dlp/yt-dlp/wiki/FAQ#how-do-i-pass-cookies-to-yt-dlp  for how to manually pass cookies. Also see  https://github.com/yt-dlp/yt-dlp/wiki/Extractors#exporting-youtube-cookies  for tips on effectively exporting YouTube cookies\n"
     ]
    },
    {
     "name": "stdout",
     "output_type": "stream",
     "text": [
      "[Attempt 2] Download error: ERROR: [youtube] VWl7WjAtBME: Sign in to confirm you’re not a bot. Use --cookies-from-browser or --cookies for the authentication. See  https://github.com/yt-dlp/yt-dlp/wiki/FAQ#how-do-i-pass-cookies-to-yt-dlp  for how to manually pass cookies. Also see  https://github.com/yt-dlp/yt-dlp/wiki/Extractors#exporting-youtube-cookies  for tips on effectively exporting YouTube cookies\n",
      "Error indexing With You (ID 479): cannot unpack non-iterable NoneType object\n",
      "Downloading audio from https://www.youtube.com/watch?v=IthFGX3sKec...\n",
      "[Attempt 1] Download error: ERROR: [youtube] DksSPZTZES0: Sign in to confirm you’re not a bot. Use --cookies-from-browser or --cookies for the authentication. See  https://github.com/yt-dlp/yt-dlp/wiki/FAQ#how-do-i-pass-cookies-to-yt-dlp  for how to manually pass cookies. Also see  https://github.com/yt-dlp/yt-dlp/wiki/Extractors#exporting-youtube-cookies  for tips on effectively exporting YouTube cookies\n"
     ]
    },
    {
     "name": "stderr",
     "output_type": "stream",
     "text": [
      "ERROR: [youtube] ru0K8uYEZWw: Sign in to confirm you’re not a bot. Use --cookies-from-browser or --cookies for the authentication. See  https://github.com/yt-dlp/yt-dlp/wiki/FAQ#how-do-i-pass-cookies-to-yt-dlp  for how to manually pass cookies. Also see  https://github.com/yt-dlp/yt-dlp/wiki/Extractors#exporting-youtube-cookies  for tips on effectively exporting YouTube cookies\n",
      " 95%|█████████▍| 464/491 [1:27:25<00:13,  2.08it/s]"
     ]
    },
    {
     "name": "stdout",
     "output_type": "stream",
     "text": [
      "[Attempt 2] Download error: ERROR: [youtube] ru0K8uYEZWw: Sign in to confirm you’re not a bot. Use --cookies-from-browser or --cookies for the authentication. See  https://github.com/yt-dlp/yt-dlp/wiki/FAQ#how-do-i-pass-cookies-to-yt-dlp  for how to manually pass cookies. Also see  https://github.com/yt-dlp/yt-dlp/wiki/Extractors#exporting-youtube-cookies  for tips on effectively exporting YouTube cookies\n",
      "Error indexing CAN'T STOP THE FEELING! (from DreamWorks Animation's \"TROLLS\") (ID 480): cannot unpack non-iterable NoneType object\n",
      "Downloading audio from https://www.youtube.com/watch?v=FQ3slUz7Jo8...\n"
     ]
    },
    {
     "name": "stderr",
     "output_type": "stream",
     "text": [
      "ERROR: [youtube] gA-NDZb29I4: Sign in to confirm you’re not a bot. Use --cookies-from-browser or --cookies for the authentication. See  https://github.com/yt-dlp/yt-dlp/wiki/FAQ#how-do-i-pass-cookies-to-yt-dlp  for how to manually pass cookies. Also see  https://github.com/yt-dlp/yt-dlp/wiki/Extractors#exporting-youtube-cookies  for tips on effectively exporting YouTube cookies\n"
     ]
    },
    {
     "name": "stdout",
     "output_type": "stream",
     "text": [
      "[Attempt 1] Download error: ERROR: [youtube] gA-NDZb29I4: Sign in to confirm you’re not a bot. Use --cookies-from-browser or --cookies for the authentication. See  https://github.com/yt-dlp/yt-dlp/wiki/FAQ#how-do-i-pass-cookies-to-yt-dlp  for how to manually pass cookies. Also see  https://github.com/yt-dlp/yt-dlp/wiki/Extractors#exporting-youtube-cookies  for tips on effectively exporting YouTube cookies\n"
     ]
    },
    {
     "name": "stderr",
     "output_type": "stream",
     "text": [
      "ERROR: [youtube] IthFGX3sKec: Sign in to confirm you’re not a bot. Use --cookies-from-browser or --cookies for the authentication. See  https://github.com/yt-dlp/yt-dlp/wiki/FAQ#how-do-i-pass-cookies-to-yt-dlp  for how to manually pass cookies. Also see  https://github.com/yt-dlp/yt-dlp/wiki/Extractors#exporting-youtube-cookies  for tips on effectively exporting YouTube cookies\n",
      "ERROR: [youtube] DksSPZTZES0: Sign in to confirm you’re not a bot. Use --cookies-from-browser or --cookies for the authentication. See  https://github.com/yt-dlp/yt-dlp/wiki/FAQ#how-do-i-pass-cookies-to-yt-dlp  for how to manually pass cookies. Also see  https://github.com/yt-dlp/yt-dlp/wiki/Extractors#exporting-youtube-cookies  for tips on effectively exporting YouTube cookies\n",
      " 95%|█████████▍| 465/491 [1:27:26<00:16,  1.57it/s]"
     ]
    },
    {
     "name": "stdout",
     "output_type": "stream",
     "text": [
      "[Attempt 1] Download error: ERROR: [youtube] IthFGX3sKec: Sign in to confirm you’re not a bot. Use --cookies-from-browser or --cookies for the authentication. See  https://github.com/yt-dlp/yt-dlp/wiki/FAQ#how-do-i-pass-cookies-to-yt-dlp  for how to manually pass cookies. Also see  https://github.com/yt-dlp/yt-dlp/wiki/Extractors#exporting-youtube-cookies  for tips on effectively exporting YouTube cookies\n",
      "[Attempt 2] Download error: ERROR: [youtube] DksSPZTZES0: Sign in to confirm you’re not a bot. Use --cookies-from-browser or --cookies for the authentication. See  https://github.com/yt-dlp/yt-dlp/wiki/FAQ#how-do-i-pass-cookies-to-yt-dlp  for how to manually pass cookies. Also see  https://github.com/yt-dlp/yt-dlp/wiki/Extractors#exporting-youtube-cookies  for tips on effectively exporting YouTube cookies\n",
      "Error indexing Cry Me a River (ID 481): cannot unpack non-iterable NoneType object\n",
      "Downloading audio from https://www.youtube.com/watch?v=-_ED5aLbp4I...\n"
     ]
    },
    {
     "name": "stderr",
     "output_type": "stream",
     "text": [
      "ERROR: [youtube] FQ3slUz7Jo8: Sign in to confirm you’re not a bot. Use --cookies-from-browser or --cookies for the authentication. See  https://github.com/yt-dlp/yt-dlp/wiki/FAQ#how-do-i-pass-cookies-to-yt-dlp  for how to manually pass cookies. Also see  https://github.com/yt-dlp/yt-dlp/wiki/Extractors#exporting-youtube-cookies  for tips on effectively exporting YouTube cookies\n"
     ]
    },
    {
     "name": "stdout",
     "output_type": "stream",
     "text": [
      "[Attempt 1] Download error: ERROR: [youtube] FQ3slUz7Jo8: Sign in to confirm you’re not a bot. Use --cookies-from-browser or --cookies for the authentication. See  https://github.com/yt-dlp/yt-dlp/wiki/FAQ#how-do-i-pass-cookies-to-yt-dlp  for how to manually pass cookies. Also see  https://github.com/yt-dlp/yt-dlp/wiki/Extractors#exporting-youtube-cookies  for tips on effectively exporting YouTube cookies\n"
     ]
    },
    {
     "name": "stderr",
     "output_type": "stream",
     "text": [
      "ERROR: [youtube] gA-NDZb29I4: Sign in to confirm you’re not a bot. Use --cookies-from-browser or --cookies for the authentication. See  https://github.com/yt-dlp/yt-dlp/wiki/FAQ#how-do-i-pass-cookies-to-yt-dlp  for how to manually pass cookies. Also see  https://github.com/yt-dlp/yt-dlp/wiki/Extractors#exporting-youtube-cookies  for tips on effectively exporting YouTube cookies\n",
      " 95%|█████████▍| 466/491 [1:27:26<00:16,  1.56it/s]"
     ]
    },
    {
     "name": "stdout",
     "output_type": "stream",
     "text": [
      "[Attempt 2] Download error: ERROR: [youtube] gA-NDZb29I4: Sign in to confirm you’re not a bot. Use --cookies-from-browser or --cookies for the authentication. See  https://github.com/yt-dlp/yt-dlp/wiki/FAQ#how-do-i-pass-cookies-to-yt-dlp  for how to manually pass cookies. Also see  https://github.com/yt-dlp/yt-dlp/wiki/Extractors#exporting-youtube-cookies  for tips on effectively exporting YouTube cookies\n",
      "Error indexing Filthy (ID 482): cannot unpack non-iterable NoneType object\n",
      "Downloading audio from https://www.youtube.com/watch?v=uuZE_IRwLNI...\n"
     ]
    },
    {
     "name": "stderr",
     "output_type": "stream",
     "text": [
      "ERROR: [youtube] -_ED5aLbp4I: Sign in to confirm you’re not a bot. Use --cookies-from-browser or --cookies for the authentication. See  https://github.com/yt-dlp/yt-dlp/wiki/FAQ#how-do-i-pass-cookies-to-yt-dlp  for how to manually pass cookies. Also see  https://github.com/yt-dlp/yt-dlp/wiki/Extractors#exporting-youtube-cookies  for tips on effectively exporting YouTube cookies\n",
      "ERROR: [youtube] IthFGX3sKec: Sign in to confirm you’re not a bot. Use --cookies-from-browser or --cookies for the authentication. See  https://github.com/yt-dlp/yt-dlp/wiki/FAQ#how-do-i-pass-cookies-to-yt-dlp  for how to manually pass cookies. Also see  https://github.com/yt-dlp/yt-dlp/wiki/Extractors#exporting-youtube-cookies  for tips on effectively exporting YouTube cookies\n",
      " 95%|█████████▌| 467/491 [1:27:27<00:13,  1.75it/s]"
     ]
    },
    {
     "name": "stdout",
     "output_type": "stream",
     "text": [
      "[Attempt 1] Download error: ERROR: [youtube] -_ED5aLbp4I: Sign in to confirm you’re not a bot. Use --cookies-from-browser or --cookies for the authentication. See  https://github.com/yt-dlp/yt-dlp/wiki/FAQ#how-do-i-pass-cookies-to-yt-dlp  for how to manually pass cookies. Also see  https://github.com/yt-dlp/yt-dlp/wiki/Extractors#exporting-youtube-cookies  for tips on effectively exporting YouTube cookies\n",
      "[Attempt 2] Download error: ERROR: [youtube] IthFGX3sKec: Sign in to confirm you’re not a bot. Use --cookies-from-browser or --cookies for the authentication. See  https://github.com/yt-dlp/yt-dlp/wiki/FAQ#how-do-i-pass-cookies-to-yt-dlp  for how to manually pass cookies. Also see  https://github.com/yt-dlp/yt-dlp/wiki/Extractors#exporting-youtube-cookies  for tips on effectively exporting YouTube cookies\n",
      "Error indexing FutureSex / LoveSound (ID 483): cannot unpack non-iterable NoneType object\n",
      "Downloading audio from https://www.youtube.com/watch?v=I66vmchI_uU...\n"
     ]
    },
    {
     "name": "stderr",
     "output_type": "stream",
     "text": [
      "ERROR: [youtube] FQ3slUz7Jo8: Sign in to confirm you’re not a bot. Use --cookies-from-browser or --cookies for the authentication. See  https://github.com/yt-dlp/yt-dlp/wiki/FAQ#how-do-i-pass-cookies-to-yt-dlp  for how to manually pass cookies. Also see  https://github.com/yt-dlp/yt-dlp/wiki/Extractors#exporting-youtube-cookies  for tips on effectively exporting YouTube cookies\n",
      " 95%|█████████▌| 468/491 [1:27:27<00:11,  2.03it/s]ERROR: [youtube] uuZE_IRwLNI: Sign in to confirm you’re not a bot. Use --cookies-from-browser or --cookies for the authentication. See  https://github.com/yt-dlp/yt-dlp/wiki/FAQ#how-do-i-pass-cookies-to-yt-dlp  for how to manually pass cookies. Also see  https://github.com/yt-dlp/yt-dlp/wiki/Extractors#exporting-youtube-cookies  for tips on effectively exporting YouTube cookies\n"
     ]
    },
    {
     "name": "stdout",
     "output_type": "stream",
     "text": [
      "[Attempt 2] Download error: ERROR: [youtube] FQ3slUz7Jo8: Sign in to confirm you’re not a bot. Use --cookies-from-browser or --cookies for the authentication. See  https://github.com/yt-dlp/yt-dlp/wiki/FAQ#how-do-i-pass-cookies-to-yt-dlp  for how to manually pass cookies. Also see  https://github.com/yt-dlp/yt-dlp/wiki/Extractors#exporting-youtube-cookies  for tips on effectively exporting YouTube cookies\n",
      "Error indexing Like I Love You (ID 484): cannot unpack non-iterable NoneType object\n",
      "Downloading audio from https://www.youtube.com/watch?v=TSVHoHyErBQ...\n",
      "[Attempt 1] Download error: ERROR: [youtube] uuZE_IRwLNI: Sign in to confirm you’re not a bot. Use --cookies-from-browser or --cookies for the authentication. See  https://github.com/yt-dlp/yt-dlp/wiki/FAQ#how-do-i-pass-cookies-to-yt-dlp  for how to manually pass cookies. Also see  https://github.com/yt-dlp/yt-dlp/wiki/Extractors#exporting-youtube-cookies  for tips on effectively exporting YouTube cookies\n"
     ]
    },
    {
     "name": "stderr",
     "output_type": "stream",
     "text": [
      "ERROR: [youtube] -_ED5aLbp4I: Sign in to confirm you’re not a bot. Use --cookies-from-browser or --cookies for the authentication. See  https://github.com/yt-dlp/yt-dlp/wiki/FAQ#how-do-i-pass-cookies-to-yt-dlp  for how to manually pass cookies. Also see  https://github.com/yt-dlp/yt-dlp/wiki/Extractors#exporting-youtube-cookies  for tips on effectively exporting YouTube cookies\n",
      " 96%|█████████▌| 469/491 [1:27:28<00:11,  1.93it/s]ERROR: [youtube] I66vmchI_uU: Sign in to confirm you’re not a bot. Use --cookies-from-browser or --cookies for the authentication. See  https://github.com/yt-dlp/yt-dlp/wiki/FAQ#how-do-i-pass-cookies-to-yt-dlp  for how to manually pass cookies. Also see  https://github.com/yt-dlp/yt-dlp/wiki/Extractors#exporting-youtube-cookies  for tips on effectively exporting YouTube cookies\n"
     ]
    },
    {
     "name": "stdout",
     "output_type": "stream",
     "text": [
      "[Attempt 2] Download error: ERROR: [youtube] -_ED5aLbp4I: Sign in to confirm you’re not a bot. Use --cookies-from-browser or --cookies for the authentication. See  https://github.com/yt-dlp/yt-dlp/wiki/FAQ#how-do-i-pass-cookies-to-yt-dlp  for how to manually pass cookies. Also see  https://github.com/yt-dlp/yt-dlp/wiki/Extractors#exporting-youtube-cookies  for tips on effectively exporting YouTube cookies\n",
      "Error indexing LoveStoned / I Think She Knows - Radio Edit (ID 485): cannot unpack non-iterable NoneType object\n",
      "Downloading audio from https://www.youtube.com/watch?v=nJHYDkvRB2Y...\n",
      "[Attempt 1] Download error: ERROR: [youtube] I66vmchI_uU: Sign in to confirm you’re not a bot. Use --cookies-from-browser or --cookies for the authentication. See  https://github.com/yt-dlp/yt-dlp/wiki/FAQ#how-do-i-pass-cookies-to-yt-dlp  for how to manually pass cookies. Also see  https://github.com/yt-dlp/yt-dlp/wiki/Extractors#exporting-youtube-cookies  for tips on effectively exporting YouTube cookies\n"
     ]
    },
    {
     "name": "stderr",
     "output_type": "stream",
     "text": [
      "ERROR: [youtube] TSVHoHyErBQ: Sign in to confirm you’re not a bot. Use --cookies-from-browser or --cookies for the authentication. See  https://github.com/yt-dlp/yt-dlp/wiki/FAQ#how-do-i-pass-cookies-to-yt-dlp  for how to manually pass cookies. Also see  https://github.com/yt-dlp/yt-dlp/wiki/Extractors#exporting-youtube-cookies  for tips on effectively exporting YouTube cookies\n"
     ]
    },
    {
     "name": "stdout",
     "output_type": "stream",
     "text": [
      "[Attempt 1] Download error: ERROR: [youtube] TSVHoHyErBQ: Sign in to confirm you’re not a bot. Use --cookies-from-browser or --cookies for the authentication. See  https://github.com/yt-dlp/yt-dlp/wiki/FAQ#how-do-i-pass-cookies-to-yt-dlp  for how to manually pass cookies. Also see  https://github.com/yt-dlp/yt-dlp/wiki/Extractors#exporting-youtube-cookies  for tips on effectively exporting YouTube cookies\n"
     ]
    },
    {
     "name": "stderr",
     "output_type": "stream",
     "text": [
      "ERROR: [youtube] uuZE_IRwLNI: Sign in to confirm you’re not a bot. Use --cookies-from-browser or --cookies for the authentication. See  https://github.com/yt-dlp/yt-dlp/wiki/FAQ#how-do-i-pass-cookies-to-yt-dlp  for how to manually pass cookies. Also see  https://github.com/yt-dlp/yt-dlp/wiki/Extractors#exporting-youtube-cookies  for tips on effectively exporting YouTube cookies\n",
      " 96%|█████████▌| 470/491 [1:27:28<00:11,  1.80it/s]"
     ]
    },
    {
     "name": "stdout",
     "output_type": "stream",
     "text": [
      "[Attempt 2] Download error: ERROR: [youtube] uuZE_IRwLNI: Sign in to confirm you’re not a bot. Use --cookies-from-browser or --cookies for the authentication. See  https://github.com/yt-dlp/yt-dlp/wiki/FAQ#how-do-i-pass-cookies-to-yt-dlp  for how to manually pass cookies. Also see  https://github.com/yt-dlp/yt-dlp/wiki/Extractors#exporting-youtube-cookies  for tips on effectively exporting YouTube cookies\n",
      "Error indexing Mirrors (ID 486): cannot unpack non-iterable NoneType object\n",
      "Downloading audio from https://www.youtube.com/watch?v=NxJ7O0CGzO8...\n"
     ]
    },
    {
     "name": "stderr",
     "output_type": "stream",
     "text": [
      "ERROR: [youtube] I66vmchI_uU: Sign in to confirm you’re not a bot. Use --cookies-from-browser or --cookies for the authentication. See  https://github.com/yt-dlp/yt-dlp/wiki/FAQ#how-do-i-pass-cookies-to-yt-dlp  for how to manually pass cookies. Also see  https://github.com/yt-dlp/yt-dlp/wiki/Extractors#exporting-youtube-cookies  for tips on effectively exporting YouTube cookies\n",
      " 96%|█████████▌| 471/491 [1:27:29<00:10,  1.91it/s]ERROR: [youtube] nJHYDkvRB2Y: Sign in to confirm you’re not a bot. Use --cookies-from-browser or --cookies for the authentication. See  https://github.com/yt-dlp/yt-dlp/wiki/FAQ#how-do-i-pass-cookies-to-yt-dlp  for how to manually pass cookies. Also see  https://github.com/yt-dlp/yt-dlp/wiki/Extractors#exporting-youtube-cookies  for tips on effectively exporting YouTube cookies\n"
     ]
    },
    {
     "name": "stdout",
     "output_type": "stream",
     "text": [
      "[Attempt 2] Download error: ERROR: [youtube] I66vmchI_uU: Sign in to confirm you’re not a bot. Use --cookies-from-browser or --cookies for the authentication. See  https://github.com/yt-dlp/yt-dlp/wiki/FAQ#how-do-i-pass-cookies-to-yt-dlp  for how to manually pass cookies. Also see  https://github.com/yt-dlp/yt-dlp/wiki/Extractors#exporting-youtube-cookies  for tips on effectively exporting YouTube cookies\n",
      "Error indexing Mirrors - Radio Edit (ID 487): cannot unpack non-iterable NoneType object\n",
      "Downloading audio from https://www.youtube.com/watch?v=-rjhH3SMQ-0...\n",
      "[Attempt 1] Download error: ERROR: [youtube] nJHYDkvRB2Y: Sign in to confirm you’re not a bot. Use --cookies-from-browser or --cookies for the authentication. See  https://github.com/yt-dlp/yt-dlp/wiki/FAQ#how-do-i-pass-cookies-to-yt-dlp  for how to manually pass cookies. Also see  https://github.com/yt-dlp/yt-dlp/wiki/Extractors#exporting-youtube-cookies  for tips on effectively exporting YouTube cookies\n"
     ]
    },
    {
     "name": "stderr",
     "output_type": "stream",
     "text": [
      "ERROR: [youtube] TSVHoHyErBQ: Sign in to confirm you’re not a bot. Use --cookies-from-browser or --cookies for the authentication. See  https://github.com/yt-dlp/yt-dlp/wiki/FAQ#how-do-i-pass-cookies-to-yt-dlp  for how to manually pass cookies. Also see  https://github.com/yt-dlp/yt-dlp/wiki/Extractors#exporting-youtube-cookies  for tips on effectively exporting YouTube cookies\n",
      " 96%|█████████▌| 472/491 [1:27:29<00:08,  2.11it/s]ERROR: [youtube] NxJ7O0CGzO8: Sign in to confirm you’re not a bot. Use --cookies-from-browser or --cookies for the authentication. See  https://github.com/yt-dlp/yt-dlp/wiki/FAQ#how-do-i-pass-cookies-to-yt-dlp  for how to manually pass cookies. Also see  https://github.com/yt-dlp/yt-dlp/wiki/Extractors#exporting-youtube-cookies  for tips on effectively exporting YouTube cookies\n"
     ]
    },
    {
     "name": "stdout",
     "output_type": "stream",
     "text": [
      "[Attempt 2] Download error: ERROR: [youtube] TSVHoHyErBQ: Sign in to confirm you’re not a bot. Use --cookies-from-browser or --cookies for the authentication. See  https://github.com/yt-dlp/yt-dlp/wiki/FAQ#how-do-i-pass-cookies-to-yt-dlp  for how to manually pass cookies. Also see  https://github.com/yt-dlp/yt-dlp/wiki/Extractors#exporting-youtube-cookies  for tips on effectively exporting YouTube cookies\n",
      "Error indexing Rock Your Body (ID 488): cannot unpack non-iterable NoneType object\n",
      "[Attempt 1] Download error: ERROR: [youtube] NxJ7O0CGzO8: Sign in to confirm you’re not a bot. Use --cookies-from-browser or --cookies for the authentication. See  https://github.com/yt-dlp/yt-dlp/wiki/FAQ#how-do-i-pass-cookies-to-yt-dlp  for how to manually pass cookies. Also see  https://github.com/yt-dlp/yt-dlp/wiki/Extractors#exporting-youtube-cookies  for tips on effectively exporting YouTube cookies\n"
     ]
    },
    {
     "name": "stderr",
     "output_type": "stream",
     "text": [
      "ERROR: [youtube] -rjhH3SMQ-0: Sign in to confirm you’re not a bot. Use --cookies-from-browser or --cookies for the authentication. See  https://github.com/yt-dlp/yt-dlp/wiki/FAQ#how-do-i-pass-cookies-to-yt-dlp  for how to manually pass cookies. Also see  https://github.com/yt-dlp/yt-dlp/wiki/Extractors#exporting-youtube-cookies  for tips on effectively exporting YouTube cookies\n",
      "ERROR: [youtube] nJHYDkvRB2Y: Sign in to confirm you’re not a bot. Use --cookies-from-browser or --cookies for the authentication. See  https://github.com/yt-dlp/yt-dlp/wiki/FAQ#how-do-i-pass-cookies-to-yt-dlp  for how to manually pass cookies. Also see  https://github.com/yt-dlp/yt-dlp/wiki/Extractors#exporting-youtube-cookies  for tips on effectively exporting YouTube cookies\n",
      " 96%|█████████▋| 473/491 [1:27:30<00:10,  1.73it/s]"
     ]
    },
    {
     "name": "stdout",
     "output_type": "stream",
     "text": [
      "[Attempt 1] Download error: ERROR: [youtube] -rjhH3SMQ-0: Sign in to confirm you’re not a bot. Use --cookies-from-browser or --cookies for the authentication. See  https://github.com/yt-dlp/yt-dlp/wiki/FAQ#how-do-i-pass-cookies-to-yt-dlp  for how to manually pass cookies. Also see  https://github.com/yt-dlp/yt-dlp/wiki/Extractors#exporting-youtube-cookies  for tips on effectively exporting YouTube cookies\n",
      "[Attempt 2] Download error: ERROR: [youtube] nJHYDkvRB2Y: Sign in to confirm you’re not a bot. Use --cookies-from-browser or --cookies for the authentication. See  https://github.com/yt-dlp/yt-dlp/wiki/FAQ#how-do-i-pass-cookies-to-yt-dlp  for how to manually pass cookies. Also see  https://github.com/yt-dlp/yt-dlp/wiki/Extractors#exporting-youtube-cookies  for tips on effectively exporting YouTube cookies\n",
      "Error indexing Señorita (ID 489): cannot unpack non-iterable NoneType object\n"
     ]
    },
    {
     "name": "stderr",
     "output_type": "stream",
     "text": [
      "ERROR: [youtube] NxJ7O0CGzO8: Sign in to confirm you’re not a bot. Use --cookies-from-browser or --cookies for the authentication. See  https://github.com/yt-dlp/yt-dlp/wiki/FAQ#how-do-i-pass-cookies-to-yt-dlp  for how to manually pass cookies. Also see  https://github.com/yt-dlp/yt-dlp/wiki/Extractors#exporting-youtube-cookies  for tips on effectively exporting YouTube cookies\n",
      " 97%|█████████▋| 474/491 [1:27:31<00:09,  1.72it/s]"
     ]
    },
    {
     "name": "stdout",
     "output_type": "stream",
     "text": [
      "[Attempt 2] Download error: ERROR: [youtube] NxJ7O0CGzO8: Sign in to confirm you’re not a bot. Use --cookies-from-browser or --cookies for the authentication. See  https://github.com/yt-dlp/yt-dlp/wiki/FAQ#how-do-i-pass-cookies-to-yt-dlp  for how to manually pass cookies. Also see  https://github.com/yt-dlp/yt-dlp/wiki/Extractors#exporting-youtube-cookies  for tips on effectively exporting YouTube cookies\n",
      "Error indexing SoulMate (ID 490): cannot unpack non-iterable NoneType object\n"
     ]
    },
    {
     "name": "stderr",
     "output_type": "stream",
     "text": [
      "ERROR: [youtube] -rjhH3SMQ-0: Sign in to confirm you’re not a bot. Use --cookies-from-browser or --cookies for the authentication. See  https://github.com/yt-dlp/yt-dlp/wiki/FAQ#how-do-i-pass-cookies-to-yt-dlp  for how to manually pass cookies. Also see  https://github.com/yt-dlp/yt-dlp/wiki/Extractors#exporting-youtube-cookies  for tips on effectively exporting YouTube cookies\n",
      " 97%|█████████▋| 475/491 [1:27:31<00:07,  2.02it/s]"
     ]
    },
    {
     "name": "stdout",
     "output_type": "stream",
     "text": [
      "[Attempt 2] Download error: ERROR: [youtube] -rjhH3SMQ-0: Sign in to confirm you’re not a bot. Use --cookies-from-browser or --cookies for the authentication. See  https://github.com/yt-dlp/yt-dlp/wiki/FAQ#how-do-i-pass-cookies-to-yt-dlp  for how to manually pass cookies. Also see  https://github.com/yt-dlp/yt-dlp/wiki/Extractors#exporting-youtube-cookies  for tips on effectively exporting YouTube cookies\n",
      "Error indexing Summer Love (ID 491): cannot unpack non-iterable NoneType object\n"
     ]
    },
    {
     "name": "stderr",
     "output_type": "stream",
     "text": [
      "100%|██████████| 491/491 [1:32:20<00:00, 11.28s/it]\n"
     ]
    },
    {
     "data": {
      "text/plain": [
       "<src.abracadabra.GCPFingerprintDB.GCPFingerprintDB at 0x7bc47971b910>"
      ]
     },
     "execution_count": 1,
     "metadata": {},
     "output_type": "execute_result"
    }
   ],
   "execution_count": 1
  },
  {
   "metadata": {
    "ExecuteTime": {
     "end_time": "2025-06-03T22:50:44.940928Z",
     "start_time": "2025-06-03T21:43:39.922723Z"
    }
   },
   "cell_type": "code",
   "source": [
    "from src.abracadabra.recognize import index_all_songs\n",
    "index_all_songs(db_type=\"gcp\", skip_duplicates=True)"
   ],
   "id": "7977faf723e4f3e4",
   "outputs": [
    {
     "name": "stdout",
     "output_type": "stream",
     "text": [
      "Skipping In Da Club (ID 1) — already indexed.\n",
      "Skipping In Da Club - Single Version / Edit (ID 2) — already indexed.\n",
      "Skipping Just A Lil Bit (ID 3) — already indexed.\n",
      "Skipping P.I.M.P. (ID 4) — already indexed.\n",
      "Skipping Window Shopper (ID 5) — already indexed.\n",
      "Skipping Back In Black (ID 6) — already indexed.\n",
      "Skipping Dirty Deeds Done Dirt Cheap (ID 7) — already indexed.\n",
      "Skipping Heatseeker (ID 8) — already indexed.\n",
      "Skipping High Voltage (ID 9) — already indexed.\n",
      "Skipping Highway to Hell (ID 10) — already indexed.\n",
      "Skipping It's a Long Way to the Top (If You Wanna Rock 'N' Roll) (ID 11) — already indexed.\n",
      "Skipping Jailbreak (ID 12) — already indexed.\n",
      "Skipping Rock and Roll Ain't Noise Pollution (ID 13) — already indexed.\n",
      "Skipping Shoot to Thrill (ID 14) — already indexed.\n",
      "Skipping T.N.T. (ID 15) — already indexed.\n",
      "Skipping Thunderstruck (ID 16) — already indexed.\n",
      "Skipping Who Made Who (ID 17) — already indexed.\n",
      "Skipping You Shook Me All Night Long (ID 18) — already indexed.\n",
      "Skipping Chasing Pavements (ID 19) — already indexed.\n",
      "Skipping Don't You Remember (ID 20) — already indexed.\n",
      "Skipping Easy On Me (ID 21) — already indexed.\n",
      "Skipping He Won't Go (ID 22) — already indexed.\n",
      "Skipping Hello (ID 23) — already indexed.\n",
      "Skipping Love In The Dark (ID 24) — already indexed.\n",
      "Skipping Make You Feel My Love (ID 25) — already indexed.\n",
      "Skipping Million Years Ago (ID 26) — already indexed.\n",
      "Skipping One and Only (ID 27) — already indexed.\n",
      "Skipping Remedy (ID 28) — already indexed.\n",
      "Skipping Rolling in the Deep (ID 29) — already indexed.\n",
      "Skipping Rumour Has It (ID 30) — already indexed.\n",
      "Skipping Send My Love (To Your New Lover) (ID 31) — already indexed.\n",
      "Skipping Set Fire to the Rain (ID 32) — already indexed.\n",
      "Skipping Skyfall (ID 33) — already indexed.\n",
      "Skipping Someone Like You (ID 34) — already indexed.\n",
      "Skipping Sweetest Devotion (ID 35) — already indexed.\n",
      "Skipping Take It All (ID 36) — already indexed.\n",
      "Skipping Turning Tables (ID 37) — already indexed.\n",
      "Skipping Water Under The Bridge (ID 38) — already indexed.\n",
      "Skipping When We Were Young (ID 39) — already indexed.\n",
      "Skipping Alone (ID 40) — already indexed.\n",
      "Skipping Faded (ID 41) — already indexed.\n",
      "Skipping Brand New Me (ID 42) — already indexed.\n",
      "Skipping Doesn't Mean Anything (ID 43) — already indexed.\n",
      "Skipping Empire State of Mind (Part II) Broken Down (ID 44) — already indexed.\n",
      "Skipping Fallin' (ID 45) — already indexed.\n",
      "Skipping Girl On Fire (ID 46) — already indexed.\n",
      "Skipping Hallelujah (ID 47) — already indexed.\n",
      "Skipping Holy War (ID 48) — already indexed.\n",
      "Skipping If I Ain't Got You (ID 49) — already indexed.\n",
      "Skipping More Than We Know (ID 50) — already indexed.\n",
      "Skipping No One (ID 51) — already indexed.\n",
      "Skipping One Thing (ID 52) — already indexed.\n",
      "Skipping Superwoman (ID 53) — already indexed.\n",
      "Skipping Tears Always Win (ID 54) — already indexed.\n",
      "Skipping Work On It (ID 55) — already indexed.\n",
      "Skipping No More \"I Love You's\" (ID 56) — already indexed.\n",
      "Skipping Arabella (ID 57) — already indexed.\n",
      "Skipping Do I Wanna Know? (ID 58) — already indexed.\n",
      "Skipping I Bet You Look Good On The Dancefloor (ID 59) — already indexed.\n",
      "Skipping Why'd You Only Call Me When You're High? (ID 60) — already indexed.\n",
      "Skipping Addicted To You (ID 61) — already indexed.\n",
      "Skipping Broken Arrows (ID 62) — already indexed.\n",
      "Skipping Fade Into Darkness - Vocal Radio Mix (ID 63) — already indexed.\n",
      "Skipping For A Better Day (ID 64) — already indexed.\n",
      "Skipping Heaven (ID 65) — already indexed.\n",
      "Skipping Hey Brother (ID 66) — already indexed.\n",
      "Skipping Levels - Radio Edit (ID 67) — already indexed.\n",
      "Skipping Silhouettes - Original Radio Edit (ID 68) — already indexed.\n",
      "Skipping The Nights (ID 69) — already indexed.\n",
      "Skipping Waiting For Love (ID 70) — already indexed.\n",
      "Skipping Wake Me Up (ID 71) — already indexed.\n",
      "Skipping Wake Me Up - Radio Edit (ID 72) — already indexed.\n",
      "Skipping You Make Me (ID 73) — already indexed.\n",
      "Skipping Butter (ID 74) — already indexed.\n",
      "Skipping Dynamite (ID 75) — already indexed.\n",
      "Skipping BREAK MY SOUL (ID 76) — already indexed.\n",
      "Skipping Best Thing I Never Had (ID 77) — already indexed.\n",
      "Skipping Broken-Hearted Girl (ID 78) — already indexed.\n",
      "Skipping Halo (ID 79) — already indexed.\n",
      "Skipping Hold Up (ID 80) — already indexed.\n",
      "Skipping If I Were a Boy (ID 81) — already indexed.\n",
      "Skipping Irreplaceable (ID 82) — already indexed.\n",
      "Skipping Love On Top (ID 83) — already indexed.\n",
      "Skipping Naughty Girl (ID 84) — already indexed.\n",
      "Skipping Run the World (Girls) (ID 85) — already indexed.\n",
      "Skipping Single Ladies (Put a Ring on It) (ID 86) — already indexed.\n",
      "Skipping Sweet Dreams (ID 87) — already indexed.\n",
      "Skipping XO (ID 88) — already indexed.\n",
      "Skipping Lost Cause (ID 89) — already indexed.\n",
      "Skipping NDA (ID 90) — already indexed.\n",
      "Skipping Therefore I Am (ID 91) — already indexed.\n",
      "Skipping Your Power (ID 92) — already indexed.\n",
      "Skipping all the good girls go to hell (ID 93) — already indexed.\n",
      "Skipping bad guy (ID 94) — already indexed.\n",
      "Skipping bury a friend (ID 95) — already indexed.\n",
      "Skipping everything i wanted (ID 96) — already indexed.\n",
      "Skipping when the party's over (ID 97) — already indexed.\n",
      "Skipping wish you were gay (ID 98) — already indexed.\n",
      "Skipping BIG LOVE (ID 99) — already indexed.\n",
      "Skipping Boom Boom Pow (ID 100) — already indexed.\n",
      "Skipping Don't Lie (ID 101) — already indexed.\n",
      "Skipping Don't Phunk With My Heart (ID 102) — already indexed.\n",
      "Skipping Don’t Stop The Party (ID 103) — already indexed.\n",
      "Skipping Hey Mama (ID 104) — already indexed.\n",
      "Skipping I Gotta Feeling (ID 105) — already indexed.\n",
      "Skipping Imma Be (ID 106) — already indexed.\n",
      "Skipping Just Can’t Get Enough (ID 107) — already indexed.\n",
      "Skipping In My Feelings (ID 258) — already indexed.\n",
      "Skipping Let's Get It Started (ID 108) — already indexed.\n",
      "Skipping Let's Get It Started - Spike Mix (ID 109) — already indexed.\n",
      "Skipping Meet Me Halfway (ID 110) — already indexed.\n",
      "Skipping My Humps (ID 111) — already indexed.\n",
      "Skipping Pump It (ID 112) — already indexed.\n",
      "Skipping Rock That Body (ID 113) — already indexed.\n",
      "Skipping Shut Up (ID 114) — already indexed.\n",
      "Skipping The Time (Dirty Bit) (ID 115) — already indexed.\n",
      "Skipping Where Is The Love? (ID 116) — already indexed.\n",
      "Skipping Blowin' in the Wind (ID 117) — already indexed.\n",
      "Skipping Forever Young - Fast Version (ID 118) — already indexed.\n",
      "Skipping Hurricane (ID 119) — already indexed.\n",
      "Skipping Knockin' On Heaven's Door (ID 120) — already indexed.\n",
      "Skipping Like a Rolling Stone (ID 121) — already indexed.\n",
      "Skipping Mr. Tambourine Man (ID 122) — already indexed.\n",
      "Skipping The Times They Are A-Changin' (ID 123) — already indexed.\n",
      "Skipping Always (ID 124) — already indexed.\n",
      "Skipping Bad Medicine (ID 125) — already indexed.\n",
      "Skipping Bed Of Roses (ID 126) — already indexed.\n",
      "Skipping Have A Nice Day (ID 127) — already indexed.\n",
      "Skipping I'll Be There For You (ID 128) — already indexed.\n",
      "Skipping In These Arms (ID 129) — already indexed.\n",
      "Skipping It's My Life (ID 130) — already indexed.\n",
      "Skipping Keep The Faith (ID 131) — already indexed.\n",
      "Skipping Livin' On A Prayer (ID 132) — already indexed.\n",
      "Skipping Say It Isn't So (ID 133) — already indexed.\n",
      "Skipping Shot Through The Heart (ID 134) — already indexed.\n",
      "Skipping This Ain't A Love Song (ID 135) — already indexed.\n",
      "Skipping Wanted Dead Or Alive (ID 136) — already indexed.\n",
      "Skipping You Give Love A Bad Name (ID 137) — already indexed.\n",
      "Skipping (You Drive Me) Crazy (ID 138) — already indexed.\n",
      "Skipping ...Baby One More Time (ID 139) — already indexed.\n",
      "Skipping 3 (ID 140) — already indexed.\n",
      "Skipping Circus (ID 141) — already indexed.\n",
      "Skipping Circus - Remastered (ID 142) — already indexed.\n",
      "Skipping Do Somethin' (ID 143) — already indexed.\n",
      "Skipping Everytime (ID 144) — already indexed.\n",
      "Skipping From the Bottom of My Broken Heart (ID 145) — already indexed.\n",
      "Skipping Gimme More (ID 146) — already indexed.\n",
      "Skipping Hold It Against Me (ID 147) — already indexed.\n",
      "Skipping I Love Rock 'N' Roll (ID 148) — already indexed.\n",
      "Skipping I'm Not a Girl, Not Yet a Woman (ID 149) — already indexed.\n",
      "Skipping I'm a Slave 4 U (ID 150) — already indexed.\n",
      "Skipping If U Seek Amy (ID 151) — already indexed.\n",
      "Skipping Lucky (ID 152) — already indexed.\n",
      "Skipping My Prerogative - Remastered (ID 153) — already indexed.\n",
      "Skipping Oops!...I Did It Again (ID 154) — already indexed.\n",
      "Skipping Piece of Me (ID 155) — already indexed.\n",
      "Skipping Sometimes (ID 156) — already indexed.\n",
      "Skipping Stronger (ID 157) — already indexed.\n",
      "Skipping Till the World Ends (ID 158) — already indexed.\n",
      "Skipping Toxic (ID 159) — already indexed.\n",
      "Skipping Womanizer (ID 160) — already indexed.\n",
      "Skipping 24K Magic (ID 161) — already indexed.\n",
      "Skipping Chunky (ID 162) — already indexed.\n",
      "Skipping Count on Me (ID 163) — already indexed.\n",
      "Skipping Grenade (ID 164) — already indexed.\n",
      "Skipping Grenade - Acoustic (ID 165) — already indexed.\n",
      "Skipping If I Knew (ID 166) — already indexed.\n",
      "Skipping It Will Rain (ID 167) — already indexed.\n",
      "Skipping Just the Way You Are (ID 168) — already indexed.\n",
      "Skipping Locked out of Heaven (ID 169) — already indexed.\n",
      "Skipping Marry You (ID 170) — already indexed.\n",
      "Skipping Talking to the Moon (ID 171) — already indexed.\n",
      "Skipping That's What I Like (ID 172) — already indexed.\n",
      "Skipping The Lazy Song (ID 173) — already indexed.\n",
      "Skipping Treasure (ID 174) — already indexed.\n",
      "Skipping Versace on the Floor (ID 175) — already indexed.\n",
      "Skipping When I Was Your Man (ID 176) — already indexed.\n",
      "Skipping (Everything I Do) I Do It For You (ID 177) — already indexed.\n",
      "Skipping Can't Stop This Thing We Started (ID 178) — already indexed.\n",
      "Skipping Have You Ever Really Loved A Woman? (ID 179) — already indexed.\n",
      "Skipping Heaven (ID 180) — already indexed.\n",
      "Skipping Let's Make A Night To Remember (ID 181) — already indexed.\n",
      "Skipping Please Forgive Me (ID 182) — already indexed.\n",
      "Skipping Run To You (ID 183) — already indexed.\n",
      "Skipping Summer Of '69 (ID 184) — already indexed.\n",
      "Skipping The Only Thing That Looks Good On Me Is You (ID 185) — already indexed.\n",
      "Skipping Thought I'd Died And Gone To Heaven (ID 186) — already indexed.\n",
      "Skipping Acceptable in the 80's (ID 187) — already indexed.\n",
      "Skipping Feel So Close - Radio Edit (ID 188) — already indexed.\n",
      "Skipping Flashback (ID 189) — already indexed.\n",
      "Skipping I'm Not Alone - Radio Edit (ID 190) — already indexed.\n",
      "Skipping My Way (ID 191) — already indexed.\n",
      "Skipping Ready for the Weekend (ID 192) — already indexed.\n",
      "Skipping Summer (ID 193) — already indexed.\n",
      "Skipping The Girls - Radio Edit (ID 194) — already indexed.\n",
      "Skipping You Used to Hold Me (ID 195) — already indexed.\n",
      "Skipping Don't Go Yet (ID 196) — already indexed.\n",
      "Skipping Never Be the Same (ID 197) — already indexed.\n",
      "Skipping Shameless (ID 198) — already indexed.\n",
      "Skipping Up (ID 199) — already indexed.\n",
      "Skipping Ain't No Other Man (ID 200) — already indexed.\n",
      "Skipping Beautiful (ID 201) — already indexed.\n",
      "Skipping Candyman (ID 202) — already indexed.\n",
      "Skipping Come on over Baby (All I Want Is You) - Radio Version (ID 203) — already indexed.\n",
      "Skipping Fighter (ID 204) — already indexed.\n",
      "Downloading audio from https://www.youtube.com/watch?v=kIDWgqDBNXA...\n",
      "Skipping Genie in a Bottle (ID 206) — already indexed.\n",
      "Skipping Hurt (ID 207) — already indexed.\n",
      "Skipping Impossible (ID 208) — already indexed.\n",
      "Skipping Keeps Gettin' Better (ID 209) — already indexed.\n",
      "Skipping What a Girl Wants (ID 210) — already indexed.\n",
      "Skipping A Sky Full of Stars (ID 211) — already indexed.\n",
      "Skipping Adventure of a Lifetime (ID 212) — already indexed.\n",
      "Skipping Charlie Brown (ID 213) — already indexed.\n",
      "Skipping Clocks (ID 214) — already indexed.\n",
      "Skipping Every Teardrop Is a Waterfall (ID 215) — already indexed.\n",
      "Skipping Fix You (ID 216) — already indexed.\n",
      "Skipping God Put a Smile upon Your Face (ID 217) — already indexed.\n",
      "Skipping Higher Power (ID 218) — already indexed.\n",
      "Skipping Hymn for the Weekend (ID 219) — already indexed.\n",
      "Skipping In My Place (ID 220) — already indexed.\n",
      "Skipping Life in Technicolor ii (ID 221) — already indexed.\n",
      "Skipping Lost! (ID 222) — already indexed.\n",
      "Skipping Lovers in Japan (ID 223) — already indexed.\n",
      "Skipping Magic (ID 224) — already indexed.\n",
      "Skipping Paradise (ID 225) — already indexed.\n",
      "Skipping Speed of Sound (ID 226) — already indexed.\n",
      "Skipping The Scientist (ID 227) — already indexed.\n",
      "Skipping Violet Hill (ID 228) — already indexed.\n",
      "Skipping Viva La Vida (ID 229) — already indexed.\n",
      "Skipping Yellow (ID 230) — already indexed.\n",
      "Skipping Gasolina (ID 231) — already indexed.\n",
      "Skipping Around the World (ID 232) — already indexed.\n",
      "Skipping Around the World - Radio Edit [Radio Edit] (ID 233) — already indexed.\n",
      "Skipping Da Funk - Radio Edit (ID 234) — already indexed.\n",
      "Skipping One More Time (ID 235) — already indexed.\n",
      "Skipping One More Time - Radio Edit [Short Radio Edit] (ID 236) — already indexed.\n",
      "Skipping Absolute Beginners - 2002 Remaster (ID 237) — already indexed.\n",
      "Skipping Ashes to Ashes - 2017 Remaster (ID 238) — already indexed.\n",
      "Skipping Cat People (Putting Out Fire) - 2018 Remaster (ID 239) — already indexed.\n",
      "Skipping Heroes - 2017 Remaster (ID 240) — already indexed.\n",
      "Skipping Let's Dance - Single Version, 2014 Remaster (ID 241) — already indexed.\n",
      "Skipping Modern Love - 1999 Remaster (ID 242) — already indexed.\n",
      "Skipping Rebel Rebel - 2016 Remaster (ID 243) — already indexed.\n",
      "Skipping Sorrow - 2015 Remaster (ID 244) — already indexed.\n",
      "Skipping Space Oddity - 2009 Remastered Version (ID 245) — already indexed.\n",
      "Skipping Space Oddity - 2015 Remaster (ID 246) — already indexed.\n",
      "Skipping Bang My Head (feat. Sia & Fetty Wap) (ID 247) — already indexed.\n",
      "Skipping Shot Me Down (feat. Skylar Grey) - Radio Edit (ID 248) — already indexed.\n",
      "Skipping This One's for You (feat. Zara Larsson) (Official Song UEFA EURO 2016) (ID 249) — already indexed.\n",
      "Skipping What I Did for Love (feat. Emeli Sandé) (ID 250) — already indexed.\n",
      "Skipping Where Them Girls At (feat. Nicki Minaj & Flo Rida) (ID 251) — already indexed.\n",
      "Skipping Boss Bitch (ID 252) — already indexed.\n",
      "Skipping Say So (ID 253) — already indexed.\n",
      "Skipping Streets (ID 254) — already indexed.\n",
      "Skipping Controlla (ID 255) — already indexed.\n",
      "Downloading audio from https://www.youtube.com/watch?v=xpVfcZ0ZcFM...\n",
      "Skipping Hotline Bling (ID 257) — already indexed.\n",
      "Skipping Toosie Slide (ID 259) — already indexed.\n",
      "Skipping Be the One (ID 260) — already indexed.\n",
      "Skipping Blow Your Mind (Mwah) (ID 261) — already indexed.\n",
      "Skipping Break My Heart (ID 262) — already indexed.\n",
      "Skipping Dance The Night (From Barbie The Album) (ID 263) — already indexed.\n",
      "Skipping Don't Start Now (ID 264) — already indexed.\n",
      "Skipping Hallucinate (ID 265) — already indexed.\n",
      "Skipping Hotter Than Hell (ID 266) — already indexed.\n",
      "Skipping IDGAF (ID 267) — already indexed.\n",
      "Skipping Levitating (ID 268) — already indexed.\n",
      "Skipping Love Again (ID 269) — already indexed.\n",
      "Skipping New Rules (ID 270) — already indexed.\n",
      "Skipping Physical (ID 271) — already indexed.\n",
      "Skipping Swan Song - From the Motion Picture \"Alita: Battle Angel\" (ID 272) — already indexed.\n",
      "Skipping We're Good (ID 273) — already indexed.\n",
      "Skipping Afire Love (ID 274) — already indexed.\n",
      "Skipping Afterglow (ID 275) — already indexed.\n",
      "Skipping All of the Stars (ID 276) — already indexed.\n",
      "Skipping Bad Habits (ID 277) — already indexed.\n",
      "Skipping Bloodstream (ID 278) — already indexed.\n",
      "Skipping Castle on the Hill (ID 279) — already indexed.\n",
      "Skipping Celestial (ID 280) — already indexed.\n",
      "Skipping Dive (ID 281) — already indexed.\n",
      "Skipping Don't (ID 282) — already indexed.\n",
      "Skipping Drunk (ID 283) — already indexed.\n",
      "Skipping Eyes Closed (ID 284) — already indexed.\n",
      "Skipping Firefly (ID 285) — already indexed.\n",
      "Skipping Galway Girl (ID 286) — already indexed.\n",
      "Skipping Happier (ID 287) — already indexed.\n",
      "Skipping How Would You Feel (Paean) (ID 288) — already indexed.\n",
      "Skipping I See Fire - From \"The Hobbit - The Desolation Of Smaug\" (ID 289) — already indexed.\n",
      "Skipping Kiss Me (ID 290) — already indexed.\n",
      "Skipping Lego House (ID 291) — already indexed.\n",
      "Skipping New York (ID 292) — already indexed.\n",
      "Skipping One (ID 293) — already indexed.\n",
      "Skipping Overpass Graffiti (ID 294) — already indexed.\n",
      "Skipping Perfect (ID 295) — already indexed.\n",
      "Skipping Photograph (ID 296) — already indexed.\n",
      "Skipping Runaway (ID 297) — already indexed.\n",
      "Skipping Shape of You (ID 298) — already indexed.\n",
      "Skipping She (ID 299) — already indexed.\n",
      "Skipping Shivers (ID 300) — already indexed.\n",
      "Skipping Sing (ID 301) — already indexed.\n",
      "Skipping Small Bump (ID 302) — already indexed.\n",
      "Skipping Tenerife Sea (ID 303) — already indexed.\n",
      "Skipping The A Team (ID 304) — already indexed.\n",
      "Skipping Thinking out Loud (ID 305) — already indexed.\n",
      "Skipping Visiting Hours (ID 306) — already indexed.\n",
      "Skipping What Do I Know? (ID 307) — already indexed.\n",
      "Skipping Blue Eyes - Remastered 2003 (ID 308) — already indexed.\n",
      "Skipping Can You Feel The Love Tonight (ID 309) — already indexed.\n",
      "Skipping Can You Feel the Love Tonight - End Title/ From \"The Lion King\"/Soundtrack Version (ID 310) — already indexed.\n",
      "Skipping Candle In The Wind (ID 311) — already indexed.\n",
      "Skipping Candle In The Wind 1997 (ID 312) — already indexed.\n",
      "Skipping Crocodile Rock (ID 313) — already indexed.\n",
      "Skipping Daniel (ID 314) — already indexed.\n",
      "Skipping Goodbye Yellow Brick Road - Remastered 2014 (ID 315) — already indexed.\n",
      "Skipping Healing Hands (ID 316) — already indexed.\n",
      "Skipping Heartache All Over The World (ID 317) — already indexed.\n",
      "Downloading audio from https://www.youtube.com/watch?v=kaJRvZZBnX8...\n",
      "Downloading audio from https://www.youtube.com/watch?v=h6KYAVn8ons...\n",
      "Skipping I'm Still Standing (ID 320) — already indexed.\n",
      "Skipping Kiss The Bride (ID 321) — already indexed.\n",
      "Skipping Little Jeannie (ID 322) — already indexed.\n",
      "Skipping Lucy In The Sky With Diamonds (ID 323) — already indexed.\n",
      "Skipping Nikita (ID 324) — already indexed.\n",
      "Skipping Part Time Love (ID 325) — already indexed.\n",
      "Skipping Passengers (ID 326) — already indexed.\n",
      "Skipping Philadelphia Freedom (ID 327) — already indexed.\n",
      "Skipping Rocket Man (I Think It's Going To Be A Long, Long Time) (ID 328) — already indexed.\n",
      "Skipping Sacrifice (ID 329) — already indexed.\n",
      "Skipping Sad Songs (Say So Much) (ID 330) — already indexed.\n",
      "Skipping Something About The Way You Look Tonight - Edit Version (ID 331) — already indexed.\n",
      "Skipping Song For Guy (ID 332) — already indexed.\n",
      "Skipping Tiny Dancer (ID 333) — already indexed.\n",
      "Skipping Your Song (ID 334) — already indexed.\n",
      "Skipping Ass Like That (ID 335) — already indexed.\n",
      "Skipping Berzerk (ID 336) — already indexed.\n",
      "Skipping Business (ID 337) — already indexed.\n",
      "Skipping Cleanin' Out My Closet (ID 338) — already indexed.\n",
      "Skipping Just Lose It (ID 339) — already indexed.\n",
      "Skipping Like Toy Soldiers (ID 340) — already indexed.\n",
      "Skipping Lose Yourself (ID 341) — already indexed.\n",
      "Skipping Lose Yourself - From \"8 Mile\" Soundtrack (ID 342) — already indexed.\n",
      "Skipping Mockingbird (ID 343) — already indexed.\n",
      "Skipping My Name Is (ID 344) — already indexed.\n",
      "Skipping Not Afraid (ID 345) — already indexed.\n",
      "Downloading audio from https://www.youtube.com/watch?v=D4hAVemuQXY...\n",
      "Skipping The Real Slim Shady (ID 347) — already indexed.\n",
      "Skipping We Made You (ID 348) — already indexed.\n",
      "Skipping When I'm Gone (ID 349) — already indexed.\n",
      "Skipping Without Me (ID 350) — already indexed.\n",
      "Skipping Bailamos (ID 351) — already indexed.\n",
      "Skipping Don't Turn Off The Lights (ID 352) — already indexed.\n",
      "Downloading audio from https://www.youtube.com/watch?v=9mQJaXwGPlg...\n",
      "Skipping Hero (ID 354) — already indexed.\n",
      "Skipping Change the World - 2015 Remaster (ID 355) — already indexed.\n",
      "Skipping Cocaine (ID 356) — already indexed.\n",
      "Skipping I Shot The Sheriff (ID 357) — already indexed.\n",
      "Skipping Layla - Acoustic; Live at MTV Unplugged, Bray Film Studios, Windsor, England, UK, 1/16/1992; 2013 Remaster (ID 358) — already indexed.\n",
      "Skipping Tears In Heaven (ID 359) — already indexed.\n",
      "Skipping Bring Me To Life (ID 360) — already indexed.\n",
      "Skipping Call Me When You're Sober (ID 361) — already indexed.\n",
      "Skipping Everybody's Fool (ID 362) — already indexed.\n",
      "Skipping Going Under (ID 363) — already indexed.\n",
      "Skipping Lithium (ID 364) — already indexed.\n",
      "Skipping My Immortal (ID 365) — already indexed.\n",
      "Skipping \"The Take Over, The Breaks Over\" (ID 366) — already indexed.\n",
      "Downloading audio from https://www.youtube.com/watch?v=LBr7kECsjcQ...\n",
      "Skipping I Don't Care (ID 368) — already indexed.\n",
      "Skipping She's My Winona (ID 369) — already indexed.\n",
      "Skipping Sugar, We're Goin Down (ID 370) — already indexed.\n",
      "Skipping This Ain't A Scene, It's An Arms Race (ID 371) — already indexed.\n",
      "Skipping Thnks fr th Mmrs (ID 372) — already indexed.\n",
      "Skipping Albatross (ID 373) — already indexed.\n",
      "Skipping Don't Stop - 2004 Remaster (ID 374) — already indexed.\n",
      "Skipping Dreams - 2004 Remaster (ID 375) — already indexed.\n",
      "Skipping Go Your Own Way (ID 376) — already indexed.\n",
      "Skipping Go Your Own Way - 2004 Remaster (ID 377) — already indexed.\n",
      "Skipping Hold Me (ID 378) — already indexed.\n",
      "Skipping Little Lies (ID 379) — already indexed.\n",
      "Skipping Rhiannon (ID 380) — already indexed.\n",
      "Skipping Sara (ID 381) — already indexed.\n",
      "Skipping Seven Wonders - 2017 Remaster (ID 382) — already indexed.\n",
      "Skipping The Chain - 2004 Remaster (ID 383) — already indexed.\n",
      "Skipping Tusk - 2015 Remaster (ID 384) — already indexed.\n",
      "Skipping Best Of You (ID 385) — already indexed.\n",
      "Skipping Best of You (ID 386) — already indexed.\n",
      "Skipping Big Me (ID 387) — already indexed.\n",
      "Skipping Everlong (ID 388) — already indexed.\n",
      "Skipping Generator (ID 389) — already indexed.\n",
      "Skipping Learn to Fly (ID 390) — already indexed.\n",
      "Skipping Long Road To Ruin (ID 391) — already indexed.\n",
      "Skipping Monkey Wrench (ID 392) — already indexed.\n",
      "Skipping My Hero (ID 393) — already indexed.\n",
      "Skipping Rope (ID 394) — already indexed.\n",
      "Downloading audio from https://www.youtube.com/watch?v=SBjQ9tuuTJQ...\n",
      "Skipping These Days (ID 396) — already indexed.\n",
      "Skipping This Is a Call (ID 397) — already indexed.\n",
      "Skipping Times Like These (ID 398) — already indexed.\n",
      "Skipping Walk (ID 399) — already indexed.\n",
      "Skipping Wheels (ID 400) — already indexed.\n",
      "Skipping A Different Corner (ID 401) — already indexed.\n",
      "Downloading audio from https://www.youtube.com/watch?v=6YziZ1FlAWs...\n",
      "Downloading audio from https://www.youtube.com/watch?v=izGwDsrQ1eQ...\n",
      "Downloading audio from https://www.youtube.com/watch?v=fyMbjVhCzw4...\n",
      "Downloading audio from https://www.youtube.com/watch?v=N61LHFFfiik...\n",
      "Skipping Fastlove, Pt. 1 (ID 406) — already indexed.\n",
      "Skipping Father Figure - Remastered (ID 407) — already indexed.\n",
      "Downloading audio from https://www.youtube.com/watch?v=diYAc7gB-0A...\n",
      "Downloading audio from https://www.youtube.com/watch?v=r3AP26ywQsQ...\n",
      "Downloading audio from https://www.youtube.com/watch?v=zNBj4EV_hAo...\n",
      "Downloading audio from https://www.youtube.com/watch?v=omsBhh8vA7c...\n",
      "Downloading audio from https://www.youtube.com/watch?v=CU7xwtIdyoI...\n",
      "Downloading audio from https://www.youtube.com/watch?v=1bPxYmsv-Mc...\n",
      "Downloading audio from https://www.youtube.com/watch?v=6r5Dhqaay4E...\n",
      "Downloading audio from https://www.youtube.com/watch?v=gwZAYdHcDtU...\n"
     ]
    },
    {
     "name": "stderr",
     "output_type": "stream",
     "text": [
      " 81%|████████  | 396/491 [03:57<00:56,  1.67it/s]"
     ]
    },
    {
     "name": "stdout",
     "output_type": "stream",
     "text": [
      "Downloading audio from https://www.youtube.com/watch?v=eT5_neXR3FI...\n"
     ]
    },
    {
     "name": "stderr",
     "output_type": "stream",
     "text": [
      " 81%|████████  | 397/491 [04:04<00:58,  1.60it/s]"
     ]
    },
    {
     "name": "stdout",
     "output_type": "stream",
     "text": [
      "Downloading audio from https://www.youtube.com/watch?v=Na3bPzrZS-o...\n"
     ]
    },
    {
     "name": "stderr",
     "output_type": "stream",
     "text": [
      " 81%|████████  | 398/491 [04:09<00:59,  1.55it/s]"
     ]
    },
    {
     "name": "stdout",
     "output_type": "stream",
     "text": [
      "Downloading audio from https://www.youtube.com/watch?v=AiXYgOmi2kI...\n"
     ]
    },
    {
     "name": "stderr",
     "output_type": "stream",
     "text": [
      " 81%|████████▏ | 399/491 [04:27<01:10,  1.30it/s]"
     ]
    },
    {
     "name": "stdout",
     "output_type": "stream",
     "text": [
      "Downloading audio from https://www.youtube.com/watch?v=JAwk7yBQxDs...\n"
     ]
    },
    {
     "name": "stderr",
     "output_type": "stream",
     "text": [
      " 81%|████████▏ | 400/491 [05:08<01:47,  1.19s/it]"
     ]
    },
    {
     "name": "stdout",
     "output_type": "stream",
     "text": [
      "Downloading audio from https://www.youtube.com/watch?v=WXR-bCF5dbM...\n"
     ]
    },
    {
     "name": "stderr",
     "output_type": "stream",
     "text": [
      " 82%|████████▏ | 401/491 [05:17<01:56,  1.29s/it]"
     ]
    },
    {
     "name": "stdout",
     "output_type": "stream",
     "text": [
      "Downloading audio from https://www.youtube.com/watch?v=1V_xRb0x9aw...\n"
     ]
    },
    {
     "name": "stderr",
     "output_type": "stream",
     "text": [
      " 82%|████████▏ | 402/491 [05:23<02:04,  1.40s/it]"
     ]
    },
    {
     "name": "stdout",
     "output_type": "stream",
     "text": [
      "Downloading audio from https://www.youtube.com/watch?v=uAOR6ib95kQ...\n"
     ]
    },
    {
     "name": "stderr",
     "output_type": "stream",
     "text": [
      " 82%|████████▏ | 403/491 [05:30<02:15,  1.54s/it]"
     ]
    },
    {
     "name": "stdout",
     "output_type": "stream",
     "text": [
      "Downloading audio from https://www.youtube.com/watch?v=HyHNuVaZJ-k...\n"
     ]
    },
    {
     "name": "stderr",
     "output_type": "stream",
     "text": [
      " 82%|████████▏ | 404/491 [06:06<04:09,  2.87s/it]"
     ]
    },
    {
     "name": "stdout",
     "output_type": "stream",
     "text": [
      "Downloading audio from https://www.youtube.com/watch?v=r00ikilDxW4...\n"
     ]
    },
    {
     "name": "stderr",
     "output_type": "stream",
     "text": [
      " 82%|████████▏ | 405/491 [06:28<05:33,  3.88s/it]"
     ]
    },
    {
     "name": "stdout",
     "output_type": "stream",
     "text": [
      "Downloading audio from https://www.youtube.com/watch?v=tVJ5VvLAkw0...\n"
     ]
    },
    {
     "name": "stderr",
     "output_type": "stream",
     "text": [
      " 83%|████████▎ | 406/491 [06:29<05:12,  3.68s/it]"
     ]
    },
    {
     "name": "stdout",
     "output_type": "stream",
     "text": [
      "Downloading audio from https://www.youtube.com/watch?v=Ee_uujKuJMI...\n"
     ]
    },
    {
     "name": "stderr",
     "output_type": "stream",
     "text": [
      " 83%|████████▎ | 407/491 [06:33<05:09,  3.68s/it]"
     ]
    },
    {
     "name": "stdout",
     "output_type": "stream",
     "text": [
      "Downloading audio from https://www.youtube.com/watch?v=NUTGr5t3MoY...\n"
     ]
    },
    {
     "name": "stderr",
     "output_type": "stream",
     "text": [
      " 83%|████████▎ | 408/491 [06:35<04:51,  3.51s/it]"
     ]
    },
    {
     "name": "stdout",
     "output_type": "stream",
     "text": [
      "Downloading audio from https://www.youtube.com/watch?v=Soa3gO7tL-c...\n"
     ]
    },
    {
     "name": "stderr",
     "output_type": "stream",
     "text": [
      " 83%|████████▎ | 409/491 [06:38<04:44,  3.46s/it]"
     ]
    },
    {
     "name": "stdout",
     "output_type": "stream",
     "text": [
      "Downloading audio from https://www.youtube.com/watch?v=UNq9gmY_Oz4...\n"
     ]
    },
    {
     "name": "stderr",
     "output_type": "stream",
     "text": [
      " 84%|████████▎ | 410/491 [06:38<03:58,  2.95s/it]"
     ]
    },
    {
     "name": "stdout",
     "output_type": "stream",
     "text": [
      "Downloading audio from https://www.youtube.com/watch?v=CnQ8N1KacJc...\n"
     ]
    },
    {
     "name": "stderr",
     "output_type": "stream",
     "text": [
      " 84%|████████▎ | 411/491 [07:21<14:10, 10.64s/it]"
     ]
    },
    {
     "name": "stdout",
     "output_type": "stream",
     "text": [
      "Downloading audio from https://www.youtube.com/watch?v=4Sc81yxo600...\n"
     ]
    },
    {
     "name": "stderr",
     "output_type": "stream",
     "text": [
      " 84%|████████▍ | 412/491 [07:26<12:24,  9.42s/it]"
     ]
    },
    {
     "name": "stdout",
     "output_type": "stream",
     "text": [
      "Downloading audio from https://www.youtube.com/watch?v=Ajxn0PKbv7I...\n"
     ]
    },
    {
     "name": "stderr",
     "output_type": "stream",
     "text": [
      " 84%|████████▍ | 413/491 [10:57<1:13:44, 56.72s/it]"
     ]
    },
    {
     "name": "stdout",
     "output_type": "stream",
     "text": [
      "Downloading audio from https://www.youtube.com/watch?v=9IclmVdWNbI...\n"
     ]
    },
    {
     "name": "stderr",
     "output_type": "stream",
     "text": [
      " 84%|████████▍ | 414/491 [11:39<1:08:11, 53.14s/it]"
     ]
    },
    {
     "name": "stdout",
     "output_type": "stream",
     "text": [
      "Downloading audio from https://www.youtube.com/watch?v=42BBdzzgPNM...\n"
     ]
    },
    {
     "name": "stderr",
     "output_type": "stream",
     "text": [
      " 85%|████████▍ | 415/491 [12:41<1:10:05, 55.33s/it]"
     ]
    },
    {
     "name": "stdout",
     "output_type": "stream",
     "text": [
      "Downloading audio from https://www.youtube.com/watch?v=cDBlqu6KF4k...\n"
     ]
    },
    {
     "name": "stderr",
     "output_type": "stream",
     "text": [
      " 85%|████████▍ | 416/491 [12:59<56:22, 45.10s/it]  "
     ]
    },
    {
     "name": "stdout",
     "output_type": "stream",
     "text": [
      "Downloading audio from https://www.youtube.com/watch?v=5Rs2m3lhg-k...\n"
     ]
    },
    {
     "name": "stderr",
     "output_type": "stream",
     "text": [
      " 85%|████████▍ | 417/491 [13:28<50:18, 40.79s/it]"
     ]
    },
    {
     "name": "stdout",
     "output_type": "stream",
     "text": [
      "Downloading audio from https://www.youtube.com/watch?v=NU9JoFKlaZ0...\n"
     ]
    },
    {
     "name": "stderr",
     "output_type": "stream",
     "text": [
      " 85%|████████▌ | 418/491 [16:30<1:38:36, 81.05s/it]"
     ]
    },
    {
     "name": "stdout",
     "output_type": "stream",
     "text": [
      "Downloading audio from https://www.youtube.com/watch?v=eebfMFzJHNs...\n"
     ]
    },
    {
     "name": "stderr",
     "output_type": "stream",
     "text": [
      " 85%|████████▌ | 419/491 [16:49<1:15:50, 63.21s/it]"
     ]
    },
    {
     "name": "stdout",
     "output_type": "stream",
     "text": [
      "Downloading audio from https://www.youtube.com/watch?v=1o-wiosXJB8...\n"
     ]
    },
    {
     "name": "stderr",
     "output_type": "stream",
     "text": [
      " 86%|████████▌ | 420/491 [17:25<1:05:24, 55.28s/it]"
     ]
    },
    {
     "name": "stdout",
     "output_type": "stream",
     "text": [
      "Downloading audio from https://www.youtube.com/watch?v=i8dh9gDzmz8...\n"
     ]
    },
    {
     "name": "stderr",
     "output_type": "stream",
     "text": [
      " 86%|████████▌ | 421/491 [17:56<55:53, 47.91s/it]  "
     ]
    },
    {
     "name": "stdout",
     "output_type": "stream",
     "text": [
      "Downloading audio from https://www.youtube.com/watch?v=xdYFuCp3m9k...\n"
     ]
    },
    {
     "name": "stderr",
     "output_type": "stream",
     "text": [
      " 86%|████████▌ | 422/491 [18:00<40:20, 35.08s/it]"
     ]
    },
    {
     "name": "stdout",
     "output_type": "stream",
     "text": [
      "Downloading audio from https://www.youtube.com/watch?v=rPgaYeq9NvI...\n"
     ]
    },
    {
     "name": "stderr",
     "output_type": "stream",
     "text": [
      " 86%|████████▌ | 423/491 [20:59<1:28:16, 77.89s/it]"
     ]
    },
    {
     "name": "stdout",
     "output_type": "stream",
     "text": [
      "Downloading audio from https://www.youtube.com/watch?v=b-eYbUVZedY...\n"
     ]
    },
    {
     "name": "stderr",
     "output_type": "stream",
     "text": [
      " 86%|████████▋ | 424/491 [22:41<1:34:46, 84.87s/it]"
     ]
    },
    {
     "name": "stdout",
     "output_type": "stream",
     "text": [
      "Downloading audio from https://www.youtube.com/watch?v=Q9jNSwmEQ3s...\n"
     ]
    },
    {
     "name": "stderr",
     "output_type": "stream",
     "text": [
      " 87%|████████▋ | 425/491 [25:00<1:51:18, 101.19s/it]"
     ]
    },
    {
     "name": "stdout",
     "output_type": "stream",
     "text": [
      "Downloading audio from https://www.youtube.com/watch?v=ZAfAud_M_mg...\n"
     ]
    },
    {
     "name": "stderr",
     "output_type": "stream",
     "text": [
      " 87%|████████▋ | 426/491 [25:10<1:19:59, 73.83s/it] "
     ]
    },
    {
     "name": "stdout",
     "output_type": "stream",
     "text": [
      "Downloading audio from https://www.youtube.com/watch?v=8nBFqZppIF0...\n"
     ]
    },
    {
     "name": "stderr",
     "output_type": "stream",
     "text": [
      " 87%|████████▋ | 427/491 [25:57<1:10:06, 65.73s/it]"
     ]
    },
    {
     "name": "stdout",
     "output_type": "stream",
     "text": [
      "Downloading audio from https://www.youtube.com/watch?v=VF-r5TtlT9w...\n"
     ]
    },
    {
     "name": "stderr",
     "output_type": "stream",
     "text": [
      " 87%|████████▋ | 428/491 [26:04<50:43, 48.30s/it]  "
     ]
    },
    {
     "name": "stdout",
     "output_type": "stream",
     "text": [
      "Downloading audio from https://www.youtube.com/watch?v=H5v3kku4y6Q...\n"
     ]
    },
    {
     "name": "stderr",
     "output_type": "stream",
     "text": [
      " 87%|████████▋ | 429/491 [26:46<48:01, 46.47s/it]"
     ]
    },
    {
     "name": "stdout",
     "output_type": "stream",
     "text": [
      "Downloading audio from https://www.youtube.com/watch?v=olGSAVOkkTI...\n"
     ]
    },
    {
     "name": "stderr",
     "output_type": "stream",
     "text": [
      " 88%|████████▊ | 430/491 [27:35<47:50, 47.06s/it]"
     ]
    },
    {
     "name": "stdout",
     "output_type": "stream",
     "text": [
      "Downloading audio from https://www.youtube.com/watch?v=P3cffdsEXXw...\n"
     ]
    },
    {
     "name": "stderr",
     "output_type": "stream",
     "text": [
      " 88%|████████▊ | 431/491 [28:00<40:26, 40.44s/it]"
     ]
    },
    {
     "name": "stdout",
     "output_type": "stream",
     "text": [
      "Downloading audio from https://www.youtube.com/watch?v=9wg3v-01yKQ...\n"
     ]
    },
    {
     "name": "stderr",
     "output_type": "stream",
     "text": [
      " 88%|████████▊ | 432/491 [30:17<1:08:18, 69.46s/it]"
     ]
    },
    {
     "name": "stdout",
     "output_type": "stream",
     "text": [
      "Downloading audio from https://www.youtube.com/watch?v=qN4ooNx77u0...\n"
     ]
    },
    {
     "name": "stderr",
     "output_type": "stream",
     "text": [
      " 88%|████████▊ | 433/491 [30:55<58:08, 60.15s/it]  "
     ]
    },
    {
     "name": "stdout",
     "output_type": "stream",
     "text": [
      "Downloading audio from https://www.youtube.com/watch?v=L0X03zR0rQk...\n"
     ]
    },
    {
     "name": "stderr",
     "output_type": "stream",
     "text": [
      " 88%|████████▊ | 434/491 [31:01<41:41, 43.89s/it]"
     ]
    },
    {
     "name": "stdout",
     "output_type": "stream",
     "text": [
      "Downloading audio from https://www.youtube.com/watch?v=E07s5ZYygMg...\n"
     ]
    },
    {
     "name": "stderr",
     "output_type": "stream",
     "text": [
      " 89%|████████▊ | 435/491 [31:35<37:58, 40.69s/it]"
     ]
    },
    {
     "name": "stdout",
     "output_type": "stream",
     "text": [
      "Downloading audio from https://www.youtube.com/watch?v=I-QfPUz1es8...\n"
     ]
    },
    {
     "name": "stderr",
     "output_type": "stream",
     "text": [
      " 89%|████████▉ | 436/491 [32:22<39:06, 42.66s/it]"
     ]
    },
    {
     "name": "stdout",
     "output_type": "stream",
     "text": [
      "Downloading audio from https://www.youtube.com/watch?v=7wtfhZwyrcc...\n"
     ]
    },
    {
     "name": "stderr",
     "output_type": "stream",
     "text": [
      " 89%|████████▉ | 437/491 [33:11<40:16, 44.76s/it]"
     ]
    },
    {
     "name": "stdout",
     "output_type": "stream",
     "text": [
      "Downloading audio from https://www.youtube.com/watch?v=TO-_3tck2tg...\n"
     ]
    },
    {
     "name": "stderr",
     "output_type": "stream",
     "text": [
      " 89%|████████▉ | 438/491 [33:19<29:33, 33.45s/it]"
     ]
    },
    {
     "name": "stdout",
     "output_type": "stream",
     "text": [
      "Downloading audio from https://www.youtube.com/watch?v=mWRsgZuwf_8...\n"
     ]
    },
    {
     "name": "stderr",
     "output_type": "stream",
     "text": [
      " 89%|████████▉ | 439/491 [33:33<24:02, 27.75s/it]"
     ]
    },
    {
     "name": "stdout",
     "output_type": "stream",
     "text": [
      "Downloading audio from https://www.youtube.com/watch?v=k3zimSRKqNw...\n"
     ]
    },
    {
     "name": "stderr",
     "output_type": "stream",
     "text": [
      " 90%|████████▉ | 440/491 [36:00<54:05, 63.63s/it]"
     ]
    },
    {
     "name": "stdout",
     "output_type": "stream",
     "text": [
      "Downloading audio from https://www.youtube.com/watch?v=sENM2wA_FTg...\n"
     ]
    },
    {
     "name": "stderr",
     "output_type": "stream",
     "text": [
      " 90%|████████▉ | 441/491 [36:16<41:05, 49.30s/it]"
     ]
    },
    {
     "name": "stdout",
     "output_type": "stream",
     "text": [
      "Downloading audio from https://www.youtube.com/watch?v=0I647GU3Jsc...\n"
     ]
    },
    {
     "name": "stderr",
     "output_type": "stream",
     "text": [
      " 90%|█████████ | 442/491 [36:23<29:56, 36.67s/it]"
     ]
    },
    {
     "name": "stdout",
     "output_type": "stream",
     "text": [
      "Downloading audio from https://www.youtube.com/watch?v=w5tWYmIOWGk...\n"
     ]
    },
    {
     "name": "stderr",
     "output_type": "stream",
     "text": [
      " 90%|█████████ | 443/491 [36:58<28:50, 36.06s/it]"
     ]
    },
    {
     "name": "stdout",
     "output_type": "stream",
     "text": [
      "Downloading audio from https://www.youtube.com/watch?v=ktvTqknDobU...\n"
     ]
    },
    {
     "name": "stderr",
     "output_type": "stream",
     "text": [
      " 90%|█████████ | 444/491 [37:23<25:40, 32.78s/it]"
     ]
    },
    {
     "name": "stdout",
     "output_type": "stream",
     "text": [
      "Downloading audio from https://www.youtube.com/watch?v=e4RMh7NLHPY...\n"
     ]
    },
    {
     "name": "stderr",
     "output_type": "stream",
     "text": [
      " 91%|█████████ | 445/491 [38:00<26:07, 34.07s/it]"
     ]
    },
    {
     "name": "stdout",
     "output_type": "stream",
     "text": [
      "Downloading audio from https://www.youtube.com/watch?v=fKopy74weus...\n"
     ]
    },
    {
     "name": "stderr",
     "output_type": "stream",
     "text": [
      " 91%|█████████ | 446/491 [38:30<24:34, 32.76s/it]"
     ]
    },
    {
     "name": "stdout",
     "output_type": "stream",
     "text": [
      "Downloading audio from https://www.youtube.com/watch?v=gOsM-DYAEhY...\n"
     ]
    },
    {
     "name": "stderr",
     "output_type": "stream",
     "text": [
      " 91%|█████████ | 447/491 [38:38<18:31, 25.27s/it]"
     ]
    },
    {
     "name": "stdout",
     "output_type": "stream",
     "text": [
      "Downloading audio from https://www.youtube.com/watch?v=GSLSwwkLRW0...\n"
     ]
    },
    {
     "name": "stderr",
     "output_type": "stream",
     "text": [
      " 91%|█████████ | 448/491 [38:57<16:44, 23.35s/it]"
     ]
    },
    {
     "name": "stdout",
     "output_type": "stream",
     "text": [
      "Downloading audio from https://www.youtube.com/watch?v=1WIsnC-h1d0...\n"
     ]
    },
    {
     "name": "stderr",
     "output_type": "stream",
     "text": [
      " 91%|█████████▏| 449/491 [41:45<46:47, 66.84s/it]"
     ]
    },
    {
     "name": "stdout",
     "output_type": "stream",
     "text": [
      "Downloading audio from https://www.youtube.com/watch?v=zD2D6phvRRk...\n"
     ]
    },
    {
     "name": "stderr",
     "output_type": "stream",
     "text": [
      " 92%|█████████▏| 450/491 [42:30<41:07, 60.18s/it]"
     ]
    },
    {
     "name": "stdout",
     "output_type": "stream",
     "text": [
      "Downloading audio from https://www.youtube.com/watch?v=lYfkl-HXfuU...\n"
     ]
    },
    {
     "name": "stderr",
     "output_type": "stream",
     "text": [
      " 92%|█████████▏| 451/491 [42:49<32:03, 48.09s/it]"
     ]
    },
    {
     "name": "stdout",
     "output_type": "stream",
     "text": [
      "Downloading audio from https://www.youtube.com/watch?v=Q91hydQRGyM...\n"
     ]
    },
    {
     "name": "stderr",
     "output_type": "stream",
     "text": [
      " 92%|█████████▏| 452/491 [42:56<23:07, 35.56s/it]"
     ]
    },
    {
     "name": "stdout",
     "output_type": "stream",
     "text": [
      "Downloading audio from https://www.youtube.com/watch?v=4kGvlESGvbs...\n"
     ]
    },
    {
     "name": "stderr",
     "output_type": "stream",
     "text": [
      " 92%|█████████▏| 453/491 [43:34<23:03, 36.42s/it]"
     ]
    },
    {
     "name": "stdout",
     "output_type": "stream",
     "text": [
      "Downloading audio from https://www.youtube.com/watch?v=tFuw-YZaTNo...\n"
     ]
    },
    {
     "name": "stderr",
     "output_type": "stream",
     "text": [
      " 92%|█████████▏| 454/491 [44:52<30:03, 48.74s/it]"
     ]
    },
    {
     "name": "stdout",
     "output_type": "stream",
     "text": [
      "Downloading audio from https://www.youtube.com/watch?v=_66jPJVS4JE...\n"
     ]
    },
    {
     "name": "stderr",
     "output_type": "stream",
     "text": [
      " 93%|█████████▎| 455/491 [45:16<24:48, 41.35s/it]"
     ]
    },
    {
     "name": "stdout",
     "output_type": "stream",
     "text": [
      "Downloading audio from https://www.youtube.com/watch?v=U7uxf8kBBlg...\n"
     ]
    },
    {
     "name": "stderr",
     "output_type": "stream",
     "text": [
      " 93%|█████████▎| 456/491 [45:33<19:54, 34.13s/it]"
     ]
    },
    {
     "name": "stdout",
     "output_type": "stream",
     "text": [
      "Downloading audio from https://www.youtube.com/watch?v=4bJ0F8KhhZ8...\n"
     ]
    },
    {
     "name": "stderr",
     "output_type": "stream",
     "text": [
      " 93%|█████████▎| 457/491 [47:03<28:48, 50.83s/it]"
     ]
    },
    {
     "name": "stdout",
     "output_type": "stream",
     "text": [
      "Downloading audio from https://www.youtube.com/watch?v=vzsz6SSS3wk...\n"
     ]
    },
    {
     "name": "stderr",
     "output_type": "stream",
     "text": [
      " 93%|█████████▎| 458/491 [47:34<24:41, 44.89s/it]"
     ]
    },
    {
     "name": "stdout",
     "output_type": "stream",
     "text": [
      "Downloading audio from https://www.youtube.com/watch?v=DPtfsk4ETjM...\n"
     ]
    },
    {
     "name": "stderr",
     "output_type": "stream",
     "text": [
      " 93%|█████████▎| 459/491 [47:36<17:10, 32.19s/it]"
     ]
    },
    {
     "name": "stdout",
     "output_type": "stream",
     "text": [
      "Downloading audio from https://www.youtube.com/watch?v=VWl7WjAtBME...\n"
     ]
    },
    {
     "name": "stderr",
     "output_type": "stream",
     "text": [
      " 94%|█████████▎| 460/491 [47:48<13:23, 25.91s/it]"
     ]
    },
    {
     "name": "stdout",
     "output_type": "stream",
     "text": [
      "Downloading audio from https://www.youtube.com/watch?v=ru0K8uYEZWw...\n"
     ]
    },
    {
     "name": "stderr",
     "output_type": "stream",
     "text": [
      " 94%|█████████▍| 461/491 [47:57<10:29, 21.00s/it]"
     ]
    },
    {
     "name": "stdout",
     "output_type": "stream",
     "text": [
      "Downloading audio from https://www.youtube.com/watch?v=DksSPZTZES0...\n"
     ]
    },
    {
     "name": "stderr",
     "output_type": "stream",
     "text": [
      " 94%|█████████▍| 462/491 [48:00<07:26, 15.40s/it]"
     ]
    },
    {
     "name": "stdout",
     "output_type": "stream",
     "text": [
      "Downloading audio from https://www.youtube.com/watch?v=gA-NDZb29I4...\n"
     ]
    },
    {
     "name": "stderr",
     "output_type": "stream",
     "text": [
      " 94%|█████████▍| 463/491 [48:13<06:52, 14.75s/it]"
     ]
    },
    {
     "name": "stdout",
     "output_type": "stream",
     "text": [
      "Downloading audio from https://www.youtube.com/watch?v=IthFGX3sKec...\n"
     ]
    },
    {
     "name": "stderr",
     "output_type": "stream",
     "text": [
      " 95%|█████████▍| 464/491 [50:29<23:01, 51.18s/it]"
     ]
    },
    {
     "name": "stdout",
     "output_type": "stream",
     "text": [
      "Downloading audio from https://www.youtube.com/watch?v=FQ3slUz7Jo8...\n"
     ]
    },
    {
     "name": "stderr",
     "output_type": "stream",
     "text": [
      " 95%|█████████▍| 465/491 [56:16<1:00:40, 140.03s/it]"
     ]
    },
    {
     "name": "stdout",
     "output_type": "stream",
     "text": [
      "Downloading audio from https://www.youtube.com/watch?v=-_ED5aLbp4I...\n"
     ]
    },
    {
     "name": "stderr",
     "output_type": "stream",
     "text": [
      " 95%|█████████▍| 466/491 [56:50<44:59, 107.97s/it]  "
     ]
    },
    {
     "name": "stdout",
     "output_type": "stream",
     "text": [
      "Downloading audio from https://www.youtube.com/watch?v=uuZE_IRwLNI...\n"
     ]
    },
    {
     "name": "stderr",
     "output_type": "stream",
     "text": [
      " 95%|█████████▌| 467/491 [56:56<31:01, 77.55s/it] "
     ]
    },
    {
     "name": "stdout",
     "output_type": "stream",
     "text": [
      "Downloading audio from https://www.youtube.com/watch?v=I66vmchI_uU...\n"
     ]
    },
    {
     "name": "stderr",
     "output_type": "stream",
     "text": [
      " 95%|█████████▌| 468/491 [57:57<27:50, 72.62s/it]"
     ]
    },
    {
     "name": "stdout",
     "output_type": "stream",
     "text": [
      "Downloading audio from https://www.youtube.com/watch?v=TSVHoHyErBQ...\n"
     ]
    },
    {
     "name": "stderr",
     "output_type": "stream",
     "text": [
      " 96%|█████████▌| 469/491 [58:00<18:56, 51.67s/it]"
     ]
    },
    {
     "name": "stdout",
     "output_type": "stream",
     "text": [
      "Downloading audio from https://www.youtube.com/watch?v=nJHYDkvRB2Y...\n"
     ]
    },
    {
     "name": "stderr",
     "output_type": "stream",
     "text": [
      " 96%|█████████▌| 470/491 [58:15<14:13, 40.65s/it]"
     ]
    },
    {
     "name": "stdout",
     "output_type": "stream",
     "text": [
      "Downloading audio from https://www.youtube.com/watch?v=NxJ7O0CGzO8...\n"
     ]
    },
    {
     "name": "stderr",
     "output_type": "stream",
     "text": [
      " 96%|█████████▌| 471/491 [1:00:31<23:05, 69.25s/it]"
     ]
    },
    {
     "name": "stdout",
     "output_type": "stream",
     "text": [
      "Downloading audio from https://www.youtube.com/watch?v=-rjhH3SMQ-0...\n"
     ]
    },
    {
     "name": "stderr",
     "output_type": "stream",
     "text": [
      "100%|██████████| 491/491 [1:06:54<00:00,  8.18s/it]\n"
     ]
    },
    {
     "data": {
      "text/plain": [
       "<src.abracadabra.GCPFingerprintDB.GCPFingerprintDB at 0x798a1f828c70>"
      ]
     },
     "execution_count": 5,
     "metadata": {},
     "output_type": "execute_result"
    }
   ],
   "execution_count": 5
  },
  {
   "metadata": {
    "ExecuteTime": {
     "end_time": "2025-05-27T01:22:29.414003Z",
     "start_time": "2025-05-27T01:22:29.374732Z"
    }
   },
   "cell_type": "code",
   "source": [
    "with conn.cursor() as cur:\n",
    "    cur.execute(\"SELECT * FROM tracks where artist_names LIKE 'PSY';\")\n",
    "    rows = cur.fetchall()\n",
    "    for row in rows:\n",
    "        print(row)"
   ],
   "id": "5def5bd0e7e3a4bb",
   "outputs": [],
   "execution_count": 11
  },
  {
   "metadata": {
    "ExecuteTime": {
     "end_time": "2025-05-27T01:55:41.968525Z",
     "start_time": "2025-05-27T01:55:33.208592Z"
    }
   },
   "cell_type": "code",
   "source": [
    "from src.abracadabra.recognize import recognize_song\n",
    "match = recognize_song(\"../songs/Adele - Someone Like You (Official Music Video).m4a\", db)\n",
    "\n",
    "if match:\n",
    "    print(f\"Matched: {match[0]} (score: {match[1]})\")\n",
    "    track_name, artist_names, album_name, youtube_url = db.check_song_info(match[0])\n",
    "    # track_name, youtube_url = db.check_song_info(match[0])\n",
    "    print(f\"Track Name: {track_name}\")\n",
    "    print(f\"Artist Names: {artist_names}\")\n",
    "    print(f\"Album Name: {album_name}\")\n",
    "    print(f\"YouTube URL: {youtube_url}\")\n",
    "else:\n",
    "    print(\"No match found.\")"
   ],
   "id": "ba656877025fa63f",
   "outputs": [
    {
     "name": "stdout",
     "output_type": "stream",
     "text": [
      "Matched: 34 (score: 25)\n",
      "Track Name: Someone Like You\n"
     ]
    },
    {
     "ename": "NameError",
     "evalue": "name 'artist_names' is not defined",
     "output_type": "error",
     "traceback": [
      "\u001B[0;31m---------------------------------------------------------------------------\u001B[0m",
      "\u001B[0;31mNameError\u001B[0m                                 Traceback (most recent call last)",
      "Cell \u001B[0;32mIn[8], line 9\u001B[0m\n\u001B[1;32m      7\u001B[0m track_name, youtube_url \u001B[38;5;241m=\u001B[39m db\u001B[38;5;241m.\u001B[39mcheck_song_info(match[\u001B[38;5;241m0\u001B[39m])\n\u001B[1;32m      8\u001B[0m \u001B[38;5;28mprint\u001B[39m(\u001B[38;5;124mf\u001B[39m\u001B[38;5;124m\"\u001B[39m\u001B[38;5;124mTrack Name: \u001B[39m\u001B[38;5;132;01m{\u001B[39;00mtrack_name\u001B[38;5;132;01m}\u001B[39;00m\u001B[38;5;124m\"\u001B[39m)\n\u001B[0;32m----> 9\u001B[0m \u001B[38;5;28mprint\u001B[39m(\u001B[38;5;124mf\u001B[39m\u001B[38;5;124m\"\u001B[39m\u001B[38;5;124mArtist Names: \u001B[39m\u001B[38;5;132;01m{\u001B[39;00m\u001B[43martist_names\u001B[49m\u001B[38;5;132;01m}\u001B[39;00m\u001B[38;5;124m\"\u001B[39m)\n\u001B[1;32m     10\u001B[0m \u001B[38;5;28mprint\u001B[39m(\u001B[38;5;124mf\u001B[39m\u001B[38;5;124m\"\u001B[39m\u001B[38;5;124mAlbum Name: \u001B[39m\u001B[38;5;132;01m{\u001B[39;00malbum_name\u001B[38;5;132;01m}\u001B[39;00m\u001B[38;5;124m\"\u001B[39m)\n\u001B[1;32m     11\u001B[0m \u001B[38;5;28mprint\u001B[39m(\u001B[38;5;124mf\u001B[39m\u001B[38;5;124m\"\u001B[39m\u001B[38;5;124mYouTube URL: \u001B[39m\u001B[38;5;132;01m{\u001B[39;00myoutube_url\u001B[38;5;132;01m}\u001B[39;00m\u001B[38;5;124m\"\u001B[39m)\n",
      "\u001B[0;31mNameError\u001B[0m: name 'artist_names' is not defined"
     ]
    }
   ],
   "execution_count": 8
  },
  {
   "metadata": {
    "ExecuteTime": {
     "end_time": "2025-06-04T06:31:12.780791Z",
     "start_time": "2025-06-04T06:30:46.291327Z"
    }
   },
   "cell_type": "code",
   "source": [
    "from src.abracadabra.GCPFingerprintDB import GCPFingerprintDB\n",
    "db = GCPFingerprintDB()\n",
    "db.show_table()"
   ],
   "id": "973936f07893d9f4",
   "outputs": [
    {
     "name": "stdout",
     "output_type": "stream",
     "text": [
      "(1, 'In Da Club')\n",
      "(2, 'In Da Club - Single Version / Edit')\n",
      "(3, 'Just A Lil Bit')\n",
      "(4, 'P.I.M.P.')\n",
      "(5, 'Window Shopper')\n",
      "(6, 'Back In Black')\n",
      "(7, 'Dirty Deeds Done Dirt Cheap')\n",
      "(8, 'Heatseeker')\n",
      "(9, 'High Voltage')\n",
      "(10, 'Highway to Hell')\n",
      "(11, \"It's a Long Way to the Top (If You Wanna Rock 'N' Roll)\")\n",
      "(12, 'Jailbreak')\n",
      "(13, \"Rock and Roll Ain't Noise Pollution\")\n",
      "(14, 'Shoot to Thrill')\n",
      "(15, 'T.N.T.')\n",
      "(16, 'Thunderstruck')\n",
      "(17, 'Who Made Who')\n",
      "(18, 'You Shook Me All Night Long')\n",
      "(19, 'Chasing Pavements')\n",
      "(20, \"Don't You Remember\")\n",
      "(21, 'Easy On Me')\n",
      "(22, \"He Won't Go\")\n",
      "(23, 'Hello')\n",
      "(24, 'Love In The Dark')\n",
      "(25, 'Make You Feel My Love')\n",
      "(26, 'Million Years Ago')\n",
      "(27, 'One and Only')\n",
      "(28, 'Remedy')\n",
      "(29, 'Rolling in the Deep')\n",
      "(30, 'Rumour Has It')\n",
      "(31, 'Send My Love (To Your New Lover)')\n",
      "(32, 'Set Fire to the Rain')\n",
      "(33, 'Skyfall')\n",
      "(34, 'Someone Like You')\n",
      "(35, 'Sweetest Devotion')\n",
      "(36, 'Take It All')\n",
      "(37, 'Turning Tables')\n",
      "(38, 'Water Under The Bridge')\n",
      "(39, 'When We Were Young')\n",
      "(40, 'Alone')\n",
      "(41, 'Faded')\n",
      "(42, 'Brand New Me')\n",
      "(43, \"Doesn't Mean Anything\")\n",
      "(44, 'Empire State of Mind (Part II) Broken Down')\n",
      "(45, \"Fallin'\")\n",
      "(46, 'Girl On Fire')\n",
      "(47, 'Hallelujah')\n",
      "(48, 'Holy War')\n",
      "(49, \"If I Ain't Got You\")\n",
      "(50, 'More Than We Know')\n",
      "(51, 'No One')\n",
      "(52, 'One Thing')\n",
      "(53, 'Superwoman')\n",
      "(54, 'Tears Always Win')\n",
      "(55, 'Work On It')\n",
      "(56, 'No More \"I Love You\\'s\"')\n",
      "(57, 'Arabella')\n",
      "(58, 'Do I Wanna Know?')\n",
      "(59, 'I Bet You Look Good On The Dancefloor')\n",
      "(60, \"Why'd You Only Call Me When You're High?\")\n",
      "(61, 'Addicted To You')\n",
      "(62, 'Broken Arrows')\n",
      "(63, 'Fade Into Darkness - Vocal Radio Mix')\n",
      "(64, 'For A Better Day')\n",
      "(65, 'Heaven')\n",
      "(66, 'Hey Brother')\n",
      "(67, 'Levels - Radio Edit')\n",
      "(68, 'Silhouettes - Original Radio Edit')\n",
      "(69, 'The Nights')\n",
      "(70, 'Waiting For Love')\n",
      "(71, 'Wake Me Up')\n",
      "(72, 'Wake Me Up - Radio Edit')\n",
      "(73, 'You Make Me')\n",
      "(74, 'Butter')\n",
      "(75, 'Dynamite')\n",
      "(76, 'BREAK MY SOUL')\n",
      "(77, 'Best Thing I Never Had')\n",
      "(78, 'Broken-Hearted Girl')\n",
      "(79, 'Halo')\n",
      "(80, 'Hold Up')\n",
      "(81, 'If I Were a Boy')\n",
      "(82, 'Irreplaceable')\n",
      "(83, 'Love On Top')\n",
      "(84, 'Naughty Girl')\n",
      "(85, 'Run the World (Girls)')\n",
      "(86, 'Single Ladies (Put a Ring on It)')\n",
      "(87, 'Sweet Dreams')\n",
      "(88, 'XO')\n",
      "(89, 'Lost Cause')\n",
      "(90, 'NDA')\n",
      "(91, 'Therefore I Am')\n",
      "(92, 'Your Power')\n",
      "(93, 'all the good girls go to hell')\n",
      "(94, 'bad guy')\n",
      "(95, 'bury a friend')\n",
      "(96, 'everything i wanted')\n",
      "(97, \"when the party's over\")\n",
      "(98, 'wish you were gay')\n",
      "(99, 'BIG LOVE')\n",
      "(100, 'Boom Boom Pow')\n",
      "(101, \"Don't Lie\")\n",
      "(102, \"Don't Phunk With My Heart\")\n",
      "(103, 'Don’t Stop The Party')\n",
      "(104, 'Hey Mama')\n",
      "(105, 'I Gotta Feeling')\n",
      "(106, 'Imma Be')\n",
      "(107, 'Just Can’t Get Enough')\n",
      "(108, \"Let's Get It Started\")\n",
      "(109, \"Let's Get It Started - Spike Mix\")\n",
      "(110, 'Meet Me Halfway')\n",
      "(111, 'My Humps')\n",
      "(112, 'Pump It')\n",
      "(113, 'Rock That Body')\n",
      "(114, 'Shut Up')\n",
      "(115, 'The Time (Dirty Bit)')\n",
      "(116, 'Where Is The Love?')\n",
      "(117, \"Blowin' in the Wind\")\n",
      "(118, 'Forever Young - Fast Version')\n",
      "(119, 'Hurricane')\n",
      "(120, \"Knockin' On Heaven's Door\")\n",
      "(121, 'Like a Rolling Stone')\n",
      "(122, 'Mr. Tambourine Man')\n",
      "(123, \"The Times They Are A-Changin'\")\n",
      "(124, 'Always')\n",
      "(125, 'Bad Medicine')\n",
      "(126, 'Bed Of Roses')\n",
      "(127, 'Have A Nice Day')\n",
      "(128, \"I'll Be There For You\")\n",
      "(129, 'In These Arms')\n",
      "(130, \"It's My Life\")\n",
      "(131, 'Keep The Faith')\n",
      "(132, \"Livin' On A Prayer\")\n",
      "(133, \"Say It Isn't So\")\n",
      "(134, 'Shot Through The Heart')\n",
      "(135, \"This Ain't A Love Song\")\n",
      "(136, 'Wanted Dead Or Alive')\n",
      "(137, 'You Give Love A Bad Name')\n",
      "(138, '(You Drive Me) Crazy')\n",
      "(139, '...Baby One More Time')\n",
      "(140, '3')\n",
      "(141, 'Circus')\n",
      "(142, 'Circus - Remastered')\n",
      "(143, \"Do Somethin'\")\n",
      "(144, 'Everytime')\n",
      "(145, 'From the Bottom of My Broken Heart')\n",
      "(146, 'Gimme More')\n",
      "(147, 'Hold It Against Me')\n",
      "(148, \"I Love Rock 'N' Roll\")\n",
      "(149, \"I'm Not a Girl, Not Yet a Woman\")\n",
      "(150, \"I'm a Slave 4 U\")\n",
      "(151, 'If U Seek Amy')\n",
      "(152, 'Lucky')\n",
      "(153, 'My Prerogative - Remastered')\n",
      "(154, 'Oops!...I Did It Again')\n",
      "(155, 'Piece of Me')\n",
      "(156, 'Sometimes')\n",
      "(157, 'Stronger')\n",
      "(158, 'Till the World Ends')\n",
      "(159, 'Toxic')\n",
      "(160, 'Womanizer')\n",
      "(161, '24K Magic')\n",
      "(162, 'Chunky')\n",
      "(163, 'Count on Me')\n",
      "(164, 'Grenade')\n",
      "(165, 'Grenade - Acoustic')\n",
      "(166, 'If I Knew')\n",
      "(167, 'It Will Rain')\n",
      "(168, 'Just the Way You Are')\n",
      "(169, 'Locked out of Heaven')\n",
      "(170, 'Marry You')\n",
      "(171, 'Talking to the Moon')\n",
      "(172, \"That's What I Like\")\n",
      "(173, 'The Lazy Song')\n",
      "(174, 'Treasure')\n",
      "(175, 'Versace on the Floor')\n",
      "(176, 'When I Was Your Man')\n",
      "(177, '(Everything I Do) I Do It For You')\n",
      "(178, \"Can't Stop This Thing We Started\")\n",
      "(179, 'Have You Ever Really Loved A Woman?')\n",
      "(180, 'Heaven')\n",
      "(181, \"Let's Make A Night To Remember\")\n",
      "(182, 'Please Forgive Me')\n",
      "(183, 'Run To You')\n",
      "(184, \"Summer Of '69\")\n",
      "(185, 'The Only Thing That Looks Good On Me Is You')\n",
      "(186, \"Thought I'd Died And Gone To Heaven\")\n",
      "(187, \"Acceptable in the 80's\")\n",
      "(188, 'Feel So Close - Radio Edit')\n",
      "(189, 'Flashback')\n",
      "(190, \"I'm Not Alone - Radio Edit\")\n",
      "(191, 'My Way')\n",
      "(192, 'Ready for the Weekend')\n",
      "(193, 'Summer')\n",
      "(194, 'The Girls - Radio Edit')\n",
      "(195, 'You Used to Hold Me')\n",
      "(196, \"Don't Go Yet\")\n",
      "(197, 'Never Be the Same')\n",
      "(198, 'Shameless')\n",
      "(199, 'Up')\n",
      "(200, \"Ain't No Other Man\")\n",
      "(201, 'Beautiful')\n",
      "(202, 'Candyman')\n",
      "(203, 'Come on over Baby (All I Want Is You) - Radio Version')\n",
      "(204, 'Fighter')\n",
      "(205, 'Genie In a Bottle')\n",
      "(206, 'Genie in a Bottle')\n",
      "(207, 'Hurt')\n",
      "(208, 'Impossible')\n",
      "(209, \"Keeps Gettin' Better\")\n",
      "(210, 'What a Girl Wants')\n",
      "(211, 'A Sky Full of Stars')\n",
      "(212, 'Adventure of a Lifetime')\n",
      "(213, 'Charlie Brown')\n",
      "(214, 'Clocks')\n",
      "(215, 'Every Teardrop Is a Waterfall')\n",
      "(216, 'Fix You')\n",
      "(217, 'God Put a Smile upon Your Face')\n",
      "(218, 'Higher Power')\n",
      "(219, 'Hymn for the Weekend')\n",
      "(220, 'In My Place')\n",
      "(221, 'Life in Technicolor ii')\n",
      "(222, 'Lost!')\n",
      "(223, 'Lovers in Japan')\n",
      "(224, 'Magic')\n",
      "(225, 'Paradise')\n",
      "(226, 'Speed of Sound')\n",
      "(227, 'The Scientist')\n",
      "(228, 'Violet Hill')\n",
      "(229, 'Viva La Vida')\n",
      "(230, 'Yellow')\n",
      "(231, 'Gasolina')\n",
      "(232, 'Around the World')\n",
      "(233, 'Around the World - Radio Edit [Radio Edit]')\n",
      "(234, 'Da Funk - Radio Edit')\n",
      "(235, 'One More Time')\n",
      "(236, 'One More Time - Radio Edit [Short Radio Edit]')\n",
      "(237, 'Absolute Beginners - 2002 Remaster')\n",
      "(238, 'Ashes to Ashes - 2017 Remaster')\n",
      "(239, 'Cat People (Putting Out Fire) - 2018 Remaster')\n",
      "(240, 'Heroes - 2017 Remaster')\n",
      "(241, \"Let's Dance - Single Version, 2014 Remaster\")\n",
      "(242, 'Modern Love - 1999 Remaster')\n",
      "(243, 'Rebel Rebel - 2016 Remaster')\n",
      "(244, 'Sorrow - 2015 Remaster')\n",
      "(245, 'Space Oddity - 2009 Remastered Version')\n",
      "(246, 'Space Oddity - 2015 Remaster')\n",
      "(247, 'Bang My Head (feat. Sia & Fetty Wap)')\n",
      "(248, 'Shot Me Down (feat. Skylar Grey) - Radio Edit')\n",
      "(249, \"This One's for You (feat. Zara Larsson) (Official Song UEFA EURO 2016)\")\n",
      "(250, 'What I Did for Love (feat. Emeli Sandé)')\n",
      "(251, 'Where Them Girls At (feat. Nicki Minaj & Flo Rida)')\n",
      "(252, 'Boss Bitch')\n",
      "(253, 'Say So')\n",
      "(254, 'Streets')\n",
      "(255, 'Controlla')\n",
      "(256, \"God's Plan\")\n",
      "(257, 'Hotline Bling')\n",
      "(258, 'In My Feelings')\n",
      "(259, 'Toosie Slide')\n",
      "(260, 'Be the One')\n",
      "(261, 'Blow Your Mind (Mwah)')\n",
      "(262, 'Break My Heart')\n",
      "(263, 'Dance The Night (From Barbie The Album)')\n",
      "(264, \"Don't Start Now\")\n",
      "(265, 'Hallucinate')\n",
      "(266, 'Hotter Than Hell')\n",
      "(267, 'IDGAF')\n",
      "(268, 'Levitating')\n",
      "(269, 'Love Again')\n",
      "(270, 'New Rules')\n",
      "(271, 'Physical')\n",
      "(272, 'Swan Song - From the Motion Picture \"Alita: Battle Angel\"')\n",
      "(273, \"We're Good\")\n",
      "(274, 'Afire Love')\n",
      "(275, 'Afterglow')\n",
      "(276, 'All of the Stars')\n",
      "(277, 'Bad Habits')\n",
      "(278, 'Bloodstream')\n",
      "(279, 'Castle on the Hill')\n",
      "(280, 'Celestial')\n",
      "(281, 'Dive')\n",
      "(282, \"Don't\")\n",
      "(283, 'Drunk')\n",
      "(284, 'Eyes Closed')\n",
      "(285, 'Firefly')\n",
      "(286, 'Galway Girl')\n",
      "(287, 'Happier')\n",
      "(288, 'How Would You Feel (Paean)')\n",
      "(289, 'I See Fire - From \"The Hobbit - The Desolation Of Smaug\"')\n",
      "(290, 'Kiss Me')\n",
      "(291, 'Lego House')\n",
      "(292, 'New York')\n",
      "(293, 'One')\n",
      "(294, 'Overpass Graffiti')\n",
      "(295, 'Perfect')\n",
      "(296, 'Photograph')\n",
      "(297, 'Runaway')\n",
      "(298, 'Shape of You')\n",
      "(299, 'She')\n",
      "(300, 'Shivers')\n",
      "(301, 'Sing')\n",
      "(302, 'Small Bump')\n",
      "(303, 'Tenerife Sea')\n",
      "(304, 'The A Team')\n",
      "(305, 'Thinking out Loud')\n",
      "(306, 'Visiting Hours')\n",
      "(307, 'What Do I Know?')\n",
      "(308, 'Blue Eyes - Remastered 2003')\n",
      "(309, 'Can You Feel The Love Tonight')\n",
      "(310, 'Can You Feel the Love Tonight - End Title/ From \"The Lion King\"/Soundtrack Version')\n",
      "(311, 'Candle In The Wind')\n",
      "(312, 'Candle In The Wind 1997')\n",
      "(313, 'Crocodile Rock')\n",
      "(314, 'Daniel')\n",
      "(315, 'Goodbye Yellow Brick Road - Remastered 2014')\n",
      "(316, 'Healing Hands')\n",
      "(317, 'Heartache All Over The World')\n",
      "(318, \"I Don't Wanna Go On With You Like That\")\n",
      "(319, \"I Guess That's Why They Call It The Blues\")\n",
      "(320, \"I'm Still Standing\")\n",
      "(321, 'Kiss The Bride')\n",
      "(322, 'Little Jeannie')\n",
      "(323, 'Lucy In The Sky With Diamonds')\n",
      "(324, 'Nikita')\n",
      "(325, 'Part Time Love')\n",
      "(326, 'Passengers')\n",
      "(327, 'Philadelphia Freedom')\n",
      "(328, \"Rocket Man (I Think It's Going To Be A Long, Long Time)\")\n",
      "(329, 'Sacrifice')\n",
      "(330, 'Sad Songs (Say So Much)')\n",
      "(331, 'Something About The Way You Look Tonight - Edit Version')\n",
      "(332, 'Song For Guy')\n",
      "(333, 'Tiny Dancer')\n",
      "(334, 'Your Song')\n",
      "(335, 'Ass Like That')\n",
      "(336, 'Berzerk')\n",
      "(337, 'Business')\n",
      "(338, \"Cleanin' Out My Closet\")\n",
      "(339, 'Just Lose It')\n",
      "(340, 'Like Toy Soldiers')\n",
      "(341, 'Lose Yourself')\n",
      "(342, 'Lose Yourself - From \"8 Mile\" Soundtrack')\n",
      "(343, 'Mockingbird')\n",
      "(344, 'My Name Is')\n",
      "(345, 'Not Afraid')\n",
      "(346, 'Sing For The Moment')\n",
      "(347, 'The Real Slim Shady')\n",
      "(348, 'We Made You')\n",
      "(349, \"When I'm Gone\")\n",
      "(350, 'Without Me')\n",
      "(351, 'Bailamos')\n",
      "(352, \"Don't Turn Off The Lights\")\n",
      "(353, 'Escape')\n",
      "(354, 'Hero')\n",
      "(355, 'Change the World - 2015 Remaster')\n",
      "(356, 'Cocaine')\n",
      "(357, 'I Shot The Sheriff')\n",
      "(358, 'Layla - Acoustic; Live at MTV Unplugged, Bray Film Studios, Windsor, England, UK, 1/16/1992; 2013 Remaster')\n",
      "(359, 'Tears In Heaven')\n",
      "(360, 'Bring Me To Life')\n",
      "(361, \"Call Me When You're Sober\")\n",
      "(362, \"Everybody's Fool\")\n",
      "(363, 'Going Under')\n",
      "(364, 'Lithium')\n",
      "(365, 'My Immortal')\n",
      "(366, '\"The Take Over, The Breaks Over\"')\n",
      "(367, 'Centuries')\n",
      "(368, \"I Don't Care\")\n",
      "(369, \"She's My Winona\")\n",
      "(370, \"Sugar, We're Goin Down\")\n",
      "(371, \"This Ain't A Scene, It's An Arms Race\")\n",
      "(372, 'Thnks fr th Mmrs')\n",
      "(373, 'Albatross')\n",
      "(374, \"Don't Stop - 2004 Remaster\")\n",
      "(375, 'Dreams - 2004 Remaster')\n",
      "(376, 'Go Your Own Way')\n",
      "(377, 'Go Your Own Way - 2004 Remaster')\n",
      "(378, 'Hold Me')\n",
      "(379, 'Little Lies')\n",
      "(380, 'Rhiannon')\n",
      "(381, 'Sara')\n",
      "(382, 'Seven Wonders - 2017 Remaster')\n",
      "(383, 'The Chain - 2004 Remaster')\n",
      "(384, 'Tusk - 2015 Remaster')\n",
      "(385, 'Best Of You')\n",
      "(386, 'Best of You')\n",
      "(387, 'Big Me')\n",
      "(388, 'Everlong')\n",
      "(389, 'Generator')\n",
      "(390, 'Learn to Fly')\n",
      "(391, 'Long Road To Ruin')\n",
      "(392, 'Monkey Wrench')\n",
      "(393, 'My Hero')\n",
      "(394, 'Rope')\n",
      "(395, 'The Pretender')\n",
      "(396, 'These Days')\n",
      "(397, 'This Is a Call')\n",
      "(398, 'Times Like These')\n",
      "(399, 'Walk')\n",
      "(400, 'Wheels')\n",
      "(401, 'A Different Corner')\n",
      "(402, 'Amazing')\n",
      "(403, 'Careless Whisper')\n",
      "(404, 'Careless Whisper - Remastered')\n",
      "(405, 'Faith - Remastered')\n",
      "(406, 'Fastlove, Pt. 1')\n",
      "(407, 'Father Figure - Remastered')\n",
      "(408, \"Freedom! '90 - Remastered\")\n",
      "(409, 'I Want Your Sex - Pts. 1 & 2 Remastered')\n",
      "(410, 'Jesus to a Child')\n",
      "(411, 'Kissing a Fool - Remastered')\n",
      "(412, 'Miss Sarajevo')\n",
      "(413, 'One More Try - Live')\n",
      "(414, 'One More Try - Remastered')\n",
      "(415, 'Outside')\n",
      "(416, 'Praying for Time - 2010 Remastered Version')\n",
      "(417, 'The First Time Ever I Saw Your Face')\n",
      "(418, 'Too Funky - Remastered 2006')\n",
      "(419, 'Too Funky - Single Edit')\n",
      "(420, '19-2000')\n",
      "(421, 'Clint Eastwood')\n",
      "(422, 'DARE')\n",
      "(423, 'Feel Good Inc.')\n",
      "(424, '21 Guns')\n",
      "(425, '21 Guns (feat. Rebecca Naomi Jones, Christina Sajous, Mary Faber, Stark Sands, John Gallagher Jr., Michael Esper, The American Idiot Broadway Company)')\n",
      "(426, 'American Idiot')\n",
      "(427, 'Basket Case')\n",
      "(428, 'Boulevard of Broken Dreams')\n",
      "(429, 'Brain Stew')\n",
      "(430, 'Good Riddance (Time of Your Life)')\n",
      "(431, \"Hitchin' a Ride\")\n",
      "(432, 'Holiday')\n",
      "(433, 'Know Your Enemy')\n",
      "(434, 'Longview')\n",
      "(435, 'Minority')\n",
      "(436, 'The Forgotten')\n",
      "(437, 'Wake Me up When September Ends')\n",
      "(438, 'Warning')\n",
      "(439, 'Welcome to Paradise')\n",
      "(440, 'When I Come Around')\n",
      "(441, 'Bad At Love')\n",
      "(442, 'Graveyard')\n",
      "(443, 'New Americana')\n",
      "(444, 'Now Or Never')\n",
      "(445, 'Without Me')\n",
      "(446, 'You should be sad')\n",
      "(447, 'Adore You')\n",
      "(448, 'As It Was')\n",
      "(449, 'Falling')\n",
      "(450, 'Golden')\n",
      "(451, 'Kiwi')\n",
      "(452, 'Sign of the Times')\n",
      "(453, 'Treat People With Kindness')\n",
      "(454, 'Watermelon Sugar')\n",
      "(455, 'Bad Liar')\n",
      "(456, 'Believer')\n",
      "(457, 'Bones')\n",
      "(458, 'Demons')\n",
      "(459, 'Follow You')\n",
      "(460, \"It's Time\")\n",
      "(461, 'Natural')\n",
      "(462, 'On Top Of The World')\n",
      "(463, 'Radioactive')\n",
      "(464, 'Roots')\n",
      "(465, 'Thunder')\n",
      "(466, 'Whatever It Takes')\n",
      "(467, \"Ain't It Funny\")\n",
      "(468, 'Get Right')\n",
      "(469, \"I'm Real\")\n",
      "(470, 'If You Had My Love')\n",
      "(471, \"Let's Get Loud\")\n",
      "(472, \"Love Don't Cost a Thing\")\n",
      "(473, 'Play')\n",
      "(474, 'Waiting for Tonight')\n",
      "(475, \"I Think I'm in Love with You\")\n",
      "(476, 'I Wanna Love You Forever')\n",
      "(477, 'Take My Breath Away')\n",
      "(478, \"These Boots Are Made for Walkin'\")\n",
      "(479, 'With You')\n",
      "(480, 'CAN\\'T STOP THE FEELING! (from DreamWorks Animation\\'s \"TROLLS\")')\n",
      "(481, 'Cry Me a River')\n",
      "(482, 'Filthy')\n",
      "(483, 'FutureSex / LoveSound')\n",
      "(484, 'Like I Love You')\n",
      "(485, 'LoveStoned / I Think She Knows - Radio Edit')\n",
      "(486, 'Mirrors')\n",
      "(487, 'Mirrors - Radio Edit')\n",
      "(488, 'Rock Your Body')\n",
      "(489, 'Señorita')\n",
      "(490, 'SoulMate')\n",
      "(491, 'Summer Love')\n"
     ]
    }
   ],
   "execution_count": 8
  },
  {
   "metadata": {
    "ExecuteTime": {
     "end_time": "2025-06-05T12:09:50.827564Z",
     "start_time": "2025-06-04T20:29:06.573409Z"
    }
   },
   "cell_type": "code",
   "source": [
    "from src.abracadabra.recognize import index_all_songs\n",
    "index_all_songs(db_type=\"gcp\", skip_duplicates=True)"
   ],
   "id": "1fc5246e705e9679",
   "outputs": [
    {
     "name": "stdout",
     "output_type": "stream",
     "text": [
      "Downloading audio from https://www.youtube.com/watch?v=hSjIz8oQuko...\n",
      "Downloading audio from https://www.youtube.com/watch?v=Jdjtqu3XK4U...\n",
      "Downloading audio from https://www.youtube.com/watch?v=Dz9h_PNDfwc...\n",
      "Downloading audio from https://www.youtube.com/watch?v=mW1dbiD_zDk...\n",
      "Downloading audio from https://www.youtube.com/watch?v=Hz0K7VoAIts...\n",
      "Downloading audio from https://www.youtube.com/watch?v=WkyDce0AQ6s...\n",
      "Downloading audio from https://www.youtube.com/watch?v=UWJ_P-TdEJ0...\n",
      "Downloading audio from https://www.youtube.com/watch?v=iqYK79jCssA...\n",
      "Downloading audio from https://www.youtube.com/watch?v=eocCPDxKq1o...\n",
      "Downloading audio from https://www.youtube.com/watch?v=XjVNlG5cZyQ...\n",
      "Downloading audio from https://www.youtube.com/watch?v=BR4yQFZK9YM...\n",
      "Downloading audio from https://www.youtube.com/watch?v=D2KE2a5qo0g...\n",
      "Downloading audio from https://www.youtube.com/watch?v=oIR6bAAihWo...\n",
      "Downloading audio from https://www.youtube.com/watch?v=fMtByPKb7lY...\n",
      "Downloading audio from https://www.youtube.com/watch?v=yTCDVfMz15M...\n",
      "Downloading audio from https://www.youtube.com/watch?v=YUtHjOvPKT0...\n",
      "Downloading audio from https://www.youtube.com/watch?v=J1OsKJW51HY...\n",
      "Downloading audio from https://www.youtube.com/watch?v=ClU3fctbGls...\n",
      "Downloading audio from https://www.youtube.com/watch?v=1McgTTRC2u4...\n",
      "Downloading audio from https://www.youtube.com/watch?v=NJWIbIe0N90...\n"
     ]
    },
    {
     "name": "stderr",
     "output_type": "stream",
     "text": [
      "  0%|          | 0/1053 [00:00<?, ?it/s]"
     ]
    },
    {
     "name": "stdout",
     "output_type": "stream",
     "text": [
      "                                                        \r              "
     ]
    },
    {
     "name": "stderr",
     "output_type": "stream",
     "text": [
      "  0%|          | 1/1053 [01:56<33:58:53, 116.29s/it]"
     ]
    },
    {
     "name": "stdout",
     "output_type": "stream",
     "text": [
      "Downloading audio from https://www.youtube.com/watch?v=EFEmTsfFL5A...\n",
      "                                                      \r  "
     ]
    },
    {
     "name": "stderr",
     "output_type": "stream",
     "text": [
      "  0%|          | 2/1053 [03:10<26:38:32, 91.26s/it] "
     ]
    },
    {
     "name": "stdout",
     "output_type": "stream",
     "text": [
      "Downloading audio from https://www.youtube.com/watch?v=A63VwWz1ij0...\n",
      "                                                      \r  "
     ]
    },
    {
     "name": "stderr",
     "output_type": "stream",
     "text": [
      "  0%|          | 3/1053 [03:14<15:07:26, 51.85s/it]"
     ]
    },
    {
     "name": "stdout",
     "output_type": "stream",
     "text": [
      "Downloading audio from https://www.youtube.com/watch?v=f5howHv3F54...\n",
      "                                                      \r  "
     ]
    },
    {
     "name": "stderr",
     "output_type": "stream",
     "text": [
      "  0%|          | 4/1053 [07:29<38:27:33, 131.99s/it]"
     ]
    },
    {
     "name": "stdout",
     "output_type": "stream",
     "text": [
      "Downloading audio from https://www.youtube.com/watch?v=RvnkAtWcKYg...\n",
      "                                                      \r  "
     ]
    },
    {
     "name": "stderr",
     "output_type": "stream",
     "text": [
      "  0%|          | 5/1053 [07:39<25:36:05, 87.94s/it] "
     ]
    },
    {
     "name": "stdout",
     "output_type": "stream",
     "text": [
      "Downloading audio from https://www.youtube.com/watch?v=AEB6ibtdPZc...\n",
      "                                                      \r  "
     ]
    },
    {
     "name": "stderr",
     "output_type": "stream",
     "text": [
      "  1%|          | 6/1053 [07:43<17:14:06, 59.26s/it]"
     ]
    },
    {
     "name": "stdout",
     "output_type": "stream",
     "text": [
      "Downloading audio from https://www.youtube.com/watch?v=OH9A6tn_P6g...\n",
      "                                                      \r  "
     ]
    },
    {
     "name": "stderr",
     "output_type": "stream",
     "text": [
      "  1%|          | 7/1053 [08:39<16:54:09, 58.17s/it]"
     ]
    },
    {
     "name": "stdout",
     "output_type": "stream",
     "text": [
      "Downloading audio from https://www.youtube.com/watch?v=aCyGvGEtOwc...\n",
      "                                                      \r    "
     ]
    },
    {
     "name": "stderr",
     "output_type": "stream",
     "text": [
      "  1%|          | 8/1053 [08:48<12:23:27, 42.69s/it]"
     ]
    },
    {
     "name": "stdout",
     "output_type": "stream",
     "text": [
      "Downloading audio from https://www.youtube.com/watch?v=PoTEnaAI9Fo...\n",
      "                                                      \r  "
     ]
    },
    {
     "name": "stderr",
     "output_type": "stream",
     "text": [
      "  1%|          | 9/1053 [10:44<18:59:33, 65.49s/it]"
     ]
    },
    {
     "name": "stdout",
     "output_type": "stream",
     "text": [
      "Skipping Remedy (ID 28) — already indexed.\n",
      "Downloading audio from https://www.youtube.com/watch?v=OblL026SvD4...\n",
      "                                                      \r    "
     ]
    },
    {
     "name": "stderr",
     "output_type": "stream",
     "text": [
      "  1%|          | 11/1053 [11:09<11:41:54, 40.42s/it]"
     ]
    },
    {
     "name": "stdout",
     "output_type": "stream",
     "text": [
      "Downloading audio from https://www.youtube.com/watch?v=-J7J_IWUhls...\n",
      "                                                      \r                  "
     ]
    },
    {
     "name": "stderr",
     "output_type": "stream",
     "text": [
      "  1%|          | 12/1053 [11:35<10:38:44, 36.81s/it]"
     ]
    },
    {
     "name": "stdout",
     "output_type": "stream",
     "text": [
      "Downloading audio from https://www.youtube.com/watch?v=r2I4P6wNntM...\n",
      "                                                      \r  "
     ]
    },
    {
     "name": "stderr",
     "output_type": "stream",
     "text": [
      "  1%|          | 13/1053 [11:48<8:49:38, 30.56s/it] "
     ]
    },
    {
     "name": "stdout",
     "output_type": "stream",
     "text": [
      "Downloading audio from https://www.youtube.com/watch?v=wuvtoyVi7vY...\n",
      "                                                      \r  "
     ]
    },
    {
     "name": "stderr",
     "output_type": "stream",
     "text": [
      "  1%|▏         | 14/1053 [12:53<11:33:45, 40.06s/it]"
     ]
    },
    {
     "name": "stdout",
     "output_type": "stream",
     "text": [
      "Downloading audio from https://www.youtube.com/watch?v=wuvtoyVi7vY...\n",
      "                                                      \r                  "
     ]
    },
    {
     "name": "stderr",
     "output_type": "stream",
     "text": [
      "  1%|▏         | 15/1053 [14:49<17:43:48, 61.49s/it]"
     ]
    },
    {
     "name": "stdout",
     "output_type": "stream",
     "text": [
      "Downloading audio from https://www.youtube.com/watch?v=YRocXY1-YWs...\n",
      "                                                      \r    "
     ]
    },
    {
     "name": "stderr",
     "output_type": "stream",
     "text": [
      "  2%|▏         | 16/1053 [15:13<14:34:58, 50.62s/it]"
     ]
    },
    {
     "name": "stdout",
     "output_type": "stream",
     "text": [
      "Downloading audio from https://www.youtube.com/watch?v=cG9Ei-HyymE...\n",
      "                                                      \r  "
     ]
    },
    {
     "name": "stderr",
     "output_type": "stream",
     "text": [
      "  2%|▏         | 17/1053 [15:51<13:29:51, 46.90s/it]"
     ]
    },
    {
     "name": "stdout",
     "output_type": "stream",
     "text": [
      "Downloading audio from https://www.youtube.com/watch?v=7i6KEGl5MS0...\n",
      "                                                      \r  "
     ]
    },
    {
     "name": "stderr",
     "output_type": "stream",
     "text": [
      "  2%|▏         | 18/1053 [16:18<11:48:07, 41.05s/it]"
     ]
    },
    {
     "name": "stdout",
     "output_type": "stream",
     "text": [
      "Downloading audio from https://www.youtube.com/watch?v=YkADj0TPrJA...\n",
      "                                                      \r    "
     ]
    },
    {
     "name": "stderr",
     "output_type": "stream",
     "text": [
      "  2%|▏         | 19/1053 [17:56<16:39:19, 57.99s/it]"
     ]
    },
    {
     "name": "stdout",
     "output_type": "stream",
     "text": [
      "Downloading audio from https://www.youtube.com/watch?v=Lj4oV4dTLyM...\n",
      "                                                      \r    "
     ]
    },
    {
     "name": "stderr",
     "output_type": "stream",
     "text": [
      "  2%|▏         | 20/1053 [19:26<19:22:40, 67.53s/it]"
     ]
    },
    {
     "name": "stdout",
     "output_type": "stream",
     "text": [
      "Downloading audio from https://www.youtube.com/watch?v=1wv4yTSFlHI...\n",
      "                                                      \r  "
     ]
    },
    {
     "name": "stderr",
     "output_type": "stream",
     "text": [
      "  2%|▏         | 21/1053 [19:35<14:20:10, 50.01s/it]"
     ]
    },
    {
     "name": "stdout",
     "output_type": "stream",
     "text": [
      "Downloading audio from https://www.youtube.com/watch?v=SidxJz94Svs...\n",
      "                                                      \r  "
     ]
    },
    {
     "name": "stderr",
     "output_type": "stream",
     "text": [
      "  2%|▏         | 22/1053 [20:10<13:05:08, 45.69s/it]"
     ]
    },
    {
     "name": "stdout",
     "output_type": "stream",
     "text": [
      "Downloading audio from https://www.youtube.com/watch?v=oXSn_N2jmBs...\n",
      "                                                      \r  "
     ]
    },
    {
     "name": "stderr",
     "output_type": "stream",
     "text": [
      "  2%|▏         | 23/1053 [20:55<13:00:37, 45.47s/it]"
     ]
    },
    {
     "name": "stdout",
     "output_type": "stream",
     "text": [
      "Downloading audio from https://www.youtube.com/watch?v=HrxX9TBj2zY...\n",
      "                                                      \r  "
     ]
    },
    {
     "name": "stderr",
     "output_type": "stream",
     "text": [
      "  2%|▏         | 24/1053 [33:56<75:53:20, 265.50s/it]"
     ]
    },
    {
     "name": "stdout",
     "output_type": "stream",
     "text": [
      "Downloading audio from https://www.youtube.com/watch?v=x-xTttimcNk...\n",
      "                                                      \r  "
     ]
    },
    {
     "name": "stderr",
     "output_type": "stream",
     "text": [
      "  2%|▏         | 25/1053 [41:16<90:45:46, 317.85s/it]"
     ]
    },
    {
     "name": "stdout",
     "output_type": "stream",
     "text": [
      "Downloading audio from https://www.youtube.com/watch?v=pDKPz6KD8fs...\n",
      "                                                      \r  "
     ]
    },
    {
     "name": "stderr",
     "output_type": "stream",
     "text": [
      "  2%|▏         | 26/1053 [42:21<68:59:06, 241.82s/it]"
     ]
    },
    {
     "name": "stdout",
     "output_type": "stream",
     "text": [
      "Downloading audio from https://www.youtube.com/watch?v=84Tq-eAJIk4...\n",
      "                                                      \r  "
     ]
    },
    {
     "name": "stderr",
     "output_type": "stream",
     "text": [
      "  3%|▎         | 27/1053 [43:09<52:26:32, 184.01s/it]"
     ]
    },
    {
     "name": "stdout",
     "output_type": "stream",
     "text": [
      "Downloading audio from https://www.youtube.com/watch?v=yvtDnXotr-s...\n",
      "                                                      \r  "
     ]
    },
    {
     "name": "stderr",
     "output_type": "stream",
     "text": [
      "  3%|▎         | 28/1053 [44:48<45:04:56, 158.34s/it]"
     ]
    },
    {
     "name": "stdout",
     "output_type": "stream",
     "text": [
      "Downloading audio from https://www.youtube.com/watch?v=UYwF-jdcVjY...\n"
     ]
    },
    {
     "name": "stderr",
     "output_type": "stream",
     "text": [
      "  3%|▎         | 29/1053 [44:49<31:38:17, 111.23s/it]"
     ]
    },
    {
     "name": "stdout",
     "output_type": "stream",
     "text": [
      "Downloading audio from https://www.youtube.com/watch?v=a2wERrLIYmI...\n",
      "                                                      \r  "
     ]
    },
    {
     "name": "stderr",
     "output_type": "stream",
     "text": [
      "  3%|▎         | 30/1053 [44:52<22:24:47, 78.87s/it] "
     ]
    },
    {
     "name": "stdout",
     "output_type": "stream",
     "text": [
      "Downloading audio from https://www.youtube.com/watch?v=wXhTHyIgQ_U...\n",
      "                                                      \r  "
     ]
    },
    {
     "name": "stderr",
     "output_type": "stream",
     "text": [
      "  3%|▎         | 31/1053 [45:20<17:59:55, 63.40s/it]"
     ]
    },
    {
     "name": "stdout",
     "output_type": "stream",
     "text": [
      "Downloading audio from https://www.youtube.com/watch?v=nqfVoTMEosw...\n",
      "                                                      \r  "
     ]
    },
    {
     "name": "stderr",
     "output_type": "stream",
     "text": [
      "  3%|▎         | 32/1053 [45:45<14:42:47, 51.88s/it]"
     ]
    },
    {
     "name": "stdout",
     "output_type": "stream",
     "text": [
      "Skipping Arabella (ID 57) — already indexed.\n",
      "Skipping Do I Wanna Know? (ID 58) — already indexed.\n",
      "Downloading audio from https://www.youtube.com/watch?v=gBGoDmLMe3U...\n",
      "                                                      \r  "
     ]
    },
    {
     "name": "stderr",
     "output_type": "stream",
     "text": [
      "  3%|▎         | 35/1053 [45:50<6:40:32, 23.61s/it] "
     ]
    },
    {
     "name": "stdout",
     "output_type": "stream",
     "text": [
      "Downloading audio from https://www.youtube.com/watch?v=rblt2EtFfC4...\n",
      "                                                      \r  "
     ]
    },
    {
     "name": "stderr",
     "output_type": "stream",
     "text": [
      "  3%|▎         | 36/1053 [46:18<6:58:31, 24.69s/it]"
     ]
    },
    {
     "name": "stdout",
     "output_type": "stream",
     "text": [
      "Downloading audio from https://www.youtube.com/watch?v=rblt2EtFfC4...\n",
      "                                                      \r  "
     ]
    },
    {
     "name": "stderr",
     "output_type": "stream",
     "text": [
      "  4%|▎         | 37/1053 [46:43<6:56:18, 24.59s/it]"
     ]
    },
    {
     "name": "stdout",
     "output_type": "stream",
     "text": [
      "Downloading audio from https://www.youtube.com/watch?v=ulOLYnOthIw...\n",
      "[download]  63.1% of    6.34MiB at    4.89MiB/s ETA 00:00"
     ]
    },
    {
     "name": "stderr",
     "output_type": "stream",
     "text": [
      "  4%|▎         | 38/1053 [46:47<5:29:40, 19.49s/it]"
     ]
    },
    {
     "name": "stdout",
     "output_type": "stream",
     "text": [
      "Downloading audio from https://www.youtube.com/watch?v=rrbFQEcpJ3A...\n",
      "                                                      \r  "
     ]
    },
    {
     "name": "stderr",
     "output_type": "stream",
     "text": [
      "  4%|▎         | 39/1053 [47:17<6:16:59, 22.31s/it]"
     ]
    },
    {
     "name": "stdout",
     "output_type": "stream",
     "text": [
      "Downloading audio from https://www.youtube.com/watch?v=R8xYWbRNzyA...\n",
      "                                                      \r  "
     ]
    },
    {
     "name": "stderr",
     "output_type": "stream",
     "text": [
      "  4%|▍         | 40/1053 [48:43<11:11:38, 39.78s/it]"
     ]
    },
    {
     "name": "stdout",
     "output_type": "stream",
     "text": [
      "Downloading audio from https://www.youtube.com/watch?v=RzHYFWkD8KA...\n",
      "                                                        \r                "
     ]
    },
    {
     "name": "stderr",
     "output_type": "stream",
     "text": [
      "  4%|▍         | 41/1053 [49:19<10:50:28, 38.57s/it]"
     ]
    },
    {
     "name": "stdout",
     "output_type": "stream",
     "text": [
      "Downloading audio from https://www.youtube.com/watch?v=S8HLgxjBzMY...\n",
      "                                                      \r  "
     ]
    },
    {
     "name": "stderr",
     "output_type": "stream",
     "text": [
      "  4%|▍         | 42/1053 [52:48<24:30:15, 87.26s/it]"
     ]
    },
    {
     "name": "stdout",
     "output_type": "stream",
     "text": [
      "Downloading audio from https://www.youtube.com/watch?v=hFDcoX7s6rE...\n",
      "                                                      \r  "
     ]
    },
    {
     "name": "stderr",
     "output_type": "stream",
     "text": [
      "  4%|▍         | 43/1053 [55:22<29:56:40, 106.73s/it]"
     ]
    },
    {
     "name": "stdout",
     "output_type": "stream",
     "text": [
      "Downloading audio from https://www.youtube.com/watch?v=hFDcoX7s6rE...\n",
      "                                                      \r    "
     ]
    },
    {
     "name": "stderr",
     "output_type": "stream",
     "text": [
      "  4%|▍         | 44/1053 [57:14<30:19:55, 108.22s/it]"
     ]
    },
    {
     "name": "stdout",
     "output_type": "stream",
     "text": [
      "Downloading audio from https://www.youtube.com/watch?v=kBFGQ_Khc3Q...\n",
      "                                                      \r    "
     ]
    },
    {
     "name": "stderr",
     "output_type": "stream",
     "text": [
      "  4%|▍         | 45/1053 [57:21<21:58:34, 78.49s/it] "
     ]
    },
    {
     "name": "stdout",
     "output_type": "stream",
     "text": [
      "Downloading audio from https://www.youtube.com/watch?v=UUPkABMOj-Q...\n",
      "                                                      \r  "
     ]
    },
    {
     "name": "stderr",
     "output_type": "stream",
     "text": [
      "  4%|▍         | 46/1053 [57:43<17:14:58, 61.67s/it]"
     ]
    },
    {
     "name": "stdout",
     "output_type": "stream",
     "text": [
      "Downloading audio from https://www.youtube.com/watch?v=cBMXQrW3VNA...\n",
      "                                                      \r  "
     ]
    },
    {
     "name": "stderr",
     "output_type": "stream",
     "text": [
      "  4%|▍         | 47/1053 [58:09<14:15:34, 51.03s/it]"
     ]
    },
    {
     "name": "stdout",
     "output_type": "stream",
     "text": [
      "Downloading audio from https://www.youtube.com/watch?v=qlZqEFbVxgo...\n",
      "                                                      \r  "
     ]
    },
    {
     "name": "stderr",
     "output_type": "stream",
     "text": [
      "  5%|▍         | 48/1053 [58:33<11:58:27, 42.89s/it]"
     ]
    },
    {
     "name": "stdout",
     "output_type": "stream",
     "text": [
      "Downloading audio from https://www.youtube.com/watch?v=EKpHL483Bzw...\n",
      "                                                      \r  "
     ]
    },
    {
     "name": "stderr",
     "output_type": "stream",
     "text": [
      "  5%|▍         | 49/1053 [59:17<12:04:14, 43.28s/it]"
     ]
    },
    {
     "name": "stdout",
     "output_type": "stream",
     "text": [
      "Downloading audio from https://www.youtube.com/watch?v=3O0D6MvWFf4...\n",
      "                                                      \r  "
     ]
    },
    {
     "name": "stderr",
     "output_type": "stream",
     "text": [
      "  5%|▍         | 50/1053 [1:01:41<20:29:42, 73.56s/it]"
     ]
    },
    {
     "name": "stdout",
     "output_type": "stream",
     "text": [
      "Skipping Don't Lie (ID 101) — already indexed.\n",
      "Skipping Love On Top (ID 83) — already indexed.\n",
      "Skipping Don't Phunk With My Heart (ID 102) — already indexed.\n",
      "Skipping Don’t Stop The Party (ID 103) — already indexed.\n",
      "Skipping Hey Mama (ID 104) — already indexed.\n",
      "Skipping I Gotta Feeling (ID 105) — already indexed.\n",
      "Skipping Imma Be (ID 106) — already indexed.\n",
      "Skipping Just Can’t Get Enough (ID 107) — already indexed.\n",
      "Skipping In My Feelings (ID 258) — already indexed.\n",
      "Downloading audio from https://www.youtube.com/watch?v=00X1pAAin9o...\n",
      "                                                      \r  "
     ]
    },
    {
     "name": "stderr",
     "output_type": "stream",
     "text": [
      "  6%|▌         | 60/1053 [1:02:46<5:16:49, 19.14s/it] "
     ]
    },
    {
     "name": "stdout",
     "output_type": "stream",
     "text": [
      "Downloading audio from https://www.youtube.com/watch?v=62v4y43D-3k...\n",
      "                                                      \r  "
     ]
    },
    {
     "name": "stderr",
     "output_type": "stream",
     "text": [
      "  6%|▌         | 61/1053 [1:03:23<5:47:51, 21.04s/it]"
     ]
    },
    {
     "name": "stdout",
     "output_type": "stream",
     "text": [
      "Downloading audio from https://www.youtube.com/watch?v=zFt-FSEJ5oE...\n",
      "                                                        \r               "
     ]
    },
    {
     "name": "stderr",
     "output_type": "stream",
     "text": [
      "  6%|▌         | 62/1053 [1:03:48<5:55:15, 21.51s/it]"
     ]
    },
    {
     "name": "stdout",
     "output_type": "stream",
     "text": [
      "Downloading audio from https://www.youtube.com/watch?v=QSjBvSBYTCo...\n",
      "                                                      \r  "
     ]
    },
    {
     "name": "stderr",
     "output_type": "stream",
     "text": [
      "  6%|▌         | 63/1053 [1:04:32<6:53:16, 25.05s/it]"
     ]
    },
    {
     "name": "stdout",
     "output_type": "stream",
     "text": [
      "Downloading audio from https://www.youtube.com/watch?v=vV8IAOojoAA...\n",
      "                                                      \r  "
     ]
    },
    {
     "name": "stderr",
     "output_type": "stream",
     "text": [
      "  6%|▌         | 64/1053 [1:04:50<6:33:01, 23.84s/it]"
     ]
    },
    {
     "name": "stdout",
     "output_type": "stream",
     "text": [
      "Downloading audio from https://www.youtube.com/watch?v=a9eNQZbjpJk...\n",
      "                                                      \r  "
     ]
    },
    {
     "name": "stderr",
     "output_type": "stream",
     "text": [
      "  6%|▌         | 65/1053 [1:05:10<6:17:47, 22.94s/it]"
     ]
    },
    {
     "name": "stdout",
     "output_type": "stream",
     "text": [
      "Downloading audio from https://www.youtube.com/watch?v=iyu04pqC8lE...\n",
      "                                                      \r  "
     ]
    },
    {
     "name": "stderr",
     "output_type": "stream",
     "text": [
      "  6%|▋         | 66/1053 [1:07:01<11:46:19, 42.94s/it]"
     ]
    },
    {
     "name": "stdout",
     "output_type": "stream",
     "text": [
      "Downloading audio from https://www.youtube.com/watch?v=JnfyjwChuNU...\n",
      "                                                      \r  "
     ]
    },
    {
     "name": "stderr",
     "output_type": "stream",
     "text": [
      "  6%|▋         | 67/1053 [1:07:20<10:12:58, 37.30s/it]"
     ]
    },
    {
     "name": "stdout",
     "output_type": "stream",
     "text": [
      "Downloading audio from https://www.youtube.com/watch?v=YlUKcNNmywk...\n",
      "                                                      \r  "
     ]
    },
    {
     "name": "stderr",
     "output_type": "stream",
     "text": [
      "  6%|▋         | 68/1053 [1:08:21<11:52:51, 43.42s/it]"
     ]
    },
    {
     "name": "stdout",
     "output_type": "stream",
     "text": [
      "Downloading audio from https://www.youtube.com/watch?v=8DyziWtkfBw...\n",
      "                                                      \r                  "
     ]
    },
    {
     "name": "stderr",
     "output_type": "stream",
     "text": [
      "  7%|▋         | 69/1053 [1:09:39<14:24:30, 52.71s/it]"
     ]
    },
    {
     "name": "stdout",
     "output_type": "stream",
     "text": [
      "Downloading audio from https://www.youtube.com/watch?v=Sb5aq5HcS1A...\n",
      "                                                      \r                  "
     ]
    },
    {
     "name": "stderr",
     "output_type": "stream",
     "text": [
      "  7%|▋         | 70/1053 [1:10:46<15:27:18, 56.60s/it]"
     ]
    },
    {
     "name": "stdout",
     "output_type": "stream",
     "text": [
      "Downloading audio from https://www.youtube.com/watch?v=Mr_uHJPUlO8...\n",
      "                                                      \r  "
     ]
    },
    {
     "name": "stderr",
     "output_type": "stream",
     "text": [
      "  7%|▋         | 71/1053 [1:12:38<19:45:10, 72.41s/it]"
     ]
    },
    {
     "name": "stdout",
     "output_type": "stream",
     "text": [
      "Downloading audio from https://www.youtube.com/watch?v=X3mRasO5bvo...\n",
      "                                                      \r  "
     ]
    },
    {
     "name": "stderr",
     "output_type": "stream",
     "text": [
      "  7%|▋         | 72/1053 [1:14:18<21:52:41, 80.29s/it]"
     ]
    },
    {
     "name": "stdout",
     "output_type": "stream",
     "text": [
      "Downloading audio from https://www.youtube.com/watch?v=0kT5w27YxyI...\n",
      "                                                      \r  "
     ]
    },
    {
     "name": "stderr",
     "output_type": "stream",
     "text": [
      "  7%|▋         | 73/1053 [1:18:11<34:02:49, 125.07s/it]"
     ]
    },
    {
     "name": "stdout",
     "output_type": "stream",
     "text": [
      "Downloading audio from https://www.youtube.com/watch?v=rn_YodiJO6k...\n",
      "                                                      \r  "
     ]
    },
    {
     "name": "stderr",
     "output_type": "stream",
     "text": [
      "  7%|▋         | 74/1053 [1:20:43<36:09:00, 132.93s/it]"
     ]
    },
    {
     "name": "stdout",
     "output_type": "stream",
     "text": [
      "Downloading audio from https://www.youtube.com/watch?v=mzJj5-lubeM...\n",
      "                                                      \r  "
     ]
    },
    {
     "name": "stderr",
     "output_type": "stream",
     "text": [
      "  7%|▋         | 75/1053 [1:21:07<27:19:43, 100.60s/it]"
     ]
    },
    {
     "name": "stdout",
     "output_type": "stream",
     "text": [
      "Downloading audio from https://www.youtube.com/watch?v=0XcN12uVHeQ...\n",
      "                                                      \r                  "
     ]
    },
    {
     "name": "stderr",
     "output_type": "stream",
     "text": [
      "  7%|▋         | 76/1053 [1:22:13<24:32:15, 90.41s/it] "
     ]
    },
    {
     "name": "stdout",
     "output_type": "stream",
     "text": [
      "Downloading audio from https://www.youtube.com/watch?v=C6jElKMMOWM...\n"
     ]
    },
    {
     "name": "stderr",
     "output_type": "stream",
     "text": [
      "  7%|▋         | 77/1053 [1:22:14<17:18:07, 63.82s/it]"
     ]
    },
    {
     "name": "stdout",
     "output_type": "stream",
     "text": [
      "Downloading audio from https://www.youtube.com/watch?v=0fcRa5Z6LmU...\n",
      "                                                      \r    "
     ]
    },
    {
     "name": "stderr",
     "output_type": "stream",
     "text": [
      "  7%|▋         | 78/1053 [1:24:22<22:29:12, 83.03s/it]"
     ]
    },
    {
     "name": "stdout",
     "output_type": "stream",
     "text": [
      "Downloading audio from https://www.youtube.com/watch?v=GLvohMXgcBo...\n",
      "                                                      \r    "
     ]
    },
    {
     "name": "stderr",
     "output_type": "stream",
     "text": [
      "  8%|▊         | 79/1053 [1:27:43<31:57:26, 118.12s/it]"
     ]
    },
    {
     "name": "stdout",
     "output_type": "stream",
     "text": [
      "Downloading audio from https://www.youtube.com/watch?v=CoOibAstPJ4...\n",
      "                                                      \r  "
     ]
    },
    {
     "name": "stderr",
     "output_type": "stream",
     "text": [
      "  8%|▊         | 80/1053 [1:29:12<29:34:40, 109.44s/it]"
     ]
    },
    {
     "name": "stdout",
     "output_type": "stream",
     "text": [
      "Downloading audio from https://www.youtube.com/watch?v=nhBorPm6JjQ...\n",
      "                                                      \r  "
     ]
    },
    {
     "name": "stderr",
     "output_type": "stream",
     "text": [
      "  8%|▊         | 81/1053 [1:29:51<23:50:14, 88.29s/it] "
     ]
    },
    {
     "name": "stdout",
     "output_type": "stream",
     "text": [
      "Skipping Let's Get It Started (ID 108) — already indexed.\n",
      "Downloading audio from https://www.youtube.com/watch?v=vp8VZe5kqEM...\n",
      "                                                      \r  "
     ]
    },
    {
     "name": "stderr",
     "output_type": "stream",
     "text": [
      "  8%|▊         | 83/1053 [1:31:20<18:20:42, 68.09s/it]"
     ]
    },
    {
     "name": "stdout",
     "output_type": "stream",
     "text": [
      "Downloading audio from https://www.youtube.com/watch?v=ZR0v0i63PQ4...\n",
      "                                                      \r  "
     ]
    },
    {
     "name": "stderr",
     "output_type": "stream",
     "text": [
      "  8%|▊         | 84/1053 [1:32:44<19:25:25, 72.16s/it]"
     ]
    },
    {
     "name": "stdout",
     "output_type": "stream",
     "text": [
      "Downloading audio from https://www.youtube.com/watch?v=E1mU6h4Xdxc...\n",
      "                                                      \r  "
     ]
    },
    {
     "name": "stderr",
     "output_type": "stream",
     "text": [
      "  8%|▊         | 85/1053 [1:32:53<14:58:35, 55.70s/it]"
     ]
    },
    {
     "name": "stdout",
     "output_type": "stream",
     "text": [
      "Downloading audio from https://www.youtube.com/watch?v=yd8jh9QYfEs...\n",
      "                                                      \r  "
     ]
    },
    {
     "name": "stderr",
     "output_type": "stream",
     "text": [
      "  8%|▊         | 86/1053 [1:36:44<27:46:25, 103.40s/it]"
     ]
    },
    {
     "name": "stdout",
     "output_type": "stream",
     "text": [
      "Downloading audio from https://www.youtube.com/watch?v=hD5MRBzY1uM...\n",
      "                                                      \r  "
     ]
    },
    {
     "name": "stderr",
     "output_type": "stream",
     "text": [
      "  8%|▊         | 87/1053 [1:37:54<25:13:58, 94.04s/it] "
     ]
    },
    {
     "name": "stdout",
     "output_type": "stream",
     "text": [
      "Downloading audio from https://www.youtube.com/watch?v=PDGJ1_O3pR4...\n",
      "                                                      \r  "
     ]
    },
    {
     "name": "stderr",
     "output_type": "stream",
     "text": [
      "  8%|▊         | 88/1053 [1:39:13<24:02:15, 89.67s/it]"
     ]
    },
    {
     "name": "stdout",
     "output_type": "stream",
     "text": [
      "Downloading audio from https://www.youtube.com/watch?v=pa14VNsdSYM...\n",
      "                                                      \r  "
     ]
    },
    {
     "name": "stderr",
     "output_type": "stream",
     "text": [
      "  8%|▊         | 89/1053 [1:39:52<20:03:56, 74.93s/it]"
     ]
    },
    {
     "name": "stdout",
     "output_type": "stream",
     "text": [
      "Downloading audio from https://www.youtube.com/watch?v=oEauWw9ZGrA...\n"
     ]
    },
    {
     "name": "stderr",
     "output_type": "stream",
     "text": [
      "  9%|▊         | 90/1053 [1:39:54<14:22:17, 53.73s/it]"
     ]
    },
    {
     "name": "stdout",
     "output_type": "stream",
     "text": [
      "Downloading audio from https://www.youtube.com/watch?v=e82VE8UtW8A...\n",
      "                                                      \r  "
     ]
    },
    {
     "name": "stderr",
     "output_type": "stream",
     "text": [
      "  9%|▊         | 91/1053 [1:40:01<10:37:54, 39.79s/it]"
     ]
    },
    {
     "name": "stdout",
     "output_type": "stream",
     "text": [
      "Downloading audio from https://www.youtube.com/watch?v=ZQ2nCGawrSY...\n",
      "                                                      \r  "
     ]
    },
    {
     "name": "stderr",
     "output_type": "stream",
     "text": [
      "  9%|▊         | 92/1053 [1:40:32<9:56:30, 37.24s/it] "
     ]
    },
    {
     "name": "stdout",
     "output_type": "stream",
     "text": [
      "Downloading audio from https://www.youtube.com/watch?v=KdS6HFQ_LUc...\n"
     ]
    },
    {
     "name": "stderr",
     "output_type": "stream",
     "text": [
      "ERROR: [youtube] KdS6HFQ_LUc: Sign in to confirm your age. This video may be inappropriate for some users. Use --cookies-from-browser or --cookies for the authentication. See  https://github.com/yt-dlp/yt-dlp/wiki/FAQ#how-do-i-pass-cookies-to-yt-dlp  for how to manually pass cookies. Also see  https://github.com/yt-dlp/yt-dlp/wiki/Extractors#exporting-youtube-cookies  for tips on effectively exporting YouTube cookies\n"
     ]
    },
    {
     "name": "stdout",
     "output_type": "stream",
     "text": [
      "[Attempt 1] Download error: ERROR: [youtube] KdS6HFQ_LUc: Sign in to confirm your age. This video may be inappropriate for some users. Use --cookies-from-browser or --cookies for the authentication. See  https://github.com/yt-dlp/yt-dlp/wiki/FAQ#how-do-i-pass-cookies-to-yt-dlp  for how to manually pass cookies. Also see  https://github.com/yt-dlp/yt-dlp/wiki/Extractors#exporting-youtube-cookies  for tips on effectively exporting YouTube cookies\n"
     ]
    },
    {
     "name": "stderr",
     "output_type": "stream",
     "text": [
      "ERROR: [youtube] KdS6HFQ_LUc: Sign in to confirm your age. This video may be inappropriate for some users. Use --cookies-from-browser or --cookies for the authentication. See  https://github.com/yt-dlp/yt-dlp/wiki/FAQ#how-do-i-pass-cookies-to-yt-dlp  for how to manually pass cookies. Also see  https://github.com/yt-dlp/yt-dlp/wiki/Extractors#exporting-youtube-cookies  for tips on effectively exporting YouTube cookies\n",
      "  9%|▉         | 93/1053 [1:40:35<7:14:28, 27.15s/it]"
     ]
    },
    {
     "name": "stdout",
     "output_type": "stream",
     "text": [
      "[Attempt 2] Download error: ERROR: [youtube] KdS6HFQ_LUc: Sign in to confirm your age. This video may be inappropriate for some users. Use --cookies-from-browser or --cookies for the authentication. See  https://github.com/yt-dlp/yt-dlp/wiki/FAQ#how-do-i-pass-cookies-to-yt-dlp  for how to manually pass cookies. Also see  https://github.com/yt-dlp/yt-dlp/wiki/Extractors#exporting-youtube-cookies  for tips on effectively exporting YouTube cookies\n",
      "Error indexing S&M (ID 857): cannot unpack non-iterable NoneType object\n",
      "Downloading audio from https://www.youtube.com/watch?v=IXmF4GbA86E...\n",
      "                                                      \r  "
     ]
    },
    {
     "name": "stderr",
     "output_type": "stream",
     "text": [
      "  9%|▉         | 94/1053 [1:40:53<6:27:46, 24.26s/it]"
     ]
    },
    {
     "name": "stdout",
     "output_type": "stream",
     "text": [
      "Downloading audio from https://www.youtube.com/watch?v=up7pvPqNkuU...\n",
      "                                                      \r  "
     ]
    },
    {
     "name": "stderr",
     "output_type": "stream",
     "text": [
      "  9%|▉         | 95/1053 [1:41:40<8:16:28, 31.09s/it]"
     ]
    },
    {
     "name": "stdout",
     "output_type": "stream",
     "text": [
      "Downloading audio from https://www.youtube.com/watch?v=J3UjJ4wKLkg...\n",
      "                                                      \r  "
     ]
    },
    {
     "name": "stderr",
     "output_type": "stream",
     "text": [
      "  9%|▉         | 96/1053 [1:42:07<7:55:58, 29.84s/it]"
     ]
    },
    {
     "name": "stdout",
     "output_type": "stream",
     "text": [
      "Downloading audio from https://www.youtube.com/watch?v=Oe4Ic7fHWf8...\n",
      "                                                      \r    "
     ]
    },
    {
     "name": "stderr",
     "output_type": "stream",
     "text": [
      "  9%|▉         | 97/1053 [1:44:13<15:36:53, 58.80s/it]"
     ]
    },
    {
     "name": "stdout",
     "output_type": "stream",
     "text": [
      "Downloading audio from https://www.youtube.com/watch?v=rp4UwPZfRis...\n",
      "                                                      \r  "
     ]
    },
    {
     "name": "stderr",
     "output_type": "stream",
     "text": [
      "  9%|▉         | 98/1053 [1:45:35<17:23:12, 65.54s/it]"
     ]
    },
    {
     "name": "stdout",
     "output_type": "stream",
     "text": [
      "Downloading audio from https://www.youtube.com/watch?v=b-3BI9AspYc...\n",
      "                                                      \r  "
     ]
    },
    {
     "name": "stderr",
     "output_type": "stream",
     "text": [
      "  9%|▉         | 99/1053 [1:46:24<16:04:56, 60.69s/it]"
     ]
    },
    {
     "name": "stdout",
     "output_type": "stream",
     "text": [
      "Downloading audio from https://www.youtube.com/watch?v=HBxt_v0WF6Y...\n",
      "                                                      \r  "
     ]
    },
    {
     "name": "stderr",
     "output_type": "stream",
     "text": [
      "  9%|▉         | 100/1053 [1:49:44<27:05:49, 102.36s/it]"
     ]
    },
    {
     "name": "stdout",
     "output_type": "stream",
     "text": [
      "Downloading audio from https://www.youtube.com/watch?v=b3HeLs8Yosw...\n",
      "                                                      \r    "
     ]
    },
    {
     "name": "stderr",
     "output_type": "stream",
     "text": [
      " 10%|▉         | 101/1053 [1:50:21<21:52:32, 82.72s/it] "
     ]
    },
    {
     "name": "stdout",
     "output_type": "stream",
     "text": [
      "Downloading audio from https://www.youtube.com/watch?v=8RvAKRoIDqU...\n",
      "                                                      \r  "
     ]
    },
    {
     "name": "stderr",
     "output_type": "stream",
     "text": [
      " 10%|▉         | 102/1053 [1:50:50<17:38:05, 66.76s/it]"
     ]
    },
    {
     "name": "stdout",
     "output_type": "stream",
     "text": [
      "Downloading audio from https://www.youtube.com/watch?v=PmYypVozQb4...\n",
      "                                                      \r  "
     ]
    },
    {
     "name": "stderr",
     "output_type": "stream",
     "text": [
      " 10%|▉         | 103/1053 [1:53:58<27:10:51, 103.00s/it]"
     ]
    },
    {
     "name": "stdout",
     "output_type": "stream",
     "text": [
      "Downloading audio from https://www.youtube.com/watch?v=nCkpzqqog4k...\n",
      "                                                      \r  "
     ]
    },
    {
     "name": "stderr",
     "output_type": "stream",
     "text": [
      " 10%|▉         | 104/1053 [1:54:52<23:18:19, 88.41s/it] "
     ]
    },
    {
     "name": "stdout",
     "output_type": "stream",
     "text": [
      "Downloading audio from https://www.youtube.com/watch?v=VAgmPa3WpO4...\n",
      "                                                      \r  "
     ]
    },
    {
     "name": "stderr",
     "output_type": "stream",
     "text": [
      " 10%|▉         | 105/1053 [1:55:40<20:05:28, 76.30s/it]"
     ]
    },
    {
     "name": "stdout",
     "output_type": "stream",
     "text": [
      "Downloading audio from https://www.youtube.com/watch?v=pSv54_VoaLo...\n",
      "                                                      \r  "
     ]
    },
    {
     "name": "stderr",
     "output_type": "stream",
     "text": [
      " 10%|█         | 106/1053 [1:57:14<21:28:06, 81.61s/it]"
     ]
    },
    {
     "name": "stdout",
     "output_type": "stream",
     "text": [
      "Downloading audio from https://www.youtube.com/watch?v=7AXo-bYGXI4...\n",
      "                                                      \r                  "
     ]
    },
    {
     "name": "stderr",
     "output_type": "stream",
     "text": [
      " 10%|█         | 107/1053 [1:57:47<17:36:15, 66.99s/it]"
     ]
    },
    {
     "name": "stdout",
     "output_type": "stream",
     "text": [
      "Downloading audio from https://www.youtube.com/watch?v=hhREiAarjVY...\n",
      "                                                      \r  "
     ]
    },
    {
     "name": "stderr",
     "output_type": "stream",
     "text": [
      " 10%|█         | 108/1053 [1:59:24<19:56:18, 75.96s/it]"
     ]
    },
    {
     "name": "stdout",
     "output_type": "stream",
     "text": [
      "Downloading audio from https://www.youtube.com/watch?v=pB-5XG-DbAA...\n",
      "                                                      \r  "
     ]
    },
    {
     "name": "stderr",
     "output_type": "stream",
     "text": [
      " 10%|█         | 109/1053 [1:59:47<15:47:40, 60.23s/it]"
     ]
    },
    {
     "name": "stdout",
     "output_type": "stream",
     "text": [
      "Downloading audio from https://www.youtube.com/watch?v=_-6NugKNdIs...\n",
      "                                                      \r  "
     ]
    },
    {
     "name": "stderr",
     "output_type": "stream",
     "text": [
      " 10%|█         | 110/1053 [2:00:33<14:38:41, 55.91s/it]"
     ]
    },
    {
     "name": "stdout",
     "output_type": "stream",
     "text": [
      "Downloading audio from https://www.youtube.com/watch?v=POIK1H3L86k...\n",
      "                                                      \r  "
     ]
    },
    {
     "name": "stderr",
     "output_type": "stream",
     "text": [
      " 11%|█         | 111/1053 [2:00:51<11:40:06, 44.59s/it]"
     ]
    },
    {
     "name": "stdout",
     "output_type": "stream",
     "text": [
      "Downloading audio from https://www.youtube.com/watch?v=J_ub7Etch2U...\n",
      "                                                      \r  "
     ]
    },
    {
     "name": "stderr",
     "output_type": "stream",
     "text": [
      " 11%|█         | 112/1053 [2:01:38<11:47:18, 45.10s/it]"
     ]
    },
    {
     "name": "stdout",
     "output_type": "stream",
     "text": [
      "Downloading audio from https://www.youtube.com/watch?v=J_ub7Etch2U...\n"
     ]
    },
    {
     "name": "stderr",
     "output_type": "stream",
     "text": [
      " 11%|█         | 113/1053 [2:01:39<8:22:14, 32.06s/it] "
     ]
    },
    {
     "name": "stdout",
     "output_type": "stream",
     "text": [
      "Downloading audio from https://www.youtube.com/watch?v=8jzDnsjYv9A...\n",
      "                                                      \r  "
     ]
    },
    {
     "name": "stderr",
     "output_type": "stream",
     "text": [
      " 11%|█         | 114/1053 [2:02:39<10:32:44, 40.43s/it]"
     ]
    },
    {
     "name": "stdout",
     "output_type": "stream",
     "text": [
      "Downloading audio from https://www.youtube.com/watch?v=mr7ZfX1E55g...\n",
      "                                                      \r  "
     ]
    },
    {
     "name": "stderr",
     "output_type": "stream",
     "text": [
      " 11%|█         | 115/1053 [2:02:50<8:14:15, 31.62s/it] "
     ]
    },
    {
     "name": "stdout",
     "output_type": "stream",
     "text": [
      "Downloading audio from https://www.youtube.com/watch?v=JWn74SXsPy0...\n",
      "                                                      \r  "
     ]
    },
    {
     "name": "stderr",
     "output_type": "stream",
     "text": [
      " 11%|█         | 116/1053 [2:04:24<13:03:55, 50.20s/it]"
     ]
    },
    {
     "name": "stdout",
     "output_type": "stream",
     "text": [
      "Downloading audio from https://www.youtube.com/watch?v=c6rP-YP4c5I...\n",
      "                                                      \r  "
     ]
    },
    {
     "name": "stderr",
     "output_type": "stream",
     "text": [
      " 11%|█         | 117/1053 [2:04:34<9:55:57, 38.20s/it] "
     ]
    },
    {
     "name": "stdout",
     "output_type": "stream",
     "text": [
      "Downloading audio from https://www.youtube.com/watch?v=uwBwKcQ1k84...\n",
      "                                                      \r  "
     ]
    },
    {
     "name": "stderr",
     "output_type": "stream",
     "text": [
      " 11%|█         | 118/1053 [2:06:36<16:26:03, 63.28s/it]"
     ]
    },
    {
     "name": "stdout",
     "output_type": "stream",
     "text": [
      "Downloading audio from https://www.youtube.com/watch?v=oTJ-oqwxdZY...\n",
      "                                                      \r  "
     ]
    },
    {
     "name": "stderr",
     "output_type": "stream",
     "text": [
      " 11%|█▏        | 119/1053 [2:07:10<14:10:38, 54.64s/it]"
     ]
    },
    {
     "name": "stdout",
     "output_type": "stream",
     "text": [
      "Downloading audio from https://www.youtube.com/watch?v=36tggrpRoTI...\n",
      "                                                      \r                  "
     ]
    },
    {
     "name": "stderr",
     "output_type": "stream",
     "text": [
      " 11%|█▏        | 120/1053 [2:07:42<12:22:16, 47.73s/it]"
     ]
    },
    {
     "name": "stdout",
     "output_type": "stream",
     "text": [
      "Downloading audio from https://www.youtube.com/watch?v=5fcTCMWx2-s...\n",
      "                                                      \r  "
     ]
    },
    {
     "name": "stderr",
     "output_type": "stream",
     "text": [
      " 11%|█▏        | 121/1053 [2:08:36<12:52:25, 49.73s/it]"
     ]
    },
    {
     "name": "stdout",
     "output_type": "stream",
     "text": [
      "Downloading audio from https://www.youtube.com/watch?v=SAWzXkV3hHo...\n",
      "                                                      \r  "
     ]
    },
    {
     "name": "stderr",
     "output_type": "stream",
     "text": [
      " 12%|█▏        | 122/1053 [2:09:13<11:51:23, 45.85s/it]"
     ]
    },
    {
     "name": "stdout",
     "output_type": "stream",
     "text": [
      "Downloading audio from https://www.youtube.com/watch?v=KkGVmN68ByU...\n",
      "                                                      \r  "
     ]
    },
    {
     "name": "stderr",
     "output_type": "stream",
     "text": [
      " 12%|█▏        | 123/1053 [2:09:17<8:35:29, 33.26s/it] "
     ]
    },
    {
     "name": "stdout",
     "output_type": "stream",
     "text": [
      "Downloading audio from https://www.youtube.com/watch?v=DGzy8FE1Rhk...\n"
     ]
    },
    {
     "name": "stderr",
     "output_type": "stream",
     "text": [
      " 12%|█▏        | 124/1053 [2:09:19<6:07:57, 23.76s/it]"
     ]
    },
    {
     "name": "stdout",
     "output_type": "stream",
     "text": [
      "Downloading audio from https://www.youtube.com/watch?v=mytLRy32Viw...\n",
      "                                                      \r  "
     ]
    },
    {
     "name": "stderr",
     "output_type": "stream",
     "text": [
      " 12%|█▏        | 125/1053 [2:09:48<6:35:13, 25.55s/it]"
     ]
    },
    {
     "name": "stdout",
     "output_type": "stream",
     "text": [
      "Downloading audio from https://www.youtube.com/watch?v=VbfpW0pbvaU...\n",
      "                                                       \r "
     ]
    },
    {
     "name": "stderr",
     "output_type": "stream",
     "text": [
      " 12%|█▏        | 126/1053 [2:09:52<4:53:03, 18.97s/it]"
     ]
    },
    {
     "name": "stdout",
     "output_type": "stream",
     "text": [
      "Downloading audio from https://www.youtube.com/watch?v=dT2owtxkU8k...\n",
      "                                                      \r  "
     ]
    },
    {
     "name": "stderr",
     "output_type": "stream",
     "text": [
      " 12%|█▏        | 127/1053 [2:10:15<5:13:24, 20.31s/it]"
     ]
    },
    {
     "name": "stdout",
     "output_type": "stream",
     "text": [
      "Downloading audio from https://www.youtube.com/watch?v=lY2yjAdbvdQ...\n",
      "                                                      \r  "
     ]
    },
    {
     "name": "stderr",
     "output_type": "stream",
     "text": [
      " 12%|█▏        | 128/1053 [2:10:42<5:42:31, 22.22s/it]"
     ]
    },
    {
     "name": "stdout",
     "output_type": "stream",
     "text": [
      "Downloading audio from https://www.youtube.com/watch?v=RRic28k8sVU...\n",
      "[download]  16.1% of    3.10MiB at    5.71MiB/s ETA 00:00"
     ]
    },
    {
     "name": "stderr",
     "output_type": "stream",
     "text": [
      " 12%|█▏        | 129/1053 [2:10:45<4:13:16, 16.45s/it]"
     ]
    },
    {
     "name": "stdout",
     "output_type": "stream",
     "text": [
      "Downloading audio from https://www.youtube.com/watch?v=fHeQemJJQII...\n",
      "                                                      \r  "
     ]
    },
    {
     "name": "stderr",
     "output_type": "stream",
     "text": [
      " 12%|█▏        | 130/1053 [2:17:18<33:10:08, 129.37s/it]"
     ]
    },
    {
     "name": "stdout",
     "output_type": "stream",
     "text": [
      "Downloading audio from https://www.youtube.com/watch?v=wHylQRVN2Qs...\n",
      "                                                      \r  "
     ]
    },
    {
     "name": "stderr",
     "output_type": "stream",
     "text": [
      " 12%|█▏        | 131/1053 [2:18:19<27:51:56, 108.80s/it]"
     ]
    },
    {
     "name": "stdout",
     "output_type": "stream",
     "text": [
      "Downloading audio from https://www.youtube.com/watch?v=NlwIDxCjL-8...\n",
      "                                                      \r  "
     ]
    },
    {
     "name": "stderr",
     "output_type": "stream",
     "text": [
      " 13%|█▎        | 132/1053 [2:18:37<20:51:09, 81.51s/it] "
     ]
    },
    {
     "name": "stdout",
     "output_type": "stream",
     "text": [
      "Downloading audio from https://www.youtube.com/watch?v=v8UdgrZlm6g...\n",
      "                                                      \r  "
     ]
    },
    {
     "name": "stderr",
     "output_type": "stream",
     "text": [
      " 13%|█▎        | 133/1053 [2:20:05<21:23:46, 83.72s/it]"
     ]
    },
    {
     "name": "stdout",
     "output_type": "stream",
     "text": [
      "Downloading audio from https://www.youtube.com/watch?v=WrAV5EVI4tU...\n",
      "                                                      \r  "
     ]
    },
    {
     "name": "stderr",
     "output_type": "stream",
     "text": [
      " 13%|█▎        | 134/1053 [2:20:09<15:15:00, 59.74s/it]"
     ]
    },
    {
     "name": "stdout",
     "output_type": "stream",
     "text": [
      "Downloading audio from https://www.youtube.com/watch?v=oxwAB3SECtc...\n"
     ]
    },
    {
     "name": "stderr",
     "output_type": "stream",
     "text": [
      " 13%|█▎        | 135/1053 [2:20:10<10:44:22, 42.12s/it]"
     ]
    },
    {
     "name": "stdout",
     "output_type": "stream",
     "text": [
      "Downloading audio from https://www.youtube.com/watch?v=d4_6N-k5VS4...\n",
      "                                                      \r  "
     ]
    },
    {
     "name": "stderr",
     "output_type": "stream",
     "text": [
      " 13%|█▎        | 136/1053 [2:20:21<8:17:41, 32.56s/it] "
     ]
    },
    {
     "name": "stdout",
     "output_type": "stream",
     "text": [
      "Downloading audio from https://www.youtube.com/watch?v=5en2JMLA8Z0...\n",
      "                                                      \r                  "
     ]
    },
    {
     "name": "stderr",
     "output_type": "stream",
     "text": [
      " 13%|█▎        | 137/1053 [2:20:51<8:06:20, 31.86s/it]"
     ]
    },
    {
     "name": "stdout",
     "output_type": "stream",
     "text": [
      "Downloading audio from https://www.youtube.com/watch?v=v1HDt1tknTc...\n",
      "                                                      \r  "
     ]
    },
    {
     "name": "stderr",
     "output_type": "stream",
     "text": [
      " 13%|█▎        | 138/1053 [2:21:08<6:59:14, 27.49s/it]"
     ]
    },
    {
     "name": "stdout",
     "output_type": "stream",
     "text": [
      "Downloading audio from https://www.youtube.com/watch?v=czhd27cN2dg...\n",
      "                                                      \r  "
     ]
    },
    {
     "name": "stderr",
     "output_type": "stream",
     "text": [
      " 13%|█▎        | 139/1053 [2:22:06<9:18:24, 36.66s/it]"
     ]
    },
    {
     "name": "stdout",
     "output_type": "stream",
     "text": [
      "Downloading audio from https://www.youtube.com/watch?v=QDYfEBY9NM4...\n",
      "                                                      \r  "
     ]
    },
    {
     "name": "stderr",
     "output_type": "stream",
     "text": [
      " 13%|█▎        | 140/1053 [2:25:08<20:20:17, 80.19s/it]"
     ]
    },
    {
     "name": "stdout",
     "output_type": "stream",
     "text": [
      "Downloading audio from https://www.youtube.com/watch?v=8scSwaKbE64...\n",
      "                                                      \r                  "
     ]
    },
    {
     "name": "stderr",
     "output_type": "stream",
     "text": [
      " 13%|█▎        | 141/1053 [2:25:22<15:18:09, 60.41s/it]"
     ]
    },
    {
     "name": "stdout",
     "output_type": "stream",
     "text": [
      "Downloading audio from https://www.youtube.com/watch?v=9x5WY_jmsko...\n"
     ]
    },
    {
     "name": "stderr",
     "output_type": "stream",
     "text": [
      " 13%|█▎        | 142/1053 [2:25:24<10:49:47, 42.80s/it]"
     ]
    },
    {
     "name": "stdout",
     "output_type": "stream",
     "text": [
      "Downloading audio from https://www.youtube.com/watch?v=yYvkICbTZIQ...\n",
      "                                                      \r  "
     ]
    },
    {
     "name": "stderr",
     "output_type": "stream",
     "text": [
      " 14%|█▎        | 143/1053 [2:26:25<12:13:07, 48.34s/it]"
     ]
    },
    {
     "name": "stdout",
     "output_type": "stream",
     "text": [
      "Downloading audio from https://www.youtube.com/watch?v=S-rB0pHI9fU...\n",
      "                                                      \r  "
     ]
    },
    {
     "name": "stderr",
     "output_type": "stream",
     "text": [
      " 14%|█▎        | 144/1053 [2:26:49<10:19:40, 40.90s/it]"
     ]
    },
    {
     "name": "stdout",
     "output_type": "stream",
     "text": [
      "Downloading audio from https://www.youtube.com/watch?v=v2Kk5IG2b8E...\n",
      "                                                      \r  "
     ]
    },
    {
     "name": "stderr",
     "output_type": "stream",
     "text": [
      " 14%|█▍        | 145/1053 [2:26:53<7:34:27, 30.03s/it] "
     ]
    },
    {
     "name": "stdout",
     "output_type": "stream",
     "text": [
      "Downloading audio from https://www.youtube.com/watch?v=IRF6nmqcbxo...\n",
      "                                                      \r  "
     ]
    },
    {
     "name": "stderr",
     "output_type": "stream",
     "text": [
      " 14%|█▍        | 146/1053 [2:27:53<9:49:11, 38.98s/it]"
     ]
    },
    {
     "name": "stdout",
     "output_type": "stream",
     "text": [
      "Downloading audio from https://www.youtube.com/watch?v=Hz5jXwOXgKQ...\n"
     ]
    },
    {
     "name": "stderr",
     "output_type": "stream",
     "text": [
      " 14%|█▍        | 147/1053 [2:27:54<6:55:38, 27.53s/it]"
     ]
    },
    {
     "name": "stdout",
     "output_type": "stream",
     "text": [
      "Downloading audio from https://www.youtube.com/watch?v=HbsyDHxca7Y...\n",
      "                                                      \r                  "
     ]
    },
    {
     "name": "stderr",
     "output_type": "stream",
     "text": [
      " 14%|█▍        | 148/1053 [2:29:15<10:55:49, 43.48s/it]"
     ]
    },
    {
     "name": "stdout",
     "output_type": "stream",
     "text": [
      "Downloading audio from https://www.youtube.com/watch?v=8JKoFCUaUbY...\n",
      "                                                      \r  "
     ]
    },
    {
     "name": "stderr",
     "output_type": "stream",
     "text": [
      " 14%|█▍        | 149/1053 [2:31:17<16:50:16, 67.05s/it]"
     ]
    },
    {
     "name": "stdout",
     "output_type": "stream",
     "text": [
      "Downloading audio from https://www.youtube.com/watch?v=oZnm_s3wZeo...\n",
      "                                                      \r  "
     ]
    },
    {
     "name": "stderr",
     "output_type": "stream",
     "text": [
      " 14%|█▍        | 150/1053 [2:32:18<16:22:52, 65.31s/it]"
     ]
    },
    {
     "name": "stdout",
     "output_type": "stream",
     "text": [
      "Downloading audio from https://www.youtube.com/watch?v=fR4HjTH_fTM...\n",
      "                                                      \r                  "
     ]
    },
    {
     "name": "stderr",
     "output_type": "stream",
     "text": [
      " 14%|█▍        | 151/1053 [2:36:45<31:31:14, 125.80s/it]"
     ]
    },
    {
     "name": "stdout",
     "output_type": "stream",
     "text": [
      "Downloading audio from https://www.youtube.com/watch?v=SyNt5zm3U_M...\n",
      "                                                      \r    "
     ]
    },
    {
     "name": "stderr",
     "output_type": "stream",
     "text": [
      " 14%|█▍        | 152/1053 [2:37:12<24:03:20, 96.12s/it] "
     ]
    },
    {
     "name": "stdout",
     "output_type": "stream",
     "text": [
      "Downloading audio from https://www.youtube.com/watch?v=2RicaUqd9Hg...\n",
      "                                                      \r  "
     ]
    },
    {
     "name": "stderr",
     "output_type": "stream",
     "text": [
      " 15%|█▍        | 153/1053 [2:37:17<17:14:35, 68.97s/it]"
     ]
    },
    {
     "name": "stdout",
     "output_type": "stream",
     "text": [
      "Downloading audio from https://www.youtube.com/watch?v=IgRrWPdzkao...\n",
      "                                                      \r  "
     ]
    },
    {
     "name": "stderr",
     "output_type": "stream",
     "text": [
      " 15%|█▍        | 154/1053 [2:37:53<14:42:07, 58.87s/it]"
     ]
    },
    {
     "name": "stdout",
     "output_type": "stream",
     "text": [
      "Skipping Please Forgive Me (ID 182) — already indexed.\n",
      "Skipping Beautiful (ID 201) — already indexed.\n",
      "Skipping Candyman (ID 202) — already indexed.\n",
      "Skipping Come on over Baby (All I Want Is You) - Radio Version (ID 203) — already indexed.\n",
      "Skipping Fighter (ID 204) — already indexed.\n",
      "Skipping Genie in a Bottle (ID 206) — already indexed.\n",
      "Downloading audio from https://www.youtube.com/watch?v=HCTunqv1Xt4...\n",
      "                                                      \r  "
     ]
    },
    {
     "name": "stderr",
     "output_type": "stream",
     "text": [
      " 15%|█▌        | 161/1053 [2:38:54<5:15:55, 21.25s/it] "
     ]
    },
    {
     "name": "stdout",
     "output_type": "stream",
     "text": [
      "Downloading audio from https://www.youtube.com/watch?v=ztHxu-13UqI...\n",
      "                                                      \r  "
     ]
    },
    {
     "name": "stderr",
     "output_type": "stream",
     "text": [
      " 15%|█▌        | 162/1053 [2:39:52<6:29:28, 26.23s/it]"
     ]
    },
    {
     "name": "stdout",
     "output_type": "stream",
     "text": [
      "Downloading audio from https://www.youtube.com/watch?v=ZhxJAxa77sE...\n",
      "                                                      \r    "
     ]
    },
    {
     "name": "stderr",
     "output_type": "stream",
     "text": [
      " 15%|█▌        | 163/1053 [2:41:16<8:44:35, 35.37s/it]"
     ]
    },
    {
     "name": "stdout",
     "output_type": "stream",
     "text": [
      "Downloading audio from https://www.youtube.com/watch?v=NrgmdOz227I...\n"
     ]
    },
    {
     "name": "stderr",
     "output_type": "stream",
     "text": [
      " 16%|█▌        | 164/1053 [2:41:17<7:08:30, 28.92s/it]"
     ]
    },
    {
     "name": "stdout",
     "output_type": "stream",
     "text": [
      "Downloading audio from https://www.youtube.com/watch?v=kdemFfbS5H0...\n"
     ]
    },
    {
     "name": "stderr",
     "output_type": "stream",
     "text": [
      " 16%|█▌        | 165/1053 [2:41:17<5:40:55, 23.04s/it]"
     ]
    },
    {
     "name": "stdout",
     "output_type": "stream",
     "text": [
      "Downloading audio from https://www.youtube.com/watch?v=Lsv5IeI8bA8...\n",
      "                                                      \r  "
     ]
    },
    {
     "name": "stderr",
     "output_type": "stream",
     "text": [
      " 16%|█▌        | 166/1053 [2:41:23<4:40:48, 18.99s/it]"
     ]
    },
    {
     "name": "stdout",
     "output_type": "stream",
     "text": [
      "Downloading audio from https://www.youtube.com/watch?v=RhU9MZ98jxo...\n",
      "                                                      \r  "
     ]
    },
    {
     "name": "stderr",
     "output_type": "stream",
     "text": [
      " 16%|█▌        | 167/1053 [2:43:23<10:51:23, 44.11s/it]"
     ]
    },
    {
     "name": "stdout",
     "output_type": "stream",
     "text": [
      "Downloading audio from https://www.youtube.com/watch?v=sZTpLvsYYHw...\n",
      "                                                      \r    "
     ]
    },
    {
     "name": "stderr",
     "output_type": "stream",
     "text": [
      " 16%|█▌        | 168/1053 [2:43:54<9:58:16, 40.56s/it] "
     ]
    },
    {
     "name": "stdout",
     "output_type": "stream",
     "text": [
      "Downloading audio from https://www.youtube.com/watch?v=RIZdjT1472Y...\n",
      "                                                      \r  "
     ]
    },
    {
     "name": "stderr",
     "output_type": "stream",
     "text": [
      " 16%|█▌        | 169/1053 [2:44:24<9:16:07, 37.75s/it]"
     ]
    },
    {
     "name": "stdout",
     "output_type": "stream",
     "text": [
      "Downloading audio from https://www.youtube.com/watch?v=gGdGFtwCNBE...\n",
      "                                                      \r  "
     ]
    },
    {
     "name": "stderr",
     "output_type": "stream",
     "text": [
      " 16%|█▌        | 170/1053 [2:45:23<10:42:55, 43.69s/it]"
     ]
    },
    {
     "name": "stdout",
     "output_type": "stream",
     "text": [
      "Downloading audio from https://www.youtube.com/watch?v=TMbyWSGYUgc...\n",
      "                                                      \r  "
     ]
    },
    {
     "name": "stderr",
     "output_type": "stream",
     "text": [
      " 16%|█▌        | 171/1053 [2:47:04<14:43:02, 60.07s/it]"
     ]
    },
    {
     "name": "stdout",
     "output_type": "stream",
     "text": [
      "Downloading audio from https://www.youtube.com/watch?v=ZAErD8xzjCM...\n",
      "                                                      \r  "
     ]
    },
    {
     "name": "stderr",
     "output_type": "stream",
     "text": [
      " 16%|█▋        | 172/1053 [2:47:39<12:53:16, 52.66s/it]"
     ]
    },
    {
     "name": "stdout",
     "output_type": "stream",
     "text": [
      "Downloading audio from https://www.youtube.com/watch?v=Y5fBdpreJiU...\n",
      "                                                      \r    "
     ]
    },
    {
     "name": "stderr",
     "output_type": "stream",
     "text": [
      " 16%|█▋        | 173/1053 [2:47:43<9:24:07, 38.46s/it] "
     ]
    },
    {
     "name": "stdout",
     "output_type": "stream",
     "text": [
      "Downloading audio from https://www.youtube.com/watch?v=Hc16Y9fiCvQ...\n",
      "                                                      \r                  "
     ]
    },
    {
     "name": "stderr",
     "output_type": "stream",
     "text": [
      " 17%|█▋        | 174/1053 [2:47:50<7:07:13, 29.16s/it]"
     ]
    },
    {
     "name": "stdout",
     "output_type": "stream",
     "text": [
      "Downloading audio from https://www.youtube.com/watch?v=ff0oWESdmH0...\n",
      "                                                      \r    "
     ]
    },
    {
     "name": "stderr",
     "output_type": "stream",
     "text": [
      " 17%|█▋        | 175/1053 [2:47:54<5:20:45, 21.92s/it]"
     ]
    },
    {
     "name": "stdout",
     "output_type": "stream",
     "text": [
      "Downloading audio from https://www.youtube.com/watch?v=nrIPxlFzDi0...\n",
      "                                                      \r  "
     ]
    },
    {
     "name": "stderr",
     "output_type": "stream",
     "text": [
      " 17%|█▋        | 176/1053 [2:50:20<14:16:45, 58.62s/it]"
     ]
    },
    {
     "name": "stdout",
     "output_type": "stream",
     "text": [
      "Downloading audio from https://www.youtube.com/watch?v=1qLIOhVqpMs...\n",
      "                                                        \r               "
     ]
    },
    {
     "name": "stderr",
     "output_type": "stream",
     "text": [
      " 17%|█▋        | 177/1053 [2:51:15<14:02:49, 57.73s/it]"
     ]
    },
    {
     "name": "stdout",
     "output_type": "stream",
     "text": [
      "Downloading audio from https://www.youtube.com/watch?v=J0HpuzIwYv4...\n",
      "                                                      \r  "
     ]
    },
    {
     "name": "stderr",
     "output_type": "stream",
     "text": [
      " 17%|█▋        | 178/1053 [2:52:17<14:21:00, 59.04s/it]"
     ]
    },
    {
     "name": "stdout",
     "output_type": "stream",
     "text": [
      "Downloading audio from https://www.youtube.com/watch?v=t1CvS7aOMa4...\n",
      "                                                      \r  "
     ]
    },
    {
     "name": "stderr",
     "output_type": "stream",
     "text": [
      " 17%|█▋        | 179/1053 [2:53:25<14:58:00, 61.65s/it]"
     ]
    },
    {
     "name": "stdout",
     "output_type": "stream",
     "text": [
      "Downloading audio from https://www.youtube.com/watch?v=FkLQrED71dU...\n",
      "                                                      \r  "
     ]
    },
    {
     "name": "stderr",
     "output_type": "stream",
     "text": [
      " 17%|█▋        | 180/1053 [2:54:13<13:55:05, 57.40s/it]"
     ]
    },
    {
     "name": "stdout",
     "output_type": "stream",
     "text": [
      "Downloading audio from https://www.youtube.com/watch?v=tuk1NnnMQBA...\n",
      "                                                      \r  "
     ]
    },
    {
     "name": "stderr",
     "output_type": "stream",
     "text": [
      " 17%|█▋        | 181/1053 [2:54:18<10:09:13, 41.92s/it]"
     ]
    },
    {
     "name": "stdout",
     "output_type": "stream",
     "text": [
      "Downloading audio from https://www.youtube.com/watch?v=Bar7SzNLnY0...\n",
      "                                                      \r  "
     ]
    },
    {
     "name": "stderr",
     "output_type": "stream",
     "text": [
      " 17%|█▋        | 182/1053 [2:55:12<10:59:08, 45.41s/it]"
     ]
    },
    {
     "name": "stdout",
     "output_type": "stream",
     "text": [
      "Downloading audio from https://www.youtube.com/watch?v=9iw_BE_X9sA...\n",
      "                                                      \r  "
     ]
    },
    {
     "name": "stderr",
     "output_type": "stream",
     "text": [
      " 17%|█▋        | 183/1053 [2:55:37<9:28:16, 39.19s/it] "
     ]
    },
    {
     "name": "stdout",
     "output_type": "stream",
     "text": [
      "Downloading audio from https://www.youtube.com/watch?v=jpoJaOQJ-5E...\n",
      "                                                      \r  "
     ]
    },
    {
     "name": "stderr",
     "output_type": "stream",
     "text": [
      " 17%|█▋        | 184/1053 [2:59:26<23:12:16, 96.13s/it]"
     ]
    },
    {
     "name": "stdout",
     "output_type": "stream",
     "text": [
      "Downloading audio from https://www.youtube.com/watch?v=1sWqmMAvmdU...\n",
      "                                                      \r  "
     ]
    },
    {
     "name": "stderr",
     "output_type": "stream",
     "text": [
      " 18%|█▊        | 185/1053 [3:04:34<38:31:36, 159.79s/it]"
     ]
    },
    {
     "name": "stdout",
     "output_type": "stream",
     "text": [
      "Downloading audio from https://www.youtube.com/watch?v=RbmS3tQJ7Os...\n",
      "                                                        \r               "
     ]
    },
    {
     "name": "stderr",
     "output_type": "stream",
     "text": [
      " 18%|█▊        | 186/1053 [3:04:54<28:20:52, 117.71s/it]"
     ]
    },
    {
     "name": "stdout",
     "output_type": "stream",
     "text": [
      "Downloading audio from https://www.youtube.com/watch?v=nAkMTu6q2pY...\n",
      "                                                      \r  "
     ]
    },
    {
     "name": "stderr",
     "output_type": "stream",
     "text": [
      " 18%|█▊        | 187/1053 [3:06:48<28:03:10, 116.62s/it]"
     ]
    },
    {
     "name": "stdout",
     "output_type": "stream",
     "text": [
      "Downloading audio from https://www.youtube.com/watch?v=iCabQ1aF8P0...\n",
      "                                                      \r  "
     ]
    },
    {
     "name": "stderr",
     "output_type": "stream",
     "text": [
      " 18%|█▊        | 188/1053 [3:07:18<21:50:13, 90.88s/it] "
     ]
    },
    {
     "name": "stdout",
     "output_type": "stream",
     "text": [
      "Downloading audio from https://www.youtube.com/watch?v=5sHfVnaFRhE...\n",
      "                                                      \r  "
     ]
    },
    {
     "name": "stderr",
     "output_type": "stream",
     "text": [
      " 18%|█▊        | 189/1053 [3:07:42<16:57:25, 70.65s/it]"
     ]
    },
    {
     "name": "stdout",
     "output_type": "stream",
     "text": [
      "Downloading audio from https://www.youtube.com/watch?v=kb1Z7UOkzOI...\n",
      "                                                      \r    "
     ]
    },
    {
     "name": "stderr",
     "output_type": "stream",
     "text": [
      " 18%|█▊        | 190/1053 [3:10:23<23:25:59, 97.75s/it]"
     ]
    },
    {
     "name": "stdout",
     "output_type": "stream",
     "text": [
      "Downloading audio from https://www.youtube.com/watch?v=G3dFpQzu54w...\n",
      "                                                      \r  "
     ]
    },
    {
     "name": "stderr",
     "output_type": "stream",
     "text": [
      " 18%|█▊        | 191/1053 [3:12:10<24:04:16, 100.53s/it]"
     ]
    },
    {
     "name": "stdout",
     "output_type": "stream",
     "text": [
      "Downloading audio from https://www.youtube.com/watch?v=lNNyU4KD5SI...\n",
      "                                                      \r  "
     ]
    },
    {
     "name": "stderr",
     "output_type": "stream",
     "text": [
      " 18%|█▊        | 192/1053 [3:12:32<18:26:56, 77.14s/it] "
     ]
    },
    {
     "name": "stdout",
     "output_type": "stream",
     "text": [
      "Downloading audio from https://www.youtube.com/watch?v=Lr0q0zlrZXM...\n"
     ]
    },
    {
     "name": "stderr",
     "output_type": "stream",
     "text": [
      " 18%|█▊        | 193/1053 [3:12:34<12:58:43, 54.33s/it]"
     ]
    },
    {
     "name": "stdout",
     "output_type": "stream",
     "text": [
      "Downloading audio from https://www.youtube.com/watch?v=WXF0xJsFAiI...\n"
     ]
    },
    {
     "name": "stderr",
     "output_type": "stream",
     "text": [
      " 18%|█▊        | 194/1053 [3:12:34<9:07:29, 38.24s/it] "
     ]
    },
    {
     "name": "stdout",
     "output_type": "stream",
     "text": [
      "Downloading audio from https://www.youtube.com/watch?v=x-zxBNz3XbM...\n",
      "                                                      \r  "
     ]
    },
    {
     "name": "stderr",
     "output_type": "stream",
     "text": [
      " 19%|█▊        | 195/1053 [3:12:48<7:20:03, 30.77s/it]"
     ]
    },
    {
     "name": "stdout",
     "output_type": "stream",
     "text": [
      "Downloading audio from https://www.youtube.com/watch?v=O4irXQhgMqg...\n",
      "                                                      \r  "
     ]
    },
    {
     "name": "stderr",
     "output_type": "stream",
     "text": [
      " 19%|█▊        | 196/1053 [3:13:08<6:36:37, 27.77s/it]"
     ]
    },
    {
     "name": "stdout",
     "output_type": "stream",
     "text": [
      "Downloading audio from https://www.youtube.com/watch?v=Q131ZJ6YkG0...\n",
      "                                                      \r                  "
     ]
    },
    {
     "name": "stderr",
     "output_type": "stream",
     "text": [
      " 19%|█▊        | 197/1053 [3:16:40<19:42:49, 82.91s/it]"
     ]
    },
    {
     "name": "stdout",
     "output_type": "stream",
     "text": [
      "Downloading audio from https://www.youtube.com/watch?v=6c1BThu95d8...\n",
      "                                                      \r  "
     ]
    },
    {
     "name": "stderr",
     "output_type": "stream",
     "text": [
      " 19%|█▉        | 198/1053 [3:20:18<29:21:12, 123.59s/it]"
     ]
    },
    {
     "name": "stdout",
     "output_type": "stream",
     "text": [
      "Downloading audio from https://www.youtube.com/watch?v=SGyOaCXr8Lw...\n",
      "                                                      \r  "
     ]
    },
    {
     "name": "stderr",
     "output_type": "stream",
     "text": [
      " 19%|█▉        | 199/1053 [3:20:25<20:58:39, 88.43s/it] "
     ]
    },
    {
     "name": "stdout",
     "output_type": "stream",
     "text": [
      "Downloading audio from https://www.youtube.com/watch?v=dW5fvqkWNTM...\n",
      "                                                      \r    "
     ]
    },
    {
     "name": "stderr",
     "output_type": "stream",
     "text": [
      " 19%|█▉        | 200/1053 [3:20:37<15:32:21, 65.58s/it]"
     ]
    },
    {
     "name": "stdout",
     "output_type": "stream",
     "text": [
      "Downloading audio from https://www.youtube.com/watch?v=SY9nmXV0ieY...\n",
      "                                                      \r  "
     ]
    },
    {
     "name": "stderr",
     "output_type": "stream",
     "text": [
      " 19%|█▉        | 201/1053 [3:20:48<11:40:14, 49.31s/it]"
     ]
    },
    {
     "name": "stdout",
     "output_type": "stream",
     "text": [
      "Downloading audio from https://www.youtube.com/watch?v=Jwtyn-L-2gQ...\n",
      "                                                      \r  "
     ]
    },
    {
     "name": "stderr",
     "output_type": "stream",
     "text": [
      " 19%|█▉        | 202/1053 [3:22:18<14:30:00, 61.34s/it]"
     ]
    },
    {
     "name": "stdout",
     "output_type": "stream",
     "text": [
      "Downloading audio from https://www.youtube.com/watch?v=ycoJSzjJDJc...\n",
      "                                                      \r  "
     ]
    },
    {
     "name": "stderr",
     "output_type": "stream",
     "text": [
      " 19%|█▉        | 203/1053 [3:23:12<13:58:25, 59.18s/it]"
     ]
    },
    {
     "name": "stdout",
     "output_type": "stream",
     "text": [
      "Downloading audio from https://www.youtube.com/watch?v=ZHKz7FBUF1w...\n",
      "                                                      \r  "
     ]
    },
    {
     "name": "stderr",
     "output_type": "stream",
     "text": [
      " 19%|█▉        | 204/1053 [3:23:17<10:06:31, 42.86s/it]"
     ]
    },
    {
     "name": "stdout",
     "output_type": "stream",
     "text": [
      "Downloading audio from https://www.youtube.com/watch?v=HAU38NnLxh4...\n",
      "                                                      \r  "
     ]
    },
    {
     "name": "stderr",
     "output_type": "stream",
     "text": [
      " 19%|█▉        | 205/1053 [3:24:18<11:23:02, 48.33s/it]"
     ]
    },
    {
     "name": "stdout",
     "output_type": "stream",
     "text": [
      "Downloading audio from https://www.youtube.com/watch?v=uXl3RpV-iOo...\n",
      "                                                      \r  "
     ]
    },
    {
     "name": "stderr",
     "output_type": "stream",
     "text": [
      " 20%|█▉        | 206/1053 [3:24:28<8:40:28, 36.87s/it] "
     ]
    },
    {
     "name": "stdout",
     "output_type": "stream",
     "text": [
      "Downloading audio from https://www.youtube.com/watch?v=Ef9QnZVpVd8...\n",
      "                                                      \r  "
     ]
    },
    {
     "name": "stderr",
     "output_type": "stream",
     "text": [
      " 20%|█▉        | 207/1053 [3:30:15<30:33:11, 130.01s/it]"
     ]
    },
    {
     "name": "stdout",
     "output_type": "stream",
     "text": [
      "Skipping Around the World - Radio Edit [Radio Edit] (ID 233) — already indexed.\n",
      "Downloading audio from https://www.youtube.com/watch?v=-OMptcPcw0Y...\n",
      "                                                       \r "
     ]
    },
    {
     "name": "stderr",
     "output_type": "stream",
     "text": [
      " 20%|█▉        | 209/1053 [3:30:48<18:12:07, 77.64s/it] "
     ]
    },
    {
     "name": "stdout",
     "output_type": "stream",
     "text": [
      "Downloading audio from https://www.youtube.com/watch?v=4NRXx6U8ABQ...\n",
      "                                                      \r  "
     ]
    },
    {
     "name": "stderr",
     "output_type": "stream",
     "text": [
      " 20%|█▉        | 210/1053 [3:31:03<14:31:23, 62.02s/it]"
     ]
    },
    {
     "name": "stdout",
     "output_type": "stream",
     "text": [
      "Downloading audio from https://www.youtube.com/watch?v=KEI4qSrkPAs...\n",
      "                                                      \r  "
     ]
    },
    {
     "name": "stderr",
     "output_type": "stream",
     "text": [
      " 20%|██        | 211/1053 [3:31:31<12:26:08, 53.17s/it]"
     ]
    },
    {
     "name": "stdout",
     "output_type": "stream",
     "text": [
      "Downloading audio from https://www.youtube.com/watch?v=waU75jdUnYw...\n",
      "                                                      \r  "
     ]
    },
    {
     "name": "stderr",
     "output_type": "stream",
     "text": [
      " 20%|██        | 212/1053 [3:37:06<30:17:59, 129.70s/it]"
     ]
    },
    {
     "name": "stdout",
     "output_type": "stream",
     "text": [
      "Downloading audio from https://www.youtube.com/watch?v=1DpH-icPpl0...\n"
     ]
    },
    {
     "name": "stderr",
     "output_type": "stream",
     "text": [
      " 20%|██        | 213/1053 [3:37:08<21:57:28, 94.11s/it] "
     ]
    },
    {
     "name": "stdout",
     "output_type": "stream",
     "text": [
      "Downloading audio from https://www.youtube.com/watch?v=E3QiD99jPAg...\n",
      "                                                      \r  "
     ]
    },
    {
     "name": "stderr",
     "output_type": "stream",
     "text": [
      " 20%|██        | 214/1053 [3:38:20<20:26:42, 87.73s/it]"
     ]
    },
    {
     "name": "stdout",
     "output_type": "stream",
     "text": [
      "Downloading audio from https://www.youtube.com/watch?v=Nox2RGWOOdE...\n",
      "                                                      \r  "
     ]
    },
    {
     "name": "stderr",
     "output_type": "stream",
     "text": [
      " 20%|██        | 215/1053 [3:39:40<19:55:02, 85.56s/it]"
     ]
    },
    {
     "name": "stdout",
     "output_type": "stream",
     "text": [
      "Downloading audio from https://www.youtube.com/watch?v=XXYlFuWEuKI...\n",
      "                                                      \r  "
     ]
    },
    {
     "name": "stderr",
     "output_type": "stream",
     "text": [
      " 21%|██        | 216/1053 [3:41:14<20:25:07, 87.82s/it]"
     ]
    },
    {
     "name": "stdout",
     "output_type": "stream",
     "text": [
      "Downloading audio from https://www.youtube.com/watch?v=rhTl_OyehF8...\n",
      "                                                      \r  "
     ]
    },
    {
     "name": "stderr",
     "output_type": "stream",
     "text": [
      " 21%|██        | 217/1053 [3:41:22<14:57:18, 64.40s/it]"
     ]
    },
    {
     "name": "stdout",
     "output_type": "stream",
     "text": [
      "Downloading audio from https://www.youtube.com/watch?v=yzTuBuRdAyA...\n",
      "                                                      \r  "
     ]
    },
    {
     "name": "stderr",
     "output_type": "stream",
     "text": [
      " 21%|██        | 218/1053 [3:42:15<14:09:09, 61.02s/it]"
     ]
    },
    {
     "name": "stdout",
     "output_type": "stream",
     "text": [
      "Downloading audio from https://www.youtube.com/watch?v=QRTNm6GLJYI...\n",
      "                                                      \r                  "
     ]
    },
    {
     "name": "stderr",
     "output_type": "stream",
     "text": [
      " 21%|██        | 219/1053 [3:44:52<20:46:01, 89.64s/it]"
     ]
    },
    {
     "name": "stdout",
     "output_type": "stream",
     "text": [
      "Downloading audio from https://www.youtube.com/watch?v=52cQeFBU2Kw...\n",
      "                                                      \r                  "
     ]
    },
    {
     "name": "stderr",
     "output_type": "stream",
     "text": [
      " 21%|██        | 220/1053 [3:46:48<22:32:29, 97.42s/it]"
     ]
    },
    {
     "name": "stdout",
     "output_type": "stream",
     "text": [
      "Downloading audio from https://www.youtube.com/watch?v=jQFMt0aXMcU...\n"
     ]
    },
    {
     "name": "stderr",
     "output_type": "stream",
     "text": [
      " 21%|██        | 221/1053 [3:46:48<15:48:28, 68.40s/it]"
     ]
    },
    {
     "name": "stdout",
     "output_type": "stream",
     "text": [
      "Downloading audio from https://www.youtube.com/watch?v=fRipFYoji2A...\n",
      "                                                      \r    "
     ]
    },
    {
     "name": "stderr",
     "output_type": "stream",
     "text": [
      " 21%|██        | 222/1053 [3:49:49<23:32:27, 101.98s/it]"
     ]
    },
    {
     "name": "stdout",
     "output_type": "stream",
     "text": [
      "Downloading audio from https://www.youtube.com/watch?v=MgJ9K7cPRKk...\n",
      "                                                      \r  "
     ]
    },
    {
     "name": "stderr",
     "output_type": "stream",
     "text": [
      " 21%|██        | 223/1053 [3:54:10<34:31:29, 149.75s/it]"
     ]
    },
    {
     "name": "stdout",
     "output_type": "stream",
     "text": [
      "Downloading audio from https://www.youtube.com/watch?v=etmw8JvMO30...\n"
     ]
    },
    {
     "name": "stderr",
     "output_type": "stream",
     "text": [
      " 21%|██▏       | 224/1053 [3:54:13<24:20:28, 105.70s/it]"
     ]
    },
    {
     "name": "stdout",
     "output_type": "stream",
     "text": [
      "Downloading audio from https://www.youtube.com/watch?v=hHc7bR6y06M...\n",
      "                                                      \r  "
     ]
    },
    {
     "name": "stderr",
     "output_type": "stream",
     "text": [
      " 21%|██▏       | 225/1053 [3:55:12<21:04:21, 91.62s/it] "
     ]
    },
    {
     "name": "stdout",
     "output_type": "stream",
     "text": [
      "Downloading audio from https://www.youtube.com/watch?v=bFKHO3P_DaY...\n",
      "                                                      \r  "
     ]
    },
    {
     "name": "stderr",
     "output_type": "stream",
     "text": [
      " 21%|██▏       | 226/1053 [3:56:28<19:56:57, 86.84s/it]"
     ]
    },
    {
     "name": "stdout",
     "output_type": "stream",
     "text": [
      "Downloading audio from https://www.youtube.com/watch?v=eswQl-hcvU0...\n",
      "                                                      \r  "
     ]
    },
    {
     "name": "stderr",
     "output_type": "stream",
     "text": [
      " 22%|██▏       | 227/1053 [3:59:16<25:32:07, 111.29s/it]"
     ]
    },
    {
     "name": "stdout",
     "output_type": "stream",
     "text": [
      "Downloading audio from https://www.youtube.com/watch?v=_8G4oaOxyxk...\n",
      "                                                      \r    "
     ]
    },
    {
     "name": "stderr",
     "output_type": "stream",
     "text": [
      " 22%|██▏       | 228/1053 [4:02:36<31:35:23, 137.85s/it]"
     ]
    },
    {
     "name": "stdout",
     "output_type": "stream",
     "text": [
      "Downloading audio from https://www.youtube.com/watch?v=XYAghEq5Lfw...\n",
      "                                                      \r                  "
     ]
    },
    {
     "name": "stderr",
     "output_type": "stream",
     "text": [
      " 22%|██▏       | 229/1053 [4:04:52<31:26:16, 137.35s/it]"
     ]
    },
    {
     "name": "stdout",
     "output_type": "stream",
     "text": [
      "Downloading audio from https://www.youtube.com/watch?v=k0W_ybghFzg...\n",
      "[download]   0.5% of    6.13MiB at    6.25MiB/s ETA 00:00"
     ]
    },
    {
     "name": "stderr",
     "output_type": "stream",
     "text": [
      " 22%|██▏       | 230/1053 [4:04:55<22:11:11, 97.05s/it] "
     ]
    },
    {
     "name": "stdout",
     "output_type": "stream",
     "text": [
      "Downloading audio from https://www.youtube.com/watch?v=co6WMzDOh1o...\n",
      "                                                      \r                  "
     ]
    },
    {
     "name": "stderr",
     "output_type": "stream",
     "text": [
      " 22%|██▏       | 231/1053 [4:05:11<16:38:28, 72.88s/it]"
     ]
    },
    {
     "name": "stdout",
     "output_type": "stream",
     "text": [
      "Downloading audio from https://www.youtube.com/watch?v=z8rQ575DWD8...\n",
      "                                                      \r  "
     ]
    },
    {
     "name": "stderr",
     "output_type": "stream",
     "text": [
      " 22%|██▏       | 232/1053 [4:07:16<20:09:08, 88.37s/it]"
     ]
    },
    {
     "name": "stdout",
     "output_type": "stream",
     "text": [
      "Downloading audio from https://www.youtube.com/watch?v=TpvF7Qq9svk...\n",
      "                                                      \r  "
     ]
    },
    {
     "name": "stderr",
     "output_type": "stream",
     "text": [
      " 22%|██▏       | 233/1053 [4:09:16<22:17:25, 97.86s/it]"
     ]
    },
    {
     "name": "stdout",
     "output_type": "stream",
     "text": [
      "Downloading audio from https://www.youtube.com/watch?v=19KstSgU-c0...\n",
      "                                                      \r  "
     ]
    },
    {
     "name": "stderr",
     "output_type": "stream",
     "text": [
      " 22%|██▏       | 234/1053 [4:11:42<25:35:06, 112.46s/it]"
     ]
    },
    {
     "name": "stdout",
     "output_type": "stream",
     "text": [
      "Downloading audio from https://www.youtube.com/watch?v=vTxrgXWToZA...\n",
      "                                                      \r  "
     ]
    },
    {
     "name": "stderr",
     "output_type": "stream",
     "text": [
      " 22%|██▏       | 235/1053 [4:12:23<20:39:06, 90.89s/it] "
     ]
    },
    {
     "name": "stdout",
     "output_type": "stream",
     "text": [
      "Downloading audio from https://www.youtube.com/watch?v=eIdTNyJp38A...\n",
      "                                                      \r  "
     ]
    },
    {
     "name": "stderr",
     "output_type": "stream",
     "text": [
      " 22%|██▏       | 236/1053 [4:12:34<15:09:49, 66.82s/it]"
     ]
    },
    {
     "name": "stdout",
     "output_type": "stream",
     "text": [
      "Downloading audio from https://www.youtube.com/watch?v=e3-5YC_oHjE...\n",
      "                                                      \r  "
     ]
    },
    {
     "name": "stderr",
     "output_type": "stream",
     "text": [
      " 23%|██▎       | 237/1053 [4:12:40<10:59:57, 48.53s/it]"
     ]
    },
    {
     "name": "stdout",
     "output_type": "stream",
     "text": [
      "Downloading audio from https://www.youtube.com/watch?v=e3-5YC_oHjE...\n",
      "                                                      \r  "
     ]
    },
    {
     "name": "stderr",
     "output_type": "stream",
     "text": [
      " 23%|██▎       | 238/1053 [4:12:45<8:03:51, 35.62s/it] "
     ]
    },
    {
     "name": "stdout",
     "output_type": "stream",
     "text": [
      "Downloading audio from https://www.youtube.com/watch?v=KEcx9F_FW2U...\n",
      "                                                        \r               "
     ]
    },
    {
     "name": "stderr",
     "output_type": "stream",
     "text": [
      " 23%|██▎       | 239/1053 [4:14:48<13:59:42, 61.90s/it]"
     ]
    },
    {
     "name": "stdout",
     "output_type": "stream",
     "text": [
      "Downloading audio from https://www.youtube.com/watch?v=TxcDTUMLQJI...\n",
      "                                                      \r                  "
     ]
    },
    {
     "name": "stderr",
     "output_type": "stream",
     "text": [
      " 23%|██▎       | 240/1053 [4:16:15<15:40:53, 69.44s/it]"
     ]
    },
    {
     "name": "stdout",
     "output_type": "stream",
     "text": [
      "Downloading audio from https://www.youtube.com/watch?v=jeYCyCaK_5k...\n",
      "                                                      \r  "
     ]
    },
    {
     "name": "stderr",
     "output_type": "stream",
     "text": [
      " 23%|██▎       | 241/1053 [4:19:05<22:25:06, 99.39s/it]"
     ]
    },
    {
     "name": "stdout",
     "output_type": "stream",
     "text": [
      "Downloading audio from https://www.youtube.com/watch?v=ftjEcrrf7r0...\n",
      "                                                      \r  "
     ]
    },
    {
     "name": "stderr",
     "output_type": "stream",
     "text": [
      " 23%|██▎       | 242/1053 [4:19:31<17:29:07, 77.62s/it]"
     ]
    },
    {
     "name": "stdout",
     "output_type": "stream",
     "text": [
      "Downloading audio from https://www.youtube.com/watch?v=LHcP4MWABGY...\n"
     ]
    },
    {
     "name": "stderr",
     "output_type": "stream",
     "text": [
      " 23%|██▎       | 243/1053 [4:19:32<12:14:42, 54.42s/it]"
     ]
    },
    {
     "name": "stdout",
     "output_type": "stream",
     "text": [
      "Downloading audio from https://www.youtube.com/watch?v=LHcP4MWABGY...\n",
      "                                                      \r    "
     ]
    },
    {
     "name": "stderr",
     "output_type": "stream",
     "text": [
      " 23%|██▎       | 244/1053 [4:21:36<16:56:45, 75.41s/it]"
     ]
    },
    {
     "name": "stdout",
     "output_type": "stream",
     "text": [
      "Downloading audio from https://www.youtube.com/watch?v=R-BT2yzXP8w...\n",
      "                                                      \r  "
     ]
    },
    {
     "name": "stderr",
     "output_type": "stream",
     "text": [
      " 23%|██▎       | 245/1053 [4:21:52<12:54:20, 57.50s/it]"
     ]
    },
    {
     "name": "stdout",
     "output_type": "stream",
     "text": [
      "Downloading audio from https://www.youtube.com/watch?v=Iqlzoz_jH3c...\n",
      "                                                      \r  "
     ]
    },
    {
     "name": "stderr",
     "output_type": "stream",
     "text": [
      " 23%|██▎       | 246/1053 [4:23:19<14:54:38, 66.52s/it]"
     ]
    },
    {
     "name": "stdout",
     "output_type": "stream",
     "text": [
      "Downloading audio from https://www.youtube.com/watch?v=noTP4db9nL8...\n",
      "                                                      \r  "
     ]
    },
    {
     "name": "stderr",
     "output_type": "stream",
     "text": [
      " 23%|██▎       | 247/1053 [4:29:02<33:26:17, 149.35s/it]"
     ]
    },
    {
     "name": "stdout",
     "output_type": "stream",
     "text": [
      "Downloading audio from https://www.youtube.com/watch?v=5HDPenYIPtg...\n",
      "                                                      \r                  "
     ]
    },
    {
     "name": "stderr",
     "output_type": "stream",
     "text": [
      " 24%|██▎       | 248/1053 [4:29:44<26:12:03, 117.17s/it]"
     ]
    },
    {
     "name": "stdout",
     "output_type": "stream",
     "text": [
      "Downloading audio from https://www.youtube.com/watch?v=GzZWSrr5wFI...\n",
      "                                                      \r  "
     ]
    },
    {
     "name": "stderr",
     "output_type": "stream",
     "text": [
      " 24%|██▎       | 249/1053 [4:30:14<20:20:13, 91.06s/it] "
     ]
    },
    {
     "name": "stdout",
     "output_type": "stream",
     "text": [
      "Skipping Firefly (ID 285) — already indexed.\n",
      "Skipping Sing (ID 301) — already indexed.\n",
      "Skipping Small Bump (ID 302) — already indexed.\n",
      "Skipping Tenerife Sea (ID 303) — already indexed.\n",
      "Skipping The A Team (ID 304) — already indexed.\n",
      "Skipping Thinking out Loud (ID 305) — already indexed.\n",
      "Skipping Visiting Hours (ID 306) — already indexed.\n",
      "Skipping What Do I Know? (ID 307) — already indexed.\n",
      "Skipping Blue Eyes - Remastered 2003 (ID 308) — already indexed.\n",
      "Skipping Can You Feel the Love Tonight - End Title/ From \"The Lion King\"/Soundtrack Version (ID 310) — already indexed.\n",
      "Downloading audio from https://www.youtube.com/watch?v=gF4GS9cSll4...\n",
      "                                                      \r  "
     ]
    },
    {
     "name": "stderr",
     "output_type": "stream",
     "text": [
      " 25%|██▍       | 260/1053 [4:31:58<5:13:34, 23.73s/it] "
     ]
    },
    {
     "name": "stdout",
     "output_type": "stream",
     "text": [
      "Downloading audio from https://www.youtube.com/watch?v=ujNeHIo7oTE...\n",
      "                                                      \r  "
     ]
    },
    {
     "name": "stderr",
     "output_type": "stream",
     "text": [
      " 25%|██▍       | 261/1053 [4:37:43<12:03:57, 54.85s/it]"
     ]
    },
    {
     "name": "stdout",
     "output_type": "stream",
     "text": [
      "Downloading audio from https://www.youtube.com/watch?v=ujNeHIo7oTE...\n",
      "[download]  44.3% of    4.51MiB at    5.45MiB/s ETA 00:00  "
     ]
    },
    {
     "name": "stderr",
     "output_type": "stream",
     "text": [
      " 25%|██▍       | 262/1053 [4:37:47<10:40:31, 48.59s/it]"
     ]
    },
    {
     "name": "stdout",
     "output_type": "stream",
     "text": [
      "Downloading audio from https://www.youtube.com/watch?v=ujNeHIo7oTE...\n",
      "                                                      \r  "
     ]
    },
    {
     "name": "stderr",
     "output_type": "stream",
     "text": [
      " 25%|██▍       | 263/1053 [4:38:02<9:34:37, 43.64s/it] "
     ]
    },
    {
     "name": "stdout",
     "output_type": "stream",
     "text": [
      "Downloading audio from https://www.youtube.com/watch?v=7KuGie4eWgQ...\n",
      "                                                      \r  "
     ]
    },
    {
     "name": "stderr",
     "output_type": "stream",
     "text": [
      " 25%|██▌       | 264/1053 [4:39:29<11:14:41, 51.31s/it]"
     ]
    },
    {
     "name": "stdout",
     "output_type": "stream",
     "text": [
      "Downloading audio from https://www.youtube.com/watch?v=t5XNWFw5HVw...\n",
      "                                                       \r "
     ]
    },
    {
     "name": "stderr",
     "output_type": "stream",
     "text": [
      " 25%|██▌       | 265/1053 [4:41:17<13:40:45, 62.49s/it]"
     ]
    },
    {
     "name": "stdout",
     "output_type": "stream",
     "text": [
      "Downloading audio from https://www.youtube.com/watch?v=cFkZDhwqoHg...\n",
      "                                                      \r  "
     ]
    },
    {
     "name": "stderr",
     "output_type": "stream",
     "text": [
      " 25%|██▌       | 266/1053 [4:41:30<11:17:34, 51.66s/it]"
     ]
    },
    {
     "name": "stdout",
     "output_type": "stream",
     "text": [
      "Downloading audio from https://www.youtube.com/watch?v=5Sy19X0xxrM...\n",
      "                                                      \r  "
     ]
    },
    {
     "name": "stderr",
     "output_type": "stream",
     "text": [
      " 25%|██▌       | 267/1053 [4:42:39<12:09:49, 55.71s/it]"
     ]
    },
    {
     "name": "stdout",
     "output_type": "stream",
     "text": [
      "Downloading audio from https://www.youtube.com/watch?v=fp_qAAi-T0E...\n",
      "                                                      \r  "
     ]
    },
    {
     "name": "stderr",
     "output_type": "stream",
     "text": [
      " 25%|██▌       | 268/1053 [4:43:41<12:30:06, 57.33s/it]"
     ]
    },
    {
     "name": "stdout",
     "output_type": "stream",
     "text": [
      "Downloading audio from https://www.youtube.com/watch?v=CQf13Mbza9k...\n",
      "                                                      \r  "
     ]
    },
    {
     "name": "stderr",
     "output_type": "stream",
     "text": [
      " 26%|██▌       | 269/1053 [4:43:58<10:09:33, 46.65s/it]"
     ]
    },
    {
     "name": "stdout",
     "output_type": "stream",
     "text": [
      "Downloading audio from https://www.youtube.com/watch?v=qnjqNHB1bKw...\n",
      "                                                      \r  "
     ]
    },
    {
     "name": "stderr",
     "output_type": "stream",
     "text": [
      " 26%|██▌       | 270/1053 [4:45:22<12:21:15, 56.80s/it]"
     ]
    },
    {
     "name": "stdout",
     "output_type": "stream",
     "text": [
      "Downloading audio from https://www.youtube.com/watch?v=o3IWTfcks4k...\n",
      "                                                      \r  "
     ]
    },
    {
     "name": "stderr",
     "output_type": "stream",
     "text": [
      " 26%|██▌       | 271/1053 [4:46:16<12:12:29, 56.20s/it]"
     ]
    },
    {
     "name": "stdout",
     "output_type": "stream",
     "text": [
      "Downloading audio from https://www.youtube.com/watch?v=Bxau9B3jOHM...\n",
      "                                                      \r  "
     ]
    },
    {
     "name": "stderr",
     "output_type": "stream",
     "text": [
      " 26%|██▌       | 272/1053 [4:47:19<12:35:49, 58.07s/it]"
     ]
    },
    {
     "name": "stdout",
     "output_type": "stream",
     "text": [
      "Downloading audio from https://www.youtube.com/watch?v=bQRzrnH6_HY...\n",
      "                                                      \r  "
     ]
    },
    {
     "name": "stderr",
     "output_type": "stream",
     "text": [
      " 26%|██▌       | 273/1053 [4:47:52<10:58:31, 50.66s/it]"
     ]
    },
    {
     "name": "stdout",
     "output_type": "stream",
     "text": [
      "Downloading audio from https://www.youtube.com/watch?v=3WH1Ma50QUk...\n"
     ]
    },
    {
     "name": "stderr",
     "output_type": "stream",
     "text": [
      " 26%|██▌       | 274/1053 [4:47:52<7:45:32, 35.86s/it] "
     ]
    },
    {
     "name": "stdout",
     "output_type": "stream",
     "text": [
      "Downloading audio from https://www.youtube.com/watch?v=De-c6pT1biQ...\n"
     ]
    },
    {
     "name": "stderr",
     "output_type": "stream",
     "text": [
      " 26%|██▌       | 275/1053 [4:47:53<5:31:08, 25.54s/it]"
     ]
    },
    {
     "name": "stdout",
     "output_type": "stream",
     "text": [
      "Downloading audio from https://www.youtube.com/watch?v=m3-hY-hlhBg...\n",
      "                                                      \r                  "
     ]
    },
    {
     "name": "stderr",
     "output_type": "stream",
     "text": [
      " 26%|██▌       | 276/1053 [4:54:53<30:48:51, 142.77s/it]"
     ]
    },
    {
     "name": "stdout",
     "output_type": "stream",
     "text": [
      "Downloading audio from https://www.youtube.com/watch?v=FxYw0XPEoKE...\n",
      "                                                      \r  "
     ]
    },
    {
     "name": "stderr",
     "output_type": "stream",
     "text": [
      " 26%|██▋       | 277/1053 [4:56:45<28:48:26, 133.64s/it]"
     ]
    },
    {
     "name": "stdout",
     "output_type": "stream",
     "text": [
      "Downloading audio from https://www.youtube.com/watch?v=eH3giaIzONA...\n",
      "                                                      \r    "
     ]
    },
    {
     "name": "stderr",
     "output_type": "stream",
     "text": [
      " 26%|██▋       | 278/1053 [4:56:51<20:33:10, 95.47s/it] "
     ]
    },
    {
     "name": "stdout",
     "output_type": "stream",
     "text": [
      "Downloading audio from https://www.youtube.com/watch?v=3JWTaaS7LdU...\n"
     ]
    },
    {
     "name": "stderr",
     "output_type": "stream",
     "text": [
      " 26%|██▋       | 279/1053 [4:56:52<14:28:04, 67.29s/it]"
     ]
    },
    {
     "name": "stdout",
     "output_type": "stream",
     "text": [
      "Downloading audio from https://www.youtube.com/watch?v=H7_sqdkaAfo...\n",
      "                                                      \r    "
     ]
    },
    {
     "name": "stderr",
     "output_type": "stream",
     "text": [
      " 27%|██▋       | 280/1053 [4:57:13<11:27:51, 53.39s/it]"
     ]
    },
    {
     "name": "stdout",
     "output_type": "stream",
     "text": [
      "Downloading audio from https://www.youtube.com/watch?v=i0oRnyXxIrY...\n",
      "                                                      \r  "
     ]
    },
    {
     "name": "stderr",
     "output_type": "stream",
     "text": [
      " 27%|██▋       | 281/1053 [4:59:45<17:46:50, 82.92s/it]"
     ]
    },
    {
     "name": "stdout",
     "output_type": "stream",
     "text": [
      "Downloading audio from https://www.youtube.com/watch?v=96aAx0kxVSA...\n",
      "                                                      \r  "
     ]
    },
    {
     "name": "stderr",
     "output_type": "stream",
     "text": [
      " 27%|██▋       | 282/1053 [5:02:34<23:16:23, 108.67s/it]"
     ]
    },
    {
     "name": "stdout",
     "output_type": "stream",
     "text": [
      "Downloading audio from https://www.youtube.com/watch?v=h9rCobRl-ng...\n",
      "                                                      \r  "
     ]
    },
    {
     "name": "stderr",
     "output_type": "stream",
     "text": [
      " 27%|██▋       | 283/1053 [5:04:17<22:53:39, 107.04s/it]"
     ]
    },
    {
     "name": "stdout",
     "output_type": "stream",
     "text": [
      "Downloading audio from https://www.youtube.com/watch?v=AaafMpqXXBs...\n",
      "                                                      \r  "
     ]
    },
    {
     "name": "stderr",
     "output_type": "stream",
     "text": [
      " 27%|██▋       | 284/1053 [5:04:38<17:19:58, 81.14s/it] "
     ]
    },
    {
     "name": "stdout",
     "output_type": "stream",
     "text": [
      "Downloading audio from https://www.youtube.com/watch?v=ewxmv2tyeRs...\n",
      "                                                      \r  "
     ]
    },
    {
     "name": "stderr",
     "output_type": "stream",
     "text": [
      " 27%|██▋       | 285/1053 [5:04:43<12:27:26, 58.39s/it]"
     ]
    },
    {
     "name": "stdout",
     "output_type": "stream",
     "text": [
      "Downloading audio from https://www.youtube.com/watch?v=sWa5vE4MUpU...\n"
     ]
    },
    {
     "name": "stderr",
     "output_type": "stream",
     "text": [
      " 27%|██▋       | 286/1053 [5:04:44<8:46:34, 41.19s/it] "
     ]
    },
    {
     "name": "stdout",
     "output_type": "stream",
     "text": [
      "Downloading audio from https://www.youtube.com/watch?v=wa3tfVjGCQ8...\n",
      "                                                      \r  "
     ]
    },
    {
     "name": "stderr",
     "output_type": "stream",
     "text": [
      " 27%|██▋       | 287/1053 [5:04:49<6:25:23, 30.19s/it]"
     ]
    },
    {
     "name": "stdout",
     "output_type": "stream",
     "text": [
      "Downloading audio from https://www.youtube.com/watch?v=2MRdtXWcgIw...\n",
      "                                                      \r  "
     ]
    },
    {
     "name": "stderr",
     "output_type": "stream",
     "text": [
      " 27%|██▋       | 288/1053 [5:09:21<21:51:17, 102.85s/it]"
     ]
    },
    {
     "name": "stdout",
     "output_type": "stream",
     "text": [
      "Downloading audio from https://www.youtube.com/watch?v=9Ht5RZpzPqw...\n",
      "                                                      \r  "
     ]
    },
    {
     "name": "stderr",
     "output_type": "stream",
     "text": [
      " 27%|██▋       | 289/1053 [5:09:57<17:34:35, 82.82s/it] "
     ]
    },
    {
     "name": "stdout",
     "output_type": "stream",
     "text": [
      "Downloading audio from https://www.youtube.com/watch?v=lic0oCDMfwk...\n",
      "                                                      \r  "
     ]
    },
    {
     "name": "stderr",
     "output_type": "stream",
     "text": [
      " 28%|██▊       | 290/1053 [5:12:42<22:44:09, 107.27s/it]"
     ]
    },
    {
     "name": "stdout",
     "output_type": "stream",
     "text": [
      "Downloading audio from https://www.youtube.com/watch?v=s1tAYmMjLdY...\n",
      "                                                      \r  "
     ]
    },
    {
     "name": "stderr",
     "output_type": "stream",
     "text": [
      " 28%|██▊       | 291/1053 [5:14:36<23:09:02, 109.37s/it]"
     ]
    },
    {
     "name": "stdout",
     "output_type": "stream",
     "text": [
      "Downloading audio from https://www.youtube.com/watch?v=K7l5ZeVVoCA...\n",
      "                                                      \r  "
     ]
    },
    {
     "name": "stderr",
     "output_type": "stream",
     "text": [
      " 28%|██▊       | 292/1053 [5:17:51<28:31:53, 134.97s/it]"
     ]
    },
    {
     "name": "stdout",
     "output_type": "stream",
     "text": [
      "Skipping Berzerk (ID 336) — already indexed.\n",
      "Skipping Business (ID 337) — already indexed.\n",
      "Skipping Lithium (ID 364) — already indexed.\n",
      "Skipping My Immortal (ID 365) — already indexed.\n",
      "Skipping A Different Corner (ID 401) — already indexed.\n",
      "Skipping Amazing (ID 402) — already indexed.\n",
      "Skipping Careless Whisper (ID 403) — already indexed.\n",
      "Skipping Careless Whisper - Remastered (ID 404) — already indexed.\n",
      "Skipping Faith - Remastered (ID 405) — already indexed.\n",
      "Skipping Fastlove, Pt. 1 (ID 406) — already indexed.\n",
      "Skipping Father Figure - Remastered (ID 407) — already indexed.\n",
      "Skipping Freedom! '90 - Remastered (ID 408) — already indexed.\n",
      "Skipping I Want Your Sex - Pts. 1 & 2 Remastered (ID 409) — already indexed.\n",
      "Skipping Jesus to a Child (ID 410) — already indexed.\n",
      "Skipping Kissing a Fool - Remastered (ID 411) — already indexed.\n",
      "Skipping Miss Sarajevo (ID 412) — already indexed.\n",
      "Skipping Whatever It Takes (ID 466) — already indexed.\n",
      "Skipping Ain't It Funny (ID 467) — already indexed.\n",
      "Skipping Get Right (ID 468) — already indexed.\n",
      "Skipping I'm Real (ID 469) — already indexed.\n",
      "Downloading audio from https://www.youtube.com/watch?v=Co0tTeuUVhU...\n",
      "                                                      \r  "
     ]
    },
    {
     "name": "stderr",
     "output_type": "stream",
     "text": [
      " 30%|██▉       | 313/1053 [5:19:45<3:46:50, 18.39s/it]  "
     ]
    },
    {
     "name": "stdout",
     "output_type": "stream",
     "text": [
      "Downloading audio from https://www.youtube.com/watch?v=QGJuMBdaqIw...\n",
      "                                                       \r "
     ]
    },
    {
     "name": "stderr",
     "output_type": "stream",
     "text": [
      " 30%|██▉       | 314/1053 [5:20:34<4:08:41, 20.19s/it]"
     ]
    },
    {
     "name": "stdout",
     "output_type": "stream",
     "text": [
      "Downloading audio from https://www.youtube.com/watch?v=sQEgklEwhSo...\n",
      "                                                      \r  "
     ]
    },
    {
     "name": "stderr",
     "output_type": "stream",
     "text": [
      " 30%|██▉       | 315/1053 [5:22:50<5:56:13, 28.96s/it]"
     ]
    },
    {
     "name": "stdout",
     "output_type": "stream",
     "text": [
      "Downloading audio from https://www.youtube.com/watch?v=kTHNpusq654...\n",
      "                                                      \r  "
     ]
    },
    {
     "name": "stderr",
     "output_type": "stream",
     "text": [
      " 30%|███       | 316/1053 [5:24:22<7:11:56, 35.17s/it]"
     ]
    },
    {
     "name": "stdout",
     "output_type": "stream",
     "text": [
      "Downloading audio from https://www.youtube.com/watch?v=JcxCh31Vf90...\n",
      "                                                      \r  "
     ]
    },
    {
     "name": "stderr",
     "output_type": "stream",
     "text": [
      " 30%|███       | 317/1053 [5:25:22<7:49:13, 38.25s/it]"
     ]
    },
    {
     "name": "stdout",
     "output_type": "stream",
     "text": [
      "Downloading audio from https://www.youtube.com/watch?v=tAp9BKosZXs...\n",
      "                                                      \r  "
     ]
    },
    {
     "name": "stderr",
     "output_type": "stream",
     "text": [
      " 30%|███       | 318/1053 [5:29:42<14:34:08, 71.36s/it]"
     ]
    },
    {
     "name": "stdout",
     "output_type": "stream",
     "text": [
      "Downloading audio from https://www.youtube.com/watch?v=MbgqBjF_CSE...\n",
      "                                                      \r  "
     ]
    },
    {
     "name": "stderr",
     "output_type": "stream",
     "text": [
      " 30%|███       | 319/1053 [5:32:35<18:12:13, 89.28s/it]"
     ]
    },
    {
     "name": "stdout",
     "output_type": "stream",
     "text": [
      "Downloading audio from https://www.youtube.com/watch?v=KlyXNRrsk4A...\n",
      "                                                      \r  "
     ]
    },
    {
     "name": "stderr",
     "output_type": "stream",
     "text": [
      " 30%|███       | 320/1053 [5:33:49<17:32:05, 86.12s/it]"
     ]
    },
    {
     "name": "stdout",
     "output_type": "stream",
     "text": [
      "Downloading audio from https://www.youtube.com/watch?v=tvTRZJ-4EyI...\n",
      "                                                      \r  "
     ]
    },
    {
     "name": "stderr",
     "output_type": "stream",
     "text": [
      " 30%|███       | 321/1053 [5:34:08<14:28:02, 71.15s/it]"
     ]
    },
    {
     "name": "stdout",
     "output_type": "stream",
     "text": [
      "Downloading audio from https://www.youtube.com/watch?v=8q2WS6ahCnY...\n",
      "                                                      \r  "
     ]
    },
    {
     "name": "stderr",
     "output_type": "stream",
     "text": [
      " 31%|███       | 322/1053 [5:37:52<21:56:19, 108.04s/it]"
     ]
    },
    {
     "name": "stdout",
     "output_type": "stream",
     "text": [
      "Downloading audio from https://www.youtube.com/watch?v=DHutZXREZ0E...\n",
      "                                                      \r  "
     ]
    },
    {
     "name": "stderr",
     "output_type": "stream",
     "text": [
      " 31%|███       | 323/1053 [5:39:55<22:41:40, 111.92s/it]"
     ]
    },
    {
     "name": "stdout",
     "output_type": "stream",
     "text": [
      "Downloading audio from https://www.youtube.com/watch?v=Y7ix6RITXM0...\n",
      "                                                      \r  "
     ]
    },
    {
     "name": "stderr",
     "output_type": "stream",
     "text": [
      " 31%|███       | 324/1053 [5:40:15<17:39:52, 87.23s/it] "
     ]
    },
    {
     "name": "stdout",
     "output_type": "stream",
     "text": [
      "Downloading audio from https://www.youtube.com/watch?v=n6P0SitRwy8...\n",
      "                                                      \r  "
     ]
    },
    {
     "name": "stderr",
     "output_type": "stream",
     "text": [
      " 31%|███       | 325/1053 [5:41:46<17:51:12, 88.29s/it]"
     ]
    },
    {
     "name": "stdout",
     "output_type": "stream",
     "text": [
      "Downloading audio from https://www.youtube.com/watch?v=pkcJEvMcnEg...\n",
      "                                                      \r  "
     ]
    },
    {
     "name": "stderr",
     "output_type": "stream",
     "text": [
      " 31%|███       | 326/1053 [5:42:18<14:36:12, 72.31s/it]"
     ]
    },
    {
     "name": "stdout",
     "output_type": "stream",
     "text": [
      "Downloading audio from https://www.youtube.com/watch?v=c023U4oQGr4...\n",
      "[download]  66.5% of    3.00MiB at    6.40MiB/s ETA 00:00"
     ]
    },
    {
     "name": "stderr",
     "output_type": "stream",
     "text": [
      " 31%|███       | 327/1053 [5:42:21<10:33:52, 52.39s/it]"
     ]
    },
    {
     "name": "stdout",
     "output_type": "stream",
     "text": [
      "Downloading audio from https://www.youtube.com/watch?v=hTWKbfoikeg...\n",
      "                                                      \r  "
     ]
    },
    {
     "name": "stderr",
     "output_type": "stream",
     "text": [
      " 31%|███       | 328/1053 [5:42:53<9:21:25, 46.46s/it] "
     ]
    },
    {
     "name": "stdout",
     "output_type": "stream",
     "text": [
      "Downloading audio from https://www.youtube.com/watch?v=TR3Vdo5etCQ...\n",
      "                                                      \r  "
     ]
    },
    {
     "name": "stderr",
     "output_type": "stream",
     "text": [
      " 31%|███       | 329/1053 [5:45:18<15:10:15, 75.44s/it]"
     ]
    },
    {
     "name": "stdout",
     "output_type": "stream",
     "text": [
      "Downloading audio from https://www.youtube.com/watch?v=8Yqru5UXWGY...\n",
      "                                                      \r  "
     ]
    },
    {
     "name": "stderr",
     "output_type": "stream",
     "text": [
      " 31%|███▏      | 330/1053 [5:45:47<12:24:07, 61.75s/it]"
     ]
    },
    {
     "name": "stdout",
     "output_type": "stream",
     "text": [
      "Downloading audio from https://www.youtube.com/watch?v=QtTj4cramPM...\n",
      "                                                      \r  "
     ]
    },
    {
     "name": "stderr",
     "output_type": "stream",
     "text": [
      " 31%|███▏      | 331/1053 [5:50:15<24:40:26, 123.03s/it]"
     ]
    },
    {
     "name": "stdout",
     "output_type": "stream",
     "text": [
      "Downloading audio from https://www.youtube.com/watch?v=ubvV498pyIM...\n",
      "                                                      \r  "
     ]
    },
    {
     "name": "stderr",
     "output_type": "stream",
     "text": [
      " 32%|███▏      | 332/1053 [5:54:17<31:42:27, 158.32s/it]"
     ]
    },
    {
     "name": "stdout",
     "output_type": "stream",
     "text": [
      "Downloading audio from https://www.youtube.com/watch?v=PHzOOQfhPFg...\n",
      "                                                      \r  "
     ]
    },
    {
     "name": "stderr",
     "output_type": "stream",
     "text": [
      " 32%|███▏      | 333/1053 [5:55:24<26:12:53, 131.07s/it]"
     ]
    },
    {
     "name": "stdout",
     "output_type": "stream",
     "text": [
      "Downloading audio from https://www.youtube.com/watch?v=JDKGWaCglRM...\n",
      "                                                      \r  "
     ]
    },
    {
     "name": "stderr",
     "output_type": "stream",
     "text": [
      " 32%|███▏      | 334/1053 [5:55:45<19:35:54, 98.13s/it] "
     ]
    },
    {
     "name": "stdout",
     "output_type": "stream",
     "text": [
      "Downloading audio from https://www.youtube.com/watch?v=SfDLRes8-Pc...\n",
      "                                                      \r  "
     ]
    },
    {
     "name": "stderr",
     "output_type": "stream",
     "text": [
      " 32%|███▏      | 335/1053 [5:57:16<19:09:40, 96.07s/it]"
     ]
    },
    {
     "name": "stdout",
     "output_type": "stream",
     "text": [
      "Downloading audio from https://www.youtube.com/watch?v=rvUjjtZ_opk...\n",
      "                                                      \r  "
     ]
    },
    {
     "name": "stderr",
     "output_type": "stream",
     "text": [
      " 32%|███▏      | 336/1053 [6:00:17<24:13:21, 121.62s/it]"
     ]
    },
    {
     "name": "stdout",
     "output_type": "stream",
     "text": [
      "Downloading audio from https://www.youtube.com/watch?v=rrbFQEcpJ3A...\n",
      "                                                      \r                  "
     ]
    },
    {
     "name": "stderr",
     "output_type": "stream",
     "text": [
      " 32%|███▏      | 337/1053 [6:00:45<18:37:01, 93.60s/it] "
     ]
    },
    {
     "name": "stdout",
     "output_type": "stream",
     "text": [
      "Downloading audio from https://www.youtube.com/watch?v=6f4BwQFF-Os...\n",
      "                                                      \r  "
     ]
    },
    {
     "name": "stderr",
     "output_type": "stream",
     "text": [
      " 32%|███▏      | 338/1053 [6:02:50<20:25:32, 102.84s/it]"
     ]
    },
    {
     "name": "stdout",
     "output_type": "stream",
     "text": [
      "Downloading audio from https://www.youtube.com/watch?v=Rp8WL621uGM...\n"
     ]
    },
    {
     "name": "stderr",
     "output_type": "stream",
     "text": [
      " 32%|███▏      | 339/1053 [6:02:53<14:27:29, 72.90s/it] "
     ]
    },
    {
     "name": "stdout",
     "output_type": "stream",
     "text": [
      "Downloading audio from https://www.youtube.com/watch?v=H9tEvfIsDyo...\n",
      "                                                      \r    "
     ]
    },
    {
     "name": "stderr",
     "output_type": "stream",
     "text": [
      " 32%|███▏      | 340/1053 [6:09:17<32:54:43, 166.18s/it]"
     ]
    },
    {
     "name": "stdout",
     "output_type": "stream",
     "text": [
      "Downloading audio from https://www.youtube.com/watch?v=v0KpfrJE4zw...\n",
      "                                                      \r                  "
     ]
    },
    {
     "name": "stderr",
     "output_type": "stream",
     "text": [
      " 32%|███▏      | 341/1053 [6:10:24<26:58:28, 136.39s/it]"
     ]
    },
    {
     "name": "stdout",
     "output_type": "stream",
     "text": [
      "Downloading audio from https://www.youtube.com/watch?v=w0g9Qkrc8nE...\n",
      "                                                      \r  "
     ]
    },
    {
     "name": "stderr",
     "output_type": "stream",
     "text": [
      " 32%|███▏      | 342/1053 [6:10:36<19:35:42, 99.22s/it] "
     ]
    },
    {
     "name": "stdout",
     "output_type": "stream",
     "text": [
      "Downloading audio from https://www.youtube.com/watch?v=l7vRSu_wsNc...\n",
      "                                                      \r  "
     ]
    },
    {
     "name": "stderr",
     "output_type": "stream",
     "text": [
      " 33%|███▎      | 343/1053 [6:11:40<17:27:19, 88.51s/it]"
     ]
    },
    {
     "name": "stdout",
     "output_type": "stream",
     "text": [
      "Downloading audio from https://www.youtube.com/watch?v=bfHsF6FKgb4...\n",
      "                                                      \r  "
     ]
    },
    {
     "name": "stderr",
     "output_type": "stream",
     "text": [
      " 33%|███▎      | 344/1053 [6:22:04<49:04:26, 249.18s/it]"
     ]
    },
    {
     "name": "stdout",
     "output_type": "stream",
     "text": [
      "Downloading audio from https://www.youtube.com/watch?v=FyfF20APPrA...\n",
      "                                                      \r  "
     ]
    },
    {
     "name": "stderr",
     "output_type": "stream",
     "text": [
      " 33%|███▎      | 345/1053 [6:22:13<34:51:16, 177.23s/it]"
     ]
    },
    {
     "name": "stdout",
     "output_type": "stream",
     "text": [
      "Downloading audio from https://www.youtube.com/watch?v=UG3VcCAlUgE...\n",
      "                                                      \r  "
     ]
    },
    {
     "name": "stderr",
     "output_type": "stream",
     "text": [
      " 33%|███▎      | 346/1053 [6:22:24<25:00:11, 127.32s/it]"
     ]
    },
    {
     "name": "stdout",
     "output_type": "stream",
     "text": [
      "Downloading audio from https://www.youtube.com/watch?v=rY0WxgSXdEE...\n",
      "                                                      \r  "
     ]
    },
    {
     "name": "stderr",
     "output_type": "stream",
     "text": [
      " 33%|███▎      | 347/1053 [6:23:25<21:02:37, 107.31s/it]"
     ]
    },
    {
     "name": "stdout",
     "output_type": "stream",
     "text": [
      "Downloading audio from https://www.youtube.com/watch?v=fJ9rUzIMcZQ...\n",
      "                                                      \r  "
     ]
    },
    {
     "name": "stderr",
     "output_type": "stream",
     "text": [
      " 33%|███▎      | 348/1053 [6:25:17<21:18:54, 108.84s/it]"
     ]
    },
    {
     "name": "stdout",
     "output_type": "stream",
     "text": [
      "Downloading audio from https://www.youtube.com/watch?v=LV4gSOMVbT8...\n",
      "                                                      \r  "
     ]
    },
    {
     "name": "stderr",
     "output_type": "stream",
     "text": [
      " 33%|███▎      | 349/1053 [6:26:01<17:28:12, 89.34s/it] "
     ]
    },
    {
     "name": "stdout",
     "output_type": "stream",
     "text": [
      "Downloading audio from https://www.youtube.com/watch?v=lWA2pjMjpBs...\n",
      "                                                      \r  "
     ]
    },
    {
     "name": "stderr",
     "output_type": "stream",
     "text": [
      " 33%|███▎      | 350/1053 [6:27:19<16:48:24, 86.07s/it]"
     ]
    },
    {
     "name": "stdout",
     "output_type": "stream",
     "text": [
      "Downloading audio from https://www.youtube.com/watch?v=weRHyjj34ZE...\n",
      "                                                      \r  "
     ]
    },
    {
     "name": "stderr",
     "output_type": "stream",
     "text": [
      " 33%|███▎      | 351/1053 [6:36:50<45:07:19, 231.40s/it]"
     ]
    },
    {
     "name": "stdout",
     "output_type": "stream",
     "text": [
      "Downloading audio from https://www.youtube.com/watch?v=LdajVoRgx3w...\n",
      "                                                      \r                  "
     ]
    },
    {
     "name": "stderr",
     "output_type": "stream",
     "text": [
      " 33%|███▎      | 352/1053 [6:37:20<33:17:13, 170.95s/it]"
     ]
    },
    {
     "name": "stdout",
     "output_type": "stream",
     "text": [
      "Downloading audio from https://www.youtube.com/watch?v=_7xMfIp-irg...\n",
      "                                                      \r                  "
     ]
    },
    {
     "name": "stderr",
     "output_type": "stream",
     "text": [
      " 34%|███▎      | 353/1053 [6:37:45<24:43:50, 127.19s/it]"
     ]
    },
    {
     "name": "stdout",
     "output_type": "stream",
     "text": [
      "Downloading audio from https://www.youtube.com/watch?v=5tc0gLSSU1M...\n",
      "Downloading audio from https://www.youtube.com/watch?v=HkM9WCT_wts...\n",
      "                                                      \r  "
     ]
    },
    {
     "name": "stderr",
     "output_type": "stream",
     "text": [
      " 34%|███▎      | 355/1053 [6:39:44<18:38:07, 96.11s/it] "
     ]
    },
    {
     "name": "stdout",
     "output_type": "stream",
     "text": [
      "Downloading audio from https://www.youtube.com/watch?v=oVW6wJ7MYDM...\n",
      "                                                      \r  "
     ]
    },
    {
     "name": "stderr",
     "output_type": "stream",
     "text": [
      " 34%|███▍      | 356/1053 [6:41:24<18:46:44, 96.99s/it]"
     ]
    },
    {
     "name": "stdout",
     "output_type": "stream",
     "text": [
      "Downloading audio from https://www.youtube.com/watch?v=45cYwDMibGo...\n",
      "                                                      \r  "
     ]
    },
    {
     "name": "stderr",
     "output_type": "stream",
     "text": [
      " 34%|███▍      | 357/1053 [6:44:17<22:35:09, 116.82s/it]"
     ]
    },
    {
     "name": "stdout",
     "output_type": "stream",
     "text": [
      "Downloading audio from https://www.youtube.com/watch?v=XTfmuDjwQTw...\n",
      "                                                      \r  "
     ]
    },
    {
     "name": "stderr",
     "output_type": "stream",
     "text": [
      " 34%|███▍      | 358/1053 [6:44:43<17:48:35, 92.25s/it] "
     ]
    },
    {
     "name": "stdout",
     "output_type": "stream",
     "text": [
      "Downloading audio from https://www.youtube.com/watch?v=IKJqecxswCA...\n"
     ]
    },
    {
     "name": "stderr",
     "output_type": "stream",
     "text": [
      " 34%|███▍      | 359/1053 [6:44:45<12:52:21, 66.77s/it]"
     ]
    },
    {
     "name": "stdout",
     "output_type": "stream",
     "text": [
      "Downloading audio from https://www.youtube.com/watch?v=P2C3f0Atcoo...\n",
      "                                                      \r  "
     ]
    },
    {
     "name": "stderr",
     "output_type": "stream",
     "text": [
      " 34%|███▍      | 361/1053 [6:44:52<6:48:36, 35.43s/it] "
     ]
    },
    {
     "name": "stdout",
     "output_type": "stream",
     "text": [
      "Downloading audio from https://www.youtube.com/watch?v=2Q_ZzBGPdqE...\n",
      "Downloading audio from https://www.youtube.com/watch?v=mQER0A0ej0M...\n",
      "                                                      \r  "
     ]
    },
    {
     "name": "stderr",
     "output_type": "stream",
     "text": [
      " 34%|███▍      | 362/1053 [6:46:23<9:55:05, 51.67s/it]"
     ]
    },
    {
     "name": "stdout",
     "output_type": "stream",
     "text": [
      "Downloading audio from https://www.youtube.com/watch?v=ge214KAOnLY...\n",
      "                                                      \r  "
     ]
    },
    {
     "name": "stderr",
     "output_type": "stream",
     "text": [
      " 34%|███▍      | 363/1053 [6:49:07<16:16:01, 84.87s/it]"
     ]
    },
    {
     "name": "stdout",
     "output_type": "stream",
     "text": [
      "Downloading audio from https://www.youtube.com/watch?v=M4ZoCHID9GI...\n",
      "                                                      \r  "
     ]
    },
    {
     "name": "stderr",
     "output_type": "stream",
     "text": [
      " 35%|███▍      | 364/1053 [6:55:07<31:48:27, 166.19s/it]"
     ]
    },
    {
     "name": "stdout",
     "output_type": "stream",
     "text": [
      "Downloading audio from https://www.youtube.com/watch?v=0Gl2QnHNpkA...\n",
      "                                                      \r  "
     ]
    },
    {
     "name": "stderr",
     "output_type": "stream",
     "text": [
      " 35%|███▍      | 365/1053 [6:56:51<28:16:04, 147.91s/it]"
     ]
    },
    {
     "name": "stdout",
     "output_type": "stream",
     "text": [
      "Downloading audio from https://www.youtube.com/watch?v=Jtb10ZwbReY...\n",
      "                                                      \r  "
     ]
    },
    {
     "name": "stderr",
     "output_type": "stream",
     "text": [
      " 35%|███▍      | 366/1053 [6:57:16<21:13:16, 111.20s/it]"
     ]
    },
    {
     "name": "stdout",
     "output_type": "stream",
     "text": [
      "Downloading audio from https://www.youtube.com/watch?v=GC5E8ie2pdM...\n",
      "                                                      \r  "
     ]
    },
    {
     "name": "stderr",
     "output_type": "stream",
     "text": [
      " 35%|███▍      | 367/1053 [6:57:39<16:09:03, 84.76s/it] "
     ]
    },
    {
     "name": "stdout",
     "output_type": "stream",
     "text": [
      "Downloading audio from https://www.youtube.com/watch?v=gJPt38Bl_4I...\n"
     ]
    },
    {
     "name": "stderr",
     "output_type": "stream",
     "text": [
      " 35%|███▍      | 368/1053 [6:57:41<11:27:07, 60.19s/it]"
     ]
    },
    {
     "name": "stdout",
     "output_type": "stream",
     "text": [
      "Downloading audio from https://www.youtube.com/watch?v=Gcm-tOGiva0...\n",
      "                                                      \r                  "
     ]
    },
    {
     "name": "stderr",
     "output_type": "stream",
     "text": [
      " 35%|███▌      | 369/1053 [6:59:39<14:40:40, 77.25s/it]"
     ]
    },
    {
     "name": "stdout",
     "output_type": "stream",
     "text": [
      "Downloading audio from https://www.youtube.com/watch?v=e0GVixJvt-g...\n"
     ]
    },
    {
     "name": "stderr",
     "output_type": "stream",
     "text": [
      " 35%|███▌      | 370/1053 [6:59:42<10:26:01, 55.00s/it]"
     ]
    },
    {
     "name": "stdout",
     "output_type": "stream",
     "text": [
      "Downloading audio from https://www.youtube.com/watch?v=tfSS1e3kYeo...\n",
      "                                                      \r    "
     ]
    },
    {
     "name": "stderr",
     "output_type": "stream",
     "text": [
      " 35%|███▌      | 371/1053 [7:00:53<11:20:59, 59.91s/it]"
     ]
    },
    {
     "name": "stdout",
     "output_type": "stream",
     "text": [
      "Downloading audio from https://www.youtube.com/watch?v=6ONRf7h3Mdk...\n",
      "                                                        \r               "
     ]
    },
    {
     "name": "stderr",
     "output_type": "stream",
     "text": [
      " 35%|███▌      | 372/1053 [7:02:48<14:28:34, 76.53s/it]"
     ]
    },
    {
     "name": "stdout",
     "output_type": "stream",
     "text": [
      "Downloading audio from https://www.youtube.com/watch?v=41PTANtZFW0...\n"
     ]
    },
    {
     "name": "stderr",
     "output_type": "stream",
     "text": [
      " 35%|███▌      | 373/1053 [7:02:51<10:15:15, 54.29s/it]"
     ]
    },
    {
     "name": "stdout",
     "output_type": "stream",
     "text": [
      "Downloading audio from https://www.youtube.com/watch?v=bCHqIhiFmEY...\n",
      "                                                      \r  "
     ]
    },
    {
     "name": "stderr",
     "output_type": "stream",
     "text": [
      " 36%|███▌      | 374/1053 [7:03:17<8:38:24, 45.81s/it] "
     ]
    },
    {
     "name": "stdout",
     "output_type": "stream",
     "text": [
      "Downloading audio from https://www.youtube.com/watch?v=k5TqNsr6YuQ...\n",
      "                                                      \r  "
     ]
    },
    {
     "name": "stderr",
     "output_type": "stream",
     "text": [
      " 36%|███▌      | 375/1053 [7:04:55<11:37:05, 61.69s/it]"
     ]
    },
    {
     "name": "stdout",
     "output_type": "stream",
     "text": [
      "Downloading audio from https://www.youtube.com/watch?v=Lo3lxS-6joY...\n",
      "                                                      \r                  "
     ]
    },
    {
     "name": "stderr",
     "output_type": "stream",
     "text": [
      " 36%|███▌      | 376/1053 [7:05:18<9:24:13, 50.01s/it] "
     ]
    },
    {
     "name": "stdout",
     "output_type": "stream",
     "text": [
      "Downloading audio from https://www.youtube.com/watch?v=LniYWYmNXiM...\n",
      "                                                      \r  "
     ]
    },
    {
     "name": "stderr",
     "output_type": "stream",
     "text": [
      " 36%|███▌      | 377/1053 [7:05:42<7:54:31, 42.12s/it]"
     ]
    },
    {
     "name": "stdout",
     "output_type": "stream",
     "text": [
      "Downloading audio from https://www.youtube.com/watch?v=booKP974B0k...\n",
      "                                                      \r                  "
     ]
    },
    {
     "name": "stderr",
     "output_type": "stream",
     "text": [
      " 36%|███▌      | 378/1053 [7:07:54<12:56:07, 68.99s/it]"
     ]
    },
    {
     "name": "stdout",
     "output_type": "stream",
     "text": [
      "Downloading audio from https://www.youtube.com/watch?v=2soGJXQAQec...\n",
      "                                                      \r  "
     ]
    },
    {
     "name": "stderr",
     "output_type": "stream",
     "text": [
      " 36%|███▌      | 379/1053 [7:10:17<17:04:51, 91.23s/it]"
     ]
    },
    {
     "name": "stdout",
     "output_type": "stream",
     "text": [
      "Downloading audio from https://www.youtube.com/watch?v=IYzlVDlE72w...\n",
      "                                                      \r  "
     ]
    },
    {
     "name": "stderr",
     "output_type": "stream",
     "text": [
      " 36%|███▌      | 380/1053 [7:10:50<13:48:48, 73.89s/it]"
     ]
    },
    {
     "name": "stdout",
     "output_type": "stream",
     "text": [
      "Downloading audio from https://www.youtube.com/watch?v=NjM9nTd9Jnc...\n",
      "                                                      \r  "
     ]
    },
    {
     "name": "stderr",
     "output_type": "stream",
     "text": [
      " 36%|███▌      | 381/1053 [7:11:59<13:30:14, 72.34s/it]"
     ]
    },
    {
     "name": "stdout",
     "output_type": "stream",
     "text": [
      "Downloading audio from https://www.youtube.com/watch?v=d1YP7u1wTnA...\n",
      "                                                      \r    "
     ]
    },
    {
     "name": "stderr",
     "output_type": "stream",
     "text": [
      " 36%|███▋      | 382/1053 [7:14:59<19:29:41, 104.59s/it]"
     ]
    },
    {
     "name": "stdout",
     "output_type": "stream",
     "text": [
      "Downloading audio from https://www.youtube.com/watch?v=sT0g16_LQaQ...\n",
      "                                                      \r  "
     ]
    },
    {
     "name": "stderr",
     "output_type": "stream",
     "text": [
      " 36%|███▋      | 383/1053 [7:19:54<30:06:27, 161.77s/it]"
     ]
    },
    {
     "name": "stdout",
     "output_type": "stream",
     "text": [
      "Skipping Always (ID 124) — already indexed.\n",
      "Skipping Genie In a Bottle (ID 205) — already indexed.\n",
      "Skipping Absolute Beginners - 2002 Remaster (ID 237) — already indexed.\n",
      "Skipping Can You Feel The Love Tonight (ID 309) — already indexed.\n",
      "Skipping Escape (ID 353) — already indexed.\n",
      "Downloading audio from https://www.youtube.com/watch?v=rV8NHsmVMPE...\n",
      "                                                      \r  "
     ]
    },
    {
     "name": "stderr",
     "output_type": "stream",
     "text": [
      " 37%|███▋      | 389/1053 [7:21:52<10:57:34, 59.42s/it] "
     ]
    },
    {
     "name": "stdout",
     "output_type": "stream",
     "text": [
      "Skipping In Da Club (ID 1) — already indexed.\n",
      "Skipping In Da Club - Single Version / Edit (ID 2) — already indexed.\n",
      "Skipping Just A Lil Bit (ID 3) — already indexed.\n",
      "Skipping P.I.M.P. (ID 4) — already indexed.\n",
      "Skipping Window Shopper (ID 5) — already indexed.\n",
      "Skipping Back In Black (ID 6) — already indexed.\n",
      "Skipping Dirty Deeds Done Dirt Cheap (ID 7) — already indexed.\n",
      "Skipping Heatseeker (ID 8) — already indexed.\n",
      "Skipping High Voltage (ID 9) — already indexed.\n",
      "Skipping Highway to Hell (ID 10) — already indexed.\n",
      "Skipping It's a Long Way to the Top (If You Wanna Rock 'N' Roll) (ID 11) — already indexed.\n",
      "Skipping Jailbreak (ID 12) — already indexed.\n",
      "Skipping Rock and Roll Ain't Noise Pollution (ID 13) — already indexed.\n",
      "Skipping Shoot to Thrill (ID 14) — already indexed.\n",
      "Skipping T.N.T. (ID 15) — already indexed.\n",
      "Skipping Thunderstruck (ID 16) — already indexed.\n",
      "Skipping Who Made Who (ID 17) — already indexed.\n",
      "Skipping You Shook Me All Night Long (ID 18) — already indexed.\n",
      "Skipping Chasing Pavements (ID 19) — already indexed.\n",
      "Skipping Don't You Remember (ID 20) — already indexed.\n",
      "Skipping Easy On Me (ID 21) — already indexed.\n",
      "Skipping He Won't Go (ID 22) — already indexed.\n",
      "Skipping Hello (ID 23) — already indexed.\n",
      "Skipping Love In The Dark (ID 24) — already indexed.\n",
      "Skipping Make You Feel My Love (ID 25) — already indexed.\n",
      "Downloading audio from https://www.youtube.com/watch?v=ADmCFmYLns4...\n",
      "                                                        \r"
     ]
    },
    {
     "name": "stderr",
     "output_type": "stream",
     "text": [
      " 39%|███▉      | 415/1053 [7:30:28<4:48:13, 27.11s/it] "
     ]
    },
    {
     "name": "stdout",
     "output_type": "stream",
     "text": [
      "Skipping Million Years Ago (ID 26) — already indexed.\n",
      "Skipping One and Only (ID 27) — already indexed.\n",
      "Skipping Rolling in the Deep (ID 29) — already indexed.\n",
      "Skipping Rumour Has It (ID 30) — already indexed.\n",
      "Skipping Send My Love (To Your New Lover) (ID 31) — already indexed.\n",
      "Skipping Set Fire to the Rain (ID 32) — already indexed.\n",
      "Skipping Skyfall (ID 33) — already indexed.\n",
      "Skipping Someone Like You (ID 34) — already indexed.\n",
      "Skipping Sweetest Devotion (ID 35) — already indexed.\n",
      "Skipping Take It All (ID 36) — already indexed.\n",
      "Skipping Turning Tables (ID 37) — already indexed.\n",
      "Skipping Water Under The Bridge (ID 38) — already indexed.\n",
      "Skipping When We Were Young (ID 39) — already indexed.\n",
      "Skipping Alone (ID 40) — already indexed.\n",
      "Skipping Faded (ID 41) — already indexed.\n",
      "Skipping Brand New Me (ID 42) — already indexed.\n",
      "Skipping Doesn't Mean Anything (ID 43) — already indexed.\n",
      "Skipping Empire State of Mind (Part II) Broken Down (ID 44) — already indexed.\n",
      "Skipping Fallin' (ID 45) — already indexed.\n",
      "Skipping Girl On Fire (ID 46) — already indexed.\n",
      "Skipping Hallelujah (ID 47) — already indexed.\n",
      "Skipping Holy War (ID 48) — already indexed.\n",
      "Skipping More Than We Know (ID 50) — already indexed.\n",
      "Skipping No One (ID 51) — already indexed.\n",
      "Skipping One Thing (ID 52) — already indexed.\n",
      "Skipping Superwoman (ID 53) — already indexed.\n",
      "Skipping Tears Always Win (ID 54) — already indexed.\n",
      "Skipping Work On It (ID 55) — already indexed.\n",
      "Skipping I Bet You Look Good On The Dancefloor (ID 59) — already indexed.\n",
      "Skipping Why'd You Only Call Me When You're High? (ID 60) — already indexed.\n",
      "Skipping Addicted To You (ID 61) — already indexed.\n",
      "Skipping Broken Arrows (ID 62) — already indexed.\n",
      "Skipping Fade Into Darkness - Vocal Radio Mix (ID 63) — already indexed.\n",
      "Skipping For A Better Day (ID 64) — already indexed.\n",
      "Skipping Heaven (ID 65) — already indexed.\n",
      "Skipping Hey Brother (ID 66) — already indexed.\n",
      "Skipping Levels - Radio Edit (ID 67) — already indexed.\n",
      "Skipping Silhouettes - Original Radio Edit (ID 68) — already indexed.\n",
      "Skipping The Nights (ID 69) — already indexed.\n",
      "Skipping Waiting For Love (ID 70) — already indexed.\n",
      "Skipping Wake Me Up (ID 71) — already indexed.\n",
      "Skipping Wake Me Up - Radio Edit (ID 72) — already indexed.\n",
      "Skipping You Make Me (ID 73) — already indexed.\n",
      "Skipping Butter (ID 74) — already indexed.\n",
      "Skipping Dynamite (ID 75) — already indexed.\n",
      "Skipping BREAK MY SOUL (ID 76) — already indexed.\n",
      "Skipping Best Thing I Never Had (ID 77) — already indexed.\n",
      "Skipping Broken-Hearted Girl (ID 78) — already indexed.\n",
      "Skipping Halo (ID 79) — already indexed.\n",
      "Skipping Hold Up (ID 80) — already indexed.\n",
      "Skipping If I Were a Boy (ID 81) — already indexed.\n",
      "Skipping Irreplaceable (ID 82) — already indexed.\n",
      "Skipping Naughty Girl (ID 84) — already indexed.\n",
      "Skipping Run the World (Girls) (ID 85) — already indexed.\n",
      "Skipping Single Ladies (Put a Ring on It) (ID 86) — already indexed.\n",
      "Skipping Sweet Dreams (ID 87) — already indexed.\n",
      "Skipping XO (ID 88) — already indexed.\n",
      "Skipping Lost Cause (ID 89) — already indexed.\n",
      "Skipping NDA (ID 90) — already indexed.\n",
      "Skipping Therefore I Am (ID 91) — already indexed.\n",
      "Skipping Your Power (ID 92) — already indexed.\n",
      "Skipping all the good girls go to hell (ID 93) — already indexed.\n",
      "Skipping bad guy (ID 94) — already indexed.\n",
      "Skipping bury a friend (ID 95) — already indexed.\n",
      "Skipping everything i wanted (ID 96) — already indexed.\n",
      "Skipping when the party's over (ID 97) — already indexed.\n",
      "Skipping wish you were gay (ID 98) — already indexed.\n",
      "Skipping BIG LOVE (ID 99) — already indexed.\n",
      "Skipping Boom Boom Pow (ID 100) — already indexed.\n",
      "Skipping Let's Get It Started - Spike Mix (ID 109) — already indexed.\n",
      "Skipping Meet Me Halfway (ID 110) — already indexed.\n",
      "Skipping My Humps (ID 111) — already indexed.\n",
      "Skipping Pump It (ID 112) — already indexed.\n",
      "Skipping Rock That Body (ID 113) — already indexed.\n",
      "Skipping Shut Up (ID 114) — already indexed.\n",
      "Skipping The Time (Dirty Bit) (ID 115) — already indexed.\n",
      "Skipping Where Is The Love? (ID 116) — already indexed.\n",
      "Skipping Blowin' in the Wind (ID 117) — already indexed.\n",
      "Skipping Forever Young - Fast Version (ID 118) — already indexed.\n",
      "Skipping Hurricane (ID 119) — already indexed.\n",
      "Skipping Knockin' On Heaven's Door (ID 120) — already indexed.\n",
      "Skipping Like a Rolling Stone (ID 121) — already indexed.\n",
      "Skipping Mr. Tambourine Man (ID 122) — already indexed.\n",
      "Skipping The Times They Are A-Changin' (ID 123) — already indexed.\n",
      "Skipping Bad Medicine (ID 125) — already indexed.\n",
      "Skipping Bed Of Roses (ID 126) — already indexed.\n",
      "Skipping Have A Nice Day (ID 127) — already indexed.\n",
      "Skipping I'll Be There For You (ID 128) — already indexed.\n",
      "Skipping In These Arms (ID 129) — already indexed.\n",
      "Skipping It's My Life (ID 130) — already indexed.\n",
      "Skipping Keep The Faith (ID 131) — already indexed.\n",
      "Skipping Livin' On A Prayer (ID 132) — already indexed.\n",
      "Skipping Say It Isn't So (ID 133) — already indexed.\n",
      "Skipping Shot Through The Heart (ID 134) — already indexed.\n",
      "Skipping This Ain't A Love Song (ID 135) — already indexed.\n",
      "Skipping Wanted Dead Or Alive (ID 136) — already indexed.\n",
      "Skipping You Give Love A Bad Name (ID 137) — already indexed.\n",
      "Skipping (You Drive Me) Crazy (ID 138) — already indexed.\n",
      "Skipping ...Baby One More Time (ID 139) — already indexed.\n",
      "Skipping 3 (ID 140) — already indexed.\n",
      "Skipping Circus (ID 141) — already indexed.\n",
      "Skipping Circus - Remastered (ID 142) — already indexed.\n",
      "Skipping Do Somethin' (ID 143) — already indexed.\n",
      "Skipping Everytime (ID 144) — already indexed.\n",
      "Skipping From the Bottom of My Broken Heart (ID 145) — already indexed.\n",
      "Skipping Gimme More (ID 146) — already indexed.\n",
      "Skipping Hold It Against Me (ID 147) — already indexed.\n",
      "Skipping I Love Rock 'N' Roll (ID 148) — already indexed.\n",
      "Skipping I'm Not a Girl, Not Yet a Woman (ID 149) — already indexed.\n",
      "Skipping I'm a Slave 4 U (ID 150) — already indexed.\n",
      "Skipping If U Seek Amy (ID 151) — already indexed.\n",
      "Skipping Lucky (ID 152) — already indexed.\n",
      "Skipping My Prerogative - Remastered (ID 153) — already indexed.\n",
      "Skipping Oops!...I Did It Again (ID 154) — already indexed.\n",
      "Skipping Piece of Me (ID 155) — already indexed.\n",
      "Skipping Sometimes (ID 156) — already indexed.\n",
      "Skipping Stronger (ID 157) — already indexed.\n",
      "Skipping Till the World Ends (ID 158) — already indexed.\n",
      "Skipping Toxic (ID 159) — already indexed.\n",
      "Skipping Womanizer (ID 160) — already indexed.\n",
      "Skipping 24K Magic (ID 161) — already indexed.\n",
      "Skipping Chunky (ID 162) — already indexed.\n",
      "Skipping Count on Me (ID 163) — already indexed.\n",
      "Skipping Grenade (ID 164) — already indexed.\n",
      "Skipping Grenade - Acoustic (ID 165) — already indexed.\n",
      "Skipping If I Knew (ID 166) — already indexed.\n",
      "Skipping It Will Rain (ID 167) — already indexed.\n",
      "Skipping Just the Way You Are (ID 168) — already indexed.\n",
      "Skipping Locked out of Heaven (ID 169) — already indexed.\n",
      "Skipping Marry You (ID 170) — already indexed.\n",
      "Skipping Talking to the Moon (ID 171) — already indexed.\n",
      "Skipping That's What I Like (ID 172) — already indexed.\n",
      "Skipping The Lazy Song (ID 173) — already indexed.\n",
      "Skipping Treasure (ID 174) — already indexed.\n",
      "Skipping Versace on the Floor (ID 175) — already indexed.\n",
      "Skipping When I Was Your Man (ID 176) — already indexed.\n",
      "Skipping (Everything I Do) I Do It For You (ID 177) — already indexed.\n",
      "Skipping Can't Stop This Thing We Started (ID 178) — already indexed.\n",
      "Skipping Have You Ever Really Loved A Woman? (ID 179) — already indexed.\n",
      "Skipping Heaven (ID 180) — already indexed.\n",
      "Skipping Let's Make A Night To Remember (ID 181) — already indexed.\n",
      "Skipping Run To You (ID 183) — already indexed.\n",
      "Skipping Summer Of '69 (ID 184) — already indexed.\n",
      "Skipping The Only Thing That Looks Good On Me Is You (ID 185) — already indexed.\n",
      "Skipping Thought I'd Died And Gone To Heaven (ID 186) — already indexed.\n",
      "Skipping Acceptable in the 80's (ID 187) — already indexed.\n",
      "Skipping Feel So Close - Radio Edit (ID 188) — already indexed.\n",
      "Skipping Flashback (ID 189) — already indexed.\n",
      "Skipping I'm Not Alone - Radio Edit (ID 190) — already indexed.\n",
      "Skipping My Way (ID 191) — already indexed.\n",
      "Skipping Ready for the Weekend (ID 192) — already indexed.\n",
      "Skipping Summer (ID 193) — already indexed.\n",
      "Skipping The Girls - Radio Edit (ID 194) — already indexed.\n",
      "Skipping You Used to Hold Me (ID 195) — already indexed.\n",
      "Skipping Don't Go Yet (ID 196) — already indexed.\n",
      "Skipping Never Be the Same (ID 197) — already indexed.\n",
      "Skipping Shameless (ID 198) — already indexed.\n",
      "Skipping Up (ID 199) — already indexed.\n",
      "Skipping Ain't No Other Man (ID 200) — already indexed.\n",
      "Skipping Hurt (ID 207) — already indexed.\n",
      "Skipping Impossible (ID 208) — already indexed.\n",
      "Skipping Keeps Gettin' Better (ID 209) — already indexed.\n",
      "Skipping What a Girl Wants (ID 210) — already indexed.\n",
      "Skipping A Sky Full of Stars (ID 211) — already indexed.\n",
      "Skipping Adventure of a Lifetime (ID 212) — already indexed.\n",
      "Skipping Charlie Brown (ID 213) — already indexed.\n",
      "Skipping Clocks (ID 214) — already indexed.\n",
      "Skipping Every Teardrop Is a Waterfall (ID 215) — already indexed.\n",
      "Skipping Fix You (ID 216) — already indexed.\n",
      "Skipping God Put a Smile upon Your Face (ID 217) — already indexed.\n",
      "Skipping Higher Power (ID 218) — already indexed.\n",
      "Skipping Hymn for the Weekend (ID 219) — already indexed.\n",
      "Skipping In My Place (ID 220) — already indexed.\n",
      "Skipping Life in Technicolor ii (ID 221) — already indexed.\n",
      "Skipping Lost! (ID 222) — already indexed.\n",
      "Skipping Lovers in Japan (ID 223) — already indexed.\n",
      "Skipping Magic (ID 224) — already indexed.\n",
      "Skipping Paradise (ID 225) — already indexed.\n",
      "Skipping Speed of Sound (ID 226) — already indexed.\n",
      "Skipping The Scientist (ID 227) — already indexed.\n",
      "Skipping Violet Hill (ID 228) — already indexed.\n",
      "Skipping Viva La Vida (ID 229) — already indexed.\n",
      "Skipping Yellow (ID 230) — already indexed.\n",
      "Skipping Gasolina (ID 231) — already indexed.\n",
      "Skipping Around the World (ID 232) — already indexed.\n",
      "Skipping Da Funk - Radio Edit (ID 234) — already indexed.\n",
      "Skipping One More Time (ID 235) — already indexed.\n",
      "Skipping One More Time - Radio Edit [Short Radio Edit] (ID 236) — already indexed.\n",
      "Skipping Ashes to Ashes - 2017 Remaster (ID 238) — already indexed.\n",
      "Skipping Cat People (Putting Out Fire) - 2018 Remaster (ID 239) — already indexed.\n",
      "Skipping Heroes - 2017 Remaster (ID 240) — already indexed.\n",
      "Skipping Let's Dance - Single Version, 2014 Remaster (ID 241) — already indexed.\n",
      "Skipping Modern Love - 1999 Remaster (ID 242) — already indexed.\n",
      "Skipping Rebel Rebel - 2016 Remaster (ID 243) — already indexed.\n",
      "Skipping Sorrow - 2015 Remaster (ID 244) — already indexed.\n",
      "Skipping Space Oddity - 2009 Remastered Version (ID 245) — already indexed.\n",
      "Skipping Space Oddity - 2015 Remaster (ID 246) — already indexed.\n",
      "Skipping Bang My Head (feat. Sia & Fetty Wap) (ID 247) — already indexed.\n",
      "Skipping Shot Me Down (feat. Skylar Grey) - Radio Edit (ID 248) — already indexed.\n",
      "Skipping This One's for You (feat. Zara Larsson) (Official Song UEFA EURO 2016) (ID 249) — already indexed.\n",
      "Skipping What I Did for Love (feat. Emeli Sandé) (ID 250) — already indexed.\n",
      "Skipping Where Them Girls At (feat. Nicki Minaj & Flo Rida) (ID 251) — already indexed.\n",
      "Skipping Boss Bitch (ID 252) — already indexed.\n",
      "Skipping Say So (ID 253) — already indexed.\n",
      "Skipping Streets (ID 254) — already indexed.\n",
      "Skipping Controlla (ID 255) — already indexed.\n",
      "Skipping God's Plan (ID 256) — already indexed.\n",
      "Skipping Hotline Bling (ID 257) — already indexed.\n",
      "Skipping Toosie Slide (ID 259) — already indexed.\n",
      "Skipping Be the One (ID 260) — already indexed.\n",
      "Skipping Blow Your Mind (Mwah) (ID 261) — already indexed.\n",
      "Skipping Break My Heart (ID 262) — already indexed.\n",
      "Skipping Dance The Night (From Barbie The Album) (ID 263) — already indexed.\n",
      "Skipping Don't Start Now (ID 264) — already indexed.\n",
      "Skipping Hallucinate (ID 265) — already indexed.\n",
      "Skipping Hotter Than Hell (ID 266) — already indexed.\n",
      "Skipping IDGAF (ID 267) — already indexed.\n",
      "Skipping Levitating (ID 268) — already indexed.\n",
      "Skipping Love Again (ID 269) — already indexed.\n",
      "Skipping New Rules (ID 270) — already indexed.\n",
      "Skipping Physical (ID 271) — already indexed.\n",
      "Skipping Swan Song - From the Motion Picture \"Alita: Battle Angel\" (ID 272) — already indexed.\n",
      "Skipping We're Good (ID 273) — already indexed.\n",
      "Skipping Afire Love (ID 274) — already indexed.\n",
      "Skipping Afterglow (ID 275) — already indexed.\n",
      "Skipping All of the Stars (ID 276) — already indexed.\n",
      "Skipping Bad Habits (ID 277) — already indexed.\n",
      "Skipping Bloodstream (ID 278) — already indexed.\n",
      "Skipping Castle on the Hill (ID 279) — already indexed.\n",
      "Skipping Celestial (ID 280) — already indexed.\n",
      "Skipping Dive (ID 281) — already indexed.\n",
      "Skipping Don't (ID 282) — already indexed.\n",
      "Skipping Drunk (ID 283) — already indexed.\n",
      "Skipping Eyes Closed (ID 284) — already indexed.\n",
      "Skipping Galway Girl (ID 286) — already indexed.\n",
      "Skipping Happier (ID 287) — already indexed.\n",
      "Skipping How Would You Feel (Paean) (ID 288) — already indexed.\n",
      "Skipping I See Fire - From \"The Hobbit - The Desolation Of Smaug\" (ID 289) — already indexed.\n",
      "Skipping Kiss Me (ID 290) — already indexed.\n",
      "Skipping Lego House (ID 291) — already indexed.\n",
      "Skipping New York (ID 292) — already indexed.\n",
      "Skipping One (ID 293) — already indexed.\n",
      "Skipping Overpass Graffiti (ID 294) — already indexed.\n",
      "Skipping Perfect (ID 295) — already indexed.\n",
      "Skipping Photograph (ID 296) — already indexed.\n",
      "Skipping Runaway (ID 297) — already indexed.\n",
      "Skipping Shape of You (ID 298) — already indexed.\n",
      "Skipping She (ID 299) — already indexed.\n",
      "Skipping Shivers (ID 300) — already indexed.\n",
      "Skipping Candle In The Wind (ID 311) — already indexed.\n",
      "Skipping Candle In The Wind 1997 (ID 312) — already indexed.\n",
      "Skipping Crocodile Rock (ID 313) — already indexed.\n",
      "Skipping Daniel (ID 314) — already indexed.\n",
      "Skipping Goodbye Yellow Brick Road - Remastered 2014 (ID 315) — already indexed.\n",
      "Skipping Healing Hands (ID 316) — already indexed.\n",
      "Skipping Heartache All Over The World (ID 317) — already indexed.\n",
      "Skipping I Don't Wanna Go On With You Like That (ID 318) — already indexed.\n",
      "Skipping I Guess That's Why They Call It The Blues (ID 319) — already indexed.\n",
      "Skipping I'm Still Standing (ID 320) — already indexed.\n",
      "Skipping Kiss The Bride (ID 321) — already indexed.\n",
      "Skipping Little Jeannie (ID 322) — already indexed.\n",
      "Skipping Lucy In The Sky With Diamonds (ID 323) — already indexed.\n",
      "Skipping Nikita (ID 324) — already indexed.\n",
      "Skipping Part Time Love (ID 325) — already indexed.\n",
      "Skipping Passengers (ID 326) — already indexed.\n",
      "Skipping Philadelphia Freedom (ID 327) — already indexed.\n",
      "Skipping Rocket Man (I Think It's Going To Be A Long, Long Time) (ID 328) — already indexed.\n",
      "Skipping Sacrifice (ID 329) — already indexed.\n",
      "Skipping Sad Songs (Say So Much) (ID 330) — already indexed.\n",
      "Skipping Something About The Way You Look Tonight - Edit Version (ID 331) — already indexed.\n",
      "Skipping Song For Guy (ID 332) — already indexed.\n",
      "Skipping Tiny Dancer (ID 333) — already indexed.\n",
      "Skipping Your Song (ID 334) — already indexed.\n",
      "Skipping Ass Like That (ID 335) — already indexed.\n",
      "Skipping Cleanin' Out My Closet (ID 338) — already indexed.\n",
      "Skipping Just Lose It (ID 339) — already indexed.\n",
      "Skipping Like Toy Soldiers (ID 340) — already indexed.\n",
      "Skipping Lose Yourself (ID 341) — already indexed.\n",
      "Skipping Lose Yourself - From \"8 Mile\" Soundtrack (ID 342) — already indexed.\n",
      "Skipping Mockingbird (ID 343) — already indexed.\n",
      "Skipping My Name Is (ID 344) — already indexed.\n",
      "Skipping Not Afraid (ID 345) — already indexed.\n",
      "Skipping Sing For The Moment (ID 346) — already indexed.\n",
      "Skipping The Real Slim Shady (ID 347) — already indexed.\n",
      "Skipping We Made You (ID 348) — already indexed.\n",
      "Skipping When I'm Gone (ID 349) — already indexed.\n",
      "Skipping Without Me (ID 350) — already indexed.\n",
      "Skipping Bailamos (ID 351) — already indexed.\n",
      "Skipping Don't Turn Off The Lights (ID 352) — already indexed.\n",
      "Skipping Change the World - 2015 Remaster (ID 355) — already indexed.\n",
      "Skipping Cocaine (ID 356) — already indexed.\n",
      "Skipping I Shot The Sheriff (ID 357) — already indexed.\n",
      "Skipping Layla - Acoustic; Live at MTV Unplugged, Bray Film Studios, Windsor, England, UK, 1/16/1992; 2013 Remaster (ID 358) — already indexed.\n",
      "Skipping Tears In Heaven (ID 359) — already indexed.\n",
      "Skipping Bring Me To Life (ID 360) — already indexed.\n",
      "Skipping Call Me When You're Sober (ID 361) — already indexed.\n",
      "Skipping Everybody's Fool (ID 362) — already indexed.\n",
      "Skipping \"The Take Over, The Breaks Over\" (ID 366) — already indexed.\n",
      "Skipping Centuries (ID 367) — already indexed.\n",
      "Skipping I Don't Care (ID 368) — already indexed.\n",
      "Skipping She's My Winona (ID 369) — already indexed.\n",
      "Skipping Sugar, We're Goin Down (ID 370) — already indexed.\n",
      "Skipping This Ain't A Scene, It's An Arms Race (ID 371) — already indexed.\n",
      "Skipping Thnks fr th Mmrs (ID 372) — already indexed.\n",
      "Skipping Albatross (ID 373) — already indexed.\n",
      "Skipping Don't Stop - 2004 Remaster (ID 374) — already indexed.\n",
      "Skipping Dreams - 2004 Remaster (ID 375) — already indexed.\n",
      "Skipping Go Your Own Way (ID 376) — already indexed.\n",
      "Skipping Go Your Own Way - 2004 Remaster (ID 377) — already indexed.\n",
      "Skipping Hold Me (ID 378) — already indexed.\n",
      "Skipping Little Lies (ID 379) — already indexed.\n",
      "Skipping Rhiannon (ID 380) — already indexed.\n",
      "Skipping Sara (ID 381) — already indexed.\n",
      "Skipping Seven Wonders - 2017 Remaster (ID 382) — already indexed.\n",
      "Skipping The Chain - 2004 Remaster (ID 383) — already indexed.\n",
      "Skipping Tusk - 2015 Remaster (ID 384) — already indexed.\n",
      "Skipping Best Of You (ID 385) — already indexed.\n",
      "Skipping Best of You (ID 386) — already indexed.\n",
      "Skipping Big Me (ID 387) — already indexed.\n",
      "Skipping Everlong (ID 388) — already indexed.\n",
      "Skipping Generator (ID 389) — already indexed.\n",
      "Skipping Learn to Fly (ID 390) — already indexed.\n",
      "Skipping Long Road To Ruin (ID 391) — already indexed.\n",
      "Skipping Monkey Wrench (ID 392) — already indexed.\n",
      "Skipping My Hero (ID 393) — already indexed.\n",
      "Skipping Rope (ID 394) — already indexed.\n",
      "Skipping The Pretender (ID 395) — already indexed.\n",
      "Skipping These Days (ID 396) — already indexed.\n",
      "Skipping This Is a Call (ID 397) — already indexed.\n",
      "Skipping Times Like These (ID 398) — already indexed.\n",
      "Skipping Walk (ID 399) — already indexed.\n",
      "Skipping Wheels (ID 400) — already indexed.\n",
      "Skipping One More Try - Live (ID 413) — already indexed.\n",
      "Skipping One More Try - Remastered (ID 414) — already indexed.\n",
      "Skipping Outside (ID 415) — already indexed.\n",
      "Skipping Praying for Time - 2010 Remastered Version (ID 416) — already indexed.\n",
      "Skipping The First Time Ever I Saw Your Face (ID 417) — already indexed.\n",
      "Skipping Too Funky - Remastered 2006 (ID 418) — already indexed.\n",
      "Skipping Too Funky - Single Edit (ID 419) — already indexed.\n",
      "Skipping 19-2000 (ID 420) — already indexed.\n",
      "Skipping Clint Eastwood (ID 421) — already indexed.\n",
      "Skipping DARE (ID 422) — already indexed.\n",
      "Skipping Feel Good Inc. (ID 423) — already indexed.\n",
      "Skipping 21 Guns (ID 424) — already indexed.\n",
      "Skipping 21 Guns (feat. Rebecca Naomi Jones, Christina Sajous, Mary Faber, Stark Sands, John Gallagher Jr., Michael Esper, The American Idiot Broadway Company) (ID 425) — already indexed.\n",
      "Skipping American Idiot (ID 426) — already indexed.\n",
      "Skipping Basket Case (ID 427) — already indexed.\n",
      "Skipping Boulevard of Broken Dreams (ID 428) — already indexed.\n",
      "Skipping Brain Stew (ID 429) — already indexed.\n",
      "Skipping Good Riddance (Time of Your Life) (ID 430) — already indexed.\n",
      "Skipping Hitchin' a Ride (ID 431) — already indexed.\n",
      "Skipping Holiday (ID 432) — already indexed.\n",
      "Skipping Know Your Enemy (ID 433) — already indexed.\n",
      "Skipping Longview (ID 434) — already indexed.\n",
      "Skipping Minority (ID 435) — already indexed.\n",
      "Skipping The Forgotten (ID 436) — already indexed.\n",
      "Skipping Wake Me up When September Ends (ID 437) — already indexed.\n",
      "Skipping Warning (ID 438) — already indexed.\n",
      "Skipping Welcome to Paradise (ID 439) — already indexed.\n",
      "Skipping When I Come Around (ID 440) — already indexed.\n",
      "Skipping Bad At Love (ID 441) — already indexed.\n",
      "Skipping Graveyard (ID 442) — already indexed.\n",
      "Skipping New Americana (ID 443) — already indexed.\n",
      "Skipping Now Or Never (ID 444) — already indexed.\n",
      "Skipping Without Me (ID 445) — already indexed.\n",
      "Skipping You should be sad (ID 446) — already indexed.\n",
      "Skipping Adore You (ID 447) — already indexed.\n",
      "Skipping As It Was (ID 448) — already indexed.\n",
      "Skipping Falling (ID 449) — already indexed.\n",
      "Skipping Golden (ID 450) — already indexed.\n",
      "Skipping Kiwi (ID 451) — already indexed.\n",
      "Skipping Sign of the Times (ID 452) — already indexed.\n",
      "Skipping Treat People With Kindness (ID 453) — already indexed.\n",
      "Skipping Watermelon Sugar (ID 454) — already indexed.\n",
      "Skipping Bad Liar (ID 455) — already indexed.\n",
      "Skipping Believer (ID 456) — already indexed.\n",
      "Skipping Bones (ID 457) — already indexed.\n",
      "Skipping Demons (ID 458) — already indexed.\n",
      "Skipping Follow You (ID 459) — already indexed.\n",
      "Skipping It's Time (ID 460) — already indexed.\n",
      "Skipping Natural (ID 461) — already indexed.\n",
      "Skipping On Top Of The World (ID 462) — already indexed.\n",
      "Skipping Radioactive (ID 463) — already indexed.\n",
      "Skipping Roots (ID 464) — already indexed.\n",
      "Skipping Thunder (ID 465) — already indexed.\n",
      "Skipping Love Don't Cost a Thing (ID 472) — already indexed.\n",
      "Skipping Play (ID 473) — already indexed.\n",
      "Skipping Waiting for Tonight (ID 474) — already indexed.\n",
      "Skipping I Think I'm in Love with You (ID 475) — already indexed.\n",
      "Skipping I Wanna Love You Forever (ID 476) — already indexed.\n",
      "Skipping These Boots Are Made for Walkin' (ID 478) — already indexed.\n",
      "Skipping CAN'T STOP THE FEELING! (from DreamWorks Animation's \"TROLLS\") (ID 480) — already indexed.\n",
      "Skipping Cry Me a River (ID 481) — already indexed.\n",
      "Skipping Filthy (ID 482) — already indexed.\n",
      "Skipping FutureSex / LoveSound (ID 483) — already indexed.\n",
      "Skipping Like I Love You (ID 484) — already indexed.\n",
      "Skipping LoveStoned / I Think She Knows - Radio Edit (ID 485) — already indexed.\n",
      "Skipping Mirrors (ID 486) — already indexed.\n",
      "Skipping Mirrors - Radio Edit (ID 487) — already indexed.\n",
      "Skipping Rock Your Body (ID 488) — already indexed.\n",
      "Skipping Señorita (ID 489) — already indexed.\n",
      "Skipping SoulMate (ID 490) — already indexed.\n",
      "Skipping Summer Love (ID 491) — already indexed.\n",
      "Downloading audio from https://www.youtube.com/watch?v=n0vTAdua_yE...\n",
      "                                                      \r  "
     ]
    },
    {
     "name": "stderr",
     "output_type": "stream",
     "text": [
      " 78%|███████▊  | 819/1053 [7:31:14<05:57,  1.53s/it]  "
     ]
    },
    {
     "name": "stdout",
     "output_type": "stream",
     "text": [
      "Downloading audio from https://www.youtube.com/watch?v=HAfFfqiYLp0...\n",
      "                                                      \r  "
     ]
    },
    {
     "name": "stderr",
     "output_type": "stream",
     "text": [
      " 78%|███████▊  | 820/1053 [7:31:35<06:10,  1.59s/it]"
     ]
    },
    {
     "name": "stdout",
     "output_type": "stream",
     "text": [
      "Downloading audio from https://www.youtube.com/watch?v=MYF7H_fpc-g...\n",
      "                                                      \r                  "
     ]
    },
    {
     "name": "stderr",
     "output_type": "stream",
     "text": [
      " 78%|███████▊  | 821/1053 [7:32:40<07:18,  1.89s/it]"
     ]
    },
    {
     "name": "stdout",
     "output_type": "stream",
     "text": [
      "Downloading audio from https://www.youtube.com/watch?v=chPDTUjnWgA...\n",
      "                                                      \r  "
     ]
    },
    {
     "name": "stderr",
     "output_type": "stream",
     "text": [
      " 78%|███████▊  | 822/1053 [7:34:34<10:11,  2.65s/it]"
     ]
    },
    {
     "name": "stdout",
     "output_type": "stream",
     "text": [
      "Downloading audio from https://www.youtube.com/watch?v=PsO6ZnUZI0g...\n",
      "                                                      \r                  "
     ]
    },
    {
     "name": "stderr",
     "output_type": "stream",
     "text": [
      " 78%|███████▊  | 823/1053 [7:34:50<10:39,  2.78s/it]"
     ]
    },
    {
     "name": "stdout",
     "output_type": "stream",
     "text": [
      "Downloading audio from https://www.youtube.com/watch?v=jqYxyd1iSNk...\n",
      "                                                      \r  "
     ]
    },
    {
     "name": "stderr",
     "output_type": "stream",
     "text": [
      " 78%|███████▊  | 824/1053 [7:36:56<16:54,  4.43s/it]"
     ]
    },
    {
     "name": "stdout",
     "output_type": "stream",
     "text": [
      "Downloading audio from https://www.youtube.com/watch?v=NutHKRKBgR0...\n",
      "                                                      \r  "
     ]
    },
    {
     "name": "stderr",
     "output_type": "stream",
     "text": [
      " 78%|███████▊  | 825/1053 [7:37:17<17:59,  4.74s/it]"
     ]
    },
    {
     "name": "stdout",
     "output_type": "stream",
     "text": [
      "Downloading audio from https://www.youtube.com/watch?v=ojpTpT5i-PI...\n",
      "                                                      \r  "
     ]
    },
    {
     "name": "stderr",
     "output_type": "stream",
     "text": [
      " 78%|███████▊  | 826/1053 [7:37:22<17:57,  4.75s/it]"
     ]
    },
    {
     "name": "stdout",
     "output_type": "stream",
     "text": [
      "Downloading audio from https://www.youtube.com/watch?v=aEb5gNsmGJ8...\n",
      "                                                      \r    "
     ]
    },
    {
     "name": "stderr",
     "output_type": "stream",
     "text": [
      " 79%|███████▊  | 827/1053 [7:38:09<23:37,  6.27s/it]"
     ]
    },
    {
     "name": "stdout",
     "output_type": "stream",
     "text": [
      "Downloading audio from https://www.youtube.com/watch?v=UyKgYMQ-AlQ...\n",
      "[download]  37.0% of ~   3.84MiB at    1.37MiB/s ETA Unknown (frag 17/43)Downloading audio from https://www.youtube.com/watch?v=mtoLvJ2OKH4...\n"
     ]
    },
    {
     "name": "stderr",
     "output_type": "stream",
     "text": [
      " 79%|███████▊  | 828/1053 [7:38:13<23:05,  6.16s/it]"
     ]
    },
    {
     "name": "stdout",
     "output_type": "stream",
     "text": [
      "                                                      \r                  "
     ]
    },
    {
     "name": "stderr",
     "output_type": "stream",
     "text": [
      " 79%|███████▊  | 829/1053 [7:39:17<37:06,  9.94s/it]"
     ]
    },
    {
     "name": "stdout",
     "output_type": "stream",
     "text": [
      "Downloading audio from https://www.youtube.com/watch?v=uuwfgXD8qV8...\n"
     ]
    },
    {
     "name": "stderr",
     "output_type": "stream",
     "text": [
      " 79%|███████▉  | 830/1053 [7:39:20<34:38,  9.32s/it]"
     ]
    },
    {
     "name": "stdout",
     "output_type": "stream",
     "text": [
      "Downloading audio from https://www.youtube.com/watch?v=hdw1uKiTI5c...\n",
      "                                                      \r  "
     ]
    },
    {
     "name": "stderr",
     "output_type": "stream",
     "text": [
      " 79%|███████▉  | 831/1053 [7:40:43<1:04:24, 17.41s/it]"
     ]
    },
    {
     "name": "stdout",
     "output_type": "stream",
     "text": [
      "Downloading audio from https://www.youtube.com/watch?v=CevxZvSJLk8...\n",
      "                                                      \r  "
     ]
    },
    {
     "name": "stderr",
     "output_type": "stream",
     "text": [
      " 79%|███████▉  | 832/1053 [7:41:51<1:28:58, 24.16s/it]"
     ]
    },
    {
     "name": "stdout",
     "output_type": "stream",
     "text": [
      "Downloading audio from https://www.youtube.com/watch?v=vZA5heWazIQ...\n",
      "                                                      \r    "
     ]
    },
    {
     "name": "stderr",
     "output_type": "stream",
     "text": [
      " 79%|███████▉  | 833/1053 [7:44:36<2:51:49, 46.86s/it]"
     ]
    },
    {
     "name": "stdout",
     "output_type": "stream",
     "text": [
      "Downloading audio from https://www.youtube.com/watch?v=98WtmW-lfeE...\n",
      "                                                      \r  "
     ]
    },
    {
     "name": "stderr",
     "output_type": "stream",
     "text": [
      " 79%|███████▉  | 834/1053 [7:49:25<5:36:37, 92.23s/it]"
     ]
    },
    {
     "name": "stdout",
     "output_type": "stream",
     "text": [
      "Downloading audio from https://www.youtube.com/watch?v=Ahha3Cqe_fk...\n",
      "                                                      \r  "
     ]
    },
    {
     "name": "stderr",
     "output_type": "stream",
     "text": [
      " 79%|███████▉  | 835/1053 [7:54:13<8:05:29, 133.62s/it]"
     ]
    },
    {
     "name": "stdout",
     "output_type": "stream",
     "text": [
      "Downloading audio from https://www.youtube.com/watch?v=7RMQksXpQSk...\n",
      "                                                      \r  "
     ]
    },
    {
     "name": "stderr",
     "output_type": "stream",
     "text": [
      " 79%|███████▉  | 836/1053 [7:55:22<7:09:18, 118.70s/it]"
     ]
    },
    {
     "name": "stdout",
     "output_type": "stream",
     "text": [
      "Downloading audio from https://www.youtube.com/watch?v=XjwZAa2EjKA...\n",
      "                                                      \r  "
     ]
    },
    {
     "name": "stderr",
     "output_type": "stream",
     "text": [
      " 79%|███████▉  | 837/1053 [7:57:19<7:05:28, 118.19s/it]"
     ]
    },
    {
     "name": "stdout",
     "output_type": "stream",
     "text": [
      "Downloading audio from https://www.youtube.com/watch?v=1-pUaogoX5o...\n",
      "                                                      \r                  "
     ]
    },
    {
     "name": "stderr",
     "output_type": "stream",
     "text": [
      " 80%|███████▉  | 838/1053 [7:58:43<6:31:10, 109.16s/it]"
     ]
    },
    {
     "name": "stdout",
     "output_type": "stream",
     "text": [
      "Downloading audio from https://www.youtube.com/watch?v=t4D5egXVqSg...\n",
      "                                                      \r  "
     ]
    },
    {
     "name": "stderr",
     "output_type": "stream",
     "text": [
      " 80%|███████▉  | 839/1053 [8:00:36<6:32:44, 110.11s/it]"
     ]
    },
    {
     "name": "stdout",
     "output_type": "stream",
     "text": [
      "Downloading audio from https://www.youtube.com/watch?v=k0BWlvnBmIE...\n",
      "                                                      \r  "
     ]
    },
    {
     "name": "stderr",
     "output_type": "stream",
     "text": [
      " 80%|███████▉  | 840/1053 [8:02:15<6:19:58, 107.04s/it]"
     ]
    },
    {
     "name": "stdout",
     "output_type": "stream",
     "text": [
      "Downloading audio from https://www.youtube.com/watch?v=1nZknq9VRHs...\n"
     ]
    },
    {
     "name": "stderr",
     "output_type": "stream",
     "text": [
      " 80%|███████▉  | 841/1053 [8:02:15<4:30:56, 76.68s/it] "
     ]
    },
    {
     "name": "stdout",
     "output_type": "stream",
     "text": [
      "Downloading audio from https://www.youtube.com/watch?v=Ra-Om7UMSJc...\n",
      "                                                      \r  "
     ]
    },
    {
     "name": "stderr",
     "output_type": "stream",
     "text": [
      " 80%|███████▉  | 842/1053 [8:02:49<3:45:17, 64.06s/it]"
     ]
    },
    {
     "name": "stdout",
     "output_type": "stream",
     "text": [
      "Downloading audio from https://www.youtube.com/watch?v=yipoOY56MbM...\n",
      "                                                      \r  "
     ]
    },
    {
     "name": "stderr",
     "output_type": "stream",
     "text": [
      " 80%|████████  | 843/1053 [8:03:48<3:39:04, 62.59s/it]"
     ]
    },
    {
     "name": "stdout",
     "output_type": "stream",
     "text": [
      "Downloading audio from https://www.youtube.com/watch?v=c-3vPxKdj6o...\n",
      "                                                        \r"
     ]
    },
    {
     "name": "stderr",
     "output_type": "stream",
     "text": [
      " 80%|████████  | 844/1053 [8:06:20<5:09:48, 88.94s/it]"
     ]
    },
    {
     "name": "stdout",
     "output_type": "stream",
     "text": [
      "Downloading audio from https://www.youtube.com/watch?v=xQNqaERUYy4...\n",
      "                                                        \r               "
     ]
    },
    {
     "name": "stderr",
     "output_type": "stream",
     "text": [
      " 80%|████████  | 845/1053 [8:07:10<4:28:47, 77.53s/it]"
     ]
    },
    {
     "name": "stdout",
     "output_type": "stream",
     "text": [
      "Downloading audio from https://www.youtube.com/watch?v=Zy6vBxqlapw...\n",
      "                                                      \r  "
     ]
    },
    {
     "name": "stderr",
     "output_type": "stream",
     "text": [
      " 80%|████████  | 846/1053 [8:08:46<4:46:26, 83.03s/it]"
     ]
    },
    {
     "name": "stdout",
     "output_type": "stream",
     "text": [
      "Downloading audio from https://www.youtube.com/watch?v=dS1ZW0FdoIU...\n",
      "                                                      \r  "
     ]
    },
    {
     "name": "stderr",
     "output_type": "stream",
     "text": [
      " 80%|████████  | 847/1053 [8:08:59<3:33:05, 62.07s/it]"
     ]
    },
    {
     "name": "stdout",
     "output_type": "stream",
     "text": [
      "Downloading audio from https://www.youtube.com/watch?v=0C_oNMH0GTk...\n",
      "                                                      \r  "
     ]
    },
    {
     "name": "stderr",
     "output_type": "stream",
     "text": [
      " 81%|████████  | 848/1053 [8:16:23<10:01:57, 176.18s/it]"
     ]
    },
    {
     "name": "stdout",
     "output_type": "stream",
     "text": [
      "Downloading audio from https://www.youtube.com/watch?v=cRM70Jw7F4M...\n",
      "                                                      \r  "
     ]
    },
    {
     "name": "stderr",
     "output_type": "stream",
     "text": [
      " 81%|████████  | 849/1053 [8:17:06<7:44:05, 136.50s/it] "
     ]
    },
    {
     "name": "stdout",
     "output_type": "stream",
     "text": [
      "Downloading audio from https://www.youtube.com/watch?v=GVYesEpMr84...\n",
      "[download]  59.3% of    3.37MiB at    5.94MiB/s ETA 00:00"
     ]
    },
    {
     "name": "stderr",
     "output_type": "stream",
     "text": [
      " 81%|████████  | 850/1053 [8:17:37<5:54:54, 104.90s/it]"
     ]
    },
    {
     "name": "stdout",
     "output_type": "stream",
     "text": [
      "Downloading audio from https://www.youtube.com/watch?v=LqCqYP7hDWI...\n",
      "                                                      \r  "
     ]
    },
    {
     "name": "stderr",
     "output_type": "stream",
     "text": [
      " 81%|████████  | 851/1053 [8:21:44<8:16:01, 147.33s/it]"
     ]
    },
    {
     "name": "stdout",
     "output_type": "stream",
     "text": [
      "Downloading audio from https://www.youtube.com/watch?v=R7UrFYvl5TE...\n",
      "                                                      \r  "
     ]
    },
    {
     "name": "stderr",
     "output_type": "stream",
     "text": [
      " 81%|████████  | 852/1053 [8:24:18<8:20:34, 149.43s/it]"
     ]
    },
    {
     "name": "stdout",
     "output_type": "stream",
     "text": [
      "Downloading audio from https://www.youtube.com/watch?v=5L6xyaeiV58...\n",
      "                                                      \r  "
     ]
    },
    {
     "name": "stderr",
     "output_type": "stream",
     "text": [
      " 81%|████████  | 853/1053 [8:27:08<8:38:34, 155.57s/it]"
     ]
    },
    {
     "name": "stdout",
     "output_type": "stream",
     "text": [
      "Downloading audio from https://www.youtube.com/watch?v=qv6AJa7jWNc...\n",
      "[download]   6.0% of   16.62MiB at    2.41MiB/s ETA 00:06"
     ]
    },
    {
     "name": "stderr",
     "output_type": "stream",
     "text": [
      " 81%|████████  | 854/1053 [8:27:12<6:04:58, 110.04s/it]"
     ]
    },
    {
     "name": "stdout",
     "output_type": "stream",
     "text": [
      "Downloading audio from https://www.youtube.com/watch?v=Xn676-fLq7I...\n",
      "                                                      \r  "
     ]
    },
    {
     "name": "stderr",
     "output_type": "stream",
     "text": [
      " 81%|████████  | 855/1053 [8:27:36<4:38:08, 84.29s/it] "
     ]
    },
    {
     "name": "stdout",
     "output_type": "stream",
     "text": [
      "Downloading audio from https://www.youtube.com/watch?v=ICwfXGjVeXw...\n",
      "                                                      \r  "
     ]
    },
    {
     "name": "stderr",
     "output_type": "stream",
     "text": [
      " 81%|████████▏ | 856/1053 [8:31:45<7:18:34, 133.58s/it]"
     ]
    },
    {
     "name": "stdout",
     "output_type": "stream",
     "text": [
      "Downloading audio from https://www.youtube.com/watch?v=fB_KpO--R8M...\n",
      "                                                      \r    "
     ]
    },
    {
     "name": "stderr",
     "output_type": "stream",
     "text": [
      " 81%|████████▏ | 857/1053 [8:32:03<5:23:44, 99.10s/it] "
     ]
    },
    {
     "name": "stdout",
     "output_type": "stream",
     "text": [
      "Downloading audio from https://www.youtube.com/watch?v=SNKD32JOWEg...\n",
      "                                                      \r  "
     ]
    },
    {
     "name": "stderr",
     "output_type": "stream",
     "text": [
      " 81%|████████▏ | 858/1053 [8:35:51<7:27:53, 137.81s/it]"
     ]
    },
    {
     "name": "stdout",
     "output_type": "stream",
     "text": [
      "Downloading audio from https://www.youtube.com/watch?v=NT6mB8N24_g...\n",
      "                                                      \r    "
     ]
    },
    {
     "name": "stderr",
     "output_type": "stream",
     "text": [
      " 82%|████████▏ | 859/1053 [8:36:52<6:10:12, 114.50s/it]"
     ]
    },
    {
     "name": "stdout",
     "output_type": "stream",
     "text": [
      "Downloading audio from https://www.youtube.com/watch?v=RYOW5uoyKl0...\n"
     ]
    },
    {
     "name": "stderr",
     "output_type": "stream",
     "text": [
      " 82%|████████▏ | 860/1053 [8:36:54<4:20:39, 81.04s/it] "
     ]
    },
    {
     "name": "stdout",
     "output_type": "stream",
     "text": [
      "Downloading audio from https://www.youtube.com/watch?v=gFp7q-IJqno...\n",
      "                                                      \r                  "
     ]
    },
    {
     "name": "stderr",
     "output_type": "stream",
     "text": [
      " 82%|████████▏ | 861/1053 [8:42:38<8:31:47, 159.94s/it]"
     ]
    },
    {
     "name": "stdout",
     "output_type": "stream",
     "text": [
      "Downloading audio from https://www.youtube.com/watch?v=wPBbMbKSZrQ...\n",
      "                                                      \r  "
     ]
    },
    {
     "name": "stderr",
     "output_type": "stream",
     "text": [
      " 82%|████████▏ | 862/1053 [8:45:44<8:53:53, 167.72s/it]"
     ]
    },
    {
     "name": "stdout",
     "output_type": "stream",
     "text": [
      "Downloading audio from https://www.youtube.com/watch?v=7MU2dHvAmYA...\n",
      "                                                      \r  "
     ]
    },
    {
     "name": "stderr",
     "output_type": "stream",
     "text": [
      " 82%|████████▏ | 863/1053 [8:46:48<7:12:41, 136.64s/it]"
     ]
    },
    {
     "name": "stdout",
     "output_type": "stream",
     "text": [
      "Downloading audio from https://www.youtube.com/watch?v=RF0HhrwIwp0...\n",
      "                                                      \r  "
     ]
    },
    {
     "name": "stderr",
     "output_type": "stream",
     "text": [
      " 82%|████████▏ | 864/1053 [8:52:46<10:38:47, 202.79s/it]"
     ]
    },
    {
     "name": "stdout",
     "output_type": "stream",
     "text": [
      "Downloading audio from https://www.youtube.com/watch?v=izzY55ACUQo...\n",
      "                                                      \r  "
     ]
    },
    {
     "name": "stderr",
     "output_type": "stream",
     "text": [
      " 82%|████████▏ | 865/1053 [8:53:02<7:40:14, 146.88s/it] "
     ]
    },
    {
     "name": "stdout",
     "output_type": "stream",
     "text": [
      "Downloading audio from https://www.youtube.com/watch?v=gnhXHvRoUd0...\n",
      "                                                      \r  "
     ]
    },
    {
     "name": "stderr",
     "output_type": "stream",
     "text": [
      " 82%|████████▏ | 866/1053 [8:54:19<6:32:24, 125.91s/it]"
     ]
    },
    {
     "name": "stdout",
     "output_type": "stream",
     "text": [
      "Downloading audio from https://www.youtube.com/watch?v=58hoktsqk_Q...\n",
      "                                                      \r  "
     ]
    },
    {
     "name": "stderr",
     "output_type": "stream",
     "text": [
      " 82%|████████▏ | 867/1053 [8:54:32<4:45:01, 91.94s/it] "
     ]
    },
    {
     "name": "stdout",
     "output_type": "stream",
     "text": [
      "Downloading audio from https://www.youtube.com/watch?v=niqrrmev4mA...\n",
      "                                                      \r  "
     ]
    },
    {
     "name": "stderr",
     "output_type": "stream",
     "text": [
      " 82%|████████▏ | 868/1053 [8:55:23<4:05:31, 79.63s/it]"
     ]
    },
    {
     "name": "stdout",
     "output_type": "stream",
     "text": [
      "Downloading audio from https://www.youtube.com/watch?v=pco91kroVgQ...\n",
      "                                                      \r  "
     ]
    },
    {
     "name": "stderr",
     "output_type": "stream",
     "text": [
      " 83%|████████▎ | 869/1053 [8:57:37<4:54:37, 96.07s/it]"
     ]
    },
    {
     "name": "stdout",
     "output_type": "stream",
     "text": [
      "Downloading audio from https://www.youtube.com/watch?v=qrO4YZeyl0I...\n",
      "                                                      \r  "
     ]
    },
    {
     "name": "stderr",
     "output_type": "stream",
     "text": [
      " 83%|████████▎ | 870/1053 [9:00:46<6:18:18, 124.04s/it]"
     ]
    },
    {
     "name": "stdout",
     "output_type": "stream",
     "text": [
      "Downloading audio from https://www.youtube.com/watch?v=wV1FrqwZyKw...\n",
      "                                                      \r                  "
     ]
    },
    {
     "name": "stderr",
     "output_type": "stream",
     "text": [
      " 83%|████████▎ | 871/1053 [9:01:28<5:00:55, 99.21s/it] "
     ]
    },
    {
     "name": "stdout",
     "output_type": "stream",
     "text": [
      "Downloading audio from https://www.youtube.com/watch?v=mVEG793G3N4...\n",
      "                                                      \r  "
     ]
    },
    {
     "name": "stderr",
     "output_type": "stream",
     "text": [
      " 83%|████████▎ | 872/1053 [9:02:42<4:36:48, 91.76s/it]"
     ]
    },
    {
     "name": "stdout",
     "output_type": "stream",
     "text": [
      "Downloading audio from https://www.youtube.com/watch?v=O2CIAKVTOrc...\n"
     ]
    },
    {
     "name": "stderr",
     "output_type": "stream",
     "text": [
      " 83%|████████▎ | 873/1053 [9:02:45<3:15:19, 65.11s/it]"
     ]
    },
    {
     "name": "stdout",
     "output_type": "stream",
     "text": [
      "Downloading audio from https://www.youtube.com/watch?v=wagn8Wrmzuc...\n",
      "                                                      \r  "
     ]
    },
    {
     "name": "stderr",
     "output_type": "stream",
     "text": [
      " 83%|████████▎ | 874/1053 [9:07:25<6:26:25, 129.53s/it]"
     ]
    },
    {
     "name": "stdout",
     "output_type": "stream",
     "text": [
      "Downloading audio from https://www.youtube.com/watch?v=1mB0tP1I-14...\n",
      "                                                      \r  "
     ]
    },
    {
     "name": "stderr",
     "output_type": "stream",
     "text": [
      " 83%|████████▎ | 875/1053 [9:07:45<4:47:21, 96.86s/it] "
     ]
    },
    {
     "name": "stdout",
     "output_type": "stream",
     "text": [
      "Downloading audio from https://www.youtube.com/watch?v=O4IgYxHEAuk...\n",
      "                                                      \r  "
     ]
    },
    {
     "name": "stderr",
     "output_type": "stream",
     "text": [
      " 83%|████████▎ | 876/1053 [9:07:51<3:24:41, 69.39s/it]"
     ]
    },
    {
     "name": "stdout",
     "output_type": "stream",
     "text": [
      "Downloading audio from https://www.youtube.com/watch?v=en2D_5TzXCA...\n",
      "                                                      \r  "
     ]
    },
    {
     "name": "stderr",
     "output_type": "stream",
     "text": [
      " 83%|████████▎ | 877/1053 [9:09:32<3:51:38, 78.97s/it]"
     ]
    },
    {
     "name": "stdout",
     "output_type": "stream",
     "text": [
      "Downloading audio from https://www.youtube.com/watch?v=d2smz_1L2_0...\n",
      "                                                      \r  "
     ]
    },
    {
     "name": "stderr",
     "output_type": "stream",
     "text": [
      " 83%|████████▎ | 878/1053 [9:13:35<6:13:29, 128.05s/it]"
     ]
    },
    {
     "name": "stdout",
     "output_type": "stream",
     "text": [
      "Downloading audio from https://www.youtube.com/watch?v=bESGLojNYSo...\n",
      "                                                      \r  "
     ]
    },
    {
     "name": "stderr",
     "output_type": "stream",
     "text": [
      " 83%|████████▎ | 879/1053 [9:14:21<5:00:18, 103.55s/it]"
     ]
    },
    {
     "name": "stdout",
     "output_type": "stream",
     "text": [
      "Downloading audio from https://www.youtube.com/watch?v=QeWBS0JBNzQ...\n",
      "                                                      \r                  "
     ]
    },
    {
     "name": "stderr",
     "output_type": "stream",
     "text": [
      " 84%|████████▎ | 880/1053 [9:15:45<4:41:24, 97.60s/it] "
     ]
    },
    {
     "name": "stdout",
     "output_type": "stream",
     "text": [
      "Downloading audio from https://www.youtube.com/watch?v=X9YMU0WeBwU...\n"
     ]
    },
    {
     "name": "stderr",
     "output_type": "stream",
     "text": [
      " 84%|████████▎ | 881/1053 [9:15:47<3:17:29, 68.89s/it]"
     ]
    },
    {
     "name": "stdout",
     "output_type": "stream",
     "text": [
      "Downloading audio from https://www.youtube.com/watch?v=o_1aF54DO60...\n",
      "                                                      \r  "
     ]
    },
    {
     "name": "stderr",
     "output_type": "stream",
     "text": [
      " 84%|████████▍ | 882/1053 [9:21:16<6:59:06, 147.06s/it]"
     ]
    },
    {
     "name": "stdout",
     "output_type": "stream",
     "text": [
      "Downloading audio from https://www.youtube.com/watch?v=2KPEHohJMuw...\n",
      "                                                      \r  "
     ]
    },
    {
     "name": "stderr",
     "output_type": "stream",
     "text": [
      " 84%|████████▍ | 883/1053 [9:22:55<6:15:38, 132.58s/it]"
     ]
    },
    {
     "name": "stdout",
     "output_type": "stream",
     "text": [
      "Downloading audio from https://www.youtube.com/watch?v=yBuub4Xe1mw...\n",
      "                                                      \r  "
     ]
    },
    {
     "name": "stderr",
     "output_type": "stream",
     "text": [
      " 84%|████████▍ | 884/1053 [9:25:19<6:22:52, 135.93s/it]"
     ]
    },
    {
     "name": "stdout",
     "output_type": "stream",
     "text": [
      "Downloading audio from https://www.youtube.com/watch?v=rwy07azI8nc...\n",
      "                                                      \r  "
     ]
    },
    {
     "name": "stderr",
     "output_type": "stream",
     "text": [
      " 84%|████████▍ | 885/1053 [9:29:23<7:52:08, 168.62s/it]"
     ]
    },
    {
     "name": "stdout",
     "output_type": "stream",
     "text": [
      "Downloading audio from https://www.youtube.com/watch?v=TA9Rec1qAFQ...\n",
      "                                                      \r  "
     ]
    },
    {
     "name": "stderr",
     "output_type": "stream",
     "text": [
      " 84%|████████▍ | 886/1053 [9:29:39<5:41:26, 122.67s/it]"
     ]
    },
    {
     "name": "stdout",
     "output_type": "stream",
     "text": [
      "Downloading audio from https://www.youtube.com/watch?v=P3Y8OWkiUts...\n",
      "                                                      \r  "
     ]
    },
    {
     "name": "stderr",
     "output_type": "stream",
     "text": [
      " 84%|████████▍ | 887/1053 [9:31:38<5:36:28, 121.62s/it]"
     ]
    },
    {
     "name": "stdout",
     "output_type": "stream",
     "text": [
      "Downloading audio from https://www.youtube.com/watch?v=SsaFBNvhceA...\n",
      "                                                      \r                  "
     ]
    },
    {
     "name": "stderr",
     "output_type": "stream",
     "text": [
      " 84%|████████▍ | 888/1053 [9:37:52<9:02:41, 197.34s/it]"
     ]
    },
    {
     "name": "stdout",
     "output_type": "stream",
     "text": [
      "Downloading audio from https://www.youtube.com/watch?v=D2lSwosw9xY...\n",
      "                                                        \r"
     ]
    },
    {
     "name": "stderr",
     "output_type": "stream",
     "text": [
      " 84%|████████▍ | 889/1053 [9:39:19<7:28:38, 164.14s/it]"
     ]
    },
    {
     "name": "stdout",
     "output_type": "stream",
     "text": [
      "Downloading audio from https://www.youtube.com/watch?v=QkF3oxziUI4...\n",
      "                                                      \r                  "
     ]
    },
    {
     "name": "stderr",
     "output_type": "stream",
     "text": [
      " 85%|████████▍ | 890/1053 [9:41:34<7:02:18, 155.45s/it]"
     ]
    },
    {
     "name": "stdout",
     "output_type": "stream",
     "text": [
      "Downloading audio from https://www.youtube.com/watch?v=HQmmM_qwG4k...\n",
      "                                                      \r  "
     ]
    },
    {
     "name": "stderr",
     "output_type": "stream",
     "text": [
      " 85%|████████▍ | 891/1053 [9:42:17<5:28:58, 121.84s/it]"
     ]
    },
    {
     "name": "stdout",
     "output_type": "stream",
     "text": [
      "Downloading audio from https://www.youtube.com/watch?v=dxytyRy-O1k...\n",
      "                                                      \r                  "
     ]
    },
    {
     "name": "stderr",
     "output_type": "stream",
     "text": [
      " 85%|████████▍ | 892/1053 [9:45:08<6:06:22, 136.54s/it]"
     ]
    },
    {
     "name": "stdout",
     "output_type": "stream",
     "text": [
      "Downloading audio from https://www.youtube.com/watch?v=v2H4l9RpkwM...\n",
      "                                                      \r                  "
     ]
    },
    {
     "name": "stderr",
     "output_type": "stream",
     "text": [
      " 85%|████████▍ | 893/1053 [9:46:21<5:12:56, 117.35s/it]"
     ]
    },
    {
     "name": "stdout",
     "output_type": "stream",
     "text": [
      "Downloading audio from https://www.youtube.com/watch?v=eVTXPUF4Oz4...\n",
      "                                                      \r                 "
     ]
    },
    {
     "name": "stderr",
     "output_type": "stream",
     "text": [
      " 85%|████████▍ | 894/1053 [9:46:39<3:52:11, 87.62s/it] "
     ]
    },
    {
     "name": "stdout",
     "output_type": "stream",
     "text": [
      "Downloading audio from https://www.youtube.com/watch?v=yZIummTz9mM...\n",
      "                                                      \r  "
     ]
    },
    {
     "name": "stderr",
     "output_type": "stream",
     "text": [
      " 85%|████████▍ | 895/1053 [9:48:25<4:05:20, 93.17s/it]"
     ]
    },
    {
     "name": "stdout",
     "output_type": "stream",
     "text": [
      "Downloading audio from https://www.youtube.com/watch?v=ysSxxIqKNN0...\n",
      "                                                        \r"
     ]
    },
    {
     "name": "stderr",
     "output_type": "stream",
     "text": [
      " 85%|████████▌ | 896/1053 [9:48:54<3:13:16, 73.86s/it]"
     ]
    },
    {
     "name": "stdout",
     "output_type": "stream",
     "text": [
      "Downloading audio from https://www.youtube.com/watch?v=kXYiU_JCYtU...\n",
      "                                                      \r  "
     ]
    },
    {
     "name": "stderr",
     "output_type": "stream",
     "text": [
      " 85%|████████▌ | 897/1053 [9:49:00<2:19:23, 53.61s/it]"
     ]
    },
    {
     "name": "stdout",
     "output_type": "stream",
     "text": [
      "Downloading audio from https://www.youtube.com/watch?v=4qlCC1GOwFw...\n",
      "                                                      \r  "
     ]
    },
    {
     "name": "stderr",
     "output_type": "stream",
     "text": [
      " 85%|████████▌ | 898/1053 [9:49:49<2:14:31, 52.08s/it]"
     ]
    },
    {
     "name": "stdout",
     "output_type": "stream",
     "text": [
      "Downloading audio from https://www.youtube.com/watch?v=n1PCW0C1aiM...\n",
      "                                                      \r  "
     ]
    },
    {
     "name": "stderr",
     "output_type": "stream",
     "text": [
      " 85%|████████▌ | 899/1053 [9:54:42<5:19:25, 124.45s/it]"
     ]
    },
    {
     "name": "stdout",
     "output_type": "stream",
     "text": [
      "Downloading audio from https://www.youtube.com/watch?v=zsCD5XCu6CM...\n",
      "                                                      \r  "
     ]
    },
    {
     "name": "stderr",
     "output_type": "stream",
     "text": [
      " 85%|████████▌ | 900/1053 [9:54:50<3:48:13, 89.50s/it] "
     ]
    },
    {
     "name": "stdout",
     "output_type": "stream",
     "text": [
      "Downloading audio from https://www.youtube.com/watch?v=8sgycukafqQ...\n",
      "                                                      \r  "
     ]
    },
    {
     "name": "stderr",
     "output_type": "stream",
     "text": [
      " 86%|████████▌ | 901/1053 [9:58:55<5:45:00, 136.19s/it]"
     ]
    },
    {
     "name": "stdout",
     "output_type": "stream",
     "text": [
      "Downloading audio from https://www.youtube.com/watch?v=dMK_npDG12Q...\n",
      "                                                        \r"
     ]
    },
    {
     "name": "stderr",
     "output_type": "stream",
     "text": [
      " 86%|████████▌ | 902/1053 [9:59:13<4:13:21, 100.67s/it]"
     ]
    },
    {
     "name": "stdout",
     "output_type": "stream",
     "text": [
      "Downloading audio from https://www.youtube.com/watch?v=nlcIKh6sBtc...\n",
      "                                                      \r    "
     ]
    },
    {
     "name": "stderr",
     "output_type": "stream",
     "text": [
      " 86%|████████▌ | 903/1053 [10:00:07<3:36:56, 86.77s/it]"
     ]
    },
    {
     "name": "stdout",
     "output_type": "stream",
     "text": [
      "Downloading audio from https://www.youtube.com/watch?v=wvsP_lzh2-8...\n",
      "                                                      \r  "
     ]
    },
    {
     "name": "stderr",
     "output_type": "stream",
     "text": [
      " 86%|████████▌ | 904/1053 [10:00:52<3:03:55, 74.06s/it]"
     ]
    },
    {
     "name": "stdout",
     "output_type": "stream",
     "text": [
      "Downloading audio from https://www.youtube.com/watch?v=f2JuxM-snGc...\n",
      "                                                      \r                  "
     ]
    },
    {
     "name": "stderr",
     "output_type": "stream",
     "text": [
      " 86%|████████▌ | 905/1053 [10:01:40<2:43:30, 66.29s/it]"
     ]
    },
    {
     "name": "stdout",
     "output_type": "stream",
     "text": [
      "Downloading audio from https://www.youtube.com/watch?v=D8Ymd-OCucs...\n",
      "                                                      \r  "
     ]
    },
    {
     "name": "stderr",
     "output_type": "stream",
     "text": [
      " 86%|████████▌ | 906/1053 [10:12:30<9:51:46, 241.54s/it]"
     ]
    },
    {
     "name": "stdout",
     "output_type": "stream",
     "text": [
      "Downloading audio from https://www.youtube.com/watch?v=mguU1m4mKII...\n",
      "                                                      \r  "
     ]
    },
    {
     "name": "stderr",
     "output_type": "stream",
     "text": [
      " 86%|████████▌ | 907/1053 [10:13:19<7:26:46, 183.61s/it]"
     ]
    },
    {
     "name": "stdout",
     "output_type": "stream",
     "text": [
      "Downloading audio from https://www.youtube.com/watch?v=aAQZPBwz2CI...\n",
      "                                                      \r  "
     ]
    },
    {
     "name": "stderr",
     "output_type": "stream",
     "text": [
      " 86%|████████▌ | 908/1053 [10:15:52<7:01:44, 174.51s/it]"
     ]
    },
    {
     "name": "stdout",
     "output_type": "stream",
     "text": [
      "Downloading audio from https://www.youtube.com/watch?v=X4RDB-mMDJg...\n"
     ]
    },
    {
     "name": "stderr",
     "output_type": "stream",
     "text": [
      " 86%|████████▋ | 909/1053 [10:15:53<4:53:37, 122.35s/it]"
     ]
    },
    {
     "name": "stdout",
     "output_type": "stream",
     "text": [
      "Downloading audio from https://www.youtube.com/watch?v=PDbHQA5I-Ok...\n",
      "                                                      \r    "
     ]
    },
    {
     "name": "stderr",
     "output_type": "stream",
     "text": [
      " 86%|████████▋ | 910/1053 [10:16:22<3:44:53, 94.36s/it] "
     ]
    },
    {
     "name": "stdout",
     "output_type": "stream",
     "text": [
      "Downloading audio from https://www.youtube.com/watch?v=Dsh0TfIKhoE...\n",
      "                                                      \r    "
     ]
    },
    {
     "name": "stderr",
     "output_type": "stream",
     "text": [
      " 87%|████████▋ | 911/1053 [10:17:20<3:17:42, 83.54s/it]"
     ]
    },
    {
     "name": "stdout",
     "output_type": "stream",
     "text": [
      "Downloading audio from https://www.youtube.com/watch?v=rSaC-YbSDpo...\n"
     ]
    },
    {
     "name": "stderr",
     "output_type": "stream",
     "text": [
      " 87%|████████▋ | 912/1053 [10:17:21<2:18:21, 58.87s/it]"
     ]
    },
    {
     "name": "stdout",
     "output_type": "stream",
     "text": [
      "Downloading audio from https://www.youtube.com/watch?v=pufec0Hps00...\n",
      "                                                      \r  "
     ]
    },
    {
     "name": "stderr",
     "output_type": "stream",
     "text": [
      " 87%|████████▋ | 913/1053 [10:19:22<3:00:15, 77.26s/it]"
     ]
    },
    {
     "name": "stdout",
     "output_type": "stream",
     "text": [
      "Downloading audio from https://www.youtube.com/watch?v=a7Tuta8aOhs...\n"
     ]
    },
    {
     "name": "stderr",
     "output_type": "stream",
     "text": [
      " 87%|████████▋ | 914/1053 [10:19:23<2:06:21, 54.54s/it]"
     ]
    },
    {
     "name": "stdout",
     "output_type": "stream",
     "text": [
      "Downloading audio from https://www.youtube.com/watch?v=VlbaJA7aO9M...\n",
      "                                                      \r  "
     ]
    },
    {
     "name": "stderr",
     "output_type": "stream",
     "text": [
      " 87%|████████▋ | 915/1053 [10:20:32<2:15:01, 58.70s/it]"
     ]
    },
    {
     "name": "stdout",
     "output_type": "stream",
     "text": [
      "Downloading audio from https://www.youtube.com/watch?v=KD_1Z8iUDho...\n",
      "                                                      \r  "
     ]
    },
    {
     "name": "stderr",
     "output_type": "stream",
     "text": [
      " 87%|████████▋ | 916/1053 [10:20:57<1:51:36, 48.88s/it]"
     ]
    },
    {
     "name": "stdout",
     "output_type": "stream",
     "text": [
      "Downloading audio from https://www.youtube.com/watch?v=gLFWRDsx5AI...\n",
      "                                                      \r  "
     ]
    },
    {
     "name": "stderr",
     "output_type": "stream",
     "text": [
      " 87%|████████▋ | 917/1053 [10:24:42<3:50:10, 101.55s/it]"
     ]
    },
    {
     "name": "stdout",
     "output_type": "stream",
     "text": [
      "Downloading audio from https://www.youtube.com/watch?v=mWtpd8mS5jw...\n"
     ]
    },
    {
     "name": "stderr",
     "output_type": "stream",
     "text": [
      " 87%|████████▋ | 918/1053 [10:24:43<2:40:29, 71.33s/it] "
     ]
    },
    {
     "name": "stdout",
     "output_type": "stream",
     "text": [
      "Downloading audio from https://www.youtube.com/watch?v=WyhdvRWEWRw...\n",
      "                                                      \r                  "
     ]
    },
    {
     "name": "stderr",
     "output_type": "stream",
     "text": [
      " 87%|████████▋ | 919/1053 [10:26:33<3:05:29, 83.06s/it]"
     ]
    },
    {
     "name": "stdout",
     "output_type": "stream",
     "text": [
      "Downloading audio from https://www.youtube.com/watch?v=GsVcUzP_O_8...\n",
      "                                                      \r  "
     ]
    },
    {
     "name": "stderr",
     "output_type": "stream",
     "text": [
      " 87%|████████▋ | 920/1053 [10:27:52<3:01:13, 81.76s/it]"
     ]
    },
    {
     "name": "stdout",
     "output_type": "stream",
     "text": [
      "Downloading audio from https://www.youtube.com/watch?v=XS088Opj9o0...\n",
      "                                                       \r "
     ]
    },
    {
     "name": "stderr",
     "output_type": "stream",
     "text": [
      " 87%|████████▋ | 921/1053 [10:34:46<6:39:25, 181.56s/it]"
     ]
    },
    {
     "name": "stdout",
     "output_type": "stream",
     "text": [
      "Downloading audio from https://www.youtube.com/watch?v=aQRLSBUNupg...\n",
      "                                                      \r  "
     ]
    },
    {
     "name": "stderr",
     "output_type": "stream",
     "text": [
      " 88%|████████▊ | 922/1053 [10:35:41<5:13:34, 143.63s/it]"
     ]
    },
    {
     "name": "stdout",
     "output_type": "stream",
     "text": [
      "Downloading audio from https://www.youtube.com/watch?v=ukSVypfM6qU...\n",
      "                                                      \r  "
     ]
    },
    {
     "name": "stderr",
     "output_type": "stream",
     "text": [
      " 88%|████████▊ | 923/1053 [10:37:26<4:45:34, 131.80s/it]"
     ]
    },
    {
     "name": "stdout",
     "output_type": "stream",
     "text": [
      "Downloading audio from https://www.youtube.com/watch?v=kJQ8boTf0wo...\n",
      "                                                      \r  "
     ]
    },
    {
     "name": "stderr",
     "output_type": "stream",
     "text": [
      " 88%|████████▊ | 924/1053 [10:37:51<3:34:32, 99.79s/it] "
     ]
    },
    {
     "name": "stdout",
     "output_type": "stream",
     "text": [
      "Downloading audio from https://www.youtube.com/watch?v=EDwb9jOVRtU...\n",
      "                                                      \r  "
     ]
    },
    {
     "name": "stderr",
     "output_type": "stream",
     "text": [
      " 88%|████████▊ | 925/1053 [10:39:52<3:46:25, 106.13s/it]"
     ]
    },
    {
     "name": "stdout",
     "output_type": "stream",
     "text": [
      "Downloading audio from https://www.youtube.com/watch?v=R0cfZczo4yk...\n",
      "                                                      \r    "
     ]
    },
    {
     "name": "stderr",
     "output_type": "stream",
     "text": [
      " 88%|████████▊ | 926/1053 [10:40:40<3:07:48, 88.73s/it] "
     ]
    },
    {
     "name": "stdout",
     "output_type": "stream",
     "text": [
      "Downloading audio from https://www.youtube.com/watch?v=52iW3lcpK5M...\n",
      "                                                        \r"
     ]
    },
    {
     "name": "stderr",
     "output_type": "stream",
     "text": [
      " 88%|████████▊ | 927/1053 [10:42:43<3:28:06, 99.10s/it]"
     ]
    },
    {
     "name": "stdout",
     "output_type": "stream",
     "text": [
      "Downloading audio from https://www.youtube.com/watch?v=79fzeNUqQbQ...\n",
      "                                                      \r  "
     ]
    },
    {
     "name": "stderr",
     "output_type": "stream",
     "text": [
      " 88%|████████▊ | 928/1053 [10:44:37<3:35:57, 103.66s/it]"
     ]
    },
    {
     "name": "stdout",
     "output_type": "stream",
     "text": [
      "Downloading audio from https://www.youtube.com/watch?v=s__rX_WL100...\n",
      "                                                      \r  "
     ]
    },
    {
     "name": "stderr",
     "output_type": "stream",
     "text": [
      " 88%|████████▊ | 929/1053 [10:47:17<4:09:12, 120.58s/it]"
     ]
    },
    {
     "name": "stdout",
     "output_type": "stream",
     "text": [
      "Downloading audio from https://www.youtube.com/watch?v=IzAO9A9GjgI...\n",
      "                                                      \r  "
     ]
    },
    {
     "name": "stderr",
     "output_type": "stream",
     "text": [
      " 88%|████████▊ | 930/1053 [10:54:57<7:35:21, 222.13s/it]"
     ]
    },
    {
     "name": "stdout",
     "output_type": "stream",
     "text": [
      "Downloading audio from https://www.youtube.com/watch?v=u9h7Teiyvc8...\n",
      "                                                      \r  "
     ]
    },
    {
     "name": "stderr",
     "output_type": "stream",
     "text": [
      " 88%|████████▊ | 931/1053 [10:56:49<6:24:37, 189.16s/it]"
     ]
    },
    {
     "name": "stdout",
     "output_type": "stream",
     "text": [
      "Downloading audio from https://www.youtube.com/watch?v=6p-lDYPR2P8...\n",
      "                                                      \r  "
     ]
    },
    {
     "name": "stderr",
     "output_type": "stream",
     "text": [
      " 89%|████████▊ | 932/1053 [11:00:35<6:43:46, 200.22s/it]"
     ]
    },
    {
     "name": "stdout",
     "output_type": "stream",
     "text": [
      "Downloading audio from https://www.youtube.com/watch?v=Sdz2oW0NMFk...\n",
      "                                                      \r    "
     ]
    },
    {
     "name": "stderr",
     "output_type": "stream",
     "text": [
      " 89%|████████▊ | 933/1053 [11:01:11<5:01:55, 150.96s/it]"
     ]
    },
    {
     "name": "stdout",
     "output_type": "stream",
     "text": [
      "Downloading audio from https://www.youtube.com/watch?v=G333Is7VPOg...\n",
      "                                                      \r  "
     ]
    },
    {
     "name": "stderr",
     "output_type": "stream",
     "text": [
      " 89%|████████▊ | 934/1053 [11:02:50<4:28:34, 135.41s/it]"
     ]
    },
    {
     "name": "stdout",
     "output_type": "stream",
     "text": [
      "Downloading audio from https://www.youtube.com/watch?v=15kWlTrpt5k...\n",
      "                                                      \r  "
     ]
    },
    {
     "name": "stderr",
     "output_type": "stream",
     "text": [
      " 89%|████████▉ | 935/1053 [11:05:21<4:35:21, 140.01s/it]"
     ]
    },
    {
     "name": "stdout",
     "output_type": "stream",
     "text": [
      "Downloading audio from https://www.youtube.com/watch?v=x3ov9USxVxY...\n",
      "                                                      \r  "
     ]
    },
    {
     "name": "stderr",
     "output_type": "stream",
     "text": [
      " 89%|████████▉ | 936/1053 [11:12:51<7:34:17, 232.97s/it]"
     ]
    },
    {
     "name": "stdout",
     "output_type": "stream",
     "text": [
      "Downloading audio from https://www.youtube.com/watch?v=EPHUZenprKc...\n",
      "                                                      \r  "
     ]
    },
    {
     "name": "stderr",
     "output_type": "stream",
     "text": [
      " 89%|████████▉ | 937/1053 [11:16:19<7:16:02, 225.54s/it]"
     ]
    },
    {
     "name": "stdout",
     "output_type": "stream",
     "text": [
      "Downloading audio from https://www.youtube.com/watch?v=rdccTOcX7o4...\n",
      "                                                      \r  "
     ]
    },
    {
     "name": "stderr",
     "output_type": "stream",
     "text": [
      " 89%|████████▉ | 938/1053 [11:16:47<5:18:44, 166.30s/it]"
     ]
    },
    {
     "name": "stdout",
     "output_type": "stream",
     "text": [
      "Downloading audio from https://www.youtube.com/watch?v=P51LunEV3Sk...\n",
      "                                                      \r  "
     ]
    },
    {
     "name": "stderr",
     "output_type": "stream",
     "text": [
      " 89%|████████▉ | 939/1053 [11:19:48<5:24:17, 170.68s/it]"
     ]
    },
    {
     "name": "stdout",
     "output_type": "stream",
     "text": [
      "Downloading audio from https://www.youtube.com/watch?v=GuJQSAiODqI...\n",
      "                                                      \r  "
     ]
    },
    {
     "name": "stderr",
     "output_type": "stream",
     "text": [
      " 89%|████████▉ | 940/1053 [11:21:17<4:35:36, 146.34s/it]"
     ]
    },
    {
     "name": "stdout",
     "output_type": "stream",
     "text": [
      "Downloading audio from https://www.youtube.com/watch?v=qYwgG2oyUbA...\n"
     ]
    },
    {
     "name": "stderr",
     "output_type": "stream",
     "text": [
      " 89%|████████▉ | 941/1053 [11:21:20<3:12:46, 103.27s/it]"
     ]
    },
    {
     "name": "stdout",
     "output_type": "stream",
     "text": [
      "Downloading audio from https://www.youtube.com/watch?v=r0qDBYiOBrc...\n",
      "                                                      \r  "
     ]
    },
    {
     "name": "stderr",
     "output_type": "stream",
     "text": [
      " 89%|████████▉ | 942/1053 [11:25:54<4:45:50, 154.51s/it]"
     ]
    },
    {
     "name": "stdout",
     "output_type": "stream",
     "text": [
      "Downloading audio from https://www.youtube.com/watch?v=FIaXgKtg0AU...\n",
      "                                                      \r  "
     ]
    },
    {
     "name": "stderr",
     "output_type": "stream",
     "text": [
      " 90%|████████▉ | 943/1053 [11:26:39<3:43:10, 121.73s/it]"
     ]
    },
    {
     "name": "stdout",
     "output_type": "stream",
     "text": [
      "Downloading audio from https://www.youtube.com/watch?v=ZxcGPnOcDSQ...\n",
      "                                                      \r  "
     ]
    },
    {
     "name": "stderr",
     "output_type": "stream",
     "text": [
      " 90%|████████▉ | 944/1053 [11:27:07<2:49:38, 93.38s/it] "
     ]
    },
    {
     "name": "stdout",
     "output_type": "stream",
     "text": [
      "Downloading audio from https://www.youtube.com/watch?v=IIhsT0pu8qM...\n",
      "                                                      \r  "
     ]
    },
    {
     "name": "stderr",
     "output_type": "stream",
     "text": [
      " 90%|████████▉ | 945/1053 [11:35:15<6:21:27, 211.92s/it]"
     ]
    },
    {
     "name": "stdout",
     "output_type": "stream",
     "text": [
      "Downloading audio from https://www.youtube.com/watch?v=uGCZJvA76LE...\n",
      "                                                      \r  "
     ]
    },
    {
     "name": "stderr",
     "output_type": "stream",
     "text": [
      " 90%|████████▉ | 946/1053 [11:35:49<4:42:30, 158.42s/it]"
     ]
    },
    {
     "name": "stdout",
     "output_type": "stream",
     "text": [
      "Downloading audio from https://www.youtube.com/watch?v=MU8B4XDI3Uw...\n",
      "                                                      \r  "
     ]
    },
    {
     "name": "stderr",
     "output_type": "stream",
     "text": [
      " 90%|████████▉ | 947/1053 [11:37:23<4:06:01, 139.26s/it]"
     ]
    },
    {
     "name": "stdout",
     "output_type": "stream",
     "text": [
      "Downloading audio from https://www.youtube.com/watch?v=sAebYQgy4n4...\n",
      "                                                      \r  "
     ]
    },
    {
     "name": "stderr",
     "output_type": "stream",
     "text": [
      " 90%|█████████ | 948/1053 [11:38:19<3:19:59, 114.28s/it]"
     ]
    },
    {
     "name": "stdout",
     "output_type": "stream",
     "text": [
      "Downloading audio from https://www.youtube.com/watch?v=SlPhMPnQ58k...\n",
      "                                                      \r  "
     ]
    },
    {
     "name": "stderr",
     "output_type": "stream",
     "text": [
      " 90%|█████████ | 949/1053 [11:39:09<2:44:25, 94.86s/it] "
     ]
    },
    {
     "name": "stdout",
     "output_type": "stream",
     "text": [
      "Downloading audio from https://www.youtube.com/watch?v=6g6g2mvItp4...\n",
      "                                                      \r    "
     ]
    },
    {
     "name": "stderr",
     "output_type": "stream",
     "text": [
      " 90%|█████████ | 950/1053 [11:42:13<3:28:46, 121.61s/it]"
     ]
    },
    {
     "name": "stdout",
     "output_type": "stream",
     "text": [
      "Downloading audio from https://www.youtube.com/watch?v=7ghhRHRP6t4...\n",
      "                                                      \r  "
     ]
    },
    {
     "name": "stderr",
     "output_type": "stream",
     "text": [
      " 90%|█████████ | 951/1053 [11:52:46<7:47:34, 275.04s/it]"
     ]
    },
    {
     "name": "stdout",
     "output_type": "stream",
     "text": [
      "Downloading audio from https://www.youtube.com/watch?v=fwK7ggA3-bU...\n",
      "                                                      \r  "
     ]
    },
    {
     "name": "stderr",
     "output_type": "stream",
     "text": [
      " 90%|█████████ | 952/1053 [11:56:20<7:12:15, 256.79s/it]"
     ]
    },
    {
     "name": "stdout",
     "output_type": "stream",
     "text": [
      "Downloading audio from https://www.youtube.com/watch?v=x9mGRTaD_00...\n",
      "                                                      \r  "
     ]
    },
    {
     "name": "stderr",
     "output_type": "stream",
     "text": [
      " 91%|█████████ | 953/1053 [11:57:53<5:46:01, 207.62s/it]"
     ]
    },
    {
     "name": "stdout",
     "output_type": "stream",
     "text": [
      "Downloading audio from https://www.youtube.com/watch?v=nIjVuRTm-dc...\n",
      "                                                      \r  "
     ]
    },
    {
     "name": "stderr",
     "output_type": "stream",
     "text": [
      " 91%|█████████ | 954/1053 [12:02:14<6:09:00, 223.64s/it]"
     ]
    },
    {
     "name": "stdout",
     "output_type": "stream",
     "text": [
      "Downloading audio from https://www.youtube.com/watch?v=09R8_2nJtjg...\n",
      "                                                      \r  "
     ]
    },
    {
     "name": "stderr",
     "output_type": "stream",
     "text": [
      " 91%|█████████ | 955/1053 [12:04:21<5:17:44, 194.53s/it]"
     ]
    },
    {
     "name": "stdout",
     "output_type": "stream",
     "text": [
      "Downloading audio from https://www.youtube.com/watch?v=S2Cti12XBw4...\n",
      "                                                      \r  "
     ]
    },
    {
     "name": "stderr",
     "output_type": "stream",
     "text": [
      " 91%|█████████ | 956/1053 [12:05:52<4:24:27, 163.59s/it]"
     ]
    },
    {
     "name": "stdout",
     "output_type": "stream",
     "text": [
      "Downloading audio from https://www.youtube.com/watch?v=XPpTgCho5ZA...\n",
      "                                                      \r  "
     ]
    },
    {
     "name": "stderr",
     "output_type": "stream",
     "text": [
      " 91%|█████████ | 957/1053 [12:07:05<3:38:26, 136.53s/it]"
     ]
    },
    {
     "name": "stdout",
     "output_type": "stream",
     "text": [
      "Downloading audio from https://www.youtube.com/watch?v=4uTNVumfm84...\n",
      "                                                      \r  "
     ]
    },
    {
     "name": "stderr",
     "output_type": "stream",
     "text": [
      " 91%|█████████ | 958/1053 [12:11:38<4:40:54, 177.41s/it]"
     ]
    },
    {
     "name": "stdout",
     "output_type": "stream",
     "text": [
      "Downloading audio from https://www.youtube.com/watch?v=dkQ0OJ5Byls...\n",
      "                                                      \r  "
     ]
    },
    {
     "name": "stderr",
     "output_type": "stream",
     "text": [
      " 91%|█████████ | 959/1053 [12:12:18<3:33:24, 136.21s/it]"
     ]
    },
    {
     "name": "stdout",
     "output_type": "stream",
     "text": [
      "Downloading audio from https://www.youtube.com/watch?v=VlMEGBsw6j8...\n",
      "                                                      \r  "
     ]
    },
    {
     "name": "stderr",
     "output_type": "stream",
     "text": [
      " 91%|█████████ | 960/1053 [12:13:26<2:59:03, 115.52s/it]"
     ]
    },
    {
     "name": "stdout",
     "output_type": "stream",
     "text": [
      "Downloading audio from https://www.youtube.com/watch?v=gCYcHz2k5x0...\n",
      "                                                      \r  "
     ]
    },
    {
     "name": "stderr",
     "output_type": "stream",
     "text": [
      " 91%|█████████▏| 961/1053 [12:13:34<2:07:48, 83.35s/it] "
     ]
    },
    {
     "name": "stdout",
     "output_type": "stream",
     "text": [
      "Downloading audio from https://www.youtube.com/watch?v=CkRyaG4Mjik...\n",
      "                                                      \r  "
     ]
    },
    {
     "name": "stderr",
     "output_type": "stream",
     "text": [
      " 91%|█████████▏| 962/1053 [12:14:17<1:47:56, 71.17s/it]"
     ]
    },
    {
     "name": "stdout",
     "output_type": "stream",
     "text": [
      "Downloading audio from https://www.youtube.com/watch?v=eJEKHdvntPI...\n",
      "                                                      \r  "
     ]
    },
    {
     "name": "stderr",
     "output_type": "stream",
     "text": [
      " 91%|█████████▏| 963/1053 [12:14:23<1:17:30, 51.67s/it]"
     ]
    },
    {
     "name": "stdout",
     "output_type": "stream",
     "text": [
      "Downloading audio from https://www.youtube.com/watch?v=dsUXAEzaC3Q...\n",
      "                                                      \r  "
     ]
    },
    {
     "name": "stderr",
     "output_type": "stream",
     "text": [
      " 92%|█████████▏| 964/1053 [12:22:12<4:22:20, 176.86s/it]"
     ]
    },
    {
     "name": "stdout",
     "output_type": "stream",
     "text": [
      "Downloading audio from https://www.youtube.com/watch?v=oRdxUFDoQe0...\n",
      "                                                      \r  "
     ]
    },
    {
     "name": "stderr",
     "output_type": "stream",
     "text": [
      " 92%|█████████▏| 965/1053 [12:22:17<3:03:43, 125.26s/it]"
     ]
    },
    {
     "name": "stdout",
     "output_type": "stream",
     "text": [
      "Downloading audio from https://www.youtube.com/watch?v=i7TTSzfs2kw...\n",
      "                                                      \r    "
     ]
    },
    {
     "name": "stderr",
     "output_type": "stream",
     "text": [
      " 92%|█████████▏| 966/1053 [12:22:41<2:17:59, 95.16s/it] "
     ]
    },
    {
     "name": "stdout",
     "output_type": "stream",
     "text": [
      "Downloading audio from https://www.youtube.com/watch?v=Zi_XLOBDo_Y...\n",
      "                                                      \r  "
     ]
    },
    {
     "name": "stderr",
     "output_type": "stream",
     "text": [
      " 92%|█████████▏| 967/1053 [12:24:59<2:34:25, 107.74s/it]"
     ]
    },
    {
     "name": "stdout",
     "output_type": "stream",
     "text": [
      "Downloading audio from https://www.youtube.com/watch?v=YP3W-E0OamU...\n",
      "                                                      \r  "
     ]
    },
    {
     "name": "stderr",
     "output_type": "stream",
     "text": [
      " 92%|█████████▏| 968/1053 [12:26:49<2:33:36, 108.43s/it]"
     ]
    },
    {
     "name": "stdout",
     "output_type": "stream",
     "text": [
      "Downloading audio from https://www.youtube.com/watch?v=c3_NntYhzV4...\n",
      "                                                      \r  "
     ]
    },
    {
     "name": "stderr",
     "output_type": "stream",
     "text": [
      " 92%|█████████▏| 969/1053 [12:26:59<1:50:25, 78.87s/it] "
     ]
    },
    {
     "name": "stdout",
     "output_type": "stream",
     "text": [
      "Downloading audio from https://www.youtube.com/watch?v=ubR9cXWkXv8...\n",
      "                                                      \r  "
     ]
    },
    {
     "name": "stderr",
     "output_type": "stream",
     "text": [
      " 92%|█████████▏| 970/1053 [12:29:46<2:25:41, 105.32s/it]"
     ]
    },
    {
     "name": "stdout",
     "output_type": "stream",
     "text": [
      "Downloading audio from https://www.youtube.com/watch?v=yURRmWtbTbo...\n",
      "                                                      \r  "
     ]
    },
    {
     "name": "stderr",
     "output_type": "stream",
     "text": [
      " 92%|█████████▏| 971/1053 [12:32:44<2:53:44, 127.12s/it]"
     ]
    },
    {
     "name": "stdout",
     "output_type": "stream",
     "text": [
      "Downloading audio from https://www.youtube.com/watch?v=LJ7qXHjxj_0...\n",
      "                                                      \r    "
     ]
    },
    {
     "name": "stderr",
     "output_type": "stream",
     "text": [
      " 92%|█████████▏| 972/1053 [12:34:47<2:50:07, 126.02s/it]"
     ]
    },
    {
     "name": "stdout",
     "output_type": "stream",
     "text": [
      "Downloading audio from https://www.youtube.com/watch?v=BWf-eARnf6U...\n",
      "                                                      \r  "
     ]
    },
    {
     "name": "stderr",
     "output_type": "stream",
     "text": [
      " 92%|█████████▏| 973/1053 [12:34:52<1:59:45, 89.82s/it] "
     ]
    },
    {
     "name": "stdout",
     "output_type": "stream",
     "text": [
      "Downloading audio from https://www.youtube.com/watch?v=XY6fbugcisY...\n",
      "                                                      \r  "
     ]
    },
    {
     "name": "stderr",
     "output_type": "stream",
     "text": [
      " 92%|█████████▏| 974/1053 [12:40:48<3:43:12, 169.52s/it]"
     ]
    },
    {
     "name": "stdout",
     "output_type": "stream",
     "text": [
      "Downloading audio from https://www.youtube.com/watch?v=PivWY9wn5ps...\n",
      "                                                      \r                  "
     ]
    },
    {
     "name": "stderr",
     "output_type": "stream",
     "text": [
      " 93%|█████████▎| 975/1053 [12:45:49<4:31:43, 209.02s/it]"
     ]
    },
    {
     "name": "stdout",
     "output_type": "stream",
     "text": [
      "Downloading audio from https://www.youtube.com/watch?v=1ZZQuj6htF4...\n",
      "                                                      \r                 "
     ]
    },
    {
     "name": "stderr",
     "output_type": "stream",
     "text": [
      " 93%|█████████▎| 976/1053 [12:47:21<3:43:19, 174.02s/it]"
     ]
    },
    {
     "name": "stdout",
     "output_type": "stream",
     "text": [
      "Downloading audio from https://www.youtube.com/watch?v=LeiFF0gvqcc...\n",
      "                                                       \r "
     ]
    },
    {
     "name": "stderr",
     "output_type": "stream",
     "text": [
      " 93%|█████████▎| 977/1053 [12:52:50<4:39:09, 220.39s/it]"
     ]
    },
    {
     "name": "stdout",
     "output_type": "stream",
     "text": [
      "Downloading audio from https://www.youtube.com/watch?v=5X-Mrc2l1d0...\n"
     ]
    },
    {
     "name": "stderr",
     "output_type": "stream",
     "text": [
      " 93%|█████████▎| 978/1053 [12:52:52<3:13:25, 154.74s/it]"
     ]
    },
    {
     "name": "stdout",
     "output_type": "stream",
     "text": [
      "Downloading audio from https://www.youtube.com/watch?v=WxEUCd3Ko5g...\n",
      "                                                      \r    "
     ]
    },
    {
     "name": "stderr",
     "output_type": "stream",
     "text": [
      " 93%|█████████▎| 979/1053 [12:57:17<3:51:40, 187.85s/it]"
     ]
    },
    {
     "name": "stdout",
     "output_type": "stream",
     "text": [
      "Downloading audio from https://www.youtube.com/watch?v=uzbnrfd9vLQ...\n",
      "                                                      \r  "
     ]
    },
    {
     "name": "stderr",
     "output_type": "stream",
     "text": [
      " 93%|█████████▎| 980/1053 [13:01:08<4:04:21, 200.85s/it]"
     ]
    },
    {
     "name": "stdout",
     "output_type": "stream",
     "text": [
      "Downloading audio from https://www.youtube.com/watch?v=QNJL6nfu__Q...\n",
      "                                                      \r  "
     ]
    },
    {
     "name": "stderr",
     "output_type": "stream",
     "text": [
      " 93%|█████████▎| 981/1053 [13:07:32<5:07:00, 255.84s/it]"
     ]
    },
    {
     "name": "stdout",
     "output_type": "stream",
     "text": [
      "Downloading audio from https://www.youtube.com/watch?v=sOnqjkJTMaA...\n",
      "                                                      \r    "
     ]
    },
    {
     "name": "stderr",
     "output_type": "stream",
     "text": [
      " 93%|█████████▎| 982/1053 [13:09:14<4:08:11, 209.74s/it]"
     ]
    },
    {
     "name": "stdout",
     "output_type": "stream",
     "text": [
      "Downloading audio from https://www.youtube.com/watch?v=pAyKJAtDNCw...\n",
      "                                                      \r  "
     ]
    },
    {
     "name": "stderr",
     "output_type": "stream",
     "text": [
      " 93%|█████████▎| 983/1053 [13:09:44<3:01:45, 155.79s/it]"
     ]
    },
    {
     "name": "stdout",
     "output_type": "stream",
     "text": [
      "Downloading audio from https://www.youtube.com/watch?v=FZMPtvJe0fg...\n",
      "                                                      \r    "
     ]
    },
    {
     "name": "stderr",
     "output_type": "stream",
     "text": [
      " 93%|█████████▎| 984/1053 [13:11:09<2:34:43, 134.55s/it]"
     ]
    },
    {
     "name": "stdout",
     "output_type": "stream",
     "text": [
      "Downloading audio from https://www.youtube.com/watch?v=27ixLv3Lw1M...\n",
      "                                                      \r    "
     ]
    },
    {
     "name": "stderr",
     "output_type": "stream",
     "text": [
      " 94%|█████████▎| 985/1053 [13:14:50<3:01:46, 160.38s/it]"
     ]
    },
    {
     "name": "stdout",
     "output_type": "stream",
     "text": [
      "Downloading audio from https://www.youtube.com/watch?v=Ek0SgwWmF9w...\n",
      "                                                      \r  "
     ]
    },
    {
     "name": "stderr",
     "output_type": "stream",
     "text": [
      " 94%|█████████▎| 986/1053 [13:23:20<4:56:16, 265.32s/it]"
     ]
    },
    {
     "name": "stdout",
     "output_type": "stream",
     "text": [
      "Downloading audio from https://www.youtube.com/watch?v=MTvgnYGu9bg...\n",
      "                                                      \r  "
     ]
    },
    {
     "name": "stderr",
     "output_type": "stream",
     "text": [
      " 94%|█████████▎| 987/1053 [13:26:24<4:25:03, 240.96s/it]"
     ]
    },
    {
     "name": "stdout",
     "output_type": "stream",
     "text": [
      "Downloading audio from https://www.youtube.com/watch?v=TPE9uSFFxrI...\n",
      "                                                      \r  "
     ]
    },
    {
     "name": "stderr",
     "output_type": "stream",
     "text": [
      " 94%|█████████▍| 988/1053 [13:27:23<3:21:53, 186.36s/it]"
     ]
    },
    {
     "name": "stdout",
     "output_type": "stream",
     "text": [
      "Downloading audio from https://www.youtube.com/watch?v=Pgum6OT_VH8...\n",
      "                                                      \r  "
     ]
    },
    {
     "name": "stderr",
     "output_type": "stream",
     "text": [
      " 94%|█████████▍| 989/1053 [13:28:01<2:31:16, 141.82s/it]"
     ]
    },
    {
     "name": "stdout",
     "output_type": "stream",
     "text": [
      "Downloading audio from https://www.youtube.com/watch?v=Xsp3_a-PMTw...\n",
      "                                                        \r"
     ]
    },
    {
     "name": "stderr",
     "output_type": "stream",
     "text": [
      " 94%|█████████▍| 990/1053 [13:29:57<2:20:45, 134.05s/it]"
     ]
    },
    {
     "name": "stdout",
     "output_type": "stream",
     "text": [
      "Downloading audio from https://www.youtube.com/watch?v=R8OOWcsFj0U...\n",
      "                                                      \r  "
     ]
    },
    {
     "name": "stderr",
     "output_type": "stream",
     "text": [
      " 94%|█████████▍| 991/1053 [13:30:48<1:52:57, 109.32s/it]"
     ]
    },
    {
     "name": "stdout",
     "output_type": "stream",
     "text": [
      "Downloading audio from https://www.youtube.com/watch?v=w8KQmps-Sog...\n",
      "                                                      \r  "
     ]
    },
    {
     "name": "stderr",
     "output_type": "stream",
     "text": [
      " 94%|█████████▍| 992/1053 [13:31:38<1:32:51, 91.34s/it] "
     ]
    },
    {
     "name": "stdout",
     "output_type": "stream",
     "text": [
      "Downloading audio from https://www.youtube.com/watch?v=4pBo-GL9SRg...\n",
      "                                                      \r  "
     ]
    },
    {
     "name": "stderr",
     "output_type": "stream",
     "text": [
      " 94%|█████████▍| 993/1053 [13:32:38<1:21:55, 81.93s/it]"
     ]
    },
    {
     "name": "stdout",
     "output_type": "stream",
     "text": [
      "Downloading audio from https://www.youtube.com/watch?v=4pBo-GL9SRg...\n",
      "                                                      \r  "
     ]
    },
    {
     "name": "stderr",
     "output_type": "stream",
     "text": [
      " 94%|█████████▍| 994/1053 [13:34:20<1:26:33, 88.02s/it]"
     ]
    },
    {
     "name": "stdout",
     "output_type": "stream",
     "text": [
      "Downloading audio from https://www.youtube.com/watch?v=roPQ_M3yJTA...\n",
      "                                                      \r  "
     ]
    },
    {
     "name": "stderr",
     "output_type": "stream",
     "text": [
      " 94%|█████████▍| 995/1053 [13:34:24<1:00:45, 62.85s/it]"
     ]
    },
    {
     "name": "stdout",
     "output_type": "stream",
     "text": [
      "Downloading audio from https://www.youtube.com/watch?v=PLolag3YSYU...\n",
      "                                                      \r  "
     ]
    },
    {
     "name": "stderr",
     "output_type": "stream",
     "text": [
      " 95%|█████████▍| 996/1053 [13:45:45<3:55:50, 248.25s/it]"
     ]
    },
    {
     "name": "stdout",
     "output_type": "stream",
     "text": [
      "Downloading audio from https://www.youtube.com/watch?v=6JnGBs88sL0...\n",
      "                                                      \r  "
     ]
    },
    {
     "name": "stderr",
     "output_type": "stream",
     "text": [
      " 95%|█████████▍| 997/1053 [13:47:19<3:08:24, 201.87s/it]"
     ]
    },
    {
     "name": "stdout",
     "output_type": "stream",
     "text": [
      "Downloading audio from https://www.youtube.com/watch?v=3--1Kw2UHDQ...\n",
      "                                                      \r  "
     ]
    },
    {
     "name": "stderr",
     "output_type": "stream",
     "text": [
      " 95%|█████████▍| 998/1053 [13:48:22<2:26:59, 160.36s/it]"
     ]
    },
    {
     "name": "stdout",
     "output_type": "stream",
     "text": [
      "Downloading audio from https://www.youtube.com/watch?v=kOL7aeIDruA...\n",
      "                                                      \r  "
     ]
    },
    {
     "name": "stderr",
     "output_type": "stream",
     "text": [
      " 95%|█████████▍| 999/1053 [13:53:40<3:06:54, 207.67s/it]"
     ]
    },
    {
     "name": "stdout",
     "output_type": "stream",
     "text": [
      "Downloading audio from https://www.youtube.com/watch?v=LDZX4ooRsWs...\n",
      "                                                      \r  "
     ]
    },
    {
     "name": "stderr",
     "output_type": "stream",
     "text": [
      " 95%|█████████▍| 1000/1053 [13:56:08<2:47:38, 189.79s/it]"
     ]
    },
    {
     "name": "stdout",
     "output_type": "stream",
     "text": [
      "Downloading audio from https://www.youtube.com/watch?v=f7ld-3nZUxA...\n"
     ]
    },
    {
     "name": "stderr",
     "output_type": "stream",
     "text": [
      " 95%|█████████▌| 1001/1053 [13:56:09<1:55:21, 133.10s/it]"
     ]
    },
    {
     "name": "stdout",
     "output_type": "stream",
     "text": [
      "Downloading audio from https://www.youtube.com/watch?v=vdrqA93sW-8...\n",
      "                                                      \r  "
     ]
    },
    {
     "name": "stderr",
     "output_type": "stream",
     "text": [
      " 95%|█████████▌| 1002/1053 [13:56:32<1:25:00, 100.02s/it]"
     ]
    },
    {
     "name": "stdout",
     "output_type": "stream",
     "text": [
      "Downloading audio from https://www.youtube.com/watch?v=SeIJmciN8mo...\n",
      "                                                      \r  "
     ]
    },
    {
     "name": "stderr",
     "output_type": "stream",
     "text": [
      " 95%|█████████▌| 1003/1053 [14:10:45<4:31:32, 325.85s/it]"
     ]
    },
    {
     "name": "stdout",
     "output_type": "stream",
     "text": [
      "Downloading audio from https://www.youtube.com/watch?v=4JipHEz53sU...\n",
      "                                                      \r    "
     ]
    },
    {
     "name": "stderr",
     "output_type": "stream",
     "text": [
      " 95%|█████████▌| 1004/1053 [14:11:50<3:22:20, 247.76s/it]"
     ]
    },
    {
     "name": "stdout",
     "output_type": "stream",
     "text": [
      "Downloading audio from https://www.youtube.com/watch?v=j5uAR9w7LBg...\n",
      "                                                      \r    "
     ]
    },
    {
     "name": "stderr",
     "output_type": "stream",
     "text": [
      " 95%|█████████▌| 1005/1053 [14:12:32<2:28:43, 185.90s/it]"
     ]
    },
    {
     "name": "stdout",
     "output_type": "stream",
     "text": [
      "Downloading audio from https://www.youtube.com/watch?v=AhcttcXcRYY...\n",
      "                                                      \r  "
     ]
    },
    {
     "name": "stderr",
     "output_type": "stream",
     "text": [
      " 96%|█████████▌| 1006/1053 [14:14:19<2:07:12, 162.39s/it]"
     ]
    },
    {
     "name": "stdout",
     "output_type": "stream",
     "text": [
      "Downloading audio from https://www.youtube.com/watch?v=aWmkuH1k7uA...\n",
      "                                                      \r    "
     ]
    },
    {
     "name": "stderr",
     "output_type": "stream",
     "text": [
      " 96%|█████████▌| 1007/1053 [14:20:55<2:58:07, 232.35s/it]"
     ]
    },
    {
     "name": "stdout",
     "output_type": "stream",
     "text": [
      "Downloading audio from https://www.youtube.com/watch?v=vabnZ9-ex7o...\n",
      "                                                      \r    "
     ]
    },
    {
     "name": "stderr",
     "output_type": "stream",
     "text": [
      " 96%|█████████▌| 1008/1053 [14:22:53<2:28:32, 198.06s/it]"
     ]
    },
    {
     "name": "stdout",
     "output_type": "stream",
     "text": [
      "Downloading audio from https://www.youtube.com/watch?v=6ZktNItwexo...\n",
      "                                                      \r  "
     ]
    },
    {
     "name": "stderr",
     "output_type": "stream",
     "text": [
      " 96%|█████████▌| 1009/1053 [14:26:39<2:31:23, 206.44s/it]"
     ]
    },
    {
     "name": "stdout",
     "output_type": "stream",
     "text": [
      "Downloading audio from https://www.youtube.com/watch?v=PiBX-ESFDF0...\n",
      "                                                      \r  "
     ]
    },
    {
     "name": "stderr",
     "output_type": "stream",
     "text": [
      " 96%|█████████▌| 1010/1053 [14:27:05<1:49:10, 152.34s/it]"
     ]
    },
    {
     "name": "stdout",
     "output_type": "stream",
     "text": [
      "Downloading audio from https://www.youtube.com/watch?v=cii6ruuycQA...\n",
      "                                                      \r  "
     ]
    },
    {
     "name": "stderr",
     "output_type": "stream",
     "text": [
      " 96%|█████████▌| 1011/1053 [14:27:47<1:23:30, 119.30s/it]"
     ]
    },
    {
     "name": "stdout",
     "output_type": "stream",
     "text": [
      "Downloading audio from https://www.youtube.com/watch?v=ZmDBbnmKpqQ...\n",
      "                                                      \r  "
     ]
    },
    {
     "name": "stderr",
     "output_type": "stream",
     "text": [
      " 96%|█████████▌| 1012/1053 [14:28:18<1:03:21, 92.72s/it] "
     ]
    },
    {
     "name": "stdout",
     "output_type": "stream",
     "text": [
      "Downloading audio from https://www.youtube.com/watch?v=gNi_6U5Pm_o...\n",
      "                                                      \r  "
     ]
    },
    {
     "name": "stderr",
     "output_type": "stream",
     "text": [
      " 96%|█████████▌| 1013/1053 [14:30:08<1:05:16, 97.90s/it]"
     ]
    },
    {
     "name": "stdout",
     "output_type": "stream",
     "text": [
      "Downloading audio from https://www.youtube.com/watch?v=RlPNh_PBZb4...\n",
      "                                                      \r  "
     ]
    },
    {
     "name": "stderr",
     "output_type": "stream",
     "text": [
      " 96%|█████████▋| 1014/1053 [14:32:17<1:09:47, 107.38s/it]"
     ]
    },
    {
     "name": "stdout",
     "output_type": "stream",
     "text": [
      "Downloading audio from https://www.youtube.com/watch?v=ZSM3w1v-A_Y...\n",
      "                                                      \r  "
     ]
    },
    {
     "name": "stderr",
     "output_type": "stream",
     "text": [
      " 96%|█████████▋| 1015/1053 [14:34:19<1:10:45, 111.72s/it]"
     ]
    },
    {
     "name": "stdout",
     "output_type": "stream",
     "text": [
      "Downloading audio from https://www.youtube.com/watch?v=hT_nvWreIhg...\n"
     ]
    },
    {
     "name": "stderr",
     "output_type": "stream",
     "text": [
      " 96%|█████████▋| 1016/1053 [14:34:20<48:24, 78.51s/it]   "
     ]
    },
    {
     "name": "stdout",
     "output_type": "stream",
     "text": [
      "Downloading audio from https://www.youtube.com/watch?v=OPGtpO1g_jk...\n",
      "                                                      \r  "
     ]
    },
    {
     "name": "stderr",
     "output_type": "stream",
     "text": [
      " 97%|█████████▋| 1017/1053 [14:35:13<42:28, 70.78s/it]"
     ]
    },
    {
     "name": "stdout",
     "output_type": "stream",
     "text": [
      "Downloading audio from https://www.youtube.com/watch?v=mNEUkkoUoIA...\n",
      "                                                      \r  "
     ]
    },
    {
     "name": "stderr",
     "output_type": "stream",
     "text": [
      " 97%|█████████▋| 1018/1053 [14:35:49<35:11, 60.33s/it]"
     ]
    },
    {
     "name": "stdout",
     "output_type": "stream",
     "text": [
      "Downloading audio from https://www.youtube.com/watch?v=z0rxydSolwU...\n",
      "                                                      \r  "
     ]
    },
    {
     "name": "stderr",
     "output_type": "stream",
     "text": [
      " 97%|█████████▋| 1019/1053 [14:41:51<1:25:25, 150.74s/it]"
     ]
    },
    {
     "name": "stdout",
     "output_type": "stream",
     "text": [
      "Downloading audio from https://www.youtube.com/watch?v=Y56lpXvXbs0...\n",
      "                                                      \r  "
     ]
    },
    {
     "name": "stderr",
     "output_type": "stream",
     "text": [
      " 97%|█████████▋| 1020/1053 [14:44:53<1:28:03, 160.12s/it]"
     ]
    },
    {
     "name": "stdout",
     "output_type": "stream",
     "text": [
      "Downloading audio from https://www.youtube.com/watch?v=0OWj0CiM8WU...\n",
      "                                                      \r  "
     ]
    },
    {
     "name": "stderr",
     "output_type": "stream",
     "text": [
      " 97%|█████████▋| 1021/1053 [14:48:50<1:37:42, 183.19s/it]"
     ]
    },
    {
     "name": "stdout",
     "output_type": "stream",
     "text": [
      "Downloading audio from https://www.youtube.com/watch?v=TKkcsmvYTw4...\n",
      "                                                      \r  "
     ]
    },
    {
     "name": "stderr",
     "output_type": "stream",
     "text": [
      " 97%|█████████▋| 1022/1053 [14:51:43<1:33:11, 180.36s/it]"
     ]
    },
    {
     "name": "stdout",
     "output_type": "stream",
     "text": [
      "Downloading audio from https://www.youtube.com/watch?v=qHm9MG9xw1o...\n",
      "                                                      \r  "
     ]
    },
    {
     "name": "stderr",
     "output_type": "stream",
     "text": [
      " 97%|█████████▋| 1023/1053 [14:59:43<2:15:06, 270.22s/it]"
     ]
    },
    {
     "name": "stdout",
     "output_type": "stream",
     "text": [
      "Downloading audio from https://www.youtube.com/watch?v=qKCGBgOgp08...\n",
      "                                                      \r  "
     ]
    },
    {
     "name": "stderr",
     "output_type": "stream",
     "text": [
      " 97%|█████████▋| 1024/1053 [15:00:00<1:33:53, 194.25s/it]"
     ]
    },
    {
     "name": "stdout",
     "output_type": "stream",
     "text": [
      "Downloading audio from https://www.youtube.com/watch?v=HtNS1afUOnE...\n"
     ]
    },
    {
     "name": "stderr",
     "output_type": "stream",
     "text": [
      " 97%|█████████▋| 1025/1053 [15:00:03<1:03:46, 136.68s/it]"
     ]
    },
    {
     "name": "stdout",
     "output_type": "stream",
     "text": [
      "Downloading audio from https://www.youtube.com/watch?v=OXWrjWDQh7Q...\n",
      "                                                      \r  "
     ]
    },
    {
     "name": "stderr",
     "output_type": "stream",
     "text": [
      " 97%|█████████▋| 1026/1053 [15:00:16<44:48, 99.58s/it]   "
     ]
    },
    {
     "name": "stdout",
     "output_type": "stream",
     "text": [
      "Downloading audio from https://www.youtube.com/watch?v=xSBzMU1QyO8...\n"
     ]
    },
    {
     "name": "stderr",
     "output_type": "stream",
     "text": [
      " 98%|█████████▊| 1027/1053 [15:00:18<30:32, 70.49s/it]"
     ]
    },
    {
     "name": "stdout",
     "output_type": "stream",
     "text": [
      "Downloading audio from https://www.youtube.com/watch?v=wGj9oADcyRs...\n",
      "                                                      \r  "
     ]
    },
    {
     "name": "stderr",
     "output_type": "stream",
     "text": [
      " 98%|█████████▊| 1028/1053 [15:00:37<22:51, 54.88s/it]"
     ]
    },
    {
     "name": "stdout",
     "output_type": "stream",
     "text": [
      "Downloading audio from https://www.youtube.com/watch?v=KVHDbC1GVBs...\n"
     ]
    },
    {
     "name": "stderr",
     "output_type": "stream",
     "text": [
      " 98%|█████████▊| 1029/1053 [15:00:38<15:30, 38.75s/it]"
     ]
    },
    {
     "name": "stdout",
     "output_type": "stream",
     "text": [
      "Downloading audio from https://www.youtube.com/watch?v=EBt_88nxG4c...\n",
      "                                                      \r  "
     ]
    },
    {
     "name": "stderr",
     "output_type": "stream",
     "text": [
      " 98%|█████████▊| 1030/1053 [15:00:50<11:45, 30.68s/it]"
     ]
    },
    {
     "name": "stdout",
     "output_type": "stream",
     "text": [
      "Downloading audio from https://www.youtube.com/watch?v=3jNlIGDRkvQ...\n",
      "                                                      \r  "
     ]
    },
    {
     "name": "stderr",
     "output_type": "stream",
     "text": [
      " 98%|█████████▊| 1031/1053 [15:01:00<09:01, 24.63s/it]"
     ]
    },
    {
     "name": "stdout",
     "output_type": "stream",
     "text": [
      "Downloading audio from https://www.youtube.com/watch?v=5RfcFI9CJls...\n",
      "                                                      \r  "
     ]
    },
    {
     "name": "stderr",
     "output_type": "stream",
     "text": [
      " 98%|█████████▊| 1032/1053 [15:04:46<29:43, 84.92s/it]"
     ]
    },
    {
     "name": "stdout",
     "output_type": "stream",
     "text": [
      "Downloading audio from https://www.youtube.com/watch?v=asaCQOZpqUQ...\n",
      "                                                      \r  "
     ]
    },
    {
     "name": "stderr",
     "output_type": "stream",
     "text": [
      " 98%|█████████▊| 1033/1053 [15:09:14<46:39, 139.96s/it]"
     ]
    },
    {
     "name": "stdout",
     "output_type": "stream",
     "text": [
      "Downloading audio from https://www.youtube.com/watch?v=ocDlOD1Hw9k...\n"
     ]
    },
    {
     "name": "stderr",
     "output_type": "stream",
     "text": [
      "ERROR: [youtube] ocDlOD1Hw9k: Sign in to confirm your age. This video may be inappropriate for some users. Use --cookies-from-browser or --cookies for the authentication. See  https://github.com/yt-dlp/yt-dlp/wiki/FAQ#how-do-i-pass-cookies-to-yt-dlp  for how to manually pass cookies. Also see  https://github.com/yt-dlp/yt-dlp/wiki/Extractors#exporting-youtube-cookies  for tips on effectively exporting YouTube cookies\n"
     ]
    },
    {
     "name": "stdout",
     "output_type": "stream",
     "text": [
      "[Attempt 1] Download error: ERROR: [youtube] ocDlOD1Hw9k: Sign in to confirm your age. This video may be inappropriate for some users. Use --cookies-from-browser or --cookies for the authentication. See  https://github.com/yt-dlp/yt-dlp/wiki/FAQ#how-do-i-pass-cookies-to-yt-dlp  for how to manually pass cookies. Also see  https://github.com/yt-dlp/yt-dlp/wiki/Extractors#exporting-youtube-cookies  for tips on effectively exporting YouTube cookies\n"
     ]
    },
    {
     "name": "stderr",
     "output_type": "stream",
     "text": [
      "ERROR: [youtube] ocDlOD1Hw9k: Sign in to confirm your age. This video may be inappropriate for some users. Use --cookies-from-browser or --cookies for the authentication. See  https://github.com/yt-dlp/yt-dlp/wiki/FAQ#how-do-i-pass-cookies-to-yt-dlp  for how to manually pass cookies. Also see  https://github.com/yt-dlp/yt-dlp/wiki/Extractors#exporting-youtube-cookies  for tips on effectively exporting YouTube cookies\n",
      " 98%|█████████▊| 1034/1053 [15:09:17<31:17, 98.80s/it] "
     ]
    },
    {
     "name": "stdout",
     "output_type": "stream",
     "text": [
      "[Attempt 2] Download error: ERROR: [youtube] ocDlOD1Hw9k: Sign in to confirm your age. This video may be inappropriate for some users. Use --cookies-from-browser or --cookies for the authentication. See  https://github.com/yt-dlp/yt-dlp/wiki/FAQ#how-do-i-pass-cookies-to-yt-dlp  for how to manually pass cookies. Also see  https://github.com/yt-dlp/yt-dlp/wiki/Extractors#exporting-youtube-cookies  for tips on effectively exporting YouTube cookies\n",
      "Error indexing F**kin' Perfect (ID 737): cannot unpack non-iterable NoneType object\n"
     ]
    },
    {
     "name": "stderr",
     "output_type": "stream",
     "text": [
      "100%|██████████| 1053/1053 [15:40:18<00:00, 53.58s/it]   \n"
     ]
    },
    {
     "data": {
      "text/plain": [
       "<src.abracadabra.GCPFingerprintDB.GCPFingerprintDB at 0x7961d2433910>"
      ]
     },
     "execution_count": 1,
     "metadata": {},
     "output_type": "execute_result"
    }
   ],
   "execution_count": 1
  },
  {
   "metadata": {
    "ExecuteTime": {
     "end_time": "2025-06-05T17:44:44.762552Z",
     "start_time": "2025-06-05T17:43:43.049944Z"
    }
   },
   "cell_type": "code",
   "source": [
    "from src.abracadabra.recognize import index_all_songs\n",
    "index_all_songs(db_type=\"gcp\", skip_duplicates=True, cookies=True)"
   ],
   "id": "ae28b4d7ae1dd043",
   "outputs": [
    {
     "name": "stdout",
     "output_type": "stream",
     "text": [
      "Skipping Family Portrait (ID 738) — already indexed.\n",
      "Skipping Funhouse (ID 739) — already indexed.\n",
      "Skipping Funhouse - Main Version - Clean (ID 740) — already indexed.\n",
      "Skipping Get the Party Started (ID 741) — already indexed.\n",
      "Skipping Hustle (ID 742) — already indexed.\n",
      "Skipping Just Like Fire (From the Original Motion Picture \"Alice Through The Looking Glass\") (ID 744) — already indexed.\n",
      "Skipping Most Girls (ID 747) — already indexed.\n",
      "Skipping Never Gonna Not Dance Again (ID 748) — already indexed.\n",
      "Skipping Please Don't Leave Me (ID 749) — already indexed.\n",
      "Skipping Raise Your Glass (ID 750) — already indexed.\n",
      "Skipping Stupid Girls (ID 753) — already indexed.\n",
      "Skipping TRUSTFALL (ID 754) — already indexed.\n",
      "Skipping Today's The Day - From \"The Ellen DeGeneres Show\" (ID 756) — already indexed.\n",
      "Skipping Trouble (ID 757) — already indexed.\n",
      "Skipping Try (ID 758) — already indexed.\n",
      "Skipping U + Ur Hand (ID 759) — already indexed.\n",
      "Skipping Walk Me Home (ID 760) — already indexed.\n",
      "Skipping What About Us (ID 761) — already indexed.\n",
      "Skipping When I Get There (ID 762) — already indexed.\n",
      "Skipping Who Knew (ID 763) — already indexed.\n",
      "Skipping Ain't It Fun (ID 764) — already indexed.\n",
      "Skipping Brick by Boring Brick (ID 765) — already indexed.\n",
      "Skipping Careful (ID 766) — already indexed.\n",
      "Skipping Decode - Twilight Soundtrack Version (ID 767) — already indexed.\n",
      "Skipping Hard Times (ID 768) — already indexed.\n",
      "Skipping Ignorance (ID 769) — already indexed.\n",
      "Skipping Misery Business (ID 770) — already indexed.\n",
      "Skipping Monster - Transformers Soundtrack Version (ID 771) — already indexed.\n",
      "Skipping Remedy (ID 28) — already indexed.\n",
      "Skipping Still into You (ID 772) — already indexed.\n",
      "Skipping The Only Exception (ID 773) — already indexed.\n",
      "Skipping A Groovy Kind of Love - 2016 Remaster (ID 774) — already indexed.\n",
      "Skipping Against All Odds (Take A Look At Me Now) (ID 775) — already indexed.\n",
      "Skipping Against All Odds (Take a Look at Me Now) - 2016 Remaster (ID 776) — already indexed.\n",
      "Skipping Can't Stop Loving You - 2016 Remaster (ID 777) — already indexed.\n",
      "Skipping Don't Lose My Number - 2016 Remaster (ID 778) — already indexed.\n",
      "Skipping I Wish It Would Rain Down - 2016 Remaster (ID 779) — already indexed.\n",
      "Skipping In The Air Tonight (ID 780) — already indexed.\n",
      "Skipping One More Night - 2016 Remaster (ID 782) — already indexed.\n",
      "Skipping Sussudio - 2016 Remaster (ID 783) — already indexed.\n",
      "Skipping Two Hearts - 2016 Remaster (ID 784) — already indexed.\n",
      "Skipping You Can't Hurry Love - 2016 Remaster (ID 785) — already indexed.\n",
      "Skipping Another Brick in the Wall, Pt. 2 (ID 786) — already indexed.\n",
      "Skipping Comfortably Numb (ID 787) — already indexed.\n",
      "Skipping High Hopes - Live (ID 788) — already indexed.\n",
      "Skipping Wish You Were Here (ID 790) — already indexed.\n",
      "Skipping Wish You Were Here - 2011 Remastered Version (ID 791) — already indexed.\n",
      "Skipping Better Now (ID 792) — already indexed.\n",
      "Skipping Candy Paint (ID 793) — already indexed.\n",
      "Skipping Circles (ID 794) — already indexed.\n",
      "Skipping I Fall Apart (ID 795) — already indexed.\n",
      "Skipping Arabella (ID 57) — already indexed.\n",
      "Skipping Do I Wanna Know? (ID 58) — already indexed.\n",
      "Skipping Only Wanna Be With You - Pokémon 25 Version (ID 796) — already indexed.\n",
      "Skipping 1999 (ID 797) — already indexed.\n",
      "Skipping 1999 - Edit (ID 798) — already indexed.\n",
      "Skipping Batdance (ID 799) — already indexed.\n",
      "Skipping Cream (ID 800) — already indexed.\n",
      "Skipping Don't Stop Me Now - Remastered 2011 (ID 814) — already indexed.\n",
      "Skipping Fat Bottomed Girls - Remastered 2011 (ID 815) — already indexed.\n",
      "Skipping Heaven For Everyone - Remastered 2011 (ID 816) — already indexed.\n",
      "Skipping I Want It All - Remastered 2011 (ID 817) — already indexed.\n",
      "Skipping I Want It All - Single Version (ID 818) — already indexed.\n",
      "Skipping I Want To Break Free - Remastered 2011 (ID 819) — already indexed.\n",
      "Skipping I Want To Break Free - Single Remix (ID 820) — already indexed.\n",
      "Skipping Killer Queen - Remastered 2011 (ID 821) — already indexed.\n",
      "Skipping Radio Ga Ga - Remastered 2011 (ID 822) — already indexed.\n",
      "Skipping Somebody To Love - Remastered 2011 (ID 823) — already indexed.\n",
      "Skipping The Show Must Go On - Remastered 2011 (ID 824) — already indexed.\n",
      "Skipping Don't Lie (ID 101) — already indexed.\n",
      "Skipping Love On Top (ID 83) — already indexed.\n",
      "Skipping Don't Phunk With My Heart (ID 102) — already indexed.\n",
      "Skipping Don’t Stop The Party (ID 103) — already indexed.\n",
      "Skipping Hey Mama (ID 104) — already indexed.\n",
      "Skipping I Gotta Feeling (ID 105) — already indexed.\n",
      "Skipping Imma Be (ID 106) — already indexed.\n",
      "Skipping Just Can’t Get Enough (ID 107) — already indexed.\n",
      "Skipping In My Feelings (ID 258) — already indexed.\n",
      "Skipping Too Much Love Will Kill You - Remastered 2011 (ID 825) — already indexed.\n",
      "Skipping We Are The Champions - Remastered 2011 (ID 826) — already indexed.\n",
      "Skipping We Will Rock You - Remastered 2011 (ID 827) — already indexed.\n",
      "Skipping You're My Best Friend - Remastered 2011 (ID 828) — already indexed.\n",
      "Skipping Aeroplane (ID 829) — already indexed.\n",
      "Skipping Around the World (ID 830) — already indexed.\n",
      "Skipping Breaking the Girl (ID 831) — already indexed.\n",
      "Skipping By the Way (ID 832) — already indexed.\n",
      "Skipping Californication (ID 833) — already indexed.\n",
      "Skipping Can't Stop (ID 834) — already indexed.\n",
      "Skipping Dani California (ID 835) — already indexed.\n",
      "Skipping Give It Away (ID 836) — already indexed.\n",
      "Skipping Higher Ground - Remastered 2003 (ID 837) — already indexed.\n",
      "Skipping My Friends (ID 838) — already indexed.\n",
      "Skipping Otherside (ID 839) — already indexed.\n",
      "Skipping Scar Tissue (ID 840) — already indexed.\n",
      "Skipping Soul to Squeeze (ID 841) — already indexed.\n",
      "Skipping Suck My Kiss (ID 842) — already indexed.\n",
      "Skipping The Zephyr Song (ID 843) — already indexed.\n",
      "Skipping Under the Bridge (ID 844) — already indexed.\n",
      "Skipping Universally Speaking (ID 845) — already indexed.\n",
      "Skipping California King Bed (ID 846) — already indexed.\n",
      "Skipping Let's Get It Started (ID 108) — already indexed.\n",
      "Skipping The Cure (ID 565) — already indexed.\n",
      "Skipping Cheers (Drink To That) (ID 847) — already indexed.\n",
      "Skipping Disturbia (ID 849) — already indexed.\n",
      "Skipping Don't Stop The Music (ID 850) — already indexed.\n",
      "Skipping If It's Lovin' That You Want (ID 851) — already indexed.\n",
      "Skipping Jump (ID 852) — already indexed.\n",
      "Skipping Only Girl (In The World) (ID 853) — already indexed.\n",
      "Skipping Pon de Replay (ID 854) — already indexed.\n",
      "Skipping Rude Boy (ID 855) — already indexed.\n",
      "Skipping Russian Roulette (ID 856) — already indexed.\n",
      "Skipping S&M (ID 857) — already indexed.\n",
      "Skipping SOS (ID 858) — already indexed.\n",
      "Skipping Shut Up And Drive (ID 859) — already indexed.\n",
      "Skipping Take A Bow (ID 860) — already indexed.\n",
      "Skipping Te Amo (ID 861) — already indexed.\n",
      "Skipping Unfaithful (ID 862) — already indexed.\n",
      "Skipping What Now (ID 863) — already indexed.\n",
      "Skipping Where Have You Been (ID 864) — already indexed.\n",
      "Skipping You Da One - Album Version (Edited) (ID 865) — already indexed.\n",
      "Skipping Diamonds (ID 866) — already indexed.\n",
      "Skipping How Do You Sleep? (ID 867) — already indexed.\n",
      "Skipping I'm Not The Only One (ID 868) — already indexed.\n",
      "Skipping Make It To Me (ID 869) — already indexed.\n",
      "Skipping Not In That Way (ID 870) — already indexed.\n",
      "Skipping One Last Song (ID 871) — already indexed.\n",
      "Skipping Pray (ID 872) — already indexed.\n",
      "Skipping Stay With Me (ID 873) — already indexed.\n",
      "Skipping Stay With Me - Darkchild Version (ID 874) — already indexed.\n",
      "Skipping To Die For (ID 875) — already indexed.\n",
      "Skipping Too Good At Goodbyes (ID 876) — already indexed.\n",
      "Skipping Too Good At Goodbyes - Edit (ID 877) — already indexed.\n",
      "Skipping Writing's On The Wall - From \"Spectre\" Soundtrack (ID 878) — already indexed.\n",
      "Skipping Don't Wait Up (ID 879) — already indexed.\n",
      "Skipping Objection (Tango) (ID 880) — already indexed.\n",
      "Skipping Try Everything (ID 882) — already indexed.\n",
      "Skipping Underneath Your Clothes (ID 883) — already indexed.\n",
      "Skipping If I Can't Have You (ID 885) — already indexed.\n",
      "Skipping In My Blood (ID 886) — already indexed.\n",
      "Skipping Life Of The Party (ID 887) — already indexed.\n",
      "Skipping Lost In Japan (ID 888) — already indexed.\n",
      "Skipping Mercy (ID 889) — already indexed.\n",
      "Skipping Nervous (ID 890) — already indexed.\n",
      "Skipping Something Big (ID 891) — already indexed.\n",
      "Skipping Stitches (ID 892) — already indexed.\n",
      "Skipping There's Nothing Holdin' Me Back (ID 893) — already indexed.\n",
      "Skipping Treat You Better (ID 894) — already indexed.\n",
      "Skipping Where Were You In The Morning? (ID 895) — already indexed.\n",
      "Skipping Wonder (ID 896) — already indexed.\n",
      "Skipping Russians (ID 898) — already indexed.\n",
      "Skipping Shape Of My Heart (ID 899) — already indexed.\n",
      "Skipping A Hard Day's Night - Remastered 2009 (ID 900) — already indexed.\n",
      "Skipping I Feel Fine - Remastered 2009 (ID 912) — already indexed.\n",
      "Skipping I Saw Her Standing There - Remastered 2009 (ID 913) — already indexed.\n",
      "Skipping Heartbeat Song (ID 527) — already indexed.\n",
      "Skipping I Should Have Known Better - Remastered 2009 (ID 914) — already indexed.\n",
      "Skipping I Want To Hold Your Hand - Remastered 2015 (ID 915) — already indexed.\n",
      "Skipping Lady Madonna - Remastered 2015 (ID 916) — already indexed.\n",
      "Skipping Let It Be - Remastered 2009 (ID 917) — already indexed.\n",
      "Skipping Nowhere Man - Remastered 2009 (ID 919) — already indexed.\n",
      "Skipping Ob-La-Di, Ob-La-Da - Remastered 2009 (ID 920) — already indexed.\n",
      "Skipping Paperback Writer - Remastered 2009 (ID 921) — already indexed.\n",
      "Skipping Penny Lane - Remastered 2009 (ID 922) — already indexed.\n",
      "Skipping Please Mister Postman - Remastered 2009 (ID 923) — already indexed.\n",
      "Skipping Rock And Roll Music - Remastered 2009 (ID 924) — already indexed.\n",
      "Skipping Roll Over Beethoven - Remastered 2009 (ID 925) — already indexed.\n",
      "Skipping Slow Down - Remastered 2009 (ID 926) — already indexed.\n",
      "Skipping Something - Remastered 2009 (ID 927) — already indexed.\n",
      "Skipping The Ballad Of John And Yoko - Remastered 2015 (ID 928) — already indexed.\n",
      "Skipping The Long And Winding Road - Remastered 2009 (ID 929) — already indexed.\n",
      "Skipping Ticket To Ride - Remastered 2009 (ID 930) — already indexed.\n",
      "Skipping Twist And Shout - Remastered 2009 (ID 931) — already indexed.\n",
      "Skipping We Can Work It Out - Remastered 2009 (ID 932) — already indexed.\n",
      "Skipping Please Forgive Me (ID 182) — already indexed.\n",
      "Skipping Beautiful (ID 201) — already indexed.\n",
      "Skipping Candyman (ID 202) — already indexed.\n",
      "Skipping Come on over Baby (All I Want Is You) - Radio Version (ID 203) — already indexed.\n",
      "Skipping Fighter (ID 204) — already indexed.\n",
      "Skipping Genie in a Bottle (ID 206) — already indexed.\n",
      "Skipping When I'm Sixty Four - Remastered 2009 (ID 933) — already indexed.\n",
      "Skipping Yellow Submarine - Remastered 2009 (ID 934) — already indexed.\n",
      "Skipping Yellow Submarine - Remastered 2015 (ID 935) — already indexed.\n",
      "Skipping Yesterday - Remastered 2009 (ID 936) — already indexed.\n",
      "Skipping #SELFIE (ID 938) — already indexed.\n",
      "Skipping Honest (ID 939) — already indexed.\n",
      "Skipping Paris (ID 940) — already indexed.\n",
      "Skipping All These Things That I've Done (ID 941) — already indexed.\n",
      "Skipping Human (ID 942) — already indexed.\n",
      "Skipping Mr. Brightside (ID 943) — already indexed.\n",
      "Skipping Runaways (ID 944) — already indexed.\n",
      "Skipping Smile Like You Mean It (ID 945) — already indexed.\n",
      "Skipping Somebody Told Me (ID 946) — already indexed.\n",
      "Skipping Spaceman (ID 947) — already indexed.\n",
      "Skipping When You Were Young (ID 948) — already indexed.\n",
      "Skipping (I Can't Get No) Satisfaction - Mono Version (ID 949) — already indexed.\n",
      "Skipping (I Can't Get No) Satisfaction - Mono Version / Remastered 2002 (ID 950) — already indexed.\n",
      "Skipping 19th Nervous Breakdown - Remastered 2002 (ID 951) — already indexed.\n",
      "Skipping Angie - Remastered 2009 (ID 952) — already indexed.\n",
      "Skipping As Tears Go By - Mono Version (ID 953) — already indexed.\n",
      "Skipping Beast Of Burden - Remastered 1994 (ID 954) — already indexed.\n",
      "Skipping Brown Sugar - Remastered 2009 (ID 955) — already indexed.\n",
      "Skipping Emotional Rescue - Remastered 2009 (ID 956) — already indexed.\n",
      "Skipping Fortune Teller - Mono (ID 957) — already indexed.\n",
      "Skipping Get Off Of My Cloud - Mono Version (ID 958) — already indexed.\n",
      "Skipping Gimme Shelter (ID 959) — already indexed.\n",
      "Skipping Harlem Shuffle (ID 960) — already indexed.\n",
      "Skipping Heart Of Stone - Mono Version (ID 961) — already indexed.\n",
      "Skipping Honky Tonk Women - Mono Version (ID 962) — already indexed.\n",
      "Skipping It's All Over Now - Mono Version (ID 963) — already indexed.\n",
      "Skipping Jumpin' Jack Flash - (Original Single Mono Version) (ID 964) — already indexed.\n",
      "Skipping Let's Spend The Night Together (ID 965) — already indexed.\n",
      "Skipping Little Red Rooster - Mono (ID 966) — already indexed.\n",
      "Skipping Miss You - Remastered (ID 967) — already indexed.\n",
      "Skipping Mother's Little Helper (ID 968) — already indexed.\n",
      "Skipping Paint It, Black - (Original Single Mono Version) (ID 969) — already indexed.\n",
      "Skipping Route 66 (ID 970) — already indexed.\n",
      "Skipping She's A Rainbow - Full Version / With Intro (ID 971) — already indexed.\n",
      "Skipping Start Me Up - 2009 Re-Mastered Digital Version (ID 972) — already indexed.\n",
      "Skipping Start Me Up - Remastered 2009 (ID 973) — already indexed.\n",
      "Skipping Street Fighting Man - 50th Anniversary Edition (ID 974) — already indexed.\n",
      "Skipping Sympathy For The Devil (ID 975) — already indexed.\n",
      "Skipping The Last Time - Mono Version (ID 976) — already indexed.\n",
      "Skipping Time Is On My Side - Mono Version (ID 977) — already indexed.\n",
      "Skipping Under The Boardwalk - Mono (ID 978) — already indexed.\n",
      "Skipping We Love You - Single Version/Mono (ID 979) — already indexed.\n",
      "Skipping You Can't Always Get What You Want (ID 980) — already indexed.\n",
      "Skipping Around the World - Radio Edit [Radio Edit] (ID 233) — already indexed.\n",
      "Skipping Acquainted (ID 981) — already indexed.\n",
      "Skipping Blinding Lights (ID 982) — already indexed.\n",
      "Skipping Can't Feel My Face (ID 984) — already indexed.\n",
      "Skipping Earned It (Fifty Shades Of Grey) - From The \"Fifty Shades Of Grey\" Soundtrack (ID 985) — already indexed.\n",
      "Skipping Heartless (ID 986) — already indexed.\n",
      "Skipping In Your Eyes (ID 987) — already indexed.\n",
      "Skipping Rockin’ (ID 988) — already indexed.\n",
      "Skipping Save Your Tears (ID 989) — already indexed.\n",
      "Skipping Take My Breath - Single Version (ID 990) — already indexed.\n",
      "Skipping The Hills (ID 991) — already indexed.\n",
      "Skipping Baba O'Riley (ID 992) — already indexed.\n",
      "Skipping Happy Jack (ID 993) — already indexed.\n",
      "Skipping I'm A Boy - Mono Version (ID 994) — already indexed.\n",
      "Skipping My Generation - Mono Version (ID 995) — already indexed.\n",
      "Skipping My Generation - Stereo Version (ID 996) — already indexed.\n",
      "Skipping Pictures Of Lily (ID 997) — already indexed.\n",
      "Skipping Pinball Wizard (ID 998) — already indexed.\n",
      "Skipping Shakin' All Over - Live (ID 999) — already indexed.\n",
      "Skipping Substitute (ID 1000) — already indexed.\n",
      "Skipping WILD (ID 1015) — already indexed.\n",
      "Skipping YOUTH (ID 1016) — already indexed.\n",
      "Skipping All I Want Is You (ID 1017) — already indexed.\n",
      "Skipping Beautiful Day (ID 1018) — already indexed.\n",
      "Skipping Desire (ID 1019) — already indexed.\n",
      "Skipping Discotheque (ID 1020) — already indexed.\n",
      "Skipping Elevation (ID 1021) — already indexed.\n",
      "Skipping Even Better Than The Real Thing (ID 1022) — already indexed.\n",
      "Skipping Hold Me, Thrill Me, Kiss Me, Kill Me - From 'Batman Forever' (ID 1023) — already indexed.\n",
      "Skipping I Still Haven't Found What I'm Looking For (ID 1024) — already indexed.\n",
      "Skipping I Still Haven't Found What I'm Looking For - Remastered 2007 (ID 1025) — already indexed.\n",
      "Skipping Lemon (ID 1026) — already indexed.\n",
      "Skipping Mysterious Ways (ID 1027) — already indexed.\n",
      "Skipping New Year's Day (ID 1028) — already indexed.\n",
      "Skipping One (ID 1029) — already indexed.\n",
      "Skipping Pride (In The Name Of Love) (ID 1030) — already indexed.\n",
      "Skipping Pride (In The Name Of Love) - Remastered 2009 (ID 1031) — already indexed.\n",
      "Skipping Stuck In A Moment You Can't Get Out Of (ID 1032) — already indexed.\n",
      "Skipping Sunday Bloody Sunday (ID 1033) — already indexed.\n",
      "Skipping Sweetest Thing - The Single Mix (ID 1034) — already indexed.\n",
      "Skipping The Fly (ID 1035) — already indexed.\n",
      "Skipping Where The Streets Have No Name (ID 1036) — already indexed.\n",
      "Skipping Firefly (ID 285) — already indexed.\n",
      "Skipping Sing (ID 301) — already indexed.\n",
      "Skipping Small Bump (ID 302) — already indexed.\n",
      "Skipping Tenerife Sea (ID 303) — already indexed.\n",
      "Skipping The A Team (ID 304) — already indexed.\n",
      "Skipping Thinking out Loud (ID 305) — already indexed.\n",
      "Skipping Visiting Hours (ID 306) — already indexed.\n",
      "Skipping What Do I Know? (ID 307) — already indexed.\n",
      "Skipping Blue Eyes - Remastered 2003 (ID 308) — already indexed.\n",
      "Skipping Can You Feel the Love Tonight - End Title/ From \"The Lion King\"/Soundtrack Version (ID 310) — already indexed.\n",
      "Skipping Who's Gonna Ride Your Wild Horses (ID 1037) — already indexed.\n",
      "Skipping With Or Without You (ID 1038) — already indexed.\n",
      "Skipping With Or Without You - Remastered (ID 1039) — already indexed.\n",
      "Skipping With Or Without You - Remastered 2007 (ID 1040) — already indexed.\n",
      "Skipping Your Song Saved My Life - From Sing 2 (ID 1041) — already indexed.\n",
      "Skipping Burn (ID 1042) — already indexed.\n",
      "Skipping Caught Up (ID 1043) — already indexed.\n",
      "Skipping Confessions Part II (ID 1044) — already indexed.\n",
      "Skipping Crash (ID 1045) — already indexed.\n",
      "Skipping More - RedOne Jimmy Joker Remix (ID 1046) — already indexed.\n",
      "Skipping Scream (ID 1047) — already indexed.\n",
      "Skipping U Got It Bad (ID 1048) — already indexed.\n",
      "Skipping U Remind Me (ID 1049) — already indexed.\n",
      "Skipping You Make Me Wanna... (ID 1050) — already indexed.\n",
      "Skipping All The Man That I Need (ID 1051) — already indexed.\n",
      "Skipping All at Once (ID 1052) — already indexed.\n",
      "Skipping How Will I Know (ID 1054) — already indexed.\n",
      "Skipping I Have Nothing (ID 1055) — already indexed.\n",
      "Skipping I Wanna Dance with Somebody (Who Loves Me) (ID 1056) — already indexed.\n",
      "Skipping I Will Always Love You (ID 1057) — already indexed.\n",
      "Skipping I'm Every Woman (ID 1058) — already indexed.\n",
      "Skipping I'm Your Baby Tonight (ID 1059) — already indexed.\n",
      "Skipping One Moment in Time (ID 1060) — already indexed.\n",
      "Skipping Run to You (ID 1061) — already indexed.\n",
      "Skipping I Do Not Hook Up (ID 528) — already indexed.\n",
      "Skipping Saving All My Love for You (ID 1062) — already indexed.\n",
      "Skipping Step by Step (ID 1063) — already indexed.\n",
      "Skipping Where Do Broken Hearts Go (ID 1064) — already indexed.\n",
      "Skipping Adam's Song (ID 1065) — already indexed.\n",
      "Skipping All The Small Things (ID 1066) — already indexed.\n",
      "Skipping Bored To Death (ID 1067) — already indexed.\n",
      "Skipping I Miss You (ID 1069) — already indexed.\n",
      "Skipping What's My Age Again? (ID 1070) — already indexed.\n",
      "Skipping Berzerk (ID 336) — already indexed.\n",
      "Skipping Business (ID 337) — already indexed.\n",
      "Skipping Lithium (ID 364) — already indexed.\n",
      "Skipping My Immortal (ID 365) — already indexed.\n",
      "Skipping A Different Corner (ID 401) — already indexed.\n",
      "Skipping Amazing (ID 402) — already indexed.\n",
      "Skipping Careless Whisper (ID 403) — already indexed.\n",
      "Skipping Careless Whisper - Remastered (ID 404) — already indexed.\n",
      "Skipping Faith - Remastered (ID 405) — already indexed.\n",
      "Skipping Fastlove, Pt. 1 (ID 406) — already indexed.\n",
      "Skipping Father Figure - Remastered (ID 407) — already indexed.\n",
      "Skipping Freedom! '90 - Remastered (ID 408) — already indexed.\n",
      "Skipping I Want Your Sex - Pts. 1 & 2 Remastered (ID 409) — already indexed.\n",
      "Skipping Jesus to a Child (ID 410) — already indexed.\n",
      "Skipping Kissing a Fool - Remastered (ID 411) — already indexed.\n",
      "Skipping Miss Sarajevo (ID 412) — already indexed.\n",
      "Skipping Whatever It Takes (ID 466) — already indexed.\n",
      "Skipping Ain't It Funny (ID 467) — already indexed.\n",
      "Skipping Get Right (ID 468) — already indexed.\n",
      "Skipping I'm Real (ID 469) — already indexed.\n",
      "Skipping Heartless (ID 494) — already indexed.\n",
      "Skipping Firework (ID 501) — already indexed.\n",
      "Skipping Harleys In Hawaii (ID 502) — already indexed.\n",
      "Skipping Hot N Cold (ID 503) — already indexed.\n",
      "Skipping Hummingbird Heartbeat (ID 504) — already indexed.\n",
      "Skipping I Kissed A Girl (ID 505) — already indexed.\n",
      "Skipping International Smile (ID 506) — already indexed.\n",
      "Skipping Last Friday Night (T.G.I.F.) (ID 507) — already indexed.\n",
      "Skipping HUMBLE. (ID 540) — already indexed.\n",
      "Skipping Cherish (ID 601) — already indexed.\n",
      "Skipping Crazy for You (ID 602) — already indexed.\n",
      "Skipping Maps (ID 639) — already indexed.\n",
      "Skipping Heart-Shaped Box (ID 701) — already indexed.\n",
      "Skipping Lithium (ID 702) — already indexed.\n",
      "Skipping On A Plain (ID 703) — already indexed.\n",
      "Skipping Smells Like Teen Spirit (ID 704) — already indexed.\n",
      "Skipping Don't Speak (ID 705) — already indexed.\n",
      "Skipping Ex-Girlfriend (ID 706) — already indexed.\n",
      "Skipping Hella Good (ID 707) — already indexed.\n",
      "Skipping It's My Life (ID 708) — already indexed.\n",
      "Skipping Just A Girl (ID 709) — already indexed.\n",
      "Skipping Just Like a Pill (ID 745) — already indexed.\n",
      "Skipping Leave Me Alone (I'm Lonely) (ID 746) — already indexed.\n",
      "Skipping In The Air Tonight - 2015 Remastered (ID 781) — already indexed.\n",
      "Skipping Cream - Without Rap Monologue (ID 801) — already indexed.\n",
      "Skipping Gett Off (ID 802) — already indexed.\n",
      "Skipping I Wanna Be Your Lover (ID 803) — already indexed.\n",
      "Skipping Kiss (ID 804) — already indexed.\n",
      "Skipping Little Red Corvette - Single Version (ID 805) — already indexed.\n",
      "Skipping My Name Is Prince (ID 806) — already indexed.\n",
      "Skipping Raspberry Beret (ID 807) — already indexed.\n",
      "Skipping Sexy M.F. (ID 808) — already indexed.\n",
      "Skipping Thieves in the Temple (ID 809) — already indexed.\n",
      "Skipping When Doves Cry (ID 810) — already indexed.\n",
      "Skipping Another One Bites The Dust - Remastered 2011 (ID 811) — already indexed.\n",
      "Skipping Bohemian Rhapsody - Remastered 2011 (ID 812) — already indexed.\n",
      "Skipping Crazy Little Thing Called Love - Remastered 2011 (ID 813) — already indexed.\n",
      "Skipping Diamonds (ID 848) — already indexed.\n",
      "Skipping Whenever, Wherever (ID 884) — already indexed.\n",
      "Skipping All My Loving - Remastered 2009 (ID 901) — already indexed.\n",
      "Skipping All You Need Is Love - Remastered 2009 (ID 902) — already indexed.\n",
      "Skipping And I Love Her - Remastered (ID 903) — already indexed.\n",
      "Skipping Can't Buy Me Love - Remastered 2009 (ID 904) — already indexed.\n",
      "Skipping Come Together - Remastered (ID 905) — already indexed.\n",
      "Skipping Come Together - Remastered 2009 (ID 906) — already indexed.\n",
      "Skipping Eight Days A Week - Remastered 2009 (ID 907) — already indexed.\n",
      "Skipping Get Back - Remastered 2009 (ID 908) — already indexed.\n",
      "Skipping Hello, Goodbye - Remastered 2009 (ID 909) — already indexed.\n",
      "Skipping Help! - Remastered 2009 (ID 910) — already indexed.\n",
      "Skipping Hey Jude - Remastered 2015 (ID 911) — already indexed.\n",
      "Skipping Magical Mystery Tour - Remastered 2009 (ID 918) — already indexed.\n",
      "Skipping Call Out My Name (ID 983) — already indexed.\n",
      "Skipping Who Are You (ID 1001) — already indexed.\n",
      "Skipping Won't Get Fooled Again - Original Album Version (ID 1002) — already indexed.\n",
      "Skipping The Best (ID 1003) — already indexed.\n",
      "Skipping The Best - Edit (ID 1004) — already indexed.\n",
      "Skipping We Don't Need Another Hero (Thunderdome) (ID 1005) — already indexed.\n",
      "Skipping What You Get Is What You See (ID 1006) — already indexed.\n",
      "Skipping HIGHEST IN THE ROOM (ID 1008) — already indexed.\n",
      "Skipping SICKO MODE (ID 1009) — already indexed.\n",
      "Skipping Bloom (ID 1010) — already indexed.\n",
      "Skipping Easy (ID 1011) — already indexed.\n",
      "Skipping My My My! (ID 1012) — already indexed.\n",
      "Skipping TALK ME DOWN (ID 1013) — already indexed.\n",
      "Skipping Take Yourself Home (ID 1014) — already indexed.\n",
      "Skipping She Wolf (ID 881) — already indexed.\n",
      "Skipping Who Am I (What's My Name)? (ID 897) — already indexed.\n",
      "Skipping Greatest Love of All (ID 1053) — already indexed.\n",
      "Skipping Don't Waste Your Time (ID 526) — already indexed.\n",
      "Skipping Bad Influence (ID 732) — already indexed.\n",
      "Skipping Dammit (ID 1068) — already indexed.\n",
      "Skipping Always (ID 124) — already indexed.\n",
      "Skipping Genie In a Bottle (ID 205) — already indexed.\n",
      "Skipping Absolute Beginners - 2002 Remaster (ID 237) — already indexed.\n",
      "Skipping Can You Feel The Love Tonight (ID 309) — already indexed.\n",
      "Skipping Escape (ID 353) — already indexed.\n",
      "Skipping Harder To Breathe (ID 633) — already indexed.\n",
      "Skipping In Da Club (ID 1) — already indexed.\n",
      "Skipping In Da Club - Single Version / Edit (ID 2) — already indexed.\n",
      "Skipping Just A Lil Bit (ID 3) — already indexed.\n",
      "Skipping P.I.M.P. (ID 4) — already indexed.\n",
      "Skipping Window Shopper (ID 5) — already indexed.\n",
      "Skipping Back In Black (ID 6) — already indexed.\n",
      "Skipping Dirty Deeds Done Dirt Cheap (ID 7) — already indexed.\n",
      "Skipping Heatseeker (ID 8) — already indexed.\n",
      "Skipping High Voltage (ID 9) — already indexed.\n",
      "Skipping Highway to Hell (ID 10) — already indexed.\n",
      "Skipping It's a Long Way to the Top (If You Wanna Rock 'N' Roll) (ID 11) — already indexed.\n",
      "Skipping Jailbreak (ID 12) — already indexed.\n",
      "Skipping Rock and Roll Ain't Noise Pollution (ID 13) — already indexed.\n",
      "Skipping Shoot to Thrill (ID 14) — already indexed.\n",
      "Skipping T.N.T. (ID 15) — already indexed.\n",
      "Skipping Thunderstruck (ID 16) — already indexed.\n",
      "Skipping Who Made Who (ID 17) — already indexed.\n",
      "Skipping You Shook Me All Night Long (ID 18) — already indexed.\n",
      "Skipping Chasing Pavements (ID 19) — already indexed.\n",
      "Skipping Don't You Remember (ID 20) — already indexed.\n",
      "Skipping Easy On Me (ID 21) — already indexed.\n",
      "Skipping He Won't Go (ID 22) — already indexed.\n",
      "Skipping Hello (ID 23) — already indexed.\n",
      "Skipping Love In The Dark (ID 24) — already indexed.\n",
      "Skipping Make You Feel My Love (ID 25) — already indexed.\n",
      "Skipping Never Gonna Leave This Bed (ID 642) — already indexed.\n",
      "Skipping Million Years Ago (ID 26) — already indexed.\n",
      "Skipping One and Only (ID 27) — already indexed.\n",
      "Skipping Rolling in the Deep (ID 29) — already indexed.\n",
      "Skipping Rumour Has It (ID 30) — already indexed.\n",
      "Skipping Send My Love (To Your New Lover) (ID 31) — already indexed.\n",
      "Skipping Set Fire to the Rain (ID 32) — already indexed.\n",
      "Skipping Skyfall (ID 33) — already indexed.\n",
      "Skipping Someone Like You (ID 34) — already indexed.\n",
      "Skipping Sweetest Devotion (ID 35) — already indexed.\n",
      "Skipping Take It All (ID 36) — already indexed.\n",
      "Skipping Turning Tables (ID 37) — already indexed.\n",
      "Skipping Water Under The Bridge (ID 38) — already indexed.\n",
      "Skipping When We Were Young (ID 39) — already indexed.\n",
      "Skipping Alone (ID 40) — already indexed.\n",
      "Skipping Faded (ID 41) — already indexed.\n",
      "Skipping Brand New Me (ID 42) — already indexed.\n",
      "Skipping Doesn't Mean Anything (ID 43) — already indexed.\n",
      "Skipping Empire State of Mind (Part II) Broken Down (ID 44) — already indexed.\n",
      "Skipping Fallin' (ID 45) — already indexed.\n",
      "Skipping Girl On Fire (ID 46) — already indexed.\n",
      "Skipping Hallelujah (ID 47) — already indexed.\n",
      "Skipping Holy War (ID 48) — already indexed.\n",
      "Skipping More Than We Know (ID 50) — already indexed.\n",
      "Skipping No One (ID 51) — already indexed.\n",
      "Skipping One Thing (ID 52) — already indexed.\n",
      "Skipping Superwoman (ID 53) — already indexed.\n",
      "Skipping Tears Always Win (ID 54) — already indexed.\n",
      "Skipping Work On It (ID 55) — already indexed.\n",
      "Skipping I Bet You Look Good On The Dancefloor (ID 59) — already indexed.\n",
      "Skipping Why'd You Only Call Me When You're High? (ID 60) — already indexed.\n",
      "Skipping Addicted To You (ID 61) — already indexed.\n",
      "Skipping Broken Arrows (ID 62) — already indexed.\n",
      "Skipping Fade Into Darkness - Vocal Radio Mix (ID 63) — already indexed.\n",
      "Skipping For A Better Day (ID 64) — already indexed.\n",
      "Skipping Heaven (ID 65) — already indexed.\n",
      "Skipping Hey Brother (ID 66) — already indexed.\n",
      "Skipping Levels - Radio Edit (ID 67) — already indexed.\n",
      "Skipping Silhouettes - Original Radio Edit (ID 68) — already indexed.\n",
      "Skipping The Nights (ID 69) — already indexed.\n",
      "Skipping Waiting For Love (ID 70) — already indexed.\n",
      "Skipping Wake Me Up (ID 71) — already indexed.\n",
      "Skipping Wake Me Up - Radio Edit (ID 72) — already indexed.\n",
      "Skipping You Make Me (ID 73) — already indexed.\n",
      "Skipping Butter (ID 74) — already indexed.\n",
      "Skipping Dynamite (ID 75) — already indexed.\n",
      "Skipping BREAK MY SOUL (ID 76) — already indexed.\n",
      "Skipping Best Thing I Never Had (ID 77) — already indexed.\n",
      "Skipping Broken-Hearted Girl (ID 78) — already indexed.\n",
      "Skipping Halo (ID 79) — already indexed.\n",
      "Skipping Hold Up (ID 80) — already indexed.\n",
      "Skipping If I Were a Boy (ID 81) — already indexed.\n",
      "Skipping Irreplaceable (ID 82) — already indexed.\n",
      "Skipping Naughty Girl (ID 84) — already indexed.\n",
      "Skipping Run the World (Girls) (ID 85) — already indexed.\n",
      "Skipping Single Ladies (Put a Ring on It) (ID 86) — already indexed.\n",
      "Skipping Sweet Dreams (ID 87) — already indexed.\n",
      "Skipping XO (ID 88) — already indexed.\n",
      "Skipping Lost Cause (ID 89) — already indexed.\n",
      "Skipping NDA (ID 90) — already indexed.\n",
      "Skipping Therefore I Am (ID 91) — already indexed.\n",
      "Skipping Your Power (ID 92) — already indexed.\n",
      "Skipping all the good girls go to hell (ID 93) — already indexed.\n",
      "Skipping bad guy (ID 94) — already indexed.\n",
      "Skipping bury a friend (ID 95) — already indexed.\n",
      "Skipping everything i wanted (ID 96) — already indexed.\n",
      "Skipping when the party's over (ID 97) — already indexed.\n",
      "Skipping wish you were gay (ID 98) — already indexed.\n",
      "Skipping BIG LOVE (ID 99) — already indexed.\n",
      "Skipping Boom Boom Pow (ID 100) — already indexed.\n",
      "Skipping Let's Get It Started - Spike Mix (ID 109) — already indexed.\n",
      "Skipping Meet Me Halfway (ID 110) — already indexed.\n",
      "Skipping My Humps (ID 111) — already indexed.\n",
      "Skipping Pump It (ID 112) — already indexed.\n",
      "Skipping Rock That Body (ID 113) — already indexed.\n",
      "Skipping Shut Up (ID 114) — already indexed.\n",
      "Skipping The Time (Dirty Bit) (ID 115) — already indexed.\n",
      "Skipping Where Is The Love? (ID 116) — already indexed.\n",
      "Skipping Blowin' in the Wind (ID 117) — already indexed.\n",
      "Skipping Forever Young - Fast Version (ID 118) — already indexed.\n",
      "Skipping Hurricane (ID 119) — already indexed.\n",
      "Skipping Knockin' On Heaven's Door (ID 120) — already indexed.\n",
      "Skipping Like a Rolling Stone (ID 121) — already indexed.\n",
      "Skipping Mr. Tambourine Man (ID 122) — already indexed.\n",
      "Skipping The Times They Are A-Changin' (ID 123) — already indexed.\n",
      "Skipping Bad Medicine (ID 125) — already indexed.\n",
      "Skipping Bed Of Roses (ID 126) — already indexed.\n",
      "Skipping Have A Nice Day (ID 127) — already indexed.\n",
      "Skipping I'll Be There For You (ID 128) — already indexed.\n",
      "Skipping In These Arms (ID 129) — already indexed.\n",
      "Skipping It's My Life (ID 130) — already indexed.\n",
      "Skipping Keep The Faith (ID 131) — already indexed.\n",
      "Skipping Livin' On A Prayer (ID 132) — already indexed.\n",
      "Skipping Say It Isn't So (ID 133) — already indexed.\n",
      "Skipping Shot Through The Heart (ID 134) — already indexed.\n",
      "Skipping This Ain't A Love Song (ID 135) — already indexed.\n",
      "Skipping Wanted Dead Or Alive (ID 136) — already indexed.\n",
      "Skipping You Give Love A Bad Name (ID 137) — already indexed.\n",
      "Skipping (You Drive Me) Crazy (ID 138) — already indexed.\n",
      "Skipping ...Baby One More Time (ID 139) — already indexed.\n",
      "Skipping 3 (ID 140) — already indexed.\n",
      "Skipping Circus (ID 141) — already indexed.\n",
      "Skipping Circus - Remastered (ID 142) — already indexed.\n",
      "Skipping Do Somethin' (ID 143) — already indexed.\n",
      "Skipping Everytime (ID 144) — already indexed.\n",
      "Skipping From the Bottom of My Broken Heart (ID 145) — already indexed.\n",
      "Skipping Gimme More (ID 146) — already indexed.\n",
      "Skipping Hold It Against Me (ID 147) — already indexed.\n",
      "Skipping I Love Rock 'N' Roll (ID 148) — already indexed.\n",
      "Skipping I'm Not a Girl, Not Yet a Woman (ID 149) — already indexed.\n",
      "Skipping I'm a Slave 4 U (ID 150) — already indexed.\n",
      "Skipping If U Seek Amy (ID 151) — already indexed.\n",
      "Skipping Lucky (ID 152) — already indexed.\n",
      "Skipping My Prerogative - Remastered (ID 153) — already indexed.\n",
      "Skipping Oops!...I Did It Again (ID 154) — already indexed.\n",
      "Skipping Piece of Me (ID 155) — already indexed.\n",
      "Skipping Sometimes (ID 156) — already indexed.\n",
      "Skipping Stronger (ID 157) — already indexed.\n",
      "Skipping Till the World Ends (ID 158) — already indexed.\n",
      "Skipping Toxic (ID 159) — already indexed.\n",
      "Skipping Womanizer (ID 160) — already indexed.\n",
      "Skipping 24K Magic (ID 161) — already indexed.\n",
      "Skipping Chunky (ID 162) — already indexed.\n",
      "Skipping Count on Me (ID 163) — already indexed.\n",
      "Skipping Grenade (ID 164) — already indexed.\n",
      "Skipping Grenade - Acoustic (ID 165) — already indexed.\n",
      "Skipping If I Knew (ID 166) — already indexed.\n",
      "Skipping It Will Rain (ID 167) — already indexed.\n",
      "Skipping Just the Way You Are (ID 168) — already indexed.\n",
      "Skipping Locked out of Heaven (ID 169) — already indexed.\n",
      "Skipping Marry You (ID 170) — already indexed.\n",
      "Skipping Talking to the Moon (ID 171) — already indexed.\n",
      "Skipping That's What I Like (ID 172) — already indexed.\n",
      "Skipping The Lazy Song (ID 173) — already indexed.\n",
      "Skipping Treasure (ID 174) — already indexed.\n",
      "Skipping Versace on the Floor (ID 175) — already indexed.\n",
      "Skipping When I Was Your Man (ID 176) — already indexed.\n",
      "Skipping (Everything I Do) I Do It For You (ID 177) — already indexed.\n",
      "Skipping Can't Stop This Thing We Started (ID 178) — already indexed.\n",
      "Skipping Have You Ever Really Loved A Woman? (ID 179) — already indexed.\n",
      "Skipping Heaven (ID 180) — already indexed.\n",
      "Skipping Let's Make A Night To Remember (ID 181) — already indexed.\n",
      "Skipping Run To You (ID 183) — already indexed.\n",
      "Skipping Summer Of '69 (ID 184) — already indexed.\n",
      "Skipping The Only Thing That Looks Good On Me Is You (ID 185) — already indexed.\n",
      "Skipping Thought I'd Died And Gone To Heaven (ID 186) — already indexed.\n",
      "Skipping Acceptable in the 80's (ID 187) — already indexed.\n",
      "Skipping Feel So Close - Radio Edit (ID 188) — already indexed.\n",
      "Skipping Flashback (ID 189) — already indexed.\n",
      "Skipping I'm Not Alone - Radio Edit (ID 190) — already indexed.\n",
      "Skipping My Way (ID 191) — already indexed.\n",
      "Skipping Ready for the Weekend (ID 192) — already indexed.\n",
      "Skipping Summer (ID 193) — already indexed.\n",
      "Skipping The Girls - Radio Edit (ID 194) — already indexed.\n",
      "Skipping You Used to Hold Me (ID 195) — already indexed.\n",
      "Skipping Don't Go Yet (ID 196) — already indexed.\n",
      "Skipping Never Be the Same (ID 197) — already indexed.\n",
      "Skipping Shameless (ID 198) — already indexed.\n",
      "Skipping Up (ID 199) — already indexed.\n",
      "Skipping Ain't No Other Man (ID 200) — already indexed.\n",
      "Skipping Hurt (ID 207) — already indexed.\n",
      "Skipping Impossible (ID 208) — already indexed.\n",
      "Skipping Keeps Gettin' Better (ID 209) — already indexed.\n",
      "Skipping What a Girl Wants (ID 210) — already indexed.\n",
      "Skipping A Sky Full of Stars (ID 211) — already indexed.\n",
      "Skipping Adventure of a Lifetime (ID 212) — already indexed.\n",
      "Skipping Charlie Brown (ID 213) — already indexed.\n",
      "Skipping Clocks (ID 214) — already indexed.\n",
      "Skipping Every Teardrop Is a Waterfall (ID 215) — already indexed.\n",
      "Skipping Fix You (ID 216) — already indexed.\n",
      "Skipping God Put a Smile upon Your Face (ID 217) — already indexed.\n",
      "Skipping Higher Power (ID 218) — already indexed.\n",
      "Skipping Hymn for the Weekend (ID 219) — already indexed.\n",
      "Skipping In My Place (ID 220) — already indexed.\n",
      "Skipping Life in Technicolor ii (ID 221) — already indexed.\n",
      "Skipping Lost! (ID 222) — already indexed.\n",
      "Skipping Lovers in Japan (ID 223) — already indexed.\n",
      "Skipping Magic (ID 224) — already indexed.\n",
      "Skipping Paradise (ID 225) — already indexed.\n",
      "Skipping Speed of Sound (ID 226) — already indexed.\n",
      "Skipping The Scientist (ID 227) — already indexed.\n",
      "Skipping Violet Hill (ID 228) — already indexed.\n",
      "Skipping Viva La Vida (ID 229) — already indexed.\n",
      "Skipping Yellow (ID 230) — already indexed.\n",
      "Skipping Gasolina (ID 231) — already indexed.\n",
      "Skipping Around the World (ID 232) — already indexed.\n",
      "Skipping Da Funk - Radio Edit (ID 234) — already indexed.\n",
      "Skipping One More Time (ID 235) — already indexed.\n",
      "Skipping One More Time - Radio Edit [Short Radio Edit] (ID 236) — already indexed.\n",
      "Skipping Ashes to Ashes - 2017 Remaster (ID 238) — already indexed.\n",
      "Skipping Cat People (Putting Out Fire) - 2018 Remaster (ID 239) — already indexed.\n",
      "Skipping Heroes - 2017 Remaster (ID 240) — already indexed.\n",
      "Skipping Let's Dance - Single Version, 2014 Remaster (ID 241) — already indexed.\n",
      "Skipping Modern Love - 1999 Remaster (ID 242) — already indexed.\n",
      "Skipping Rebel Rebel - 2016 Remaster (ID 243) — already indexed.\n",
      "Skipping Sorrow - 2015 Remaster (ID 244) — already indexed.\n",
      "Skipping Space Oddity - 2009 Remastered Version (ID 245) — already indexed.\n",
      "Skipping Space Oddity - 2015 Remaster (ID 246) — already indexed.\n",
      "Skipping Bang My Head (feat. Sia & Fetty Wap) (ID 247) — already indexed.\n",
      "Skipping Shot Me Down (feat. Skylar Grey) - Radio Edit (ID 248) — already indexed.\n",
      "Skipping This One's for You (feat. Zara Larsson) (Official Song UEFA EURO 2016) (ID 249) — already indexed.\n",
      "Skipping What I Did for Love (feat. Emeli Sandé) (ID 250) — already indexed.\n",
      "Skipping Where Them Girls At (feat. Nicki Minaj & Flo Rida) (ID 251) — already indexed.\n",
      "Skipping Boss Bitch (ID 252) — already indexed.\n",
      "Skipping Say So (ID 253) — already indexed.\n",
      "Skipping Streets (ID 254) — already indexed.\n",
      "Skipping Controlla (ID 255) — already indexed.\n",
      "Skipping God's Plan (ID 256) — already indexed.\n",
      "Skipping Hotline Bling (ID 257) — already indexed.\n",
      "Skipping Toosie Slide (ID 259) — already indexed.\n",
      "Skipping Be the One (ID 260) — already indexed.\n",
      "Skipping Blow Your Mind (Mwah) (ID 261) — already indexed.\n",
      "Skipping Break My Heart (ID 262) — already indexed.\n",
      "Skipping Dance The Night (From Barbie The Album) (ID 263) — already indexed.\n",
      "Skipping Don't Start Now (ID 264) — already indexed.\n",
      "Skipping Hallucinate (ID 265) — already indexed.\n",
      "Skipping Hotter Than Hell (ID 266) — already indexed.\n",
      "Skipping IDGAF (ID 267) — already indexed.\n",
      "Skipping Levitating (ID 268) — already indexed.\n",
      "Skipping Love Again (ID 269) — already indexed.\n",
      "Skipping New Rules (ID 270) — already indexed.\n",
      "Skipping Physical (ID 271) — already indexed.\n",
      "Skipping Swan Song - From the Motion Picture \"Alita: Battle Angel\" (ID 272) — already indexed.\n",
      "Skipping We're Good (ID 273) — already indexed.\n",
      "Skipping Afire Love (ID 274) — already indexed.\n",
      "Skipping Afterglow (ID 275) — already indexed.\n",
      "Skipping All of the Stars (ID 276) — already indexed.\n",
      "Skipping Bad Habits (ID 277) — already indexed.\n",
      "Skipping Bloodstream (ID 278) — already indexed.\n",
      "Skipping Castle on the Hill (ID 279) — already indexed.\n",
      "Skipping Celestial (ID 280) — already indexed.\n",
      "Skipping Dive (ID 281) — already indexed.\n",
      "Skipping Don't (ID 282) — already indexed.\n",
      "Skipping Drunk (ID 283) — already indexed.\n",
      "Skipping Eyes Closed (ID 284) — already indexed.\n",
      "Skipping Galway Girl (ID 286) — already indexed.\n",
      "Skipping Happier (ID 287) — already indexed.\n",
      "Skipping How Would You Feel (Paean) (ID 288) — already indexed.\n",
      "Skipping I See Fire - From \"The Hobbit - The Desolation Of Smaug\" (ID 289) — already indexed.\n",
      "Skipping Kiss Me (ID 290) — already indexed.\n",
      "Skipping Lego House (ID 291) — already indexed.\n",
      "Skipping New York (ID 292) — already indexed.\n",
      "Skipping One (ID 293) — already indexed.\n",
      "Skipping Overpass Graffiti (ID 294) — already indexed.\n",
      "Skipping Perfect (ID 295) — already indexed.\n",
      "Skipping Photograph (ID 296) — already indexed.\n",
      "Skipping Runaway (ID 297) — already indexed.\n",
      "Skipping Shape of You (ID 298) — already indexed.\n",
      "Skipping She (ID 299) — already indexed.\n",
      "Skipping Shivers (ID 300) — already indexed.\n",
      "Skipping Candle In The Wind (ID 311) — already indexed.\n",
      "Skipping Candle In The Wind 1997 (ID 312) — already indexed.\n",
      "Skipping Crocodile Rock (ID 313) — already indexed.\n",
      "Skipping Daniel (ID 314) — already indexed.\n",
      "Skipping Goodbye Yellow Brick Road - Remastered 2014 (ID 315) — already indexed.\n",
      "Skipping Healing Hands (ID 316) — already indexed.\n",
      "Skipping Heartache All Over The World (ID 317) — already indexed.\n",
      "Skipping I Don't Wanna Go On With You Like That (ID 318) — already indexed.\n",
      "Skipping I Guess That's Why They Call It The Blues (ID 319) — already indexed.\n",
      "Skipping I'm Still Standing (ID 320) — already indexed.\n",
      "Skipping Kiss The Bride (ID 321) — already indexed.\n",
      "Skipping Little Jeannie (ID 322) — already indexed.\n",
      "Skipping Lucy In The Sky With Diamonds (ID 323) — already indexed.\n",
      "Skipping Nikita (ID 324) — already indexed.\n",
      "Skipping Part Time Love (ID 325) — already indexed.\n",
      "Skipping Passengers (ID 326) — already indexed.\n",
      "Skipping Philadelphia Freedom (ID 327) — already indexed.\n",
      "Skipping Rocket Man (I Think It's Going To Be A Long, Long Time) (ID 328) — already indexed.\n",
      "Skipping Sacrifice (ID 329) — already indexed.\n",
      "Skipping Sad Songs (Say So Much) (ID 330) — already indexed.\n",
      "Skipping Something About The Way You Look Tonight - Edit Version (ID 331) — already indexed.\n",
      "Skipping Song For Guy (ID 332) — already indexed.\n",
      "Skipping Tiny Dancer (ID 333) — already indexed.\n",
      "Skipping Your Song (ID 334) — already indexed.\n",
      "Skipping Ass Like That (ID 335) — already indexed.\n",
      "Skipping Cleanin' Out My Closet (ID 338) — already indexed.\n",
      "Skipping Just Lose It (ID 339) — already indexed.\n",
      "Skipping Like Toy Soldiers (ID 340) — already indexed.\n",
      "Skipping Lose Yourself (ID 341) — already indexed.\n",
      "Skipping Lose Yourself - From \"8 Mile\" Soundtrack (ID 342) — already indexed.\n",
      "Skipping Mockingbird (ID 343) — already indexed.\n",
      "Skipping My Name Is (ID 344) — already indexed.\n",
      "Skipping Not Afraid (ID 345) — already indexed.\n",
      "Skipping Sing For The Moment (ID 346) — already indexed.\n",
      "Skipping The Real Slim Shady (ID 347) — already indexed.\n",
      "Skipping We Made You (ID 348) — already indexed.\n",
      "Skipping When I'm Gone (ID 349) — already indexed.\n",
      "Skipping Without Me (ID 350) — already indexed.\n",
      "Skipping Bailamos (ID 351) — already indexed.\n",
      "Skipping Don't Turn Off The Lights (ID 352) — already indexed.\n",
      "Skipping Change the World - 2015 Remaster (ID 355) — already indexed.\n",
      "Skipping Cocaine (ID 356) — already indexed.\n",
      "Skipping I Shot The Sheriff (ID 357) — already indexed.\n",
      "Skipping Layla - Acoustic; Live at MTV Unplugged, Bray Film Studios, Windsor, England, UK, 1/16/1992; 2013 Remaster (ID 358) — already indexed.\n",
      "Skipping Tears In Heaven (ID 359) — already indexed.\n",
      "Skipping Bring Me To Life (ID 360) — already indexed.\n",
      "Skipping Call Me When You're Sober (ID 361) — already indexed.\n",
      "Skipping Everybody's Fool (ID 362) — already indexed.\n",
      "Skipping \"The Take Over, The Breaks Over\" (ID 366) — already indexed.\n",
      "Skipping Centuries (ID 367) — already indexed.\n",
      "Skipping I Don't Care (ID 368) — already indexed.\n",
      "Skipping She's My Winona (ID 369) — already indexed.\n",
      "Skipping Sugar, We're Goin Down (ID 370) — already indexed.\n",
      "Skipping This Ain't A Scene, It's An Arms Race (ID 371) — already indexed.\n",
      "Skipping Thnks fr th Mmrs (ID 372) — already indexed.\n",
      "Skipping Albatross (ID 373) — already indexed.\n",
      "Skipping Don't Stop - 2004 Remaster (ID 374) — already indexed.\n",
      "Skipping Dreams - 2004 Remaster (ID 375) — already indexed.\n",
      "Skipping Go Your Own Way (ID 376) — already indexed.\n",
      "Skipping Go Your Own Way - 2004 Remaster (ID 377) — already indexed.\n",
      "Skipping Hold Me (ID 378) — already indexed.\n",
      "Skipping Little Lies (ID 379) — already indexed.\n",
      "Skipping Rhiannon (ID 380) — already indexed.\n",
      "Skipping Sara (ID 381) — already indexed.\n",
      "Skipping Seven Wonders - 2017 Remaster (ID 382) — already indexed.\n",
      "Skipping The Chain - 2004 Remaster (ID 383) — already indexed.\n",
      "Skipping Tusk - 2015 Remaster (ID 384) — already indexed.\n",
      "Skipping Best Of You (ID 385) — already indexed.\n",
      "Skipping Best of You (ID 386) — already indexed.\n",
      "Skipping Big Me (ID 387) — already indexed.\n",
      "Skipping Everlong (ID 388) — already indexed.\n",
      "Skipping Generator (ID 389) — already indexed.\n",
      "Skipping Learn to Fly (ID 390) — already indexed.\n",
      "Skipping Long Road To Ruin (ID 391) — already indexed.\n",
      "Skipping Monkey Wrench (ID 392) — already indexed.\n",
      "Skipping My Hero (ID 393) — already indexed.\n",
      "Skipping Rope (ID 394) — already indexed.\n",
      "Skipping The Pretender (ID 395) — already indexed.\n",
      "Skipping These Days (ID 396) — already indexed.\n",
      "Skipping This Is a Call (ID 397) — already indexed.\n",
      "Skipping Times Like These (ID 398) — already indexed.\n",
      "Skipping Walk (ID 399) — already indexed.\n",
      "Skipping Wheels (ID 400) — already indexed.\n",
      "Skipping One More Try - Live (ID 413) — already indexed.\n",
      "Skipping One More Try - Remastered (ID 414) — already indexed.\n",
      "Skipping Outside (ID 415) — already indexed.\n",
      "Skipping Praying for Time - 2010 Remastered Version (ID 416) — already indexed.\n",
      "Skipping The First Time Ever I Saw Your Face (ID 417) — already indexed.\n",
      "Skipping Too Funky - Remastered 2006 (ID 418) — already indexed.\n",
      "Skipping Too Funky - Single Edit (ID 419) — already indexed.\n",
      "Skipping 19-2000 (ID 420) — already indexed.\n",
      "Skipping Clint Eastwood (ID 421) — already indexed.\n",
      "Skipping DARE (ID 422) — already indexed.\n",
      "Skipping Feel Good Inc. (ID 423) — already indexed.\n",
      "Skipping 21 Guns (ID 424) — already indexed.\n",
      "Skipping 21 Guns (feat. Rebecca Naomi Jones, Christina Sajous, Mary Faber, Stark Sands, John Gallagher Jr., Michael Esper, The American Idiot Broadway Company) (ID 425) — already indexed.\n",
      "Skipping American Idiot (ID 426) — already indexed.\n",
      "Skipping Basket Case (ID 427) — already indexed.\n",
      "Skipping Boulevard of Broken Dreams (ID 428) — already indexed.\n",
      "Skipping Brain Stew (ID 429) — already indexed.\n",
      "Skipping Good Riddance (Time of Your Life) (ID 430) — already indexed.\n",
      "Skipping Hitchin' a Ride (ID 431) — already indexed.\n",
      "Skipping Holiday (ID 432) — already indexed.\n",
      "Skipping Know Your Enemy (ID 433) — already indexed.\n",
      "Skipping Longview (ID 434) — already indexed.\n",
      "Skipping Minority (ID 435) — already indexed.\n",
      "Skipping The Forgotten (ID 436) — already indexed.\n",
      "Skipping Wake Me up When September Ends (ID 437) — already indexed.\n",
      "Skipping Warning (ID 438) — already indexed.\n",
      "Skipping Welcome to Paradise (ID 439) — already indexed.\n",
      "Skipping When I Come Around (ID 440) — already indexed.\n",
      "Skipping Bad At Love (ID 441) — already indexed.\n",
      "Skipping Graveyard (ID 442) — already indexed.\n",
      "Skipping New Americana (ID 443) — already indexed.\n",
      "Skipping Now Or Never (ID 444) — already indexed.\n",
      "Skipping Without Me (ID 445) — already indexed.\n",
      "Skipping You should be sad (ID 446) — already indexed.\n",
      "Skipping Adore You (ID 447) — already indexed.\n",
      "Skipping As It Was (ID 448) — already indexed.\n",
      "Skipping Falling (ID 449) — already indexed.\n",
      "Skipping Golden (ID 450) — already indexed.\n",
      "Skipping Kiwi (ID 451) — already indexed.\n",
      "Skipping Sign of the Times (ID 452) — already indexed.\n",
      "Skipping Treat People With Kindness (ID 453) — already indexed.\n",
      "Skipping Watermelon Sugar (ID 454) — already indexed.\n",
      "Skipping Bad Liar (ID 455) — already indexed.\n",
      "Skipping Believer (ID 456) — already indexed.\n",
      "Skipping Bones (ID 457) — already indexed.\n",
      "Skipping Demons (ID 458) — already indexed.\n",
      "Skipping Follow You (ID 459) — already indexed.\n",
      "Skipping It's Time (ID 460) — already indexed.\n",
      "Skipping Natural (ID 461) — already indexed.\n",
      "Skipping On Top Of The World (ID 462) — already indexed.\n",
      "Skipping Radioactive (ID 463) — already indexed.\n",
      "Skipping Roots (ID 464) — already indexed.\n",
      "Skipping Thunder (ID 465) — already indexed.\n",
      "Skipping Love Don't Cost a Thing (ID 472) — already indexed.\n",
      "Skipping Play (ID 473) — already indexed.\n",
      "Skipping Waiting for Tonight (ID 474) — already indexed.\n",
      "Skipping I Think I'm in Love with You (ID 475) — already indexed.\n",
      "Skipping I Wanna Love You Forever (ID 476) — already indexed.\n",
      "Skipping These Boots Are Made for Walkin' (ID 478) — already indexed.\n",
      "Skipping CAN'T STOP THE FEELING! (from DreamWorks Animation's \"TROLLS\") (ID 480) — already indexed.\n",
      "Skipping Cry Me a River (ID 481) — already indexed.\n",
      "Skipping Filthy (ID 482) — already indexed.\n",
      "Skipping FutureSex / LoveSound (ID 483) — already indexed.\n",
      "Skipping Like I Love You (ID 484) — already indexed.\n",
      "Skipping LoveStoned / I Think She Knows - Radio Edit (ID 485) — already indexed.\n",
      "Skipping Mirrors (ID 486) — already indexed.\n",
      "Skipping Mirrors - Radio Edit (ID 487) — already indexed.\n",
      "Skipping Rock Your Body (ID 488) — already indexed.\n",
      "Skipping Señorita (ID 489) — already indexed.\n",
      "Skipping SoulMate (ID 490) — already indexed.\n",
      "Skipping Summer Love (ID 491) — already indexed.\n",
      "Skipping What Goes Around...Comes Around - Radio Edit (ID 492) — already indexed.\n",
      "Skipping All Of The Lights - Album Version (Edited) (ID 493) — already indexed.\n",
      "Skipping Jesus Walks (ID 495) — already indexed.\n",
      "Skipping POWER - Album Version (Edited) (ID 496) — already indexed.\n",
      "Skipping Stronger (ID 497) — already indexed.\n",
      "Skipping Birthday (ID 498) — already indexed.\n",
      "Skipping Daisies (ID 499) — already indexed.\n",
      "Skipping Electric - Pokemon 25 Version (ID 500) — already indexed.\n",
      "Skipping Never Really Over (ID 508) — already indexed.\n",
      "Skipping Never Worn White (ID 509) — already indexed.\n",
      "Skipping One Of The Boys (ID 510) — already indexed.\n",
      "Skipping Part Of Me (ID 511) — already indexed.\n",
      "Skipping Rise (ID 512) — already indexed.\n",
      "Skipping Roar (ID 513) — already indexed.\n",
      "Skipping Smile (ID 514) — already indexed.\n",
      "Skipping Teenage Dream (ID 515) — already indexed.\n",
      "Skipping The One That Got Away (ID 516) — already indexed.\n",
      "Skipping This Is How We Do (ID 517) — already indexed.\n",
      "Skipping Unconditionally (ID 518) — already indexed.\n",
      "Skipping Waking Up In Vegas (ID 519) — already indexed.\n",
      "Skipping Walking On Air (ID 520) — already indexed.\n",
      "Skipping Wide Awake (ID 521) — already indexed.\n",
      "Skipping Already Gone (ID 522) — already indexed.\n",
      "Skipping Because of You (ID 523) — already indexed.\n",
      "Skipping Behind These Hazel Eyes (ID 524) — already indexed.\n",
      "Skipping Breakaway (ID 525) — already indexed.\n",
      "Skipping Invincible (ID 529) — already indexed.\n",
      "Skipping Love So Soft (ID 530) — already indexed.\n",
      "Skipping Miss Independent (ID 531) — already indexed.\n",
      "Skipping Mr. Know It All (ID 532) — already indexed.\n",
      "Skipping My Life Would Suck Without You (ID 533) — already indexed.\n",
      "Skipping Never Again (ID 534) — already indexed.\n",
      "Skipping Piece by Piece (ID 535) — already indexed.\n",
      "Skipping Since U Been Gone (ID 536) — already indexed.\n",
      "Skipping Stupid Love (ID 564) — already indexed.\n",
      "Skipping Someone (ID 537) — already indexed.\n",
      "Skipping Stronger (What Doesn't Kill You) (ID 538) — already indexed.\n",
      "Skipping The Trouble With Love Is (ID 539) — already indexed.\n",
      "Skipping Be Somebody (ID 541) — already indexed.\n",
      "Skipping Manhattan (ID 542) — already indexed.\n",
      "Skipping Notion (ID 543) — already indexed.\n",
      "Skipping On Call (ID 544) — already indexed.\n",
      "Skipping Pyro (ID 545) — already indexed.\n",
      "Skipping Radioactive (ID 546) — already indexed.\n",
      "Skipping Revelry (ID 547) — already indexed.\n",
      "Skipping Sex on Fire (ID 548) — already indexed.\n",
      "Skipping Supersoaker (ID 549) — already indexed.\n",
      "Skipping Use Somebody (ID 550) — already indexed.\n",
      "Skipping 911 (ID 551) — already indexed.\n",
      "Skipping Alejandro (ID 552) — already indexed.\n",
      "Skipping Applause (ID 553) — already indexed.\n",
      "Skipping Bad Romance (ID 554) — already indexed.\n",
      "Skipping Born This Way (ID 555) — already indexed.\n",
      "Skipping Eh, Eh (Nothing Else I Can Say) (ID 556) — already indexed.\n",
      "Skipping Hold My Hand (ID 557) — already indexed.\n",
      "Skipping Judas (ID 558) — already indexed.\n",
      "Skipping LoveGame (ID 559) — already indexed.\n",
      "Skipping Marry The Night (ID 560) — already indexed.\n",
      "Skipping Million Reasons (ID 561) — already indexed.\n",
      "Skipping Paparazzi (ID 562) — already indexed.\n",
      "Skipping Poker Face (ID 563) — already indexed.\n",
      "Skipping The Edge Of Glory (ID 566) — already indexed.\n",
      "Skipping You And I (ID 567) — already indexed.\n",
      "Skipping Young And Beautiful (ID 568) — already indexed.\n",
      "Skipping Black Dog - 1990 Remaster (ID 569) — already indexed.\n",
      "Skipping Black Dog - Remaster (ID 570) — already indexed.\n",
      "Skipping D'yer Mak'er - 1990 Remaster (ID 571) — already indexed.\n",
      "Skipping Good Times Bad Times - 1993 Remaster (ID 572) — already indexed.\n",
      "Skipping Immigrant Song - 1990 Remaster (ID 573) — already indexed.\n",
      "Skipping Kashmir - 1990 Remaster (ID 574) — already indexed.\n",
      "Skipping Rock and Roll - 1990 Remaster (ID 575) — already indexed.\n",
      "Skipping Stairway to Heaven - 1990 Remaster (ID 576) — already indexed.\n",
      "Skipping Whole Lotta Love - 1990 Remaster (ID 577) — already indexed.\n",
      "Skipping BURN IT DOWN (ID 578) — already indexed.\n",
      "Skipping Breaking the Habit (ID 579) — already indexed.\n",
      "Skipping In the End (ID 580) — already indexed.\n",
      "Skipping Leave Out All The Rest (ID 581) — already indexed.\n",
      "Skipping New Divide (ID 582) — already indexed.\n",
      "Skipping Numb (ID 583) — already indexed.\n",
      "Skipping One Step Closer (ID 584) — already indexed.\n",
      "Skipping Shadow of the Day (ID 585) — already indexed.\n",
      "Skipping Somewhere I Belong (ID 586) — already indexed.\n",
      "Skipping What I've Done (ID 587) — already indexed.\n",
      "Skipping Green Light (ID 588) — already indexed.\n",
      "Skipping Royals (ID 589) — already indexed.\n",
      "Skipping Solar Power (ID 590) — already indexed.\n",
      "Skipping Team (ID 591) — already indexed.\n",
      "Skipping Tennis Court (ID 592) — already indexed.\n",
      "Skipping The Love Club (ID 593) — already indexed.\n",
      "Skipping 4 Minutes (feat. Justin Timberlake & Timbaland) (ID 594) — already indexed.\n",
      "Skipping American Pie (ID 595) — already indexed.\n",
      "Skipping Angel (ID 596) — already indexed.\n",
      "Skipping Beautiful Stranger (ID 597) — already indexed.\n",
      "Skipping Borderline (ID 598) — already indexed.\n",
      "Skipping Burning Up (ID 599) — already indexed.\n",
      "Skipping Causing a Commotion (ID 600) — already indexed.\n",
      "Skipping Die Another Day (ID 603) — already indexed.\n",
      "Skipping Don't Cry for Me Argentina (ID 604) — already indexed.\n",
      "Skipping Don't Tell Me (ID 605) — already indexed.\n",
      "Skipping Dress You Up (ID 606) — already indexed.\n",
      "Skipping Erotica (ID 607) — already indexed.\n",
      "Skipping Express Yourself (ID 608) — already indexed.\n",
      "Skipping Frozen (ID 609) — already indexed.\n",
      "Skipping Give It 2 Me (ID 610) — already indexed.\n",
      "Skipping Hanky Panky (ID 611) — already indexed.\n",
      "Skipping Holiday (ID 612) — already indexed.\n",
      "Skipping Hung Up (ID 613) — already indexed.\n",
      "Skipping I'll Remember (Theme from the Motion Picture With Honors) (ID 614) — already indexed.\n",
      "Skipping Into the Groove (ID 615) — already indexed.\n",
      "Skipping Like a Prayer (ID 616) — already indexed.\n",
      "Skipping Like a Virgin (ID 617) — already indexed.\n",
      "Skipping Live to Tell (ID 618) — already indexed.\n",
      "Skipping Living For Love (ID 619) — already indexed.\n",
      "Skipping Material Girl (ID 620) — already indexed.\n",
      "Skipping Music (ID 621) — already indexed.\n",
      "Skipping Papa Don't Preach (ID 622) — already indexed.\n",
      "Skipping Rain (ID 623) — already indexed.\n",
      "Skipping Ray of Light (ID 624) — already indexed.\n",
      "Skipping Secret (ID 625) — already indexed.\n",
      "Skipping Sorry (ID 626) — already indexed.\n",
      "Skipping True Blue (ID 627) — already indexed.\n",
      "Skipping Vogue (ID 628) — already indexed.\n",
      "Skipping What It Feels Like for a Girl (ID 629) — already indexed.\n",
      "Skipping Who's That Girl (ID 630) — already indexed.\n",
      "Skipping Beautiful Goodbye (ID 631) — already indexed.\n",
      "Skipping Daylight (ID 632) — already indexed.\n",
      "Skipping It Was Always You (ID 635) — already indexed.\n",
      "Skipping Just A Feeling (ID 636) — already indexed.\n",
      "Skipping Love Somebody (ID 637) — already indexed.\n",
      "Skipping Makes Me Wonder (ID 638) — already indexed.\n",
      "Skipping Memories (ID 640) — already indexed.\n",
      "Skipping Misery (ID 641) — already indexed.\n",
      "Skipping Nobody's Love (ID 643) — already indexed.\n",
      "Skipping One More Night (ID 644) — already indexed.\n",
      "Skipping Sad (ID 645) — already indexed.\n",
      "Skipping She Will Be Loved (ID 646) — already indexed.\n",
      "Skipping Sugar (ID 647) — already indexed.\n",
      "Skipping Sunday Morning (ID 648) — already indexed.\n",
      "Skipping This Love (ID 649) — already indexed.\n",
      "Skipping Wait (ID 650) — already indexed.\n",
      "Skipping Wake Up Call (ID 651) — already indexed.\n",
      "Skipping Won't Go Home Without You (ID 652) — already indexed.\n",
      "Skipping Animals (ID 653) — already indexed.\n",
      "Skipping Animals - Radio Edit (ID 654) — already indexed.\n",
      "Skipping Savage (ID 655) — already indexed.\n",
      "Skipping Bad (ID 656) — already indexed.\n",
      "Skipping Beat It (ID 657) — already indexed.\n",
      "Skipping Ben - Single Version (ID 658) — already indexed.\n",
      "Skipping Billie Jean (ID 659) — already indexed.\n",
      "Skipping Black or White - Single Version (ID 660) — already indexed.\n",
      "Skipping Blood on the Dance Floor (ID 661) — already indexed.\n",
      "Skipping Come Together (ID 662) — already indexed.\n",
      "Skipping Don't Stop 'Til You Get Enough (ID 663) — already indexed.\n",
      "Skipping Give In to Me (ID 664) — already indexed.\n",
      "Skipping Heal the World (ID 665) — already indexed.\n",
      "Skipping In the Closet - Single Version (ID 666) — already indexed.\n",
      "Skipping Man in the Mirror (ID 667) — already indexed.\n",
      "Skipping P.Y.T. (Pretty Young Thing) (ID 668) — already indexed.\n",
      "Skipping Remember the Time (ID 669) — already indexed.\n",
      "Skipping Rock with You - Single Version (ID 670) — already indexed.\n",
      "Skipping Smooth Criminal - 2012 Remaster (ID 671) — already indexed.\n",
      "Skipping The Way You Make Me Feel - 2012 Remaster (ID 672) — already indexed.\n",
      "Skipping They Don't Care About Us (ID 673) — already indexed.\n",
      "Skipping Thriller (ID 674) — already indexed.\n",
      "Skipping You Are Not Alone (ID 675) — already indexed.\n",
      "Skipping You Are Not Alone - Single Version (ID 676) — already indexed.\n",
      "Skipping MK Ultra (ID 677) — already indexed.\n",
      "Skipping Madness (ID 678) — already indexed.\n",
      "Skipping Neutron Star Collision (Love Is Forever) - Soundtrack Version (ID 679) — already indexed.\n",
      "Skipping Resistance (ID 680) — already indexed.\n",
      "Skipping Starlight (ID 681) — already indexed.\n",
      "Skipping Supermassive Black Hole (ID 682) — already indexed.\n",
      "Skipping Undisclosed Desires (ID 683) — already indexed.\n",
      "Skipping Uprising (ID 684) — already indexed.\n",
      "Skipping All Good Things (Come To An End) (ID 685) — already indexed.\n",
      "Skipping All Good Things (Come To An End) - Radio Edit (ID 686) — already indexed.\n",
      "Skipping I'm Like A Bird (ID 687) — already indexed.\n",
      "Skipping Maneater (ID 688) — already indexed.\n",
      "Skipping Say It Right (ID 689) — already indexed.\n",
      "Skipping Try (ID 690) — already indexed.\n",
      "Skipping Turn Off The Light (ID 691) — already indexed.\n",
      "Skipping Anaconda (ID 692) — already indexed.\n",
      "Skipping Pills N Potions (ID 693) — already indexed.\n",
      "Skipping Pound The Alarm (ID 694) — already indexed.\n",
      "Skipping Starships (ID 695) — already indexed.\n",
      "Skipping Super Bass (ID 696) — already indexed.\n",
      "Skipping Super Freaky Girl (ID 697) — already indexed.\n",
      "Skipping About A Girl - Remastered (ID 698) — already indexed.\n",
      "Skipping All Apologies (ID 699) — already indexed.\n",
      "Skipping Come As You Are (ID 700) — already indexed.\n",
      "Skipping Spiderwebs (ID 711) — already indexed.\n",
      "Skipping Sunday Morning (ID 712) — already indexed.\n",
      "Skipping deja vu (ID 713) — already indexed.\n",
      "Skipping drivers license (ID 714) — already indexed.\n",
      "Skipping good 4 u (ID 715) — already indexed.\n",
      "Skipping vampire (ID 716) — already indexed.\n",
      "Skipping Apologize (ID 717) — already indexed.\n",
      "Skipping Counting Stars (ID 718) — already indexed.\n",
      "Skipping Didn't I (ID 719) — already indexed.\n",
      "Skipping I Ain't Worried (ID 720) — already indexed.\n",
      "Skipping I Lived (ID 721) — already indexed.\n",
      "Skipping Kids (ID 722) — already indexed.\n",
      "Skipping Love Runs Out (ID 723) — already indexed.\n",
      "Skipping Run (ID 724) — already indexed.\n",
      "Skipping Secrets (ID 725) — already indexed.\n",
      "Skipping Something I Need (ID 726) — already indexed.\n",
      "Skipping Stop And Stare (ID 727) — already indexed.\n",
      "Skipping Wherever I Go (ID 728) — already indexed.\n",
      "Skipping A Million Dreams (ID 729) — already indexed.\n",
      "Skipping All I Know So Far (ID 730) — already indexed.\n",
      "Skipping Ave Mary A (ID 731) — already indexed.\n",
      "Skipping Beautiful Trauma (ID 733) — already indexed.\n",
      "Skipping Blow Me (One Last Kiss) (ID 734) — already indexed.\n",
      "Skipping Blow Me (One Last Kiss) - Radio Edit (ID 735) — already indexed.\n",
      "Skipping Don't Let Me Get Me - Radio Edit (ID 736) — already indexed.\n",
      "Downloading audio from https://www.youtube.com/watch?v=ocDlOD1Hw9k...\n"
     ]
    },
    {
     "name": "stderr",
     "output_type": "stream",
     "text": [
      "  0%|          | 0/1053 [00:00<?, ?it/s]"
     ]
    },
    {
     "name": "stdout",
     "output_type": "stream",
     "text": [
      "                                                      \r    "
     ]
    },
    {
     "name": "stderr",
     "output_type": "stream",
     "text": [
      "100%|██████████| 1053/1053 [00:40<00:00, 25.86it/s]\n"
     ]
    },
    {
     "data": {
      "text/plain": [
       "<src.abracadabra.GCPFingerprintDB.GCPFingerprintDB at 0x7f240b526440>"
      ]
     },
     "execution_count": 1,
     "metadata": {},
     "output_type": "execute_result"
    }
   ],
   "execution_count": 1
  },
  {
   "metadata": {},
   "cell_type": "code",
   "outputs": [],
   "execution_count": null,
   "source": "",
   "id": "fd39f98eb33f93ce"
  }
 ],
 "metadata": {
  "kernelspec": {
   "display_name": "Python 3",
   "language": "python",
   "name": "python3"
  },
  "language_info": {
   "codemirror_mode": {
    "name": "ipython",
    "version": 2
   },
   "file_extension": ".py",
   "mimetype": "text/x-python",
   "name": "python",
   "nbconvert_exporter": "python",
   "pygments_lexer": "ipython2",
   "version": "2.7.6"
  }
 },
 "nbformat": 4,
 "nbformat_minor": 5
}
