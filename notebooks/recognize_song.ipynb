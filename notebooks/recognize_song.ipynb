{
 "cells": [
  {
   "cell_type": "code",
   "id": "initial_id",
   "metadata": {
    "collapsed": true,
    "ExecuteTime": {
     "end_time": "2025-04-22T21:23:36.720874Z",
     "start_time": "2025-04-22T21:23:36.302220Z"
    }
   },
   "source": "from src.recognize import load_database, recognize_song",
   "outputs": [],
   "execution_count": 1
  },
  {
   "metadata": {
    "ExecuteTime": {
     "end_time": "2025-04-22T21:23:44.854320Z",
     "start_time": "2025-04-22T21:23:36.721835Z"
    }
   },
   "cell_type": "code",
   "source": [
    "db = load_database(\"../songs\")\n",
    "match = recognize_song(\"../recordings/Bad_org_01.m4a\", db)\n",
    "\n",
    "if match:\n",
    "    print(f\"Matched: {match[0]} (score: {match[1]})\")\n",
    "else:\n",
    "    print(\"No match found.\")"
   ],
   "id": "fa821927e78bbdf",
   "outputs": [
    {
     "name": "stdout",
     "output_type": "stream",
     "text": [
      "Matched: I Did Something Bad.m4a (score: 62)\n"
     ]
    }
   ],
   "execution_count": 2
  },
  {
   "metadata": {
    "ExecuteTime": {
     "end_time": "2025-04-22T21:23:44.856658Z",
     "start_time": "2025-04-22T21:23:44.855056Z"
    }
   },
   "cell_type": "code",
   "source": "",
   "id": "c0101d33df57df4d",
   "outputs": [],
   "execution_count": 2
  }
 ],
 "metadata": {
  "kernelspec": {
   "display_name": "Python 3",
   "language": "python",
   "name": "python3"
  },
  "language_info": {
   "codemirror_mode": {
    "name": "ipython",
    "version": 2
   },
   "file_extension": ".py",
   "mimetype": "text/x-python",
   "name": "python",
   "nbconvert_exporter": "python",
   "pygments_lexer": "ipython2",
   "version": "2.7.6"
  }
 },
 "nbformat": 4,
 "nbformat_minor": 5
}
